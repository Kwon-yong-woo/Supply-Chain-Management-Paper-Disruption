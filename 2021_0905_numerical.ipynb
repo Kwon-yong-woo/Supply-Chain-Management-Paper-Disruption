{
 "cells": [
  {
   "cell_type": "code",
   "execution_count": 1,
   "metadata": {},
   "outputs": [],
   "source": [
    "import pandas as pd\n",
    "import numpy as np\n",
    "import sympy\n",
    "from sympy.solvers.inequalities import reduce_rational_inequalities,reduce_inequalities\n",
    "from itertools import chain\n",
    "from collections import defaultdict\n",
    "from IPython.display import display\n",
    "\n",
    "from sympy.parsing.sympy_parser import parse_expr\n",
    "from sympy.parsing.sympy_parser import standard_transformations\n",
    "from sympy.printing.mathml import print_mathml\n",
    "import math\n",
    "from IPython.display import display, Markdown, Latex\n",
    "import os\n",
    "\n",
    "import seaborn as sns\n",
    "import matplotlib.pyplot as plt\n",
    "\n",
    "def make_symbols_positive(sym):\n",
    "    return sympy.symbols(\"{}\".format(sym),positive =True)\n",
    "\n",
    "def make_symbols_function(sym):\n",
    "    return sympy.symbols(\"{}\".format(sym),cl)\n",
    "\n",
    "def subs_function(target,list_):\n",
    "    return sympy.simplify(target.subs(list_))\n",
    "\n",
    "def root_cal(value):\n",
    "    return value**(1/2)"
   ]
  },
  {
   "cell_type": "code",
   "execution_count": 2,
   "metadata": {},
   "outputs": [
    {
     "name": "stdout",
     "output_type": "stream",
     "text": [
      "\u001b[1mHello World !\u001b[0m\n"
     ]
    }
   ],
   "source": [
    "class color:\n",
    "   PURPLE = '\\033[95m'\n",
    "   CYAN = '\\033[96m'\n",
    "   DARKCYAN = '\\033[36m'\n",
    "   BLUE = '\\033[94m'\n",
    "   GREEN = '\\033[92m'\n",
    "   YELLOW = '\\033[93m'\n",
    "   RED = '\\033[91m'\n",
    "   BOLD = '\\033[1m'\n",
    "   UNDERLINE = '\\033[4m'\n",
    "   END = '\\033[0m'\n",
    "\n",
    "print(color.BOLD + 'Hello World !' + color.END)"
   ]
  },
  {
   "cell_type": "markdown",
   "metadata": {},
   "source": [
    "# w_range"
   ]
  },
  {
   "cell_type": "code",
   "execution_count": 3,
   "metadata": {},
   "outputs": [],
   "source": [
    "def sol_w_same(df_1,target_):\n",
    "    w_sol = sympy.solve([df_1[\"QD\"][target_]-df_1[\"FB\"][target_]],w)\n",
    "    return w_sol"
   ]
  },
  {
   "cell_type": "code",
   "execution_count": 4,
   "metadata": {},
   "outputs": [],
   "source": [
    "def sol_w_other(df_1,equa):\n",
    "    w_sol = sympy.solve(equa,w)\n",
    "    return w_sol"
   ]
  },
  {
   "cell_type": "code",
   "execution_count": 5,
   "metadata": {},
   "outputs": [],
   "source": [
    "def display_solve(df_1,w_sol):\n",
    "    for row,col in df_1.iterrows():\n",
    "        print(row)\n",
    "        try:\n",
    "            display(col[\"QD\"].subs([(w,w_sol)]).factor())\n",
    "        except:\n",
    "            print()\n",
    "        print()"
   ]
  },
  {
   "cell_type": "code",
   "execution_count": 6,
   "metadata": {},
   "outputs": [],
   "source": [
    "def display_solve2(df_1,w_sol):\n",
    "    for row,col in df_1.iterrows():\n",
    "        print(row)\n",
    "        try:\n",
    "            display(col[\"QD\"].subs([(w,w_sol)]).simplify())\n",
    "        except:\n",
    "            print()\n",
    "        print()"
   ]
  },
  {
   "cell_type": "code",
   "execution_count": 7,
   "metadata": {},
   "outputs": [],
   "source": [
    "def display_w_insert(df_,w_1):\n",
    "    order_ = [\"w\",\"epsilon\",\"t\",\"p\",\"q_nd\",\"q_t\",\"q\",\"profit_r\",\"profit_s\",\"profit_all\",\"h1_r_p\",\"h1_s_w\",\"h1_s_e\"]\n",
    "    if w_1 == \"WH\":\n",
    "        for ord_ in order_:\n",
    "            try:\n",
    "                value_ = df_[1][ord_].factor()\n",
    "                value_2 = df_[1][ord_].simplify()\n",
    "                print(color.RED + ord_ + color.END)\n",
    "                display(\"factor: \",value_)\n",
    "                display(\"simplify: \",value_2)\n",
    "                print(\"-\"*40)\n",
    "            except:\n",
    "                print(color.RED + ord_ + color.END)\n",
    "                print(\"-\"*40)\n",
    "    else:\n",
    "        for ord_ in order_:\n",
    "            try:\n",
    "                value_ = df_[1][ord_].subs([(w,w_1)]).factor()\n",
    "                value_2 = df_[1][ord_].subs([(w,w_1)]).simplify()\n",
    "                print(color.RED + ord_ + color.END)\n",
    "                display(\"factor: \",value_)\n",
    "                display(\"simplify: \",value_2)\n",
    "                print(\"-\"*40)\n",
    "            except:\n",
    "                print(color.RED + ord_ + color.END)\n",
    "                print(\"-\"*40)"
   ]
  },
  {
   "cell_type": "code",
   "execution_count": 8,
   "metadata": {},
   "outputs": [],
   "source": [
    "Path_ = r\"C:\\Users\\Samsung\\jupyter\\Graduation_thesis\\result\\version_total_3\""
   ]
  },
  {
   "cell_type": "code",
   "execution_count": 9,
   "metadata": {},
   "outputs": [],
   "source": [
    "file_list = os.listdir(Path_)\n",
    "file_list_xlsx = [f for f in file_list if f.endswith(\".xlsx\")]\n",
    "#file_FB = [f for f in file_list_xlsx if f.contains(\"FB\")]\n",
    "#file_WH = [f for f in file_list_xlsx if f.contains(\"WH\")]\n",
    "#file_QD = [f for f in file_list_xlsx if f.contains(\"QD\")]"
   ]
  },
  {
   "cell_type": "code",
   "execution_count": 10,
   "metadata": {},
   "outputs": [
    {
     "data": {
      "text/plain": [
       "['KN_BD_FB',\n",
       " 'KN_BD_QD',\n",
       " 'KN_BD_WH',\n",
       " 'KN_BS_FB',\n",
       " 'KN_BS_QD',\n",
       " 'KN_BS_WH',\n",
       " 'KN_DD_FB',\n",
       " 'KN_DD_QD',\n",
       " 'KN_DD_WH',\n",
       " 'KN_SD_FB',\n",
       " 'KN_SD_QD',\n",
       " 'KN_SD_WH',\n",
       " 'ND_FB',\n",
       " 'ND_QD',\n",
       " 'ND_WH',\n",
       " 'UN_BD_QD',\n",
       " 'UN_BD_WH',\n",
       " 'UN_BS_QD',\n",
       " 'UN_BS_WH',\n",
       " 'UN_DD_QD',\n",
       " 'UN_DD_WH',\n",
       " 'UN_SD_QD',\n",
       " 'UN_SD_WH']"
      ]
     },
     "execution_count": 10,
     "metadata": {},
     "output_type": "execute_result"
    }
   ],
   "source": [
    "file_name = [li.replace(\".xlsx\",\"\") for li in file_list_xlsx]\n",
    "file_name"
   ]
  },
  {
   "cell_type": "code",
   "execution_count": 11,
   "metadata": {},
   "outputs": [],
   "source": [
    "for fn in file_name:\n",
    "    path_ = Path_ + \"\\\\{}.xlsx\"\n",
    "    globals() [\"{}\".format(fn)] = pd.read_excel(path_.format(fn),index_col=0,header=None)\n",
    "    try:\n",
    "        globals() [\"{}\".format(fn)] = globals() [\"{}\".format(fn)]#.rename(index={\"profit_all\":\"pro_all\"})\n",
    "    except:\n",
    "        pass"
   ]
  },
  {
   "cell_type": "code",
   "execution_count": 12,
   "metadata": {},
   "outputs": [],
   "source": [
    "p,w,c,s,alpha,beta,delta_d,delta_s,epsilon,psi = make_symbols_positive(\"p,w,c,s,alpha,beta,delta_d,delta_s,epsilon,psi\")"
   ]
  },
  {
   "cell_type": "code",
   "execution_count": 13,
   "metadata": {},
   "outputs": [],
   "source": [
    "parse_dic = {\"p\":p,\"w\":w,\"c\":c,\"s\":s\n",
    "             ,\"alpha\":alpha,\"beta\":beta\n",
    "             ,\"delta_d\":delta_d,\"delta_s\":delta_s,\"epsilon\":epsilon }"
   ]
  },
  {
   "cell_type": "code",
   "execution_count": 14,
   "metadata": {},
   "outputs": [],
   "source": [
    "for fn in file_name:\n",
    "    globals() [\"{}\".format(fn)][1] = globals() [\"{}\".format(fn)][1].map(lambda x: parse_expr(x.replace(\"^\",\"**\").replace(\"lambda\",\"lambda_\"),parse_dic))"
   ]
  },
  {
   "cell_type": "code",
   "execution_count": null,
   "metadata": {},
   "outputs": [],
   "source": []
  },
  {
   "cell_type": "markdown",
   "metadata": {},
   "source": [
    "# Un cases"
   ]
  },
  {
   "cell_type": "code",
   "execution_count": 15,
   "metadata": {},
   "outputs": [
    {
     "data": {
      "text/latex": [
       "$\\displaystyle \\frac{- \\alpha + 2 \\beta c + \\sqrt{2} \\left(\\alpha - \\beta c\\right)}{\\beta}$"
      ],
      "text/plain": [
       "(-alpha + 2*beta*c + sqrt(2)*(alpha - beta*c))/beta"
      ]
     },
     "execution_count": 15,
     "metadata": {},
     "output_type": "execute_result"
    }
   ],
   "source": [
    "solve_ws = sympy.solve((ND_QD[1][\"profit_s\"]-ND_WH[1][\"profit_s\"]).factor(),w)\n",
    "w_w = solve_ws[1]\n",
    "w_w"
   ]
  },
  {
   "cell_type": "code",
   "execution_count": 16,
   "metadata": {},
   "outputs": [
    {
     "data": {
      "text/latex": [
       "$\\displaystyle \\frac{\\alpha}{\\beta}$"
      ],
      "text/plain": [
       "alpha/beta"
      ]
     },
     "execution_count": 16,
     "metadata": {},
     "output_type": "execute_result"
    }
   ],
   "source": [
    "solve_w = sympy.solve((ND_QD[1][\"profit_all\"]-ND_FB[1][\"profit_all\"]).factor(),w)\n",
    "w_c = solve_w[0]\n",
    "w_c"
   ]
  },
  {
   "cell_type": "markdown",
   "metadata": {},
   "source": [
    "# 1. DD case"
   ]
  },
  {
   "cell_type": "code",
   "execution_count": 17,
   "metadata": {},
   "outputs": [],
   "source": [
    "time_ = \"UN\"\n",
    "dis_ = \"DD\"\n",
    "\n",
    "\n",
    "tar_wh = globals() [\"{}_{}_WH\".format(time_,dis_)]\n",
    "tar_qd = globals() [\"{}_{}_QD\".format(time_,dis_)]\n",
    "\n"
   ]
  },
  {
   "cell_type": "code",
   "execution_count": 18,
   "metadata": {},
   "outputs": [],
   "source": [
    "\n",
    "globals() [\"{}_{}_QD{}\".format(time_,dis_,\"W\")] = pd.DataFrame(tar_qd[1].map(lambda x : x.subs([(w,w_w)]).factor()))  \n",
    "globals() [\"{}_{}_QD{}\".format(time_,dis_,\"C\")] = pd.DataFrame(tar_qd[1].map(lambda x : x.subs([(w,w_c)]).factor()))  \n"
   ]
  },
  {
   "cell_type": "code",
   "execution_count": null,
   "metadata": {},
   "outputs": [],
   "source": []
  },
  {
   "cell_type": "code",
   "execution_count": 19,
   "metadata": {},
   "outputs": [],
   "source": [
    "time_ = \"UN\"\n",
    "diss_ = [\"DD\",\"SD\",\"BD\",\"BS\"]\n",
    "\n",
    "for dis_ in diss_:\n",
    "    tar_wh = globals() [\"{}_{}_WH\".format(time_,dis_)]\n",
    "    tar_qd = globals() [\"{}_{}_QD\".format(time_,dis_)]\n",
    "    globals() [\"{}_{}_QD{}\".format(time_,dis_,\"W\")] = pd.DataFrame(tar_qd[1].map(lambda x : x.subs([(w,w_w)]).factor()))  \n",
    "    globals() [\"{}_{}_QD{}\".format(time_,dis_,\"C\")] = pd.DataFrame(tar_qd[1].map(lambda x : x.subs([(w,w_c)]).factor()))  "
   ]
  },
  {
   "cell_type": "code",
   "execution_count": 20,
   "metadata": {},
   "outputs": [
    {
     "data": {
      "text/html": [
       "<div>\n",
       "<style scoped>\n",
       "    .dataframe tbody tr th:only-of-type {\n",
       "        vertical-align: middle;\n",
       "    }\n",
       "\n",
       "    .dataframe tbody tr th {\n",
       "        vertical-align: top;\n",
       "    }\n",
       "\n",
       "    .dataframe thead th {\n",
       "        text-align: right;\n",
       "    }\n",
       "</style>\n",
       "<table border=\"1\" class=\"dataframe\">\n",
       "  <thead>\n",
       "    <tr style=\"text-align: right;\">\n",
       "      <th></th>\n",
       "      <th>1</th>\n",
       "    </tr>\n",
       "    <tr>\n",
       "      <th>0</th>\n",
       "      <th></th>\n",
       "    </tr>\n",
       "  </thead>\n",
       "  <tbody>\n",
       "    <tr>\n",
       "      <th>p</th>\n",
       "      <td>-(-alpha + beta*s)/(2*beta)</td>\n",
       "    </tr>\n",
       "    <tr>\n",
       "      <th>w</th>\n",
       "      <td>-(-sqrt(2)*alpha + alpha - 2*beta*c + sqrt(2)*...</td>\n",
       "    </tr>\n",
       "    <tr>\n",
       "      <th>epsilon</th>\n",
       "      <td>sqrt(2)*(-4 + 3*sqrt(2))/(2*beta)</td>\n",
       "    </tr>\n",
       "    <tr>\n",
       "      <th>q_d</th>\n",
       "      <td>-(alpha + beta*s)*(delta_d - 1)/2</td>\n",
       "    </tr>\n",
       "    <tr>\n",
       "      <th>q_nd</th>\n",
       "      <td>-sqrt(2)*(-alpha + beta*c)/4</td>\n",
       "    </tr>\n",
       "    <tr>\n",
       "      <th>q_t</th>\n",
       "      <td>sqrt(2)*(-alpha + beta*c)*(delta_s - 1)/4</td>\n",
       "    </tr>\n",
       "    <tr>\n",
       "      <th>t</th>\n",
       "      <td>-(-sqrt(2)*alpha - 4*beta*c + sqrt(2)*beta*c)/...</td>\n",
       "    </tr>\n",
       "    <tr>\n",
       "      <th>profit_r</th>\n",
       "      <td>-(2*alpha**2*delta_d - alpha**2*delta_s - alph...</td>\n",
       "    </tr>\n",
       "    <tr>\n",
       "      <th>profit_s</th>\n",
       "      <td>-(-alpha + beta*c)**2*(delta_s - 1)/(8*beta)</td>\n",
       "    </tr>\n",
       "    <tr>\n",
       "      <th>profit_all</th>\n",
       "      <td>-(alpha**2*delta_d - alpha**2 - sqrt(2)*alpha*...</td>\n",
       "    </tr>\n",
       "    <tr>\n",
       "      <th>h1_r_p</th>\n",
       "      <td>2*beta*(delta_d - 1)</td>\n",
       "    </tr>\n",
       "    <tr>\n",
       "      <th>h1_s_w</th>\n",
       "      <td>-beta*(-1 + 2*sqrt(2))/(4*(-2 + sqrt(2))**2)</td>\n",
       "    </tr>\n",
       "    <tr>\n",
       "      <th>h1_s_e</th>\n",
       "      <td>-beta*(-alpha + beta*c)**2/(8*(-2 + sqrt(2))**2)</td>\n",
       "    </tr>\n",
       "  </tbody>\n",
       "</table>\n",
       "</div>"
      ],
      "text/plain": [
       "                                                            1\n",
       "0                                                            \n",
       "p                                 -(-alpha + beta*s)/(2*beta)\n",
       "w           -(-sqrt(2)*alpha + alpha - 2*beta*c + sqrt(2)*...\n",
       "epsilon                     sqrt(2)*(-4 + 3*sqrt(2))/(2*beta)\n",
       "q_d                         -(alpha + beta*s)*(delta_d - 1)/2\n",
       "q_nd                             -sqrt(2)*(-alpha + beta*c)/4\n",
       "q_t                 sqrt(2)*(-alpha + beta*c)*(delta_s - 1)/4\n",
       "t           -(-sqrt(2)*alpha - 4*beta*c + sqrt(2)*beta*c)/...\n",
       "profit_r    -(2*alpha**2*delta_d - alpha**2*delta_s - alph...\n",
       "profit_s         -(-alpha + beta*c)**2*(delta_s - 1)/(8*beta)\n",
       "profit_all  -(alpha**2*delta_d - alpha**2 - sqrt(2)*alpha*...\n",
       "h1_r_p                                   2*beta*(delta_d - 1)\n",
       "h1_s_w           -beta*(-1 + 2*sqrt(2))/(4*(-2 + sqrt(2))**2)\n",
       "h1_s_e       -beta*(-alpha + beta*c)**2/(8*(-2 + sqrt(2))**2)"
      ]
     },
     "execution_count": 20,
     "metadata": {},
     "output_type": "execute_result"
    }
   ],
   "source": [
    "UN_BD_QDW"
   ]
  },
  {
   "cell_type": "code",
   "execution_count": 21,
   "metadata": {},
   "outputs": [
    {
     "data": {
      "text/latex": [
       "$\\displaystyle - \\frac{2 \\alpha^{2} \\delta_{d} - \\alpha^{2} \\delta_{s} - \\alpha^{2} - 2 \\sqrt{2} \\alpha \\beta c \\delta_{s} + 2 \\alpha \\beta c \\delta_{s} - 2 \\alpha \\beta c + 2 \\sqrt{2} \\alpha \\beta c + 4 \\alpha \\beta \\delta_{d} s - 2 \\sqrt{2} \\alpha \\beta \\delta_{s} s - 4 \\alpha \\beta s + 2 \\sqrt{2} \\alpha \\beta s - \\beta^{2} c^{2} \\delta_{s} + 2 \\sqrt{2} \\beta^{2} c^{2} \\delta_{s} - 2 \\sqrt{2} \\beta^{2} c^{2} + \\beta^{2} c^{2} + 2 \\sqrt{2} \\beta^{2} c \\delta_{s} s - 2 \\sqrt{2} \\beta^{2} c s + 2 \\beta^{2} \\delta_{d} s^{2} - 2 \\beta^{2} s^{2}}{8 \\beta}$"
      ],
      "text/plain": [
       "-(2*alpha**2*delta_d - alpha**2*delta_s - alpha**2 - 2*sqrt(2)*alpha*beta*c*delta_s + 2*alpha*beta*c*delta_s - 2*alpha*beta*c + 2*sqrt(2)*alpha*beta*c + 4*alpha*beta*delta_d*s - 2*sqrt(2)*alpha*beta*delta_s*s - 4*alpha*beta*s + 2*sqrt(2)*alpha*beta*s - beta**2*c**2*delta_s + 2*sqrt(2)*beta**2*c**2*delta_s - 2*sqrt(2)*beta**2*c**2 + beta**2*c**2 + 2*sqrt(2)*beta**2*c*delta_s*s - 2*sqrt(2)*beta**2*c*s + 2*beta**2*delta_d*s**2 - 2*beta**2*s**2)/(8*beta)"
      ]
     },
     "execution_count": 21,
     "metadata": {},
     "output_type": "execute_result"
    }
   ],
   "source": [
    "UN_BD_QDW[1][\"profit_r\"]"
   ]
  },
  {
   "cell_type": "code",
   "execution_count": null,
   "metadata": {},
   "outputs": [],
   "source": []
  },
  {
   "cell_type": "code",
   "execution_count": 22,
   "metadata": {},
   "outputs": [
    {
     "data": {
      "text/latex": [
       "$\\displaystyle \\frac{\\alpha - 2 \\sqrt{2} \\beta c + 3 \\beta c}{2 \\beta \\left(2 - \\sqrt{2}\\right)}$"
      ],
      "text/plain": [
       "(alpha - 2*sqrt(2)*beta*c + 3*beta*c)/(2*beta*(2 - sqrt(2)))"
      ]
     },
     "execution_count": 22,
     "metadata": {},
     "output_type": "execute_result"
    }
   ],
   "source": [
    "eq_ = (UN_BS_QDW[1][\"profit_r\"]-UN_BS_QDC[1][\"profit_r\"]).factor()\n",
    "s_up = sympy.solve(eq_,s)[0]\n",
    "s_up"
   ]
  },
  {
   "cell_type": "code",
   "execution_count": 23,
   "metadata": {},
   "outputs": [
    {
     "data": {
      "text/latex": [
       "$\\displaystyle \\frac{\\alpha + \\beta c}{2 \\beta}$"
      ],
      "text/plain": [
       "(alpha + beta*c)/(2*beta)"
      ]
     },
     "execution_count": 23,
     "metadata": {},
     "output_type": "execute_result"
    }
   ],
   "source": [
    "eq_ = (UN_BS_WH[1][\"profit_r\"]-UN_BS_QDC[1][\"profit_r\"]).factor()\n",
    "s_down = sympy.solve(eq_,s)[0]\n",
    "s_down"
   ]
  },
  {
   "cell_type": "code",
   "execution_count": null,
   "metadata": {},
   "outputs": [],
   "source": []
  },
  {
   "cell_type": "code",
   "execution_count": 24,
   "metadata": {},
   "outputs": [],
   "source": [
    "## Demand disruption\n",
    "\n",
    "n_d = 0.5\n",
    "n_s = 0.3\n",
    "#s_ = \n",
    "\n",
    "para_ = [(alpha,1200),(beta,7),(c,50),(delta_d,n_d),(delta_s,n_s)]\n",
    "\n",
    "s_up_d = s_up.subs(para_).factor().simplify()\n",
    "s_down_d = s_down.subs(para_).factor().simplify()"
   ]
  },
  {
   "cell_type": "code",
   "execution_count": 25,
   "metadata": {},
   "outputs": [
    {
     "data": {
      "text/plain": [
       "153.64576885775466"
      ]
     },
     "execution_count": 25,
     "metadata": {},
     "output_type": "execute_result"
    }
   ],
   "source": [
    "float(s_up_d)"
   ]
  },
  {
   "cell_type": "code",
   "execution_count": 26,
   "metadata": {},
   "outputs": [
    {
     "data": {
      "text/plain": [
       "110.71428571428571"
      ]
     },
     "execution_count": 26,
     "metadata": {},
     "output_type": "execute_result"
    }
   ],
   "source": [
    "float(s_down_d)"
   ]
  },
  {
   "cell_type": "code",
   "execution_count": 27,
   "metadata": {},
   "outputs": [],
   "source": [
    "#s_ = float(-s_up_d) - 0.0001\n",
    "s_ = float(-s_down_d)\n",
    "#s_ = 110\n",
    "para_ = [(alpha,1200),(beta,7),(c,50),(delta_d,n_d),(delta_s,n_s),(s,s_)]\n",
    "\n",
    "\n",
    "time_ = \"UN\"\n",
    "diss_ = [\"DD\",\"BD\"]\n",
    "\n",
    "for dis_ in diss_:\n",
    "    tar_wh = globals() [\"{}_{}_WH\".format(time_,dis_)]\n",
    "    tar_qdc = globals() [\"{}_{}_QDC\".format(time_,dis_)]\n",
    "    tar_qdw = globals() [\"{}_{}_QDW\".format(time_,dis_)]\n",
    "    \n",
    "    \n",
    "    globals() [\"{}_{}_WH_N\".format(time_,dis_)] = pd.DataFrame(tar_wh[1].map(lambda x : x.subs(para_).simplify()))  \n",
    "    globals() [\"{}_{}_QDW_N\".format(time_,dis_)] = pd.DataFrame(tar_qdw[1].map(lambda x : x.subs(para_).simplify()))  \n",
    "    globals() [\"{}_{}_QDC_N\".format(time_,dis_)] = pd.DataFrame(tar_qdc[1].map(lambda x : x.subs(para_).simplify()))  "
   ]
  },
  {
   "cell_type": "code",
   "execution_count": 28,
   "metadata": {},
   "outputs": [
    {
     "data": {
      "text/plain": [
       "3225.4464285714257"
      ]
     },
     "execution_count": 28,
     "metadata": {},
     "output_type": "execute_result"
    }
   ],
   "source": [
    "float(UN_BD_WH_N[1][\"profit_r\"])"
   ]
  },
  {
   "cell_type": "code",
   "execution_count": 29,
   "metadata": {},
   "outputs": [
    {
     "data": {
      "text/plain": [
       "6966.31266375345"
      ]
     },
     "execution_count": 29,
     "metadata": {},
     "output_type": "execute_result"
    }
   ],
   "source": [
    "float(UN_BD_QDW_N[1][\"profit_r\"])"
   ]
  },
  {
   "cell_type": "code",
   "execution_count": 30,
   "metadata": {},
   "outputs": [
    {
     "data": {
      "text/plain": [
       "3225.4464285714266"
      ]
     },
     "execution_count": 30,
     "metadata": {},
     "output_type": "execute_result"
    }
   ],
   "source": [
    "float(UN_BD_QDC_N[1][\"profit_r\"])"
   ]
  },
  {
   "cell_type": "code",
   "execution_count": 31,
   "metadata": {},
   "outputs": [
    {
     "data": {
      "text/plain": [
       "-3740.866235182023"
      ]
     },
     "execution_count": 31,
     "metadata": {},
     "output_type": "execute_result"
    }
   ],
   "source": [
    "float(UN_BD_QDC_N[1][\"profit_r\"]) - float(UN_BD_QDW_N[1][\"profit_r\"])"
   ]
  },
  {
   "cell_type": "code",
   "execution_count": null,
   "metadata": {},
   "outputs": [],
   "source": []
  },
  {
   "cell_type": "code",
   "execution_count": null,
   "metadata": {},
   "outputs": [],
   "source": []
  },
  {
   "cell_type": "code",
   "execution_count": null,
   "metadata": {},
   "outputs": [],
   "source": []
  },
  {
   "cell_type": "code",
   "execution_count": 32,
   "metadata": {},
   "outputs": [
    {
     "data": {
      "text/plain": [
       "6966.31266375345"
      ]
     },
     "execution_count": 32,
     "metadata": {},
     "output_type": "execute_result"
    }
   ],
   "source": [
    "float(UN_BD_QDW_N[1][\"profit_r\"])"
   ]
  },
  {
   "cell_type": "code",
   "execution_count": 33,
   "metadata": {},
   "outputs": [
    {
     "data": {
      "text/plain": [
       "3225.4464285714266"
      ]
     },
     "execution_count": 33,
     "metadata": {},
     "output_type": "execute_result"
    }
   ],
   "source": [
    "float(UN_BD_QDC_N[1][\"profit_r\"])"
   ]
  },
  {
   "cell_type": "code",
   "execution_count": 34,
   "metadata": {},
   "outputs": [
    {
     "data": {
      "text/plain": [
       "-3740.866235182023"
      ]
     },
     "execution_count": 34,
     "metadata": {},
     "output_type": "execute_result"
    }
   ],
   "source": [
    "float(UN_BD_QDC_N[1][\"profit_r\"]) - float(UN_BD_QDW_N[1][\"profit_r\"])"
   ]
  },
  {
   "cell_type": "code",
   "execution_count": null,
   "metadata": {},
   "outputs": [],
   "source": []
  },
  {
   "cell_type": "code",
   "execution_count": 35,
   "metadata": {},
   "outputs": [
    {
     "data": {
      "text/plain": [
       "6966.31266375345"
      ]
     },
     "execution_count": 35,
     "metadata": {},
     "output_type": "execute_result"
    }
   ],
   "source": [
    "float(UN_BD_QDW_N[1][\"profit_r\"])"
   ]
  },
  {
   "cell_type": "code",
   "execution_count": 36,
   "metadata": {},
   "outputs": [
    {
     "data": {
      "text/plain": [
       "3225.4464285714266"
      ]
     },
     "execution_count": 36,
     "metadata": {},
     "output_type": "execute_result"
    }
   ],
   "source": [
    "float(UN_BD_QDC_N[1][\"profit_r\"])"
   ]
  },
  {
   "cell_type": "code",
   "execution_count": 37,
   "metadata": {},
   "outputs": [
    {
     "data": {
      "text/plain": [
       "-3740.866235182023"
      ]
     },
     "execution_count": 37,
     "metadata": {},
     "output_type": "execute_result"
    }
   ],
   "source": [
    "float(UN_BD_QDC_N[1][\"profit_r\"]) - float(UN_BD_QDW_N[1][\"profit_r\"])"
   ]
  },
  {
   "cell_type": "code",
   "execution_count": null,
   "metadata": {},
   "outputs": [],
   "source": []
  },
  {
   "cell_type": "code",
   "execution_count": null,
   "metadata": {},
   "outputs": [],
   "source": []
  },
  {
   "cell_type": "code",
   "execution_count": null,
   "metadata": {},
   "outputs": [],
   "source": []
  },
  {
   "cell_type": "code",
   "execution_count": 140,
   "metadata": {},
   "outputs": [],
   "source": [
    "## Supply disruption\n",
    "\n",
    "n_d = 0.3\n",
    "n_s = 0.6\n",
    "#s_ = \n",
    "\n",
    "para_ = [(alpha,1200),(beta,7),(c,50),(delta_d,n_d),(delta_s,n_s)]\n",
    "\n",
    "s_up_d = s_up.subs(para_).factor().simplify()\n",
    "s_down_d = s_down.subs(para_).factor().simplify()"
   ]
  },
  {
   "cell_type": "code",
   "execution_count": 141,
   "metadata": {},
   "outputs": [
    {
     "data": {
      "text/plain": [
       "153.64576885775466"
      ]
     },
     "execution_count": 141,
     "metadata": {},
     "output_type": "execute_result"
    }
   ],
   "source": [
    "float(s_up_d)"
   ]
  },
  {
   "cell_type": "code",
   "execution_count": 142,
   "metadata": {},
   "outputs": [
    {
     "data": {
      "text/plain": [
       "110.71428571428571"
      ]
     },
     "execution_count": 142,
     "metadata": {},
     "output_type": "execute_result"
    }
   ],
   "source": [
    "float(s_down_d)"
   ]
  },
  {
   "cell_type": "code",
   "execution_count": null,
   "metadata": {},
   "outputs": [],
   "source": []
  },
  {
   "cell_type": "code",
   "execution_count": 153,
   "metadata": {},
   "outputs": [],
   "source": [
    "#s_ = float(-s_up_d) - 0.0001\n",
    "s_ = float(-s_down_d)\n",
    "#s_ = 110\n",
    "para_ = [(alpha,1200),(beta,7),(c,50),(delta_d,n_d),(delta_s,n_s),(s,s_)]\n",
    "\n",
    "\n",
    "time_ = \"UN\"\n",
    "diss_ = [\"DD\",\"BD\"]\n",
    "\n",
    "for dis_ in diss_:\n",
    "    tar_wh = globals() [\"{}_{}_WH\".format(time_,dis_)]\n",
    "    tar_qdc = globals() [\"{}_{}_QDC\".format(time_,dis_)]\n",
    "    tar_qdw = globals() [\"{}_{}_QDW\".format(time_,dis_)]\n",
    "    \n",
    "    \n",
    "    globals() [\"{}_{}_WH_N\".format(time_,dis_)] = pd.DataFrame(tar_wh[1].map(lambda x : x.subs(para_).simplify()))  \n",
    "    globals() [\"{}_{}_QDW_N\".format(time_,dis_)] = pd.DataFrame(tar_qdw[1].map(lambda x : x.subs(para_).simplify()))  \n",
    "    globals() [\"{}_{}_QDC_N\".format(time_,dis_)] = pd.DataFrame(tar_qdc[1].map(lambda x : x.subs(para_).simplify()))  "
   ]
  },
  {
   "cell_type": "markdown",
   "metadata": {},
   "source": [
    "# SD"
   ]
  },
  {
   "cell_type": "code",
   "execution_count": 171,
   "metadata": {},
   "outputs": [],
   "source": [
    "def s_para_display(n_d,n_s):\n",
    "\n",
    "    para_ = [(alpha,1200),(beta,7),(c,50),(delta_d,n_d),(delta_s,n_s)]\n",
    "\n",
    "    s_up_d = s_up.subs(para_).factor().simplify()\n",
    "    s_down_d = s_down.subs(para_).factor().simplify()\n",
    "    display(s_down,float(s_down_d))\n",
    "    display(s_up,float(s_up_d))\n"
   ]
  },
  {
   "cell_type": "code",
   "execution_count": 184,
   "metadata": {},
   "outputs": [],
   "source": [
    "def s_para(n_d,n_s):\n",
    "\n",
    "    para_ = [(alpha,1200),(beta,7),(c,50),(delta_d,n_d),(delta_s,n_s)]\n",
    "\n",
    "    s_up_d = s_up.subs(para_).factor().simplify()\n",
    "    s_down_d = s_down.subs(para_).factor().simplify()\n",
    "    return float(s_down_d),float(s_up_d)"
   ]
  },
  {
   "cell_type": "code",
   "execution_count": 185,
   "metadata": {},
   "outputs": [
    {
     "data": {
      "text/plain": [
       "(110.71428571428571, 153.64576885775466)"
      ]
     },
     "execution_count": 185,
     "metadata": {},
     "output_type": "execute_result"
    }
   ],
   "source": [
    "c"
   ]
  },
  {
   "cell_type": "code",
   "execution_count": 357,
   "metadata": {},
   "outputs": [
    {
     "data": {
      "text/latex": [
       "$\\displaystyle \\frac{\\alpha - 2 \\sqrt{2} \\beta c + 3 \\beta c}{2 \\beta \\left(2 - \\sqrt{2}\\right)}$"
      ],
      "text/plain": [
       "(alpha - 2*sqrt(2)*beta*c + 3*beta*c)/(2*beta*(2 - sqrt(2)))"
      ]
     },
     "execution_count": 357,
     "metadata": {},
     "output_type": "execute_result"
    }
   ],
   "source": [
    "s_up"
   ]
  },
  {
   "cell_type": "code",
   "execution_count": null,
   "metadata": {},
   "outputs": [],
   "source": [
    "time_ = \"UN\"\n",
    "dis_ = \"SD\"\n",
    "\n",
    "n_d = 0.3\n",
    "n_s = 0.6\n",
    "s_ = 111\n",
    "tar_ = \"profit_r\""
   ]
  },
  {
   "cell_type": "code",
   "execution_count": 168,
   "metadata": {},
   "outputs": [],
   "source": [
    "\n",
    "def tar_para(time_,dis_,tar_,n_d,n_s,s_):\n",
    "    para_ = [(alpha,1200),(beta,7),(c,50),(delta_d,n_d),(delta_s,n_s),(s,s_)]\n",
    "\n",
    "    tar_wh = globals() [\"{}_{}_WH\".format(time_,dis_)]\n",
    "    tar_qdc = globals() [\"{}_{}_QDC\".format(time_,dis_)]\n",
    "    tar_qdw = globals() [\"{}_{}_QDW\".format(time_,dis_)]\n",
    "\n",
    "\n",
    "    wh_df = pd.DataFrame(tar_wh[1].map(lambda x : x.subs(para_).simplify()))  \n",
    "    qdw_df = pd.DataFrame(tar_qdw[1].map(lambda x : x.subs(para_).simplify()))  \n",
    "    qdc_df = pd.DataFrame(tar_qdc[1].map(lambda x : x.subs(para_).simplify()))\n",
    "\n",
    "    return float(wh_df[1][tar_]),float(qdw_df[1][tar_]),float(qdc_df[1][tar_])"
   ]
  },
  {
   "cell_type": "code",
   "execution_count": 170,
   "metadata": {},
   "outputs": [
    {
     "data": {
      "text/plain": [
       "(6414.607142857141, 8562.304463761642, 6438.892857142855)"
      ]
     },
     "execution_count": 170,
     "metadata": {},
     "output_type": "execute_result"
    }
   ],
   "source": [
    "tar_para(\"UN\",\"SD\",\"profit_r\",0.3,0.6,111)"
   ]
  },
  {
   "cell_type": "code",
   "execution_count": null,
   "metadata": {},
   "outputs": [],
   "source": [
    "s_range = [s]"
   ]
  },
  {
   "cell_type": "code",
   "execution_count": 210,
   "metadata": {
    "scrolled": true
   },
   "outputs": [],
   "source": [
    "gap_ = 0.5\n",
    "\n",
    "iter_1 = np.arange(0,50,gap_)\n",
    "iter_2 = np.arange(50,s_para(0.3,0.6)[0],gap_)\n",
    "iter_3 = np.arange(s_para(0.3,0.6)[0],s_para(0.3,0.6)[1],gap_)\n",
    "iter_4 = np.arange(s_para(0.3,0.6)[1],s_para(0.3,0.6)[1]+42,gap_)\n",
    "#iter_all = np.arange(0,s_para(0.3,0.6)[1]+42,gap_)"
   ]
  },
  {
   "cell_type": "markdown",
   "metadata": {},
   "source": [
    "## SD"
   ]
  },
  {
   "cell_type": "code",
   "execution_count": 226,
   "metadata": {},
   "outputs": [],
   "source": [
    "all_ = []\n",
    "for s_can in iter_1:\n",
    "    wh_can,qdw_can,qdc_can = tar_para(\"UN\",\"SD\",\"profit_r\",0.3,0.6,s_can)\n",
    "    all_can = [s_can,wh_can,qdw_can,qdc_can]\n",
    "    all_.append(all_can)\n",
    "df_iter_1 = pd.DataFrame(all_).set_index(0).rename(columns={1:\"WH\",2:\"QDW\",3:\"QDC\"})"
   ]
  },
  {
   "cell_type": "code",
   "execution_count": 227,
   "metadata": {},
   "outputs": [],
   "source": [
    "all_ = []\n",
    "for s_can in iter_2:\n",
    "    wh_can,qdw_can,qdc_can = tar_para(\"UN\",\"SD\",\"profit_r\",0.3,0.6,s_can)\n",
    "    all_can = [s_can,wh_can,qdw_can,qdc_can]\n",
    "    all_.append(all_can)\n",
    "df_iter_2 = pd.DataFrame(all_).set_index(0).rename(columns={1:\"WH\",2:\"QDW\",3:\"QDC\"})"
   ]
  },
  {
   "cell_type": "code",
   "execution_count": 228,
   "metadata": {},
   "outputs": [],
   "source": [
    "all_ = []\n",
    "for s_can in iter_3:\n",
    "    wh_can,qdw_can,qdc_can = tar_para(\"UN\",\"SD\",\"profit_r\",0.3,0.6,s_can)\n",
    "    all_can = [s_can,wh_can,qdw_can,qdc_can]\n",
    "    all_.append(all_can)\n",
    "df_iter_3 = pd.DataFrame(all_).set_index(0).rename(columns={1:\"WH\",2:\"QDW\",3:\"QDC\"})"
   ]
  },
  {
   "cell_type": "code",
   "execution_count": 229,
   "metadata": {},
   "outputs": [],
   "source": [
    "all_ = []\n",
    "for s_can in iter_4:\n",
    "    wh_can,qdw_can,qdc_can = tar_para(\"UN\",\"SD\",\"profit_r\",0.3,0.6,s_can)\n",
    "    all_can = [s_can,wh_can,qdw_can,qdc_can]\n",
    "    all_.append(all_can)\n",
    "df_iter_4 = pd.DataFrame(all_).set_index(0).rename(columns={1:\"WH\",2:\"QDW\",3:\"QDC\"})"
   ]
  },
  {
   "cell_type": "code",
   "execution_count": 235,
   "metadata": {},
   "outputs": [],
   "source": [
    "df_iter_all = pd.concat([df_iter_1,df_iter_2,df_iter_3,df_iter_4])"
   ]
  },
  {
   "cell_type": "code",
   "execution_count": 230,
   "metadata": {},
   "outputs": [
    {
     "data": {
      "text/plain": [
       "<matplotlib.axes._subplots.AxesSubplot at 0x248fff7e9c8>"
      ]
     },
     "execution_count": 230,
     "metadata": {},
     "output_type": "execute_result"
    },
    {
     "data": {
      "image/png": "[encoded data removed]",
      "text/plain": [
       "<Figure size 432x288 with 1 Axes>"
      ]
     },
     "metadata": {
      "needs_background": "light"
     },
     "output_type": "display_data"
    }
   ],
   "source": [
    "df_iter_1.plot()"
   ]
  },
  {
   "cell_type": "code",
   "execution_count": 231,
   "metadata": {},
   "outputs": [
    {
     "data": {
      "text/plain": [
       "<matplotlib.axes._subplots.AxesSubplot at 0x248ffb3e948>"
      ]
     },
     "execution_count": 231,
     "metadata": {},
     "output_type": "execute_result"
    },
    {
     "data": {
      "image/png": "[encoded data removed]",
      "text/plain": [
       "<Figure size 432x288 with 1 Axes>"
      ]
     },
     "metadata": {
      "needs_background": "light"
     },
     "output_type": "display_data"
    }
   ],
   "source": [
    "df_iter_2.plot()"
   ]
  },
  {
   "cell_type": "code",
   "execution_count": 232,
   "metadata": {},
   "outputs": [
    {
     "data": {
      "text/plain": [
       "<matplotlib.axes._subplots.AxesSubplot at 0x24880156dc8>"
      ]
     },
     "execution_count": 232,
     "metadata": {},
     "output_type": "execute_result"
    },
    {
     "data": {
      "image/png": "[encoded data removed]",
      "text/plain": [
       "<Figure size 432x288 with 1 Axes>"
      ]
     },
     "metadata": {
      "needs_background": "light"
     },
     "output_type": "display_data"
    }
   ],
   "source": [
    "df_iter_3.plot()"
   ]
  },
  {
   "cell_type": "code",
   "execution_count": 233,
   "metadata": {},
   "outputs": [
    {
     "data": {
      "text/plain": [
       "<matplotlib.axes._subplots.AxesSubplot at 0x248801ce108>"
      ]
     },
     "execution_count": 233,
     "metadata": {},
     "output_type": "execute_result"
    },
    {
     "data": {
      "image/png": "[encoded data removed]",
      "text/plain": [
       "<Figure size 432x288 with 1 Axes>"
      ]
     },
     "metadata": {
      "needs_background": "light"
     },
     "output_type": "display_data"
    }
   ],
   "source": [
    "df_iter_4.plot()"
   ]
  },
  {
   "cell_type": "code",
   "execution_count": 239,
   "metadata": {},
   "outputs": [
    {
     "data": {
      "text/plain": [
       "<matplotlib.axes._subplots.AxesSubplot at 0x24880552888>"
      ]
     },
     "execution_count": 239,
     "metadata": {},
     "output_type": "execute_result"
    },
    {
     "data": {
      "image/png": "[encoded data removed]",
      "text/plain": [
       "<Figure size 432x288 with 1 Axes>"
      ]
     },
     "metadata": {
      "needs_background": "light"
     },
     "output_type": "display_data"
    }
   ],
   "source": [
    "df_iter_all.plot(ylim=(0,50000))"
   ]
  },
  {
   "cell_type": "code",
   "execution_count": 47,
   "metadata": {},
   "outputs": [
    {
     "data": {
      "text/html": [
       "<div>\n",
       "<style scoped>\n",
       "    .dataframe tbody tr th:only-of-type {\n",
       "        vertical-align: middle;\n",
       "    }\n",
       "\n",
       "    .dataframe tbody tr th {\n",
       "        vertical-align: top;\n",
       "    }\n",
       "\n",
       "    .dataframe thead th {\n",
       "        text-align: right;\n",
       "    }\n",
       "</style>\n",
       "<table border=\"1\" class=\"dataframe\">\n",
       "  <thead>\n",
       "    <tr style=\"text-align: right;\">\n",
       "      <th></th>\n",
       "      <th>1</th>\n",
       "    </tr>\n",
       "    <tr>\n",
       "      <th>0</th>\n",
       "      <th></th>\n",
       "    </tr>\n",
       "  </thead>\n",
       "  <tbody>\n",
       "    <tr>\n",
       "      <th>profit_r</th>\n",
       "      <td>3225.44642857143</td>\n",
       "    </tr>\n",
       "    <tr>\n",
       "      <th>profit_s</th>\n",
       "      <td>18062.5000000000</td>\n",
       "    </tr>\n",
       "  </tbody>\n",
       "</table>\n",
       "</div>"
      ],
      "text/plain": [
       "                         1\n",
       "0                         \n",
       "profit_r  3225.44642857143\n",
       "profit_s  18062.5000000000"
      ]
     },
     "execution_count": 47,
     "metadata": {},
     "output_type": "execute_result"
    }
   ],
   "source": [
    "UN_BD_QDC_N.loc[\"profit_r\":\"profit_s\",1:]"
   ]
  },
  {
   "cell_type": "code",
   "execution_count": 50,
   "metadata": {},
   "outputs": [
    {
     "data": {
      "text/html": [
       "<div>\n",
       "<style scoped>\n",
       "    .dataframe tbody tr th:only-of-type {\n",
       "        vertical-align: middle;\n",
       "    }\n",
       "\n",
       "    .dataframe tbody tr th {\n",
       "        vertical-align: top;\n",
       "    }\n",
       "\n",
       "    .dataframe thead th {\n",
       "        text-align: right;\n",
       "    }\n",
       "</style>\n",
       "<table border=\"1\" class=\"dataframe\">\n",
       "  <thead>\n",
       "    <tr style=\"text-align: right;\">\n",
       "      <th></th>\n",
       "      <th>1</th>\n",
       "      <th>1</th>\n",
       "    </tr>\n",
       "    <tr>\n",
       "      <th>0</th>\n",
       "      <th></th>\n",
       "      <th></th>\n",
       "    </tr>\n",
       "  </thead>\n",
       "  <tbody>\n",
       "    <tr>\n",
       "      <th>profit_r</th>\n",
       "      <td>3225.44642857143</td>\n",
       "      <td>-5805.80357142857 + 9031.25*sqrt(2)</td>\n",
       "    </tr>\n",
       "    <tr>\n",
       "      <th>profit_s</th>\n",
       "      <td>18062.5000000000</td>\n",
       "      <td>9031.25000000000</td>\n",
       "    </tr>\n",
       "  </tbody>\n",
       "</table>\n",
       "</div>"
      ],
      "text/plain": [
       "                         1                                    1\n",
       "0                                                              \n",
       "profit_r  3225.44642857143  -5805.80357142857 + 9031.25*sqrt(2)\n",
       "profit_s  18062.5000000000                     9031.25000000000"
      ]
     },
     "execution_count": 50,
     "metadata": {},
     "output_type": "execute_result"
    }
   ],
   "source": [
    "pd.concat([UN_BD_QDC_N.loc[\"profit_r\":\"profit_s\",1:],UN_BD_QDW_N.loc[\"profit_r\":\"profit_s\",1:]],axis=1).plot()"
   ]
  },
  {
   "cell_type": "code",
   "execution_count": 53,
   "metadata": {},
   "outputs": [
    {
     "data": {
      "text/plain": [
       "0\n",
       "profit_r    6966.312664\n",
       "profit_s    9031.250000\n",
       "Name: 1, dtype: float64"
      ]
     },
     "execution_count": 53,
     "metadata": {},
     "output_type": "execute_result"
    }
   ],
   "source": [
    "UN_BD_QDW_N.loc[\"profit_r\":\"profit_s\",1:][1].map(lambda x: float(x))"
   ]
  },
  {
   "cell_type": "code",
   "execution_count": 54,
   "metadata": {},
   "outputs": [
    {
     "data": {
      "text/plain": [
       "0\n",
       "profit_r    3225.446429\n",
       "profit_s    9031.250000\n",
       "Name: 1, dtype: float64"
      ]
     },
     "execution_count": 54,
     "metadata": {},
     "output_type": "execute_result"
    }
   ],
   "source": [
    "UN_BD_WH_N.loc[\"profit_r\":\"profit_s\",1:][1].map(lambda x: float(x))"
   ]
  },
  {
   "cell_type": "markdown",
   "metadata": {},
   "source": [
    "## BS"
   ]
  },
  {
   "cell_type": "code",
   "execution_count": 337,
   "metadata": {},
   "outputs": [],
   "source": [
    "gap_ = 1\n",
    "\n",
    "d_ = 0.3\n",
    "s_ = 0.9\n",
    "\n",
    "iter_1 = np.arange(0,50,gap_)\n",
    "iter_2 = np.arange(50,s_para(d_,s_)[0],gap_)\n",
    "iter_3 = np.arange(s_para(d_,s_)[0],s_para(d_,s_)[1],gap_)\n",
    "iter_4 = np.arange(s_para(d_,s_)[1],s_para(d_,s_)[1]+42,gap_)\n",
    "#iter_all = np.arange(0,s_para(0.3,0.6)[1]+42,gap_)"
   ]
  },
  {
   "cell_type": "code",
   "execution_count": 313,
   "metadata": {},
   "outputs": [],
   "source": [
    "i_1 = \"BS\"\n",
    "tar_ = \"profit_r\"\n",
    "\n"
   ]
  },
  {
   "cell_type": "code",
   "execution_count": 314,
   "metadata": {},
   "outputs": [],
   "source": [
    "all_ = []\n",
    "for s_can in iter_1:\n",
    "    wh_can,qdw_can,qdc_can = tar_para(\"UN\",i_1,tar_,d_,s_,s_can)\n",
    "    all_can = [s_can,wh_can,qdw_can,qdc_can]\n",
    "    all_.append(all_can)\n",
    "df_iter_12 = pd.DataFrame(all_).set_index(0).rename(columns={1:\"WH\",2:\"QDW\",3:\"QDC\"})"
   ]
  },
  {
   "cell_type": "code",
   "execution_count": 315,
   "metadata": {},
   "outputs": [],
   "source": [
    "all_ = []\n",
    "for s_can in iter_2:\n",
    "    wh_can,qdw_can,qdc_can = tar_para(\"UN\",i_1,tar_,d_,s_,s_can)\n",
    "    all_can = [s_can,wh_can,qdw_can,qdc_can]\n",
    "    all_.append(all_can)\n",
    "df_iter_22 = pd.DataFrame(all_).set_index(0).rename(columns={1:\"WH\",2:\"QDW\",3:\"QDC\"})"
   ]
  },
  {
   "cell_type": "code",
   "execution_count": 316,
   "metadata": {},
   "outputs": [],
   "source": [
    "all_ = []\n",
    "for s_can in iter_3:\n",
    "    wh_can,qdw_can,qdc_can = tar_para(\"UN\",i_1,tar_,d_,s_,s_can)\n",
    "    all_can = [s_can,wh_can,qdw_can,qdc_can]\n",
    "    all_.append(all_can)\n",
    "df_iter_32 = pd.DataFrame(all_).set_index(0).rename(columns={1:\"WH\",2:\"QDW\",3:\"QDC\"})"
   ]
  },
  {
   "cell_type": "code",
   "execution_count": 317,
   "metadata": {},
   "outputs": [],
   "source": [
    "all_ = []\n",
    "for s_can in iter_4:\n",
    "    wh_can,qdw_can,qdc_can = tar_para(\"UN\",i_1,tar_,d_,s_,s_can)\n",
    "    all_can = [s_can,wh_can,qdw_can,qdc_can]\n",
    "    all_.append(all_can)\n",
    "df_iter_42 = pd.DataFrame(all_).set_index(0).rename(columns={1:\"WH\",2:\"QDW\",3:\"QDC\"})"
   ]
  },
  {
   "cell_type": "code",
   "execution_count": 318,
   "metadata": {},
   "outputs": [],
   "source": [
    "df_iter_all2 = pd.concat([df_iter_12,df_iter_22,df_iter_32,df_iter_42])"
   ]
  },
  {
   "cell_type": "code",
   "execution_count": 341,
   "metadata": {},
   "outputs": [],
   "source": []
  },
  {
   "cell_type": "code",
   "execution_count": 340,
   "metadata": {},
   "outputs": [],
   "source": [
    "def para_all():\n",
    "    iter_1 = np.arange(0,50,gap_)\n",
    "    iter_2 = np.arange(50,s_para(d_,s_)[0],gap_)\n",
    "    iter_3 = np.arange(s_para(d_,s_)[0],s_para(d_,s_)[1],gap_)\n",
    "    iter_4 = np.arange(s_para(d_,s_)[1],s_para(d_,s_)[1]+42,gap_)\n",
    "    all_ = []\n",
    "    for s_can in iter_1:\n",
    "        wh_can,qdw_can,qdc_can = tar_para(\"UN\",i_1,tar_,d_,s_,s_can)\n",
    "        all_can = [s_can,wh_can,qdw_can,qdc_can]\n",
    "        all_.append(all_can)\n",
    "    df_iter_12 = pd.DataFrame(all_).set_index(0).rename(columns={1:\"WH\",2:\"QDW\",3:\"QDC\"})\n",
    "\n",
    "    all_ = []\n",
    "    for s_can in iter_2:\n",
    "        wh_can,qdw_can,qdc_can = tar_para(\"UN\",i_1,tar_,d_,s_,s_can)\n",
    "        all_can = [s_can,wh_can,qdw_can,qdc_can]\n",
    "        all_.append(all_can)\n",
    "    df_iter_22 = pd.DataFrame(all_).set_index(0).rename(columns={1:\"WH\",2:\"QDW\",3:\"QDC\"})\n",
    "\n",
    "    all_ = []\n",
    "    for s_can in iter_3:\n",
    "        wh_can,qdw_can,qdc_can = tar_para(\"UN\",i_1,tar_,d_,s_,s_can)\n",
    "        all_can = [s_can,wh_can,qdw_can,qdc_can]\n",
    "        all_.append(all_can)\n",
    "    df_iter_32 = pd.DataFrame(all_).set_index(0).rename(columns={1:\"WH\",2:\"QDW\",3:\"QDC\"})\n",
    "\n",
    "    all_ = []\n",
    "    for s_can in iter_4:\n",
    "        wh_can,qdw_can,qdc_can = tar_para(\"UN\",i_1,tar_,d_,s_,s_can)\n",
    "        all_can = [s_can,wh_can,qdw_can,qdc_can]\n",
    "        all_.append(all_can)\n",
    "    df_iter_42 = pd.DataFrame(all_).set_index(0).rename(columns={1:\"WH\",2:\"QDW\",3:\"QDC\"})\n",
    "    df_iter_all2 = pd.concat([df_iter_12,df_iter_22,df_iter_32,df_iter_42])\n",
    "    return df_iter_all2"
   ]
  },
  {
   "cell_type": "code",
   "execution_count": 367,
   "metadata": {},
   "outputs": [],
   "source": [
    "i_1 = \"BS\"\n",
    "tar_ = \"profit_r\"\n",
    "d_ = 0.3\n",
    "s_ = 0.9\n",
    "gap_ = 1\n",
    "test_1 = para_all()"
   ]
  },
  {
   "cell_type": "code",
   "execution_count": 368,
   "metadata": {},
   "outputs": [
    {
     "data": {
      "text/plain": [
       "(110.71428571428571, 153.64576885775466)"
      ]
     },
     "execution_count": 368,
     "metadata": {},
     "output_type": "execute_result"
    }
   ],
   "source": [
    "s_para(d_,s_)"
   ]
  },
  {
   "cell_type": "code",
   "execution_count": 373,
   "metadata": {},
   "outputs": [
    {
     "data": {
      "text/plain": [
       "<matplotlib.axes._subplots.AxesSubplot at 0x248836af888>"
      ]
     },
     "execution_count": 373,
     "metadata": {},
     "output_type": "execute_result"
    },
    {
     "data": {
      "image/png": "[encoded data removed]",
      "text/plain": [
       "<Figure size 432x288 with 1 Axes>"
      ]
     },
     "metadata": {
      "needs_background": "light"
     },
     "output_type": "display_data"
    }
   ],
   "source": [
    "test_1.plot(xlim=(110,154),ylim=(0,8000))"
   ]
  },
  {
   "cell_type": "code",
   "execution_count": null,
   "metadata": {},
   "outputs": [],
   "source": []
  },
  {
   "cell_type": "code",
   "execution_count": 370,
   "metadata": {},
   "outputs": [],
   "source": [
    "i_1 = \"BS\"\n",
    "tar_ = \"profit_r\"\n",
    "d_ = 0.3\n",
    "s_ = 0.6\n",
    "gap_ = 1\n",
    "test_2 = para_all()"
   ]
  },
  {
   "cell_type": "code",
   "execution_count": 371,
   "metadata": {},
   "outputs": [
    {
     "data": {
      "text/plain": [
       "(110.71428571428571, 153.64576885775466)"
      ]
     },
     "execution_count": 371,
     "metadata": {},
     "output_type": "execute_result"
    }
   ],
   "source": [
    "s_para(d_,s_)"
   ]
  },
  {
   "cell_type": "code",
   "execution_count": 372,
   "metadata": {},
   "outputs": [
    {
     "data": {
      "text/plain": [
       "<matplotlib.axes._subplots.AxesSubplot at 0x24881fc0c88>"
      ]
     },
     "execution_count": 372,
     "metadata": {},
     "output_type": "execute_result"
    },
    {
     "data": {
      "image/png": "[encoded data removed]",
      "text/plain": [
       "<Figure size 432x288 with 1 Axes>"
      ]
     },
     "metadata": {
      "needs_background": "light"
     },
     "output_type": "display_data"
    }
   ],
   "source": [
    "test_2.plot(xlim=(110,154),ylim=(0,8000))"
   ]
  },
  {
   "cell_type": "code",
   "execution_count": null,
   "metadata": {},
   "outputs": [],
   "source": []
  },
  {
   "cell_type": "code",
   "execution_count": null,
   "metadata": {},
   "outputs": [],
   "source": []
  },
  {
   "cell_type": "code",
   "execution_count": null,
   "metadata": {},
   "outputs": [],
   "source": []
  },
  {
   "cell_type": "code",
   "execution_count": 346,
   "metadata": {},
   "outputs": [],
   "source": [
    "i_1 = \"BS\"\n",
    "tar_ = \"profit_r\"\n",
    "d_ = 0.3\n",
    "s_ = 0.6\n",
    "gap_ = 1\n",
    "test_ = para_all()"
   ]
  },
  {
   "cell_type": "code",
   "execution_count": 347,
   "metadata": {},
   "outputs": [
    {
     "data": {
      "text/plain": [
       "<matplotlib.axes._subplots.AxesSubplot at 0x248fc384b88>"
      ]
     },
     "execution_count": 347,
     "metadata": {},
     "output_type": "execute_result"
    },
    {
     "data": {
      "image/png": "[encoded data removed]",
      "text/plain": [
       "<Figure size 432x288 with 1 Axes>"
      ]
     },
     "metadata": {
      "needs_background": "light"
     },
     "output_type": "display_data"
    }
   ],
   "source": [
    "test_.plot()"
   ]
  },
  {
   "cell_type": "code",
   "execution_count": 349,
   "metadata": {},
   "outputs": [
    {
     "data": {
      "text/plain": [
       "(110.71428571428571, 153.64576885775466)"
      ]
     },
     "execution_count": 349,
     "metadata": {},
     "output_type": "execute_result"
    }
   ],
   "source": [
    "s_para(d_,s_)"
   ]
  },
  {
   "cell_type": "code",
   "execution_count": 350,
   "metadata": {},
   "outputs": [],
   "source": [
    "i_1 = \"BS\"\n",
    "tar_ = \"profit_all\"\n",
    "d_ = 0.3\n",
    "s_ = 0.6\n",
    "gap_ = 1\n",
    "test_ = para_all()"
   ]
  },
  {
   "cell_type": "code",
   "execution_count": 351,
   "metadata": {},
   "outputs": [
    {
     "data": {
      "text/plain": [
       "<matplotlib.axes._subplots.AxesSubplot at 0x24882038088>"
      ]
     },
     "execution_count": 351,
     "metadata": {},
     "output_type": "execute_result"
    },
    {
     "data": {
      "image/png": "[encoded data removed]",
      "text/plain": [
       "<Figure size 432x288 with 1 Axes>"
      ]
     },
     "metadata": {
      "needs_background": "light"
     },
     "output_type": "display_data"
    }
   ],
   "source": [
    "test_.plot()"
   ]
  },
  {
   "cell_type": "code",
   "execution_count": null,
   "metadata": {},
   "outputs": [],
   "source": []
  },
  {
   "cell_type": "code",
   "execution_count": 320,
   "metadata": {},
   "outputs": [
    {
     "data": {
      "text/plain": [
       "<matplotlib.axes._subplots.AxesSubplot at 0x24881e62208>"
      ]
     },
     "execution_count": 320,
     "metadata": {},
     "output_type": "execute_result"
    },
    {
     "data": {
      "image/png": "[encoded data removed]",
      "text/plain": [
       "<Figure size 432x288 with 1 Axes>"
      ]
     },
     "metadata": {
      "needs_background": "light"
     },
     "output_type": "display_data"
    }
   ],
   "source": [
    "df_iter_all2.plot(ylim=(0,30000))"
   ]
  },
  {
   "cell_type": "code",
   "execution_count": 312,
   "metadata": {},
   "outputs": [
    {
     "data": {
      "text/plain": [
       "<matplotlib.axes._subplots.AxesSubplot at 0x24881df7048>"
      ]
     },
     "execution_count": 312,
     "metadata": {},
     "output_type": "execute_result"
    },
    {
     "data": {
      "image/png": "[encoded data removed]",
      "text/plain": [
       "<Figure size 432x288 with 1 Axes>"
      ]
     },
     "metadata": {
      "needs_background": "light"
     },
     "output_type": "display_data"
    }
   ],
   "source": [
    "df_iter_all2.plot(ylim=(0,30000))"
   ]
  },
  {
   "cell_type": "code",
   "execution_count": null,
   "metadata": {},
   "outputs": [],
   "source": []
  },
  {
   "cell_type": "code",
   "execution_count": null,
   "metadata": {},
   "outputs": [],
   "source": []
  },
  {
   "cell_type": "code",
   "execution_count": null,
   "metadata": {},
   "outputs": [],
   "source": []
  },
  {
   "cell_type": "code",
   "execution_count": null,
   "metadata": {},
   "outputs": [],
   "source": []
  },
  {
   "cell_type": "code",
   "execution_count": 254,
   "metadata": {},
   "outputs": [],
   "source": [
    "i_1 = \"BS\"\n",
    "tar_ = \"profit_all\"\n",
    "d_ = 0.3\n",
    "s_ = 0.6\n"
   ]
  },
  {
   "cell_type": "code",
   "execution_count": 255,
   "metadata": {},
   "outputs": [],
   "source": [
    "all_ = []\n",
    "for s_can in iter_1:\n",
    "    wh_can,qdw_can,qdc_can = tar_para(\"UN\",i_1,tar_,d_,s_,s_can)\n",
    "    all_can = [s_can,wh_can,qdw_can,qdc_can]\n",
    "    all_.append(all_can)\n",
    "df_iter_12 = pd.DataFrame(all_).set_index(0).rename(columns={1:\"WH\",2:\"QDW\",3:\"QDC\"})"
   ]
  },
  {
   "cell_type": "code",
   "execution_count": 256,
   "metadata": {},
   "outputs": [],
   "source": [
    "all_ = []\n",
    "for s_can in iter_2:\n",
    "    wh_can,qdw_can,qdc_can = tar_para(\"UN\",i_1,tar_,d_,s_,s_can)\n",
    "    all_can = [s_can,wh_can,qdw_can,qdc_can]\n",
    "    all_.append(all_can)\n",
    "df_iter_22 = pd.DataFrame(all_).set_index(0).rename(columns={1:\"WH\",2:\"QDW\",3:\"QDC\"})"
   ]
  },
  {
   "cell_type": "code",
   "execution_count": 257,
   "metadata": {},
   "outputs": [],
   "source": [
    "all_ = []\n",
    "for s_can in iter_3:\n",
    "    wh_can,qdw_can,qdc_can = tar_para(\"UN\",i_1,tar_,d_,s_,s_can)\n",
    "    all_can = [s_can,wh_can,qdw_can,qdc_can]\n",
    "    all_.append(all_can)\n",
    "df_iter_32 = pd.DataFrame(all_).set_index(0).rename(columns={1:\"WH\",2:\"QDW\",3:\"QDC\"})"
   ]
  },
  {
   "cell_type": "code",
   "execution_count": 258,
   "metadata": {},
   "outputs": [],
   "source": [
    "all_ = []\n",
    "for s_can in iter_4:\n",
    "    wh_can,qdw_can,qdc_can = tar_para(\"UN\",i_1,tar_,d_,s_,s_can)\n",
    "    all_can = [s_can,wh_can,qdw_can,qdc_can]\n",
    "    all_.append(all_can)\n",
    "df_iter_42 = pd.DataFrame(all_).set_index(0).rename(columns={1:\"WH\",2:\"QDW\",3:\"QDC\"})"
   ]
  },
  {
   "cell_type": "code",
   "execution_count": 259,
   "metadata": {},
   "outputs": [],
   "source": [
    "df_iter_all2 = pd.concat([df_iter_12,df_iter_22,df_iter_32,df_iter_42])"
   ]
  },
  {
   "cell_type": "code",
   "execution_count": 260,
   "metadata": {},
   "outputs": [
    {
     "data": {
      "text/plain": [
       "<matplotlib.axes._subplots.AxesSubplot at 0x24880928788>"
      ]
     },
     "execution_count": 260,
     "metadata": {},
     "output_type": "execute_result"
    },
    {
     "data": {
      "image/png": "[encoded data removed]",
      "text/plain": [
       "<Figure size 432x288 with 1 Axes>"
      ]
     },
     "metadata": {
      "needs_background": "light"
     },
     "output_type": "display_data"
    }
   ],
   "source": [
    "df_iter_all2.plot()"
   ]
  },
  {
   "cell_type": "code",
   "execution_count": null,
   "metadata": {},
   "outputs": [],
   "source": []
  },
  {
   "cell_type": "code",
   "execution_count": 321,
   "metadata": {},
   "outputs": [],
   "source": [
    "i_1 = \"BS\"\n",
    "tar_ = \"q_d\"\n",
    "\n"
   ]
  },
  {
   "cell_type": "code",
   "execution_count": 322,
   "metadata": {},
   "outputs": [],
   "source": [
    "all_ = []\n",
    "for s_can in iter_1:\n",
    "    wh_can,qdw_can,qdc_can = tar_para(\"UN\",i_1,tar_,d_,s_,s_can)\n",
    "    all_can = [s_can,wh_can,qdw_can,qdc_can]\n",
    "    all_.append(all_can)\n",
    "df_iter_12 = pd.DataFrame(all_).set_index(0).rename(columns={1:\"WH\",2:\"QDW\",3:\"QDC\"})"
   ]
  },
  {
   "cell_type": "code",
   "execution_count": 323,
   "metadata": {},
   "outputs": [],
   "source": [
    "all_ = []\n",
    "for s_can in iter_2:\n",
    "    wh_can,qdw_can,qdc_can = tar_para(\"UN\",i_1,tar_,d_,s_,s_can)\n",
    "    all_can = [s_can,wh_can,qdw_can,qdc_can]\n",
    "    all_.append(all_can)\n",
    "df_iter_22 = pd.DataFrame(all_).set_index(0).rename(columns={1:\"WH\",2:\"QDW\",3:\"QDC\"})"
   ]
  },
  {
   "cell_type": "code",
   "execution_count": 324,
   "metadata": {},
   "outputs": [],
   "source": [
    "all_ = []\n",
    "for s_can in iter_3:\n",
    "    wh_can,qdw_can,qdc_can = tar_para(\"UN\",i_1,tar_,d_,s_,s_can)\n",
    "    all_can = [s_can,wh_can,qdw_can,qdc_can]\n",
    "    all_.append(all_can)\n",
    "df_iter_32 = pd.DataFrame(all_).set_index(0).rename(columns={1:\"WH\",2:\"QDW\",3:\"QDC\"})"
   ]
  },
  {
   "cell_type": "code",
   "execution_count": 325,
   "metadata": {},
   "outputs": [],
   "source": [
    "all_ = []\n",
    "for s_can in iter_4:\n",
    "    wh_can,qdw_can,qdc_can = tar_para(\"UN\",i_1,tar_,d_,s_,s_can)\n",
    "    all_can = [s_can,wh_can,qdw_can,qdc_can]\n",
    "    all_.append(all_can)\n",
    "df_iter_42 = pd.DataFrame(all_).set_index(0).rename(columns={1:\"WH\",2:\"QDW\",3:\"QDC\"})"
   ]
  },
  {
   "cell_type": "code",
   "execution_count": 326,
   "metadata": {},
   "outputs": [],
   "source": [
    "df_iter_alld = pd.concat([df_iter_12,df_iter_22,df_iter_32,df_iter_42])"
   ]
  },
  {
   "cell_type": "code",
   "execution_count": 327,
   "metadata": {},
   "outputs": [
    {
     "data": {
      "text/plain": [
       "<matplotlib.axes._subplots.AxesSubplot at 0x24881b45348>"
      ]
     },
     "execution_count": 327,
     "metadata": {},
     "output_type": "execute_result"
    },
    {
     "data": {
      "image/png": "[encoded data removed]",
      "text/plain": [
       "<Figure size 432x288 with 1 Axes>"
      ]
     },
     "metadata": {
      "needs_background": "light"
     },
     "output_type": "display_data"
    }
   ],
   "source": [
    "df_iter_alld.plot()"
   ]
  },
  {
   "cell_type": "code",
   "execution_count": null,
   "metadata": {},
   "outputs": [],
   "source": []
  },
  {
   "cell_type": "code",
   "execution_count": 328,
   "metadata": {},
   "outputs": [],
   "source": [
    "i_1 = \"BS\"\n",
    "tar_ = \"q_t\"\n",
    "\n"
   ]
  },
  {
   "cell_type": "code",
   "execution_count": 329,
   "metadata": {},
   "outputs": [],
   "source": [
    "all_ = []\n",
    "for s_can in iter_1:\n",
    "    wh_can,qdw_can,qdc_can = tar_para(\"UN\",i_1,tar_,d_,s_,s_can)\n",
    "    all_can = [s_can,wh_can,qdw_can,qdc_can]\n",
    "    all_.append(all_can)\n",
    "df_iter_12 = pd.DataFrame(all_).set_index(0).rename(columns={1:\"WH\",2:\"QDW\",3:\"QDC\"})"
   ]
  },
  {
   "cell_type": "code",
   "execution_count": 330,
   "metadata": {},
   "outputs": [],
   "source": [
    "all_ = []\n",
    "for s_can in iter_2:\n",
    "    wh_can,qdw_can,qdc_can = tar_para(\"UN\",i_1,tar_,d_,s_,s_can)\n",
    "    all_can = [s_can,wh_can,qdw_can,qdc_can]\n",
    "    all_.append(all_can)\n",
    "df_iter_22 = pd.DataFrame(all_).set_index(0).rename(columns={1:\"WH\",2:\"QDW\",3:\"QDC\"})"
   ]
  },
  {
   "cell_type": "code",
   "execution_count": 331,
   "metadata": {},
   "outputs": [],
   "source": [
    "all_ = []\n",
    "for s_can in iter_3:\n",
    "    wh_can,qdw_can,qdc_can = tar_para(\"UN\",i_1,tar_,d_,s_,s_can)\n",
    "    all_can = [s_can,wh_can,qdw_can,qdc_can]\n",
    "    all_.append(all_can)\n",
    "df_iter_32 = pd.DataFrame(all_).set_index(0).rename(columns={1:\"WH\",2:\"QDW\",3:\"QDC\"})"
   ]
  },
  {
   "cell_type": "code",
   "execution_count": 332,
   "metadata": {},
   "outputs": [],
   "source": [
    "all_ = []\n",
    "for s_can in iter_4:\n",
    "    wh_can,qdw_can,qdc_can = tar_para(\"UN\",i_1,tar_,d_,s_,s_can)\n",
    "    all_can = [s_can,wh_can,qdw_can,qdc_can]\n",
    "    all_.append(all_can)\n",
    "df_iter_42 = pd.DataFrame(all_).set_index(0).rename(columns={1:\"WH\",2:\"QDW\",3:\"QDC\"})"
   ]
  },
  {
   "cell_type": "code",
   "execution_count": 333,
   "metadata": {},
   "outputs": [],
   "source": [
    "df_iter_allt = pd.concat([df_iter_12,df_iter_22,df_iter_32,df_iter_42])"
   ]
  },
  {
   "cell_type": "code",
   "execution_count": 334,
   "metadata": {},
   "outputs": [
    {
     "data": {
      "text/plain": [
       "<matplotlib.axes._subplots.AxesSubplot at 0x24881f4abc8>"
      ]
     },
     "execution_count": 334,
     "metadata": {},
     "output_type": "execute_result"
    },
    {
     "data": {
      "image/png": "[encoded data removed]",
      "text/plain": [
       "<Figure size 432x288 with 1 Axes>"
      ]
     },
     "metadata": {
      "needs_background": "light"
     },
     "output_type": "display_data"
    }
   ],
   "source": [
    "df_iter_allt.plot()"
   ]
  },
  {
   "cell_type": "code",
   "execution_count": 336,
   "metadata": {},
   "outputs": [
    {
     "data": {
      "text/plain": [
       "<matplotlib.axes._subplots.AxesSubplot at 0x248808a78c8>"
      ]
     },
     "execution_count": 336,
     "metadata": {},
     "output_type": "execute_result"
    },
    {
     "data": {
      "image/png": "[encoded data removed]",
      "text/plain": [
       "<Figure size 432x288 with 1 Axes>"
      ]
     },
     "metadata": {
      "needs_background": "light"
     },
     "output_type": "display_data"
    }
   ],
   "source": [
    "df_iter_alld.merge(df_iter_allt.rename(columns={\"WH\":\"WH2\",\"QDW\":\"QDW2\",\"QDC\":\"QDC2\"}),how=\"inner\",left_index=True,right_index=True).plot()"
   ]
  },
  {
   "cell_type": "code",
   "execution_count": 304,
   "metadata": {},
   "outputs": [
    {
     "data": {
      "text/plain": [
       "(110.71428571428571, 153.64576885775466)"
      ]
     },
     "execution_count": 304,
     "metadata": {},
     "output_type": "execute_result"
    }
   ],
   "source": [
    "s_para(0.3,0.6)"
   ]
  },
  {
   "cell_type": "code",
   "execution_count": null,
   "metadata": {},
   "outputs": [],
   "source": []
  },
  {
   "cell_type": "code",
   "execution_count": null,
   "metadata": {},
   "outputs": [],
   "source": []
  },
  {
   "cell_type": "code",
   "execution_count": null,
   "metadata": {},
   "outputs": [],
   "source": []
  },
  {
   "cell_type": "code",
   "execution_count": 276,
   "metadata": {},
   "outputs": [],
   "source": [
    "i_1 = \"BS\"\n",
    "tar_ = \"p\"\n",
    "d_ = 0.3\n",
    "s_ = 0.6\n"
   ]
  },
  {
   "cell_type": "code",
   "execution_count": 277,
   "metadata": {},
   "outputs": [],
   "source": [
    "all_ = []\n",
    "for s_can in iter_1:\n",
    "    wh_can,qdw_can,qdc_can = tar_para(\"UN\",i_1,tar_,d_,s_,s_can)\n",
    "    all_can = [s_can,wh_can,qdw_can,qdc_can]\n",
    "    all_.append(all_can)\n",
    "df_iter_12 = pd.DataFrame(all_).set_index(0).rename(columns={1:\"WH\",2:\"QDW\",3:\"QDC\"})"
   ]
  },
  {
   "cell_type": "code",
   "execution_count": 278,
   "metadata": {},
   "outputs": [],
   "source": [
    "all_ = []\n",
    "for s_can in iter_2:\n",
    "    wh_can,qdw_can,qdc_can = tar_para(\"UN\",i_1,tar_,d_,s_,s_can)\n",
    "    all_can = [s_can,wh_can,qdw_can,qdc_can]\n",
    "    all_.append(all_can)\n",
    "df_iter_22 = pd.DataFrame(all_).set_index(0).rename(columns={1:\"WH\",2:\"QDW\",3:\"QDC\"})"
   ]
  },
  {
   "cell_type": "code",
   "execution_count": 279,
   "metadata": {},
   "outputs": [],
   "source": [
    "all_ = []\n",
    "for s_can in iter_3:\n",
    "    wh_can,qdw_can,qdc_can = tar_para(\"UN\",i_1,tar_,d_,s_,s_can)\n",
    "    all_can = [s_can,wh_can,qdw_can,qdc_can]\n",
    "    all_.append(all_can)\n",
    "df_iter_32 = pd.DataFrame(all_).set_index(0).rename(columns={1:\"WH\",2:\"QDW\",3:\"QDC\"})"
   ]
  },
  {
   "cell_type": "code",
   "execution_count": 280,
   "metadata": {},
   "outputs": [],
   "source": [
    "all_ = []\n",
    "for s_can in iter_4:\n",
    "    wh_can,qdw_can,qdc_can = tar_para(\"UN\",i_1,tar_,d_,s_,s_can)\n",
    "    all_can = [s_can,wh_can,qdw_can,qdc_can]\n",
    "    all_.append(all_can)\n",
    "df_iter_42 = pd.DataFrame(all_).set_index(0).rename(columns={1:\"WH\",2:\"QDW\",3:\"QDC\"})"
   ]
  },
  {
   "cell_type": "code",
   "execution_count": 281,
   "metadata": {},
   "outputs": [],
   "source": [
    "df_iter_all2 = pd.concat([df_iter_12,df_iter_22,df_iter_32,df_iter_42])"
   ]
  },
  {
   "cell_type": "code",
   "execution_count": 282,
   "metadata": {},
   "outputs": [
    {
     "data": {
      "text/plain": [
       "<matplotlib.axes._subplots.AxesSubplot at 0x248fc8983c8>"
      ]
     },
     "execution_count": 282,
     "metadata": {},
     "output_type": "execute_result"
    },
    {
     "data": {
      "image/png": "[encoded data removed]",
      "text/plain": [
       "<Figure size 432x288 with 1 Axes>"
      ]
     },
     "metadata": {
      "needs_background": "light"
     },
     "output_type": "display_data"
    }
   ],
   "source": [
    "df_iter_all2.plot()"
   ]
  },
  {
   "cell_type": "code",
   "execution_count": null,
   "metadata": {},
   "outputs": [],
   "source": []
  },
  {
   "cell_type": "code",
   "execution_count": null,
   "metadata": {},
   "outputs": [],
   "source": []
  },
  {
   "cell_type": "code",
   "execution_count": 376,
   "metadata": {},
   "outputs": [
    {
     "data": {
      "text/html": [
       "<div>\n",
       "<style scoped>\n",
       "    .dataframe tbody tr th:only-of-type {\n",
       "        vertical-align: middle;\n",
       "    }\n",
       "\n",
       "    .dataframe tbody tr th {\n",
       "        vertical-align: top;\n",
       "    }\n",
       "\n",
       "    .dataframe thead th {\n",
       "        text-align: right;\n",
       "    }\n",
       "</style>\n",
       "<table border=\"1\" class=\"dataframe\">\n",
       "  <thead>\n",
       "    <tr style=\"text-align: right;\">\n",
       "      <th></th>\n",
       "      <th>1</th>\n",
       "    </tr>\n",
       "    <tr>\n",
       "      <th>0</th>\n",
       "      <th></th>\n",
       "    </tr>\n",
       "  </thead>\n",
       "  <tbody>\n",
       "    <tr>\n",
       "      <th>p</th>\n",
       "      <td>-(-alpha + beta*s)/(2*beta)</td>\n",
       "    </tr>\n",
       "    <tr>\n",
       "      <th>w</th>\n",
       "      <td>alpha/beta</td>\n",
       "    </tr>\n",
       "    <tr>\n",
       "      <th>epsilon</th>\n",
       "      <td>1/beta</td>\n",
       "    </tr>\n",
       "    <tr>\n",
       "      <th>q_d</th>\n",
       "      <td>-(alpha + beta*s)*(delta_d - 1)/2</td>\n",
       "    </tr>\n",
       "    <tr>\n",
       "      <th>q_nd</th>\n",
       "      <td>-(-alpha + beta*c)/2</td>\n",
       "    </tr>\n",
       "    <tr>\n",
       "      <th>q_t</th>\n",
       "      <td>(-alpha + beta*c)*(delta_s - 1)/2</td>\n",
       "    </tr>\n",
       "    <tr>\n",
       "      <th>t</th>\n",
       "      <td>(alpha + beta*c)/(2*beta)</td>\n",
       "    </tr>\n",
       "    <tr>\n",
       "      <th>profit_r</th>\n",
       "      <td>-(alpha**2*delta_d - alpha**2*delta_s + 2*alph...</td>\n",
       "    </tr>\n",
       "    <tr>\n",
       "      <th>profit_s</th>\n",
       "      <td>-(-alpha + beta*c)**2*(delta_s - 1)/(4*beta)</td>\n",
       "    </tr>\n",
       "    <tr>\n",
       "      <th>profit_all</th>\n",
       "      <td>-(alpha**2*delta_d - alpha**2 - 2*alpha*beta*c...</td>\n",
       "    </tr>\n",
       "    <tr>\n",
       "      <th>h1_r_p</th>\n",
       "      <td>2*beta*(delta_d - 1)</td>\n",
       "    </tr>\n",
       "    <tr>\n",
       "      <th>h1_s_w</th>\n",
       "      <td>zoo*(-alpha + beta*c)**2</td>\n",
       "    </tr>\n",
       "    <tr>\n",
       "      <th>h1_s_e</th>\n",
       "      <td>zoo*(-alpha + beta*c)**4</td>\n",
       "    </tr>\n",
       "  </tbody>\n",
       "</table>\n",
       "</div>"
      ],
      "text/plain": [
       "                                                            1\n",
       "0                                                            \n",
       "p                                 -(-alpha + beta*s)/(2*beta)\n",
       "w                                                  alpha/beta\n",
       "epsilon                                                1/beta\n",
       "q_d                         -(alpha + beta*s)*(delta_d - 1)/2\n",
       "q_nd                                     -(-alpha + beta*c)/2\n",
       "q_t                         (-alpha + beta*c)*(delta_s - 1)/2\n",
       "t                                   (alpha + beta*c)/(2*beta)\n",
       "profit_r    -(alpha**2*delta_d - alpha**2*delta_s + 2*alph...\n",
       "profit_s         -(-alpha + beta*c)**2*(delta_s - 1)/(4*beta)\n",
       "profit_all  -(alpha**2*delta_d - alpha**2 - 2*alpha*beta*c...\n",
       "h1_r_p                                   2*beta*(delta_d - 1)\n",
       "h1_s_w                               zoo*(-alpha + beta*c)**2\n",
       "h1_s_e                               zoo*(-alpha + beta*c)**4"
      ]
     },
     "execution_count": 376,
     "metadata": {},
     "output_type": "execute_result"
    }
   ],
   "source": [
    "UN_BD_QDC"
   ]
  },
  {
   "cell_type": "code",
   "execution_count": null,
   "metadata": {},
   "outputs": [],
   "source": []
  },
  {
   "cell_type": "code",
   "execution_count": null,
   "metadata": {},
   "outputs": [],
   "source": []
  },
  {
   "cell_type": "code",
   "execution_count": null,
   "metadata": {},
   "outputs": [],
   "source": []
  },
  {
   "cell_type": "code",
   "execution_count": null,
   "metadata": {},
   "outputs": [],
   "source": []
  },
  {
   "cell_type": "code",
   "execution_count": null,
   "metadata": {},
   "outputs": [],
   "source": []
  },
  {
   "cell_type": "code",
   "execution_count": 396,
   "metadata": {},
   "outputs": [],
   "source": [
    "i_1 = \"BS\"\n",
    "tar_ = \"t\"\n",
    "d_ = 0.3\n",
    "s_ = 0.6\n",
    "gap_ = 1\n",
    "test_t = para_all().rename(columns={\"WH\":\"t_WH\",\"QDW\":\"t_QDW\",\"QDC\":\"t_QDC\"})"
   ]
  },
  {
   "cell_type": "code",
   "execution_count": null,
   "metadata": {},
   "outputs": [],
   "source": [
    "test_t.plot()"
   ]
  },
  {
   "cell_type": "code",
   "execution_count": 397,
   "metadata": {},
   "outputs": [],
   "source": [
    "i_1 = \"BS\"\n",
    "tar_ = \"q_d\"\n",
    "d_ = 0.3\n",
    "s_ = 0.6\n",
    "gap_ = 1\n",
    "test_d = para_all().rename(columns={\"WH\":\"d_WH\",\"QDW\":\"d_QDW\",\"QDC\":\"d_QDC\"})"
   ]
  },
  {
   "cell_type": "code",
   "execution_count": null,
   "metadata": {},
   "outputs": [],
   "source": []
  },
  {
   "cell_type": "code",
   "execution_count": 398,
   "metadata": {},
   "outputs": [],
   "source": [
    "i_1 = \"BS\"\n",
    "tar_ = \"q_t\"\n",
    "d_ = 0.3\n",
    "s_ = 0.6\n",
    "gap_ = 1\n",
    "test_s = para_all().rename(columns={\"WH\":\"s_WH\",\"QDW\":\"s_QDW\",\"QDC\":\"s_QDC\"})"
   ]
  },
  {
   "cell_type": "code",
   "execution_count": null,
   "metadata": {},
   "outputs": [],
   "source": []
  },
  {
   "cell_type": "code",
   "execution_count": 399,
   "metadata": {},
   "outputs": [],
   "source": [
    "i_1 = \"BS\"\n",
    "tar_ = \"q_nd\"\n",
    "d_ = 0.3\n",
    "s_ = 0.6\n",
    "gap_ = 1\n",
    "test_nd = para_all().rename(columns={\"WH\":\"nd_WH\",\"QDW\":\"nd_QDW\",\"QDC\":\"nd_QDC\"})"
   ]
  },
  {
   "cell_type": "code",
   "execution_count": 391,
   "metadata": {},
   "outputs": [
    {
     "data": {
      "text/plain": [
       "<matplotlib.axes._subplots.AxesSubplot at 0x248835b1bc8>"
      ]
     },
     "execution_count": 391,
     "metadata": {},
     "output_type": "execute_result"
    },
    {
     "data": {
      "image/png": "[encoded data removed]",
      "text/plain": [
       "<Figure size 432x288 with 1 Axes>"
      ]
     },
     "metadata": {
      "needs_background": "light"
     },
     "output_type": "display_data"
    }
   ],
   "source": [
    "test_d.plot()"
   ]
  },
  {
   "cell_type": "code",
   "execution_count": 392,
   "metadata": {},
   "outputs": [
    {
     "data": {
      "text/plain": [
       "<matplotlib.axes._subplots.AxesSubplot at 0x2488359e348>"
      ]
     },
     "execution_count": 392,
     "metadata": {},
     "output_type": "execute_result"
    },
    {
     "data": {
      "image/png": "[encoded data removed]",
      "text/plain": [
       "<Figure size 432x288 with 1 Axes>"
      ]
     },
     "metadata": {
      "needs_background": "light"
     },
     "output_type": "display_data"
    }
   ],
   "source": [
    "test_s.plot()"
   ]
  },
  {
   "cell_type": "code",
   "execution_count": 389,
   "metadata": {},
   "outputs": [
    {
     "data": {
      "text/plain": [
       "<matplotlib.axes._subplots.AxesSubplot at 0x248837c1588>"
      ]
     },
     "execution_count": 389,
     "metadata": {},
     "output_type": "execute_result"
    },
    {
     "data": {
      "image/png": "[encoded data removed]",
      "text/plain": [
       "<Figure size 432x288 with 1 Axes>"
      ]
     },
     "metadata": {
      "needs_background": "light"
     },
     "output_type": "display_data"
    }
   ],
   "source": [
    "test_nd.plot()"
   ]
  },
  {
   "cell_type": "code",
   "execution_count": 401,
   "metadata": {},
   "outputs": [
    {
     "data": {
      "text/plain": [
       "<matplotlib.axes._subplots.AxesSubplot at 0x24883b25f48>"
      ]
     },
     "execution_count": 401,
     "metadata": {},
     "output_type": "execute_result"
    },
    {
     "data": {
      "image/png": "[encoded data removed]",
      "text/plain": [
       "<Figure size 432x288 with 1 Axes>"
      ]
     },
     "metadata": {
      "needs_background": "light"
     },
     "output_type": "display_data"
    }
   ],
   "source": [
    "test_all = pd.concat([test_d,test_s],axis=1)\n",
    "test_all.plot()"
   ]
  },
  {
   "cell_type": "code",
   "execution_count": null,
   "metadata": {},
   "outputs": [],
   "source": []
  },
  {
   "cell_type": "code",
   "execution_count": null,
   "metadata": {},
   "outputs": [],
   "source": []
  },
  {
   "cell_type": "markdown",
   "metadata": {},
   "source": [
    "# DD, BD"
   ]
  },
  {
   "cell_type": "code",
   "execution_count": 404,
   "metadata": {},
   "outputs": [],
   "source": []
  },
  {
   "cell_type": "code",
   "execution_count": 405,
   "metadata": {},
   "outputs": [
    {
     "data": {
      "text/plain": [
       "<matplotlib.axes._subplots.AxesSubplot at 0x248837fb7c8>"
      ]
     },
     "execution_count": 405,
     "metadata": {},
     "output_type": "execute_result"
    },
    {
     "data": {
      "image/png": "[encoded data removed]",
      "text/plain": [
       "<Figure size 432x288 with 1 Axes>"
      ]
     },
     "metadata": {
      "needs_background": "light"
     },
     "output_type": "display_data"
    }
   ],
   "source": []
  },
  {
   "cell_type": "code",
   "execution_count": 406,
   "metadata": {},
   "outputs": [
    {
     "data": {
      "text/plain": [
       "110.71428571428571"
      ]
     },
     "execution_count": 406,
     "metadata": {},
     "output_type": "execute_result"
    }
   ],
   "source": [
    "s_para(d_,s_)[0]"
   ]
  },
  {
   "cell_type": "code",
   "execution_count": 407,
   "metadata": {},
   "outputs": [
    {
     "data": {
      "text/plain": [
       "153.64576885775466"
      ]
     },
     "execution_count": 407,
     "metadata": {},
     "output_type": "execute_result"
    }
   ],
   "source": [
    "s_para(d_,s_)[1]"
   ]
  },
  {
   "cell_type": "code",
   "execution_count": 415,
   "metadata": {},
   "outputs": [],
   "source": [
    "def para_all_2():\n",
    "    #iter_1 = np.arange(-s_para(d_,s_)[1]-30,-s_para(d_,s_)[1],gap_)\n",
    "    #iter_2 = np.arange(-s_para(d_,s_)[1],-s_para(d_,s_)[0],gap_)\n",
    "    iter_1 = np.arange(-c_,0,gap_)\n",
    "    iter_2 = np.arange(0,s_para(d_,s_)[0],gap_)\n",
    "    all_ = []\n",
    "    for s_can in iter_1:\n",
    "        wh_can,qdw_can,qdc_can = tar_para(\"UN\",i_1,tar_,d_,s_,s_can)\n",
    "        all_can = [s_can,wh_can,qdw_can,qdc_can]\n",
    "        all_.append(all_can)\n",
    "    df_iter_12 = pd.DataFrame(all_).set_index(0).rename(columns={1:\"WH\",2:\"QDW\",3:\"QDC\"})\n",
    "\n",
    "    all_ = []\n",
    "    for s_can in iter_2:\n",
    "        wh_can,qdw_can,qdc_can = tar_para(\"UN\",i_1,tar_,d_,s_,s_can)\n",
    "        all_can = [s_can,wh_can,qdw_can,qdc_can]\n",
    "        all_.append(all_can)\n",
    "    df_iter_22 = pd.DataFrame(all_).set_index(0).rename(columns={1:\"WH\",2:\"QDW\",3:\"QDC\"})\n",
    "\n",
    "    df_iter_all2 = pd.concat([df_iter_12,df_iter_22])\n",
    "    return df_iter_all2"
   ]
  },
  {
   "cell_type": "code",
   "execution_count": 418,
   "metadata": {},
   "outputs": [],
   "source": [
    "i_1 = \"DD\"\n",
    "tar_ = \"profit_r\"\n",
    "d_ = 0.6\n",
    "s_ = 0.3\n",
    "c_ = 50\n",
    "gap_ = 1\n",
    "test_r = para_all_2()#.rename(columns={\"WH\":\"t_WH\",\"QDW\":\"t_QDW\",\"QDC\":\"t_QDC\"})"
   ]
  },
  {
   "cell_type": "code",
   "execution_count": 423,
   "metadata": {},
   "outputs": [
    {
     "data": {
      "text/plain": [
       "<matplotlib.axes._subplots.AxesSubplot at 0x24884e487c8>"
      ]
     },
     "execution_count": 423,
     "metadata": {},
     "output_type": "execute_result"
    },
    {
     "data": {
      "image/png": "[encoded data removed]",
      "text/plain": [
       "<Figure size 432x288 with 1 Axes>"
      ]
     },
     "metadata": {
      "needs_background": "light"
     },
     "output_type": "display_data"
    }
   ],
   "source": [
    "test_r.plot()"
   ]
  },
  {
   "cell_type": "code",
   "execution_count": 424,
   "metadata": {},
   "outputs": [],
   "source": [
    "i_1 = \"DD\"\n",
    "tar_ = \"profit_r\"\n",
    "d_ = 0.9\n",
    "s_ = 0.3\n",
    "c_ = 50\n",
    "gap_ = 1\n",
    "test_r2 = para_all_2()#.rename(columns={\"WH\":\"t_WH\",\"QDW\":\"t_QDW\",\"QDC\":\"t_QDC\"})"
   ]
  },
  {
   "cell_type": "code",
   "execution_count": 425,
   "metadata": {},
   "outputs": [
    {
     "data": {
      "text/plain": [
       "<matplotlib.axes._subplots.AxesSubplot at 0x24883d81ac8>"
      ]
     },
     "execution_count": 425,
     "metadata": {},
     "output_type": "execute_result"
    },
    {
     "data": {
      "image/png": "[encoded data removed]",
      "text/plain": [
       "<Figure size 432x288 with 1 Axes>"
      ]
     },
     "metadata": {
      "needs_background": "light"
     },
     "output_type": "display_data"
    }
   ],
   "source": [
    "test_r2.plot()"
   ]
  },
  {
   "cell_type": "code",
   "execution_count": 467,
   "metadata": {},
   "outputs": [],
   "source": [
    "i_1 = \"DD\"\n",
    "tar_ = \"profit_r\"\n",
    "d_ = 0.6\n",
    "s_ = 0.3\n",
    "c_ = 90\n",
    "gap_ = 1\n",
    "test_r3 = para_all_2()#.rename(columns={\"WH\":\"t_WH\",\"QDW\":\"t_QDW\",\"QDC\":\"t_QDC\"})"
   ]
  },
  {
   "cell_type": "code",
   "execution_count": 469,
   "metadata": {},
   "outputs": [
    {
     "data": {
      "text/plain": [
       "<matplotlib.axes._subplots.AxesSubplot at 0x24884de7288>"
      ]
     },
     "execution_count": 469,
     "metadata": {},
     "output_type": "execute_result"
    },
    {
     "data": {
      "image/png": "[encoded data removed]",
      "text/plain": [
       "<Figure size 432x288 with 1 Axes>"
      ]
     },
     "metadata": {
      "needs_background": "light"
     },
     "output_type": "display_data"
    }
   ],
   "source": [
    "test_r3.plot()"
   ]
  },
  {
   "cell_type": "code",
   "execution_count": null,
   "metadata": {},
   "outputs": [],
   "source": []
  },
  {
   "cell_type": "code",
   "execution_count": 428,
   "metadata": {},
   "outputs": [],
   "source": [
    "i_1 = \"DD\"\n",
    "tar_ = \"profit_s\"\n",
    "d_ = 0.6\n",
    "s_ = 0.3\n",
    "c_ = 50\n",
    "gap_ = 1\n",
    "test_s = para_all_2()#.rename(columns={\"WH\":\"t_WH\",\"QDW\":\"t_QDW\",\"QDC\":\"t_QDC\"})"
   ]
  },
  {
   "cell_type": "code",
   "execution_count": 430,
   "metadata": {},
   "outputs": [
    {
     "data": {
      "text/plain": [
       "<matplotlib.axes._subplots.AxesSubplot at 0x24883d08ac8>"
      ]
     },
     "execution_count": 430,
     "metadata": {},
     "output_type": "execute_result"
    },
    {
     "data": {
      "image/png": "[encoded data removed]",
      "text/plain": [
       "<Figure size 432x288 with 1 Axes>"
      ]
     },
     "metadata": {
      "needs_background": "light"
     },
     "output_type": "display_data"
    }
   ],
   "source": [
    "test_s.plot()"
   ]
  },
  {
   "cell_type": "code",
   "execution_count": 432,
   "metadata": {},
   "outputs": [],
   "source": [
    "i_1 = \"DD\"\n",
    "tar_ = \"profit_all\"\n",
    "d_ = 0.6\n",
    "s_ = 0.3\n",
    "c_ = 50\n",
    "gap_ = 1\n",
    "test_all = para_all_2()#.rename(columns={\"WH\":\"t_WH\",\"QDW\":\"t_QDW\",\"QDC\":\"t_QDC\"})"
   ]
  },
  {
   "cell_type": "code",
   "execution_count": 433,
   "metadata": {},
   "outputs": [
    {
     "data": {
      "text/plain": [
       "<matplotlib.axes._subplots.AxesSubplot at 0x24883c7cf48>"
      ]
     },
     "execution_count": 433,
     "metadata": {},
     "output_type": "execute_result"
    },
    {
     "data": {
      "image/png": "[encoded data removed]",
      "text/plain": [
       "<Figure size 432x288 with 1 Axes>"
      ]
     },
     "metadata": {
      "needs_background": "light"
     },
     "output_type": "display_data"
    }
   ],
   "source": [
    "test_all.plot()"
   ]
  },
  {
   "cell_type": "code",
   "execution_count": 434,
   "metadata": {},
   "outputs": [],
   "source": [
    "i_1 = \"DD\"\n",
    "tar_ = \"profit_all\"\n",
    "d_ = 0.3\n",
    "s_ = 0.1\n",
    "c_ = 50\n",
    "gap_ = 1\n",
    "test_all = para_all_2()#.rename(columns={\"WH\":\"t_WH\",\"QDW\":\"t_QDW\",\"QDC\":\"t_QDC\"})"
   ]
  },
  {
   "cell_type": "code",
   "execution_count": 435,
   "metadata": {},
   "outputs": [
    {
     "data": {
      "text/plain": [
       "<matplotlib.axes._subplots.AxesSubplot at 0x248850fa208>"
      ]
     },
     "execution_count": 435,
     "metadata": {},
     "output_type": "execute_result"
    },
    {
     "data": {
      "image/png": "[encoded data removed]",
      "text/plain": [
       "<Figure size 432x288 with 1 Axes>"
      ]
     },
     "metadata": {
      "needs_background": "light"
     },
     "output_type": "display_data"
    }
   ],
   "source": [
    "test_all.plot()"
   ]
  },
  {
   "cell_type": "code",
   "execution_count": null,
   "metadata": {},
   "outputs": [],
   "source": []
  },
  {
   "cell_type": "code",
   "execution_count": 436,
   "metadata": {},
   "outputs": [],
   "source": [
    "i_1 = \"DD\"\n",
    "tar_ = \"profit_all\"\n",
    "d_ = 0.9\n",
    "s_ = 0.1\n",
    "c_ = 50\n",
    "gap_ = 1\n",
    "test_all = para_all_2()#.rename(columns={\"WH\":\"t_WH\",\"QDW\":\"t_QDW\",\"QDC\":\"t_QDC\"})test_all.plot()"
   ]
  },
  {
   "cell_type": "code",
   "execution_count": 437,
   "metadata": {},
   "outputs": [
    {
     "data": {
      "text/plain": [
       "<matplotlib.axes._subplots.AxesSubplot at 0x24885110848>"
      ]
     },
     "execution_count": 437,
     "metadata": {},
     "output_type": "execute_result"
    },
    {
     "data": {
      "image/png": "[encoded data removed]",
      "text/plain": [
       "<Figure size 432x288 with 1 Axes>"
      ]
     },
     "metadata": {
      "needs_background": "light"
     },
     "output_type": "display_data"
    }
   ],
   "source": [
    "test_all.plot()"
   ]
  },
  {
   "cell_type": "code",
   "execution_count": null,
   "metadata": {},
   "outputs": [],
   "source": []
  },
  {
   "cell_type": "code",
   "execution_count": 464,
   "metadata": {},
   "outputs": [],
   "source": [
    "i_1 = \"DD\"\n",
    "tar_ = \"q_d\"\n",
    "d_ = 0.6\n",
    "s_ = 0.3\n",
    "c_ = 90\n",
    "gap_ = 1\n",
    "test_qd = para_all_2().rename(columns={\"WH\":\"d_WH\",\"QDW\":\"d_QDW\",\"QDC\":\"d_QDC\"})"
   ]
  },
  {
   "cell_type": "code",
   "execution_count": 444,
   "metadata": {},
   "outputs": [
    {
     "data": {
      "text/plain": [
       "<matplotlib.axes._subplots.AxesSubplot at 0x248852de188>"
      ]
     },
     "execution_count": 444,
     "metadata": {},
     "output_type": "execute_result"
    },
    {
     "data": {
      "image/png": "[encoded data removed]",
      "text/plain": [
       "<Figure size 432x288 with 1 Axes>"
      ]
     },
     "metadata": {
      "needs_background": "light"
     },
     "output_type": "display_data"
    }
   ],
   "source": [
    "test_qd.plot()"
   ]
  },
  {
   "cell_type": "code",
   "execution_count": 465,
   "metadata": {},
   "outputs": [],
   "source": [
    "i_1 = \"DD\"\n",
    "tar_ = \"q_t\"\n",
    "d_ = 0.6\n",
    "s_ = 0.3\n",
    "c_ = 90\n",
    "gap_ = 1\n",
    "test_qt = para_all_2()#.rename(columns={\"WH\":\"t_WH\",\"QDW\":\"t_QDW\",\"QDC\":\"t_QDC\"})"
   ]
  },
  {
   "cell_type": "code",
   "execution_count": 441,
   "metadata": {},
   "outputs": [
    {
     "data": {
      "text/plain": [
       "<matplotlib.axes._subplots.AxesSubplot at 0x24884f9d3c8>"
      ]
     },
     "execution_count": 441,
     "metadata": {},
     "output_type": "execute_result"
    },
    {
     "data": {
      "image/png": "[encoded data removed]",
      "text/plain": [
       "<Figure size 432x288 with 1 Axes>"
      ]
     },
     "metadata": {
      "needs_background": "light"
     },
     "output_type": "display_data"
    }
   ],
   "source": [
    "test_qt.plot()"
   ]
  },
  {
   "cell_type": "code",
   "execution_count": 466,
   "metadata": {},
   "outputs": [
    {
     "data": {
      "text/plain": [
       "<matplotlib.axes._subplots.AxesSubplot at 0x24883a74ac8>"
      ]
     },
     "execution_count": 466,
     "metadata": {},
     "output_type": "execute_result"
    },
    {
     "data": {
      "image/png": "[encoded data removed]",
      "text/plain": [
       "<Figure size 432x288 with 1 Axes>"
      ]
     },
     "metadata": {
      "needs_background": "light"
     },
     "output_type": "display_data"
    }
   ],
   "source": [
    "pd.concat([test_qd,test_qt],axis=1).plot()"
   ]
  },
  {
   "cell_type": "code",
   "execution_count": null,
   "metadata": {},
   "outputs": [],
   "source": []
  },
  {
   "cell_type": "code",
   "execution_count": 446,
   "metadata": {},
   "outputs": [],
   "source": [
    "i_1 = \"DD\"\n",
    "tar_ = \"p\"\n",
    "d_ = 0.6\n",
    "s_ = 0.3\n",
    "c_ = 50\n",
    "gap_ = 1\n",
    "test_price = para_all_2()#.rename(columns={\"WH\":\"t_WH\",\"QDW\":\"t_QDW\",\"QDC\":\"t_QDC\"})"
   ]
  },
  {
   "cell_type": "code",
   "execution_count": 447,
   "metadata": {},
   "outputs": [
    {
     "data": {
      "text/plain": [
       "<matplotlib.axes._subplots.AxesSubplot at 0x248854a1ac8>"
      ]
     },
     "execution_count": 447,
     "metadata": {},
     "output_type": "execute_result"
    },
    {
     "data": {
      "image/png": "[encoded data removed]",
      "text/plain": [
       "<Figure size 432x288 with 1 Axes>"
      ]
     },
     "metadata": {
      "needs_background": "light"
     },
     "output_type": "display_data"
    }
   ],
   "source": [
    "test_price.plot()"
   ]
  },
  {
   "cell_type": "code",
   "execution_count": null,
   "metadata": {},
   "outputs": [],
   "source": []
  },
  {
   "cell_type": "markdown",
   "metadata": {},
   "source": [
    "# BD"
   ]
  },
  {
   "cell_type": "code",
   "execution_count": 448,
   "metadata": {},
   "outputs": [],
   "source": [
    "i_1 = \"BD\"\n",
    "tar_ = \"profit_r\"\n",
    "d_ = 0.6\n",
    "s_ = 0.3\n",
    "c_ = 50\n",
    "gap_ = 1\n",
    "test_r = para_all_2()#.rename(columns={\"WH\":\"t_WH\",\"QDW\":\"t_QDW\",\"QDC\":\"t_QDC\"})"
   ]
  },
  {
   "cell_type": "code",
   "execution_count": 449,
   "metadata": {},
   "outputs": [
    {
     "data": {
      "text/plain": [
       "<matplotlib.axes._subplots.AxesSubplot at 0x24884f9f588>"
      ]
     },
     "execution_count": 449,
     "metadata": {},
     "output_type": "execute_result"
    },
    {
     "data": {
      "image/png": "[encoded data removed]",
      "text/plain": [
       "<Figure size 432x288 with 1 Axes>"
      ]
     },
     "metadata": {
      "needs_background": "light"
     },
     "output_type": "display_data"
    }
   ],
   "source": [
    "test_r.plot()"
   ]
  },
  {
   "cell_type": "code",
   "execution_count": 451,
   "metadata": {},
   "outputs": [],
   "source": [
    "i_1 = \"BD\"\n",
    "tar_ = \"q_d\"\n",
    "d_ = 0.6\n",
    "s_ = 0.3\n",
    "c_ = 50\n",
    "gap_ = 1\n",
    "test_qd = para_all_2().rename(columns={\"WH\":\"d_WH\",\"QDW\":\"d_QDW\",\"QDC\":\"d_QDC\"})"
   ]
  },
  {
   "cell_type": "code",
   "execution_count": 452,
   "metadata": {},
   "outputs": [],
   "source": [
    "i_1 = \"BD\"\n",
    "tar_ = \"q_t\"\n",
    "d_ = 0.6\n",
    "s_ = 0.3\n",
    "c_ = 50\n",
    "gap_ = 1\n",
    "test_qt = para_all_2()#.rename(columns={\"WH\":\"t_WH\",\"QDW\":\"t_QDW\",\"QDC\":\"t_QDC\"})"
   ]
  },
  {
   "cell_type": "code",
   "execution_count": 453,
   "metadata": {},
   "outputs": [
    {
     "data": {
      "text/plain": [
       "<matplotlib.axes._subplots.AxesSubplot at 0x2488547ff88>"
      ]
     },
     "execution_count": 453,
     "metadata": {},
     "output_type": "execute_result"
    },
    {
     "data": {
      "image/png": "[encoded data removed]",
      "text/plain": [
       "<Figure size 432x288 with 1 Axes>"
      ]
     },
     "metadata": {
      "needs_background": "light"
     },
     "output_type": "display_data"
    }
   ],
   "source": [
    "pd.concat([test_qd,test_qt],axis=1).plot()"
   ]
  },
  {
   "cell_type": "code",
   "execution_count": null,
   "metadata": {},
   "outputs": [],
   "source": []
  },
  {
   "cell_type": "code",
   "execution_count": 454,
   "metadata": {},
   "outputs": [],
   "source": [
    "i_1 = \"BD\"\n",
    "tar_ = \"profit_r\"\n",
    "d_ = 0.9\n",
    "s_ = 0.3\n",
    "c_ = 50\n",
    "gap_ = 1\n",
    "test_r = para_all_2()#.rename(columns={\"WH\":\"t_WH\",\"QDW\":\"t_QDW\",\"QDC\":\"t_QDC\"})"
   ]
  },
  {
   "cell_type": "code",
   "execution_count": 455,
   "metadata": {},
   "outputs": [
    {
     "data": {
      "text/plain": [
       "<matplotlib.axes._subplots.AxesSubplot at 0x24885644b88>"
      ]
     },
     "execution_count": 455,
     "metadata": {},
     "output_type": "execute_result"
    },
    {
     "data": {
      "image/png": "[encoded data removed]",
      "text/plain": [
       "<Figure size 432x288 with 1 Axes>"
      ]
     },
     "metadata": {
      "needs_background": "light"
     },
     "output_type": "display_data"
    }
   ],
   "source": [
    "test_r.plot()"
   ]
  },
  {
   "cell_type": "code",
   "execution_count": 461,
   "metadata": {},
   "outputs": [],
   "source": [
    "i_1 = \"BD\"\n",
    "tar_ = \"q_d\"\n",
    "d_ = 0.9\n",
    "s_ = 0.3\n",
    "c_ = 90\n",
    "gap_ = 1\n",
    "test_qd = para_all_2().rename(columns={\"WH\":\"d_WH\",\"QDW\":\"d_QDW\",\"QDC\":\"d_QDC\"})"
   ]
  },
  {
   "cell_type": "code",
   "execution_count": 462,
   "metadata": {},
   "outputs": [],
   "source": [
    "i_1 = \"BD\"\n",
    "tar_ = \"q_t\"\n",
    "d_ = 0.9\n",
    "s_ = 0.3\n",
    "c_ = 90\n",
    "gap_ = 1\n",
    "test_qt = para_all_2()#.rename(columns={\"WH\":\"t_WH\",\"QDW\":\"t_QDW\",\"QDC\":\"t_QDC\"})"
   ]
  },
  {
   "cell_type": "code",
   "execution_count": 463,
   "metadata": {},
   "outputs": [
    {
     "data": {
      "text/plain": [
       "<matplotlib.axes._subplots.AxesSubplot at 0x248867e4cc8>"
      ]
     },
     "execution_count": 463,
     "metadata": {},
     "output_type": "execute_result"
    },
    {
     "data": {
      "image/png": "[encoded data removed]",
      "text/plain": [
       "<Figure size 432x288 with 1 Axes>"
      ]
     },
     "metadata": {
      "needs_background": "light"
     },
     "output_type": "display_data"
    }
   ],
   "source": [
    "pd.concat([test_qd,test_qt],axis=1).plot()"
   ]
  },
  {
   "cell_type": "code",
   "execution_count": null,
   "metadata": {},
   "outputs": [],
   "source": []
  },
  {
   "cell_type": "code",
   "execution_count": null,
   "metadata": {},
   "outputs": [],
   "source": []
  },
  {
   "cell_type": "code",
   "execution_count": null,
   "metadata": {},
   "outputs": [],
   "source": []
  }
 ],
 "metadata": {
  "kernelspec": {
   "display_name": "Python 3",
   "language": "python",
   "name": "python3"
  },
  "language_info": {
   "codemirror_mode": {
    "name": "ipython",
    "version": 3
   },
   "file_extension": ".py",
   "mimetype": "text/x-python",
   "name": "python",
   "nbconvert_exporter": "python",
   "pygments_lexer": "ipython3",
   "version": "3.7.6"
  }
 },
 "nbformat": 4,
 "nbformat_minor": 4
}
