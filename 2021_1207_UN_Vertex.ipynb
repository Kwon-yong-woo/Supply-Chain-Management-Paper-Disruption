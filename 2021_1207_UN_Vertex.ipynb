{
 "cells": [
  {
   "cell_type": "code",
   "execution_count": 1,
   "metadata": {},
   "outputs": [],
   "source": [
    "import pandas as pd\n",
    "import numpy as np\n",
    "import sympy\n",
    "from sympy.solvers.inequalities import reduce_rational_inequalities,reduce_inequalities\n",
    "from itertools import chain\n",
    "from collections import defaultdict\n",
    "from IPython.display import display\n",
    "\n",
    "from sympy.parsing.sympy_parser import parse_expr\n",
    "from sympy.parsing.sympy_parser import standard_transformations\n",
    "from sympy.printing.mathml import print_mathml\n",
    "import math\n",
    "from IPython.display import display, Markdown, Latex\n",
    "import os\n",
    "from tqdm.notebook import tqdm\n",
    "import seaborn as sns\n",
    "import matplotlib.pyplot as plt\n",
    "\n",
    "def make_symbols_positive(sym):\n",
    "    return sympy.symbols(\"{}\".format(sym),positive =True)\n",
    "\n",
    "def make_symbols_function(sym):\n",
    "    return sympy.symbols(\"{}\".format(sym),cl)\n",
    "\n",
    "def subs_function(target,list_):\n",
    "    return sympy.simplify(target.subs(list_))\n",
    "\n",
    "def root_cal(value):\n",
    "    return value**(1/2)"
   ]
  },
  {
   "cell_type": "code",
   "execution_count": 2,
   "metadata": {},
   "outputs": [
    {
     "name": "stdout",
     "output_type": "stream",
     "text": [
      "\u001b[1mHello World !\u001b[0m\n"
     ]
    }
   ],
   "source": [
    "class color:\n",
    "   PURPLE = '\\033[95m'\n",
    "   CYAN = '\\033[96m'\n",
    "   DARKCYAN = '\\033[36m'\n",
    "   BLUE = '\\033[94m'\n",
    "   GREEN = '\\033[92m'\n",
    "   YELLOW = '\\033[93m'\n",
    "   RED = '\\033[91m'\n",
    "   BOLD = '\\033[1m'\n",
    "   UNDERLINE = '\\033[4m'\n",
    "   END = '\\033[0m'\n",
    "\n",
    "print(color.BOLD + 'Hello World !' + color.END)"
   ]
  },
  {
   "cell_type": "markdown",
   "metadata": {},
   "source": [
    "# w_range"
   ]
  },
  {
   "cell_type": "code",
   "execution_count": 3,
   "metadata": {},
   "outputs": [],
   "source": [
    "def sol_w_same(df_1,target_):\n",
    "    w_sol = sympy.solve([df_1[\"QD\"][target_]-df_1[\"FB\"][target_]],w)\n",
    "    return w_sol"
   ]
  },
  {
   "cell_type": "code",
   "execution_count": 4,
   "metadata": {},
   "outputs": [],
   "source": [
    "def sol_w_other(df_1,equa):\n",
    "    w_sol = sympy.solve(equa,w)\n",
    "    return w_sol"
   ]
  },
  {
   "cell_type": "code",
   "execution_count": 5,
   "metadata": {},
   "outputs": [],
   "source": [
    "def display_solve(df_1,w_sol):\n",
    "    for row,col in df_1.iterrows():\n",
    "        print(row)\n",
    "        try:\n",
    "            display(col[\"QD\"].subs([(w,w_sol)]).factor())\n",
    "        except:\n",
    "            print()\n",
    "        print()"
   ]
  },
  {
   "cell_type": "code",
   "execution_count": 6,
   "metadata": {},
   "outputs": [],
   "source": [
    "def display_solve2(df_1,w_sol):\n",
    "    for row,col in df_1.iterrows():\n",
    "        print(row)\n",
    "        try:\n",
    "            display(col[\"QD\"].subs([(w,w_sol)]).simplify())\n",
    "        except:\n",
    "            print()\n",
    "        print()"
   ]
  },
  {
   "cell_type": "code",
   "execution_count": 7,
   "metadata": {},
   "outputs": [],
   "source": [
    "def display_w_insert(df_,w_1):\n",
    "    order_ = [\"w\",\"epsilon\",\"t\",\"p\",\"q_nd\",\"q_t\",\"q\",\"profit_r\",\"profit_s\",\"profit_all\",\"h1_r_p\",\"h1_s_w\",\"h1_s_e\"]\n",
    "    if w_1 == \"WH\":\n",
    "        for ord_ in order_:\n",
    "            try:\n",
    "                value_ = df_[1][ord_].factor()\n",
    "                value_2 = df_[1][ord_].simplify()\n",
    "                print(color.RED + ord_ + color.END)\n",
    "                display(\"factor: \",value_)\n",
    "                display(\"simplify: \",value_2)\n",
    "                print(\"-\"*40)\n",
    "            except:\n",
    "                print(color.RED + ord_ + color.END)\n",
    "                print(\"-\"*40)\n",
    "    else:\n",
    "        for ord_ in order_:\n",
    "            try:\n",
    "                value_ = df_[1][ord_].subs([(w,w_1)]).factor()\n",
    "                value_2 = df_[1][ord_].subs([(w,w_1)]).simplify()\n",
    "                print(color.RED + ord_ + color.END)\n",
    "                display(\"factor: \",value_)\n",
    "                display(\"simplify: \",value_2)\n",
    "                print(\"-\"*40)\n",
    "            except:\n",
    "                print(color.RED + ord_ + color.END)\n",
    "                print(\"-\"*40)"
   ]
  },
  {
   "cell_type": "code",
   "execution_count": 9,
   "metadata": {},
   "outputs": [],
   "source": [
    "Path_ = r\"C:\\Users\\Samsung\\jupyter\\Graduation_thesis\\result\\version_un_4\""
   ]
  },
  {
   "cell_type": "code",
   "execution_count": 10,
   "metadata": {},
   "outputs": [],
   "source": [
    "file_list = os.listdir(Path_)\n",
    "file_list_xlsx = [f for f in file_list if f.endswith(\".xlsx\")]\n",
    "#file_FB = [f for f in file_list_xlsx if f.contains(\"FB\")]\n",
    "#file_WH = [f for f in file_list_xlsx if f.contains(\"WH\")]\n",
    "#file_QD = [f for f in file_list_xlsx if f.contains(\"QD\")]"
   ]
  },
  {
   "cell_type": "code",
   "execution_count": 11,
   "metadata": {},
   "outputs": [
    {
     "data": {
      "text/plain": [
       "['ND_FB',\n",
       " 'ND_QD',\n",
       " 'ND_WH',\n",
       " 'UN_BD_QD',\n",
       " 'UN_BD_WH',\n",
       " 'UN_BS_QD',\n",
       " 'UN_BS_WH',\n",
       " 'UN_DD_QD',\n",
       " 'UN_DD_WH',\n",
       " 'UN_SD_QD',\n",
       " 'UN_SD_WH']"
      ]
     },
     "execution_count": 11,
     "metadata": {},
     "output_type": "execute_result"
    }
   ],
   "source": [
    "file_name = [li.replace(\".xlsx\",\"\") for li in file_list_xlsx]\n",
    "file_name"
   ]
  },
  {
   "cell_type": "code",
   "execution_count": 12,
   "metadata": {},
   "outputs": [],
   "source": [
    "for fn in file_name:\n",
    "    path_ = Path_ + \"\\\\{}.xlsx\"\n",
    "    globals() [\"{}\".format(fn)] = pd.read_excel(path_.format(fn),index_col=0,header=None)\n",
    "    try:\n",
    "        globals() [\"{}\".format(fn)] = globals() [\"{}\".format(fn)]#.rename(index={\"profit_all\":\"pro_all\"})\n",
    "    except:\n",
    "        pass"
   ]
  },
  {
   "cell_type": "code",
   "execution_count": 13,
   "metadata": {},
   "outputs": [],
   "source": [
    "p,w,c,s,alpha,beta,delta_d,delta_s,epsilon,psi = make_symbols_positive(\"p,w,c,s,alpha,beta,delta_d,delta_s,epsilon,psi\")"
   ]
  },
  {
   "cell_type": "code",
   "execution_count": 14,
   "metadata": {},
   "outputs": [],
   "source": [
    "parse_dic = {\"p\":p,\"w\":w,\"c\":c,\"s\":s\n",
    "             ,\"alpha\":alpha,\"beta\":beta\n",
    "             ,\"delta_d\":delta_d,\"delta_s\":delta_s,\"epsilon\":epsilon }"
   ]
  },
  {
   "cell_type": "code",
   "execution_count": 15,
   "metadata": {},
   "outputs": [],
   "source": [
    "for fn in file_name:\n",
    "    globals() [\"{}\".format(fn)][1] = globals() [\"{}\".format(fn)][1].map(lambda x: parse_expr(x.replace(\"^\",\"**\").replace(\"lambda\",\"lambda_\"),parse_dic))"
   ]
  },
  {
   "cell_type": "code",
   "execution_count": null,
   "metadata": {},
   "outputs": [],
   "source": []
  },
  {
   "cell_type": "markdown",
   "metadata": {},
   "source": [
    "# Un cases"
   ]
  },
  {
   "cell_type": "code",
   "execution_count": 16,
   "metadata": {},
   "outputs": [
    {
     "data": {
      "text/latex": [
       "$\\displaystyle \\frac{- \\alpha + 2 \\beta c + \\sqrt{2} \\left(\\alpha - \\beta c\\right)}{\\beta}$"
      ],
      "text/plain": [
       "(-alpha + 2*beta*c + sqrt(2)*(alpha - beta*c))/beta"
      ]
     },
     "execution_count": 16,
     "metadata": {},
     "output_type": "execute_result"
    }
   ],
   "source": [
    "solve_ws = sympy.solve((ND_QD[1][\"profit_s\"]-ND_WH[1][\"profit_s\"]).factor(),w)\n",
    "w_w = solve_ws[1]\n",
    "w_w"
   ]
  },
  {
   "cell_type": "code",
   "execution_count": 17,
   "metadata": {},
   "outputs": [
    {
     "data": {
      "text/latex": [
       "$\\displaystyle \\frac{\\alpha}{\\beta}$"
      ],
      "text/plain": [
       "alpha/beta"
      ]
     },
     "execution_count": 17,
     "metadata": {},
     "output_type": "execute_result"
    }
   ],
   "source": [
    "solve_w = sympy.solve((ND_QD[1][\"profit_all\"]-ND_FB[1][\"profit_all\"]).factor(),w)\n",
    "w_c = solve_w[0]\n",
    "w_c"
   ]
  },
  {
   "cell_type": "code",
   "execution_count": 18,
   "metadata": {},
   "outputs": [],
   "source": [
    "\n",
    "tar_wh = ND_WH.copy()\n",
    "tar_qd = ND_QD.copy()\n",
    "\n",
    "ND_QDW = pd.DataFrame(tar_qd[1].map(lambda x : x.subs([(w,w_w)]).factor())) \n",
    "ND_QDC = pd.DataFrame(tar_qd[1].map(lambda x : x.subs([(w,w_c)]).factor())) \n"
   ]
  },
  {
   "cell_type": "code",
   "execution_count": 19,
   "metadata": {},
   "outputs": [],
   "source": [
    "time_ = \"UN\"\n",
    "dis_ = \"DD\"\n",
    "\n",
    "\n",
    "tar_wh = globals() [\"{}_{}_WH\".format(time_,dis_)]\n",
    "tar_qd = globals() [\"{}_{}_QD\".format(time_,dis_)]\n",
    "\n",
    "globals() [\"{}_{}_QD{}\".format(time_,dis_,\"W\")] = pd.DataFrame(tar_qd[1].map(lambda x : x.subs([(w,w_w)]).factor()))  \n",
    "globals() [\"{}_{}_QD{}\".format(time_,dis_,\"C\")] = pd.DataFrame(tar_qd[1].map(lambda x : x.subs([(w,w_c)]).factor()))  \n",
    "time_ = \"UN\"\n",
    "diss_ = [\"DD\",\"SD\",\"BD\",\"BS\"]\n",
    "\n",
    "for dis_ in diss_:\n",
    "    tar_wh = globals() [\"{}_{}_WH\".format(time_,dis_)]\n",
    "    tar_qd = globals() [\"{}_{}_QD\".format(time_,dis_)]\n",
    "    globals() [\"{}_{}_QD{}\".format(time_,dis_,\"W\")] = pd.DataFrame(tar_qd[1].map(lambda x : x.subs([(w,w_w)]).factor()))  \n",
    "    globals() [\"{}_{}_QD{}\".format(time_,dis_,\"C\")] = pd.DataFrame(tar_qd[1].map(lambda x : x.subs([(w,w_c)]).factor()))  "
   ]
  },
  {
   "cell_type": "code",
   "execution_count": 20,
   "metadata": {},
   "outputs": [],
   "source": [
    "time_ = \"UN\"\n",
    "dis_ = \"SD\"\n",
    "\n",
    "\n",
    "tar_wh = globals() [\"{}_{}_WH\".format(time_,dis_)]\n",
    "tar_qd = globals() [\"{}_{}_QD\".format(time_,dis_)]\n",
    "\n",
    "globals() [\"{}_{}_QD{}\".format(time_,dis_,\"W\")] = pd.DataFrame(tar_qd[1].map(lambda x : x.subs([(w,w_w)]).factor()))  \n",
    "globals() [\"{}_{}_QD{}\".format(time_,dis_,\"C\")] = pd.DataFrame(tar_qd[1].map(lambda x : x.subs([(w,w_c)]).factor()))  \n",
    "time_ = \"UN\"\n",
    "diss_ = [\"DD\",\"SD\",\"BD\",\"BS\"]\n",
    "\n",
    "for dis_ in diss_:\n",
    "    tar_wh = globals() [\"{}_{}_WH\".format(time_,dis_)]\n",
    "    tar_qd = globals() [\"{}_{}_QD\".format(time_,dis_)]\n",
    "    globals() [\"{}_{}_QD{}\".format(time_,dis_,\"W\")] = pd.DataFrame(tar_qd[1].map(lambda x : x.subs([(w,w_w)]).factor()))  \n",
    "    globals() [\"{}_{}_QD{}\".format(time_,dis_,\"C\")] = pd.DataFrame(tar_qd[1].map(lambda x : x.subs([(w,w_c)]).factor()))  \n"
   ]
  },
  {
   "cell_type": "code",
   "execution_count": 21,
   "metadata": {},
   "outputs": [],
   "source": [
    "time_ = \"UN\"\n",
    "dis_ = \"BD\"\n",
    "\n",
    "\n",
    "tar_wh = globals() [\"{}_{}_WH\".format(time_,dis_)]\n",
    "tar_qd = globals() [\"{}_{}_QD\".format(time_,dis_)]\n",
    "\n",
    "globals() [\"{}_{}_QD{}\".format(time_,dis_,\"W\")] = pd.DataFrame(tar_qd[1].map(lambda x : x.subs([(w,w_w)]).factor()))  \n",
    "globals() [\"{}_{}_QD{}\".format(time_,dis_,\"C\")] = pd.DataFrame(tar_qd[1].map(lambda x : x.subs([(w,w_c)]).factor()))  \n",
    "time_ = \"UN\"\n",
    "diss_ = [\"DD\",\"SD\",\"BD\",\"BS\"]\n",
    "\n",
    "for dis_ in diss_:\n",
    "    tar_wh = globals() [\"{}_{}_WH\".format(time_,dis_)]\n",
    "    tar_qd = globals() [\"{}_{}_QD\".format(time_,dis_)]\n",
    "    globals() [\"{}_{}_QD{}\".format(time_,dis_,\"W\")] = pd.DataFrame(tar_qd[1].map(lambda x : x.subs([(w,w_w)]).factor()))  \n",
    "    globals() [\"{}_{}_QD{}\".format(time_,dis_,\"C\")] = pd.DataFrame(tar_qd[1].map(lambda x : x.subs([(w,w_c)]).factor()))  \n"
   ]
  },
  {
   "cell_type": "code",
   "execution_count": 22,
   "metadata": {},
   "outputs": [],
   "source": [
    "time_ = \"UN\"\n",
    "dis_ = \"BS\"\n",
    "\n",
    "\n",
    "tar_wh = globals() [\"{}_{}_WH\".format(time_,dis_)]\n",
    "tar_qd = globals() [\"{}_{}_QD\".format(time_,dis_)]\n",
    "\n",
    "globals() [\"{}_{}_QD{}\".format(time_,dis_,\"W\")] = pd.DataFrame(tar_qd[1].map(lambda x : x.subs([(w,w_w)]).factor()))  \n",
    "globals() [\"{}_{}_QD{}\".format(time_,dis_,\"C\")] = pd.DataFrame(tar_qd[1].map(lambda x : x.subs([(w,w_c)]).factor()))  \n",
    "time_ = \"UN\"\n",
    "diss_ = [\"DD\",\"SD\",\"BD\",\"BS\"]\n",
    "\n",
    "for dis_ in diss_:\n",
    "    tar_wh = globals() [\"{}_{}_WH\".format(time_,dis_)]\n",
    "    tar_qd = globals() [\"{}_{}_QD\".format(time_,dis_)]\n",
    "    globals() [\"{}_{}_QD{}\".format(time_,dis_,\"W\")] = pd.DataFrame(tar_qd[1].map(lambda x : x.subs([(w,w_w)]).factor()))  \n",
    "    globals() [\"{}_{}_QD{}\".format(time_,dis_,\"C\")] = pd.DataFrame(tar_qd[1].map(lambda x : x.subs([(w,w_c)]).factor()))  \n"
   ]
  },
  {
   "cell_type": "code",
   "execution_count": 23,
   "metadata": {},
   "outputs": [],
   "source": [
    "def hessian_(df_,para_):\n",
    "    try:\n",
    "        try:\n",
    "            a_ = float(df_[1][\"h1_r_p\"].subs(para_))\n",
    "            b_ = float(df_[1][\"h1_s_w\"].subs(para_))\n",
    "            if a_ and b_ <= 0:\n",
    "                return \"NONE\"\n",
    "            else:\n",
    "                return \"STOP\"\n",
    "        except:\n",
    "            a_ = float(df_[1][\"h1_r_p\"].subs(para_))\n",
    "            b_ = float(df_[1][\"h1_s_w\"].subs(para_))\n",
    "            c_ = float(df_[1][\"h1_s_e\"].subs(para_))\n",
    "            if a_ and b_ and c_ <= 0:\n",
    "                return \"NONE\"\n",
    "            else:\n",
    "                return \"STOP\"\n",
    "    except:\n",
    "        return \"NONE\""
   ]
  },
  {
   "cell_type": "code",
   "execution_count": 24,
   "metadata": {},
   "outputs": [],
   "source": [
    "def subs_lambda(y,params):\n",
    "    try:\n",
    "        out_ = y.subs(params)\n",
    "        try:\n",
    "            out_ = round(float(out_),3)\n",
    "        except:\n",
    "            pass\n",
    "    except:\n",
    "        out_ = 0\n",
    "    return out_"
   ]
  },
  {
   "cell_type": "code",
   "execution_count": 25,
   "metadata": {},
   "outputs": [],
   "source": [
    "def apply_num(df,para_list):\n",
    "    return df.apply(lambda x : x.map(lambda y: subs_lambda(y,para_list)))"
   ]
  },
  {
   "cell_type": "code",
   "execution_count": null,
   "metadata": {},
   "outputs": [],
   "source": []
  },
  {
   "cell_type": "code",
   "execution_count": 26,
   "metadata": {},
   "outputs": [],
   "source": [
    "file_name_2 = ['ND_FB',\n",
    " 'ND_QDC',\n",
    " 'ND_QDW',\n",
    " 'ND_WH',\n",
    " 'UN_BD_QDC',\n",
    " 'UN_BD_QDW',\n",
    " 'UN_BD_WH',\n",
    " 'UN_BS_QDC',\n",
    " 'UN_BS_QDW',\n",
    " 'UN_BS_WH',\n",
    " 'UN_DD_QDC',\n",
    " 'UN_DD_QDW',\n",
    " 'UN_DD_WH',\n",
    " 'UN_SD_QDC',\n",
    " 'UN_SD_QDW',\n",
    " 'UN_SD_WH']"
   ]
  },
  {
   "cell_type": "code",
   "execution_count": 78,
   "metadata": {},
   "outputs": [],
   "source": [
    "##DD\n",
    "# -c< s < alpha / beta"
   ]
  },
  {
   "cell_type": "code",
   "execution_count": 211,
   "metadata": {},
   "outputs": [],
   "source": [
    "wh_ = UN_DD_WH.copy()\n",
    "qdw_ = UN_DD_QDW.copy()\n",
    "qdc_ = UN_DD_QDC.copy()\n",
    "\n",
    "tar_ = \"profit_r\"\n"
   ]
  },
  {
   "cell_type": "code",
   "execution_count": 212,
   "metadata": {},
   "outputs": [
    {
     "data": {
      "text/latex": [
       "$\\displaystyle \\frac{\\left(- \\alpha + \\beta c\\right) \\left(- 5 \\alpha \\delta_{d} + 4 \\sqrt{2} \\alpha \\delta_{d} - 4 \\sqrt{2} \\alpha + 5 \\alpha + \\beta c \\delta_{d} - 5 \\beta c + 4 \\sqrt{2} \\beta c - 4 \\beta \\delta_{d} s + 4 \\sqrt{2} \\beta \\delta_{d} s\\right)}{16 \\beta}$"
      ],
      "text/plain": [
       "(-alpha + beta*c)*(-5*alpha*delta_d + 4*sqrt(2)*alpha*delta_d - 4*sqrt(2)*alpha + 5*alpha + beta*c*delta_d - 5*beta*c + 4*sqrt(2)*beta*c - 4*beta*delta_d*s + 4*sqrt(2)*beta*delta_d*s)/(16*beta)"
      ]
     },
     "execution_count": 212,
     "metadata": {},
     "output_type": "execute_result"
    }
   ],
   "source": [
    "a_ = (qdw_[1][tar_]-wh_[1][tar_]).factor()\n",
    "a_"
   ]
  },
  {
   "cell_type": "code",
   "execution_count": 213,
   "metadata": {
    "scrolled": true
   },
   "outputs": [
    {
     "data": {
      "text/latex": [
       "$\\displaystyle \\frac{\\left(- \\alpha + \\beta c\\right) \\left(- 3 \\alpha \\delta_{d} + 2 \\sqrt{2} \\alpha \\delta_{d} - 2 \\sqrt{2} \\alpha + 2 \\alpha - \\beta c \\delta_{d} - 2 \\beta c + 2 \\sqrt{2} \\beta c - 4 \\beta \\delta_{d} s + 2 \\sqrt{2} \\beta \\delta_{d} s\\right)}{8 \\beta}$"
      ],
      "text/plain": [
       "(-alpha + beta*c)*(-3*alpha*delta_d + 2*sqrt(2)*alpha*delta_d - 2*sqrt(2)*alpha + 2*alpha - beta*c*delta_d - 2*beta*c + 2*sqrt(2)*beta*c - 4*beta*delta_d*s + 2*sqrt(2)*beta*delta_d*s)/(8*beta)"
      ]
     },
     "execution_count": 213,
     "metadata": {},
     "output_type": "execute_result"
    }
   ],
   "source": [
    "b_ = (qdw_[1][tar_]-qdc_[1][tar_]).factor()\n",
    "b_"
   ]
  },
  {
   "cell_type": "code",
   "execution_count": 214,
   "metadata": {},
   "outputs": [
    {
     "data": {
      "text/latex": [
       "$\\displaystyle - \\frac{\\left(- \\alpha + \\beta c\\right) \\left(\\alpha \\delta_{d} + \\alpha + 3 \\beta c \\delta_{d} - \\beta c + 4 \\beta \\delta_{d} s\\right)}{16 \\beta}$"
      ],
      "text/plain": [
       "-(-alpha + beta*c)*(alpha*delta_d + alpha + 3*beta*c*delta_d - beta*c + 4*beta*delta_d*s)/(16*beta)"
      ]
     },
     "execution_count": 214,
     "metadata": {},
     "output_type": "execute_result"
    }
   ],
   "source": [
    "c_ = (wh_[1][tar_]-qdc_[1][tar_]).factor()\n",
    "c_"
   ]
  },
  {
   "cell_type": "code",
   "execution_count": null,
   "metadata": {},
   "outputs": [],
   "source": []
  },
  {
   "cell_type": "code",
   "execution_count": null,
   "metadata": {},
   "outputs": [],
   "source": [
    "wh_ = UN_DD_WH.copy()\n",
    "qdw_ = UN_DD_QDW.copy()\n",
    "qdc_ = UN_DD_QDC.copy()\n",
    "\n",
    "tar_ = \"profit_r\""
   ]
  },
  {
   "cell_type": "code",
   "execution_count": 215,
   "metadata": {},
   "outputs": [],
   "source": [
    "Para_ = [(alpha,1200),(beta,7),(c,50)]\n",
    "up_ = 1200/7\n",
    "down_ = -50\n",
    "\n",
    "a_ = (qdw_[1][tar_]-wh_[1][tar_]).factor()\n",
    "b_ = (qdw_[1][tar_]-qdc_[1][tar_]).factor()\n",
    "c_ = (wh_[1][tar_]-qdc_[1][tar_]).factor()\n",
    "\n",
    "del_range = np.arange(0,1.01,0.05)\n",
    "s_range = np.arange(down_,up_,1)"
   ]
  },
  {
   "cell_type": "code",
   "execution_count": 200,
   "metadata": {
    "scrolled": true
   },
   "outputs": [
    {
     "data": {
      "text/plain": [
       "array([0.  , 0.05, 0.1 , 0.15, 0.2 , 0.25, 0.3 , 0.35, 0.4 , 0.45, 0.5 ,\n",
       "       0.55, 0.6 , 0.65, 0.7 , 0.75, 0.8 , 0.85, 0.9 , 0.95, 1.  ])"
      ]
     },
     "execution_count": 200,
     "metadata": {},
     "output_type": "execute_result"
    }
   ],
   "source": [
    "del_range"
   ]
  },
  {
   "cell_type": "code",
   "execution_count": 201,
   "metadata": {},
   "outputs": [],
   "source": [
    "def check_sign(a_c):\n",
    "    if a_c >= 0:\n",
    "        return \"Positive\"\n",
    "    else:\n",
    "        return \"Negative\""
   ]
  },
  {
   "cell_type": "code",
   "execution_count": 204,
   "metadata": {},
   "outputs": [],
   "source": [
    "def make_df(del_range,s_range,a_,name):\n",
    "    all_ =  []\n",
    "    root_ = tqdm(del_range)\n",
    "    for del_ in root_:\n",
    "        n_d, n_s = del_,del_\n",
    "        i = 0\n",
    "        for s_ in s_range:\n",
    "            try:\n",
    "                para_ = [(alpha,1200),(beta,7),(c,50),(delta_d,n_d),(delta_s,n_s),(s,s_)]\n",
    "                value_ = a_.subs(para_)\n",
    "\n",
    "                i += 1\n",
    "\n",
    "                s_2 = s_range[i]\n",
    "                para_2 = [(alpha,1200),(beta,7),(c,50),(delta_d,n_d),(delta_s,n_s),(s,s_2)]\n",
    "                value_2 = a_.subs(para_2)\n",
    "\n",
    "                sign_1 = check_sign(value_)\n",
    "                sign_2 = check_sign(value_2)\n",
    "\n",
    "                if sign_1 != sign_2:\n",
    "                    all_can = [del_,s_]\n",
    "                    all_.append(all_can)\n",
    "\n",
    "\n",
    "                else:\n",
    "                    pass\n",
    "            except:\n",
    "                pass\n",
    "    return pd.DataFrame(all_).rename(columns={0:\"delta_\",1:name}).set_index(\"delta_\")#.plot()"
   ]
  },
  {
   "cell_type": "code",
   "execution_count": 205,
   "metadata": {
    "scrolled": true
   },
   "outputs": [
    {
     "data": {
      "application/vnd.jupyter.widget-view+json": {
       "model_id": "55c29ba365ef40d588a2e8c7421e53f4",
       "version_major": 2,
       "version_minor": 0
      },
      "text/plain": [
       "  0%|          | 0/21 [00:00<?, ?it/s]"
      ]
     },
     "metadata": {},
     "output_type": "display_data"
    },
    {
     "data": {
      "text/html": [
       "<div>\n",
       "<style scoped>\n",
       "    .dataframe tbody tr th:only-of-type {\n",
       "        vertical-align: middle;\n",
       "    }\n",
       "\n",
       "    .dataframe tbody tr th {\n",
       "        vertical-align: top;\n",
       "    }\n",
       "\n",
       "    .dataframe thead th {\n",
       "        text-align: right;\n",
       "    }\n",
       "</style>\n",
       "<table border=\"1\" class=\"dataframe\">\n",
       "  <thead>\n",
       "    <tr style=\"text-align: right;\">\n",
       "      <th></th>\n",
       "      <th>a</th>\n",
       "    </tr>\n",
       "    <tr>\n",
       "      <th>delta_</th>\n",
       "      <th></th>\n",
       "    </tr>\n",
       "  </thead>\n",
       "  <tbody>\n",
       "    <tr>\n",
       "      <th>0.20</th>\n",
       "      <td>142.0</td>\n",
       "    </tr>\n",
       "    <tr>\n",
       "      <th>0.25</th>\n",
       "      <td>94.0</td>\n",
       "    </tr>\n",
       "    <tr>\n",
       "      <th>0.30</th>\n",
       "      <td>62.0</td>\n",
       "    </tr>\n",
       "    <tr>\n",
       "      <th>0.35</th>\n",
       "      <td>39.0</td>\n",
       "    </tr>\n",
       "    <tr>\n",
       "      <th>0.40</th>\n",
       "      <td>22.0</td>\n",
       "    </tr>\n",
       "    <tr>\n",
       "      <th>0.45</th>\n",
       "      <td>8.0</td>\n",
       "    </tr>\n",
       "    <tr>\n",
       "      <th>0.50</th>\n",
       "      <td>-2.0</td>\n",
       "    </tr>\n",
       "    <tr>\n",
       "      <th>0.55</th>\n",
       "      <td>-11.0</td>\n",
       "    </tr>\n",
       "    <tr>\n",
       "      <th>0.60</th>\n",
       "      <td>-18.0</td>\n",
       "    </tr>\n",
       "    <tr>\n",
       "      <th>0.65</th>\n",
       "      <td>-25.0</td>\n",
       "    </tr>\n",
       "    <tr>\n",
       "      <th>0.70</th>\n",
       "      <td>-30.0</td>\n",
       "    </tr>\n",
       "    <tr>\n",
       "      <th>0.75</th>\n",
       "      <td>-34.0</td>\n",
       "    </tr>\n",
       "    <tr>\n",
       "      <th>0.80</th>\n",
       "      <td>-38.0</td>\n",
       "    </tr>\n",
       "    <tr>\n",
       "      <th>0.85</th>\n",
       "      <td>-42.0</td>\n",
       "    </tr>\n",
       "    <tr>\n",
       "      <th>0.90</th>\n",
       "      <td>-45.0</td>\n",
       "    </tr>\n",
       "    <tr>\n",
       "      <th>0.95</th>\n",
       "      <td>-48.0</td>\n",
       "    </tr>\n",
       "  </tbody>\n",
       "</table>\n",
       "</div>"
      ],
      "text/plain": [
       "            a\n",
       "delta_       \n",
       "0.20    142.0\n",
       "0.25     94.0\n",
       "0.30     62.0\n",
       "0.35     39.0\n",
       "0.40     22.0\n",
       "0.45      8.0\n",
       "0.50     -2.0\n",
       "0.55    -11.0\n",
       "0.60    -18.0\n",
       "0.65    -25.0\n",
       "0.70    -30.0\n",
       "0.75    -34.0\n",
       "0.80    -38.0\n",
       "0.85    -42.0\n",
       "0.90    -45.0\n",
       "0.95    -48.0"
      ]
     },
     "execution_count": 205,
     "metadata": {},
     "output_type": "execute_result"
    }
   ],
   "source": [
    "all_1 = make_df(del_range,s_range,a_,\"a\")\n",
    "all_1"
   ]
  },
  {
   "cell_type": "code",
   "execution_count": 206,
   "metadata": {},
   "outputs": [
    {
     "data": {
      "text/plain": [
       "<matplotlib.axes._subplots.AxesSubplot at 0x146bb42a288>"
      ]
     },
     "execution_count": 206,
     "metadata": {},
     "output_type": "execute_result"
    },
    {
     "data": {
      "image/png": "[encoded data removed]",
      "text/plain": [
       "<Figure size 432x288 with 1 Axes>"
      ]
     },
     "metadata": {
      "needs_background": "light"
     },
     "output_type": "display_data"
    }
   ],
   "source": [
    "all_1.plot()"
   ]
  },
  {
   "cell_type": "code",
   "execution_count": 216,
   "metadata": {},
   "outputs": [],
   "source": [
    "all_1.to_excel(r\"C:\\Users\\Samsung\\jupyter\\Graduation_thesis\\result\\graph_\\sense\\UN_DD_pir.xlsx\")"
   ]
  },
  {
   "cell_type": "code",
   "execution_count": null,
   "metadata": {},
   "outputs": [],
   "source": []
  },
  {
   "cell_type": "code",
   "execution_count": 217,
   "metadata": {},
   "outputs": [],
   "source": [
    "wh_ = UN_DD_WH.copy()\n",
    "qdw_ = UN_DD_QDW.copy()\n",
    "qdc_ = UN_DD_QDC.copy()\n",
    "\n",
    "tar_ = \"profit_all\""
   ]
  },
  {
   "cell_type": "code",
   "execution_count": 218,
   "metadata": {},
   "outputs": [],
   "source": [
    "Para_ = [(alpha,1200),(beta,7),(c,50)]\n",
    "up_ = 1200/7\n",
    "down_ = -50\n",
    "\n",
    "a_ = (qdw_[1][tar_]-wh_[1][tar_]).factor()\n",
    "b_ = (qdw_[1][tar_]-qdc_[1][tar_]).factor()\n",
    "c_ = (wh_[1][tar_]-qdc_[1][tar_]).factor()\n",
    "\n",
    "del_range = np.arange(0,1.01,0.05)\n",
    "s_range = np.arange(down_,up_,1)"
   ]
  },
  {
   "cell_type": "code",
   "execution_count": 219,
   "metadata": {},
   "outputs": [
    {
     "data": {
      "application/vnd.jupyter.widget-view+json": {
       "model_id": "5ee3de817298434ab898972ac056e7d3",
       "version_major": 2,
       "version_minor": 0
      },
      "text/plain": [
       "  0%|          | 0/21 [00:00<?, ?it/s]"
      ]
     },
     "metadata": {},
     "output_type": "display_data"
    },
    {
     "data": {
      "text/plain": [
       "<matplotlib.axes._subplots.AxesSubplot at 0x146bfc69b48>"
      ]
     },
     "execution_count": 219,
     "metadata": {},
     "output_type": "execute_result"
    },
    {
     "data": {
      "image/png": "[encoded data removed]",
      "text/plain": [
       "<Figure size 432x288 with 1 Axes>"
      ]
     },
     "metadata": {
      "needs_background": "light"
     },
     "output_type": "display_data"
    }
   ],
   "source": [
    "all_1 = make_df(del_range,s_range,a_,\"a\")\n",
    "all_1.plot()"
   ]
  },
  {
   "cell_type": "code",
   "execution_count": null,
   "metadata": {},
   "outputs": [],
   "source": []
  },
  {
   "cell_type": "code",
   "execution_count": 220,
   "metadata": {},
   "outputs": [
    {
     "data": {
      "application/vnd.jupyter.widget-view+json": {
       "model_id": "38eba516a32b464fb485acb276ce2eeb",
       "version_major": 2,
       "version_minor": 0
      },
      "text/plain": [
       "  0%|          | 0/21 [00:00<?, ?it/s]"
      ]
     },
     "metadata": {},
     "output_type": "display_data"
    },
    {
     "data": {
      "text/plain": [
       "<matplotlib.axes._subplots.AxesSubplot at 0x146bfe0e548>"
      ]
     },
     "execution_count": 220,
     "metadata": {},
     "output_type": "execute_result"
    },
    {
     "data": {
      "image/png": "[encoded data removed]",
      "text/plain": [
       "<Figure size 432x288 with 1 Axes>"
      ]
     },
     "metadata": {
      "needs_background": "light"
     },
     "output_type": "display_data"
    }
   ],
   "source": [
    "all_2 = make_df(del_range,s_range,b_,\"b\")\n",
    "all_2.plot()"
   ]
  },
  {
   "cell_type": "code",
   "execution_count": 221,
   "metadata": {
    "scrolled": true
   },
   "outputs": [
    {
     "data": {
      "text/html": [
       "<div>\n",
       "<style scoped>\n",
       "    .dataframe tbody tr th:only-of-type {\n",
       "        vertical-align: middle;\n",
       "    }\n",
       "\n",
       "    .dataframe tbody tr th {\n",
       "        vertical-align: top;\n",
       "    }\n",
       "\n",
       "    .dataframe thead th {\n",
       "        text-align: right;\n",
       "    }\n",
       "</style>\n",
       "<table border=\"1\" class=\"dataframe\">\n",
       "  <thead>\n",
       "    <tr style=\"text-align: right;\">\n",
       "      <th></th>\n",
       "      <th>b</th>\n",
       "    </tr>\n",
       "    <tr>\n",
       "      <th>delta_</th>\n",
       "      <th></th>\n",
       "    </tr>\n",
       "  </thead>\n",
       "  <tbody>\n",
       "    <tr>\n",
       "      <th>0.10</th>\n",
       "      <td>110.0</td>\n",
       "    </tr>\n",
       "    <tr>\n",
       "      <th>0.15</th>\n",
       "      <td>50.0</td>\n",
       "    </tr>\n",
       "    <tr>\n",
       "      <th>0.20</th>\n",
       "      <td>21.0</td>\n",
       "    </tr>\n",
       "    <tr>\n",
       "      <th>0.25</th>\n",
       "      <td>3.0</td>\n",
       "    </tr>\n",
       "    <tr>\n",
       "      <th>0.30</th>\n",
       "      <td>-9.0</td>\n",
       "    </tr>\n",
       "    <tr>\n",
       "      <th>0.35</th>\n",
       "      <td>-17.0</td>\n",
       "    </tr>\n",
       "    <tr>\n",
       "      <th>0.40</th>\n",
       "      <td>-24.0</td>\n",
       "    </tr>\n",
       "    <tr>\n",
       "      <th>0.45</th>\n",
       "      <td>-29.0</td>\n",
       "    </tr>\n",
       "    <tr>\n",
       "      <th>0.50</th>\n",
       "      <td>-33.0</td>\n",
       "    </tr>\n",
       "    <tr>\n",
       "      <th>0.55</th>\n",
       "      <td>-36.0</td>\n",
       "    </tr>\n",
       "    <tr>\n",
       "      <th>0.60</th>\n",
       "      <td>-39.0</td>\n",
       "    </tr>\n",
       "    <tr>\n",
       "      <th>0.65</th>\n",
       "      <td>-41.0</td>\n",
       "    </tr>\n",
       "    <tr>\n",
       "      <th>0.70</th>\n",
       "      <td>-43.0</td>\n",
       "    </tr>\n",
       "    <tr>\n",
       "      <th>0.75</th>\n",
       "      <td>-45.0</td>\n",
       "    </tr>\n",
       "    <tr>\n",
       "      <th>0.80</th>\n",
       "      <td>-46.0</td>\n",
       "    </tr>\n",
       "    <tr>\n",
       "      <th>0.85</th>\n",
       "      <td>-47.0</td>\n",
       "    </tr>\n",
       "    <tr>\n",
       "      <th>0.90</th>\n",
       "      <td>-49.0</td>\n",
       "    </tr>\n",
       "    <tr>\n",
       "      <th>0.95</th>\n",
       "      <td>-50.0</td>\n",
       "    </tr>\n",
       "  </tbody>\n",
       "</table>\n",
       "</div>"
      ],
      "text/plain": [
       "            b\n",
       "delta_       \n",
       "0.10    110.0\n",
       "0.15     50.0\n",
       "0.20     21.0\n",
       "0.25      3.0\n",
       "0.30     -9.0\n",
       "0.35    -17.0\n",
       "0.40    -24.0\n",
       "0.45    -29.0\n",
       "0.50    -33.0\n",
       "0.55    -36.0\n",
       "0.60    -39.0\n",
       "0.65    -41.0\n",
       "0.70    -43.0\n",
       "0.75    -45.0\n",
       "0.80    -46.0\n",
       "0.85    -47.0\n",
       "0.90    -49.0\n",
       "0.95    -50.0"
      ]
     },
     "execution_count": 221,
     "metadata": {},
     "output_type": "execute_result"
    }
   ],
   "source": [
    "all_2"
   ]
  },
  {
   "cell_type": "markdown",
   "metadata": {},
   "source": [
    "# alpha, c"
   ]
  },
  {
   "cell_type": "code",
   "execution_count": null,
   "metadata": {},
   "outputs": [],
   "source": [
    "Para_ = [(alpha,1200),(beta,7),(c,50)]\n",
    "up_ = 1200/7\n",
    "down_ = -50\n",
    "\n",
    "a_ = (qdw_[1][tar_]-wh_[1][tar_]).factor()\n",
    "b_ = (qdw_[1][tar_]-qdc_[1][tar_]).factor()\n",
    "c_ = (wh_[1][tar_]-qdc_[1][tar_]).factor()\n",
    "\n",
    "del_range = np.arange(0,1.01,0.05)\n",
    "s_range = np.arange(down_,up_,1)"
   ]
  },
  {
   "cell_type": "code",
   "execution_count": 265,
   "metadata": {},
   "outputs": [],
   "source": [
    "alpha_range = np.arange(800,850,0.1)\n",
    "c_range = np.arange(0,10,00.1)"
   ]
  },
  {
   "cell_type": "code",
   "execution_count": 266,
   "metadata": {},
   "outputs": [
    {
     "data": {
      "text/plain": [
       "array([0. , 0.1, 0.2, 0.3, 0.4, 0.5, 0.6, 0.7, 0.8, 0.9, 1. , 1.1, 1.2,\n",
       "       1.3, 1.4, 1.5, 1.6, 1.7, 1.8, 1.9, 2. , 2.1, 2.2, 2.3, 2.4, 2.5,\n",
       "       2.6, 2.7, 2.8, 2.9, 3. , 3.1, 3.2, 3.3, 3.4, 3.5, 3.6, 3.7, 3.8,\n",
       "       3.9, 4. , 4.1, 4.2, 4.3, 4.4, 4.5, 4.6, 4.7, 4.8, 4.9, 5. , 5.1,\n",
       "       5.2, 5.3, 5.4, 5.5, 5.6, 5.7, 5.8, 5.9, 6. , 6.1, 6.2, 6.3, 6.4,\n",
       "       6.5, 6.6, 6.7, 6.8, 6.9, 7. , 7.1, 7.2, 7.3, 7.4, 7.5, 7.6, 7.7,\n",
       "       7.8, 7.9, 8. , 8.1, 8.2, 8.3, 8.4, 8.5, 8.6, 8.7, 8.8, 8.9, 9. ,\n",
       "       9.1, 9.2, 9.3, 9.4, 9.5, 9.6, 9.7, 9.8, 9.9])"
      ]
     },
     "execution_count": 266,
     "metadata": {},
     "output_type": "execute_result"
    }
   ],
   "source": [
    "c_range"
   ]
  },
  {
   "cell_type": "code",
   "execution_count": 267,
   "metadata": {},
   "outputs": [],
   "source": [
    "def make_df2(alpha_range,c_range,a_,name):\n",
    "    all_ =  []\n",
    "    root_ = tqdm(alpha_range)\n",
    "    for alpha_1 in root_:\n",
    "        i = 0\n",
    "        for c_ in c_range:\n",
    "            try:\n",
    "                para_ = [(alpha,alpha_1),(beta,7),(c,c_),(delta_d,0.4),(delta_s,0.4),(s,50)]\n",
    "                value_ = a_.subs(para_)\n",
    "\n",
    "                i += 1\n",
    "\n",
    "                c_2 = c_range[i]\n",
    "                para_ = [(alpha,alpha_1),(beta,7),(c,c_2),(delta_d,0.4),(delta_s,0.4),(s,50)]\n",
    "                value_2 = a_.subs(para_2)\n",
    "\n",
    "                sign_1 = check_sign(value_)\n",
    "                sign_2 = check_sign(value_2)\n",
    "\n",
    "                if sign_1 != sign_2:\n",
    "                    all_can = [alpha_1,c_]\n",
    "\n",
    "                    all_.append(all_can)\n",
    "\n",
    "\n",
    "                else:\n",
    "                    pass\n",
    "            except:\n",
    "                pass\n",
    "    return pd.DataFrame(all_).rename(columns={0:\"alpha\",1:name})#.set_index(name)#.plot()"
   ]
  },
  {
   "cell_type": "code",
   "execution_count": 268,
   "metadata": {},
   "outputs": [
    {
     "data": {
      "application/vnd.jupyter.widget-view+json": {
       "model_id": "5aa3b4210c5a47248d320f05fc940706",
       "version_major": 2,
       "version_minor": 0
      },
      "text/plain": [
       "  0%|          | 0/500 [00:00<?, ?it/s]"
      ]
     },
     "metadata": {},
     "output_type": "display_data"
    }
   ],
   "source": [
    "all_3 = make_df2(alpha_range,c_range,a_,\"a_\")"
   ]
  },
  {
   "cell_type": "code",
   "execution_count": 264,
   "metadata": {},
   "outputs": [
    {
     "data": {
      "text/html": [
       "<div>\n",
       "<style scoped>\n",
       "    .dataframe tbody tr th:only-of-type {\n",
       "        vertical-align: middle;\n",
       "    }\n",
       "\n",
       "    .dataframe tbody tr th {\n",
       "        vertical-align: top;\n",
       "    }\n",
       "\n",
       "    .dataframe thead th {\n",
       "        text-align: right;\n",
       "    }\n",
       "</style>\n",
       "<table border=\"1\" class=\"dataframe\">\n",
       "  <thead>\n",
       "    <tr style=\"text-align: right;\">\n",
       "      <th></th>\n",
       "      <th>a_</th>\n",
       "    </tr>\n",
       "    <tr>\n",
       "      <th>alpha</th>\n",
       "      <th></th>\n",
       "    </tr>\n",
       "  </thead>\n",
       "  <tbody>\n",
       "    <tr>\n",
       "      <th>800</th>\n",
       "      <td>0</td>\n",
       "    </tr>\n",
       "    <tr>\n",
       "      <th>800</th>\n",
       "      <td>1</td>\n",
       "    </tr>\n",
       "    <tr>\n",
       "      <th>800</th>\n",
       "      <td>2</td>\n",
       "    </tr>\n",
       "    <tr>\n",
       "      <th>800</th>\n",
       "      <td>3</td>\n",
       "    </tr>\n",
       "    <tr>\n",
       "      <th>800</th>\n",
       "      <td>4</td>\n",
       "    </tr>\n",
       "    <tr>\n",
       "      <th>...</th>\n",
       "      <td>...</td>\n",
       "    </tr>\n",
       "    <tr>\n",
       "      <th>1240</th>\n",
       "      <td>30</td>\n",
       "    </tr>\n",
       "    <tr>\n",
       "      <th>1240</th>\n",
       "      <td>31</td>\n",
       "    </tr>\n",
       "    <tr>\n",
       "      <th>1240</th>\n",
       "      <td>32</td>\n",
       "    </tr>\n",
       "    <tr>\n",
       "      <th>1240</th>\n",
       "      <td>33</td>\n",
       "    </tr>\n",
       "    <tr>\n",
       "      <th>1240</th>\n",
       "      <td>34</td>\n",
       "    </tr>\n",
       "  </tbody>\n",
       "</table>\n",
       "<p>1056 rows × 1 columns</p>\n",
       "</div>"
      ],
      "text/plain": [
       "       a_\n",
       "alpha    \n",
       "800     0\n",
       "800     1\n",
       "800     2\n",
       "800     3\n",
       "800     4\n",
       "...    ..\n",
       "1240   30\n",
       "1240   31\n",
       "1240   32\n",
       "1240   33\n",
       "1240   34\n",
       "\n",
       "[1056 rows x 1 columns]"
      ]
     },
     "execution_count": 264,
     "metadata": {},
     "output_type": "execute_result"
    }
   ],
   "source": [
    "all_3.set_index(\"alpha\")"
   ]
  },
  {
   "cell_type": "code",
   "execution_count": 263,
   "metadata": {
    "scrolled": true
   },
   "outputs": [
    {
     "data": {
      "text/plain": [
       "<matplotlib.axes._subplots.AxesSubplot at 0x146bfc71f48>"
      ]
     },
     "execution_count": 263,
     "metadata": {},
     "output_type": "execute_result"
    },
    {
     "data": {
      "image/png": "[encoded data removed]",
      "text/plain": [
       "<Figure size 432x288 with 1 Axes>"
      ]
     },
     "metadata": {
      "needs_background": "light"
     },
     "output_type": "display_data"
    }
   ],
   "source": [
    "all_3.set_index(\"alpha\").plot()"
   ]
  },
  {
   "cell_type": "code",
   "execution_count": null,
   "metadata": {},
   "outputs": [
    {
     "data": {
      "application/vnd.jupyter.widget-view+json": {
       "model_id": "51ff1c9a14ff4efd8f0ab495afeb1b6d",
       "version_major": 2,
       "version_minor": 0
      },
      "text/plain": [
       "  0%|          | 0/500 [00:00<?, ?it/s]"
      ]
     },
     "metadata": {},
     "output_type": "display_data"
    }
   ],
   "source": [
    "all_3 = make_df2(alpha_range,c_range,b_,\"b_\")"
   ]
  },
  {
   "cell_type": "code",
   "execution_count": null,
   "metadata": {},
   "outputs": [],
   "source": []
  },
  {
   "cell_type": "code",
   "execution_count": null,
   "metadata": {},
   "outputs": [],
   "source": []
  },
  {
   "cell_type": "code",
   "execution_count": null,
   "metadata": {},
   "outputs": [],
   "source": []
  },
  {
   "cell_type": "code",
   "execution_count": null,
   "metadata": {},
   "outputs": [],
   "source": []
  }
 ],
 "metadata": {
  "kernelspec": {
   "display_name": "Python 3",
   "language": "python",
   "name": "python3"
  },
  "language_info": {
   "codemirror_mode": {
    "name": "ipython",
    "version": 3
   },
   "file_extension": ".py",
   "mimetype": "text/x-python",
   "name": "python",
   "nbconvert_exporter": "python",
   "pygments_lexer": "ipython3",
   "version": "3.7.6"
  }
 },
 "nbformat": 4,
 "nbformat_minor": 4
}
