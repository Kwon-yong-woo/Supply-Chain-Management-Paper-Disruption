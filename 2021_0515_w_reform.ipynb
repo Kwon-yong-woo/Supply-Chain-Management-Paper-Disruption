{
 "cells": [
  {
   "cell_type": "code",
   "execution_count": 1,
   "metadata": {},
   "outputs": [],
   "source": [
    "import pandas as pd\n",
    "import numpy as np\n",
    "import sympy\n",
    "from sympy.solvers.inequalities import reduce_rational_inequalities,reduce_inequalities\n",
    "from itertools import chain\n",
    "from collections import defaultdict\n",
    "from IPython.display import display\n",
    "\n",
    "from sympy.parsing.sympy_parser import parse_expr\n",
    "from sympy.parsing.sympy_parser import standard_transformations\n",
    "from sympy.printing.mathml import print_mathml\n",
    "\n",
    "from IPython.display import display, Markdown, Latex\n",
    "import os\n",
    "\n",
    "import seaborn as sns\n",
    "import matplotlib.pyplot as plt\n",
    "\n",
    "\n",
    "### graph library: plotly for making interactive graph\n",
    "import plotly.express as px\n",
    "import plotly.graph_objects as go\n",
    "from plotly.offline import download_plotlyjs, init_notebook_mode, plot, iplot"
   ]
  },
  {
   "cell_type": "code",
   "execution_count": 2,
   "metadata": {},
   "outputs": [],
   "source": [
    "def make_symbols_positive(sym):\n",
    "    return sympy.symbols(\"{}\".format(sym),positive =True)\n",
    "\n",
    "def make_symbols_function(sym):\n",
    "    return sympy.symbols(\"{}\".format(sym),cl)\n",
    "\n",
    "def subs_function(target,list_):\n",
    "    return sympy.simplify(target.subs(list_))"
   ]
  },
  {
   "cell_type": "markdown",
   "metadata": {},
   "source": [
    "# Data_loading"
   ]
  },
  {
   "cell_type": "code",
   "execution_count": 3,
   "metadata": {},
   "outputs": [],
   "source": [
    "Path_ = r\"C:\\Users\\Samsung\\jupyter\\Graduation_thesis\\result\\version_4\""
   ]
  },
  {
   "cell_type": "code",
   "execution_count": 4,
   "metadata": {},
   "outputs": [],
   "source": [
    "file_list = os.listdir(Path_)\n",
    "file_list_xlsx = [f for f in file_list if f.endswith(\".xlsx\")]\n",
    "file_name = [li.replace(\".xlsx\",\"\") for li in file_list_xlsx]"
   ]
  },
  {
   "cell_type": "code",
   "execution_count": 5,
   "metadata": {},
   "outputs": [],
   "source": [
    "for fn in file_name:\n",
    "    path_ = Path_ + \"\\\\{}.xlsx\"\n",
    "    globals() [\"{}\".format(fn)] = pd.read_excel(path_.format(fn),index_col=0,header=None)\n",
    "    try:\n",
    "        globals() [\"{}\".format(fn)] = globals() [\"{}\".format(fn)]#.rename(index={\"profit_all\":\"pro_all\"})\n",
    "    except:\n",
    "        pass"
   ]
  },
  {
   "cell_type": "code",
   "execution_count": 6,
   "metadata": {},
   "outputs": [],
   "source": [
    "for fn in file_name:\n",
    "    path_ = Path_ + \"\\\\{}.xlsx\"\n",
    "    globals() [\"{}\".format(fn)] = pd.read_excel(path_.format(fn),index_col=0,header=None)\n",
    "    try:\n",
    "        globals() [\"{}\".format(fn)] = globals() [\"{}\".format(fn)]#.rename(index={\"profit_all\":\"pro_all\"})\n",
    "    except:\n",
    "        pass"
   ]
  },
  {
   "cell_type": "code",
   "execution_count": 7,
   "metadata": {},
   "outputs": [],
   "source": [
    "p,w,c,s,alpha,beta,delta_d,delta_s,epsilon = make_symbols_positive(\"p,w,c,s,alpha,beta,delta_d,delta_s,epsilon\")"
   ]
  },
  {
   "cell_type": "code",
   "execution_count": 8,
   "metadata": {},
   "outputs": [],
   "source": [
    "parse_dic = {\"p\":p,\"w\":w,\"c\":c,\"s\":s\n",
    "             ,\"alpha\":alpha,\"beta\":beta\n",
    "             ,\"delta_d\":delta_d,\"delta_s\":delta_s,\"epsilon\":epsilon }"
   ]
  },
  {
   "cell_type": "code",
   "execution_count": 9,
   "metadata": {},
   "outputs": [],
   "source": [
    "for fn in file_name:\n",
    "    globals() [\"{}\".format(fn)][1] = globals() [\"{}\".format(fn)][1].map(lambda x: parse_expr(x.replace(\"^\",\"**\").replace(\"lambda\",\"lambda_\"),parse_dic))"
   ]
  },
  {
   "cell_type": "code",
   "execution_count": 10,
   "metadata": {},
   "outputs": [],
   "source": [
    "case_  = [\"ND\",\"DD\",\"SD\",\"BD\",\"BS\"]"
   ]
  },
  {
   "cell_type": "code",
   "execution_count": 11,
   "metadata": {},
   "outputs": [],
   "source": [
    "index_order = [\"w\",\"epsilon\",\"T\",\"p\",\"p_w\",\"q\"\n",
    "               ,\"profit_r\",\"profit_s\",\"profit_all\"\n",
    "               ,\"h1_all_p\",\"h1_r_p\",\"h1_s_w\",\"h1_s_e\",\"h2_s\"]\n",
    "\n",
    "for ca in case_:\n",
    "    FB_ = globals ()[\"{}_FB\".format(ca)].rename(columns={1:\"FB\"})\n",
    "    WH_ = globals ()[\"{}_WH\".format(ca)].rename(columns={1:\"WH\"})\n",
    "    QD_ = globals ()[\"{}_QD\".format(ca)].rename(columns={1:\"QD\"})\n",
    "    \n",
    "    globals ()[\"{}_all\".format(ca)] = pd.concat([FB_,WH_,QD_],join=\"outer\",axis=1).reindex(index=index_order)"
   ]
  },
  {
   "cell_type": "code",
   "execution_count": 12,
   "metadata": {},
   "outputs": [],
   "source": [
    "def root_cal(value):\n",
    "    return value**(1/2)"
   ]
  },
  {
   "cell_type": "markdown",
   "metadata": {},
   "source": [
    "# w_range"
   ]
  },
  {
   "cell_type": "code",
   "execution_count": 13,
   "metadata": {},
   "outputs": [],
   "source": [
    "def sol_w_same(df_1,target_):\n",
    "    w_sol = sympy.solve([df_1[\"QD\"][target_]-df_1[\"FB\"][target_]],w)\n",
    "    return w_sol"
   ]
  },
  {
   "cell_type": "code",
   "execution_count": 14,
   "metadata": {},
   "outputs": [],
   "source": [
    "def sol_w_other(df_1,equa):\n",
    "    w_sol = sympy.solve(equa,w)\n",
    "    return w_sol"
   ]
  },
  {
   "cell_type": "code",
   "execution_count": 15,
   "metadata": {},
   "outputs": [],
   "source": [
    "def display_solve(df_1,w_sol):\n",
    "    for row,col in df_1.iterrows():\n",
    "        print(row)\n",
    "        try:\n",
    "            display(col[\"QD\"].subs([(w,w_sol)]).factor())\n",
    "        except:\n",
    "            print()\n",
    "        print()"
   ]
  },
  {
   "cell_type": "code",
   "execution_count": 16,
   "metadata": {},
   "outputs": [],
   "source": [
    "def display_solve2(df_1,w_sol):\n",
    "    for row,col in df_1.iterrows():\n",
    "        print(row)\n",
    "        try:\n",
    "            display(col[\"QD\"].subs([(w,w_sol)]).simplify())\n",
    "        except:\n",
    "            print()\n",
    "        print()"
   ]
  },
  {
   "cell_type": "code",
   "execution_count": null,
   "metadata": {},
   "outputs": [],
   "source": []
  },
  {
   "cell_type": "markdown",
   "metadata": {},
   "source": [
    "# ND's prepare"
   ]
  },
  {
   "cell_type": "code",
   "execution_count": 17,
   "metadata": {},
   "outputs": [
    {
     "data": {
      "text/html": [
       "<div>\n",
       "<style scoped>\n",
       "    .dataframe tbody tr th:only-of-type {\n",
       "        vertical-align: middle;\n",
       "    }\n",
       "\n",
       "    .dataframe tbody tr th {\n",
       "        vertical-align: top;\n",
       "    }\n",
       "\n",
       "    .dataframe thead th {\n",
       "        text-align: right;\n",
       "    }\n",
       "</style>\n",
       "<table border=\"1\" class=\"dataframe\">\n",
       "  <thead>\n",
       "    <tr style=\"text-align: right;\">\n",
       "      <th></th>\n",
       "      <th>FB</th>\n",
       "      <th>WH</th>\n",
       "      <th>QD</th>\n",
       "    </tr>\n",
       "  </thead>\n",
       "  <tbody>\n",
       "    <tr>\n",
       "      <th>w</th>\n",
       "      <td>NaN</td>\n",
       "      <td>(alpha + beta*c)/(2*beta)</td>\n",
       "      <td>w</td>\n",
       "    </tr>\n",
       "    <tr>\n",
       "      <th>epsilon</th>\n",
       "      <td>NaN</td>\n",
       "      <td>NaN</td>\n",
       "      <td>(-alpha - 2*beta*c + 3*beta*w)/(beta*(alpha - ...</td>\n",
       "    </tr>\n",
       "    <tr>\n",
       "      <th>T</th>\n",
       "      <td>NaN</td>\n",
       "      <td>(alpha + beta*c)/(2*beta)</td>\n",
       "      <td>(alpha + 2*beta*c + beta*w)/(4*beta)</td>\n",
       "    </tr>\n",
       "    <tr>\n",
       "      <th>p</th>\n",
       "      <td>(alpha + beta*c)/(2*beta)</td>\n",
       "      <td>(3*alpha + beta*c)/(4*beta)</td>\n",
       "      <td>(3*alpha + 2*beta*c - beta*w)/(4*beta)</td>\n",
       "    </tr>\n",
       "    <tr>\n",
       "      <th>p_w</th>\n",
       "      <td>NaN</td>\n",
       "      <td>(alpha + beta*w)/(2*beta)</td>\n",
       "      <td>(-2*alpha*beta*epsilon + alpha + beta*w)/(-2*b...</td>\n",
       "    </tr>\n",
       "    <tr>\n",
       "      <th>q</th>\n",
       "      <td>alpha/2 - beta*c/2</td>\n",
       "      <td>alpha/4 - beta*c/4</td>\n",
       "      <td>alpha/4 - beta*c/2 + beta*w/4</td>\n",
       "    </tr>\n",
       "    <tr>\n",
       "      <th>profit_r</th>\n",
       "      <td>NaN</td>\n",
       "      <td>(alpha - beta*c)**2/(16*beta)</td>\n",
       "      <td>(alpha - beta*w)*(alpha/4 - beta*c/2 + beta*w/...</td>\n",
       "    </tr>\n",
       "    <tr>\n",
       "      <th>profit_s</th>\n",
       "      <td>NaN</td>\n",
       "      <td>(alpha - beta*c)**2/(8*beta)</td>\n",
       "      <td>(alpha/4 - beta*c/2 + beta*w/4)*(alpha - 2*bet...</td>\n",
       "    </tr>\n",
       "    <tr>\n",
       "      <th>profit_all</th>\n",
       "      <td>(alpha - beta*c)**2/(4*beta)</td>\n",
       "      <td>3*(alpha - beta*c)**2/(16*beta)</td>\n",
       "      <td>(3*alpha**2 - 8*alpha*beta*c + 2*alpha*beta*w ...</td>\n",
       "    </tr>\n",
       "    <tr>\n",
       "      <th>h1_all_p</th>\n",
       "      <td>-2*beta</td>\n",
       "      <td>NaN</td>\n",
       "      <td>NaN</td>\n",
       "    </tr>\n",
       "    <tr>\n",
       "      <th>h1_r_p</th>\n",
       "      <td>NaN</td>\n",
       "      <td>-2*beta</td>\n",
       "      <td>-4*beta*(alpha - beta*w)/(alpha - 2*beta*c + b...</td>\n",
       "    </tr>\n",
       "    <tr>\n",
       "      <th>h1_s_w</th>\n",
       "      <td>NaN</td>\n",
       "      <td>-beta</td>\n",
       "      <td>-beta*(3*alpha**2 - 8*alpha*beta*c + 2*alpha*b...</td>\n",
       "    </tr>\n",
       "    <tr>\n",
       "      <th>h1_s_e</th>\n",
       "      <td>NaN</td>\n",
       "      <td>NaN</td>\n",
       "      <td>-beta*(alpha - 2*beta*c + beta*w)**4/(32*(alph...</td>\n",
       "    </tr>\n",
       "    <tr>\n",
       "      <th>h2_s</th>\n",
       "      <td>NaN</td>\n",
       "      <td>NaN</td>\n",
       "      <td>-beta**2*(alpha - 2*beta*c + beta*w)**4/(256*(...</td>\n",
       "    </tr>\n",
       "  </tbody>\n",
       "</table>\n",
       "</div>"
      ],
      "text/plain": [
       "                                      FB                               WH  \\\n",
       "w                                    NaN        (alpha + beta*c)/(2*beta)   \n",
       "epsilon                              NaN                              NaN   \n",
       "T                                    NaN        (alpha + beta*c)/(2*beta)   \n",
       "p              (alpha + beta*c)/(2*beta)      (3*alpha + beta*c)/(4*beta)   \n",
       "p_w                                  NaN        (alpha + beta*w)/(2*beta)   \n",
       "q                     alpha/2 - beta*c/2               alpha/4 - beta*c/4   \n",
       "profit_r                             NaN    (alpha - beta*c)**2/(16*beta)   \n",
       "profit_s                             NaN     (alpha - beta*c)**2/(8*beta)   \n",
       "profit_all  (alpha - beta*c)**2/(4*beta)  3*(alpha - beta*c)**2/(16*beta)   \n",
       "h1_all_p                         -2*beta                              NaN   \n",
       "h1_r_p                               NaN                          -2*beta   \n",
       "h1_s_w                               NaN                            -beta   \n",
       "h1_s_e                               NaN                              NaN   \n",
       "h2_s                                 NaN                              NaN   \n",
       "\n",
       "                                                           QD  \n",
       "w                                                           w  \n",
       "epsilon     (-alpha - 2*beta*c + 3*beta*w)/(beta*(alpha - ...  \n",
       "T                        (alpha + 2*beta*c + beta*w)/(4*beta)  \n",
       "p                      (3*alpha + 2*beta*c - beta*w)/(4*beta)  \n",
       "p_w         (-2*alpha*beta*epsilon + alpha + beta*w)/(-2*b...  \n",
       "q                               alpha/4 - beta*c/2 + beta*w/4  \n",
       "profit_r    (alpha - beta*w)*(alpha/4 - beta*c/2 + beta*w/...  \n",
       "profit_s    (alpha/4 - beta*c/2 + beta*w/4)*(alpha - 2*bet...  \n",
       "profit_all  (3*alpha**2 - 8*alpha*beta*c + 2*alpha*beta*w ...  \n",
       "h1_all_p                                                  NaN  \n",
       "h1_r_p      -4*beta*(alpha - beta*w)/(alpha - 2*beta*c + b...  \n",
       "h1_s_w      -beta*(3*alpha**2 - 8*alpha*beta*c + 2*alpha*b...  \n",
       "h1_s_e      -beta*(alpha - 2*beta*c + beta*w)**4/(32*(alph...  \n",
       "h2_s        -beta**2*(alpha - 2*beta*c + beta*w)**4/(256*(...  "
      ]
     },
     "execution_count": 17,
     "metadata": {},
     "output_type": "execute_result"
    }
   ],
   "source": [
    "ND_all"
   ]
  },
  {
   "cell_type": "code",
   "execution_count": 18,
   "metadata": {},
   "outputs": [],
   "source": [
    "df_1 = ND_all"
   ]
  },
  {
   "cell_type": "code",
   "execution_count": 26,
   "metadata": {},
   "outputs": [
    {
     "data": {
      "text/latex": [
       "$\\displaystyle \\frac{\\alpha}{\\beta}$"
      ],
      "text/plain": [
       "alpha/beta"
      ]
     },
     "execution_count": 26,
     "metadata": {},
     "output_type": "execute_result"
    }
   ],
   "source": [
    "w_sol = sol_w_other(df_1,[df_1[\"QD\"][\"profit_r\"]])\n",
    "w_sol[0][0]"
   ]
  },
  {
   "cell_type": "code",
   "execution_count": 27,
   "metadata": {
    "scrolled": true
   },
   "outputs": [
    {
     "name": "stdout",
     "output_type": "stream",
     "text": [
      "w\n"
     ]
    },
    {
     "data": {
      "text/latex": [
       "$\\displaystyle \\frac{\\alpha}{\\beta}$"
      ],
      "text/plain": [
       "alpha/beta"
      ]
     },
     "metadata": {},
     "output_type": "display_data"
    },
    {
     "name": "stdout",
     "output_type": "stream",
     "text": [
      "\n",
      "epsilon\n"
     ]
    },
    {
     "data": {
      "text/latex": [
       "$\\displaystyle \\frac{1}{\\beta}$"
      ],
      "text/plain": [
       "1/beta"
      ]
     },
     "metadata": {},
     "output_type": "display_data"
    },
    {
     "name": "stdout",
     "output_type": "stream",
     "text": [
      "\n",
      "T\n"
     ]
    },
    {
     "data": {
      "text/latex": [
       "$\\displaystyle \\frac{\\alpha + \\beta c}{2 \\beta}$"
      ],
      "text/plain": [
       "(alpha + beta*c)/(2*beta)"
      ]
     },
     "metadata": {},
     "output_type": "display_data"
    },
    {
     "name": "stdout",
     "output_type": "stream",
     "text": [
      "\n",
      "p\n"
     ]
    },
    {
     "data": {
      "text/latex": [
       "$\\displaystyle \\frac{\\alpha + \\beta c}{2 \\beta}$"
      ],
      "text/plain": [
       "(alpha + beta*c)/(2*beta)"
      ]
     },
     "metadata": {},
     "output_type": "display_data"
    },
    {
     "name": "stdout",
     "output_type": "stream",
     "text": [
      "\n",
      "p_w\n"
     ]
    },
    {
     "data": {
      "text/latex": [
       "$\\displaystyle \\frac{\\alpha}{\\beta}$"
      ],
      "text/plain": [
       "alpha/beta"
      ]
     },
     "metadata": {},
     "output_type": "display_data"
    },
    {
     "name": "stdout",
     "output_type": "stream",
     "text": [
      "\n",
      "q\n"
     ]
    },
    {
     "data": {
      "text/latex": [
       "$\\displaystyle - \\frac{- \\alpha + \\beta c}{2}$"
      ],
      "text/plain": [
       "-(-alpha + beta*c)/2"
      ]
     },
     "metadata": {},
     "output_type": "display_data"
    },
    {
     "name": "stdout",
     "output_type": "stream",
     "text": [
      "\n",
      "profit_r\n"
     ]
    },
    {
     "data": {
      "text/latex": [
       "$\\displaystyle 0$"
      ],
      "text/plain": [
       "0"
      ]
     },
     "metadata": {},
     "output_type": "display_data"
    },
    {
     "name": "stdout",
     "output_type": "stream",
     "text": [
      "\n",
      "profit_s\n"
     ]
    },
    {
     "data": {
      "text/latex": [
       "$\\displaystyle \\frac{\\left(- \\alpha + \\beta c\\right)^{2}}{4 \\beta}$"
      ],
      "text/plain": [
       "(-alpha + beta*c)**2/(4*beta)"
      ]
     },
     "metadata": {},
     "output_type": "display_data"
    },
    {
     "name": "stdout",
     "output_type": "stream",
     "text": [
      "\n",
      "profit_all\n"
     ]
    },
    {
     "data": {
      "text/latex": [
       "$\\displaystyle \\frac{\\left(- \\alpha + \\beta c\\right)^{2}}{4 \\beta}$"
      ],
      "text/plain": [
       "(-alpha + beta*c)**2/(4*beta)"
      ]
     },
     "metadata": {},
     "output_type": "display_data"
    },
    {
     "name": "stdout",
     "output_type": "stream",
     "text": [
      "\n",
      "h1_all_p\n",
      "\n",
      "\n",
      "h1_r_p\n"
     ]
    },
    {
     "data": {
      "text/latex": [
       "$\\displaystyle 0$"
      ],
      "text/plain": [
       "0"
      ]
     },
     "metadata": {},
     "output_type": "display_data"
    },
    {
     "name": "stdout",
     "output_type": "stream",
     "text": [
      "\n",
      "h1_s_w\n"
     ]
    },
    {
     "data": {
      "text/latex": [
       "$\\displaystyle \\tilde{\\infty} \\left(- \\alpha + \\beta c\\right)^{2}$"
      ],
      "text/plain": [
       "zoo*(-alpha + beta*c)**2"
      ]
     },
     "metadata": {},
     "output_type": "display_data"
    },
    {
     "name": "stdout",
     "output_type": "stream",
     "text": [
      "\n",
      "h1_s_e\n"
     ]
    },
    {
     "data": {
      "text/latex": [
       "$\\displaystyle \\tilde{\\infty} \\left(- \\alpha + \\beta c\\right)^{4}$"
      ],
      "text/plain": [
       "zoo*(-alpha + beta*c)**4"
      ]
     },
     "metadata": {},
     "output_type": "display_data"
    },
    {
     "name": "stdout",
     "output_type": "stream",
     "text": [
      "\n",
      "h2_s\n"
     ]
    },
    {
     "data": {
      "text/latex": [
       "$\\displaystyle \\tilde{\\infty} \\left(- \\alpha + \\beta c\\right)^{4}$"
      ],
      "text/plain": [
       "zoo*(-alpha + beta*c)**4"
      ]
     },
     "metadata": {},
     "output_type": "display_data"
    },
    {
     "name": "stdout",
     "output_type": "stream",
     "text": [
      "\n"
     ]
    }
   ],
   "source": [
    "display_solve(df_1,w_sol[0][0])"
   ]
  },
  {
   "cell_type": "code",
   "execution_count": 24,
   "metadata": {},
   "outputs": [
    {
     "data": {
      "text/latex": [
       "$\\displaystyle - \\frac{\\sqrt{2} \\left(- \\alpha + \\beta c\\right)}{\\beta} + \\frac{- \\alpha + 2 \\beta c}{\\beta}$"
      ],
      "text/plain": [
       "-sqrt(2)*(-alpha + beta*c)/beta + (-alpha + 2*beta*c)/beta"
      ]
     },
     "execution_count": 24,
     "metadata": {},
     "output_type": "execute_result"
    }
   ],
   "source": [
    "w_sol = sol_w_other(df_1,[df_1[\"QD\"][\"profit_s\"]-df_1[\"WH\"][\"profit_s\"]])\n",
    "w_sol[0][0]"
   ]
  },
  {
   "cell_type": "code",
   "execution_count": 25,
   "metadata": {
    "scrolled": true
   },
   "outputs": [
    {
     "name": "stdout",
     "output_type": "stream",
     "text": [
      "w\n"
     ]
    },
    {
     "data": {
      "text/latex": [
       "$\\displaystyle - \\frac{- \\sqrt{2} \\alpha + \\alpha - 2 \\beta c + \\sqrt{2} \\beta c}{\\beta}$"
      ],
      "text/plain": [
       "-(-sqrt(2)*alpha + alpha - 2*beta*c + sqrt(2)*beta*c)/beta"
      ]
     },
     "metadata": {},
     "output_type": "display_data"
    },
    {
     "name": "stdout",
     "output_type": "stream",
     "text": [
      "\n",
      "epsilon\n"
     ]
    },
    {
     "data": {
      "text/latex": [
       "$\\displaystyle \\frac{\\sqrt{2} \\left(-4 + 3 \\sqrt{2}\\right)}{2 \\beta}$"
      ],
      "text/plain": [
       "sqrt(2)*(-4 + 3*sqrt(2))/(2*beta)"
      ]
     },
     "metadata": {},
     "output_type": "display_data"
    },
    {
     "name": "stdout",
     "output_type": "stream",
     "text": [
      "\n",
      "T\n"
     ]
    },
    {
     "data": {
      "text/latex": [
       "$\\displaystyle - \\frac{- \\sqrt{2} \\alpha - 4 \\beta c + \\sqrt{2} \\beta c}{4 \\beta}$"
      ],
      "text/plain": [
       "-(-sqrt(2)*alpha - 4*beta*c + sqrt(2)*beta*c)/(4*beta)"
      ]
     },
     "metadata": {},
     "output_type": "display_data"
    },
    {
     "name": "stdout",
     "output_type": "stream",
     "text": [
      "\n",
      "p\n"
     ]
    },
    {
     "data": {
      "text/latex": [
       "$\\displaystyle \\frac{- \\sqrt{2} \\alpha + 4 \\alpha + \\sqrt{2} \\beta c}{4 \\beta}$"
      ],
      "text/plain": [
       "(-sqrt(2)*alpha + 4*alpha + sqrt(2)*beta*c)/(4*beta)"
      ]
     },
     "metadata": {},
     "output_type": "display_data"
    },
    {
     "name": "stdout",
     "output_type": "stream",
     "text": [
      "\n",
      "p_w\n"
     ]
    },
    {
     "data": {
      "text/latex": [
       "$\\displaystyle \\frac{2 \\alpha \\beta \\epsilon - \\sqrt{2} \\alpha - 2 \\beta c + \\sqrt{2} \\beta c}{2 \\beta \\left(\\beta \\epsilon - 1\\right)}$"
      ],
      "text/plain": [
       "(2*alpha*beta*epsilon - sqrt(2)*alpha - 2*beta*c + sqrt(2)*beta*c)/(2*beta*(beta*epsilon - 1))"
      ]
     },
     "metadata": {},
     "output_type": "display_data"
    },
    {
     "name": "stdout",
     "output_type": "stream",
     "text": [
      "\n",
      "q\n"
     ]
    },
    {
     "data": {
      "text/latex": [
       "$\\displaystyle - \\frac{\\sqrt{2} \\left(- \\alpha + \\beta c\\right)}{4}$"
      ],
      "text/plain": [
       "-sqrt(2)*(-alpha + beta*c)/4"
      ]
     },
     "metadata": {},
     "output_type": "display_data"
    },
    {
     "name": "stdout",
     "output_type": "stream",
     "text": [
      "\n",
      "profit_r\n"
     ]
    },
    {
     "data": {
      "text/latex": [
       "$\\displaystyle - \\frac{\\sqrt{2} \\left(-2 + \\sqrt{2}\\right) \\left(- \\alpha + \\beta c\\right)^{2}}{8 \\beta}$"
      ],
      "text/plain": [
       "-sqrt(2)*(-2 + sqrt(2))*(-alpha + beta*c)**2/(8*beta)"
      ]
     },
     "metadata": {},
     "output_type": "display_data"
    },
    {
     "name": "stdout",
     "output_type": "stream",
     "text": [
      "\n",
      "profit_s\n"
     ]
    },
    {
     "data": {
      "text/latex": [
       "$\\displaystyle \\frac{\\left(- \\alpha + \\beta c\\right)^{2}}{8 \\beta}$"
      ],
      "text/plain": [
       "(-alpha + beta*c)**2/(8*beta)"
      ]
     },
     "metadata": {},
     "output_type": "display_data"
    },
    {
     "name": "stdout",
     "output_type": "stream",
     "text": [
      "\n",
      "profit_all\n"
     ]
    },
    {
     "data": {
      "text/latex": [
       "$\\displaystyle \\frac{\\left(-1 + 2 \\sqrt{2}\\right) \\left(- \\alpha + \\beta c\\right)^{2}}{8 \\beta}$"
      ],
      "text/plain": [
       "(-1 + 2*sqrt(2))*(-alpha + beta*c)**2/(8*beta)"
      ]
     },
     "metadata": {},
     "output_type": "display_data"
    },
    {
     "name": "stdout",
     "output_type": "stream",
     "text": [
      "\n",
      "h1_all_p\n",
      "\n",
      "\n",
      "h1_r_p\n"
     ]
    },
    {
     "data": {
      "text/latex": [
       "$\\displaystyle 2 \\sqrt{2} \\beta \\left(-2 + \\sqrt{2}\\right)$"
      ],
      "text/plain": [
       "2*sqrt(2)*beta*(-2 + sqrt(2))"
      ]
     },
     "metadata": {},
     "output_type": "display_data"
    },
    {
     "name": "stdout",
     "output_type": "stream",
     "text": [
      "\n",
      "h1_s_w\n"
     ]
    },
    {
     "data": {
      "text/latex": [
       "$\\displaystyle - \\frac{\\beta \\left(-1 + 2 \\sqrt{2}\\right)}{4 \\left(-2 + \\sqrt{2}\\right)^{2}}$"
      ],
      "text/plain": [
       "-beta*(-1 + 2*sqrt(2))/(4*(-2 + sqrt(2))**2)"
      ]
     },
     "metadata": {},
     "output_type": "display_data"
    },
    {
     "name": "stdout",
     "output_type": "stream",
     "text": [
      "\n",
      "h1_s_e\n"
     ]
    },
    {
     "data": {
      "text/latex": [
       "$\\displaystyle - \\frac{\\beta \\left(- \\alpha + \\beta c\\right)^{2}}{8 \\left(-2 + \\sqrt{2}\\right)^{2}}$"
      ],
      "text/plain": [
       "-beta*(-alpha + beta*c)**2/(8*(-2 + sqrt(2))**2)"
      ]
     },
     "metadata": {},
     "output_type": "display_data"
    },
    {
     "name": "stdout",
     "output_type": "stream",
     "text": [
      "\n",
      "h2_s\n"
     ]
    },
    {
     "data": {
      "text/latex": [
       "$\\displaystyle - \\frac{\\beta^{2} \\left(- \\alpha + \\beta c\\right)^{2}}{64 \\left(-2 + \\sqrt{2}\\right)^{2}}$"
      ],
      "text/plain": [
       "-beta**2*(-alpha + beta*c)**2/(64*(-2 + sqrt(2))**2)"
      ]
     },
     "metadata": {},
     "output_type": "display_data"
    },
    {
     "name": "stdout",
     "output_type": "stream",
     "text": [
      "\n"
     ]
    }
   ],
   "source": [
    "display_solve(df_1,w_sol[0][0])"
   ]
  },
  {
   "cell_type": "code",
   "execution_count": null,
   "metadata": {},
   "outputs": [],
   "source": []
  },
  {
   "cell_type": "code",
   "execution_count": 28,
   "metadata": {},
   "outputs": [
    {
     "data": {
      "text/latex": [
       "$\\displaystyle \\frac{\\alpha}{\\beta}$"
      ],
      "text/plain": [
       "alpha/beta"
      ]
     },
     "execution_count": 28,
     "metadata": {},
     "output_type": "execute_result"
    }
   ],
   "source": [
    "w_sol = sol_w_other(df_1,[df_1[\"QD\"][\"profit_all\"]-df_1[\"FB\"][\"profit_all\"]])\n",
    "w_sol[0][0]"
   ]
  },
  {
   "cell_type": "code",
   "execution_count": 29,
   "metadata": {
    "scrolled": true
   },
   "outputs": [
    {
     "name": "stdout",
     "output_type": "stream",
     "text": [
      "w\n"
     ]
    },
    {
     "data": {
      "text/latex": [
       "$\\displaystyle \\frac{\\alpha}{\\beta}$"
      ],
      "text/plain": [
       "alpha/beta"
      ]
     },
     "metadata": {},
     "output_type": "display_data"
    },
    {
     "name": "stdout",
     "output_type": "stream",
     "text": [
      "\n",
      "epsilon\n"
     ]
    },
    {
     "data": {
      "text/latex": [
       "$\\displaystyle \\frac{1}{\\beta}$"
      ],
      "text/plain": [
       "1/beta"
      ]
     },
     "metadata": {},
     "output_type": "display_data"
    },
    {
     "name": "stdout",
     "output_type": "stream",
     "text": [
      "\n",
      "T\n"
     ]
    },
    {
     "data": {
      "text/latex": [
       "$\\displaystyle \\frac{\\alpha + \\beta c}{2 \\beta}$"
      ],
      "text/plain": [
       "(alpha + beta*c)/(2*beta)"
      ]
     },
     "metadata": {},
     "output_type": "display_data"
    },
    {
     "name": "stdout",
     "output_type": "stream",
     "text": [
      "\n",
      "p\n"
     ]
    },
    {
     "data": {
      "text/latex": [
       "$\\displaystyle \\frac{\\alpha + \\beta c}{2 \\beta}$"
      ],
      "text/plain": [
       "(alpha + beta*c)/(2*beta)"
      ]
     },
     "metadata": {},
     "output_type": "display_data"
    },
    {
     "name": "stdout",
     "output_type": "stream",
     "text": [
      "\n",
      "p_w\n"
     ]
    },
    {
     "data": {
      "text/latex": [
       "$\\displaystyle \\frac{\\alpha}{\\beta}$"
      ],
      "text/plain": [
       "alpha/beta"
      ]
     },
     "metadata": {},
     "output_type": "display_data"
    },
    {
     "name": "stdout",
     "output_type": "stream",
     "text": [
      "\n",
      "q\n"
     ]
    },
    {
     "data": {
      "text/latex": [
       "$\\displaystyle - \\frac{- \\alpha + \\beta c}{2}$"
      ],
      "text/plain": [
       "-(-alpha + beta*c)/2"
      ]
     },
     "metadata": {},
     "output_type": "display_data"
    },
    {
     "name": "stdout",
     "output_type": "stream",
     "text": [
      "\n",
      "profit_r\n"
     ]
    },
    {
     "data": {
      "text/latex": [
       "$\\displaystyle 0$"
      ],
      "text/plain": [
       "0"
      ]
     },
     "metadata": {},
     "output_type": "display_data"
    },
    {
     "name": "stdout",
     "output_type": "stream",
     "text": [
      "\n",
      "profit_s\n"
     ]
    },
    {
     "data": {
      "text/latex": [
       "$\\displaystyle \\frac{\\left(- \\alpha + \\beta c\\right)^{2}}{4 \\beta}$"
      ],
      "text/plain": [
       "(-alpha + beta*c)**2/(4*beta)"
      ]
     },
     "metadata": {},
     "output_type": "display_data"
    },
    {
     "name": "stdout",
     "output_type": "stream",
     "text": [
      "\n",
      "profit_all\n"
     ]
    },
    {
     "data": {
      "text/latex": [
       "$\\displaystyle \\frac{\\left(- \\alpha + \\beta c\\right)^{2}}{4 \\beta}$"
      ],
      "text/plain": [
       "(-alpha + beta*c)**2/(4*beta)"
      ]
     },
     "metadata": {},
     "output_type": "display_data"
    },
    {
     "name": "stdout",
     "output_type": "stream",
     "text": [
      "\n",
      "h1_all_p\n",
      "\n",
      "\n",
      "h1_r_p\n"
     ]
    },
    {
     "data": {
      "text/latex": [
       "$\\displaystyle 0$"
      ],
      "text/plain": [
       "0"
      ]
     },
     "metadata": {},
     "output_type": "display_data"
    },
    {
     "name": "stdout",
     "output_type": "stream",
     "text": [
      "\n",
      "h1_s_w\n"
     ]
    },
    {
     "data": {
      "text/latex": [
       "$\\displaystyle \\tilde{\\infty} \\left(- \\alpha + \\beta c\\right)^{2}$"
      ],
      "text/plain": [
       "zoo*(-alpha + beta*c)**2"
      ]
     },
     "metadata": {},
     "output_type": "display_data"
    },
    {
     "name": "stdout",
     "output_type": "stream",
     "text": [
      "\n",
      "h1_s_e\n"
     ]
    },
    {
     "data": {
      "text/latex": [
       "$\\displaystyle \\tilde{\\infty} \\left(- \\alpha + \\beta c\\right)^{4}$"
      ],
      "text/plain": [
       "zoo*(-alpha + beta*c)**4"
      ]
     },
     "metadata": {},
     "output_type": "display_data"
    },
    {
     "name": "stdout",
     "output_type": "stream",
     "text": [
      "\n",
      "h2_s\n"
     ]
    },
    {
     "data": {
      "text/latex": [
       "$\\displaystyle \\tilde{\\infty} \\left(- \\alpha + \\beta c\\right)^{4}$"
      ],
      "text/plain": [
       "zoo*(-alpha + beta*c)**4"
      ]
     },
     "metadata": {},
     "output_type": "display_data"
    },
    {
     "name": "stdout",
     "output_type": "stream",
     "text": [
      "\n"
     ]
    }
   ],
   "source": [
    "display_solve(df_1,w_sol[0][0])"
   ]
  },
  {
   "cell_type": "code",
   "execution_count": null,
   "metadata": {},
   "outputs": [],
   "source": []
  },
  {
   "cell_type": "markdown",
   "metadata": {},
   "source": [
    "# DD"
   ]
  },
  {
   "cell_type": "code",
   "execution_count": 30,
   "metadata": {},
   "outputs": [],
   "source": [
    "df_1 = DD_all"
   ]
  },
  {
   "cell_type": "code",
   "execution_count": 31,
   "metadata": {},
   "outputs": [
    {
     "data": {
      "text/latex": [
       "$\\displaystyle \\frac{\\alpha - \\beta \\delta_{d} s}{\\beta}$"
      ],
      "text/plain": [
       "(alpha - beta*delta_d*s)/beta"
      ]
     },
     "execution_count": 31,
     "metadata": {},
     "output_type": "execute_result"
    }
   ],
   "source": [
    "w_sol = sol_w_other(df_1,[df_1[\"QD\"][\"profit_r\"]])\n",
    "w_sol[0][0]"
   ]
  },
  {
   "cell_type": "code",
   "execution_count": 32,
   "metadata": {
    "scrolled": true
   },
   "outputs": [
    {
     "name": "stdout",
     "output_type": "stream",
     "text": [
      "w\n"
     ]
    },
    {
     "data": {
      "text/latex": [
       "$\\displaystyle - \\frac{- \\alpha + \\beta \\delta_{d} s}{\\beta}$"
      ],
      "text/plain": [
       "-(-alpha + beta*delta_d*s)/beta"
      ]
     },
     "metadata": {},
     "output_type": "display_data"
    },
    {
     "name": "stdout",
     "output_type": "stream",
     "text": [
      "\n",
      "epsilon\n"
     ]
    },
    {
     "data": {
      "text/latex": [
       "$\\displaystyle \\frac{1}{\\beta}$"
      ],
      "text/plain": [
       "1/beta"
      ]
     },
     "metadata": {},
     "output_type": "display_data"
    },
    {
     "name": "stdout",
     "output_type": "stream",
     "text": [
      "\n",
      "T\n"
     ]
    },
    {
     "data": {
      "text/latex": [
       "$\\displaystyle - \\frac{- \\alpha - \\beta c + \\beta \\delta_{d} s}{2 \\beta}$"
      ],
      "text/plain": [
       "-(-alpha - beta*c + beta*delta_d*s)/(2*beta)"
      ]
     },
     "metadata": {},
     "output_type": "display_data"
    },
    {
     "name": "stdout",
     "output_type": "stream",
     "text": [
      "\n",
      "p\n"
     ]
    },
    {
     "data": {
      "text/latex": [
       "$\\displaystyle \\frac{\\alpha + \\beta c + \\beta \\delta_{d} s}{2 \\beta}$"
      ],
      "text/plain": [
       "(alpha + beta*c + beta*delta_d*s)/(2*beta)"
      ]
     },
     "metadata": {},
     "output_type": "display_data"
    },
    {
     "name": "stdout",
     "output_type": "stream",
     "text": [
      "\n",
      "p_w\n"
     ]
    },
    {
     "data": {
      "text/latex": [
       "$\\displaystyle \\frac{\\alpha}{\\beta}$"
      ],
      "text/plain": [
       "alpha/beta"
      ]
     },
     "metadata": {},
     "output_type": "display_data"
    },
    {
     "name": "stdout",
     "output_type": "stream",
     "text": [
      "\n",
      "q\n"
     ]
    },
    {
     "data": {
      "text/latex": [
       "$\\displaystyle - \\frac{- \\alpha + \\beta c + \\beta \\delta_{d} s}{2}$"
      ],
      "text/plain": [
       "-(-alpha + beta*c + beta*delta_d*s)/2"
      ]
     },
     "metadata": {},
     "output_type": "display_data"
    },
    {
     "name": "stdout",
     "output_type": "stream",
     "text": [
      "\n",
      "profit_r\n"
     ]
    },
    {
     "data": {
      "text/latex": [
       "$\\displaystyle 0$"
      ],
      "text/plain": [
       "0"
      ]
     },
     "metadata": {},
     "output_type": "display_data"
    },
    {
     "name": "stdout",
     "output_type": "stream",
     "text": [
      "\n",
      "profit_s\n"
     ]
    },
    {
     "data": {
      "text/latex": [
       "$\\displaystyle \\frac{\\left(- \\alpha + \\beta c + \\beta \\delta_{d} s\\right)^{2}}{4 \\beta}$"
      ],
      "text/plain": [
       "(-alpha + beta*c + beta*delta_d*s)**2/(4*beta)"
      ]
     },
     "metadata": {},
     "output_type": "display_data"
    },
    {
     "name": "stdout",
     "output_type": "stream",
     "text": [
      "\n",
      "profit_all\n"
     ]
    },
    {
     "data": {
      "text/latex": [
       "$\\displaystyle \\frac{\\left(- \\alpha + \\beta c + \\beta \\delta_{d} s\\right)^{2}}{4 \\beta}$"
      ],
      "text/plain": [
       "(-alpha + beta*c + beta*delta_d*s)**2/(4*beta)"
      ]
     },
     "metadata": {},
     "output_type": "display_data"
    },
    {
     "name": "stdout",
     "output_type": "stream",
     "text": [
      "\n",
      "h1_all_p\n",
      "\n",
      "\n",
      "h1_r_p\n"
     ]
    },
    {
     "data": {
      "text/latex": [
       "$\\displaystyle 0$"
      ],
      "text/plain": [
       "0"
      ]
     },
     "metadata": {},
     "output_type": "display_data"
    },
    {
     "name": "stdout",
     "output_type": "stream",
     "text": [
      "\n",
      "h1_s_w\n"
     ]
    },
    {
     "data": {
      "text/latex": [
       "$\\displaystyle 4 \\tilde{\\infty} \\left(- \\alpha + \\beta c + \\beta \\delta_{d} s\\right)^{2}$"
      ],
      "text/plain": [
       "4*zoo*(-alpha + beta*c + beta*delta_d*s)**2"
      ]
     },
     "metadata": {},
     "output_type": "display_data"
    },
    {
     "name": "stdout",
     "output_type": "stream",
     "text": [
      "\n",
      "h1_s_e\n"
     ]
    },
    {
     "data": {
      "text/latex": [
       "$\\displaystyle \\tilde{\\infty} \\left(- \\alpha + \\beta c + \\beta \\delta_{d} s\\right)^{4}$"
      ],
      "text/plain": [
       "zoo*(-alpha + beta*c + beta*delta_d*s)**4"
      ]
     },
     "metadata": {},
     "output_type": "display_data"
    },
    {
     "name": "stdout",
     "output_type": "stream",
     "text": [
      "\n",
      "h2_s\n"
     ]
    },
    {
     "data": {
      "text/latex": [
       "$\\displaystyle \\tilde{\\infty} \\left(- \\alpha + \\beta c + \\beta \\delta_{d} s\\right)^{4}$"
      ],
      "text/plain": [
       "zoo*(-alpha + beta*c + beta*delta_d*s)**4"
      ]
     },
     "metadata": {},
     "output_type": "display_data"
    },
    {
     "name": "stdout",
     "output_type": "stream",
     "text": [
      "\n"
     ]
    }
   ],
   "source": [
    "display_solve(df_1,w_sol[0][0])"
   ]
  },
  {
   "cell_type": "code",
   "execution_count": 33,
   "metadata": {},
   "outputs": [
    {
     "data": {
      "text/latex": [
       "$\\displaystyle - \\frac{\\sqrt{2} \\left(- \\alpha + \\beta c + \\beta \\delta_{d} s\\right)}{\\beta} + \\frac{- \\alpha + 2 \\beta c + \\beta \\delta_{d} s}{\\beta}$"
      ],
      "text/plain": [
       "-sqrt(2)*(-alpha + beta*c + beta*delta_d*s)/beta + (-alpha + 2*beta*c + beta*delta_d*s)/beta"
      ]
     },
     "execution_count": 33,
     "metadata": {},
     "output_type": "execute_result"
    }
   ],
   "source": [
    "w_sol = sol_w_other(df_1,[df_1[\"QD\"][\"profit_s\"]-df_1[\"WH\"][\"profit_s\"]])\n",
    "w_sol[0][0]"
   ]
  },
  {
   "cell_type": "code",
   "execution_count": 34,
   "metadata": {
    "scrolled": true
   },
   "outputs": [
    {
     "name": "stdout",
     "output_type": "stream",
     "text": [
      "w\n"
     ]
    },
    {
     "data": {
      "text/latex": [
       "$\\displaystyle - \\frac{- \\sqrt{2} \\alpha + \\alpha - 2 \\beta c + \\sqrt{2} \\beta c - \\beta \\delta_{d} s + \\sqrt{2} \\beta \\delta_{d} s}{\\beta}$"
      ],
      "text/plain": [
       "-(-sqrt(2)*alpha + alpha - 2*beta*c + sqrt(2)*beta*c - beta*delta_d*s + sqrt(2)*beta*delta_d*s)/beta"
      ]
     },
     "metadata": {},
     "output_type": "display_data"
    },
    {
     "name": "stdout",
     "output_type": "stream",
     "text": [
      "\n",
      "epsilon\n"
     ]
    },
    {
     "data": {
      "text/latex": [
       "$\\displaystyle \\frac{\\sqrt{2} \\left(-4 + 3 \\sqrt{2}\\right)}{2 \\beta}$"
      ],
      "text/plain": [
       "sqrt(2)*(-4 + 3*sqrt(2))/(2*beta)"
      ]
     },
     "metadata": {},
     "output_type": "display_data"
    },
    {
     "name": "stdout",
     "output_type": "stream",
     "text": [
      "\n",
      "T\n"
     ]
    },
    {
     "data": {
      "text/latex": [
       "$\\displaystyle - \\frac{- \\sqrt{2} \\alpha - 4 \\beta c + \\sqrt{2} \\beta c + \\sqrt{2} \\beta \\delta_{d} s}{4 \\beta}$"
      ],
      "text/plain": [
       "-(-sqrt(2)*alpha - 4*beta*c + sqrt(2)*beta*c + sqrt(2)*beta*delta_d*s)/(4*beta)"
      ]
     },
     "metadata": {},
     "output_type": "display_data"
    },
    {
     "name": "stdout",
     "output_type": "stream",
     "text": [
      "\n",
      "p\n"
     ]
    },
    {
     "data": {
      "text/latex": [
       "$\\displaystyle \\frac{- \\sqrt{2} \\alpha + 4 \\alpha + \\sqrt{2} \\beta c + \\sqrt{2} \\beta \\delta_{d} s}{4 \\beta}$"
      ],
      "text/plain": [
       "(-sqrt(2)*alpha + 4*alpha + sqrt(2)*beta*c + sqrt(2)*beta*delta_d*s)/(4*beta)"
      ]
     },
     "metadata": {},
     "output_type": "display_data"
    },
    {
     "name": "stdout",
     "output_type": "stream",
     "text": [
      "\n",
      "p_w\n"
     ]
    },
    {
     "data": {
      "text/latex": [
       "$\\displaystyle \\frac{2 \\alpha \\beta \\epsilon - \\sqrt{2} \\alpha - 2 \\beta c + \\sqrt{2} \\beta c - 2 \\beta \\delta_{d} s + \\sqrt{2} \\beta \\delta_{d} s}{2 \\beta \\left(\\beta \\epsilon - 1\\right)}$"
      ],
      "text/plain": [
       "(2*alpha*beta*epsilon - sqrt(2)*alpha - 2*beta*c + sqrt(2)*beta*c - 2*beta*delta_d*s + sqrt(2)*beta*delta_d*s)/(2*beta*(beta*epsilon - 1))"
      ]
     },
     "metadata": {},
     "output_type": "display_data"
    },
    {
     "name": "stdout",
     "output_type": "stream",
     "text": [
      "\n",
      "q\n"
     ]
    },
    {
     "data": {
      "text/latex": [
       "$\\displaystyle - \\frac{\\sqrt{2} \\left(- \\alpha + \\beta c + \\beta \\delta_{d} s\\right)}{4}$"
      ],
      "text/plain": [
       "-sqrt(2)*(-alpha + beta*c + beta*delta_d*s)/4"
      ]
     },
     "metadata": {},
     "output_type": "display_data"
    },
    {
     "name": "stdout",
     "output_type": "stream",
     "text": [
      "\n",
      "profit_r\n"
     ]
    },
    {
     "data": {
      "text/latex": [
       "$\\displaystyle - \\frac{\\sqrt{2} \\left(-2 + \\sqrt{2}\\right) \\left(- \\alpha + \\beta c + \\beta \\delta_{d} s\\right)^{2}}{8 \\beta}$"
      ],
      "text/plain": [
       "-sqrt(2)*(-2 + sqrt(2))*(-alpha + beta*c + beta*delta_d*s)**2/(8*beta)"
      ]
     },
     "metadata": {},
     "output_type": "display_data"
    },
    {
     "name": "stdout",
     "output_type": "stream",
     "text": [
      "\n",
      "profit_s\n"
     ]
    },
    {
     "data": {
      "text/latex": [
       "$\\displaystyle \\frac{\\left(- \\alpha + \\beta c + \\beta \\delta_{d} s\\right)^{2}}{8 \\beta}$"
      ],
      "text/plain": [
       "(-alpha + beta*c + beta*delta_d*s)**2/(8*beta)"
      ]
     },
     "metadata": {},
     "output_type": "display_data"
    },
    {
     "name": "stdout",
     "output_type": "stream",
     "text": [
      "\n",
      "profit_all\n"
     ]
    },
    {
     "data": {
      "text/latex": [
       "$\\displaystyle \\frac{\\left(-1 + 2 \\sqrt{2}\\right) \\left(- \\alpha + \\beta c + \\beta \\delta_{d} s\\right)^{2}}{8 \\beta}$"
      ],
      "text/plain": [
       "(-1 + 2*sqrt(2))*(-alpha + beta*c + beta*delta_d*s)**2/(8*beta)"
      ]
     },
     "metadata": {},
     "output_type": "display_data"
    },
    {
     "name": "stdout",
     "output_type": "stream",
     "text": [
      "\n",
      "h1_all_p\n",
      "\n",
      "\n",
      "h1_r_p\n"
     ]
    },
    {
     "data": {
      "text/latex": [
       "$\\displaystyle 2 \\sqrt{2} \\beta \\left(-2 + \\sqrt{2}\\right)$"
      ],
      "text/plain": [
       "2*sqrt(2)*beta*(-2 + sqrt(2))"
      ]
     },
     "metadata": {},
     "output_type": "display_data"
    },
    {
     "name": "stdout",
     "output_type": "stream",
     "text": [
      "\n",
      "h1_s_w\n"
     ]
    },
    {
     "data": {
      "text/latex": [
       "$\\displaystyle - \\frac{\\beta \\left(-1 + 2 \\sqrt{2}\\right)}{4 \\left(-2 + \\sqrt{2}\\right)^{2}}$"
      ],
      "text/plain": [
       "-beta*(-1 + 2*sqrt(2))/(4*(-2 + sqrt(2))**2)"
      ]
     },
     "metadata": {},
     "output_type": "display_data"
    },
    {
     "name": "stdout",
     "output_type": "stream",
     "text": [
      "\n",
      "h1_s_e\n"
     ]
    },
    {
     "data": {
      "text/latex": [
       "$\\displaystyle - \\frac{\\beta \\left(- \\alpha + \\beta c + \\beta \\delta_{d} s\\right)^{2}}{8 \\left(-2 + \\sqrt{2}\\right)^{2}}$"
      ],
      "text/plain": [
       "-beta*(-alpha + beta*c + beta*delta_d*s)**2/(8*(-2 + sqrt(2))**2)"
      ]
     },
     "metadata": {},
     "output_type": "display_data"
    },
    {
     "name": "stdout",
     "output_type": "stream",
     "text": [
      "\n",
      "h2_s\n"
     ]
    },
    {
     "data": {
      "text/latex": [
       "$\\displaystyle - \\frac{\\beta^{2} \\left(- \\alpha + \\beta c + \\beta \\delta_{d} s\\right)^{2}}{64 \\left(-2 + \\sqrt{2}\\right)^{2}}$"
      ],
      "text/plain": [
       "-beta**2*(-alpha + beta*c + beta*delta_d*s)**2/(64*(-2 + sqrt(2))**2)"
      ]
     },
     "metadata": {},
     "output_type": "display_data"
    },
    {
     "name": "stdout",
     "output_type": "stream",
     "text": [
      "\n"
     ]
    }
   ],
   "source": [
    "display_solve(df_1,w_sol[0][0])"
   ]
  },
  {
   "cell_type": "code",
   "execution_count": null,
   "metadata": {},
   "outputs": [],
   "source": []
  },
  {
   "cell_type": "code",
   "execution_count": 35,
   "metadata": {},
   "outputs": [
    {
     "data": {
      "text/latex": [
       "$\\displaystyle - \\frac{- \\alpha + \\beta \\delta_{d} s}{\\beta}$"
      ],
      "text/plain": [
       "-(-alpha + beta*delta_d*s)/beta"
      ]
     },
     "execution_count": 35,
     "metadata": {},
     "output_type": "execute_result"
    }
   ],
   "source": [
    "w_sol = sol_w_other(df_1,[df_1[\"QD\"][\"profit_all\"]-df_1[\"FB\"][\"profit_all\"]])\n",
    "w_sol[0][0]"
   ]
  },
  {
   "cell_type": "code",
   "execution_count": 36,
   "metadata": {
    "scrolled": true
   },
   "outputs": [
    {
     "name": "stdout",
     "output_type": "stream",
     "text": [
      "w\n"
     ]
    },
    {
     "data": {
      "text/latex": [
       "$\\displaystyle - \\frac{- \\alpha + \\beta \\delta_{d} s}{\\beta}$"
      ],
      "text/plain": [
       "-(-alpha + beta*delta_d*s)/beta"
      ]
     },
     "metadata": {},
     "output_type": "display_data"
    },
    {
     "name": "stdout",
     "output_type": "stream",
     "text": [
      "\n",
      "epsilon\n"
     ]
    },
    {
     "data": {
      "text/latex": [
       "$\\displaystyle \\frac{1}{\\beta}$"
      ],
      "text/plain": [
       "1/beta"
      ]
     },
     "metadata": {},
     "output_type": "display_data"
    },
    {
     "name": "stdout",
     "output_type": "stream",
     "text": [
      "\n",
      "T\n"
     ]
    },
    {
     "data": {
      "text/latex": [
       "$\\displaystyle - \\frac{- \\alpha - \\beta c + \\beta \\delta_{d} s}{2 \\beta}$"
      ],
      "text/plain": [
       "-(-alpha - beta*c + beta*delta_d*s)/(2*beta)"
      ]
     },
     "metadata": {},
     "output_type": "display_data"
    },
    {
     "name": "stdout",
     "output_type": "stream",
     "text": [
      "\n",
      "p\n"
     ]
    },
    {
     "data": {
      "text/latex": [
       "$\\displaystyle \\frac{\\alpha + \\beta c + \\beta \\delta_{d} s}{2 \\beta}$"
      ],
      "text/plain": [
       "(alpha + beta*c + beta*delta_d*s)/(2*beta)"
      ]
     },
     "metadata": {},
     "output_type": "display_data"
    },
    {
     "name": "stdout",
     "output_type": "stream",
     "text": [
      "\n",
      "p_w\n"
     ]
    },
    {
     "data": {
      "text/latex": [
       "$\\displaystyle \\frac{\\alpha}{\\beta}$"
      ],
      "text/plain": [
       "alpha/beta"
      ]
     },
     "metadata": {},
     "output_type": "display_data"
    },
    {
     "name": "stdout",
     "output_type": "stream",
     "text": [
      "\n",
      "q\n"
     ]
    },
    {
     "data": {
      "text/latex": [
       "$\\displaystyle - \\frac{- \\alpha + \\beta c + \\beta \\delta_{d} s}{2}$"
      ],
      "text/plain": [
       "-(-alpha + beta*c + beta*delta_d*s)/2"
      ]
     },
     "metadata": {},
     "output_type": "display_data"
    },
    {
     "name": "stdout",
     "output_type": "stream",
     "text": [
      "\n",
      "profit_r\n"
     ]
    },
    {
     "data": {
      "text/latex": [
       "$\\displaystyle 0$"
      ],
      "text/plain": [
       "0"
      ]
     },
     "metadata": {},
     "output_type": "display_data"
    },
    {
     "name": "stdout",
     "output_type": "stream",
     "text": [
      "\n",
      "profit_s\n"
     ]
    },
    {
     "data": {
      "text/latex": [
       "$\\displaystyle \\frac{\\left(- \\alpha + \\beta c + \\beta \\delta_{d} s\\right)^{2}}{4 \\beta}$"
      ],
      "text/plain": [
       "(-alpha + beta*c + beta*delta_d*s)**2/(4*beta)"
      ]
     },
     "metadata": {},
     "output_type": "display_data"
    },
    {
     "name": "stdout",
     "output_type": "stream",
     "text": [
      "\n",
      "profit_all\n"
     ]
    },
    {
     "data": {
      "text/latex": [
       "$\\displaystyle \\frac{\\left(- \\alpha + \\beta c + \\beta \\delta_{d} s\\right)^{2}}{4 \\beta}$"
      ],
      "text/plain": [
       "(-alpha + beta*c + beta*delta_d*s)**2/(4*beta)"
      ]
     },
     "metadata": {},
     "output_type": "display_data"
    },
    {
     "name": "stdout",
     "output_type": "stream",
     "text": [
      "\n",
      "h1_all_p\n",
      "\n",
      "\n",
      "h1_r_p\n"
     ]
    },
    {
     "data": {
      "text/latex": [
       "$\\displaystyle 0$"
      ],
      "text/plain": [
       "0"
      ]
     },
     "metadata": {},
     "output_type": "display_data"
    },
    {
     "name": "stdout",
     "output_type": "stream",
     "text": [
      "\n",
      "h1_s_w\n"
     ]
    },
    {
     "data": {
      "text/latex": [
       "$\\displaystyle 4 \\tilde{\\infty} \\left(- \\alpha + \\beta c + \\beta \\delta_{d} s\\right)^{2}$"
      ],
      "text/plain": [
       "4*zoo*(-alpha + beta*c + beta*delta_d*s)**2"
      ]
     },
     "metadata": {},
     "output_type": "display_data"
    },
    {
     "name": "stdout",
     "output_type": "stream",
     "text": [
      "\n",
      "h1_s_e\n"
     ]
    },
    {
     "data": {
      "text/latex": [
       "$\\displaystyle \\tilde{\\infty} \\left(- \\alpha + \\beta c + \\beta \\delta_{d} s\\right)^{4}$"
      ],
      "text/plain": [
       "zoo*(-alpha + beta*c + beta*delta_d*s)**4"
      ]
     },
     "metadata": {},
     "output_type": "display_data"
    },
    {
     "name": "stdout",
     "output_type": "stream",
     "text": [
      "\n",
      "h2_s\n"
     ]
    },
    {
     "data": {
      "text/latex": [
       "$\\displaystyle \\tilde{\\infty} \\left(- \\alpha + \\beta c + \\beta \\delta_{d} s\\right)^{4}$"
      ],
      "text/plain": [
       "zoo*(-alpha + beta*c + beta*delta_d*s)**4"
      ]
     },
     "metadata": {},
     "output_type": "display_data"
    },
    {
     "name": "stdout",
     "output_type": "stream",
     "text": [
      "\n"
     ]
    }
   ],
   "source": [
    "display_solve(df_1,w_sol[0][0])"
   ]
  },
  {
   "cell_type": "markdown",
   "metadata": {},
   "source": [
    "# BS"
   ]
  },
  {
   "cell_type": "code",
   "execution_count": 38,
   "metadata": {},
   "outputs": [],
   "source": [
    "df_1 = BS_all"
   ]
  },
  {
   "cell_type": "code",
   "execution_count": 39,
   "metadata": {},
   "outputs": [
    {
     "data": {
      "text/latex": [
       "$\\displaystyle \\frac{2 \\alpha \\delta_{d} - \\alpha \\delta_{s} - \\alpha + \\beta \\delta_{d} s - \\beta \\delta_{s} s}{\\beta \\delta_{s} - \\beta}$"
      ],
      "text/plain": [
       "(2*alpha*delta_d - alpha*delta_s - alpha + beta*delta_d*s - beta*delta_s*s)/(beta*delta_s - beta)"
      ]
     },
     "execution_count": 39,
     "metadata": {},
     "output_type": "execute_result"
    }
   ],
   "source": [
    "w_sol = sol_w_other(df_1,[df_1[\"QD\"][\"profit_r\"]])\n",
    "w_sol[0][0]"
   ]
  },
  {
   "cell_type": "code",
   "execution_count": 41,
   "metadata": {
    "scrolled": false
   },
   "outputs": [
    {
     "name": "stdout",
     "output_type": "stream",
     "text": [
      "w\n"
     ]
    },
    {
     "data": {
      "text/latex": [
       "$\\displaystyle \\frac{2 \\alpha \\delta_{d} - \\alpha \\delta_{s} - \\alpha + \\beta \\delta_{d} s - \\beta \\delta_{s} s}{\\beta \\left(\\delta_{s} - 1\\right)}$"
      ],
      "text/plain": [
       "(2*alpha*delta_d - alpha*delta_s - alpha + beta*delta_d*s - beta*delta_s*s)/(beta*(delta_s - 1))"
      ]
     },
     "metadata": {},
     "output_type": "display_data"
    },
    {
     "name": "stdout",
     "output_type": "stream",
     "text": [
      "\n",
      "epsilon\n"
     ]
    },
    {
     "data": {
      "text/latex": [
       "$\\displaystyle \\frac{2 \\delta_{d} - \\delta_{s} - 1}{\\beta \\left(\\delta_{s} - 1\\right)}$"
      ],
      "text/plain": [
       "(2*delta_d - delta_s - 1)/(beta*(delta_s - 1))"
      ]
     },
     "metadata": {},
     "output_type": "display_data"
    },
    {
     "name": "stdout",
     "output_type": "stream",
     "text": [
      "\n",
      "T\n"
     ]
    },
    {
     "data": {
      "text/latex": [
       "$\\displaystyle \\frac{2 \\alpha \\delta_{d} - \\alpha \\delta_{s} - \\alpha + \\beta c \\delta_{s} - \\beta c + \\beta \\delta_{d} s - \\beta \\delta_{s} s}{2 \\beta \\left(\\delta_{s} - 1\\right)}$"
      ],
      "text/plain": [
       "(2*alpha*delta_d - alpha*delta_s - alpha + beta*c*delta_s - beta*c + beta*delta_d*s - beta*delta_s*s)/(2*beta*(delta_s - 1))"
      ]
     },
     "metadata": {},
     "output_type": "display_data"
    },
    {
     "name": "stdout",
     "output_type": "stream",
     "text": [
      "\n",
      "p\n"
     ]
    },
    {
     "data": {
      "text/latex": [
       "$\\displaystyle - \\frac{- 2 \\alpha \\delta_{d} + \\alpha \\delta_{s} + \\alpha - \\beta c \\delta_{s} + \\beta c + \\beta \\delta_{d} s - \\beta \\delta_{s} s}{2 \\beta \\left(2 \\delta_{d} - \\delta_{s} - 1\\right)}$"
      ],
      "text/plain": [
       "-(-2*alpha*delta_d + alpha*delta_s + alpha - beta*c*delta_s + beta*c + beta*delta_d*s - beta*delta_s*s)/(2*beta*(2*delta_d - delta_s - 1))"
      ]
     },
     "metadata": {},
     "output_type": "display_data"
    },
    {
     "name": "stdout",
     "output_type": "stream",
     "text": [
      "\n",
      "p_w\n"
     ]
    },
    {
     "data": {
      "text/latex": [
       "$\\displaystyle \\frac{\\alpha}{\\beta}$"
      ],
      "text/plain": [
       "alpha/beta"
      ]
     },
     "metadata": {},
     "output_type": "display_data"
    },
    {
     "name": "stdout",
     "output_type": "stream",
     "text": [
      "\n",
      "q\n"
     ]
    },
    {
     "data": {
      "text/latex": [
       "$\\displaystyle \\frac{2 \\alpha \\delta_{d} - \\alpha \\delta_{s} - \\alpha - \\beta c \\delta_{s} + \\beta c + \\beta \\delta_{d} s - \\beta \\delta_{s} s}{2 \\left(2 \\delta_{d} - \\delta_{s} - 1\\right)}$"
      ],
      "text/plain": [
       "(2*alpha*delta_d - alpha*delta_s - alpha - beta*c*delta_s + beta*c + beta*delta_d*s - beta*delta_s*s)/(2*(2*delta_d - delta_s - 1))"
      ]
     },
     "metadata": {},
     "output_type": "display_data"
    },
    {
     "name": "stdout",
     "output_type": "stream",
     "text": [
      "\n",
      "profit_r\n"
     ]
    },
    {
     "data": {
      "text/latex": [
       "$\\displaystyle 0$"
      ],
      "text/plain": [
       "0"
      ]
     },
     "metadata": {},
     "output_type": "display_data"
    },
    {
     "name": "stdout",
     "output_type": "stream",
     "text": [
      "\n",
      "profit_s\n"
     ]
    },
    {
     "data": {
      "text/latex": [
       "$\\displaystyle - \\frac{\\left(2 \\alpha \\delta_{d} - \\alpha \\delta_{s} - \\alpha - \\beta c \\delta_{s} + \\beta c + \\beta \\delta_{d} s - \\beta \\delta_{s} s\\right)^{2}}{4 \\beta \\left(2 \\delta_{d} - \\delta_{s} - 1\\right)}$"
      ],
      "text/plain": [
       "-(2*alpha*delta_d - alpha*delta_s - alpha - beta*c*delta_s + beta*c + beta*delta_d*s - beta*delta_s*s)**2/(4*beta*(2*delta_d - delta_s - 1))"
      ]
     },
     "metadata": {},
     "output_type": "display_data"
    },
    {
     "name": "stdout",
     "output_type": "stream",
     "text": [
      "\n",
      "profit_all\n"
     ]
    },
    {
     "data": {
      "text/latex": [
       "$\\displaystyle - \\frac{\\left(2 \\alpha \\delta_{d} - \\alpha \\delta_{s} - \\alpha - \\beta c \\delta_{s} + \\beta c + \\beta \\delta_{d} s - \\beta \\delta_{s} s\\right)^{2}}{4 \\beta \\left(2 \\delta_{d} - \\delta_{s} - 1\\right)}$"
      ],
      "text/plain": [
       "-(2*alpha*delta_d - alpha*delta_s - alpha - beta*c*delta_s + beta*c + beta*delta_d*s - beta*delta_s*s)**2/(4*beta*(2*delta_d - delta_s - 1))"
      ]
     },
     "metadata": {},
     "output_type": "display_data"
    },
    {
     "name": "stdout",
     "output_type": "stream",
     "text": [
      "\n",
      "h1_all_p\n",
      "\n",
      "\n",
      "h1_r_p\n"
     ]
    },
    {
     "data": {
      "text/latex": [
       "$\\displaystyle 0$"
      ],
      "text/plain": [
       "0"
      ]
     },
     "metadata": {},
     "output_type": "display_data"
    },
    {
     "name": "stdout",
     "output_type": "stream",
     "text": [
      "\n",
      "h1_s_w\n"
     ]
    },
    {
     "data": {
      "text/latex": [
       "$\\displaystyle \\frac{\\tilde{\\infty} \\left(\\delta_{s} - 1\\right)^{4} \\left(2 \\alpha \\delta_{d} - \\alpha \\delta_{s} - \\alpha - \\beta c \\delta_{s} + \\beta c + \\beta \\delta_{d} s - \\beta \\delta_{s} s\\right)^{2}}{2 \\left(2 \\delta_{d} - \\delta_{s} - 1\\right)}$"
      ],
      "text/plain": [
       "zoo*(delta_s - 1)**4*(2*alpha*delta_d - alpha*delta_s - alpha - beta*c*delta_s + beta*c + beta*delta_d*s - beta*delta_s*s)**2/(2*(2*delta_d - delta_s - 1))"
      ]
     },
     "metadata": {},
     "output_type": "display_data"
    },
    {
     "name": "stdout",
     "output_type": "stream",
     "text": [
      "\n",
      "h1_s_e\n"
     ]
    },
    {
     "data": {
      "text/latex": [
       "$\\displaystyle \\frac{\\tilde{\\infty} \\left(\\delta_{s} - 1\\right)^{4} \\left(2 \\alpha \\delta_{d} - \\alpha \\delta_{s} - \\alpha - \\beta c \\delta_{s} + \\beta c + \\beta \\delta_{d} s - \\beta \\delta_{s} s\\right)^{4}}{2 \\left(2 \\delta_{d} - \\delta_{s} - 1\\right)^{3}}$"
      ],
      "text/plain": [
       "zoo*(delta_s - 1)**4*(2*alpha*delta_d - alpha*delta_s - alpha - beta*c*delta_s + beta*c + beta*delta_d*s - beta*delta_s*s)**4/(2*(2*delta_d - delta_s - 1)**3)"
      ]
     },
     "metadata": {},
     "output_type": "display_data"
    },
    {
     "name": "stdout",
     "output_type": "stream",
     "text": [
      "\n",
      "h2_s\n"
     ]
    },
    {
     "data": {
      "text/latex": [
       "$\\displaystyle - \\frac{\\tilde{\\infty} \\left(\\delta_{s} - 1\\right)^{6} \\left(2 \\alpha \\delta_{d} - \\alpha \\delta_{s} - \\alpha - \\beta c \\delta_{s} + \\beta c + \\beta \\delta_{d} s - \\beta \\delta_{s} s\\right)^{4}}{16 \\left(2 \\delta_{d} - \\delta_{s} - 1\\right)^{4}}$"
      ],
      "text/plain": [
       "-zoo*(delta_s - 1)**6*(2*alpha*delta_d - alpha*delta_s - alpha - beta*c*delta_s + beta*c + beta*delta_d*s - beta*delta_s*s)**4/(16*(2*delta_d - delta_s - 1)**4)"
      ]
     },
     "metadata": {},
     "output_type": "display_data"
    },
    {
     "name": "stdout",
     "output_type": "stream",
     "text": [
      "\n"
     ]
    }
   ],
   "source": [
    "display_solve(df_1,w_sol[0][0])"
   ]
  },
  {
   "cell_type": "code",
   "execution_count": 47,
   "metadata": {},
   "outputs": [
    {
     "data": {
      "text/latex": [
       "$\\displaystyle - \\frac{\\sqrt{2} \\left(\\delta_{s} - 1\\right) \\left(2 \\alpha \\delta_{d} - \\alpha \\delta_{s} - \\alpha - \\beta c \\delta_{s} + \\beta c + \\beta \\delta_{d} s - \\beta \\delta_{s} s\\right)}{\\beta \\left(\\delta_{s}^{2} - 2 \\delta_{s} + 1\\right)} - \\frac{2 \\alpha \\delta_{d} - \\alpha \\delta_{s} - \\alpha - 2 \\beta c \\delta_{s} + 2 \\beta c + \\beta \\delta_{d} s - \\beta \\delta_{s} s}{\\beta \\left(\\delta_{s} - 1\\right)}$"
      ],
      "text/plain": [
       "-sqrt(2)*(delta_s - 1)*(2*alpha*delta_d - alpha*delta_s - alpha - beta*c*delta_s + beta*c + beta*delta_d*s - beta*delta_s*s)/(beta*(delta_s**2 - 2*delta_s + 1)) - (2*alpha*delta_d - alpha*delta_s - alpha - 2*beta*c*delta_s + 2*beta*c + beta*delta_d*s - beta*delta_s*s)/(beta*(delta_s - 1))"
      ]
     },
     "execution_count": 47,
     "metadata": {},
     "output_type": "execute_result"
    }
   ],
   "source": [
    "w_sol = sol_w_other(df_1,[df_1[\"QD\"][\"profit_s\"]-df_1[\"WH\"][\"profit_s\"]])\n",
    "w_sol[0][0]"
   ]
  },
  {
   "cell_type": "code",
   "execution_count": 43,
   "metadata": {
    "scrolled": false
   },
   "outputs": [
    {
     "name": "stdout",
     "output_type": "stream",
     "text": [
      "w\n"
     ]
    },
    {
     "data": {
      "text/latex": [
       "$\\displaystyle - \\frac{2 \\alpha \\delta_{d} + 2 \\sqrt{2} \\alpha \\delta_{d} - \\sqrt{2} \\alpha \\delta_{s} - \\alpha \\delta_{s} - \\sqrt{2} \\alpha - \\alpha - 2 \\beta c \\delta_{s} - \\sqrt{2} \\beta c \\delta_{s} + \\sqrt{2} \\beta c + 2 \\beta c + \\beta \\delta_{d} s + \\sqrt{2} \\beta \\delta_{d} s - \\sqrt{2} \\beta \\delta_{s} s - \\beta \\delta_{s} s}{\\beta \\left(\\delta_{s} - 1\\right)}$"
      ],
      "text/plain": [
       "-(2*alpha*delta_d + 2*sqrt(2)*alpha*delta_d - sqrt(2)*alpha*delta_s - alpha*delta_s - sqrt(2)*alpha - alpha - 2*beta*c*delta_s - sqrt(2)*beta*c*delta_s + sqrt(2)*beta*c + 2*beta*c + beta*delta_d*s + sqrt(2)*beta*delta_d*s - sqrt(2)*beta*delta_s*s - beta*delta_s*s)/(beta*(delta_s - 1))"
      ]
     },
     "metadata": {},
     "output_type": "display_data"
    },
    {
     "name": "stdout",
     "output_type": "stream",
     "text": [
      "\n",
      "epsilon\n"
     ]
    },
    {
     "data": {
      "text/latex": [
       "$\\displaystyle \\frac{\\sqrt{2} \\left(4 + 3 \\sqrt{2}\\right) \\left(2 \\delta_{d} - \\delta_{s} - 1\\right)}{2 \\beta \\left(\\delta_{s} - 1\\right)}$"
      ],
      "text/plain": [
       "sqrt(2)*(4 + 3*sqrt(2))*(2*delta_d - delta_s - 1)/(2*beta*(delta_s - 1))"
      ]
     },
     "metadata": {},
     "output_type": "display_data"
    },
    {
     "name": "stdout",
     "output_type": "stream",
     "text": [
      "\n",
      "T\n"
     ]
    },
    {
     "data": {
      "text/latex": [
       "$\\displaystyle - \\frac{2 \\sqrt{2} \\alpha \\delta_{d} - \\sqrt{2} \\alpha \\delta_{s} - \\sqrt{2} \\alpha - 4 \\beta c \\delta_{s} - \\sqrt{2} \\beta c \\delta_{s} + \\sqrt{2} \\beta c + 4 \\beta c + \\sqrt{2} \\beta \\delta_{d} s - \\sqrt{2} \\beta \\delta_{s} s}{4 \\beta \\left(\\delta_{s} - 1\\right)}$"
      ],
      "text/plain": [
       "-(2*sqrt(2)*alpha*delta_d - sqrt(2)*alpha*delta_s - sqrt(2)*alpha - 4*beta*c*delta_s - sqrt(2)*beta*c*delta_s + sqrt(2)*beta*c + 4*beta*c + sqrt(2)*beta*delta_d*s - sqrt(2)*beta*delta_s*s)/(4*beta*(delta_s - 1))"
      ]
     },
     "metadata": {},
     "output_type": "display_data"
    },
    {
     "name": "stdout",
     "output_type": "stream",
     "text": [
      "\n",
      "p\n"
     ]
    },
    {
     "data": {
      "text/latex": [
       "$\\displaystyle \\frac{2 \\sqrt{2} \\alpha \\delta_{d} + 8 \\alpha \\delta_{d} - 4 \\alpha \\delta_{s} - \\sqrt{2} \\alpha \\delta_{s} - 4 \\alpha - \\sqrt{2} \\alpha - \\sqrt{2} \\beta c \\delta_{s} + \\sqrt{2} \\beta c + \\sqrt{2} \\beta \\delta_{d} s - \\sqrt{2} \\beta \\delta_{s} s}{4 \\beta \\left(2 \\delta_{d} - \\delta_{s} - 1\\right)}$"
      ],
      "text/plain": [
       "(2*sqrt(2)*alpha*delta_d + 8*alpha*delta_d - 4*alpha*delta_s - sqrt(2)*alpha*delta_s - 4*alpha - sqrt(2)*alpha - sqrt(2)*beta*c*delta_s + sqrt(2)*beta*c + sqrt(2)*beta*delta_d*s - sqrt(2)*beta*delta_s*s)/(4*beta*(2*delta_d - delta_s - 1))"
      ]
     },
     "metadata": {},
     "output_type": "display_data"
    },
    {
     "name": "stdout",
     "output_type": "stream",
     "text": [
      "\n",
      "p_w\n"
     ]
    },
    {
     "data": {
      "text/latex": [
       "$\\displaystyle \\frac{2 \\alpha \\beta \\delta_{s} \\epsilon - 2 \\alpha \\beta \\epsilon + 2 \\sqrt{2} \\alpha \\delta_{d} - \\sqrt{2} \\alpha \\delta_{s} - \\sqrt{2} \\alpha - 2 \\beta c \\delta_{s} - \\sqrt{2} \\beta c \\delta_{s} + \\sqrt{2} \\beta c + 2 \\beta c + \\sqrt{2} \\beta \\delta_{d} s + 2 \\beta \\delta_{d} s - 2 \\beta \\delta_{s} s - \\sqrt{2} \\beta \\delta_{s} s}{2 \\beta \\left(\\beta \\delta_{s} \\epsilon - \\beta \\epsilon - 2 \\delta_{d} + \\delta_{s} + 1\\right)}$"
      ],
      "text/plain": [
       "(2*alpha*beta*delta_s*epsilon - 2*alpha*beta*epsilon + 2*sqrt(2)*alpha*delta_d - sqrt(2)*alpha*delta_s - sqrt(2)*alpha - 2*beta*c*delta_s - sqrt(2)*beta*c*delta_s + sqrt(2)*beta*c + 2*beta*c + sqrt(2)*beta*delta_d*s + 2*beta*delta_d*s - 2*beta*delta_s*s - sqrt(2)*beta*delta_s*s)/(2*beta*(beta*delta_s*epsilon - beta*epsilon - 2*delta_d + delta_s + 1))"
      ]
     },
     "metadata": {},
     "output_type": "display_data"
    },
    {
     "name": "stdout",
     "output_type": "stream",
     "text": [
      "\n",
      "q\n"
     ]
    },
    {
     "data": {
      "text/latex": [
       "$\\displaystyle - \\frac{\\sqrt{2} \\left(2 \\alpha \\delta_{d} - \\alpha \\delta_{s} - \\alpha - \\beta c \\delta_{s} + \\beta c + \\beta \\delta_{d} s - \\beta \\delta_{s} s\\right)}{4 \\left(2 \\delta_{d} - \\delta_{s} - 1\\right)}$"
      ],
      "text/plain": [
       "-sqrt(2)*(2*alpha*delta_d - alpha*delta_s - alpha - beta*c*delta_s + beta*c + beta*delta_d*s - beta*delta_s*s)/(4*(2*delta_d - delta_s - 1))"
      ]
     },
     "metadata": {},
     "output_type": "display_data"
    },
    {
     "name": "stdout",
     "output_type": "stream",
     "text": [
      "\n",
      "profit_r\n"
     ]
    },
    {
     "data": {
      "text/latex": [
       "$\\displaystyle \\frac{\\sqrt{2} \\left(\\sqrt{2} + 2\\right) \\left(2 \\alpha \\delta_{d} - \\alpha \\delta_{s} - \\alpha - \\beta c \\delta_{s} + \\beta c + \\beta \\delta_{d} s - \\beta \\delta_{s} s\\right)^{2}}{8 \\beta \\left(2 \\delta_{d} - \\delta_{s} - 1\\right)}$"
      ],
      "text/plain": [
       "sqrt(2)*(sqrt(2) + 2)*(2*alpha*delta_d - alpha*delta_s - alpha - beta*c*delta_s + beta*c + beta*delta_d*s - beta*delta_s*s)**2/(8*beta*(2*delta_d - delta_s - 1))"
      ]
     },
     "metadata": {},
     "output_type": "display_data"
    },
    {
     "name": "stdout",
     "output_type": "stream",
     "text": [
      "\n",
      "profit_s\n"
     ]
    },
    {
     "data": {
      "text/latex": [
       "$\\displaystyle - \\frac{\\left(2 \\alpha \\delta_{d} - \\alpha \\delta_{s} - \\alpha - \\beta c \\delta_{s} + \\beta c + \\beta \\delta_{d} s - \\beta \\delta_{s} s\\right)^{2}}{8 \\beta \\left(2 \\delta_{d} - \\delta_{s} - 1\\right)}$"
      ],
      "text/plain": [
       "-(2*alpha*delta_d - alpha*delta_s - alpha - beta*c*delta_s + beta*c + beta*delta_d*s - beta*delta_s*s)**2/(8*beta*(2*delta_d - delta_s - 1))"
      ]
     },
     "metadata": {},
     "output_type": "display_data"
    },
    {
     "name": "stdout",
     "output_type": "stream",
     "text": [
      "\n",
      "profit_all\n"
     ]
    },
    {
     "data": {
      "text/latex": [
       "$\\displaystyle \\frac{\\sqrt{2} \\left(\\sqrt{2} + 4\\right) \\left(2 \\alpha \\delta_{d} - \\alpha \\delta_{s} - \\alpha - \\beta c \\delta_{s} + \\beta c + \\beta \\delta_{d} s - \\beta \\delta_{s} s\\right)^{2}}{16 \\beta \\left(2 \\delta_{d} - \\delta_{s} - 1\\right)}$"
      ],
      "text/plain": [
       "sqrt(2)*(sqrt(2) + 4)*(2*alpha*delta_d - alpha*delta_s - alpha - beta*c*delta_s + beta*c + beta*delta_d*s - beta*delta_s*s)**2/(16*beta*(2*delta_d - delta_s - 1))"
      ]
     },
     "metadata": {},
     "output_type": "display_data"
    },
    {
     "name": "stdout",
     "output_type": "stream",
     "text": [
      "\n",
      "h1_all_p\n",
      "\n",
      "\n",
      "h1_r_p\n"
     ]
    },
    {
     "data": {
      "text/latex": [
       "$\\displaystyle - 2 \\sqrt{2} \\beta \\left(\\sqrt{2} + 2\\right) \\left(2 \\delta_{d} - \\delta_{s} - 1\\right)$"
      ],
      "text/plain": [
       "-2*sqrt(2)*beta*(sqrt(2) + 2)*(2*delta_d - delta_s - 1)"
      ]
     },
     "metadata": {},
     "output_type": "display_data"
    },
    {
     "name": "stdout",
     "output_type": "stream",
     "text": [
      "\n",
      "h1_s_w\n"
     ]
    },
    {
     "data": {
      "text/latex": [
       "$\\displaystyle - \\frac{\\sqrt{2} \\beta \\left(\\sqrt{2} + 4\\right) \\left(\\delta_{s} - 1\\right)^{2}}{8 \\left(\\sqrt{2} + 2\\right)^{2} \\left(2 \\delta_{d} - \\delta_{s} - 1\\right)}$"
      ],
      "text/plain": [
       "-sqrt(2)*beta*(sqrt(2) + 4)*(delta_s - 1)**2/(8*(sqrt(2) + 2)**2*(2*delta_d - delta_s - 1))"
      ]
     },
     "metadata": {},
     "output_type": "display_data"
    },
    {
     "name": "stdout",
     "output_type": "stream",
     "text": [
      "\n",
      "h1_s_e\n"
     ]
    },
    {
     "data": {
      "text/latex": [
       "$\\displaystyle \\frac{\\beta \\left(\\delta_{s} - 1\\right)^{2} \\left(2 \\alpha \\delta_{d} - \\alpha \\delta_{s} - \\alpha - \\beta c \\delta_{s} + \\beta c + \\beta \\delta_{d} s - \\beta \\delta_{s} s\\right)^{2}}{8 \\left(\\sqrt{2} + 2\\right)^{2} \\left(2 \\delta_{d} - \\delta_{s} - 1\\right)^{3}}$"
      ],
      "text/plain": [
       "beta*(delta_s - 1)**2*(2*alpha*delta_d - alpha*delta_s - alpha - beta*c*delta_s + beta*c + beta*delta_d*s - beta*delta_s*s)**2/(8*(sqrt(2) + 2)**2*(2*delta_d - delta_s - 1)**3)"
      ]
     },
     "metadata": {},
     "output_type": "display_data"
    },
    {
     "name": "stdout",
     "output_type": "stream",
     "text": [
      "\n",
      "h2_s\n"
     ]
    },
    {
     "data": {
      "text/latex": [
       "$\\displaystyle - \\frac{\\beta^{2} \\left(\\delta_{s} - 1\\right)^{4} \\left(2 \\alpha \\delta_{d} - \\alpha \\delta_{s} - \\alpha - \\beta c \\delta_{s} + \\beta c + \\beta \\delta_{d} s - \\beta \\delta_{s} s\\right)^{2}}{64 \\left(\\sqrt{2} + 2\\right)^{2} \\left(2 \\delta_{d} - \\delta_{s} - 1\\right)^{4}}$"
      ],
      "text/plain": [
       "-beta**2*(delta_s - 1)**4*(2*alpha*delta_d - alpha*delta_s - alpha - beta*c*delta_s + beta*c + beta*delta_d*s - beta*delta_s*s)**2/(64*(sqrt(2) + 2)**2*(2*delta_d - delta_s - 1)**4)"
      ]
     },
     "metadata": {},
     "output_type": "display_data"
    },
    {
     "name": "stdout",
     "output_type": "stream",
     "text": [
      "\n"
     ]
    }
   ],
   "source": [
    "display_solve(df_1,w_sol[0][0])"
   ]
  },
  {
   "cell_type": "code",
   "execution_count": null,
   "metadata": {
    "scrolled": true
   },
   "outputs": [
    {
     "name": "stdout",
     "output_type": "stream",
     "text": [
      "w\n"
     ]
    },
    {
     "data": {
      "text/latex": [
       "$\\displaystyle \\frac{\\sqrt{2} \\left(\\delta_{s} - 1\\right)^{2} \\left(- 2 \\alpha \\delta_{d} + \\alpha \\delta_{s} + \\alpha + \\beta c \\delta_{s} - \\beta c - \\beta \\delta_{d} s + \\beta \\delta_{s} s\\right) + \\left(\\delta_{s}^{2} - 2 \\delta_{s} + 1\\right) \\left(- 2 \\alpha \\delta_{d} + \\alpha \\delta_{s} + \\alpha + 2 \\beta c \\delta_{s} - 2 \\beta c - \\beta \\delta_{d} s + \\beta \\delta_{s} s\\right)}{\\beta \\left(\\delta_{s} - 1\\right) \\left(\\delta_{s}^{2} - 2 \\delta_{s} + 1\\right)}$"
      ],
      "text/plain": [
       "(sqrt(2)*(delta_s - 1)**2*(-2*alpha*delta_d + alpha*delta_s + alpha + beta*c*delta_s - beta*c - beta*delta_d*s + beta*delta_s*s) + (delta_s**2 - 2*delta_s + 1)*(-2*alpha*delta_d + alpha*delta_s + alpha + 2*beta*c*delta_s - 2*beta*c - beta*delta_d*s + beta*delta_s*s))/(beta*(delta_s - 1)*(delta_s**2 - 2*delta_s + 1))"
      ]
     },
     "metadata": {},
     "output_type": "display_data"
    },
    {
     "name": "stdout",
     "output_type": "stream",
     "text": [
      "\n",
      "epsilon\n"
     ]
    },
    {
     "data": {
      "text/latex": [
       "$\\displaystyle \\frac{4 \\sqrt{2} \\delta_{d} + 6 \\delta_{d} - 3 \\delta_{s} - 2 \\sqrt{2} \\delta_{s} - 3 - 2 \\sqrt{2}}{\\beta \\left(\\delta_{s} - 1\\right)}$"
      ],
      "text/plain": [
       "(4*sqrt(2)*delta_d + 6*delta_d - 3*delta_s - 2*sqrt(2)*delta_s - 3 - 2*sqrt(2))/(beta*(delta_s - 1))"
      ]
     },
     "metadata": {},
     "output_type": "display_data"
    },
    {
     "name": "stdout",
     "output_type": "stream",
     "text": [
      "\n",
      "T\n"
     ]
    },
    {
     "data": {
      "text/latex": [
       "$\\displaystyle \\frac{- 2 \\sqrt{2} \\alpha \\delta_{d} + \\sqrt{2} \\alpha \\delta_{s} + \\sqrt{2} \\alpha + \\sqrt{2} \\beta c \\delta_{s} + 4 \\beta c \\delta_{s} - 4 \\beta c - \\sqrt{2} \\beta c - \\sqrt{2} \\beta \\delta_{d} s + \\sqrt{2} \\beta \\delta_{s} s}{4 \\beta \\left(\\delta_{s} - 1\\right)}$"
      ],
      "text/plain": [
       "(-2*sqrt(2)*alpha*delta_d + sqrt(2)*alpha*delta_s + sqrt(2)*alpha + sqrt(2)*beta*c*delta_s + 4*beta*c*delta_s - 4*beta*c - sqrt(2)*beta*c - sqrt(2)*beta*delta_d*s + sqrt(2)*beta*delta_s*s)/(4*beta*(delta_s - 1))"
      ]
     },
     "metadata": {},
     "output_type": "display_data"
    },
    {
     "name": "stdout",
     "output_type": "stream",
     "text": [
      "\n",
      "p\n"
     ]
    },
    {
     "data": {
      "text/latex": [
       "$\\displaystyle \\frac{2 \\sqrt{2} \\alpha \\delta_{d} + 8 \\alpha \\delta_{d} - 4 \\alpha \\delta_{s} - \\sqrt{2} \\alpha \\delta_{s} - 4 \\alpha - \\sqrt{2} \\alpha - \\sqrt{2} \\beta c \\delta_{s} + \\sqrt{2} \\beta c + \\sqrt{2} \\beta \\delta_{d} s - \\sqrt{2} \\beta \\delta_{s} s}{4 \\beta \\left(2 \\delta_{d} - \\delta_{s} - 1\\right)}$"
      ],
      "text/plain": [
       "(2*sqrt(2)*alpha*delta_d + 8*alpha*delta_d - 4*alpha*delta_s - sqrt(2)*alpha*delta_s - 4*alpha - sqrt(2)*alpha - sqrt(2)*beta*c*delta_s + sqrt(2)*beta*c + sqrt(2)*beta*delta_d*s - sqrt(2)*beta*delta_s*s)/(4*beta*(2*delta_d - delta_s - 1))"
      ]
     },
     "metadata": {},
     "output_type": "display_data"
    },
    {
     "name": "stdout",
     "output_type": "stream",
     "text": [
      "\n",
      "p_w\n"
     ]
    },
    {
     "data": {
      "text/latex": [
       "$\\displaystyle \\frac{\\alpha \\beta \\delta_{s} \\epsilon - \\alpha \\beta \\epsilon + \\sqrt{2} \\alpha \\delta_{d} - \\frac{\\sqrt{2} \\alpha \\delta_{s}}{2} - \\frac{\\sqrt{2} \\alpha}{2} - \\beta c \\delta_{s} - \\frac{\\sqrt{2} \\beta c \\delta_{s}}{2} + \\frac{\\sqrt{2} \\beta c}{2} + \\beta c + \\frac{\\sqrt{2} \\beta \\delta_{d} s}{2} + \\beta \\delta_{d} s - \\beta \\delta_{s} s - \\frac{\\sqrt{2} \\beta \\delta_{s} s}{2}}{\\beta \\left(\\beta \\delta_{s} \\epsilon - \\beta \\epsilon - 2 \\delta_{d} + \\delta_{s} + 1\\right)}$"
      ],
      "text/plain": [
       "(alpha*beta*delta_s*epsilon - alpha*beta*epsilon + sqrt(2)*alpha*delta_d - sqrt(2)*alpha*delta_s/2 - sqrt(2)*alpha/2 - beta*c*delta_s - sqrt(2)*beta*c*delta_s/2 + sqrt(2)*beta*c/2 + beta*c + sqrt(2)*beta*delta_d*s/2 + beta*delta_d*s - beta*delta_s*s - sqrt(2)*beta*delta_s*s/2)/(beta*(beta*delta_s*epsilon - beta*epsilon - 2*delta_d + delta_s + 1))"
      ]
     },
     "metadata": {},
     "output_type": "display_data"
    },
    {
     "name": "stdout",
     "output_type": "stream",
     "text": [
      "\n",
      "q\n"
     ]
    },
    {
     "data": {
      "text/latex": [
       "$\\displaystyle \\frac{\\sqrt{2} \\left(- 2 \\alpha \\delta_{d} + \\alpha \\delta_{s} + \\alpha + \\beta c \\delta_{s} - \\beta c - \\beta \\delta_{d} s + \\beta \\delta_{s} s\\right)}{4 \\left(2 \\delta_{d} - \\delta_{s} - 1\\right)}$"
      ],
      "text/plain": [
       "sqrt(2)*(-2*alpha*delta_d + alpha*delta_s + alpha + beta*c*delta_s - beta*c - beta*delta_d*s + beta*delta_s*s)/(4*(2*delta_d - delta_s - 1))"
      ]
     },
     "metadata": {},
     "output_type": "display_data"
    },
    {
     "name": "stdout",
     "output_type": "stream",
     "text": [
      "\n",
      "profit_r\n"
     ]
    },
    {
     "data": {
      "text/latex": [
       "$\\displaystyle \\frac{\\left(- \\delta_{s} \\left(- \\sqrt{2} \\left(\\delta_{s} - 1\\right)^{2} \\left(- 2 \\alpha \\delta_{d} + \\alpha \\delta_{s} + \\alpha + \\beta c \\delta_{s} - \\beta c - \\beta \\delta_{d} s + \\beta \\delta_{s} s\\right) + \\left(\\delta_{s}^{2} - 2 \\delta_{s} + 1\\right) \\left(2 \\alpha \\delta_{d} - \\alpha \\delta_{s} - \\alpha - 2 \\beta c \\delta_{s} + 2 \\beta c + \\beta \\delta_{d} s - \\beta \\delta_{s} s\\right)\\right) - \\sqrt{2} \\left(\\delta_{s} - 1\\right)^{2} \\left(- 2 \\alpha \\delta_{d} + \\alpha \\delta_{s} + \\alpha + \\beta c \\delta_{s} - \\beta c - \\beta \\delta_{d} s + \\beta \\delta_{s} s\\right) + \\left(\\delta_{s} - 1\\right) \\left(\\delta_{s}^{2} - 2 \\delta_{s} + 1\\right) \\left(- 2 \\alpha \\delta_{d} + \\alpha \\delta_{s} + \\alpha - \\beta \\delta_{d} s + \\beta \\delta_{s} s\\right) + \\left(\\delta_{s}^{2} - 2 \\delta_{s} + 1\\right) \\left(2 \\alpha \\delta_{d} - \\alpha \\delta_{s} - \\alpha - 2 \\beta c \\delta_{s} + 2 \\beta c + \\beta \\delta_{d} s - \\beta \\delta_{s} s\\right)\\right) \\left(\\delta_{s} \\left(- \\sqrt{2} \\left(\\delta_{s} - 1\\right)^{2} \\left(- 2 \\alpha \\delta_{d} + \\alpha \\delta_{s} + \\alpha + \\beta c \\delta_{s} - \\beta c - \\beta \\delta_{d} s + \\beta \\delta_{s} s\\right) + \\left(\\delta_{s}^{2} - 2 \\delta_{s} + 1\\right) \\left(2 \\alpha \\delta_{d} - \\alpha \\delta_{s} - \\alpha - 2 \\beta c \\delta_{s} + 2 \\beta c + \\beta \\delta_{d} s - \\beta \\delta_{s} s\\right)\\right) + \\sqrt{2} \\left(\\delta_{s} - 1\\right)^{2} \\left(- 2 \\alpha \\delta_{d} + \\alpha \\delta_{s} + \\alpha + \\beta c \\delta_{s} - \\beta c - \\beta \\delta_{d} s + \\beta \\delta_{s} s\\right) + \\left(\\delta_{s} - 1\\right) \\left(\\delta_{s}^{2} - 2 \\delta_{s} + 1\\right) \\left(- 2 \\alpha \\delta_{d} + \\alpha \\delta_{s} + \\alpha + 2 \\beta c \\delta_{s} - 2 \\beta c - \\beta \\delta_{d} s + \\beta \\delta_{s} s\\right) - \\left(\\delta_{s}^{2} - 2 \\delta_{s} + 1\\right) \\left(2 \\alpha \\delta_{d} - \\alpha \\delta_{s} - \\alpha - 2 \\beta c \\delta_{s} + 2 \\beta c + \\beta \\delta_{d} s - \\beta \\delta_{s} s\\right)\\right)}{8 \\beta \\left(\\delta_{s} - 1\\right)^{2} \\left(- 2 \\delta_{d} + \\delta_{s} + 1\\right) \\left(\\delta_{s}^{2} - 2 \\delta_{s} + 1\\right)^{2}}$"
      ],
      "text/plain": [
       "(-delta_s*(-sqrt(2)*(delta_s - 1)**2*(-2*alpha*delta_d + alpha*delta_s + alpha + beta*c*delta_s - beta*c - beta*delta_d*s + beta*delta_s*s) + (delta_s**2 - 2*delta_s + 1)*(2*alpha*delta_d - alpha*delta_s - alpha - 2*beta*c*delta_s + 2*beta*c + beta*delta_d*s - beta*delta_s*s)) - sqrt(2)*(delta_s - 1)**2*(-2*alpha*delta_d + alpha*delta_s + alpha + beta*c*delta_s - beta*c - beta*delta_d*s + beta*delta_s*s) + (delta_s - 1)*(delta_s**2 - 2*delta_s + 1)*(-2*alpha*delta_d + alpha*delta_s + alpha - beta*delta_d*s + beta*delta_s*s) + (delta_s**2 - 2*delta_s + 1)*(2*alpha*delta_d - alpha*delta_s - alpha - 2*beta*c*delta_s + 2*beta*c + beta*delta_d*s - beta*delta_s*s))*(delta_s*(-sqrt(2)*(delta_s - 1)**2*(-2*alpha*delta_d + alpha*delta_s + alpha + beta*c*delta_s - beta*c - beta*delta_d*s + beta*delta_s*s) + (delta_s**2 - 2*delta_s + 1)*(2*alpha*delta_d - alpha*delta_s - alpha - 2*beta*c*delta_s + 2*beta*c + beta*delta_d*s - beta*delta_s*s)) + sqrt(2)*(delta_s - 1)**2*(-2*alpha*delta_d + alpha*delta_s + alpha + beta*c*delta_s - beta*c - beta*delta_d*s + beta*delta_s*s) + (delta_s - 1)*(delta_s**2 - 2*delta_s + 1)*(-2*alpha*delta_d + alpha*delta_s + alpha + 2*beta*c*delta_s - 2*beta*c - beta*delta_d*s + beta*delta_s*s) - (delta_s**2 - 2*delta_s + 1)*(2*alpha*delta_d - alpha*delta_s - alpha - 2*beta*c*delta_s + 2*beta*c + beta*delta_d*s - beta*delta_s*s))/(8*beta*(delta_s - 1)**2*(-2*delta_d + delta_s + 1)*(delta_s**2 - 2*delta_s + 1)**2)"
      ]
     },
     "metadata": {},
     "output_type": "display_data"
    },
    {
     "name": "stdout",
     "output_type": "stream",
     "text": [
      "\n",
      "profit_s\n"
     ]
    },
    {
     "data": {
      "text/latex": [
       "$\\displaystyle \\frac{\\left(\\delta_{s} \\left(- \\sqrt{2} \\left(\\delta_{s} - 1\\right)^{2} \\left(- 2 \\alpha \\delta_{d} + \\alpha \\delta_{s} + \\alpha + \\beta c \\delta_{s} - \\beta c - \\beta \\delta_{d} s + \\beta \\delta_{s} s\\right) + \\left(\\delta_{s}^{2} - 2 \\delta_{s} + 1\\right) \\left(2 \\alpha \\delta_{d} - \\alpha \\delta_{s} - \\alpha - 2 \\beta c \\delta_{s} + 2 \\beta c + \\beta \\delta_{d} s - \\beta \\delta_{s} s\\right)\\right) + \\sqrt{2} \\left(\\delta_{s} - 1\\right)^{2} \\left(- 2 \\alpha \\delta_{d} + \\alpha \\delta_{s} + \\alpha + \\beta c \\delta_{s} - \\beta c - \\beta \\delta_{d} s + \\beta \\delta_{s} s\\right) + \\left(\\delta_{s} - 1\\right) \\left(\\delta_{s}^{2} - 2 \\delta_{s} + 1\\right) \\left(- 2 \\alpha \\delta_{d} + \\alpha \\delta_{s} + \\alpha + 2 \\beta c \\delta_{s} - 2 \\beta c - \\beta \\delta_{d} s + \\beta \\delta_{s} s\\right) - \\left(\\delta_{s}^{2} - 2 \\delta_{s} + 1\\right) \\left(2 \\alpha \\delta_{d} - \\alpha \\delta_{s} - \\alpha - 2 \\beta c \\delta_{s} + 2 \\beta c + \\beta \\delta_{d} s - \\beta \\delta_{s} s\\right)\\right)^{2}}{16 \\beta \\left(\\delta_{s} - 1\\right)^{2} \\left(- 2 \\delta_{d} + \\delta_{s} + 1\\right) \\left(\\delta_{s}^{2} - 2 \\delta_{s} + 1\\right)^{2}}$"
      ],
      "text/plain": [
       "(delta_s*(-sqrt(2)*(delta_s - 1)**2*(-2*alpha*delta_d + alpha*delta_s + alpha + beta*c*delta_s - beta*c - beta*delta_d*s + beta*delta_s*s) + (delta_s**2 - 2*delta_s + 1)*(2*alpha*delta_d - alpha*delta_s - alpha - 2*beta*c*delta_s + 2*beta*c + beta*delta_d*s - beta*delta_s*s)) + sqrt(2)*(delta_s - 1)**2*(-2*alpha*delta_d + alpha*delta_s + alpha + beta*c*delta_s - beta*c - beta*delta_d*s + beta*delta_s*s) + (delta_s - 1)*(delta_s**2 - 2*delta_s + 1)*(-2*alpha*delta_d + alpha*delta_s + alpha + 2*beta*c*delta_s - 2*beta*c - beta*delta_d*s + beta*delta_s*s) - (delta_s**2 - 2*delta_s + 1)*(2*alpha*delta_d - alpha*delta_s - alpha - 2*beta*c*delta_s + 2*beta*c + beta*delta_d*s - beta*delta_s*s))**2/(16*beta*(delta_s - 1)**2*(-2*delta_d + delta_s + 1)*(delta_s**2 - 2*delta_s + 1)**2)"
      ]
     },
     "metadata": {},
     "output_type": "display_data"
    },
    {
     "name": "stdout",
     "output_type": "stream",
     "text": [
      "\n",
      "profit_all\n"
     ]
    },
    {
     "data": {
      "text/latex": [
       "$\\displaystyle \\frac{\\left(- \\delta_{s} \\left(\\sqrt{2} \\left(\\delta_{s} - 1\\right)^{2} \\left(- 2 \\alpha \\delta_{d} + \\alpha \\delta_{s} + \\alpha + \\beta c \\delta_{s} - \\beta c - \\beta \\delta_{d} s + \\beta \\delta_{s} s\\right) + \\left(\\delta_{s}^{2} - 2 \\delta_{s} + 1\\right) \\left(- 2 \\alpha \\delta_{d} + \\alpha \\delta_{s} + \\alpha + 2 \\beta c \\delta_{s} - 2 \\beta c - \\beta \\delta_{d} s + \\beta \\delta_{s} s\\right)\\right) + \\sqrt{2} \\left(\\delta_{s} - 1\\right)^{2} \\left(- 2 \\alpha \\delta_{d} + \\alpha \\delta_{s} + \\alpha + \\beta c \\delta_{s} - \\beta c - \\beta \\delta_{d} s + \\beta \\delta_{s} s\\right) + \\left(\\delta_{s} - 1\\right) \\left(\\delta_{s}^{2} - 2 \\delta_{s} + 1\\right) \\left(- 2 \\alpha \\delta_{d} + \\alpha \\delta_{s} + \\alpha + 2 \\beta c \\delta_{s} - 2 \\beta c - \\beta \\delta_{d} s + \\beta \\delta_{s} s\\right) + \\left(\\delta_{s}^{2} - 2 \\delta_{s} + 1\\right) \\left(- 2 \\alpha \\delta_{d} + \\alpha \\delta_{s} + \\alpha + 2 \\beta c \\delta_{s} - 2 \\beta c - \\beta \\delta_{d} s + \\beta \\delta_{s} s\\right)\\right) \\left(\\delta_{s} \\left(\\sqrt{2} \\left(\\delta_{s} - 1\\right)^{2} \\left(- 2 \\alpha \\delta_{d} + \\alpha \\delta_{s} + \\alpha + \\beta c \\delta_{s} - \\beta c - \\beta \\delta_{d} s + \\beta \\delta_{s} s\\right) + \\left(\\delta_{s}^{2} - 2 \\delta_{s} + 1\\right) \\left(- 2 \\alpha \\delta_{d} + \\alpha \\delta_{s} + \\alpha + 2 \\beta c \\delta_{s} - 2 \\beta c - \\beta \\delta_{d} s + \\beta \\delta_{s} s\\right)\\right) - \\sqrt{2} \\left(\\delta_{s} - 1\\right)^{2} \\left(- 2 \\alpha \\delta_{d} + \\alpha \\delta_{s} + \\alpha + \\beta c \\delta_{s} - \\beta c - \\beta \\delta_{d} s + \\beta \\delta_{s} s\\right) + 2 \\left(\\delta_{s} - 1\\right) \\left(\\delta_{s}^{2} - 2 \\delta_{s} + 1\\right) \\left(- 2 \\alpha \\delta_{d} + \\alpha \\delta_{s} + \\alpha - \\beta \\delta_{d} s + \\beta \\delta_{s} s\\right) + \\left(\\delta_{s} - 1\\right) \\left(\\delta_{s}^{2} - 2 \\delta_{s} + 1\\right) \\left(- 2 \\alpha \\delta_{d} + \\alpha \\delta_{s} + \\alpha + 2 \\beta c \\delta_{s} - 2 \\beta c - \\beta \\delta_{d} s + \\beta \\delta_{s} s\\right) - \\left(\\delta_{s}^{2} - 2 \\delta_{s} + 1\\right) \\left(- 2 \\alpha \\delta_{d} + \\alpha \\delta_{s} + \\alpha + 2 \\beta c \\delta_{s} - 2 \\beta c - \\beta \\delta_{d} s + \\beta \\delta_{s} s\\right)\\right)}{16 \\beta \\left(\\delta_{s} - 1\\right)^{2} \\left(- 2 \\delta_{d} + \\delta_{s} + 1\\right) \\left(\\delta_{s}^{2} - 2 \\delta_{s} + 1\\right)^{2}}$"
      ],
      "text/plain": [
       "(-delta_s*(sqrt(2)*(delta_s - 1)**2*(-2*alpha*delta_d + alpha*delta_s + alpha + beta*c*delta_s - beta*c - beta*delta_d*s + beta*delta_s*s) + (delta_s**2 - 2*delta_s + 1)*(-2*alpha*delta_d + alpha*delta_s + alpha + 2*beta*c*delta_s - 2*beta*c - beta*delta_d*s + beta*delta_s*s)) + sqrt(2)*(delta_s - 1)**2*(-2*alpha*delta_d + alpha*delta_s + alpha + beta*c*delta_s - beta*c - beta*delta_d*s + beta*delta_s*s) + (delta_s - 1)*(delta_s**2 - 2*delta_s + 1)*(-2*alpha*delta_d + alpha*delta_s + alpha + 2*beta*c*delta_s - 2*beta*c - beta*delta_d*s + beta*delta_s*s) + (delta_s**2 - 2*delta_s + 1)*(-2*alpha*delta_d + alpha*delta_s + alpha + 2*beta*c*delta_s - 2*beta*c - beta*delta_d*s + beta*delta_s*s))*(delta_s*(sqrt(2)*(delta_s - 1)**2*(-2*alpha*delta_d + alpha*delta_s + alpha + beta*c*delta_s - beta*c - beta*delta_d*s + beta*delta_s*s) + (delta_s**2 - 2*delta_s + 1)*(-2*alpha*delta_d + alpha*delta_s + alpha + 2*beta*c*delta_s - 2*beta*c - beta*delta_d*s + beta*delta_s*s)) - sqrt(2)*(delta_s - 1)**2*(-2*alpha*delta_d + alpha*delta_s + alpha + beta*c*delta_s - beta*c - beta*delta_d*s + beta*delta_s*s) + 2*(delta_s - 1)*(delta_s**2 - 2*delta_s + 1)*(-2*alpha*delta_d + alpha*delta_s + alpha - beta*delta_d*s + beta*delta_s*s) + (delta_s - 1)*(delta_s**2 - 2*delta_s + 1)*(-2*alpha*delta_d + alpha*delta_s + alpha + 2*beta*c*delta_s - 2*beta*c - beta*delta_d*s + beta*delta_s*s) - (delta_s**2 - 2*delta_s + 1)*(-2*alpha*delta_d + alpha*delta_s + alpha + 2*beta*c*delta_s - 2*beta*c - beta*delta_d*s + beta*delta_s*s))/(16*beta*(delta_s - 1)**2*(-2*delta_d + delta_s + 1)*(delta_s**2 - 2*delta_s + 1)**2)"
      ]
     },
     "metadata": {},
     "output_type": "display_data"
    },
    {
     "name": "stdout",
     "output_type": "stream",
     "text": [
      "\n",
      "h1_all_p\n",
      "\n",
      "\n",
      "h1_r_p\n"
     ]
    },
    {
     "data": {
      "text/latex": [
       "$\\displaystyle 4 \\beta \\left(- 2 \\sqrt{2} \\delta_{d} - 2 \\delta_{d} + \\delta_{s} + \\sqrt{2} \\delta_{s} + 1 + \\sqrt{2}\\right)$"
      ],
      "text/plain": [
       "4*beta*(-2*sqrt(2)*delta_d - 2*delta_d + delta_s + sqrt(2)*delta_s + 1 + sqrt(2))"
      ]
     },
     "metadata": {},
     "output_type": "display_data"
    },
    {
     "name": "stdout",
     "output_type": "stream",
     "text": [
      "\n",
      "h1_s_w\n"
     ]
    },
    {
     "data": {
      "text/latex": [
       "$\\displaystyle \\frac{\\beta \\left(- 2 \\sqrt{2} \\delta_{s}^{2} - \\delta_{s}^{2} + 2 \\delta_{s} + 4 \\sqrt{2} \\delta_{s} - 2 \\sqrt{2} - 1\\right)}{8 \\left(4 \\sqrt{2} \\delta_{d} + 6 \\delta_{d} - 3 \\delta_{s} - 2 \\sqrt{2} \\delta_{s} - 3 - 2 \\sqrt{2}\\right)}$"
      ],
      "text/plain": [
       "beta*(-2*sqrt(2)*delta_s**2 - delta_s**2 + 2*delta_s + 4*sqrt(2)*delta_s - 2*sqrt(2) - 1)/(8*(4*sqrt(2)*delta_d + 6*delta_d - 3*delta_s - 2*sqrt(2)*delta_s - 3 - 2*sqrt(2)))"
      ]
     },
     "metadata": {},
     "output_type": "display_data"
    },
    {
     "name": "stdout",
     "output_type": "stream",
     "text": [
      "\n",
      "h1_s_e\n",
      "\n",
      "\n",
      "h2_s\n"
     ]
    }
   ],
   "source": [
    "display_solve2(df_1,w_sol[0][0])"
   ]
  },
  {
   "cell_type": "code",
   "execution_count": 46,
   "metadata": {},
   "outputs": [
    {
     "data": {
      "text/latex": [
       "$\\displaystyle - \\frac{2 \\sqrt{\\left(\\delta_{s} - 1\\right)^{3} \\left(2 \\delta_{d} - \\delta_{s} - 1\\right)} \\left(- \\alpha \\delta_{s} + \\alpha + \\beta c \\delta_{s} - \\beta c + \\beta \\delta_{d} s - \\beta \\delta_{s} s\\right)}{\\beta \\left(\\delta_{s}^{3} - 3 \\delta_{s}^{2} + 3 \\delta_{s} - 1\\right)} - \\frac{2 \\alpha \\delta_{d} - \\alpha \\delta_{s} - \\alpha - 2 \\beta c \\delta_{s} + 2 \\beta c + \\beta \\delta_{d} s - \\beta \\delta_{s} s}{\\beta \\left(\\delta_{s} - 1\\right)}$"
      ],
      "text/plain": [
       "-2*sqrt((delta_s - 1)**3*(2*delta_d - delta_s - 1))*(-alpha*delta_s + alpha + beta*c*delta_s - beta*c + beta*delta_d*s - beta*delta_s*s)/(beta*(delta_s**3 - 3*delta_s**2 + 3*delta_s - 1)) - (2*alpha*delta_d - alpha*delta_s - alpha - 2*beta*c*delta_s + 2*beta*c + beta*delta_d*s - beta*delta_s*s)/(beta*(delta_s - 1))"
      ]
     },
     "execution_count": 46,
     "metadata": {},
     "output_type": "execute_result"
    }
   ],
   "source": [
    "w_sol = sol_w_other(df_1,[df_1[\"QD\"][\"profit_s\"]-df_1[\"FB\"][\"profit_all\"]])\n",
    "w_sol[0][0]"
   ]
  },
  {
   "cell_type": "code",
   "execution_count": null,
   "metadata": {},
   "outputs": [],
   "source": []
  }
 ],
 "metadata": {
  "kernelspec": {
   "display_name": "Python 3",
   "language": "python",
   "name": "python3"
  },
  "language_info": {
   "codemirror_mode": {
    "name": "ipython",
    "version": 3
   },
   "file_extension": ".py",
   "mimetype": "text/x-python",
   "name": "python",
   "nbconvert_exporter": "python",
   "pygments_lexer": "ipython3",
   "version": "3.7.6"
  }
 },
 "nbformat": 4,
 "nbformat_minor": 4
}
