{
 "cells": [
  {
   "cell_type": "code",
   "execution_count": 133,
   "metadata": {},
   "outputs": [],
   "source": [
    "import pandas as pd\n",
    "import numpy as np\n",
    "import sympy\n",
    "from sympy.solvers.inequalities import reduce_rational_inequalities,reduce_inequalities\n",
    "from itertools import chain\n",
    "from collections import defaultdict\n",
    "from IPython.display import display\n",
    "\n",
    "from sympy.parsing.sympy_parser import parse_expr\n",
    "from sympy.parsing.sympy_parser import standard_transformations\n",
    "from sympy.printing.mathml import print_mathml\n",
    "\n",
    "from IPython.display import display, Markdown, Latex\n",
    "import os\n",
    "\n",
    "import seaborn as sns\n",
    "import matplotlib.pyplot as plt"
   ]
  },
  {
   "cell_type": "code",
   "execution_count": 2,
   "metadata": {},
   "outputs": [],
   "source": [
    "def make_symbols_positive(sym):\n",
    "    return sympy.symbols(\"{}\".format(sym),positive =True)\n",
    "\n",
    "def make_symbols_function(sym):\n",
    "    return sympy.symbols(\"{}\".format(sym),cl)\n",
    "\n",
    "def subs_function(target,list_):\n",
    "    return sympy.simplify(target.subs(list_))"
   ]
  },
  {
   "cell_type": "markdown",
   "metadata": {},
   "source": [
    "# Data_loading"
   ]
  },
  {
   "cell_type": "code",
   "execution_count": 3,
   "metadata": {},
   "outputs": [],
   "source": [
    "file_list = os.listdir(r\"C:\\Users\\Samsung\\Desktop\\Writing\\Graduation\\Solve\\version_1\")\n",
    "file_list_xlsx = [f for f in file_list if f.endswith(\".xlsx\")]\n",
    "#file_FB = [f for f in file_list_xlsx if f.contains(\"FB\")]\n",
    "#file_WH = [f for f in file_list_xlsx if f.contains(\"WH\")]\n",
    "#file_QD = [f for f in file_list_xlsx if f.contains(\"QD\")]"
   ]
  },
  {
   "cell_type": "code",
   "execution_count": 4,
   "metadata": {},
   "outputs": [
    {
     "data": {
      "text/plain": [
       "['BDD_FB',\n",
       " 'BDD_QD',\n",
       " 'BDD_WH',\n",
       " 'BDS_FB',\n",
       " 'BDS_QD',\n",
       " 'BDS_WH',\n",
       " 'DD_FB',\n",
       " 'DD_QD',\n",
       " 'DD_WH',\n",
       " 'First_FB',\n",
       " 'First_QD',\n",
       " 'First_WH',\n",
       " 'SD_FB',\n",
       " 'SD_QD',\n",
       " 'SD_WH']"
      ]
     },
     "execution_count": 4,
     "metadata": {},
     "output_type": "execute_result"
    }
   ],
   "source": [
    "file_name = [li.replace(\".xlsx\",\"\") for li in file_list_xlsx]\n",
    "file_name"
   ]
  },
  {
   "cell_type": "code",
   "execution_count": 5,
   "metadata": {},
   "outputs": [],
   "source": [
    "for fn in file_name:\n",
    "    path_ = r\"C:\\Users\\Samsung\\Desktop\\Writing\\Graduation\\Solve\\version_1\\{}.xlsx\"\n",
    "    globals() [\"{}\".format(fn)] = pd.read_excel(path_.format(fn),index_col=0,header=None)\n",
    "    try:\n",
    "        globals() [\"{}\".format(fn)] = globals() [\"{}\".format(fn)].rename(index={\"profit_all\":\"pro_all\"})\n",
    "    except:\n",
    "        pass"
   ]
  },
  {
   "cell_type": "code",
   "execution_count": 6,
   "metadata": {},
   "outputs": [
    {
     "data": {
      "text/html": [
       "<div>\n",
       "<style scoped>\n",
       "    .dataframe tbody tr th:only-of-type {\n",
       "        vertical-align: middle;\n",
       "    }\n",
       "\n",
       "    .dataframe tbody tr th {\n",
       "        vertical-align: top;\n",
       "    }\n",
       "\n",
       "    .dataframe thead th {\n",
       "        text-align: right;\n",
       "    }\n",
       "</style>\n",
       "<table border=\"1\" class=\"dataframe\">\n",
       "  <thead>\n",
       "    <tr style=\"text-align: right;\">\n",
       "      <th></th>\n",
       "      <th>1</th>\n",
       "    </tr>\n",
       "    <tr>\n",
       "      <th>0</th>\n",
       "      <th></th>\n",
       "    </tr>\n",
       "  </thead>\n",
       "  <tbody>\n",
       "    <tr>\n",
       "      <th>w</th>\n",
       "      <td>w</td>\n",
       "    </tr>\n",
       "    <tr>\n",
       "      <th>theta</th>\n",
       "      <td>-(delta_d*(alpha*delta_d + 2*beta*c*delta_s + ...</td>\n",
       "    </tr>\n",
       "    <tr>\n",
       "      <th>p</th>\n",
       "      <td>(3*alpha*delta_d + 2*beta*c*delta_s - beta*del...</td>\n",
       "    </tr>\n",
       "    <tr>\n",
       "      <th>p_w_theta</th>\n",
       "      <td>(alpha*delta_d - lambda*(beta*delta_d - beta*d...</td>\n",
       "    </tr>\n",
       "    <tr>\n",
       "      <th>q</th>\n",
       "      <td>(alpha*delta_d - 2*beta*c*delta_s + beta*delta...</td>\n",
       "    </tr>\n",
       "  </tbody>\n",
       "</table>\n",
       "</div>"
      ],
      "text/plain": [
       "                                                           1\n",
       "0                                                           \n",
       "w                                                          w\n",
       "theta      -(delta_d*(alpha*delta_d + 2*beta*c*delta_s + ...\n",
       "p          (3*alpha*delta_d + 2*beta*c*delta_s - beta*del...\n",
       "p_w_theta  (alpha*delta_d - lambda*(beta*delta_d - beta*d...\n",
       "q          (alpha*delta_d - 2*beta*c*delta_s + beta*delta..."
      ]
     },
     "execution_count": 6,
     "metadata": {},
     "output_type": "execute_result"
    }
   ],
   "source": [
    "BDD_QD.head()"
   ]
  },
  {
   "cell_type": "markdown",
   "metadata": {},
   "source": [
    "## Str --> Latex 인식"
   ]
  },
  {
   "cell_type": "code",
   "execution_count": 7,
   "metadata": {},
   "outputs": [],
   "source": [
    "alpha, beta, p, c, w, theta, Delta, delta_s, delta_d, lambda_ = make_symbols_positive(\"alpha, beta, p, c, w, theta , Delta, delta_s, delta_d, lambda\")"
   ]
  },
  {
   "cell_type": "code",
   "execution_count": 8,
   "metadata": {},
   "outputs": [],
   "source": [
    "parse_dic = {\"alpha\":alpha, \"beta\":beta, \"p\":p, \"c\":c,\"w\":w, \"theta\":theta,\"Delta\": Delta, \"delta_s\":delta_s, \"delta_d\":delta_d,\"lambda_\": lambda_ }"
   ]
  },
  {
   "cell_type": "code",
   "execution_count": 9,
   "metadata": {},
   "outputs": [],
   "source": [
    "for fn in file_name:\n",
    "    globals() [\"{}\".format(fn)][1] = globals() [\"{}\".format(fn)][1].map(lambda x: parse_expr(x.replace(\"^\",\"**\").replace(\"lambda\",\"lambda_\"),parse_dic))"
   ]
  },
  {
   "cell_type": "code",
   "execution_count": 10,
   "metadata": {},
   "outputs": [
    {
     "data": {
      "text/latex": [
       "$\\displaystyle \\frac{\\left(\\alpha \\delta_{d} + \\beta \\delta_{d} \\lambda - \\beta \\delta_{s} \\lambda - \\beta \\delta_{s} w\\right) \\left(\\alpha \\delta_{d} - 2 \\beta c \\delta_{s} + \\beta \\delta_{d} \\lambda - \\beta \\delta_{s} \\lambda + \\beta \\delta_{s} w\\right)}{8 \\beta \\delta_{d}}$"
      ],
      "text/plain": [
       "(alpha*delta_d + beta*delta_d*lambda - beta*delta_s*lambda - beta*delta_s*w)*(alpha*delta_d - 2*beta*c*delta_s + beta*delta_d*lambda - beta*delta_s*lambda + beta*delta_s*w)/(8*beta*delta_d)"
      ]
     },
     "execution_count": 10,
     "metadata": {},
     "output_type": "execute_result"
    }
   ],
   "source": [
    "BDD_QD[1][\"pro_r\"]"
   ]
  },
  {
   "cell_type": "code",
   "execution_count": 11,
   "metadata": {},
   "outputs": [
    {
     "data": {
      "text/latex": [
       "$\\displaystyle \\frac{\\left(\\alpha \\delta_{d} - 2 \\beta c \\delta_{s} + \\beta \\delta_{d} \\lambda - \\beta \\delta_{s} \\lambda + \\beta \\delta_{s} w\\right)^{2}}{16 \\beta \\delta_{d}}$"
      ],
      "text/plain": [
       "(alpha*delta_d - 2*beta*c*delta_s + beta*delta_d*lambda - beta*delta_s*lambda + beta*delta_s*w)**2/(16*beta*delta_d)"
      ]
     },
     "execution_count": 11,
     "metadata": {},
     "output_type": "execute_result"
    }
   ],
   "source": [
    "BDD_QD[1][\"pro_s\"]"
   ]
  },
  {
   "cell_type": "code",
   "execution_count": null,
   "metadata": {},
   "outputs": [],
   "source": []
  },
  {
   "cell_type": "markdown",
   "metadata": {},
   "source": [
    "# Data combined by Case_"
   ]
  },
  {
   "cell_type": "code",
   "execution_count": 12,
   "metadata": {},
   "outputs": [
    {
     "data": {
      "text/plain": [
       "['BDD_FB',\n",
       " 'BDD_QD',\n",
       " 'BDD_WH',\n",
       " 'BDS_FB',\n",
       " 'BDS_QD',\n",
       " 'BDS_WH',\n",
       " 'DD_FB',\n",
       " 'DD_QD',\n",
       " 'DD_WH',\n",
       " 'First_FB',\n",
       " 'First_QD',\n",
       " 'First_WH',\n",
       " 'SD_FB',\n",
       " 'SD_QD',\n",
       " 'SD_WH']"
      ]
     },
     "execution_count": 12,
     "metadata": {},
     "output_type": "execute_result"
    }
   ],
   "source": [
    "file_name"
   ]
  },
  {
   "cell_type": "code",
   "execution_count": 13,
   "metadata": {},
   "outputs": [],
   "source": [
    "case_  = [\"First\",\"DD\",\"SD\",\"BDD\",\"BDS\"]"
   ]
  },
  {
   "cell_type": "code",
   "execution_count": 14,
   "metadata": {},
   "outputs": [],
   "source": [
    "for ca in case_:\n",
    "    FB_ = globals ()[\"{}_FB\".format(ca)].rename(columns={1:\"FB\"})\n",
    "    WH_ = globals ()[\"{}_WH\".format(ca)].rename(columns={1:\"WH\"})\n",
    "    QD_ = globals ()[\"{}_QD\".format(ca)].rename(columns={1:\"QD\"})\n",
    "    globals ()[\"{}_all\".format(ca)] = pd.concat([FB_,WH_,QD_],join=\"outer\",axis=1)"
   ]
  },
  {
   "cell_type": "code",
   "execution_count": 15,
   "metadata": {
    "scrolled": false
   },
   "outputs": [
    {
     "data": {
      "text/html": [
       "<div>\n",
       "<style scoped>\n",
       "    .dataframe tbody tr th:only-of-type {\n",
       "        vertical-align: middle;\n",
       "    }\n",
       "\n",
       "    .dataframe tbody tr th {\n",
       "        vertical-align: top;\n",
       "    }\n",
       "\n",
       "    .dataframe thead th {\n",
       "        text-align: right;\n",
       "    }\n",
       "</style>\n",
       "<table border=\"1\" class=\"dataframe\">\n",
       "  <thead>\n",
       "    <tr style=\"text-align: right;\">\n",
       "      <th></th>\n",
       "      <th>FB</th>\n",
       "      <th>WH</th>\n",
       "      <th>QD</th>\n",
       "    </tr>\n",
       "  </thead>\n",
       "  <tbody>\n",
       "    <tr>\n",
       "      <th>p</th>\n",
       "      <td>(alpha + beta*c)/(2*beta)</td>\n",
       "      <td>(3*alpha + beta*c)/(4*beta)</td>\n",
       "      <td>(3*alpha + 2*beta*c - beta*w)/(4*beta)</td>\n",
       "    </tr>\n",
       "    <tr>\n",
       "      <th>q</th>\n",
       "      <td>alpha/2 - beta*c/2</td>\n",
       "      <td>alpha/4 - beta*c/4</td>\n",
       "      <td>alpha/4 - beta*c/2 + beta*w/4</td>\n",
       "    </tr>\n",
       "    <tr>\n",
       "      <th>D</th>\n",
       "      <td>alpha/2 - beta*c/2</td>\n",
       "      <td>alpha/4 - beta*c/4</td>\n",
       "      <td>alpha/4 - beta*c/2 + beta*w/4</td>\n",
       "    </tr>\n",
       "    <tr>\n",
       "      <th>pro_all</th>\n",
       "      <td>(alpha - beta*c)**2/(4*beta)</td>\n",
       "      <td>3*(alpha - beta*c)**2/(16*beta)</td>\n",
       "      <td>(3*alpha**2 - 8*alpha*beta*c + 2*alpha*beta*w ...</td>\n",
       "    </tr>\n",
       "    <tr>\n",
       "      <th>h1</th>\n",
       "      <td>-2*beta</td>\n",
       "      <td>NaN</td>\n",
       "      <td>NaN</td>\n",
       "    </tr>\n",
       "  </tbody>\n",
       "</table>\n",
       "</div>"
      ],
      "text/plain": [
       "                                   FB                               WH  \\\n",
       "p           (alpha + beta*c)/(2*beta)      (3*alpha + beta*c)/(4*beta)   \n",
       "q                  alpha/2 - beta*c/2               alpha/4 - beta*c/4   \n",
       "D                  alpha/2 - beta*c/2               alpha/4 - beta*c/4   \n",
       "pro_all  (alpha - beta*c)**2/(4*beta)  3*(alpha - beta*c)**2/(16*beta)   \n",
       "h1                            -2*beta                              NaN   \n",
       "\n",
       "                                                        QD  \n",
       "p                   (3*alpha + 2*beta*c - beta*w)/(4*beta)  \n",
       "q                            alpha/4 - beta*c/2 + beta*w/4  \n",
       "D                            alpha/4 - beta*c/2 + beta*w/4  \n",
       "pro_all  (3*alpha**2 - 8*alpha*beta*c + 2*alpha*beta*w ...  \n",
       "h1                                                     NaN  "
      ]
     },
     "execution_count": 15,
     "metadata": {},
     "output_type": "execute_result"
    }
   ],
   "source": [
    "First_all.head()"
   ]
  },
  {
   "cell_type": "markdown",
   "metadata": {},
   "source": [
    "# data Concat"
   ]
  },
  {
   "cell_type": "code",
   "execution_count": 16,
   "metadata": {},
   "outputs": [],
   "source": [
    "# concat 함수\n",
    "def concat_all(target,case_):\n",
    "    all_ = pd.DataFrame()\n",
    "    for ca in case_:\n",
    "        try:\n",
    "            profit_all = pd.DataFrame(globals ()[\"{}_all\".format(ca)].loc[target]).rename(columns={target:ca})\n",
    "            all_ = pd.concat([all_,profit_all],axis=1)\n",
    "        except:\n",
    "            pass\n",
    "    return all_"
   ]
  },
  {
   "cell_type": "code",
   "execution_count": 17,
   "metadata": {},
   "outputs": [
    {
     "data": {
      "text/html": [
       "<div>\n",
       "<style scoped>\n",
       "    .dataframe tbody tr th:only-of-type {\n",
       "        vertical-align: middle;\n",
       "    }\n",
       "\n",
       "    .dataframe tbody tr th {\n",
       "        vertical-align: top;\n",
       "    }\n",
       "\n",
       "    .dataframe thead th {\n",
       "        text-align: right;\n",
       "    }\n",
       "</style>\n",
       "<table border=\"1\" class=\"dataframe\">\n",
       "  <thead>\n",
       "    <tr style=\"text-align: right;\">\n",
       "      <th></th>\n",
       "      <th>First</th>\n",
       "      <th>DD</th>\n",
       "      <th>SD</th>\n",
       "      <th>BDD</th>\n",
       "      <th>BDS</th>\n",
       "    </tr>\n",
       "  </thead>\n",
       "  <tbody>\n",
       "    <tr>\n",
       "      <th>FB</th>\n",
       "      <td>NaN</td>\n",
       "      <td>NaN</td>\n",
       "      <td>NaN</td>\n",
       "      <td>NaN</td>\n",
       "      <td>NaN</td>\n",
       "    </tr>\n",
       "    <tr>\n",
       "      <th>WH</th>\n",
       "      <td>(alpha - beta*c)**2/(8*beta)</td>\n",
       "      <td>(-alpha*delta_d + beta*c - beta*delta_d*lambda...</td>\n",
       "      <td>delta_s*(alpha - beta*c)**2/(8*beta)</td>\n",
       "      <td>(alpha*delta_d - beta*c*delta_s + beta*delta_d...</td>\n",
       "      <td>delta_s*(alpha - beta*c)**2/(8*beta)</td>\n",
       "    </tr>\n",
       "    <tr>\n",
       "      <th>QD</th>\n",
       "      <td>(alpha/4 - beta*c/2 + beta*w/4)*(alpha - 2*bet...</td>\n",
       "      <td>(alpha*delta_d - 2*beta*c + beta*delta_d*lambd...</td>\n",
       "      <td>delta_s*(alpha/4 - beta*c/2 + beta*w/4)*(alpha...</td>\n",
       "      <td>(alpha*delta_d - 2*beta*c*delta_s + beta*delta...</td>\n",
       "      <td>delta_s*(alpha/4 - beta*c/2 + beta*w/4)*(alpha...</td>\n",
       "    </tr>\n",
       "  </tbody>\n",
       "</table>\n",
       "</div>"
      ],
      "text/plain": [
       "                                                First  \\\n",
       "FB                                                NaN   \n",
       "WH                       (alpha - beta*c)**2/(8*beta)   \n",
       "QD  (alpha/4 - beta*c/2 + beta*w/4)*(alpha - 2*bet...   \n",
       "\n",
       "                                                   DD  \\\n",
       "FB                                                NaN   \n",
       "WH  (-alpha*delta_d + beta*c - beta*delta_d*lambda...   \n",
       "QD  (alpha*delta_d - 2*beta*c + beta*delta_d*lambd...   \n",
       "\n",
       "                                                   SD  \\\n",
       "FB                                                NaN   \n",
       "WH               delta_s*(alpha - beta*c)**2/(8*beta)   \n",
       "QD  delta_s*(alpha/4 - beta*c/2 + beta*w/4)*(alpha...   \n",
       "\n",
       "                                                  BDD  \\\n",
       "FB                                                NaN   \n",
       "WH  (alpha*delta_d - beta*c*delta_s + beta*delta_d...   \n",
       "QD  (alpha*delta_d - 2*beta*c*delta_s + beta*delta...   \n",
       "\n",
       "                                                  BDS  \n",
       "FB                                                NaN  \n",
       "WH               delta_s*(alpha - beta*c)**2/(8*beta)  \n",
       "QD  delta_s*(alpha/4 - beta*c/2 + beta*w/4)*(alpha...  "
      ]
     },
     "execution_count": 17,
     "metadata": {},
     "output_type": "execute_result"
    }
   ],
   "source": [
    "concat_all(\"pro_s\",case_)"
   ]
  },
  {
   "cell_type": "code",
   "execution_count": 18,
   "metadata": {},
   "outputs": [
    {
     "data": {
      "text/latex": [
       "$\\displaystyle c$"
      ],
      "text/plain": [
       "c"
      ]
     },
     "execution_count": 18,
     "metadata": {},
     "output_type": "execute_result"
    }
   ],
   "source": [
    "c"
   ]
  },
  {
   "cell_type": "code",
   "execution_count": null,
   "metadata": {},
   "outputs": [],
   "source": []
  },
  {
   "cell_type": "code",
   "execution_count": null,
   "metadata": {},
   "outputs": [],
   "source": []
  },
  {
   "cell_type": "markdown",
   "metadata": {},
   "source": [
    "# 1. Profit 크기 비교 "
   ]
  },
  {
   "cell_type": "markdown",
   "metadata": {},
   "source": [
    "## 1.1 profit_all "
   ]
  },
  {
   "cell_type": "code",
   "execution_count": 19,
   "metadata": {},
   "outputs": [
    {
     "data": {
      "text/plain": [
       "FB                         (alpha - beta*c)**2/(4*beta)\n",
       "WH                      3*(alpha - beta*c)**2/(16*beta)\n",
       "QD    (3*alpha**2 - 8*alpha*beta*c + 2*alpha*beta*w ...\n",
       "Name: pro_all, dtype: object"
      ]
     },
     "execution_count": 19,
     "metadata": {},
     "output_type": "execute_result"
    }
   ],
   "source": [
    "First_all.loc[\"pro_all\"]"
   ]
  },
  {
   "cell_type": "code",
   "execution_count": 20,
   "metadata": {
    "scrolled": true
   },
   "outputs": [
    {
     "data": {
      "text/html": [
       "<div>\n",
       "<style scoped>\n",
       "    .dataframe tbody tr th:only-of-type {\n",
       "        vertical-align: middle;\n",
       "    }\n",
       "\n",
       "    .dataframe tbody tr th {\n",
       "        vertical-align: top;\n",
       "    }\n",
       "\n",
       "    .dataframe thead th {\n",
       "        text-align: right;\n",
       "    }\n",
       "</style>\n",
       "<table border=\"1\" class=\"dataframe\">\n",
       "  <thead>\n",
       "    <tr style=\"text-align: right;\">\n",
       "      <th></th>\n",
       "      <th>First</th>\n",
       "      <th>DD</th>\n",
       "      <th>SD</th>\n",
       "      <th>BDD</th>\n",
       "      <th>BDS</th>\n",
       "    </tr>\n",
       "  </thead>\n",
       "  <tbody>\n",
       "    <tr>\n",
       "      <th>FB</th>\n",
       "      <td>(alpha - beta*c)**2/(4*beta)</td>\n",
       "      <td>delta_d*(alpha - beta*c)**2/(4*beta)</td>\n",
       "      <td>delta_s*(alpha - beta*c)**2/(4*beta)</td>\n",
       "      <td>delta_d*(alpha - beta*c)**2/(4*beta)</td>\n",
       "      <td>delta_s*(alpha - beta*c)**2/(4*beta)</td>\n",
       "    </tr>\n",
       "    <tr>\n",
       "      <th>WH</th>\n",
       "      <td>3*(alpha - beta*c)**2/(16*beta)</td>\n",
       "      <td>3*(-alpha*delta_d + beta*c - beta*delta_d*lamb...</td>\n",
       "      <td>3*delta_s*(alpha - beta*c)**2/(16*beta)</td>\n",
       "      <td>3*(alpha*delta_d - beta*c*delta_s + beta*delta...</td>\n",
       "      <td>3*delta_s*(alpha - beta*c)**2/(16*beta)</td>\n",
       "    </tr>\n",
       "    <tr>\n",
       "      <th>QD</th>\n",
       "      <td>(3*alpha**2 - 8*alpha*beta*c + 2*alpha*beta*w ...</td>\n",
       "      <td>(alpha*delta_d + beta*delta_d*lambda - beta*la...</td>\n",
       "      <td>delta_s*(3*alpha**2 - 8*alpha*beta*c + 2*alpha...</td>\n",
       "      <td>(alpha*delta_d + beta*delta_d*lambda - beta*de...</td>\n",
       "      <td>delta_s*(3*alpha**2 - 8*alpha*beta*c + 2*alpha...</td>\n",
       "    </tr>\n",
       "  </tbody>\n",
       "</table>\n",
       "</div>"
      ],
      "text/plain": [
       "                                                First  \\\n",
       "FB                       (alpha - beta*c)**2/(4*beta)   \n",
       "WH                    3*(alpha - beta*c)**2/(16*beta)   \n",
       "QD  (3*alpha**2 - 8*alpha*beta*c + 2*alpha*beta*w ...   \n",
       "\n",
       "                                                   DD  \\\n",
       "FB               delta_d*(alpha - beta*c)**2/(4*beta)   \n",
       "WH  3*(-alpha*delta_d + beta*c - beta*delta_d*lamb...   \n",
       "QD  (alpha*delta_d + beta*delta_d*lambda - beta*la...   \n",
       "\n",
       "                                                   SD  \\\n",
       "FB               delta_s*(alpha - beta*c)**2/(4*beta)   \n",
       "WH            3*delta_s*(alpha - beta*c)**2/(16*beta)   \n",
       "QD  delta_s*(3*alpha**2 - 8*alpha*beta*c + 2*alpha...   \n",
       "\n",
       "                                                  BDD  \\\n",
       "FB               delta_d*(alpha - beta*c)**2/(4*beta)   \n",
       "WH  3*(alpha*delta_d - beta*c*delta_s + beta*delta...   \n",
       "QD  (alpha*delta_d + beta*delta_d*lambda - beta*de...   \n",
       "\n",
       "                                                  BDS  \n",
       "FB               delta_s*(alpha - beta*c)**2/(4*beta)  \n",
       "WH            3*delta_s*(alpha - beta*c)**2/(16*beta)  \n",
       "QD  delta_s*(3*alpha**2 - 8*alpha*beta*c + 2*alpha...  "
      ]
     },
     "execution_count": 20,
     "metadata": {},
     "output_type": "execute_result"
    }
   ],
   "source": [
    "profit_all = concat_all(\"pro_all\",case_)\n",
    "profit_all"
   ]
  },
  {
   "cell_type": "code",
   "execution_count": 21,
   "metadata": {},
   "outputs": [
    {
     "name": "stdout",
     "output_type": "stream",
     "text": [
      "First\n"
     ]
    },
    {
     "data": {
      "text/latex": [
       "$\\displaystyle \\frac{\\left(\\alpha - \\beta c\\right)^{2}}{4 \\beta}$"
      ],
      "text/plain": [
       "(alpha - beta*c)**2/(4*beta)"
      ]
     },
     "metadata": {},
     "output_type": "display_data"
    },
    {
     "name": "stdout",
     "output_type": "stream",
     "text": [
      "DD\n"
     ]
    },
    {
     "data": {
      "text/latex": [
       "$\\displaystyle \\frac{\\delta_{d} \\left(\\alpha - \\beta c\\right)^{2}}{4 \\beta}$"
      ],
      "text/plain": [
       "delta_d*(alpha - beta*c)**2/(4*beta)"
      ]
     },
     "metadata": {},
     "output_type": "display_data"
    },
    {
     "name": "stdout",
     "output_type": "stream",
     "text": [
      "SD\n"
     ]
    },
    {
     "data": {
      "text/latex": [
       "$\\displaystyle \\frac{\\delta_{s} \\left(\\alpha - \\beta c\\right)^{2}}{4 \\beta}$"
      ],
      "text/plain": [
       "delta_s*(alpha - beta*c)**2/(4*beta)"
      ]
     },
     "metadata": {},
     "output_type": "display_data"
    },
    {
     "name": "stdout",
     "output_type": "stream",
     "text": [
      "BDD\n"
     ]
    },
    {
     "data": {
      "text/latex": [
       "$\\displaystyle \\frac{\\delta_{d} \\left(\\alpha - \\beta c\\right)^{2}}{4 \\beta}$"
      ],
      "text/plain": [
       "delta_d*(alpha - beta*c)**2/(4*beta)"
      ]
     },
     "metadata": {},
     "output_type": "display_data"
    },
    {
     "name": "stdout",
     "output_type": "stream",
     "text": [
      "BDS\n"
     ]
    },
    {
     "data": {
      "text/latex": [
       "$\\displaystyle \\frac{\\delta_{s} \\left(\\alpha - \\beta c\\right)^{2}}{4 \\beta}$"
      ],
      "text/plain": [
       "delta_s*(alpha - beta*c)**2/(4*beta)"
      ]
     },
     "metadata": {},
     "output_type": "display_data"
    }
   ],
   "source": [
    "for i in profit_all.columns:\n",
    "    print(i)\n",
    "    display(profit_all[i][\"FB\"])"
   ]
  },
  {
   "cell_type": "markdown",
   "metadata": {},
   "source": [
    "- disruption 된 만큼 전체의 profit이 줄어든다. ( 당연한 결과 )"
   ]
  },
  {
   "cell_type": "code",
   "execution_count": 22,
   "metadata": {},
   "outputs": [
    {
     "name": "stdout",
     "output_type": "stream",
     "text": [
      "First\n"
     ]
    },
    {
     "data": {
      "text/latex": [
       "$\\displaystyle \\frac{3 \\left(\\alpha - \\beta c\\right)^{2}}{16 \\beta}$"
      ],
      "text/plain": [
       "3*(alpha - beta*c)**2/(16*beta)"
      ]
     },
     "metadata": {},
     "output_type": "display_data"
    },
    {
     "name": "stdout",
     "output_type": "stream",
     "text": [
      "DD\n"
     ]
    },
    {
     "data": {
      "text/latex": [
       "$\\displaystyle \\frac{3 \\left(- \\alpha \\delta_{d} + \\beta c - \\beta \\delta_{d} \\lambda + \\beta \\lambda\\right)^{2}}{16 \\beta \\delta_{d}}$"
      ],
      "text/plain": [
       "3*(-alpha*delta_d + beta*c - beta*delta_d*lambda + beta*lambda)**2/(16*beta*delta_d)"
      ]
     },
     "metadata": {},
     "output_type": "display_data"
    },
    {
     "name": "stdout",
     "output_type": "stream",
     "text": [
      "SD\n"
     ]
    },
    {
     "data": {
      "text/latex": [
       "$\\displaystyle \\frac{3 \\delta_{s} \\left(\\alpha - \\beta c\\right)^{2}}{16 \\beta}$"
      ],
      "text/plain": [
       "3*delta_s*(alpha - beta*c)**2/(16*beta)"
      ]
     },
     "metadata": {},
     "output_type": "display_data"
    },
    {
     "name": "stdout",
     "output_type": "stream",
     "text": [
      "BDD\n"
     ]
    },
    {
     "data": {
      "text/latex": [
       "$\\displaystyle \\frac{3 \\left(\\alpha \\delta_{d} - \\beta c \\delta_{s} + \\beta \\delta_{d} \\lambda - \\beta \\delta_{s} \\lambda\\right)^{2}}{16 \\beta \\delta_{d}}$"
      ],
      "text/plain": [
       "3*(alpha*delta_d - beta*c*delta_s + beta*delta_d*lambda - beta*delta_s*lambda)**2/(16*beta*delta_d)"
      ]
     },
     "metadata": {},
     "output_type": "display_data"
    },
    {
     "name": "stdout",
     "output_type": "stream",
     "text": [
      "BDS\n"
     ]
    },
    {
     "data": {
      "text/latex": [
       "$\\displaystyle \\frac{3 \\delta_{s} \\left(\\alpha - \\beta c\\right)^{2}}{16 \\beta}$"
      ],
      "text/plain": [
       "3*delta_s*(alpha - beta*c)**2/(16*beta)"
      ]
     },
     "metadata": {},
     "output_type": "display_data"
    }
   ],
   "source": [
    "for i in profit_all.columns:\n",
    "    print(i)\n",
    "    display(profit_all[i][\"WH\"])"
   ]
  },
  {
   "cell_type": "markdown",
   "metadata": {},
   "source": [
    "- Supply disruption 일때, Demand 보다 적게 파는 손익( 기회비용)을 어떤 식으로 표시 할 수 있을까?\n",
    "- BDD VS DD 비교: 만약에,delta_d가 동일하다고 생각 했을때, 공급망 전체의 손익이 양쪽의 disruption이 일어나는 BDD 에서 더 높게 나온다.\n",
    "    이는 WH는 한계? 이야기?\n",
    "\n",
    "\n"
   ]
  },
  {
   "cell_type": "markdown",
   "metadata": {},
   "source": [
    "### * Disruption 에 의한 피해 VS 공급망의 비효율에서 오는 피해 (비교 및 민감도 분석 필요하다)"
   ]
  },
  {
   "cell_type": "code",
   "execution_count": 23,
   "metadata": {},
   "outputs": [
    {
     "name": "stdout",
     "output_type": "stream",
     "text": [
      "First\n"
     ]
    },
    {
     "data": {
      "text/latex": [
       "$\\displaystyle \\frac{3 \\alpha^{2} - 8 \\alpha \\beta c + 2 \\alpha \\beta w + 4 \\beta^{2} c^{2} - \\beta^{2} w^{2}}{16 \\beta}$"
      ],
      "text/plain": [
       "(3*alpha**2 - 8*alpha*beta*c + 2*alpha*beta*w + 4*beta**2*c**2 - beta**2*w**2)/(16*beta)"
      ]
     },
     "metadata": {},
     "output_type": "display_data"
    },
    {
     "name": "stdout",
     "output_type": "stream",
     "text": [
      "DD\n"
     ]
    },
    {
     "data": {
      "text/latex": [
       "$\\displaystyle \\frac{\\left(\\alpha \\delta_{d} + \\beta \\delta_{d} \\lambda - \\beta \\lambda - \\beta w\\right) \\left(\\alpha \\delta_{d} - 2 \\beta c + \\beta \\delta_{d} \\lambda - \\beta \\lambda + \\beta w\\right)}{8 \\beta \\delta_{d}} + \\frac{\\left(\\alpha \\delta_{d} - 2 \\beta c + \\beta \\delta_{d} \\lambda - \\beta \\lambda + \\beta w\\right)^{2}}{16 \\beta \\delta_{d}}$"
      ],
      "text/plain": [
       "(alpha*delta_d + beta*delta_d*lambda - beta*lambda - beta*w)*(alpha*delta_d - 2*beta*c + beta*delta_d*lambda - beta*lambda + beta*w)/(8*beta*delta_d) + (alpha*delta_d - 2*beta*c + beta*delta_d*lambda - beta*lambda + beta*w)**2/(16*beta*delta_d)"
      ]
     },
     "metadata": {},
     "output_type": "display_data"
    },
    {
     "name": "stdout",
     "output_type": "stream",
     "text": [
      "SD\n"
     ]
    },
    {
     "data": {
      "text/latex": [
       "$\\displaystyle \\frac{\\delta_{s} \\left(3 \\alpha^{2} - 8 \\alpha \\beta c + 2 \\alpha \\beta w + 4 \\beta^{2} c^{2} - \\beta^{2} w^{2}\\right)}{16 \\beta}$"
      ],
      "text/plain": [
       "delta_s*(3*alpha**2 - 8*alpha*beta*c + 2*alpha*beta*w + 4*beta**2*c**2 - beta**2*w**2)/(16*beta)"
      ]
     },
     "metadata": {},
     "output_type": "display_data"
    },
    {
     "name": "stdout",
     "output_type": "stream",
     "text": [
      "BDD\n"
     ]
    },
    {
     "data": {
      "text/latex": [
       "$\\displaystyle \\frac{\\left(\\alpha \\delta_{d} + \\beta \\delta_{d} \\lambda - \\beta \\delta_{s} \\lambda - \\beta \\delta_{s} w\\right) \\left(\\alpha \\delta_{d} - 2 \\beta c \\delta_{s} + \\beta \\delta_{d} \\lambda - \\beta \\delta_{s} \\lambda + \\beta \\delta_{s} w\\right)}{8 \\beta \\delta_{d}} + \\frac{\\left(\\alpha \\delta_{d} - 2 \\beta c \\delta_{s} + \\beta \\delta_{d} \\lambda - \\beta \\delta_{s} \\lambda + \\beta \\delta_{s} w\\right)^{2}}{16 \\beta \\delta_{d}}$"
      ],
      "text/plain": [
       "(alpha*delta_d + beta*delta_d*lambda - beta*delta_s*lambda - beta*delta_s*w)*(alpha*delta_d - 2*beta*c*delta_s + beta*delta_d*lambda - beta*delta_s*lambda + beta*delta_s*w)/(8*beta*delta_d) + (alpha*delta_d - 2*beta*c*delta_s + beta*delta_d*lambda - beta*delta_s*lambda + beta*delta_s*w)**2/(16*beta*delta_d)"
      ]
     },
     "metadata": {},
     "output_type": "display_data"
    },
    {
     "name": "stdout",
     "output_type": "stream",
     "text": [
      "BDS\n"
     ]
    },
    {
     "data": {
      "text/latex": [
       "$\\displaystyle \\frac{\\delta_{s} \\left(3 \\alpha^{2} - 8 \\alpha \\beta c + 2 \\alpha \\beta w + 4 \\beta^{2} c^{2} - \\beta^{2} w^{2}\\right)}{16 \\beta}$"
      ],
      "text/plain": [
       "delta_s*(3*alpha**2 - 8*alpha*beta*c + 2*alpha*beta*w + 4*beta**2*c**2 - beta**2*w**2)/(16*beta)"
      ]
     },
     "metadata": {},
     "output_type": "display_data"
    }
   ],
   "source": [
    "for i in profit_all.columns:\n",
    "    print(i)\n",
    "    display(profit_all[i][\"QD\"])"
   ]
  },
  {
   "cell_type": "code",
   "execution_count": null,
   "metadata": {},
   "outputs": [],
   "source": []
  },
  {
   "cell_type": "code",
   "execution_count": null,
   "metadata": {},
   "outputs": [],
   "source": []
  },
  {
   "cell_type": "markdown",
   "metadata": {},
   "source": [
    "### 1.2 a Gap of profit_all between First and each case"
   ]
  },
  {
   "cell_type": "code",
   "execution_count": 24,
   "metadata": {},
   "outputs": [
    {
     "data": {
      "text/html": [
       "<div>\n",
       "<style scoped>\n",
       "    .dataframe tbody tr th:only-of-type {\n",
       "        vertical-align: middle;\n",
       "    }\n",
       "\n",
       "    .dataframe tbody tr th {\n",
       "        vertical-align: top;\n",
       "    }\n",
       "\n",
       "    .dataframe thead th {\n",
       "        text-align: right;\n",
       "    }\n",
       "</style>\n",
       "<table border=\"1\" class=\"dataframe\">\n",
       "  <thead>\n",
       "    <tr style=\"text-align: right;\">\n",
       "      <th></th>\n",
       "      <th>First-DD</th>\n",
       "      <th>First-SD</th>\n",
       "      <th>First-BDD</th>\n",
       "      <th>First-BDS</th>\n",
       "    </tr>\n",
       "  </thead>\n",
       "  <tbody>\n",
       "    <tr>\n",
       "      <th>FB</th>\n",
       "      <td>(1 - delta_d)*(alpha - beta*c)**2/(4*beta)</td>\n",
       "      <td>(1 - delta_s)*(alpha - beta*c)**2/(4*beta)</td>\n",
       "      <td>(1 - delta_d)*(alpha - beta*c)**2/(4*beta)</td>\n",
       "      <td>(1 - delta_s)*(alpha - beta*c)**2/(4*beta)</td>\n",
       "    </tr>\n",
       "    <tr>\n",
       "      <th>WH</th>\n",
       "      <td>3*(delta_d*(alpha - beta*c)**2 - (alpha*delta_...</td>\n",
       "      <td>3*(1 - delta_s)*(alpha - beta*c)**2/(16*beta)</td>\n",
       "      <td>3*(delta_d*(alpha - beta*c)**2 - (alpha*delta_...</td>\n",
       "      <td>3*(1 - delta_s)*(alpha - beta*c)**2/(16*beta)</td>\n",
       "    </tr>\n",
       "    <tr>\n",
       "      <th>QD</th>\n",
       "      <td>(delta_d*(3*alpha**2 - 8*alpha*beta*c + 2*alph...</td>\n",
       "      <td>(3*alpha**2 - 8*alpha*beta*c + 2*alpha*beta*w ...</td>\n",
       "      <td>(delta_d*(3*alpha**2 - 8*alpha*beta*c + 2*alph...</td>\n",
       "      <td>(3*alpha**2 - 8*alpha*beta*c + 2*alpha*beta*w ...</td>\n",
       "    </tr>\n",
       "  </tbody>\n",
       "</table>\n",
       "</div>"
      ],
      "text/plain": [
       "                                             First-DD  \\\n",
       "FB         (1 - delta_d)*(alpha - beta*c)**2/(4*beta)   \n",
       "WH  3*(delta_d*(alpha - beta*c)**2 - (alpha*delta_...   \n",
       "QD  (delta_d*(3*alpha**2 - 8*alpha*beta*c + 2*alph...   \n",
       "\n",
       "                                             First-SD  \\\n",
       "FB         (1 - delta_s)*(alpha - beta*c)**2/(4*beta)   \n",
       "WH      3*(1 - delta_s)*(alpha - beta*c)**2/(16*beta)   \n",
       "QD  (3*alpha**2 - 8*alpha*beta*c + 2*alpha*beta*w ...   \n",
       "\n",
       "                                            First-BDD  \\\n",
       "FB         (1 - delta_d)*(alpha - beta*c)**2/(4*beta)   \n",
       "WH  3*(delta_d*(alpha - beta*c)**2 - (alpha*delta_...   \n",
       "QD  (delta_d*(3*alpha**2 - 8*alpha*beta*c + 2*alph...   \n",
       "\n",
       "                                            First-BDS  \n",
       "FB         (1 - delta_s)*(alpha - beta*c)**2/(4*beta)  \n",
       "WH      3*(1 - delta_s)*(alpha - beta*c)**2/(16*beta)  \n",
       "QD  (3*alpha**2 - 8*alpha*beta*c + 2*alpha*beta*w ...  "
      ]
     },
     "execution_count": 24,
     "metadata": {},
     "output_type": "execute_result"
    }
   ],
   "source": [
    "df_ = profit_all\n",
    "\n",
    "propor_ = pd.DataFrame()\n",
    "First_ = profit_all.loc[:,\"First\"]\n",
    "Case_ = profit_all.drop(columns=\"First\")\n",
    "for i in Case_.columns:\n",
    "    gap = pd.DataFrame(First_ - Case_[i])\n",
    "    gap[0] = gap[0].map(lambda x: x.simplify())\n",
    "    gap = gap.rename(columns={0:\"First-{}\".format(i)})\n",
    "    propor_ = pd.concat([propor_,gap],axis=1)\n",
    "propor_\n"
   ]
  },
  {
   "cell_type": "code",
   "execution_count": 25,
   "metadata": {},
   "outputs": [],
   "source": [
    "# make gap maker\n",
    "def gap_maker(df_):\n",
    "    propor_ = pd.DataFrame()\n",
    "    First_ = profit_all.loc[:,\"First\"]\n",
    "    Case_ = profit_all.drop(columns=\"First\")\n",
    "    for i in Case_.columns:\n",
    "        gap = pd.DataFrame(First_ - Case_[i])\n",
    "        gap[0] = gap[0].map(lambda x: x.simplify())\n",
    "        gap = gap.rename(columns={0:\"First-{}\".format(i)})\n",
    "        propor_ = pd.concat([propor_,gap],axis=1)\n",
    "    return propor_"
   ]
  },
  {
   "cell_type": "code",
   "execution_count": 26,
   "metadata": {},
   "outputs": [
    {
     "data": {
      "text/html": [
       "<div>\n",
       "<style scoped>\n",
       "    .dataframe tbody tr th:only-of-type {\n",
       "        vertical-align: middle;\n",
       "    }\n",
       "\n",
       "    .dataframe tbody tr th {\n",
       "        vertical-align: top;\n",
       "    }\n",
       "\n",
       "    .dataframe thead th {\n",
       "        text-align: right;\n",
       "    }\n",
       "</style>\n",
       "<table border=\"1\" class=\"dataframe\">\n",
       "  <thead>\n",
       "    <tr style=\"text-align: right;\">\n",
       "      <th></th>\n",
       "      <th>First-DD</th>\n",
       "      <th>First-SD</th>\n",
       "      <th>First-BDD</th>\n",
       "      <th>First-BDS</th>\n",
       "    </tr>\n",
       "  </thead>\n",
       "  <tbody>\n",
       "    <tr>\n",
       "      <th>FB</th>\n",
       "      <td>(1 - delta_d)*(alpha - beta*c)**2/(4*beta)</td>\n",
       "      <td>(1 - delta_s)*(alpha - beta*c)**2/(4*beta)</td>\n",
       "      <td>(1 - delta_d)*(alpha - beta*c)**2/(4*beta)</td>\n",
       "      <td>(1 - delta_s)*(alpha - beta*c)**2/(4*beta)</td>\n",
       "    </tr>\n",
       "    <tr>\n",
       "      <th>WH</th>\n",
       "      <td>3*(delta_d*(alpha - beta*c)**2 - (alpha*delta_...</td>\n",
       "      <td>3*(1 - delta_s)*(alpha - beta*c)**2/(16*beta)</td>\n",
       "      <td>3*(delta_d*(alpha - beta*c)**2 - (alpha*delta_...</td>\n",
       "      <td>3*(1 - delta_s)*(alpha - beta*c)**2/(16*beta)</td>\n",
       "    </tr>\n",
       "    <tr>\n",
       "      <th>QD</th>\n",
       "      <td>(delta_d*(3*alpha**2 - 8*alpha*beta*c + 2*alph...</td>\n",
       "      <td>(3*alpha**2 - 8*alpha*beta*c + 2*alpha*beta*w ...</td>\n",
       "      <td>(delta_d*(3*alpha**2 - 8*alpha*beta*c + 2*alph...</td>\n",
       "      <td>(3*alpha**2 - 8*alpha*beta*c + 2*alpha*beta*w ...</td>\n",
       "    </tr>\n",
       "  </tbody>\n",
       "</table>\n",
       "</div>"
      ],
      "text/plain": [
       "                                             First-DD  \\\n",
       "FB         (1 - delta_d)*(alpha - beta*c)**2/(4*beta)   \n",
       "WH  3*(delta_d*(alpha - beta*c)**2 - (alpha*delta_...   \n",
       "QD  (delta_d*(3*alpha**2 - 8*alpha*beta*c + 2*alph...   \n",
       "\n",
       "                                             First-SD  \\\n",
       "FB         (1 - delta_s)*(alpha - beta*c)**2/(4*beta)   \n",
       "WH      3*(1 - delta_s)*(alpha - beta*c)**2/(16*beta)   \n",
       "QD  (3*alpha**2 - 8*alpha*beta*c + 2*alpha*beta*w ...   \n",
       "\n",
       "                                            First-BDD  \\\n",
       "FB         (1 - delta_d)*(alpha - beta*c)**2/(4*beta)   \n",
       "WH  3*(delta_d*(alpha - beta*c)**2 - (alpha*delta_...   \n",
       "QD  (delta_d*(3*alpha**2 - 8*alpha*beta*c + 2*alph...   \n",
       "\n",
       "                                            First-BDS  \n",
       "FB         (1 - delta_s)*(alpha - beta*c)**2/(4*beta)  \n",
       "WH      3*(1 - delta_s)*(alpha - beta*c)**2/(16*beta)  \n",
       "QD  (3*alpha**2 - 8*alpha*beta*c + 2*alpha*beta*w ...  "
      ]
     },
     "execution_count": 26,
     "metadata": {},
     "output_type": "execute_result"
    }
   ],
   "source": [
    "gap_all = gap_maker(profit_all)\n",
    "gap_all"
   ]
  },
  {
   "cell_type": "code",
   "execution_count": 27,
   "metadata": {},
   "outputs": [
    {
     "name": "stdout",
     "output_type": "stream",
     "text": [
      "First-DD\n"
     ]
    },
    {
     "data": {
      "text/latex": [
       "$\\displaystyle \\frac{\\delta_{d} \\left(3 \\alpha^{2} - 8 \\alpha \\beta c + 2 \\alpha \\beta w + 4 \\beta^{2} c^{2} - \\beta^{2} w^{2}\\right) + \\left(- 3 \\alpha \\delta_{d} + 2 \\beta c - 3 \\beta \\delta_{d} \\lambda + 3 \\beta \\lambda + \\beta w\\right) \\left(\\alpha \\delta_{d} - 2 \\beta c + \\beta \\delta_{d} \\lambda - \\beta \\lambda + \\beta w\\right)}{16 \\beta \\delta_{d}}$"
      ],
      "text/plain": [
       "(delta_d*(3*alpha**2 - 8*alpha*beta*c + 2*alpha*beta*w + 4*beta**2*c**2 - beta**2*w**2) + (-3*alpha*delta_d + 2*beta*c - 3*beta*delta_d*lambda + 3*beta*lambda + beta*w)*(alpha*delta_d - 2*beta*c + beta*delta_d*lambda - beta*lambda + beta*w))/(16*beta*delta_d)"
      ]
     },
     "metadata": {},
     "output_type": "display_data"
    },
    {
     "name": "stdout",
     "output_type": "stream",
     "text": [
      "First-SD\n"
     ]
    },
    {
     "data": {
      "text/latex": [
       "$\\displaystyle \\frac{3 \\alpha^{2} - 8 \\alpha \\beta c + 2 \\alpha \\beta w + 4 \\beta^{2} c^{2} - \\beta^{2} w^{2} - \\delta_{s} \\left(3 \\alpha^{2} - 8 \\alpha \\beta c + 2 \\alpha \\beta w + 4 \\beta^{2} c^{2} - \\beta^{2} w^{2}\\right)}{16 \\beta}$"
      ],
      "text/plain": [
       "(3*alpha**2 - 8*alpha*beta*c + 2*alpha*beta*w + 4*beta**2*c**2 - beta**2*w**2 - delta_s*(3*alpha**2 - 8*alpha*beta*c + 2*alpha*beta*w + 4*beta**2*c**2 - beta**2*w**2))/(16*beta)"
      ]
     },
     "metadata": {},
     "output_type": "display_data"
    },
    {
     "name": "stdout",
     "output_type": "stream",
     "text": [
      "First-BDD\n"
     ]
    },
    {
     "data": {
      "text/latex": [
       "$\\displaystyle \\frac{\\delta_{d} \\left(3 \\alpha^{2} - 8 \\alpha \\beta c + 2 \\alpha \\beta w + 4 \\beta^{2} c^{2} - \\beta^{2} w^{2}\\right) + \\left(- 3 \\alpha \\delta_{d} + 2 \\beta c \\delta_{s} - 3 \\beta \\delta_{d} \\lambda + 3 \\beta \\delta_{s} \\lambda + \\beta \\delta_{s} w\\right) \\left(\\alpha \\delta_{d} - 2 \\beta c \\delta_{s} + \\beta \\delta_{d} \\lambda - \\beta \\delta_{s} \\lambda + \\beta \\delta_{s} w\\right)}{16 \\beta \\delta_{d}}$"
      ],
      "text/plain": [
       "(delta_d*(3*alpha**2 - 8*alpha*beta*c + 2*alpha*beta*w + 4*beta**2*c**2 - beta**2*w**2) + (-3*alpha*delta_d + 2*beta*c*delta_s - 3*beta*delta_d*lambda + 3*beta*delta_s*lambda + beta*delta_s*w)*(alpha*delta_d - 2*beta*c*delta_s + beta*delta_d*lambda - beta*delta_s*lambda + beta*delta_s*w))/(16*beta*delta_d)"
      ]
     },
     "metadata": {},
     "output_type": "display_data"
    },
    {
     "name": "stdout",
     "output_type": "stream",
     "text": [
      "First-BDS\n"
     ]
    },
    {
     "data": {
      "text/latex": [
       "$\\displaystyle \\frac{3 \\alpha^{2} - 8 \\alpha \\beta c + 2 \\alpha \\beta w + 4 \\beta^{2} c^{2} - \\beta^{2} w^{2} - \\delta_{s} \\left(3 \\alpha^{2} - 8 \\alpha \\beta c + 2 \\alpha \\beta w + 4 \\beta^{2} c^{2} - \\beta^{2} w^{2}\\right)}{16 \\beta}$"
      ],
      "text/plain": [
       "(3*alpha**2 - 8*alpha*beta*c + 2*alpha*beta*w + 4*beta**2*c**2 - beta**2*w**2 - delta_s*(3*alpha**2 - 8*alpha*beta*c + 2*alpha*beta*w + 4*beta**2*c**2 - beta**2*w**2))/(16*beta)"
      ]
     },
     "metadata": {},
     "output_type": "display_data"
    }
   ],
   "source": [
    "for i in gap_all.columns:\n",
    "    print(i)\n",
    "    display(gap_all[i][\"QD\"])"
   ]
  },
  {
   "cell_type": "code",
   "execution_count": null,
   "metadata": {},
   "outputs": [],
   "source": []
  },
  {
   "cell_type": "markdown",
   "metadata": {},
   "source": [
    "## 1.2 개인 profit_ 비교"
   ]
  },
  {
   "cell_type": "code",
   "execution_count": 28,
   "metadata": {},
   "outputs": [
    {
     "data": {
      "text/html": [
       "<div>\n",
       "<style scoped>\n",
       "    .dataframe tbody tr th:only-of-type {\n",
       "        vertical-align: middle;\n",
       "    }\n",
       "\n",
       "    .dataframe tbody tr th {\n",
       "        vertical-align: top;\n",
       "    }\n",
       "\n",
       "    .dataframe thead th {\n",
       "        text-align: right;\n",
       "    }\n",
       "</style>\n",
       "<table border=\"1\" class=\"dataframe\">\n",
       "  <thead>\n",
       "    <tr style=\"text-align: right;\">\n",
       "      <th></th>\n",
       "      <th>First</th>\n",
       "      <th>DD</th>\n",
       "      <th>SD</th>\n",
       "      <th>BDD</th>\n",
       "      <th>BDS</th>\n",
       "    </tr>\n",
       "  </thead>\n",
       "  <tbody>\n",
       "    <tr>\n",
       "      <th>FB</th>\n",
       "      <td>NaN</td>\n",
       "      <td>NaN</td>\n",
       "      <td>NaN</td>\n",
       "      <td>NaN</td>\n",
       "      <td>NaN</td>\n",
       "    </tr>\n",
       "    <tr>\n",
       "      <th>WH</th>\n",
       "      <td>(alpha - beta*c)**2/(8*beta)</td>\n",
       "      <td>(-alpha*delta_d + beta*c - beta*delta_d*lambda...</td>\n",
       "      <td>delta_s*(alpha - beta*c)**2/(8*beta)</td>\n",
       "      <td>(alpha*delta_d - beta*c*delta_s + beta*delta_d...</td>\n",
       "      <td>delta_s*(alpha - beta*c)**2/(8*beta)</td>\n",
       "    </tr>\n",
       "    <tr>\n",
       "      <th>QD</th>\n",
       "      <td>(alpha/4 - beta*c/2 + beta*w/4)*(alpha - 2*bet...</td>\n",
       "      <td>(alpha*delta_d - 2*beta*c + beta*delta_d*lambd...</td>\n",
       "      <td>delta_s*(alpha/4 - beta*c/2 + beta*w/4)*(alpha...</td>\n",
       "      <td>(alpha*delta_d - 2*beta*c*delta_s + beta*delta...</td>\n",
       "      <td>delta_s*(alpha/4 - beta*c/2 + beta*w/4)*(alpha...</td>\n",
       "    </tr>\n",
       "  </tbody>\n",
       "</table>\n",
       "</div>"
      ],
      "text/plain": [
       "                                                First  \\\n",
       "FB                                                NaN   \n",
       "WH                       (alpha - beta*c)**2/(8*beta)   \n",
       "QD  (alpha/4 - beta*c/2 + beta*w/4)*(alpha - 2*bet...   \n",
       "\n",
       "                                                   DD  \\\n",
       "FB                                                NaN   \n",
       "WH  (-alpha*delta_d + beta*c - beta*delta_d*lambda...   \n",
       "QD  (alpha*delta_d - 2*beta*c + beta*delta_d*lambd...   \n",
       "\n",
       "                                                   SD  \\\n",
       "FB                                                NaN   \n",
       "WH               delta_s*(alpha - beta*c)**2/(8*beta)   \n",
       "QD  delta_s*(alpha/4 - beta*c/2 + beta*w/4)*(alpha...   \n",
       "\n",
       "                                                  BDD  \\\n",
       "FB                                                NaN   \n",
       "WH  (alpha*delta_d - beta*c*delta_s + beta*delta_d...   \n",
       "QD  (alpha*delta_d - 2*beta*c*delta_s + beta*delta...   \n",
       "\n",
       "                                                  BDS  \n",
       "FB                                                NaN  \n",
       "WH               delta_s*(alpha - beta*c)**2/(8*beta)  \n",
       "QD  delta_s*(alpha/4 - beta*c/2 + beta*w/4)*(alpha...  "
      ]
     },
     "execution_count": 28,
     "metadata": {},
     "output_type": "execute_result"
    }
   ],
   "source": [
    "profit_s = concat_all(\"pro_s\",case_)\n",
    "profit_s"
   ]
  },
  {
   "cell_type": "code",
   "execution_count": 29,
   "metadata": {},
   "outputs": [
    {
     "data": {
      "text/html": [
       "<div>\n",
       "<style scoped>\n",
       "    .dataframe tbody tr th:only-of-type {\n",
       "        vertical-align: middle;\n",
       "    }\n",
       "\n",
       "    .dataframe tbody tr th {\n",
       "        vertical-align: top;\n",
       "    }\n",
       "\n",
       "    .dataframe thead th {\n",
       "        text-align: right;\n",
       "    }\n",
       "</style>\n",
       "<table border=\"1\" class=\"dataframe\">\n",
       "  <thead>\n",
       "    <tr style=\"text-align: right;\">\n",
       "      <th></th>\n",
       "      <th>First</th>\n",
       "      <th>DD</th>\n",
       "      <th>SD</th>\n",
       "      <th>BDD</th>\n",
       "      <th>BDS</th>\n",
       "    </tr>\n",
       "  </thead>\n",
       "  <tbody>\n",
       "    <tr>\n",
       "      <th>FB</th>\n",
       "      <td>NaN</td>\n",
       "      <td>NaN</td>\n",
       "      <td>NaN</td>\n",
       "      <td>NaN</td>\n",
       "      <td>NaN</td>\n",
       "    </tr>\n",
       "    <tr>\n",
       "      <th>WH</th>\n",
       "      <td>(alpha - beta*c)**2/(16*beta)</td>\n",
       "      <td>(-alpha*delta_d + beta*c - beta*delta_d*lambda...</td>\n",
       "      <td>delta_s*(alpha - beta*c)**2/(16*beta)</td>\n",
       "      <td>(alpha*delta_d - beta*c*delta_s + beta*delta_d...</td>\n",
       "      <td>delta_s*(alpha - beta*c)**2/(16*beta)</td>\n",
       "    </tr>\n",
       "    <tr>\n",
       "      <th>QD</th>\n",
       "      <td>(alpha - beta*w)*(alpha/4 - beta*c/2 + beta*w/...</td>\n",
       "      <td>(alpha*delta_d + beta*delta_d*lambda - beta*la...</td>\n",
       "      <td>delta_s*(alpha - beta*w)*(alpha/4 - beta*c/2 +...</td>\n",
       "      <td>(alpha*delta_d + beta*delta_d*lambda - beta*de...</td>\n",
       "      <td>delta_s*(alpha - beta*w)*(alpha/4 - beta*c/2 +...</td>\n",
       "    </tr>\n",
       "  </tbody>\n",
       "</table>\n",
       "</div>"
      ],
      "text/plain": [
       "                                                First  \\\n",
       "FB                                                NaN   \n",
       "WH                      (alpha - beta*c)**2/(16*beta)   \n",
       "QD  (alpha - beta*w)*(alpha/4 - beta*c/2 + beta*w/...   \n",
       "\n",
       "                                                   DD  \\\n",
       "FB                                                NaN   \n",
       "WH  (-alpha*delta_d + beta*c - beta*delta_d*lambda...   \n",
       "QD  (alpha*delta_d + beta*delta_d*lambda - beta*la...   \n",
       "\n",
       "                                                   SD  \\\n",
       "FB                                                NaN   \n",
       "WH              delta_s*(alpha - beta*c)**2/(16*beta)   \n",
       "QD  delta_s*(alpha - beta*w)*(alpha/4 - beta*c/2 +...   \n",
       "\n",
       "                                                  BDD  \\\n",
       "FB                                                NaN   \n",
       "WH  (alpha*delta_d - beta*c*delta_s + beta*delta_d...   \n",
       "QD  (alpha*delta_d + beta*delta_d*lambda - beta*de...   \n",
       "\n",
       "                                                  BDS  \n",
       "FB                                                NaN  \n",
       "WH              delta_s*(alpha - beta*c)**2/(16*beta)  \n",
       "QD  delta_s*(alpha - beta*w)*(alpha/4 - beta*c/2 +...  "
      ]
     },
     "execution_count": 29,
     "metadata": {},
     "output_type": "execute_result"
    }
   ],
   "source": [
    "profit_r = concat_all(\"pro_r\",case_)\n",
    "profit_r"
   ]
  },
  {
   "cell_type": "code",
   "execution_count": 30,
   "metadata": {},
   "outputs": [
    {
     "name": "stdout",
     "output_type": "stream",
     "text": [
      "First\n"
     ]
    },
    {
     "data": {
      "text/latex": [
       "$\\displaystyle \\frac{\\left(\\alpha - \\beta c\\right)^{2}}{8 \\beta}$"
      ],
      "text/plain": [
       "(alpha - beta*c)**2/(8*beta)"
      ]
     },
     "metadata": {},
     "output_type": "display_data"
    },
    {
     "name": "stdout",
     "output_type": "stream",
     "text": [
      "DD\n"
     ]
    },
    {
     "data": {
      "text/latex": [
       "$\\displaystyle \\frac{\\left(- \\alpha \\delta_{d} + \\beta c - \\beta \\delta_{d} \\lambda + \\beta \\lambda\\right)^{2}}{8 \\beta \\delta_{d}}$"
      ],
      "text/plain": [
       "(-alpha*delta_d + beta*c - beta*delta_d*lambda + beta*lambda)**2/(8*beta*delta_d)"
      ]
     },
     "metadata": {},
     "output_type": "display_data"
    },
    {
     "name": "stdout",
     "output_type": "stream",
     "text": [
      "SD\n"
     ]
    },
    {
     "data": {
      "text/latex": [
       "$\\displaystyle \\frac{\\delta_{s} \\left(\\alpha - \\beta c\\right)^{2}}{8 \\beta}$"
      ],
      "text/plain": [
       "delta_s*(alpha - beta*c)**2/(8*beta)"
      ]
     },
     "metadata": {},
     "output_type": "display_data"
    },
    {
     "name": "stdout",
     "output_type": "stream",
     "text": [
      "BDD\n"
     ]
    },
    {
     "data": {
      "text/latex": [
       "$\\displaystyle \\frac{\\left(\\alpha \\delta_{d} - \\beta c \\delta_{s} + \\beta \\delta_{d} \\lambda - \\beta \\delta_{s} \\lambda\\right)^{2}}{8 \\beta \\delta_{d}}$"
      ],
      "text/plain": [
       "(alpha*delta_d - beta*c*delta_s + beta*delta_d*lambda - beta*delta_s*lambda)**2/(8*beta*delta_d)"
      ]
     },
     "metadata": {},
     "output_type": "display_data"
    },
    {
     "name": "stdout",
     "output_type": "stream",
     "text": [
      "BDS\n"
     ]
    },
    {
     "data": {
      "text/latex": [
       "$\\displaystyle \\frac{\\delta_{s} \\left(\\alpha - \\beta c\\right)^{2}}{8 \\beta}$"
      ],
      "text/plain": [
       "delta_s*(alpha - beta*c)**2/(8*beta)"
      ]
     },
     "metadata": {},
     "output_type": "display_data"
    }
   ],
   "source": [
    "df_ = profit_s\n",
    "\n",
    "for i in df_.columns:\n",
    "    print(i)\n",
    "    display(df_[i][\"WH\"])"
   ]
  },
  {
   "cell_type": "markdown",
   "metadata": {},
   "source": [
    "- ### 의외로: Demand Disruption 일어 났을때도, Supplier의 이익에도 영향을 준다 ( 아마 가격의 영향이 큰 것 같다)"
   ]
  },
  {
   "cell_type": "code",
   "execution_count": null,
   "metadata": {},
   "outputs": [],
   "source": []
  },
  {
   "cell_type": "code",
   "execution_count": null,
   "metadata": {},
   "outputs": [],
   "source": []
  },
  {
   "cell_type": "code",
   "execution_count": null,
   "metadata": {},
   "outputs": [],
   "source": []
  },
  {
   "cell_type": "code",
   "execution_count": null,
   "metadata": {},
   "outputs": [],
   "source": []
  },
  {
   "cell_type": "code",
   "execution_count": null,
   "metadata": {},
   "outputs": [],
   "source": []
  },
  {
   "cell_type": "markdown",
   "metadata": {},
   "source": [
    "# 2. Profit sharing (s/all)"
   ]
  },
  {
   "cell_type": "code",
   "execution_count": 31,
   "metadata": {},
   "outputs": [],
   "source": [
    "a_ = concat_all(\"pro_s\",case_)/concat_all(\"pro_all\",case_)"
   ]
  },
  {
   "cell_type": "code",
   "execution_count": 32,
   "metadata": {},
   "outputs": [
    {
     "data": {
      "text/html": [
       "<div>\n",
       "<style scoped>\n",
       "    .dataframe tbody tr th:only-of-type {\n",
       "        vertical-align: middle;\n",
       "    }\n",
       "\n",
       "    .dataframe tbody tr th {\n",
       "        vertical-align: top;\n",
       "    }\n",
       "\n",
       "    .dataframe thead th {\n",
       "        text-align: right;\n",
       "    }\n",
       "</style>\n",
       "<table border=\"1\" class=\"dataframe\">\n",
       "  <thead>\n",
       "    <tr style=\"text-align: right;\">\n",
       "      <th></th>\n",
       "      <th>First</th>\n",
       "      <th>DD</th>\n",
       "      <th>SD</th>\n",
       "      <th>BDD</th>\n",
       "      <th>BDS</th>\n",
       "    </tr>\n",
       "  </thead>\n",
       "  <tbody>\n",
       "    <tr>\n",
       "      <th>FB</th>\n",
       "      <td>nan</td>\n",
       "      <td>nan</td>\n",
       "      <td>nan</td>\n",
       "      <td>nan</td>\n",
       "      <td>nan</td>\n",
       "    </tr>\n",
       "    <tr>\n",
       "      <th>WH</th>\n",
       "      <td>2/3</td>\n",
       "      <td>2/3</td>\n",
       "      <td>2/3</td>\n",
       "      <td>2/3</td>\n",
       "      <td>2/3</td>\n",
       "    </tr>\n",
       "    <tr>\n",
       "      <th>QD</th>\n",
       "      <td>(-alpha + 2*beta*c - beta*w)/(-3*alpha + 2*bet...</td>\n",
       "      <td>(alpha*delta_d - 2*beta*c + beta*delta_d*lambd...</td>\n",
       "      <td>(-alpha + 2*beta*c - beta*w)/(-3*alpha + 2*bet...</td>\n",
       "      <td>(alpha*delta_d - 2*beta*c*delta_s + beta*delta...</td>\n",
       "      <td>(-alpha + 2*beta*c - beta*w)/(-3*alpha + 2*bet...</td>\n",
       "    </tr>\n",
       "  </tbody>\n",
       "</table>\n",
       "</div>"
      ],
      "text/plain": [
       "                                                First  \\\n",
       "FB                                                nan   \n",
       "WH                                                2/3   \n",
       "QD  (-alpha + 2*beta*c - beta*w)/(-3*alpha + 2*bet...   \n",
       "\n",
       "                                                   DD  \\\n",
       "FB                                                nan   \n",
       "WH                                                2/3   \n",
       "QD  (alpha*delta_d - 2*beta*c + beta*delta_d*lambd...   \n",
       "\n",
       "                                                   SD  \\\n",
       "FB                                                nan   \n",
       "WH                                                2/3   \n",
       "QD  (-alpha + 2*beta*c - beta*w)/(-3*alpha + 2*bet...   \n",
       "\n",
       "                                                  BDD  \\\n",
       "FB                                                nan   \n",
       "WH                                                2/3   \n",
       "QD  (alpha*delta_d - 2*beta*c*delta_s + beta*delta...   \n",
       "\n",
       "                                                  BDS  \n",
       "FB                                                nan  \n",
       "WH                                                2/3  \n",
       "QD  (-alpha + 2*beta*c - beta*w)/(-3*alpha + 2*bet...  "
      ]
     },
     "execution_count": 32,
     "metadata": {},
     "output_type": "execute_result"
    }
   ],
   "source": [
    "a_ = a_.apply(lambda x : x.map(lambda y: y.simplify()))\n",
    "a_"
   ]
  },
  {
   "cell_type": "code",
   "execution_count": 33,
   "metadata": {},
   "outputs": [
    {
     "name": "stdout",
     "output_type": "stream",
     "text": [
      "First\n"
     ]
    },
    {
     "data": {
      "text/latex": [
       "$\\displaystyle \\frac{- \\alpha + 2 \\beta c - \\beta w}{- 3 \\alpha + 2 \\beta c + \\beta w}$"
      ],
      "text/plain": [
       "(-alpha + 2*beta*c - beta*w)/(-3*alpha + 2*beta*c + beta*w)"
      ]
     },
     "metadata": {},
     "output_type": "display_data"
    },
    {
     "name": "stdout",
     "output_type": "stream",
     "text": [
      "DD\n"
     ]
    },
    {
     "data": {
      "text/latex": [
       "$\\displaystyle \\frac{\\alpha \\delta_{d} - 2 \\beta c + \\beta \\delta_{d} \\lambda - \\beta \\lambda + \\beta w}{3 \\alpha \\delta_{d} - 2 \\beta c + 3 \\beta \\delta_{d} \\lambda - 3 \\beta \\lambda - \\beta w}$"
      ],
      "text/plain": [
       "(alpha*delta_d - 2*beta*c + beta*delta_d*lambda - beta*lambda + beta*w)/(3*alpha*delta_d - 2*beta*c + 3*beta*delta_d*lambda - 3*beta*lambda - beta*w)"
      ]
     },
     "metadata": {},
     "output_type": "display_data"
    },
    {
     "name": "stdout",
     "output_type": "stream",
     "text": [
      "SD\n"
     ]
    },
    {
     "data": {
      "text/latex": [
       "$\\displaystyle \\frac{- \\alpha + 2 \\beta c - \\beta w}{- 3 \\alpha + 2 \\beta c + \\beta w}$"
      ],
      "text/plain": [
       "(-alpha + 2*beta*c - beta*w)/(-3*alpha + 2*beta*c + beta*w)"
      ]
     },
     "metadata": {},
     "output_type": "display_data"
    },
    {
     "name": "stdout",
     "output_type": "stream",
     "text": [
      "BDD\n"
     ]
    },
    {
     "data": {
      "text/latex": [
       "$\\displaystyle \\frac{\\alpha \\delta_{d} - 2 \\beta c \\delta_{s} + \\beta \\delta_{d} \\lambda - \\beta \\delta_{s} \\lambda + \\beta \\delta_{s} w}{3 \\alpha \\delta_{d} - 2 \\beta c \\delta_{s} + 3 \\beta \\delta_{d} \\lambda - 3 \\beta \\delta_{s} \\lambda - \\beta \\delta_{s} w}$"
      ],
      "text/plain": [
       "(alpha*delta_d - 2*beta*c*delta_s + beta*delta_d*lambda - beta*delta_s*lambda + beta*delta_s*w)/(3*alpha*delta_d - 2*beta*c*delta_s + 3*beta*delta_d*lambda - 3*beta*delta_s*lambda - beta*delta_s*w)"
      ]
     },
     "metadata": {},
     "output_type": "display_data"
    },
    {
     "name": "stdout",
     "output_type": "stream",
     "text": [
      "BDS\n"
     ]
    },
    {
     "data": {
      "text/latex": [
       "$\\displaystyle \\frac{- \\alpha + 2 \\beta c - \\beta w}{- 3 \\alpha + 2 \\beta c + \\beta w}$"
      ],
      "text/plain": [
       "(-alpha + 2*beta*c - beta*w)/(-3*alpha + 2*beta*c + beta*w)"
      ]
     },
     "metadata": {},
     "output_type": "display_data"
    }
   ],
   "source": [
    "for i in a_.columns:\n",
    "    print(i)\n",
    "    display(a_[i][\"QD\"])"
   ]
  },
  {
   "cell_type": "markdown",
   "metadata": {},
   "source": [
    "- WH 는 어떠한 상황에도 동일하게 supplier's profit share 은 동일하다. \n",
    "- QD 는, supply disruption 일때 supplier' profit share 정도를 유지 시켜준다."
   ]
  },
  {
   "cell_type": "code",
   "execution_count": null,
   "metadata": {},
   "outputs": [],
   "source": []
  },
  {
   "cell_type": "code",
   "execution_count": null,
   "metadata": {},
   "outputs": [],
   "source": []
  },
  {
   "cell_type": "markdown",
   "metadata": {},
   "source": [
    "# Numerical Anal"
   ]
  },
  {
   "cell_type": "code",
   "execution_count": 34,
   "metadata": {},
   "outputs": [
    {
     "data": {
      "text/plain": [
       "Index(['p', 'q', 'D', 'pro_all', 'h1', 'w', 'p_w', 'S', 'T', 'pro_r', 'pro_s',\n",
       "       'h1_r_p', 'h1_s_w', 'theta', 'p_w_theta', 'h1_s_th', 'h2_s'],\n",
       "      dtype='object')"
      ]
     },
     "execution_count": 34,
     "metadata": {},
     "output_type": "execute_result"
    }
   ],
   "source": [
    "First_all.index"
   ]
  },
  {
   "cell_type": "code",
   "execution_count": 35,
   "metadata": {},
   "outputs": [
    {
     "data": {
      "text/latex": [
       "$\\displaystyle 141.07$"
      ],
      "text/plain": [
       "141.07"
      ]
     },
     "execution_count": 35,
     "metadata": {},
     "output_type": "execute_result"
    }
   ],
   "source": [
    "round(First_all[\"WH\"][\"p\"].subs([(alpha,1200),(beta,7)]).subs([(c,50)]),2)"
   ]
  },
  {
   "cell_type": "code",
   "execution_count": 36,
   "metadata": {},
   "outputs": [
    {
     "data": {
      "text/latex": [
       "$\\displaystyle 110.71$"
      ],
      "text/plain": [
       "110.71"
      ]
     },
     "execution_count": 36,
     "metadata": {},
     "output_type": "execute_result"
    }
   ],
   "source": [
    "round(First_all[\"WH\"][\"w\"].subs([(alpha,1200),(beta,7)]).subs([(c,50)]),2)"
   ]
  },
  {
   "cell_type": "code",
   "execution_count": 37,
   "metadata": {},
   "outputs": [
    {
     "data": {
      "text/plain": [
       "p                (3*alpha + beta*c)/(4*beta)\n",
       "q                         alpha/4 - beta*c/4\n",
       "D                         alpha/4 - beta*c/4\n",
       "pro_all      3*(alpha - beta*c)**2/(16*beta)\n",
       "h1                                       NaN\n",
       "w                  (alpha + beta*c)/(2*beta)\n",
       "p_w                (alpha + beta*w)/(2*beta)\n",
       "S                         alpha/4 - beta*c/4\n",
       "T                  (alpha + beta*c)/(2*beta)\n",
       "pro_r          (alpha - beta*c)**2/(16*beta)\n",
       "pro_s           (alpha - beta*c)**2/(8*beta)\n",
       "h1_r_p                               -2*beta\n",
       "h1_s_w                                 -beta\n",
       "theta                                    NaN\n",
       "p_w_theta                                NaN\n",
       "h1_s_th                                  NaN\n",
       "h2_s                                     NaN\n",
       "Name: WH, dtype: object"
      ]
     },
     "execution_count": 37,
     "metadata": {},
     "output_type": "execute_result"
    }
   ],
   "source": [
    "First_all[\"WH\"]"
   ]
  },
  {
   "cell_type": "code",
   "execution_count": 38,
   "metadata": {},
   "outputs": [
    {
     "data": {
      "text/plain": [
       "{'alpha': alpha,\n",
       " 'beta': beta,\n",
       " 'p': p,\n",
       " 'c': c,\n",
       " 'w': w,\n",
       " 'theta': theta,\n",
       " 'Delta': Delta,\n",
       " 'delta_s': delta_s,\n",
       " 'delta_d': delta_d,\n",
       " 'lambda_': lambda}"
      ]
     },
     "execution_count": 38,
     "metadata": {},
     "output_type": "execute_result"
    }
   ],
   "source": [
    "parse_dic"
   ]
  },
  {
   "cell_type": "code",
   "execution_count": 39,
   "metadata": {},
   "outputs": [],
   "source": [
    "# 기본적인\n",
    "# basic setting ( w= WH에서 alpha, beta,c 넣어서 나온값)\n",
    "parameter_test = [(alpha,1200),\n",
    "             (beta,7),\n",
    "            (c,50),\n",
    "            (w,100),\n",
    "            (lambda_,60)\n",
    "                 ]\n",
    "parameter_test_2 = [(alpha,1200),\n",
    "             (beta,7),\n",
    "            (c,50),\n",
    "            (w,100),\n",
    "            (lambda_,60),\n",
    "                 (theta,0.0461)]\n"
   ]
  },
  {
   "cell_type": "code",
   "execution_count": null,
   "metadata": {},
   "outputs": [],
   "source": [
    "parameter_test = [(alpha,1200),\n",
    "             (beta,7),\n",
    "            (c,50),\n",
    "            (w,100),\n",
    "            (epsilon,60)\n",
    "                 ]\n"
   ]
  },
  {
   "cell_type": "code",
   "execution_count": 40,
   "metadata": {},
   "outputs": [],
   "source": [
    "def subs_lambda(y,params):\n",
    "    try:\n",
    "        out_ = y.subs(params)\n",
    "        try:\n",
    "            out_ = round(out_,3)\n",
    "        except:\n",
    "            pass\n",
    "    except:\n",
    "        out_ = 0\n",
    "    return out_"
   ]
  },
  {
   "cell_type": "code",
   "execution_count": 41,
   "metadata": {},
   "outputs": [],
   "source": [
    "def apply_num(df,para_list):\n",
    "    return df.apply(lambda x : x.map(lambda y: subs_lambda(y,para_list)))"
   ]
  },
  {
   "cell_type": "code",
   "execution_count": 42,
   "metadata": {},
   "outputs": [
    {
     "data": {
      "text/html": [
       "<div>\n",
       "<style scoped>\n",
       "    .dataframe tbody tr th:only-of-type {\n",
       "        vertical-align: middle;\n",
       "    }\n",
       "\n",
       "    .dataframe tbody tr th {\n",
       "        vertical-align: top;\n",
       "    }\n",
       "\n",
       "    .dataframe thead th {\n",
       "        text-align: right;\n",
       "    }\n",
       "</style>\n",
       "<table border=\"1\" class=\"dataframe\">\n",
       "  <thead>\n",
       "    <tr style=\"text-align: right;\">\n",
       "      <th></th>\n",
       "      <th>FB</th>\n",
       "      <th>WH</th>\n",
       "      <th>QD</th>\n",
       "    </tr>\n",
       "  </thead>\n",
       "  <tbody>\n",
       "    <tr>\n",
       "      <th>p</th>\n",
       "      <td>110.714</td>\n",
       "      <td>141.071</td>\n",
       "      <td>128.571</td>\n",
       "    </tr>\n",
       "    <tr>\n",
       "      <th>q</th>\n",
       "      <td>425</td>\n",
       "      <td>212.500</td>\n",
       "      <td>300</td>\n",
       "    </tr>\n",
       "    <tr>\n",
       "      <th>D</th>\n",
       "      <td>425</td>\n",
       "      <td>212.500</td>\n",
       "      <td>300</td>\n",
       "    </tr>\n",
       "    <tr>\n",
       "      <th>pro_all</th>\n",
       "      <td>25803.571</td>\n",
       "      <td>19352.679</td>\n",
       "      <td>23571.429</td>\n",
       "    </tr>\n",
       "    <tr>\n",
       "      <th>h1</th>\n",
       "      <td>-14</td>\n",
       "      <td>0</td>\n",
       "      <td>0</td>\n",
       "    </tr>\n",
       "    <tr>\n",
       "      <th>w</th>\n",
       "      <td>0</td>\n",
       "      <td>110.714</td>\n",
       "      <td>100</td>\n",
       "    </tr>\n",
       "    <tr>\n",
       "      <th>p_w</th>\n",
       "      <td>0</td>\n",
       "      <td>135.714</td>\n",
       "      <td>0</td>\n",
       "    </tr>\n",
       "    <tr>\n",
       "      <th>S</th>\n",
       "      <td>0</td>\n",
       "      <td>212.500</td>\n",
       "      <td>300</td>\n",
       "    </tr>\n",
       "    <tr>\n",
       "      <th>T</th>\n",
       "      <td>0</td>\n",
       "      <td>110.714</td>\n",
       "      <td>92.857</td>\n",
       "    </tr>\n",
       "    <tr>\n",
       "      <th>pro_r</th>\n",
       "      <td>0</td>\n",
       "      <td>6450.893</td>\n",
       "      <td>10714.286</td>\n",
       "    </tr>\n",
       "    <tr>\n",
       "      <th>pro_s</th>\n",
       "      <td>0</td>\n",
       "      <td>12901.786</td>\n",
       "      <td>12857.143</td>\n",
       "    </tr>\n",
       "    <tr>\n",
       "      <th>h1_r_p</th>\n",
       "      <td>0</td>\n",
       "      <td>-14</td>\n",
       "      <td>98*theta - 14</td>\n",
       "    </tr>\n",
       "    <tr>\n",
       "      <th>h1_s_w</th>\n",
       "      <td>0</td>\n",
       "      <td>-7</td>\n",
       "      <td>7*(7*theta - 2)/(2*(7*theta - 1)**2)</td>\n",
       "    </tr>\n",
       "    <tr>\n",
       "      <th>theta</th>\n",
       "      <td>0</td>\n",
       "      <td>0</td>\n",
       "      <td>0.024</td>\n",
       "    </tr>\n",
       "    <tr>\n",
       "      <th>p_w_theta</th>\n",
       "      <td>0</td>\n",
       "      <td>0</td>\n",
       "      <td>(1900 - 16800*theta)/(14 - 98*theta)</td>\n",
       "    </tr>\n",
       "    <tr>\n",
       "      <th>h1_s_th</th>\n",
       "      <td>0</td>\n",
       "      <td>0</td>\n",
       "      <td>-1750*(8400*theta + 300)/(7*theta - 1)**4</td>\n",
       "    </tr>\n",
       "    <tr>\n",
       "      <th>h2_s</th>\n",
       "      <td>0</td>\n",
       "      <td>0</td>\n",
       "      <td>-2401*(850*theta - 50)**2/(4*(7*theta - 1)**6)</td>\n",
       "    </tr>\n",
       "  </tbody>\n",
       "</table>\n",
       "</div>"
      ],
      "text/plain": [
       "                  FB         WH  \\\n",
       "p            110.714    141.071   \n",
       "q                425    212.500   \n",
       "D                425    212.500   \n",
       "pro_all    25803.571  19352.679   \n",
       "h1               -14          0   \n",
       "w                  0    110.714   \n",
       "p_w                0    135.714   \n",
       "S                  0    212.500   \n",
       "T                  0    110.714   \n",
       "pro_r              0   6450.893   \n",
       "pro_s              0  12901.786   \n",
       "h1_r_p             0        -14   \n",
       "h1_s_w             0         -7   \n",
       "theta              0          0   \n",
       "p_w_theta          0          0   \n",
       "h1_s_th            0          0   \n",
       "h2_s               0          0   \n",
       "\n",
       "                                                       QD  \n",
       "p                                                 128.571  \n",
       "q                                                     300  \n",
       "D                                                     300  \n",
       "pro_all                                         23571.429  \n",
       "h1                                                      0  \n",
       "w                                                     100  \n",
       "p_w                                                     0  \n",
       "S                                                     300  \n",
       "T                                                  92.857  \n",
       "pro_r                                           10714.286  \n",
       "pro_s                                           12857.143  \n",
       "h1_r_p                                      98*theta - 14  \n",
       "h1_s_w               7*(7*theta - 2)/(2*(7*theta - 1)**2)  \n",
       "theta                                               0.024  \n",
       "p_w_theta            (1900 - 16800*theta)/(14 - 98*theta)  \n",
       "h1_s_th         -1750*(8400*theta + 300)/(7*theta - 1)**4  \n",
       "h2_s       -2401*(850*theta - 50)**2/(4*(7*theta - 1)**6)  "
      ]
     },
     "execution_count": 42,
     "metadata": {},
     "output_type": "execute_result"
    }
   ],
   "source": [
    "First_num = apply_num(First_all,parameter_test)\n",
    "First_num"
   ]
  },
  {
   "cell_type": "code",
   "execution_count": 43,
   "metadata": {},
   "outputs": [
    {
     "data": {
      "text/html": [
       "<div>\n",
       "<style scoped>\n",
       "    .dataframe tbody tr th:only-of-type {\n",
       "        vertical-align: middle;\n",
       "    }\n",
       "\n",
       "    .dataframe tbody tr th {\n",
       "        vertical-align: top;\n",
       "    }\n",
       "\n",
       "    .dataframe thead th {\n",
       "        text-align: right;\n",
       "    }\n",
       "</style>\n",
       "<table border=\"1\" class=\"dataframe\">\n",
       "  <thead>\n",
       "    <tr style=\"text-align: right;\">\n",
       "      <th></th>\n",
       "      <th>FB</th>\n",
       "      <th>WH</th>\n",
       "      <th>QD</th>\n",
       "    </tr>\n",
       "  </thead>\n",
       "  <tbody>\n",
       "    <tr>\n",
       "      <th>p</th>\n",
       "      <td>110.714</td>\n",
       "      <td>141.071</td>\n",
       "      <td>128.571</td>\n",
       "    </tr>\n",
       "    <tr>\n",
       "      <th>q</th>\n",
       "      <td>425</td>\n",
       "      <td>212.500</td>\n",
       "      <td>300</td>\n",
       "    </tr>\n",
       "    <tr>\n",
       "      <th>D</th>\n",
       "      <td>425</td>\n",
       "      <td>212.500</td>\n",
       "      <td>300</td>\n",
       "    </tr>\n",
       "    <tr>\n",
       "      <th>pro_all</th>\n",
       "      <td>25803.571</td>\n",
       "      <td>19352.679</td>\n",
       "      <td>23571.429</td>\n",
       "    </tr>\n",
       "    <tr>\n",
       "      <th>h1</th>\n",
       "      <td>-14</td>\n",
       "      <td>0</td>\n",
       "      <td>0</td>\n",
       "    </tr>\n",
       "    <tr>\n",
       "      <th>w</th>\n",
       "      <td>0</td>\n",
       "      <td>110.714</td>\n",
       "      <td>100</td>\n",
       "    </tr>\n",
       "    <tr>\n",
       "      <th>p_w</th>\n",
       "      <td>0</td>\n",
       "      <td>135.714</td>\n",
       "      <td>0</td>\n",
       "    </tr>\n",
       "    <tr>\n",
       "      <th>S</th>\n",
       "      <td>0</td>\n",
       "      <td>212.500</td>\n",
       "      <td>300</td>\n",
       "    </tr>\n",
       "    <tr>\n",
       "      <th>T</th>\n",
       "      <td>0</td>\n",
       "      <td>110.714</td>\n",
       "      <td>92.857</td>\n",
       "    </tr>\n",
       "    <tr>\n",
       "      <th>pro_r</th>\n",
       "      <td>0</td>\n",
       "      <td>6450.893</td>\n",
       "      <td>10714.286</td>\n",
       "    </tr>\n",
       "    <tr>\n",
       "      <th>pro_s</th>\n",
       "      <td>0</td>\n",
       "      <td>12901.786</td>\n",
       "      <td>12857.143</td>\n",
       "    </tr>\n",
       "    <tr>\n",
       "      <th>h1_r_p</th>\n",
       "      <td>0</td>\n",
       "      <td>-14</td>\n",
       "      <td>-9.482</td>\n",
       "    </tr>\n",
       "    <tr>\n",
       "      <th>h1_s_w</th>\n",
       "      <td>0</td>\n",
       "      <td>-7</td>\n",
       "      <td>-12.797</td>\n",
       "    </tr>\n",
       "    <tr>\n",
       "      <th>theta</th>\n",
       "      <td>0</td>\n",
       "      <td>0</td>\n",
       "      <td>0.024</td>\n",
       "    </tr>\n",
       "    <tr>\n",
       "      <th>p_w_theta</th>\n",
       "      <td>0</td>\n",
       "      <td>0</td>\n",
       "      <td>118.698</td>\n",
       "    </tr>\n",
       "    <tr>\n",
       "      <th>h1_s_th</th>\n",
       "      <td>0</td>\n",
       "      <td>0</td>\n",
       "      <td>-5715078.176</td>\n",
       "    </tr>\n",
       "    <tr>\n",
       "      <th>h2_s</th>\n",
       "      <td>0</td>\n",
       "      <td>0</td>\n",
       "      <td>-727275.174</td>\n",
       "    </tr>\n",
       "  </tbody>\n",
       "</table>\n",
       "</div>"
      ],
      "text/plain": [
       "                  FB         WH            QD\n",
       "p            110.714    141.071       128.571\n",
       "q                425    212.500           300\n",
       "D                425    212.500           300\n",
       "pro_all    25803.571  19352.679     23571.429\n",
       "h1               -14          0             0\n",
       "w                  0    110.714           100\n",
       "p_w                0    135.714             0\n",
       "S                  0    212.500           300\n",
       "T                  0    110.714        92.857\n",
       "pro_r              0   6450.893     10714.286\n",
       "pro_s              0  12901.786     12857.143\n",
       "h1_r_p             0        -14        -9.482\n",
       "h1_s_w             0         -7       -12.797\n",
       "theta              0          0         0.024\n",
       "p_w_theta          0          0       118.698\n",
       "h1_s_th            0          0  -5715078.176\n",
       "h2_s               0          0   -727275.174"
      ]
     },
     "execution_count": 43,
     "metadata": {},
     "output_type": "execute_result"
    }
   ],
   "source": [
    "First_num = apply_num(First_all,parameter_test_2)\n",
    "First_num"
   ]
  },
  {
   "cell_type": "code",
   "execution_count": 44,
   "metadata": {},
   "outputs": [
    {
     "data": {
      "text/html": [
       "<div>\n",
       "<style scoped>\n",
       "    .dataframe tbody tr th:only-of-type {\n",
       "        vertical-align: middle;\n",
       "    }\n",
       "\n",
       "    .dataframe tbody tr th {\n",
       "        vertical-align: top;\n",
       "    }\n",
       "\n",
       "    .dataframe thead th {\n",
       "        text-align: right;\n",
       "    }\n",
       "</style>\n",
       "<table border=\"1\" class=\"dataframe\">\n",
       "  <thead>\n",
       "    <tr style=\"text-align: right;\">\n",
       "      <th></th>\n",
       "      <th>FB</th>\n",
       "      <th>WH</th>\n",
       "      <th>QD</th>\n",
       "    </tr>\n",
       "  </thead>\n",
       "  <tbody>\n",
       "    <tr>\n",
       "      <th>p</th>\n",
       "      <td>110.714</td>\n",
       "      <td>(3180*delta_d + 770)/(28*delta_d)</td>\n",
       "      <td>(3180*delta_d + 420)/(28*delta_d)</td>\n",
       "    </tr>\n",
       "    <tr>\n",
       "      <th>q</th>\n",
       "      <td>425</td>\n",
       "      <td>(1620*delta_d - 770)/(4*delta_d)</td>\n",
       "      <td>(1620*delta_d - 420)/(4*delta_d)</td>\n",
       "    </tr>\n",
       "    <tr>\n",
       "      <th>D</th>\n",
       "      <td>425*delta_d</td>\n",
       "      <td>405*delta_d - 385/2</td>\n",
       "      <td>405*delta_d - 105</td>\n",
       "    </tr>\n",
       "    <tr>\n",
       "      <th>pro_all</th>\n",
       "      <td>180625*delta_d/7</td>\n",
       "      <td>3*(770 - 1620*delta_d)**2/(112*delta_d)</td>\n",
       "      <td>(1620*delta_d - 1120)*(1620*delta_d - 420)/(56...</td>\n",
       "    </tr>\n",
       "    <tr>\n",
       "      <th>h1</th>\n",
       "      <td>-14*delta_d</td>\n",
       "      <td>0</td>\n",
       "      <td>0</td>\n",
       "    </tr>\n",
       "    <tr>\n",
       "      <th>w</th>\n",
       "      <td>0</td>\n",
       "      <td>810*delta_d/7 - 5</td>\n",
       "      <td>100</td>\n",
       "    </tr>\n",
       "    <tr>\n",
       "      <th>p_w</th>\n",
       "      <td>0</td>\n",
       "      <td>(780*delta_d + 1120)/(14*delta_d)</td>\n",
       "      <td>0</td>\n",
       "    </tr>\n",
       "    <tr>\n",
       "      <th>S</th>\n",
       "      <td>0</td>\n",
       "      <td>(1620*delta_d - 770)/(4*delta_d)</td>\n",
       "      <td>(1620*delta_d - 420)/(4*delta_d)</td>\n",
       "    </tr>\n",
       "    <tr>\n",
       "      <th>T</th>\n",
       "      <td>0</td>\n",
       "      <td>810*delta_d/7 - 5</td>\n",
       "      <td>405*delta_d/7 + 35</td>\n",
       "    </tr>\n",
       "    <tr>\n",
       "      <th>pro_r</th>\n",
       "      <td>0</td>\n",
       "      <td>(770 - 1620*delta_d)**2/(112*delta_d)</td>\n",
       "      <td>(1620*delta_d - 1120)*(1620*delta_d - 420)/(56...</td>\n",
       "    </tr>\n",
       "    <tr>\n",
       "      <th>pro_s</th>\n",
       "      <td>0</td>\n",
       "      <td>(770 - 1620*delta_d)**2/(56*delta_d)</td>\n",
       "      <td>(1620*delta_d - 420)**2/(112*delta_d)</td>\n",
       "    </tr>\n",
       "    <tr>\n",
       "      <th>h1_r_p</th>\n",
       "      <td>0</td>\n",
       "      <td>-14*delta_d</td>\n",
       "      <td>-14*delta_d + 98*theta</td>\n",
       "    </tr>\n",
       "    <tr>\n",
       "      <th>h1_s_w</th>\n",
       "      <td>0</td>\n",
       "      <td>-7/delta_d</td>\n",
       "      <td>-7*(2*delta_d - 7*theta)/(2*(delta_d - 7*theta...</td>\n",
       "    </tr>\n",
       "    <tr>\n",
       "      <th>theta</th>\n",
       "      <td>0</td>\n",
       "      <td>0</td>\n",
       "      <td>-delta_d*(1620*delta_d - 1820)/(7*(1620*delta_...</td>\n",
       "    </tr>\n",
       "    <tr>\n",
       "      <th>p_w_theta</th>\n",
       "      <td>0</td>\n",
       "      <td>0</td>\n",
       "      <td>(780*delta_d - 16800*theta + 1120)/(14*delta_d...</td>\n",
       "    </tr>\n",
       "    <tr>\n",
       "      <th>h1_s_th</th>\n",
       "      <td>0</td>\n",
       "      <td>0</td>\n",
       "      <td>-7*(1620*delta_d - 1120)*(3240*delta_d**2 + 11...</td>\n",
       "    </tr>\n",
       "    <tr>\n",
       "      <th>h2_s</th>\n",
       "      <td>0</td>\n",
       "      <td>0</td>\n",
       "      <td>-2401*(1620*delta_d*theta - 50*delta_d - 770*t...</td>\n",
       "    </tr>\n",
       "  </tbody>\n",
       "</table>\n",
       "</div>"
      ],
      "text/plain": [
       "                         FB                                       WH  \\\n",
       "p                   110.714        (3180*delta_d + 770)/(28*delta_d)   \n",
       "q                       425         (1620*delta_d - 770)/(4*delta_d)   \n",
       "D               425*delta_d                      405*delta_d - 385/2   \n",
       "pro_all    180625*delta_d/7  3*(770 - 1620*delta_d)**2/(112*delta_d)   \n",
       "h1              -14*delta_d                                        0   \n",
       "w                         0                        810*delta_d/7 - 5   \n",
       "p_w                       0        (780*delta_d + 1120)/(14*delta_d)   \n",
       "S                         0         (1620*delta_d - 770)/(4*delta_d)   \n",
       "T                         0                        810*delta_d/7 - 5   \n",
       "pro_r                     0    (770 - 1620*delta_d)**2/(112*delta_d)   \n",
       "pro_s                     0     (770 - 1620*delta_d)**2/(56*delta_d)   \n",
       "h1_r_p                    0                              -14*delta_d   \n",
       "h1_s_w                    0                               -7/delta_d   \n",
       "theta                     0                                        0   \n",
       "p_w_theta                 0                                        0   \n",
       "h1_s_th                   0                                        0   \n",
       "h2_s                      0                                        0   \n",
       "\n",
       "                                                          QD  \n",
       "p                          (3180*delta_d + 420)/(28*delta_d)  \n",
       "q                           (1620*delta_d - 420)/(4*delta_d)  \n",
       "D                                          405*delta_d - 105  \n",
       "pro_all    (1620*delta_d - 1120)*(1620*delta_d - 420)/(56...  \n",
       "h1                                                         0  \n",
       "w                                                        100  \n",
       "p_w                                                        0  \n",
       "S                           (1620*delta_d - 420)/(4*delta_d)  \n",
       "T                                         405*delta_d/7 + 35  \n",
       "pro_r      (1620*delta_d - 1120)*(1620*delta_d - 420)/(56...  \n",
       "pro_s                  (1620*delta_d - 420)**2/(112*delta_d)  \n",
       "h1_r_p                                -14*delta_d + 98*theta  \n",
       "h1_s_w     -7*(2*delta_d - 7*theta)/(2*(delta_d - 7*theta...  \n",
       "theta      -delta_d*(1620*delta_d - 1820)/(7*(1620*delta_...  \n",
       "p_w_theta  (780*delta_d - 16800*theta + 1120)/(14*delta_d...  \n",
       "h1_s_th    -7*(1620*delta_d - 1120)*(3240*delta_d**2 + 11...  \n",
       "h2_s       -2401*(1620*delta_d*theta - 50*delta_d - 770*t...  "
      ]
     },
     "execution_count": 44,
     "metadata": {},
     "output_type": "execute_result"
    }
   ],
   "source": [
    "DD_num = apply_num(DD_all,parameter_test)\n",
    "DD_num"
   ]
  },
  {
   "cell_type": "code",
   "execution_count": null,
   "metadata": {},
   "outputs": [],
   "source": []
  },
  {
   "cell_type": "markdown",
   "metadata": {},
   "source": [
    "## profit_all"
   ]
  },
  {
   "cell_type": "code",
   "execution_count": 74,
   "metadata": {},
   "outputs": [],
   "source": [
    "def parameter_set(lam,del_d,del_s):\n",
    "    parameter_basic = [\n",
    "    (alpha,1200),\n",
    "    (beta,7),\n",
    "    (c,50),\n",
    "    (w,120),\n",
    "    (lambda_,lam),\n",
    "    (delta_d,del_d),\n",
    "    (delta_s,del_s)]\n",
    "    return parameter_basic  "
   ]
  },
  {
   "cell_type": "code",
   "execution_count": 96,
   "metadata": {},
   "outputs": [],
   "source": [
    "# 기본적인\n",
    "# basic setting ( w= WH에서 alpha, beta,c 넣어서 나온값)\n",
    "parameter_test = parameter_set(10,0.8,0.8)\n",
    "parameter_test_2 = parameter_set(10,0.8,0.7)\n",
    "parameter_test_3 = parameter_set(10,0.7,0.8)\n",
    "parameter_test_4 = parameter_set(0,0.8,0.8)\n"
   ]
  },
  {
   "cell_type": "code",
   "execution_count": 97,
   "metadata": {},
   "outputs": [
    {
     "data": {
      "text/html": [
       "<div>\n",
       "<style scoped>\n",
       "    .dataframe tbody tr th:only-of-type {\n",
       "        vertical-align: middle;\n",
       "    }\n",
       "\n",
       "    .dataframe tbody tr th {\n",
       "        vertical-align: top;\n",
       "    }\n",
       "\n",
       "    .dataframe thead th {\n",
       "        text-align: right;\n",
       "    }\n",
       "</style>\n",
       "<table border=\"1\" class=\"dataframe\">\n",
       "  <thead>\n",
       "    <tr style=\"text-align: right;\">\n",
       "      <th></th>\n",
       "      <th>First</th>\n",
       "      <th>DD</th>\n",
       "      <th>SD</th>\n",
       "      <th>BDD</th>\n",
       "      <th>BDS</th>\n",
       "    </tr>\n",
       "  </thead>\n",
       "  <tbody>\n",
       "    <tr>\n",
       "      <th>FB</th>\n",
       "      <td>(alpha - beta*c)**2/(4*beta)</td>\n",
       "      <td>delta_d*(alpha - beta*c)**2/(4*beta)</td>\n",
       "      <td>delta_s*(alpha - beta*c)**2/(4*beta)</td>\n",
       "      <td>delta_d*(alpha - beta*c)**2/(4*beta)</td>\n",
       "      <td>delta_s*(alpha - beta*c)**2/(4*beta)</td>\n",
       "    </tr>\n",
       "    <tr>\n",
       "      <th>WH</th>\n",
       "      <td>3*(alpha - beta*c)**2/(16*beta)</td>\n",
       "      <td>3*(-alpha*delta_d + beta*c - beta*delta_d*lamb...</td>\n",
       "      <td>3*delta_s*(alpha - beta*c)**2/(16*beta)</td>\n",
       "      <td>3*(alpha*delta_d - beta*c*delta_s + beta*delta...</td>\n",
       "      <td>3*delta_s*(alpha - beta*c)**2/(16*beta)</td>\n",
       "    </tr>\n",
       "    <tr>\n",
       "      <th>QD</th>\n",
       "      <td>(3*alpha**2 - 8*alpha*beta*c + 2*alpha*beta*w ...</td>\n",
       "      <td>(alpha*delta_d + beta*delta_d*lambda - beta*la...</td>\n",
       "      <td>delta_s*(3*alpha**2 - 8*alpha*beta*c + 2*alpha...</td>\n",
       "      <td>(alpha*delta_d + beta*delta_d*lambda - beta*de...</td>\n",
       "      <td>delta_s*(3*alpha**2 - 8*alpha*beta*c + 2*alpha...</td>\n",
       "    </tr>\n",
       "  </tbody>\n",
       "</table>\n",
       "</div>"
      ],
      "text/plain": [
       "                                                First  \\\n",
       "FB                       (alpha - beta*c)**2/(4*beta)   \n",
       "WH                    3*(alpha - beta*c)**2/(16*beta)   \n",
       "QD  (3*alpha**2 - 8*alpha*beta*c + 2*alpha*beta*w ...   \n",
       "\n",
       "                                                   DD  \\\n",
       "FB               delta_d*(alpha - beta*c)**2/(4*beta)   \n",
       "WH  3*(-alpha*delta_d + beta*c - beta*delta_d*lamb...   \n",
       "QD  (alpha*delta_d + beta*delta_d*lambda - beta*la...   \n",
       "\n",
       "                                                   SD  \\\n",
       "FB               delta_s*(alpha - beta*c)**2/(4*beta)   \n",
       "WH            3*delta_s*(alpha - beta*c)**2/(16*beta)   \n",
       "QD  delta_s*(3*alpha**2 - 8*alpha*beta*c + 2*alpha...   \n",
       "\n",
       "                                                  BDD  \\\n",
       "FB               delta_d*(alpha - beta*c)**2/(4*beta)   \n",
       "WH  3*(alpha*delta_d - beta*c*delta_s + beta*delta...   \n",
       "QD  (alpha*delta_d + beta*delta_d*lambda - beta*de...   \n",
       "\n",
       "                                                  BDS  \n",
       "FB               delta_s*(alpha - beta*c)**2/(4*beta)  \n",
       "WH            3*delta_s*(alpha - beta*c)**2/(16*beta)  \n",
       "QD  delta_s*(3*alpha**2 - 8*alpha*beta*c + 2*alpha...  "
      ]
     },
     "execution_count": 97,
     "metadata": {},
     "output_type": "execute_result"
    }
   ],
   "source": [
    "profit_all = concat_all(\"pro_all\",case_)\n",
    "profit_all"
   ]
  },
  {
   "cell_type": "code",
   "execution_count": 115,
   "metadata": {},
   "outputs": [
    {
     "data": {
      "text/html": [
       "<div>\n",
       "<style scoped>\n",
       "    .dataframe tbody tr th:only-of-type {\n",
       "        vertical-align: middle;\n",
       "    }\n",
       "\n",
       "    .dataframe tbody tr th {\n",
       "        vertical-align: top;\n",
       "    }\n",
       "\n",
       "    .dataframe thead th {\n",
       "        text-align: right;\n",
       "    }\n",
       "</style>\n",
       "<table border=\"1\" class=\"dataframe\">\n",
       "  <thead>\n",
       "    <tr style=\"text-align: right;\">\n",
       "      <th></th>\n",
       "      <th>First</th>\n",
       "      <th>DD</th>\n",
       "      <th>SD</th>\n",
       "    </tr>\n",
       "  </thead>\n",
       "  <tbody>\n",
       "    <tr>\n",
       "      <th>FB</th>\n",
       "      <td>25803.571</td>\n",
       "      <td>20642.857</td>\n",
       "      <td>20642.857</td>\n",
       "    </tr>\n",
       "    <tr>\n",
       "      <th>WH</th>\n",
       "      <td>19352.679</td>\n",
       "      <td>11893.393</td>\n",
       "      <td>15482.143</td>\n",
       "    </tr>\n",
       "    <tr>\n",
       "      <th>QD</th>\n",
       "      <td>24646.429</td>\n",
       "      <td>15732.455</td>\n",
       "      <td>19717.143</td>\n",
       "    </tr>\n",
       "  </tbody>\n",
       "</table>\n",
       "</div>"
      ],
      "text/plain": [
       "        First         DD         SD\n",
       "FB  25803.571  20642.857  20642.857\n",
       "WH  19352.679  11893.393  15482.143\n",
       "QD  24646.429  15732.455  19717.143"
      ]
     },
     "execution_count": 115,
     "metadata": {},
     "output_type": "execute_result"
    }
   ],
   "source": [
    "profit_all_num = apply_num(profit_all,parameter_test)\n",
    "profit_all_num.drop(columns=[\"BDD\",\"BDS\"])"
   ]
  },
  {
   "cell_type": "code",
   "execution_count": 99,
   "metadata": {},
   "outputs": [
    {
     "data": {
      "text/html": [
       "<div>\n",
       "<style scoped>\n",
       "    .dataframe tbody tr th:only-of-type {\n",
       "        vertical-align: middle;\n",
       "    }\n",
       "\n",
       "    .dataframe tbody tr th {\n",
       "        vertical-align: top;\n",
       "    }\n",
       "\n",
       "    .dataframe thead th {\n",
       "        text-align: right;\n",
       "    }\n",
       "</style>\n",
       "<table border=\"1\" class=\"dataframe\">\n",
       "  <thead>\n",
       "    <tr style=\"text-align: right;\">\n",
       "      <th></th>\n",
       "      <th>First</th>\n",
       "      <th>DD</th>\n",
       "      <th>SD</th>\n",
       "      <th>BDS</th>\n",
       "    </tr>\n",
       "  </thead>\n",
       "  <tbody>\n",
       "    <tr>\n",
       "      <th>FB</th>\n",
       "      <td>25803.571</td>\n",
       "      <td>20642.857</td>\n",
       "      <td>18062.500</td>\n",
       "      <td>18062.500</td>\n",
       "    </tr>\n",
       "    <tr>\n",
       "      <th>WH</th>\n",
       "      <td>19352.679</td>\n",
       "      <td>11893.393</td>\n",
       "      <td>13546.875</td>\n",
       "      <td>13546.875</td>\n",
       "    </tr>\n",
       "    <tr>\n",
       "      <th>QD</th>\n",
       "      <td>24646.429</td>\n",
       "      <td>15732.455</td>\n",
       "      <td>17252.500</td>\n",
       "      <td>17252.500</td>\n",
       "    </tr>\n",
       "  </tbody>\n",
       "</table>\n",
       "</div>"
      ],
      "text/plain": [
       "        First         DD         SD        BDS\n",
       "FB  25803.571  20642.857  18062.500  18062.500\n",
       "WH  19352.679  11893.393  13546.875  13546.875\n",
       "QD  24646.429  15732.455  17252.500  17252.500"
      ]
     },
     "execution_count": 99,
     "metadata": {},
     "output_type": "execute_result"
    }
   ],
   "source": [
    "# parameter test 2 는 SD 와 BDS 비교가 적당하다. ( parameter setting 자체가 DD < SD 이기 때문에)\n",
    "# BDD 는 없는셈\n",
    "profit_all_num = apply_num(profit_all,parameter_test_2)\n",
    "profit_all_num.drop(columns=\"BDD\")"
   ]
  },
  {
   "cell_type": "code",
   "execution_count": 100,
   "metadata": {},
   "outputs": [
    {
     "data": {
      "text/html": [
       "<div>\n",
       "<style scoped>\n",
       "    .dataframe tbody tr th:only-of-type {\n",
       "        vertical-align: middle;\n",
       "    }\n",
       "\n",
       "    .dataframe tbody tr th {\n",
       "        vertical-align: top;\n",
       "    }\n",
       "\n",
       "    .dataframe thead th {\n",
       "        text-align: right;\n",
       "    }\n",
       "</style>\n",
       "<table border=\"1\" class=\"dataframe\">\n",
       "  <thead>\n",
       "    <tr style=\"text-align: right;\">\n",
       "      <th></th>\n",
       "      <th>First</th>\n",
       "      <th>DD</th>\n",
       "      <th>SD</th>\n",
       "      <th>BDD</th>\n",
       "    </tr>\n",
       "  </thead>\n",
       "  <tbody>\n",
       "    <tr>\n",
       "      <th>FB</th>\n",
       "      <td>25803.571</td>\n",
       "      <td>18062.500</td>\n",
       "      <td>20642.857</td>\n",
       "      <td>18062.500</td>\n",
       "    </tr>\n",
       "    <tr>\n",
       "      <th>WH</th>\n",
       "      <td>19352.679</td>\n",
       "      <td>8416.875</td>\n",
       "      <td>15482.143</td>\n",
       "      <td>11701.875</td>\n",
       "    </tr>\n",
       "    <tr>\n",
       "      <th>QD</th>\n",
       "      <td>24646.429</td>\n",
       "      <td>11216.875</td>\n",
       "      <td>19717.143</td>\n",
       "      <td>15271.875</td>\n",
       "    </tr>\n",
       "  </tbody>\n",
       "</table>\n",
       "</div>"
      ],
      "text/plain": [
       "        First         DD         SD        BDD\n",
       "FB  25803.571  18062.500  20642.857  18062.500\n",
       "WH  19352.679   8416.875  15482.143  11701.875\n",
       "QD  24646.429  11216.875  19717.143  15271.875"
      ]
     },
     "execution_count": 100,
     "metadata": {},
     "output_type": "execute_result"
    }
   ],
   "source": [
    "# parameter test 3 는 DD 와 BDD 비교가 적당하다. ( parameter setting 자체가 DD > SD 이기 때문에)\n",
    "# BDS 는 없는셈\n",
    "profit_all_num = apply_num(profit_all,parameter_test_3)\n",
    "profit_all_num.drop(columns=\"BDS\")"
   ]
  },
  {
   "cell_type": "markdown",
   "metadata": {},
   "source": [
    "### supplier profit"
   ]
  },
  {
   "cell_type": "code",
   "execution_count": 116,
   "metadata": {},
   "outputs": [],
   "source": [
    "DF_ = concat_all(\"pro_s\",case_)"
   ]
  },
  {
   "cell_type": "code",
   "execution_count": 117,
   "metadata": {},
   "outputs": [
    {
     "data": {
      "text/html": [
       "<div>\n",
       "<style scoped>\n",
       "    .dataframe tbody tr th:only-of-type {\n",
       "        vertical-align: middle;\n",
       "    }\n",
       "\n",
       "    .dataframe tbody tr th {\n",
       "        vertical-align: top;\n",
       "    }\n",
       "\n",
       "    .dataframe thead th {\n",
       "        text-align: right;\n",
       "    }\n",
       "</style>\n",
       "<table border=\"1\" class=\"dataframe\">\n",
       "  <thead>\n",
       "    <tr style=\"text-align: right;\">\n",
       "      <th></th>\n",
       "      <th>First</th>\n",
       "      <th>DD</th>\n",
       "      <th>SD</th>\n",
       "      <th>BDD</th>\n",
       "      <th>BDS</th>\n",
       "    </tr>\n",
       "  </thead>\n",
       "  <tbody>\n",
       "    <tr>\n",
       "      <th>FB</th>\n",
       "      <td>NaN</td>\n",
       "      <td>NaN</td>\n",
       "      <td>NaN</td>\n",
       "      <td>NaN</td>\n",
       "      <td>NaN</td>\n",
       "    </tr>\n",
       "    <tr>\n",
       "      <th>WH</th>\n",
       "      <td>(alpha - beta*c)**2/(8*beta)</td>\n",
       "      <td>(-alpha*delta_d + beta*c - beta*delta_d*lambda...</td>\n",
       "      <td>delta_s*(alpha - beta*c)**2/(8*beta)</td>\n",
       "      <td>(alpha*delta_d - beta*c*delta_s + beta*delta_d...</td>\n",
       "      <td>delta_s*(alpha - beta*c)**2/(8*beta)</td>\n",
       "    </tr>\n",
       "    <tr>\n",
       "      <th>QD</th>\n",
       "      <td>(alpha/4 - beta*c/2 + beta*w/4)*(alpha - 2*bet...</td>\n",
       "      <td>(alpha*delta_d - 2*beta*c + beta*delta_d*lambd...</td>\n",
       "      <td>delta_s*(alpha/4 - beta*c/2 + beta*w/4)*(alpha...</td>\n",
       "      <td>(alpha*delta_d - 2*beta*c*delta_s + beta*delta...</td>\n",
       "      <td>delta_s*(alpha/4 - beta*c/2 + beta*w/4)*(alpha...</td>\n",
       "    </tr>\n",
       "  </tbody>\n",
       "</table>\n",
       "</div>"
      ],
      "text/plain": [
       "                                                First  \\\n",
       "FB                                                NaN   \n",
       "WH                       (alpha - beta*c)**2/(8*beta)   \n",
       "QD  (alpha/4 - beta*c/2 + beta*w/4)*(alpha - 2*bet...   \n",
       "\n",
       "                                                   DD  \\\n",
       "FB                                                NaN   \n",
       "WH  (-alpha*delta_d + beta*c - beta*delta_d*lambda...   \n",
       "QD  (alpha*delta_d - 2*beta*c + beta*delta_d*lambd...   \n",
       "\n",
       "                                                   SD  \\\n",
       "FB                                                NaN   \n",
       "WH               delta_s*(alpha - beta*c)**2/(8*beta)   \n",
       "QD  delta_s*(alpha/4 - beta*c/2 + beta*w/4)*(alpha...   \n",
       "\n",
       "                                                  BDD  \\\n",
       "FB                                                NaN   \n",
       "WH  (alpha*delta_d - beta*c*delta_s + beta*delta_d...   \n",
       "QD  (alpha*delta_d - 2*beta*c*delta_s + beta*delta...   \n",
       "\n",
       "                                                  BDS  \n",
       "FB                                                NaN  \n",
       "WH               delta_s*(alpha - beta*c)**2/(8*beta)  \n",
       "QD  delta_s*(alpha/4 - beta*c/2 + beta*w/4)*(alpha...  "
      ]
     },
     "execution_count": 117,
     "metadata": {},
     "output_type": "execute_result"
    }
   ],
   "source": [
    "DF_"
   ]
  },
  {
   "cell_type": "code",
   "execution_count": 118,
   "metadata": {},
   "outputs": [
    {
     "data": {
      "text/html": [
       "<div>\n",
       "<style scoped>\n",
       "    .dataframe tbody tr th:only-of-type {\n",
       "        vertical-align: middle;\n",
       "    }\n",
       "\n",
       "    .dataframe tbody tr th {\n",
       "        vertical-align: top;\n",
       "    }\n",
       "\n",
       "    .dataframe thead th {\n",
       "        text-align: right;\n",
       "    }\n",
       "</style>\n",
       "<table border=\"1\" class=\"dataframe\">\n",
       "  <thead>\n",
       "    <tr style=\"text-align: right;\">\n",
       "      <th></th>\n",
       "      <th>First</th>\n",
       "      <th>DD</th>\n",
       "      <th>SD</th>\n",
       "    </tr>\n",
       "  </thead>\n",
       "  <tbody>\n",
       "    <tr>\n",
       "      <th>FB</th>\n",
       "      <td>0</td>\n",
       "      <td>0</td>\n",
       "      <td>0</td>\n",
       "    </tr>\n",
       "    <tr>\n",
       "      <th>WH</th>\n",
       "      <td>12901.786</td>\n",
       "      <td>7928.929</td>\n",
       "      <td>10321.429</td>\n",
       "    </tr>\n",
       "    <tr>\n",
       "      <th>QD</th>\n",
       "      <td>16032.143</td>\n",
       "      <td>13162.902</td>\n",
       "      <td>12825.714</td>\n",
       "    </tr>\n",
       "  </tbody>\n",
       "</table>\n",
       "</div>"
      ],
      "text/plain": [
       "        First         DD         SD\n",
       "FB          0          0          0\n",
       "WH  12901.786   7928.929  10321.429\n",
       "QD  16032.143  13162.902  12825.714"
      ]
     },
     "execution_count": 118,
     "metadata": {},
     "output_type": "execute_result"
    }
   ],
   "source": [
    "DF_num = apply_num(DF_,parameter_test)\n",
    "DF_num.drop(columns=[\"BDD\",\"BDS\"])"
   ]
  },
  {
   "cell_type": "code",
   "execution_count": 104,
   "metadata": {},
   "outputs": [
    {
     "data": {
      "text/html": [
       "<div>\n",
       "<style scoped>\n",
       "    .dataframe tbody tr th:only-of-type {\n",
       "        vertical-align: middle;\n",
       "    }\n",
       "\n",
       "    .dataframe tbody tr th {\n",
       "        vertical-align: top;\n",
       "    }\n",
       "\n",
       "    .dataframe thead th {\n",
       "        text-align: right;\n",
       "    }\n",
       "</style>\n",
       "<table border=\"1\" class=\"dataframe\">\n",
       "  <thead>\n",
       "    <tr style=\"text-align: right;\">\n",
       "      <th></th>\n",
       "      <th>First</th>\n",
       "      <th>DD</th>\n",
       "      <th>SD</th>\n",
       "      <th>BDS</th>\n",
       "    </tr>\n",
       "  </thead>\n",
       "  <tbody>\n",
       "    <tr>\n",
       "      <th>FB</th>\n",
       "      <td>0</td>\n",
       "      <td>0</td>\n",
       "      <td>0</td>\n",
       "      <td>0</td>\n",
       "    </tr>\n",
       "    <tr>\n",
       "      <th>WH</th>\n",
       "      <td>12901.786</td>\n",
       "      <td>7928.929</td>\n",
       "      <td>9031.250</td>\n",
       "      <td>9031.250</td>\n",
       "    </tr>\n",
       "    <tr>\n",
       "      <th>QD</th>\n",
       "      <td>16032.143</td>\n",
       "      <td>13162.902</td>\n",
       "      <td>11222.500</td>\n",
       "      <td>11222.500</td>\n",
       "    </tr>\n",
       "  </tbody>\n",
       "</table>\n",
       "</div>"
      ],
      "text/plain": [
       "        First         DD         SD        BDS\n",
       "FB          0          0          0          0\n",
       "WH  12901.786   7928.929   9031.250   9031.250\n",
       "QD  16032.143  13162.902  11222.500  11222.500"
      ]
     },
     "execution_count": 104,
     "metadata": {},
     "output_type": "execute_result"
    }
   ],
   "source": [
    "# parameter test 2 는 SD 와 BDS 비교가 적당하다. ( parameter setting 자체가 DD < SD 이기 때문에)\n",
    "# BDD는 없는 것\n",
    "DF_num = apply_num(DF_,parameter_test_2)\n",
    "DF_num.drop(columns=\"BDD\")"
   ]
  },
  {
   "cell_type": "code",
   "execution_count": 105,
   "metadata": {
    "scrolled": false
   },
   "outputs": [
    {
     "data": {
      "text/html": [
       "<div>\n",
       "<style scoped>\n",
       "    .dataframe tbody tr th:only-of-type {\n",
       "        vertical-align: middle;\n",
       "    }\n",
       "\n",
       "    .dataframe tbody tr th {\n",
       "        vertical-align: top;\n",
       "    }\n",
       "\n",
       "    .dataframe thead th {\n",
       "        text-align: right;\n",
       "    }\n",
       "</style>\n",
       "<table border=\"1\" class=\"dataframe\">\n",
       "  <thead>\n",
       "    <tr style=\"text-align: right;\">\n",
       "      <th></th>\n",
       "      <th>First</th>\n",
       "      <th>DD</th>\n",
       "      <th>SD</th>\n",
       "      <th>BDD</th>\n",
       "    </tr>\n",
       "  </thead>\n",
       "  <tbody>\n",
       "    <tr>\n",
       "      <th>FB</th>\n",
       "      <td>0</td>\n",
       "      <td>0</td>\n",
       "      <td>0</td>\n",
       "      <td>0</td>\n",
       "    </tr>\n",
       "    <tr>\n",
       "      <th>WH</th>\n",
       "      <td>12901.786</td>\n",
       "      <td>5611.250</td>\n",
       "      <td>10321.429</td>\n",
       "      <td>7801.250</td>\n",
       "    </tr>\n",
       "    <tr>\n",
       "      <th>QD</th>\n",
       "      <td>16032.143</td>\n",
       "      <td>11730.625</td>\n",
       "      <td>12825.714</td>\n",
       "      <td>11390.625</td>\n",
       "    </tr>\n",
       "  </tbody>\n",
       "</table>\n",
       "</div>"
      ],
      "text/plain": [
       "        First         DD         SD        BDD\n",
       "FB          0          0          0          0\n",
       "WH  12901.786   5611.250  10321.429   7801.250\n",
       "QD  16032.143  11730.625  12825.714  11390.625"
      ]
     },
     "execution_count": 105,
     "metadata": {},
     "output_type": "execute_result"
    }
   ],
   "source": [
    "# parameter test 3 는 DD 와 BDD 비교가 적당하다. ( parameter setting 자체가 DD > SD 이기 때문에)\n",
    "# BDS 는 없는것\n",
    "DF_num = apply_num(DF_,parameter_test_3)\n",
    "DF_num.drop(columns=\"BDS\")"
   ]
  },
  {
   "cell_type": "code",
   "execution_count": 106,
   "metadata": {},
   "outputs": [
    {
     "data": {
      "text/html": [
       "<div>\n",
       "<style scoped>\n",
       "    .dataframe tbody tr th:only-of-type {\n",
       "        vertical-align: middle;\n",
       "    }\n",
       "\n",
       "    .dataframe tbody tr th {\n",
       "        vertical-align: top;\n",
       "    }\n",
       "\n",
       "    .dataframe thead th {\n",
       "        text-align: right;\n",
       "    }\n",
       "</style>\n",
       "<table border=\"1\" class=\"dataframe\">\n",
       "  <thead>\n",
       "    <tr style=\"text-align: right;\">\n",
       "      <th></th>\n",
       "      <th>First</th>\n",
       "      <th>DD</th>\n",
       "      <th>SD</th>\n",
       "      <th>BDD</th>\n",
       "      <th>BDS</th>\n",
       "    </tr>\n",
       "  </thead>\n",
       "  <tbody>\n",
       "    <tr>\n",
       "      <th>FB</th>\n",
       "      <td>0</td>\n",
       "      <td>0</td>\n",
       "      <td>0</td>\n",
       "      <td>0</td>\n",
       "      <td>0</td>\n",
       "    </tr>\n",
       "    <tr>\n",
       "      <th>WH</th>\n",
       "      <td>12901.786</td>\n",
       "      <td>8305.804</td>\n",
       "      <td>10321.429</td>\n",
       "      <td>10321.429</td>\n",
       "      <td>10321.429</td>\n",
       "    </tr>\n",
       "    <tr>\n",
       "      <th>QD</th>\n",
       "      <td>16032.143</td>\n",
       "      <td>13504.464</td>\n",
       "      <td>12825.714</td>\n",
       "      <td>12825.714</td>\n",
       "      <td>12825.714</td>\n",
       "    </tr>\n",
       "  </tbody>\n",
       "</table>\n",
       "</div>"
      ],
      "text/plain": [
       "        First         DD         SD        BDD        BDS\n",
       "FB          0          0          0          0          0\n",
       "WH  12901.786   8305.804  10321.429  10321.429  10321.429\n",
       "QD  16032.143  13504.464  12825.714  12825.714  12825.714"
      ]
     },
     "execution_count": 106,
     "metadata": {},
     "output_type": "execute_result"
    }
   ],
   "source": [
    "DF_num = apply_num(DF_,parameter_test_4)\n",
    "DF_num"
   ]
  },
  {
   "cell_type": "code",
   "execution_count": null,
   "metadata": {},
   "outputs": [],
   "source": []
  },
  {
   "cell_type": "code",
   "execution_count": null,
   "metadata": {},
   "outputs": [],
   "source": []
  },
  {
   "cell_type": "markdown",
   "metadata": {},
   "source": [
    "### retailer profit"
   ]
  },
  {
   "cell_type": "code",
   "execution_count": 119,
   "metadata": {},
   "outputs": [],
   "source": [
    "DF_ = concat_all(\"pro_r\",case_)"
   ]
  },
  {
   "cell_type": "code",
   "execution_count": 120,
   "metadata": {},
   "outputs": [
    {
     "data": {
      "text/html": [
       "<div>\n",
       "<style scoped>\n",
       "    .dataframe tbody tr th:only-of-type {\n",
       "        vertical-align: middle;\n",
       "    }\n",
       "\n",
       "    .dataframe tbody tr th {\n",
       "        vertical-align: top;\n",
       "    }\n",
       "\n",
       "    .dataframe thead th {\n",
       "        text-align: right;\n",
       "    }\n",
       "</style>\n",
       "<table border=\"1\" class=\"dataframe\">\n",
       "  <thead>\n",
       "    <tr style=\"text-align: right;\">\n",
       "      <th></th>\n",
       "      <th>First</th>\n",
       "      <th>DD</th>\n",
       "      <th>SD</th>\n",
       "      <th>BDD</th>\n",
       "      <th>BDS</th>\n",
       "    </tr>\n",
       "  </thead>\n",
       "  <tbody>\n",
       "    <tr>\n",
       "      <th>FB</th>\n",
       "      <td>NaN</td>\n",
       "      <td>NaN</td>\n",
       "      <td>NaN</td>\n",
       "      <td>NaN</td>\n",
       "      <td>NaN</td>\n",
       "    </tr>\n",
       "    <tr>\n",
       "      <th>WH</th>\n",
       "      <td>(alpha - beta*c)**2/(16*beta)</td>\n",
       "      <td>(-alpha*delta_d + beta*c - beta*delta_d*lambda...</td>\n",
       "      <td>delta_s*(alpha - beta*c)**2/(16*beta)</td>\n",
       "      <td>(alpha*delta_d - beta*c*delta_s + beta*delta_d...</td>\n",
       "      <td>delta_s*(alpha - beta*c)**2/(16*beta)</td>\n",
       "    </tr>\n",
       "    <tr>\n",
       "      <th>QD</th>\n",
       "      <td>(alpha - beta*w)*(alpha/4 - beta*c/2 + beta*w/...</td>\n",
       "      <td>(alpha*delta_d + beta*delta_d*lambda - beta*la...</td>\n",
       "      <td>delta_s*(alpha - beta*w)*(alpha/4 - beta*c/2 +...</td>\n",
       "      <td>(alpha*delta_d + beta*delta_d*lambda - beta*de...</td>\n",
       "      <td>delta_s*(alpha - beta*w)*(alpha/4 - beta*c/2 +...</td>\n",
       "    </tr>\n",
       "  </tbody>\n",
       "</table>\n",
       "</div>"
      ],
      "text/plain": [
       "                                                First  \\\n",
       "FB                                                NaN   \n",
       "WH                      (alpha - beta*c)**2/(16*beta)   \n",
       "QD  (alpha - beta*w)*(alpha/4 - beta*c/2 + beta*w/...   \n",
       "\n",
       "                                                   DD  \\\n",
       "FB                                                NaN   \n",
       "WH  (-alpha*delta_d + beta*c - beta*delta_d*lambda...   \n",
       "QD  (alpha*delta_d + beta*delta_d*lambda - beta*la...   \n",
       "\n",
       "                                                   SD  \\\n",
       "FB                                                NaN   \n",
       "WH              delta_s*(alpha - beta*c)**2/(16*beta)   \n",
       "QD  delta_s*(alpha - beta*w)*(alpha/4 - beta*c/2 +...   \n",
       "\n",
       "                                                  BDD  \\\n",
       "FB                                                NaN   \n",
       "WH  (alpha*delta_d - beta*c*delta_s + beta*delta_d...   \n",
       "QD  (alpha*delta_d + beta*delta_d*lambda - beta*de...   \n",
       "\n",
       "                                                  BDS  \n",
       "FB                                                NaN  \n",
       "WH              delta_s*(alpha - beta*c)**2/(16*beta)  \n",
       "QD  delta_s*(alpha - beta*w)*(alpha/4 - beta*c/2 +...  "
      ]
     },
     "execution_count": 120,
     "metadata": {},
     "output_type": "execute_result"
    }
   ],
   "source": [
    "DF_"
   ]
  },
  {
   "cell_type": "code",
   "execution_count": 121,
   "metadata": {},
   "outputs": [
    {
     "data": {
      "text/html": [
       "<div>\n",
       "<style scoped>\n",
       "    .dataframe tbody tr th:only-of-type {\n",
       "        vertical-align: middle;\n",
       "    }\n",
       "\n",
       "    .dataframe tbody tr th {\n",
       "        vertical-align: top;\n",
       "    }\n",
       "\n",
       "    .dataframe thead th {\n",
       "        text-align: right;\n",
       "    }\n",
       "</style>\n",
       "<table border=\"1\" class=\"dataframe\">\n",
       "  <thead>\n",
       "    <tr style=\"text-align: right;\">\n",
       "      <th></th>\n",
       "      <th>First</th>\n",
       "      <th>DD</th>\n",
       "      <th>SD</th>\n",
       "    </tr>\n",
       "  </thead>\n",
       "  <tbody>\n",
       "    <tr>\n",
       "      <th>FB</th>\n",
       "      <td>0</td>\n",
       "      <td>0</td>\n",
       "      <td>0</td>\n",
       "    </tr>\n",
       "    <tr>\n",
       "      <th>WH</th>\n",
       "      <td>6450.893</td>\n",
       "      <td>3964.464</td>\n",
       "      <td>5160.714</td>\n",
       "    </tr>\n",
       "    <tr>\n",
       "      <th>QD</th>\n",
       "      <td>8614.286</td>\n",
       "      <td>2569.554</td>\n",
       "      <td>6891.429</td>\n",
       "    </tr>\n",
       "  </tbody>\n",
       "</table>\n",
       "</div>"
      ],
      "text/plain": [
       "       First        DD        SD\n",
       "FB         0         0         0\n",
       "WH  6450.893  3964.464  5160.714\n",
       "QD  8614.286  2569.554  6891.429"
      ]
     },
     "execution_count": 121,
     "metadata": {},
     "output_type": "execute_result"
    }
   ],
   "source": [
    "DF_num = apply_num(DF_,parameter_test)\n",
    "DF_num.drop(columns=[\"BDD\",\"BDS\"])"
   ]
  },
  {
   "cell_type": "code",
   "execution_count": 110,
   "metadata": {},
   "outputs": [
    {
     "data": {
      "text/html": [
       "<div>\n",
       "<style scoped>\n",
       "    .dataframe tbody tr th:only-of-type {\n",
       "        vertical-align: middle;\n",
       "    }\n",
       "\n",
       "    .dataframe tbody tr th {\n",
       "        vertical-align: top;\n",
       "    }\n",
       "\n",
       "    .dataframe thead th {\n",
       "        text-align: right;\n",
       "    }\n",
       "</style>\n",
       "<table border=\"1\" class=\"dataframe\">\n",
       "  <thead>\n",
       "    <tr style=\"text-align: right;\">\n",
       "      <th></th>\n",
       "      <th>First</th>\n",
       "      <th>DD</th>\n",
       "      <th>SD</th>\n",
       "      <th>BDS</th>\n",
       "    </tr>\n",
       "  </thead>\n",
       "  <tbody>\n",
       "    <tr>\n",
       "      <th>FB</th>\n",
       "      <td>0</td>\n",
       "      <td>0</td>\n",
       "      <td>0</td>\n",
       "      <td>0</td>\n",
       "    </tr>\n",
       "    <tr>\n",
       "      <th>WH</th>\n",
       "      <td>6450.893</td>\n",
       "      <td>3964.464</td>\n",
       "      <td>4515.625</td>\n",
       "      <td>4515.625</td>\n",
       "    </tr>\n",
       "    <tr>\n",
       "      <th>QD</th>\n",
       "      <td>8614.286</td>\n",
       "      <td>2569.554</td>\n",
       "      <td>6030.00000000000</td>\n",
       "      <td>6030.00000000000</td>\n",
       "    </tr>\n",
       "  </tbody>\n",
       "</table>\n",
       "</div>"
      ],
      "text/plain": [
       "       First        DD                SD               BDS\n",
       "FB         0         0                 0                 0\n",
       "WH  6450.893  3964.464          4515.625          4515.625\n",
       "QD  8614.286  2569.554  6030.00000000000  6030.00000000000"
      ]
     },
     "execution_count": 110,
     "metadata": {},
     "output_type": "execute_result"
    }
   ],
   "source": [
    "# parameter test 2 는 SD 와 BDS 비교가 적당하다. ( parameter setting 자체가 DD < SD 이기 때문에)\n",
    "# BDD는 없는 것\n",
    "DF_num = apply_num(DF_,parameter_test_2)\n",
    "DF_num.drop(columns=\"BDD\")"
   ]
  },
  {
   "cell_type": "code",
   "execution_count": 111,
   "metadata": {
    "scrolled": false
   },
   "outputs": [
    {
     "data": {
      "text/html": [
       "<div>\n",
       "<style scoped>\n",
       "    .dataframe tbody tr th:only-of-type {\n",
       "        vertical-align: middle;\n",
       "    }\n",
       "\n",
       "    .dataframe tbody tr th {\n",
       "        vertical-align: top;\n",
       "    }\n",
       "\n",
       "    .dataframe thead th {\n",
       "        text-align: right;\n",
       "    }\n",
       "</style>\n",
       "<table border=\"1\" class=\"dataframe\">\n",
       "  <thead>\n",
       "    <tr style=\"text-align: right;\">\n",
       "      <th></th>\n",
       "      <th>First</th>\n",
       "      <th>DD</th>\n",
       "      <th>SD</th>\n",
       "      <th>BDD</th>\n",
       "    </tr>\n",
       "  </thead>\n",
       "  <tbody>\n",
       "    <tr>\n",
       "      <th>FB</th>\n",
       "      <td>0</td>\n",
       "      <td>0</td>\n",
       "      <td>0</td>\n",
       "      <td>0</td>\n",
       "    </tr>\n",
       "    <tr>\n",
       "      <th>WH</th>\n",
       "      <td>6450.893</td>\n",
       "      <td>2805.625</td>\n",
       "      <td>5160.714</td>\n",
       "      <td>3900.625</td>\n",
       "    </tr>\n",
       "    <tr>\n",
       "      <th>QD</th>\n",
       "      <td>8614.286</td>\n",
       "      <td>-513.750</td>\n",
       "      <td>6891.429</td>\n",
       "      <td>3881.250</td>\n",
       "    </tr>\n",
       "  </tbody>\n",
       "</table>\n",
       "</div>"
      ],
      "text/plain": [
       "       First        DD        SD       BDD\n",
       "FB         0         0         0         0\n",
       "WH  6450.893  2805.625  5160.714  3900.625\n",
       "QD  8614.286  -513.750  6891.429  3881.250"
      ]
     },
     "execution_count": 111,
     "metadata": {},
     "output_type": "execute_result"
    }
   ],
   "source": [
    "# parameter test 3 는 DD 와 BDD 비교가 적당하다. ( parameter setting 자체가 DD > SD 이기 때문에)\n",
    "# BDS 는 없는것\n",
    "DF_num = apply_num(DF_,parameter_test_3)\n",
    "DF_num.drop(columns=\"BDS\")"
   ]
  },
  {
   "cell_type": "code",
   "execution_count": 112,
   "metadata": {},
   "outputs": [
    {
     "data": {
      "text/html": [
       "<div>\n",
       "<style scoped>\n",
       "    .dataframe tbody tr th:only-of-type {\n",
       "        vertical-align: middle;\n",
       "    }\n",
       "\n",
       "    .dataframe tbody tr th {\n",
       "        vertical-align: top;\n",
       "    }\n",
       "\n",
       "    .dataframe thead th {\n",
       "        text-align: right;\n",
       "    }\n",
       "</style>\n",
       "<table border=\"1\" class=\"dataframe\">\n",
       "  <thead>\n",
       "    <tr style=\"text-align: right;\">\n",
       "      <th></th>\n",
       "      <th>First</th>\n",
       "      <th>DD</th>\n",
       "      <th>SD</th>\n",
       "      <th>BDD</th>\n",
       "      <th>BDS</th>\n",
       "    </tr>\n",
       "  </thead>\n",
       "  <tbody>\n",
       "    <tr>\n",
       "      <th>FB</th>\n",
       "      <td>0</td>\n",
       "      <td>0</td>\n",
       "      <td>0</td>\n",
       "      <td>0</td>\n",
       "      <td>0</td>\n",
       "    </tr>\n",
       "    <tr>\n",
       "      <th>WH</th>\n",
       "      <td>6450.893</td>\n",
       "      <td>4152.902</td>\n",
       "      <td>5160.714</td>\n",
       "      <td>5160.714</td>\n",
       "      <td>5160.714</td>\n",
       "    </tr>\n",
       "    <tr>\n",
       "      <th>QD</th>\n",
       "      <td>8614.286</td>\n",
       "      <td>2946.429</td>\n",
       "      <td>6891.429</td>\n",
       "      <td>6891.429</td>\n",
       "      <td>6891.429</td>\n",
       "    </tr>\n",
       "  </tbody>\n",
       "</table>\n",
       "</div>"
      ],
      "text/plain": [
       "       First        DD        SD       BDD       BDS\n",
       "FB         0         0         0         0         0\n",
       "WH  6450.893  4152.902  5160.714  5160.714  5160.714\n",
       "QD  8614.286  2946.429  6891.429  6891.429  6891.429"
      ]
     },
     "execution_count": 112,
     "metadata": {},
     "output_type": "execute_result"
    }
   ],
   "source": [
    "# parameter test 4 = lambda = 0 일때 ( 즉 추가 비용이 없을때,)\n",
    "\n",
    "DF_num = apply_num(DF_,parameter_test_4)\n",
    "DF_num"
   ]
  },
  {
   "cell_type": "markdown",
   "metadata": {},
   "source": [
    "### delta _s ,d 모두 동일하고, 처리비용 없어도, DD가 SD 보다 좋지 않다."
   ]
  },
  {
   "cell_type": "code",
   "execution_count": null,
   "metadata": {},
   "outputs": [],
   "source": []
  },
  {
   "cell_type": "code",
   "execution_count": null,
   "metadata": {},
   "outputs": [],
   "source": []
  },
  {
   "cell_type": "markdown",
   "metadata": {},
   "source": [
    "# Sharing"
   ]
  },
  {
   "cell_type": "code",
   "execution_count": 122,
   "metadata": {},
   "outputs": [],
   "source": [
    "a_ = concat_all(\"pro_s\",case_)/concat_all(\"pro_all\",case_)"
   ]
  },
  {
   "cell_type": "code",
   "execution_count": 123,
   "metadata": {},
   "outputs": [
    {
     "data": {
      "text/html": [
       "<div>\n",
       "<style scoped>\n",
       "    .dataframe tbody tr th:only-of-type {\n",
       "        vertical-align: middle;\n",
       "    }\n",
       "\n",
       "    .dataframe tbody tr th {\n",
       "        vertical-align: top;\n",
       "    }\n",
       "\n",
       "    .dataframe thead th {\n",
       "        text-align: right;\n",
       "    }\n",
       "</style>\n",
       "<table border=\"1\" class=\"dataframe\">\n",
       "  <thead>\n",
       "    <tr style=\"text-align: right;\">\n",
       "      <th></th>\n",
       "      <th>First</th>\n",
       "      <th>DD</th>\n",
       "      <th>SD</th>\n",
       "      <th>BDD</th>\n",
       "      <th>BDS</th>\n",
       "    </tr>\n",
       "  </thead>\n",
       "  <tbody>\n",
       "    <tr>\n",
       "      <th>FB</th>\n",
       "      <td>nan</td>\n",
       "      <td>nan</td>\n",
       "      <td>nan</td>\n",
       "      <td>nan</td>\n",
       "      <td>nan</td>\n",
       "    </tr>\n",
       "    <tr>\n",
       "      <th>WH</th>\n",
       "      <td>2/3</td>\n",
       "      <td>2/3</td>\n",
       "      <td>2/3</td>\n",
       "      <td>2/3</td>\n",
       "      <td>2/3</td>\n",
       "    </tr>\n",
       "    <tr>\n",
       "      <th>QD</th>\n",
       "      <td>(-alpha + 2*beta*c - beta*w)/(-3*alpha + 2*bet...</td>\n",
       "      <td>(alpha*delta_d - 2*beta*c + beta*delta_d*lambd...</td>\n",
       "      <td>(-alpha + 2*beta*c - beta*w)/(-3*alpha + 2*bet...</td>\n",
       "      <td>(alpha*delta_d - 2*beta*c*delta_s + beta*delta...</td>\n",
       "      <td>(-alpha + 2*beta*c - beta*w)/(-3*alpha + 2*bet...</td>\n",
       "    </tr>\n",
       "  </tbody>\n",
       "</table>\n",
       "</div>"
      ],
      "text/plain": [
       "                                                First  \\\n",
       "FB                                                nan   \n",
       "WH                                                2/3   \n",
       "QD  (-alpha + 2*beta*c - beta*w)/(-3*alpha + 2*bet...   \n",
       "\n",
       "                                                   DD  \\\n",
       "FB                                                nan   \n",
       "WH                                                2/3   \n",
       "QD  (alpha*delta_d - 2*beta*c + beta*delta_d*lambd...   \n",
       "\n",
       "                                                   SD  \\\n",
       "FB                                                nan   \n",
       "WH                                                2/3   \n",
       "QD  (-alpha + 2*beta*c - beta*w)/(-3*alpha + 2*bet...   \n",
       "\n",
       "                                                  BDD  \\\n",
       "FB                                                nan   \n",
       "WH                                                2/3   \n",
       "QD  (alpha*delta_d - 2*beta*c*delta_s + beta*delta...   \n",
       "\n",
       "                                                  BDS  \n",
       "FB                                                nan  \n",
       "WH                                                2/3  \n",
       "QD  (-alpha + 2*beta*c - beta*w)/(-3*alpha + 2*bet...  "
      ]
     },
     "execution_count": 123,
     "metadata": {},
     "output_type": "execute_result"
    }
   ],
   "source": [
    "a_ = a_.apply(lambda x : x.map(lambda y: y.simplify()))\n",
    "DF_ = a_\n",
    "DF_"
   ]
  },
  {
   "cell_type": "code",
   "execution_count": 124,
   "metadata": {},
   "outputs": [
    {
     "data": {
      "text/html": [
       "<div>\n",
       "<style scoped>\n",
       "    .dataframe tbody tr th:only-of-type {\n",
       "        vertical-align: middle;\n",
       "    }\n",
       "\n",
       "    .dataframe tbody tr th {\n",
       "        vertical-align: top;\n",
       "    }\n",
       "\n",
       "    .dataframe thead th {\n",
       "        text-align: right;\n",
       "    }\n",
       "</style>\n",
       "<table border=\"1\" class=\"dataframe\">\n",
       "  <thead>\n",
       "    <tr style=\"text-align: right;\">\n",
       "      <th></th>\n",
       "      <th>First</th>\n",
       "      <th>DD</th>\n",
       "      <th>SD</th>\n",
       "    </tr>\n",
       "  </thead>\n",
       "  <tbody>\n",
       "    <tr>\n",
       "      <th>FB</th>\n",
       "      <td>nan</td>\n",
       "      <td>nan</td>\n",
       "      <td>nan</td>\n",
       "    </tr>\n",
       "    <tr>\n",
       "      <th>WH</th>\n",
       "      <td>0.667</td>\n",
       "      <td>0.667</td>\n",
       "      <td>0.667</td>\n",
       "    </tr>\n",
       "    <tr>\n",
       "      <th>QD</th>\n",
       "      <td>0.650</td>\n",
       "      <td>0.837</td>\n",
       "      <td>0.650</td>\n",
       "    </tr>\n",
       "  </tbody>\n",
       "</table>\n",
       "</div>"
      ],
      "text/plain": [
       "    First     DD     SD\n",
       "FB    nan    nan    nan\n",
       "WH  0.667  0.667  0.667\n",
       "QD  0.650  0.837  0.650"
      ]
     },
     "execution_count": 124,
     "metadata": {},
     "output_type": "execute_result"
    }
   ],
   "source": [
    "DF_num = apply_num(DF_,parameter_test)\n",
    "DF_num.drop(columns=[\"BDD\",\"BDS\"])"
   ]
  },
  {
   "cell_type": "code",
   "execution_count": 125,
   "metadata": {},
   "outputs": [
    {
     "data": {
      "text/html": [
       "<div>\n",
       "<style scoped>\n",
       "    .dataframe tbody tr th:only-of-type {\n",
       "        vertical-align: middle;\n",
       "    }\n",
       "\n",
       "    .dataframe tbody tr th {\n",
       "        vertical-align: top;\n",
       "    }\n",
       "\n",
       "    .dataframe thead th {\n",
       "        text-align: right;\n",
       "    }\n",
       "</style>\n",
       "<table border=\"1\" class=\"dataframe\">\n",
       "  <thead>\n",
       "    <tr style=\"text-align: right;\">\n",
       "      <th></th>\n",
       "      <th>First</th>\n",
       "      <th>DD</th>\n",
       "      <th>SD</th>\n",
       "      <th>BDS</th>\n",
       "    </tr>\n",
       "  </thead>\n",
       "  <tbody>\n",
       "    <tr>\n",
       "      <th>FB</th>\n",
       "      <td>nan</td>\n",
       "      <td>nan</td>\n",
       "      <td>nan</td>\n",
       "      <td>nan</td>\n",
       "    </tr>\n",
       "    <tr>\n",
       "      <th>WH</th>\n",
       "      <td>0.667</td>\n",
       "      <td>0.667</td>\n",
       "      <td>0.667</td>\n",
       "      <td>0.667</td>\n",
       "    </tr>\n",
       "    <tr>\n",
       "      <th>QD</th>\n",
       "      <td>0.650</td>\n",
       "      <td>0.837</td>\n",
       "      <td>0.650</td>\n",
       "      <td>0.650</td>\n",
       "    </tr>\n",
       "  </tbody>\n",
       "</table>\n",
       "</div>"
      ],
      "text/plain": [
       "    First     DD     SD    BDS\n",
       "FB    nan    nan    nan    nan\n",
       "WH  0.667  0.667  0.667  0.667\n",
       "QD  0.650  0.837  0.650  0.650"
      ]
     },
     "execution_count": 125,
     "metadata": {},
     "output_type": "execute_result"
    }
   ],
   "source": [
    "# parameter test 2 는 SD 와 BDS 비교가 적당하다. ( parameter setting 자체가 DD < SD 이기 때문에)\n",
    "# BDD는 없는 것\n",
    "DF_num = apply_num(DF_,parameter_test_2)\n",
    "DF_num.drop(columns=[\"BDD\"])"
   ]
  },
  {
   "cell_type": "code",
   "execution_count": 126,
   "metadata": {
    "scrolled": false
   },
   "outputs": [
    {
     "data": {
      "text/html": [
       "<div>\n",
       "<style scoped>\n",
       "    .dataframe tbody tr th:only-of-type {\n",
       "        vertical-align: middle;\n",
       "    }\n",
       "\n",
       "    .dataframe tbody tr th {\n",
       "        vertical-align: top;\n",
       "    }\n",
       "\n",
       "    .dataframe thead th {\n",
       "        text-align: right;\n",
       "    }\n",
       "</style>\n",
       "<table border=\"1\" class=\"dataframe\">\n",
       "  <thead>\n",
       "    <tr style=\"text-align: right;\">\n",
       "      <th></th>\n",
       "      <th>First</th>\n",
       "      <th>DD</th>\n",
       "      <th>SD</th>\n",
       "      <th>BDD</th>\n",
       "    </tr>\n",
       "  </thead>\n",
       "  <tbody>\n",
       "    <tr>\n",
       "      <th>FB</th>\n",
       "      <td>nan</td>\n",
       "      <td>nan</td>\n",
       "      <td>nan</td>\n",
       "      <td>nan</td>\n",
       "    </tr>\n",
       "    <tr>\n",
       "      <th>WH</th>\n",
       "      <td>0.667</td>\n",
       "      <td>0.667</td>\n",
       "      <td>0.667</td>\n",
       "      <td>0.667</td>\n",
       "    </tr>\n",
       "    <tr>\n",
       "      <th>QD</th>\n",
       "      <td>0.650</td>\n",
       "      <td>1.046</td>\n",
       "      <td>0.650</td>\n",
       "      <td>0.746</td>\n",
       "    </tr>\n",
       "  </tbody>\n",
       "</table>\n",
       "</div>"
      ],
      "text/plain": [
       "    First     DD     SD    BDD\n",
       "FB    nan    nan    nan    nan\n",
       "WH  0.667  0.667  0.667  0.667\n",
       "QD  0.650  1.046  0.650  0.746"
      ]
     },
     "execution_count": 126,
     "metadata": {},
     "output_type": "execute_result"
    }
   ],
   "source": [
    "# parameter test 3 는 DD 와 BDD 비교가 적당하다. ( parameter setting 자체가 DD > SD 이기 때문에)\n",
    "# BDS 는 없는것\n",
    "DF_num = apply_num(DF_,parameter_test_3)\n",
    "DF_num.drop(columns=[\"BDS\"])"
   ]
  },
  {
   "cell_type": "code",
   "execution_count": 67,
   "metadata": {},
   "outputs": [
    {
     "data": {
      "text/html": [
       "<div>\n",
       "<style scoped>\n",
       "    .dataframe tbody tr th:only-of-type {\n",
       "        vertical-align: middle;\n",
       "    }\n",
       "\n",
       "    .dataframe tbody tr th {\n",
       "        vertical-align: top;\n",
       "    }\n",
       "\n",
       "    .dataframe thead th {\n",
       "        text-align: right;\n",
       "    }\n",
       "</style>\n",
       "<table border=\"1\" class=\"dataframe\">\n",
       "  <thead>\n",
       "    <tr style=\"text-align: right;\">\n",
       "      <th></th>\n",
       "      <th>First</th>\n",
       "      <th>DD</th>\n",
       "      <th>SD</th>\n",
       "      <th>BDD</th>\n",
       "      <th>BDS</th>\n",
       "    </tr>\n",
       "  </thead>\n",
       "  <tbody>\n",
       "    <tr>\n",
       "      <th>FB</th>\n",
       "      <td>nan</td>\n",
       "      <td>nan</td>\n",
       "      <td>nan</td>\n",
       "      <td>nan</td>\n",
       "      <td>nan</td>\n",
       "    </tr>\n",
       "    <tr>\n",
       "      <th>WH</th>\n",
       "      <td>0.667</td>\n",
       "      <td>0.667</td>\n",
       "      <td>0.667</td>\n",
       "      <td>0.667</td>\n",
       "      <td>0.667</td>\n",
       "    </tr>\n",
       "    <tr>\n",
       "      <th>QD</th>\n",
       "      <td>0.545</td>\n",
       "      <td>0.649</td>\n",
       "      <td>0.545</td>\n",
       "      <td>0.545</td>\n",
       "      <td>0.545</td>\n",
       "    </tr>\n",
       "  </tbody>\n",
       "</table>\n",
       "</div>"
      ],
      "text/plain": [
       "    First     DD     SD    BDD    BDS\n",
       "FB    nan    nan    nan    nan    nan\n",
       "WH  0.667  0.667  0.667  0.667  0.667\n",
       "QD  0.545  0.649  0.545  0.545  0.545"
      ]
     },
     "execution_count": 67,
     "metadata": {},
     "output_type": "execute_result"
    }
   ],
   "source": [
    "# parameter test 4 = lambda = 0 일때 ( 즉 추가 비용이 없을때,)\n",
    "\n",
    "DF_num = apply_num(DF_,parameter_test_4)\n",
    "DF_num"
   ]
  },
  {
   "cell_type": "code",
   "execution_count": null,
   "metadata": {},
   "outputs": [],
   "source": []
  },
  {
   "cell_type": "code",
   "execution_count": null,
   "metadata": {},
   "outputs": [],
   "source": []
  },
  {
   "cell_type": "markdown",
   "metadata": {},
   "source": [
    "# Profit Comparison"
   ]
  },
  {
   "cell_type": "code",
   "execution_count": 127,
   "metadata": {},
   "outputs": [],
   "source": [
    "profit_all = concat_all(\"pro_all\",case_)\n",
    "profit_s = concat_all(\"pro_s\",case_)\n",
    "profit_r = concat_all(\"pro_r\",case_)\n"
   ]
  },
  {
   "cell_type": "markdown",
   "metadata": {},
   "source": [
    "## DD = SD"
   ]
  },
  {
   "cell_type": "code",
   "execution_count": 146,
   "metadata": {},
   "outputs": [
    {
     "data": {
      "text/html": [
       "<div>\n",
       "<style scoped>\n",
       "    .dataframe tbody tr th:only-of-type {\n",
       "        vertical-align: middle;\n",
       "    }\n",
       "\n",
       "    .dataframe tbody tr th {\n",
       "        vertical-align: top;\n",
       "    }\n",
       "\n",
       "    .dataframe thead th {\n",
       "        text-align: right;\n",
       "    }\n",
       "</style>\n",
       "<table border=\"1\" class=\"dataframe\">\n",
       "  <thead>\n",
       "    <tr style=\"text-align: right;\">\n",
       "      <th></th>\n",
       "      <th>level_0</th>\n",
       "      <th>First</th>\n",
       "      <th>DD</th>\n",
       "      <th>SD</th>\n",
       "      <th>index</th>\n",
       "      <th>Contract</th>\n",
       "    </tr>\n",
       "  </thead>\n",
       "  <tbody>\n",
       "    <tr>\n",
       "      <th>0</th>\n",
       "      <td>WH</td>\n",
       "      <td>6450.893</td>\n",
       "      <td>3964.464</td>\n",
       "      <td>5160.714</td>\n",
       "      <td>retailer</td>\n",
       "      <td>WH</td>\n",
       "    </tr>\n",
       "    <tr>\n",
       "      <th>1</th>\n",
       "      <td>QD</td>\n",
       "      <td>8614.286</td>\n",
       "      <td>2569.554</td>\n",
       "      <td>6891.429</td>\n",
       "      <td>retailer</td>\n",
       "      <td>QD</td>\n",
       "    </tr>\n",
       "    <tr>\n",
       "      <th>2</th>\n",
       "      <td>WH</td>\n",
       "      <td>12901.786</td>\n",
       "      <td>7928.929</td>\n",
       "      <td>10321.429</td>\n",
       "      <td>supplier</td>\n",
       "      <td>WH</td>\n",
       "    </tr>\n",
       "    <tr>\n",
       "      <th>3</th>\n",
       "      <td>QD</td>\n",
       "      <td>16032.143</td>\n",
       "      <td>13162.902</td>\n",
       "      <td>12825.714</td>\n",
       "      <td>supplier</td>\n",
       "      <td>QD</td>\n",
       "    </tr>\n",
       "  </tbody>\n",
       "</table>\n",
       "</div>"
      ],
      "text/plain": [
       "  level_0      First         DD         SD     index Contract\n",
       "0      WH   6450.893   3964.464   5160.714  retailer       WH\n",
       "1      QD   8614.286   2569.554   6891.429  retailer       QD\n",
       "2      WH  12901.786   7928.929  10321.429  supplier       WH\n",
       "3      QD  16032.143  13162.902  12825.714  supplier       QD"
      ]
     },
     "execution_count": 146,
     "metadata": {},
     "output_type": "execute_result"
    }
   ],
   "source": [
    "# DD = SD\n",
    "para_ = parameter_test\n",
    "all_num = apply_num(profit_all,para_).drop(columns=[\"BDD\",\"BDS\"])\n",
    "all_s = apply_num(profit_s,para_).drop(columns=[\"BDD\",\"BDS\"],index=\"FB\")\n",
    "all_s[\"index\"] = \"supplier\"\n",
    "all_s[\"Contract\"] = all_s.index\n",
    "all_r = apply_num(profit_r,para_).drop(columns=[\"BDD\",\"BDS\"],index=\"FB\")\n",
    "all_r[\"index\"] = \"retailer\"\n",
    "all_r[\"Contract\"] = all_r.index\n",
    "all_ = pd.concat([all_r,all_s]).reset_index()\n",
    "all_"
   ]
  },
  {
   "cell_type": "code",
   "execution_count": 156,
   "metadata": {
    "scrolled": false
   },
   "outputs": [
    {
     "data": {
      "text/plain": [
       "Text(0.5, 1.0, 'SD')"
      ]
     },
     "execution_count": 156,
     "metadata": {},
     "output_type": "execute_result"
    },
    {
     "data": {
      "image/png": "[encoded data removed]",
      "text/plain": [
       "<Figure size 1440x360 with 3 Axes>"
      ]
     },
     "metadata": {
      "needs_background": "light"
     },
     "output_type": "display_data"
    }
   ],
   "source": [
    "plt.figure(figsize=(20,5))\n",
    "plt.subplot(1,3,1)\n",
    "sns.barplot(x=\"Contract\",y=\"First\",hue=\"index\",data=all_)\n",
    "plt.ylim([0,17000])\n",
    "plt.title(\"First\")\n",
    "plt.subplot(1,3,2)\n",
    "sns.barplot(x=\"Contract\",y=\"DD\",hue=\"index\",data=all_)\n",
    "plt.ylim([0,17000])\n",
    "plt.title(\"DD\")\n",
    "plt.subplot(1,3,3)\n",
    "sns.barplot(x=\"Contract\",y=\"SD\",hue=\"index\",data=all_)\n",
    "plt.ylim([0,17000])\n",
    "plt.title(\"SD\")"
   ]
  },
  {
   "cell_type": "markdown",
   "metadata": {},
   "source": [
    "## DD < SD"
   ]
  },
  {
   "cell_type": "code",
   "execution_count": 264,
   "metadata": {},
   "outputs": [
    {
     "data": {
      "text/html": [
       "<div>\n",
       "<style scoped>\n",
       "    .dataframe tbody tr th:only-of-type {\n",
       "        vertical-align: middle;\n",
       "    }\n",
       "\n",
       "    .dataframe tbody tr th {\n",
       "        vertical-align: top;\n",
       "    }\n",
       "\n",
       "    .dataframe thead th {\n",
       "        text-align: right;\n",
       "    }\n",
       "</style>\n",
       "<table border=\"1\" class=\"dataframe\">\n",
       "  <thead>\n",
       "    <tr style=\"text-align: right;\">\n",
       "      <th></th>\n",
       "      <th>level_0</th>\n",
       "      <th>First</th>\n",
       "      <th>DD</th>\n",
       "      <th>SD</th>\n",
       "      <th>BDS</th>\n",
       "      <th>index</th>\n",
       "      <th>Contract</th>\n",
       "    </tr>\n",
       "  </thead>\n",
       "  <tbody>\n",
       "    <tr>\n",
       "      <th>0</th>\n",
       "      <td>WH</td>\n",
       "      <td>6450.893</td>\n",
       "      <td>3964.464</td>\n",
       "      <td>4515.625</td>\n",
       "      <td>4515.625</td>\n",
       "      <td>retailer</td>\n",
       "      <td>WH</td>\n",
       "    </tr>\n",
       "    <tr>\n",
       "      <th>1</th>\n",
       "      <td>QD</td>\n",
       "      <td>8614.286</td>\n",
       "      <td>2569.554</td>\n",
       "      <td>6030.00000000000</td>\n",
       "      <td>6030.00000000000</td>\n",
       "      <td>retailer</td>\n",
       "      <td>QD</td>\n",
       "    </tr>\n",
       "    <tr>\n",
       "      <th>2</th>\n",
       "      <td>WH</td>\n",
       "      <td>12901.786</td>\n",
       "      <td>7928.929</td>\n",
       "      <td>9031.250</td>\n",
       "      <td>9031.250</td>\n",
       "      <td>supplier</td>\n",
       "      <td>WH</td>\n",
       "    </tr>\n",
       "    <tr>\n",
       "      <th>3</th>\n",
       "      <td>QD</td>\n",
       "      <td>16032.143</td>\n",
       "      <td>13162.902</td>\n",
       "      <td>11222.500</td>\n",
       "      <td>11222.500</td>\n",
       "      <td>supplier</td>\n",
       "      <td>QD</td>\n",
       "    </tr>\n",
       "  </tbody>\n",
       "</table>\n",
       "</div>"
      ],
      "text/plain": [
       "  level_0      First         DD                SD               BDS     index  \\\n",
       "0      WH   6450.893   3964.464          4515.625          4515.625  retailer   \n",
       "1      QD   8614.286   2569.554  6030.00000000000  6030.00000000000  retailer   \n",
       "2      WH  12901.786   7928.929          9031.250          9031.250  supplier   \n",
       "3      QD  16032.143  13162.902         11222.500         11222.500  supplier   \n",
       "\n",
       "  Contract  \n",
       "0       WH  \n",
       "1       QD  \n",
       "2       WH  \n",
       "3       QD  "
      ]
     },
     "execution_count": 264,
     "metadata": {},
     "output_type": "execute_result"
    }
   ],
   "source": [
    "# DD = SD\n",
    "para_ = parameter_test_2\n",
    "all_num = apply_num(profit_all,para_).drop(columns=[\"BDD\"])\n",
    "all_s = apply_num(profit_s,para_).drop(columns=[\"BDD\"],index=\"FB\")\n",
    "all_s[\"index\"] = \"supplier\"\n",
    "all_s[\"Contract\"] = all_s.index\n",
    "all_r = apply_num(profit_r,para_).drop(columns=[\"BDD\"],index=\"FB\")\n",
    "all_r[\"index\"] = \"retailer\"\n",
    "all_r[\"Contract\"] = all_r.index\n",
    "all_ = pd.concat([all_r,all_s]).reset_index()\n",
    "all_"
   ]
  },
  {
   "cell_type": "code",
   "execution_count": 265,
   "metadata": {
    "scrolled": false
   },
   "outputs": [
    {
     "data": {
      "text/html": [
       "<div>\n",
       "<style scoped>\n",
       "    .dataframe tbody tr th:only-of-type {\n",
       "        vertical-align: middle;\n",
       "    }\n",
       "\n",
       "    .dataframe tbody tr th {\n",
       "        vertical-align: top;\n",
       "    }\n",
       "\n",
       "    .dataframe thead th {\n",
       "        text-align: right;\n",
       "    }\n",
       "</style>\n",
       "<table border=\"1\" class=\"dataframe\">\n",
       "  <thead>\n",
       "    <tr style=\"text-align: right;\">\n",
       "      <th></th>\n",
       "      <th>First</th>\n",
       "      <th>DD</th>\n",
       "      <th>SD</th>\n",
       "      <th>BDS</th>\n",
       "    </tr>\n",
       "  </thead>\n",
       "  <tbody>\n",
       "    <tr>\n",
       "      <th>FB</th>\n",
       "      <td>25803.571</td>\n",
       "      <td>20642.857</td>\n",
       "      <td>18062.500</td>\n",
       "      <td>18062.500</td>\n",
       "    </tr>\n",
       "    <tr>\n",
       "      <th>WH</th>\n",
       "      <td>19352.679</td>\n",
       "      <td>11893.393</td>\n",
       "      <td>13546.875</td>\n",
       "      <td>13546.875</td>\n",
       "    </tr>\n",
       "    <tr>\n",
       "      <th>QD</th>\n",
       "      <td>24646.429</td>\n",
       "      <td>15732.455</td>\n",
       "      <td>17252.500</td>\n",
       "      <td>17252.500</td>\n",
       "    </tr>\n",
       "  </tbody>\n",
       "</table>\n",
       "</div>"
      ],
      "text/plain": [
       "        First         DD         SD        BDS\n",
       "FB  25803.571  20642.857  18062.500  18062.500\n",
       "WH  19352.679  11893.393  13546.875  13546.875\n",
       "QD  24646.429  15732.455  17252.500  17252.500"
      ]
     },
     "metadata": {},
     "output_type": "display_data"
    },
    {
     "data": {
      "text/plain": [
       "Text(0.5, 1.0, 'BDS')"
      ]
     },
     "execution_count": 265,
     "metadata": {},
     "output_type": "execute_result"
    },
    {
     "data": {
      "image/png": "[encoded data removed]",
      "text/plain": [
       "<Figure size 1440x360 with 2 Axes>"
      ]
     },
     "metadata": {
      "needs_background": "light"
     },
     "output_type": "display_data"
    },
    {
     "data": {
      "image/png": "[encoded data removed]",
      "text/plain": [
       "<Figure size 1440x720 with 4 Axes>"
      ]
     },
     "metadata": {
      "needs_background": "light"
     },
     "output_type": "display_data"
    }
   ],
   "source": [
    "display(all_num)\n",
    "plt.figure(figsize=(20,5))\n",
    "plt.subplot(1,2,1)\n",
    "plt.bar(all_num.columns,all_num.loc[\"WH\"])\n",
    "plt.title(\"WH\",fontsize=20)\n",
    "plt.ylim([0,25000])\n",
    "plt.subplot(1,2,2)\n",
    "plt.bar(all_num.columns,all_num.loc[\"QD\"])\n",
    "plt.title(\"QD\",fontsize=20)\n",
    "plt.ylim([0,25000])\n",
    "\n",
    "\n",
    "plt.figure(figsize=(20,10))\n",
    "plt.subplot(1,4,1)\n",
    "sns.barplot(x=\"Contract\",y=\"First\",hue=\"index\",data=all_)\n",
    "plt.ylim([0,17000])\n",
    "plt.title(\"First\",fontsize=20)\n",
    "plt.subplot(1,4,2)\n",
    "sns.barplot(x=\"Contract\",y=\"DD\",hue=\"index\",data=all_)\n",
    "plt.ylim([0,17000])\n",
    "plt.title(\"DD\",fontsize=20)\n",
    "plt.subplot(1,4,3)\n",
    "sns.barplot(x=\"Contract\",y=\"SD\",hue=\"index\",data=all_)\n",
    "plt.ylim([0,17000])\n",
    "plt.title(\"SD\",fontsize=20)\n",
    "plt.subplot(1,4,4)\n",
    "sns.barplot(x=\"Contract\",y=\"BDS\",hue=\"index\",data=all_)\n",
    "plt.ylim([0,17000])\n",
    "plt.title(\"BDS\",fontsize=20)"
   ]
  },
  {
   "cell_type": "markdown",
   "metadata": {},
   "source": [
    "### 해석\n",
    "- Supply disruption에 따른 비용처리가 필요하다(기회비용)\n",
    "    SD 와 BDS가 동일하게 나온다( Deamnd disruption 발생에 대한 비용 처리 필요)\n",
    "    \n",
    "- QD 가 WH 보다 좋다"
   ]
  },
  {
   "cell_type": "code",
   "execution_count": 280,
   "metadata": {},
   "outputs": [
    {
     "data": {
      "text/html": [
       "<div>\n",
       "<style scoped>\n",
       "    .dataframe tbody tr th:only-of-type {\n",
       "        vertical-align: middle;\n",
       "    }\n",
       "\n",
       "    .dataframe tbody tr th {\n",
       "        vertical-align: top;\n",
       "    }\n",
       "\n",
       "    .dataframe thead th {\n",
       "        text-align: right;\n",
       "    }\n",
       "</style>\n",
       "<table border=\"1\" class=\"dataframe\">\n",
       "  <thead>\n",
       "    <tr style=\"text-align: right;\">\n",
       "      <th></th>\n",
       "      <th>FB</th>\n",
       "      <th>WH</th>\n",
       "      <th>QD</th>\n",
       "    </tr>\n",
       "  </thead>\n",
       "  <tbody>\n",
       "    <tr>\n",
       "      <th>p</th>\n",
       "      <td>(alpha + beta*c)/(2*beta)</td>\n",
       "      <td>(3*alpha*delta_d + beta*c - beta*delta_d*lambd...</td>\n",
       "      <td>(3*alpha*delta_d + 2*beta*c - beta*delta_d*lam...</td>\n",
       "    </tr>\n",
       "    <tr>\n",
       "      <th>q</th>\n",
       "      <td>alpha/2 - beta*c/2</td>\n",
       "      <td>(alpha*delta_d - beta*c + beta*delta_d*lambda ...</td>\n",
       "      <td>(alpha*delta_d - 2*beta*c + beta*delta_d*lambd...</td>\n",
       "    </tr>\n",
       "    <tr>\n",
       "      <th>D</th>\n",
       "      <td>delta_d*(alpha/2 - beta*c/2)</td>\n",
       "      <td>alpha*delta_d/4 - beta*c/4 + beta*delta_d*lamb...</td>\n",
       "      <td>alpha*delta_d/4 - beta*c/2 + beta*delta_d*lamb...</td>\n",
       "    </tr>\n",
       "    <tr>\n",
       "      <th>pro_all</th>\n",
       "      <td>delta_d*(alpha - beta*c)**2/(4*beta)</td>\n",
       "      <td>3*(-alpha*delta_d + beta*c - beta*delta_d*lamb...</td>\n",
       "      <td>(alpha*delta_d + beta*delta_d*lambda - beta*la...</td>\n",
       "    </tr>\n",
       "    <tr>\n",
       "      <th>h1</th>\n",
       "      <td>-2*beta*delta_d</td>\n",
       "      <td>NaN</td>\n",
       "      <td>NaN</td>\n",
       "    </tr>\n",
       "  </tbody>\n",
       "</table>\n",
       "</div>"
      ],
      "text/plain": [
       "                                           FB  \\\n",
       "p                   (alpha + beta*c)/(2*beta)   \n",
       "q                          alpha/2 - beta*c/2   \n",
       "D                delta_d*(alpha/2 - beta*c/2)   \n",
       "pro_all  delta_d*(alpha - beta*c)**2/(4*beta)   \n",
       "h1                            -2*beta*delta_d   \n",
       "\n",
       "                                                        WH  \\\n",
       "p        (3*alpha*delta_d + beta*c - beta*delta_d*lambd...   \n",
       "q        (alpha*delta_d - beta*c + beta*delta_d*lambda ...   \n",
       "D        alpha*delta_d/4 - beta*c/4 + beta*delta_d*lamb...   \n",
       "pro_all  3*(-alpha*delta_d + beta*c - beta*delta_d*lamb...   \n",
       "h1                                                     NaN   \n",
       "\n",
       "                                                        QD  \n",
       "p        (3*alpha*delta_d + 2*beta*c - beta*delta_d*lam...  \n",
       "q        (alpha*delta_d - 2*beta*c + beta*delta_d*lambd...  \n",
       "D        alpha*delta_d/4 - beta*c/2 + beta*delta_d*lamb...  \n",
       "pro_all  (alpha*delta_d + beta*delta_d*lambda - beta*la...  \n",
       "h1                                                     NaN  "
      ]
     },
     "execution_count": 280,
     "metadata": {},
     "output_type": "execute_result"
    }
   ],
   "source": [
    "DD_all.head()"
   ]
  },
  {
   "cell_type": "code",
   "execution_count": 281,
   "metadata": {},
   "outputs": [
    {
     "data": {
      "text/latex": [
       "$\\displaystyle \\frac{\\left(\\alpha \\delta_{d} + \\beta \\delta_{d} \\lambda - \\beta \\lambda - \\beta w\\right) \\left(\\alpha \\delta_{d} - 2 \\beta c + \\beta \\delta_{d} \\lambda - \\beta \\lambda + \\beta w\\right)}{8 \\beta \\delta_{d}} + \\frac{\\left(\\alpha \\delta_{d} - 2 \\beta c + \\beta \\delta_{d} \\lambda - \\beta \\lambda + \\beta w\\right)^{2}}{16 \\beta \\delta_{d}}$"
      ],
      "text/plain": [
       "(alpha*delta_d + beta*delta_d*lambda - beta*lambda - beta*w)*(alpha*delta_d - 2*beta*c + beta*delta_d*lambda - beta*lambda + beta*w)/(8*beta*delta_d) + (alpha*delta_d - 2*beta*c + beta*delta_d*lambda - beta*lambda + beta*w)**2/(16*beta*delta_d)"
      ]
     },
     "execution_count": 281,
     "metadata": {},
     "output_type": "execute_result"
    }
   ],
   "source": [
    "DD_all.loc[\"pro_all\"][\"QD\"]"
   ]
  },
  {
   "cell_type": "code",
   "execution_count": null,
   "metadata": {},
   "outputs": [],
   "source": []
  },
  {
   "cell_type": "markdown",
   "metadata": {},
   "source": [
    "## DD > SD"
   ]
  },
  {
   "cell_type": "code",
   "execution_count": 266,
   "metadata": {},
   "outputs": [
    {
     "data": {
      "text/html": [
       "<div>\n",
       "<style scoped>\n",
       "    .dataframe tbody tr th:only-of-type {\n",
       "        vertical-align: middle;\n",
       "    }\n",
       "\n",
       "    .dataframe tbody tr th {\n",
       "        vertical-align: top;\n",
       "    }\n",
       "\n",
       "    .dataframe thead th {\n",
       "        text-align: right;\n",
       "    }\n",
       "</style>\n",
       "<table border=\"1\" class=\"dataframe\">\n",
       "  <thead>\n",
       "    <tr style=\"text-align: right;\">\n",
       "      <th></th>\n",
       "      <th>level_0</th>\n",
       "      <th>First</th>\n",
       "      <th>DD</th>\n",
       "      <th>SD</th>\n",
       "      <th>BDD</th>\n",
       "      <th>index</th>\n",
       "      <th>Contract</th>\n",
       "    </tr>\n",
       "  </thead>\n",
       "  <tbody>\n",
       "    <tr>\n",
       "      <th>0</th>\n",
       "      <td>WH</td>\n",
       "      <td>6450.893</td>\n",
       "      <td>2805.625</td>\n",
       "      <td>5160.714</td>\n",
       "      <td>3900.625</td>\n",
       "      <td>retailer</td>\n",
       "      <td>WH</td>\n",
       "    </tr>\n",
       "    <tr>\n",
       "      <th>1</th>\n",
       "      <td>QD</td>\n",
       "      <td>8614.286</td>\n",
       "      <td>-513.750</td>\n",
       "      <td>6891.429</td>\n",
       "      <td>3881.250</td>\n",
       "      <td>retailer</td>\n",
       "      <td>QD</td>\n",
       "    </tr>\n",
       "    <tr>\n",
       "      <th>2</th>\n",
       "      <td>WH</td>\n",
       "      <td>12901.786</td>\n",
       "      <td>5611.250</td>\n",
       "      <td>10321.429</td>\n",
       "      <td>7801.250</td>\n",
       "      <td>supplier</td>\n",
       "      <td>WH</td>\n",
       "    </tr>\n",
       "    <tr>\n",
       "      <th>3</th>\n",
       "      <td>QD</td>\n",
       "      <td>16032.143</td>\n",
       "      <td>11730.625</td>\n",
       "      <td>12825.714</td>\n",
       "      <td>11390.625</td>\n",
       "      <td>supplier</td>\n",
       "      <td>QD</td>\n",
       "    </tr>\n",
       "  </tbody>\n",
       "</table>\n",
       "</div>"
      ],
      "text/plain": [
       "  level_0      First         DD         SD        BDD     index Contract\n",
       "0      WH   6450.893   2805.625   5160.714   3900.625  retailer       WH\n",
       "1      QD   8614.286   -513.750   6891.429   3881.250  retailer       QD\n",
       "2      WH  12901.786   5611.250  10321.429   7801.250  supplier       WH\n",
       "3      QD  16032.143  11730.625  12825.714  11390.625  supplier       QD"
      ]
     },
     "execution_count": 266,
     "metadata": {},
     "output_type": "execute_result"
    }
   ],
   "source": [
    "# DD = SD\n",
    "para_ = parameter_test_3\n",
    "all_num = apply_num(profit_all,para_).drop(columns=[\"BDS\"])\n",
    "all_s = apply_num(profit_s,para_).drop(columns=[\"BDS\"],index=\"FB\")\n",
    "all_s[\"index\"] = \"supplier\"\n",
    "all_s[\"Contract\"] = all_s.index\n",
    "all_r = apply_num(profit_r,para_).drop(columns=[\"BDS\"],index=\"FB\")\n",
    "all_r[\"index\"] = \"retailer\"\n",
    "all_r[\"Contract\"] = all_r.index\n",
    "all_ = pd.concat([all_r,all_s]).reset_index()\n",
    "all_"
   ]
  },
  {
   "cell_type": "code",
   "execution_count": 267,
   "metadata": {
    "scrolled": false
   },
   "outputs": [
    {
     "data": {
      "text/html": [
       "<div>\n",
       "<style scoped>\n",
       "    .dataframe tbody tr th:only-of-type {\n",
       "        vertical-align: middle;\n",
       "    }\n",
       "\n",
       "    .dataframe tbody tr th {\n",
       "        vertical-align: top;\n",
       "    }\n",
       "\n",
       "    .dataframe thead th {\n",
       "        text-align: right;\n",
       "    }\n",
       "</style>\n",
       "<table border=\"1\" class=\"dataframe\">\n",
       "  <thead>\n",
       "    <tr style=\"text-align: right;\">\n",
       "      <th></th>\n",
       "      <th>First</th>\n",
       "      <th>DD</th>\n",
       "      <th>SD</th>\n",
       "      <th>BDD</th>\n",
       "    </tr>\n",
       "  </thead>\n",
       "  <tbody>\n",
       "    <tr>\n",
       "      <th>FB</th>\n",
       "      <td>25803.571</td>\n",
       "      <td>18062.500</td>\n",
       "      <td>20642.857</td>\n",
       "      <td>18062.500</td>\n",
       "    </tr>\n",
       "    <tr>\n",
       "      <th>WH</th>\n",
       "      <td>19352.679</td>\n",
       "      <td>8416.875</td>\n",
       "      <td>15482.143</td>\n",
       "      <td>11701.875</td>\n",
       "    </tr>\n",
       "    <tr>\n",
       "      <th>QD</th>\n",
       "      <td>24646.429</td>\n",
       "      <td>11216.875</td>\n",
       "      <td>19717.143</td>\n",
       "      <td>15271.875</td>\n",
       "    </tr>\n",
       "  </tbody>\n",
       "</table>\n",
       "</div>"
      ],
      "text/plain": [
       "        First         DD         SD        BDD\n",
       "FB  25803.571  18062.500  20642.857  18062.500\n",
       "WH  19352.679   8416.875  15482.143  11701.875\n",
       "QD  24646.429  11216.875  19717.143  15271.875"
      ]
     },
     "metadata": {},
     "output_type": "display_data"
    },
    {
     "data": {
      "text/plain": [
       "Text(0.5, 1.0, 'BDD')"
      ]
     },
     "execution_count": 267,
     "metadata": {},
     "output_type": "execute_result"
    },
    {
     "data": {
      "image/png": "[encoded data removed]",
      "text/plain": [
       "<Figure size 1440x360 with 2 Axes>"
      ]
     },
     "metadata": {
      "needs_background": "light"
     },
     "output_type": "display_data"
    },
    {
     "data": {
      "image/png": "[encoded data removed]",
      "text/plain": [
       "<Figure size 1440x720 with 4 Axes>"
      ]
     },
     "metadata": {
      "needs_background": "light"
     },
     "output_type": "display_data"
    }
   ],
   "source": [
    "display(all_num)\n",
    "plt.figure(figsize=(20,5))\n",
    "plt.subplot(1,2,1)\n",
    "plt.bar(all_num.columns,all_num.loc[\"WH\"])\n",
    "plt.title(\"WH\",fontsize=20)\n",
    "plt.ylim([0,25000])\n",
    "plt.subplot(1,2,2)\n",
    "plt.bar(all_num.columns,all_num.loc[\"QD\"])\n",
    "plt.title(\"QD\",fontsize=20)\n",
    "plt.ylim([0,25000])\n",
    "\n",
    "plt.figure(figsize=(20,10))\n",
    "plt.subplot(1,4,1)\n",
    "p1 = sns.barplot(x=\"Contract\",y=\"First\",hue=\"index\",data=all_)\n",
    "plt.ylim([-600,17000])\n",
    "plt.title(\"First\",fontsize=20)\n",
    "plt.subplot(1,4,2)\n",
    "p2 = sns.barplot(x=\"Contract\",y=\"DD\",hue=\"index\",data=all_)\n",
    "plt.ylim([-600,17000])\n",
    "plt.title(\"DD\",fontsize=20)\n",
    "plt.subplot(1,4,3)\n",
    "p3 = sns.barplot(x=\"Contract\",y=\"SD\",hue=\"index\",data=all_)\n",
    "plt.ylim([-600,17000])\n",
    "plt.title(\"SD\",fontsize=20)\n",
    "plt.subplot(1,4,4)\n",
    "p4 = sns.barplot(x=\"Contract\",y=\"BDD\",hue=\"index\",data=all_)\n",
    "plt.ylim([-600,17000])\n",
    "plt.title(\"BDD\",fontsize=20)\n"
   ]
  },
  {
   "cell_type": "markdown",
   "metadata": {},
   "source": [
    "### 해석\n",
    "- DD : retailer 입장에서는 WH 가 QD 보다 좋다. (상황에 따라서 음수 값이 나올 수 도 있다.\n",
    "- DD VS BDD : 오히려 retailer 입장에서는 DD와 SD 가 동시에 일어 났을때, 상황이 좋다\n",
    "- BDD : 왜 retailer의 이익이 WH와 QD가 거의 동일한가?\n",
    "  "
   ]
  },
  {
   "cell_type": "code",
   "execution_count": 209,
   "metadata": {},
   "outputs": [
    {
     "data": {
      "text/latex": [
       "$\\displaystyle \\frac{\\left(\\alpha \\delta_{d} + \\beta \\delta_{d} \\lambda - \\beta \\delta_{s} \\lambda - \\beta \\delta_{s} w\\right) \\left(\\alpha \\delta_{d} - 2 \\beta c \\delta_{s} + \\beta \\delta_{d} \\lambda - \\beta \\delta_{s} \\lambda + \\beta \\delta_{s} w\\right)}{8 \\beta \\delta_{d}}$"
      ],
      "text/plain": [
       "(alpha*delta_d + beta*delta_d*lambda - beta*delta_s*lambda - beta*delta_s*w)*(alpha*delta_d - 2*beta*c*delta_s + beta*delta_d*lambda - beta*delta_s*lambda + beta*delta_s*w)/(8*beta*delta_d)"
      ]
     },
     "execution_count": 209,
     "metadata": {},
     "output_type": "execute_result"
    }
   ],
   "source": [
    "BDD_all.loc[\"pro_r\"][\"QD\"]"
   ]
  },
  {
   "cell_type": "code",
   "execution_count": 208,
   "metadata": {},
   "outputs": [
    {
     "data": {
      "text/latex": [
       "$\\displaystyle \\frac{\\left(\\alpha \\delta_{d} - \\beta c \\delta_{s} + \\beta \\delta_{d} \\lambda - \\beta \\delta_{s} \\lambda\\right)^{2}}{16 \\beta \\delta_{d}}$"
      ],
      "text/plain": [
       "(alpha*delta_d - beta*c*delta_s + beta*delta_d*lambda - beta*delta_s*lambda)**2/(16*beta*delta_d)"
      ]
     },
     "execution_count": 208,
     "metadata": {},
     "output_type": "execute_result"
    }
   ],
   "source": [
    "BDD_all.loc[\"pro_r\"][\"WH\"]"
   ]
  },
  {
   "cell_type": "code",
   "execution_count": 206,
   "metadata": {},
   "outputs": [
    {
     "data": {
      "text/latex": [
       "$\\displaystyle \\frac{- \\alpha^{2} \\delta_{d}^{2} + \\beta^{2} \\delta_{s}^{2} \\left(c^{2} - 2 c \\lambda - 4 c w - \\lambda^{2} + 2 w^{2}\\right) + \\beta \\delta_{d} \\left(2 \\alpha c \\delta_{s} - 2 \\alpha \\delta_{d} \\lambda + 2 \\alpha \\delta_{s} \\lambda + 2 \\beta c \\delta_{s} \\lambda - \\beta \\delta_{d} \\lambda^{2} + 2 \\beta \\delta_{s} \\lambda^{2}\\right)}{16 \\beta \\delta_{d}}$"
      ],
      "text/plain": [
       "(-alpha**2*delta_d**2 + beta**2*delta_s**2*(c**2 - 2*c*lambda - 4*c*w - lambda**2 + 2*w**2) + beta*delta_d*(2*alpha*c*delta_s - 2*alpha*delta_d*lambda + 2*alpha*delta_s*lambda + 2*beta*c*delta_s*lambda - beta*delta_d*lambda**2 + 2*beta*delta_s*lambda**2))/(16*beta*delta_d)"
      ]
     },
     "execution_count": 206,
     "metadata": {},
     "output_type": "execute_result"
    }
   ],
   "source": [
    "(BDD_all.loc[\"pro_r\"][\"WH\"] - BDD_all.loc[\"pro_r\"][\"QD\"]).expand().simplify()"
   ]
  },
  {
   "cell_type": "code",
   "execution_count": 207,
   "metadata": {},
   "outputs": [
    {
     "data": {
      "text/latex": [
       "$\\displaystyle \\frac{\\delta_{s} \\left(- \\alpha^{2} + \\beta \\left(2 \\alpha c + \\beta c^{2} - 4 \\beta c w + 2 \\beta w^{2}\\right)\\right)}{16 \\beta}$"
      ],
      "text/plain": [
       "delta_s*(-alpha**2 + beta*(2*alpha*c + beta*c**2 - 4*beta*c*w + 2*beta*w**2))/(16*beta)"
      ]
     },
     "execution_count": 207,
     "metadata": {},
     "output_type": "execute_result"
    }
   ],
   "source": [
    "(BDS_all.loc[\"pro_r\"][\"WH\"] - BDS_all.loc[\"pro_r\"][\"QD\"]).expand().simplify()"
   ]
  },
  {
   "cell_type": "code",
   "execution_count": null,
   "metadata": {},
   "outputs": [],
   "source": []
  },
  {
   "cell_type": "code",
   "execution_count": 211,
   "metadata": {},
   "outputs": [
    {
     "data": {
      "text/plain": [
       "Index(['p', 'q', 'D', 'pro_all', 'h1', 'w', 'p_w', 'S', 'T', 'pro_r', 'pro_s',\n",
       "       'h1_r_p', 'h1_s_w', 'theta', 'p_w_theta', 'h1_s_th', 'h2_s'],\n",
       "      dtype='object')"
      ]
     },
     "execution_count": 211,
     "metadata": {},
     "output_type": "execute_result"
    }
   ],
   "source": [
    "First_all.index"
   ]
  },
  {
   "cell_type": "markdown",
   "metadata": {},
   "source": [
    "# others Comparison"
   ]
  },
  {
   "cell_type": "code",
   "execution_count": 212,
   "metadata": {},
   "outputs": [],
   "source": [
    "target = \"p\"\n",
    "df_all = concat_all(\"p\",case_)"
   ]
  },
  {
   "cell_type": "markdown",
   "metadata": {},
   "source": [
    "## Price"
   ]
  },
  {
   "cell_type": "code",
   "execution_count": 214,
   "metadata": {},
   "outputs": [
    {
     "data": {
      "text/html": [
       "<div>\n",
       "<style scoped>\n",
       "    .dataframe tbody tr th:only-of-type {\n",
       "        vertical-align: middle;\n",
       "    }\n",
       "\n",
       "    .dataframe tbody tr th {\n",
       "        vertical-align: top;\n",
       "    }\n",
       "\n",
       "    .dataframe thead th {\n",
       "        text-align: right;\n",
       "    }\n",
       "</style>\n",
       "<table border=\"1\" class=\"dataframe\">\n",
       "  <thead>\n",
       "    <tr style=\"text-align: right;\">\n",
       "      <th></th>\n",
       "      <th>First</th>\n",
       "      <th>DD</th>\n",
       "      <th>SD</th>\n",
       "      <th>BDD</th>\n",
       "      <th>BDS</th>\n",
       "    </tr>\n",
       "  </thead>\n",
       "  <tbody>\n",
       "    <tr>\n",
       "      <th>FB</th>\n",
       "      <td>110.714</td>\n",
       "      <td>110.714</td>\n",
       "      <td>110.714</td>\n",
       "      <td>110.714</td>\n",
       "      <td>110.714</td>\n",
       "    </tr>\n",
       "    <tr>\n",
       "      <th>WH</th>\n",
       "      <td>141.071</td>\n",
       "      <td>144.821</td>\n",
       "      <td>141.071</td>\n",
       "      <td>141.071</td>\n",
       "      <td>141.071</td>\n",
       "    </tr>\n",
       "    <tr>\n",
       "      <th>QD</th>\n",
       "      <td>123.571</td>\n",
       "      <td>122.946</td>\n",
       "      <td>123.571</td>\n",
       "      <td>123.571</td>\n",
       "      <td>123.571</td>\n",
       "    </tr>\n",
       "  </tbody>\n",
       "</table>\n",
       "</div>"
      ],
      "text/plain": [
       "      First       DD       SD      BDD      BDS\n",
       "FB  110.714  110.714  110.714  110.714  110.714\n",
       "WH  141.071  144.821  141.071  141.071  141.071\n",
       "QD  123.571  122.946  123.571  123.571  123.571"
      ]
     },
     "execution_count": 214,
     "metadata": {},
     "output_type": "execute_result"
    }
   ],
   "source": [
    "# DD = SD\n",
    "para_ = parameter_test\n",
    "all_num = apply_num(df_all,para_)#.drop(columns=[\"BDD\",\"BDS\"])\n",
    "all_num"
   ]
  },
  {
   "cell_type": "code",
   "execution_count": 258,
   "metadata": {},
   "outputs": [],
   "source": [
    "def autolabel(rects):\n",
    "    \"\"\"Attach a text label above each bar in *rects*, displaying its height.\"\"\"\n",
    "    for rect in rects:\n",
    "        height = rect.get_height()\n",
    "        ax.annotate('{}'.format(round(float(height),4)),\n",
    "                    xy=(rect.get_x() + rect.get_width() / 2, height),\n",
    "                    xytext=(0, 3),  # 3 points vertical offset\n",
    "                    textcoords=\"offset points\",\n",
    "                    ha='center', va='bottom',fontsize=15)"
   ]
  },
  {
   "cell_type": "code",
   "execution_count": 240,
   "metadata": {},
   "outputs": [
    {
     "data": {
      "text/html": [
       "<div>\n",
       "<style scoped>\n",
       "    .dataframe tbody tr th:only-of-type {\n",
       "        vertical-align: middle;\n",
       "    }\n",
       "\n",
       "    .dataframe tbody tr th {\n",
       "        vertical-align: top;\n",
       "    }\n",
       "\n",
       "    .dataframe thead th {\n",
       "        text-align: right;\n",
       "    }\n",
       "</style>\n",
       "<table border=\"1\" class=\"dataframe\">\n",
       "  <thead>\n",
       "    <tr style=\"text-align: right;\">\n",
       "      <th></th>\n",
       "      <th>First</th>\n",
       "      <th>DD</th>\n",
       "      <th>SD</th>\n",
       "      <th>BDD</th>\n",
       "      <th>BDS</th>\n",
       "    </tr>\n",
       "  </thead>\n",
       "  <tbody>\n",
       "    <tr>\n",
       "      <th>FB</th>\n",
       "      <td>110.714</td>\n",
       "      <td>110.714</td>\n",
       "      <td>110.714</td>\n",
       "      <td>110.714</td>\n",
       "      <td>110.714</td>\n",
       "    </tr>\n",
       "    <tr>\n",
       "      <th>WH</th>\n",
       "      <td>141.071</td>\n",
       "      <td>144.821</td>\n",
       "      <td>141.071</td>\n",
       "      <td>141.071</td>\n",
       "      <td>141.071</td>\n",
       "    </tr>\n",
       "    <tr>\n",
       "      <th>QD</th>\n",
       "      <td>123.571</td>\n",
       "      <td>122.946</td>\n",
       "      <td>123.571</td>\n",
       "      <td>123.571</td>\n",
       "      <td>123.571</td>\n",
       "    </tr>\n",
       "  </tbody>\n",
       "</table>\n",
       "</div>"
      ],
      "text/plain": [
       "      First       DD       SD      BDD      BDS\n",
       "FB  110.714  110.714  110.714  110.714  110.714\n",
       "WH  141.071  144.821  141.071  141.071  141.071\n",
       "QD  123.571  122.946  123.571  123.571  123.571"
      ]
     },
     "metadata": {},
     "output_type": "display_data"
    },
    {
     "data": {
      "image/png": "[encoded data removed]",
      "text/plain": [
       "<Figure size 1440x720 with 1 Axes>"
      ]
     },
     "metadata": {
      "needs_background": "light"
     },
     "output_type": "display_data"
    }
   ],
   "source": [
    "x = np.arange(len(all_num.index))  # the label locations\n",
    "width = 0.35  # the width of the bars\n",
    "fig, ax = plt.subplots(figsize=(20,10))\n",
    "p1 = plt.bar(x - width/2, all_num[\"First\"], width, label='Others')\n",
    "p2 = plt.bar(x + width/2, all_num[\"DD\"], width, label='DD')\n",
    "plt.ylim([100,150])\n",
    "ax.legend()\n",
    "ax.set_xticks(x)\n",
    "ax.set_xticklabels(all_num.index,fontsize=20)\n",
    "autolabel(p1)\n",
    "autolabel(p2)\n",
    "plt.title(\"Price\",fontsize=25)\n",
    "display(all_num)"
   ]
  },
  {
   "cell_type": "markdown",
   "metadata": {},
   "source": [
    "### 해석\n",
    "- 어떠한 상황에서도 FB의 price는 동일하다.\n",
    "- WH는 DD 일때 가격을 상승 \n",
    "- QD는 DD 일때 가격을 하락 (리더가 통제)"
   ]
  },
  {
   "cell_type": "code",
   "execution_count": null,
   "metadata": {},
   "outputs": [],
   "source": []
  },
  {
   "cell_type": "markdown",
   "metadata": {},
   "source": [
    "## Demand"
   ]
  },
  {
   "cell_type": "code",
   "execution_count": 241,
   "metadata": {},
   "outputs": [],
   "source": [
    "target = \"D\"\n",
    "df_all = concat_all(target,case_)"
   ]
  },
  {
   "cell_type": "code",
   "execution_count": 259,
   "metadata": {},
   "outputs": [
    {
     "data": {
      "text/html": [
       "<div>\n",
       "<style scoped>\n",
       "    .dataframe tbody tr th:only-of-type {\n",
       "        vertical-align: middle;\n",
       "    }\n",
       "\n",
       "    .dataframe tbody tr th {\n",
       "        vertical-align: top;\n",
       "    }\n",
       "\n",
       "    .dataframe thead th {\n",
       "        text-align: right;\n",
       "    }\n",
       "</style>\n",
       "<table border=\"1\" class=\"dataframe\">\n",
       "  <thead>\n",
       "    <tr style=\"text-align: right;\">\n",
       "      <th></th>\n",
       "      <th>First</th>\n",
       "      <th>DD</th>\n",
       "      <th>SD</th>\n",
       "      <th>BDD</th>\n",
       "      <th>BDS</th>\n",
       "    </tr>\n",
       "  </thead>\n",
       "  <tbody>\n",
       "    <tr>\n",
       "      <th>FB</th>\n",
       "      <td>425</td>\n",
       "      <td>340.000000000000</td>\n",
       "      <td>340.000000000000</td>\n",
       "      <td>340.000000000000</td>\n",
       "      <td>340.000000000000</td>\n",
       "    </tr>\n",
       "    <tr>\n",
       "      <th>WH</th>\n",
       "      <td>212.500</td>\n",
       "      <td>149.000000000000</td>\n",
       "      <td>170.000000000000</td>\n",
       "      <td>170.000000000000</td>\n",
       "      <td>170.000000000000</td>\n",
       "    </tr>\n",
       "    <tr>\n",
       "      <th>QD</th>\n",
       "      <td>335</td>\n",
       "      <td>271.500</td>\n",
       "      <td>268.000000000000</td>\n",
       "      <td>268.000000000000</td>\n",
       "      <td>268.000000000000</td>\n",
       "    </tr>\n",
       "  </tbody>\n",
       "</table>\n",
       "</div>"
      ],
      "text/plain": [
       "      First                DD                SD               BDD  \\\n",
       "FB      425  340.000000000000  340.000000000000  340.000000000000   \n",
       "WH  212.500  149.000000000000  170.000000000000  170.000000000000   \n",
       "QD      335           271.500  268.000000000000  268.000000000000   \n",
       "\n",
       "                 BDS  \n",
       "FB  340.000000000000  \n",
       "WH  170.000000000000  \n",
       "QD  268.000000000000  "
      ]
     },
     "execution_count": 259,
     "metadata": {},
     "output_type": "execute_result"
    }
   ],
   "source": [
    "# DD = SD\n",
    "para_ = parameter_test\n",
    "all_num = apply_num(df_all,para_)#.drop(columns=[\"BDD\",\"BDS\"])\n",
    "all_num"
   ]
  },
  {
   "cell_type": "code",
   "execution_count": 262,
   "metadata": {
    "scrolled": false
   },
   "outputs": [
    {
     "data": {
      "text/html": [
       "<div>\n",
       "<style scoped>\n",
       "    .dataframe tbody tr th:only-of-type {\n",
       "        vertical-align: middle;\n",
       "    }\n",
       "\n",
       "    .dataframe tbody tr th {\n",
       "        vertical-align: top;\n",
       "    }\n",
       "\n",
       "    .dataframe thead th {\n",
       "        text-align: right;\n",
       "    }\n",
       "</style>\n",
       "<table border=\"1\" class=\"dataframe\">\n",
       "  <thead>\n",
       "    <tr style=\"text-align: right;\">\n",
       "      <th></th>\n",
       "      <th>First</th>\n",
       "      <th>DD</th>\n",
       "      <th>SD</th>\n",
       "      <th>BDD</th>\n",
       "      <th>BDS</th>\n",
       "    </tr>\n",
       "  </thead>\n",
       "  <tbody>\n",
       "    <tr>\n",
       "      <th>FB</th>\n",
       "      <td>425.0</td>\n",
       "      <td>340.0</td>\n",
       "      <td>340.0</td>\n",
       "      <td>340.0</td>\n",
       "      <td>340.0</td>\n",
       "    </tr>\n",
       "    <tr>\n",
       "      <th>WH</th>\n",
       "      <td>212.5</td>\n",
       "      <td>149.0</td>\n",
       "      <td>170.0</td>\n",
       "      <td>170.0</td>\n",
       "      <td>170.0</td>\n",
       "    </tr>\n",
       "    <tr>\n",
       "      <th>QD</th>\n",
       "      <td>335.0</td>\n",
       "      <td>271.5</td>\n",
       "      <td>268.0</td>\n",
       "      <td>268.0</td>\n",
       "      <td>268.0</td>\n",
       "    </tr>\n",
       "  </tbody>\n",
       "</table>\n",
       "</div>"
      ],
      "text/plain": [
       "    First     DD     SD    BDD    BDS\n",
       "FB  425.0  340.0  340.0  340.0  340.0\n",
       "WH  212.5  149.0  170.0  170.0  170.0\n",
       "QD  335.0  271.5  268.0  268.0  268.0"
      ]
     },
     "metadata": {},
     "output_type": "display_data"
    },
    {
     "data": {
      "image/png": "[encoded data removed]",
      "text/plain": [
       "<Figure size 1440x720 with 1 Axes>"
      ]
     },
     "metadata": {
      "needs_background": "light"
     },
     "output_type": "display_data"
    }
   ],
   "source": [
    "x = np.arange(len(all_num.index))  # the label locations\n",
    "width = 0.35  # the width of the bars\n",
    "fig, ax = plt.subplots(figsize=(20,10))\n",
    "p1 = plt.bar(x - 1*(width/2), all_num[\"First\"], width/2, label='First')\n",
    "p2 = plt.bar(x , all_num[\"SD\"], width/2, label='Others')\n",
    "p3 = plt.bar(x + 1*(width/2), all_num[\"DD\"], width/2, label='DD')\n",
    "\n",
    "#plt.ylim([100,150])\n",
    "ax.legend()\n",
    "ax.set_xticks(x)\n",
    "ax.set_xticklabels(all_num.index,fontsize=20)\n",
    "autolabel(p1)\n",
    "autolabel(p2)\n",
    "autolabel(p3)\n",
    "\n",
    "plt.title(\"Demand\",fontsize=25)\n",
    "display(all_num.apply(lambda y: y.map(lambda x: float(x))))"
   ]
  },
  {
   "cell_type": "markdown",
   "metadata": {},
   "source": [
    "### 해석\n",
    "- First > Other > DD 순이다.\n",
    "- 하지만 QD 일떄는 DD가 other 보다 높다."
   ]
  },
  {
   "cell_type": "code",
   "execution_count": null,
   "metadata": {},
   "outputs": [],
   "source": []
  },
  {
   "cell_type": "code",
   "execution_count": null,
   "metadata": {},
   "outputs": [],
   "source": []
  },
  {
   "cell_type": "code",
   "execution_count": null,
   "metadata": {},
   "outputs": [],
   "source": []
  },
  {
   "cell_type": "markdown",
   "metadata": {},
   "source": [
    "## Supply - Demand"
   ]
  },
  {
   "cell_type": "code",
   "execution_count": 268,
   "metadata": {},
   "outputs": [],
   "source": [
    "target = \"D\"\n",
    "df_all = concat_all(\"S\",case_) - concat_all(\"D\",case_)"
   ]
  },
  {
   "cell_type": "code",
   "execution_count": 270,
   "metadata": {},
   "outputs": [
    {
     "data": {
      "text/html": [
       "<div>\n",
       "<style scoped>\n",
       "    .dataframe tbody tr th:only-of-type {\n",
       "        vertical-align: middle;\n",
       "    }\n",
       "\n",
       "    .dataframe tbody tr th {\n",
       "        vertical-align: top;\n",
       "    }\n",
       "\n",
       "    .dataframe thead th {\n",
       "        text-align: right;\n",
       "    }\n",
       "</style>\n",
       "<table border=\"1\" class=\"dataframe\">\n",
       "  <thead>\n",
       "    <tr style=\"text-align: right;\">\n",
       "      <th></th>\n",
       "      <th>First</th>\n",
       "      <th>DD</th>\n",
       "      <th>SD</th>\n",
       "      <th>BDD</th>\n",
       "      <th>BDS</th>\n",
       "    </tr>\n",
       "  </thead>\n",
       "  <tbody>\n",
       "    <tr>\n",
       "      <th>WH</th>\n",
       "      <td>0</td>\n",
       "      <td>37.250</td>\n",
       "      <td>0</td>\n",
       "      <td>0</td>\n",
       "      <td>0</td>\n",
       "    </tr>\n",
       "    <tr>\n",
       "      <th>QD</th>\n",
       "      <td>0</td>\n",
       "      <td>67.875</td>\n",
       "      <td>0</td>\n",
       "      <td>0</td>\n",
       "      <td>0</td>\n",
       "    </tr>\n",
       "  </tbody>\n",
       "</table>\n",
       "</div>"
      ],
      "text/plain": [
       "   First      DD SD BDD BDS\n",
       "WH     0  37.250  0   0   0\n",
       "QD     0  67.875  0   0   0"
      ]
     },
     "execution_count": 270,
     "metadata": {},
     "output_type": "execute_result"
    }
   ],
   "source": [
    "# DD = SD\n",
    "para_ = parameter_test\n",
    "all_num = apply_num(df_all,para_).drop(index=[\"FB\"])\n",
    "all_num"
   ]
  },
  {
   "cell_type": "code",
   "execution_count": 272,
   "metadata": {
    "scrolled": false
   },
   "outputs": [
    {
     "data": {
      "text/html": [
       "<div>\n",
       "<style scoped>\n",
       "    .dataframe tbody tr th:only-of-type {\n",
       "        vertical-align: middle;\n",
       "    }\n",
       "\n",
       "    .dataframe tbody tr th {\n",
       "        vertical-align: top;\n",
       "    }\n",
       "\n",
       "    .dataframe thead th {\n",
       "        text-align: right;\n",
       "    }\n",
       "</style>\n",
       "<table border=\"1\" class=\"dataframe\">\n",
       "  <thead>\n",
       "    <tr style=\"text-align: right;\">\n",
       "      <th></th>\n",
       "      <th>First</th>\n",
       "      <th>DD</th>\n",
       "      <th>SD</th>\n",
       "      <th>BDD</th>\n",
       "      <th>BDS</th>\n",
       "    </tr>\n",
       "  </thead>\n",
       "  <tbody>\n",
       "    <tr>\n",
       "      <th>WH</th>\n",
       "      <td>0.0</td>\n",
       "      <td>37.250</td>\n",
       "      <td>0.0</td>\n",
       "      <td>0.0</td>\n",
       "      <td>0.0</td>\n",
       "    </tr>\n",
       "    <tr>\n",
       "      <th>QD</th>\n",
       "      <td>0.0</td>\n",
       "      <td>67.875</td>\n",
       "      <td>0.0</td>\n",
       "      <td>0.0</td>\n",
       "      <td>0.0</td>\n",
       "    </tr>\n",
       "  </tbody>\n",
       "</table>\n",
       "</div>"
      ],
      "text/plain": [
       "    First      DD   SD  BDD  BDS\n",
       "WH    0.0  37.250  0.0  0.0  0.0\n",
       "QD    0.0  67.875  0.0  0.0  0.0"
      ]
     },
     "metadata": {},
     "output_type": "display_data"
    },
    {
     "data": {
      "image/png": "[encoded data removed]",
      "text/plain": [
       "<Figure size 1440x720 with 1 Axes>"
      ]
     },
     "metadata": {
      "needs_background": "light"
     },
     "output_type": "display_data"
    }
   ],
   "source": [
    "\n",
    "x = np.arange(len(all_num.index))  # the label locations\n",
    "width = 0.35  # the width of the bars\n",
    "fig, ax = plt.subplots(figsize=(20,10))\n",
    "p1 = plt.bar(x - 1*(width/3), all_num[\"First\"], width, label='Others')\n",
    "p2 = plt.bar(x + 1*(width/3), all_num[\"DD\"], width, label='DD')\n",
    "\n",
    "#plt.ylim([100,150])\n",
    "ax.legend()\n",
    "ax.set_xticks(x)\n",
    "ax.set_xticklabels(all_num.index,fontsize=20)\n",
    "autolabel(p1)\n",
    "autolabel(p2)\n",
    "\n",
    "\n",
    "plt.title(\"DD\",fontsize=25)\n",
    "display(all_num.apply(lambda y: y.map(lambda x: float(x))))"
   ]
  },
  {
   "cell_type": "markdown",
   "metadata": {},
   "source": [
    "### 해석\n",
    "- DD 일때, QD는 retialer 에게 좀 더 많은 상품을 구매하게 만든다( 필요 이상으로)\n"
   ]
  },
  {
   "cell_type": "code",
   "execution_count": null,
   "metadata": {},
   "outputs": [],
   "source": []
  },
  {
   "cell_type": "markdown",
   "metadata": {},
   "source": [
    "## T"
   ]
  },
  {
   "cell_type": "code",
   "execution_count": 273,
   "metadata": {},
   "outputs": [],
   "source": [
    "target = \"T\"\n",
    "df_all = concat_all(\"T\",case_)"
   ]
  },
  {
   "cell_type": "code",
   "execution_count": 275,
   "metadata": {},
   "outputs": [
    {
     "data": {
      "text/html": [
       "<div>\n",
       "<style scoped>\n",
       "    .dataframe tbody tr th:only-of-type {\n",
       "        vertical-align: middle;\n",
       "    }\n",
       "\n",
       "    .dataframe tbody tr th {\n",
       "        vertical-align: top;\n",
       "    }\n",
       "\n",
       "    .dataframe thead th {\n",
       "        text-align: right;\n",
       "    }\n",
       "</style>\n",
       "<table border=\"1\" class=\"dataframe\">\n",
       "  <thead>\n",
       "    <tr style=\"text-align: right;\">\n",
       "      <th></th>\n",
       "      <th>First</th>\n",
       "      <th>DD</th>\n",
       "      <th>SD</th>\n",
       "      <th>BDD</th>\n",
       "      <th>BDS</th>\n",
       "    </tr>\n",
       "  </thead>\n",
       "  <tbody>\n",
       "    <tr>\n",
       "      <th>WH</th>\n",
       "      <td>110.714</td>\n",
       "      <td>92.571</td>\n",
       "      <td>110.714</td>\n",
       "      <td>110.714</td>\n",
       "      <td>110.714</td>\n",
       "    </tr>\n",
       "    <tr>\n",
       "      <th>QD</th>\n",
       "      <td>97.857</td>\n",
       "      <td>88.786</td>\n",
       "      <td>97.857</td>\n",
       "      <td>97.857</td>\n",
       "      <td>97.857</td>\n",
       "    </tr>\n",
       "  </tbody>\n",
       "</table>\n",
       "</div>"
      ],
      "text/plain": [
       "      First      DD       SD      BDD      BDS\n",
       "WH  110.714  92.571  110.714  110.714  110.714\n",
       "QD   97.857  88.786   97.857   97.857   97.857"
      ]
     },
     "execution_count": 275,
     "metadata": {},
     "output_type": "execute_result"
    }
   ],
   "source": [
    "# DD = SD\n",
    "para_ = parameter_test\n",
    "all_num = apply_num(df_all,para_).drop(index=[\"FB\"])\n",
    "all_num"
   ]
  },
  {
   "cell_type": "code",
   "execution_count": 278,
   "metadata": {},
   "outputs": [
    {
     "data": {
      "text/html": [
       "<div>\n",
       "<style scoped>\n",
       "    .dataframe tbody tr th:only-of-type {\n",
       "        vertical-align: middle;\n",
       "    }\n",
       "\n",
       "    .dataframe tbody tr th {\n",
       "        vertical-align: top;\n",
       "    }\n",
       "\n",
       "    .dataframe thead th {\n",
       "        text-align: right;\n",
       "    }\n",
       "</style>\n",
       "<table border=\"1\" class=\"dataframe\">\n",
       "  <thead>\n",
       "    <tr style=\"text-align: right;\">\n",
       "      <th></th>\n",
       "      <th>First</th>\n",
       "      <th>DD</th>\n",
       "      <th>SD</th>\n",
       "      <th>BDD</th>\n",
       "      <th>BDS</th>\n",
       "    </tr>\n",
       "  </thead>\n",
       "  <tbody>\n",
       "    <tr>\n",
       "      <th>WH</th>\n",
       "      <td>110.714</td>\n",
       "      <td>92.571</td>\n",
       "      <td>110.714</td>\n",
       "      <td>110.714</td>\n",
       "      <td>110.714</td>\n",
       "    </tr>\n",
       "    <tr>\n",
       "      <th>QD</th>\n",
       "      <td>97.857</td>\n",
       "      <td>88.786</td>\n",
       "      <td>97.857</td>\n",
       "      <td>97.857</td>\n",
       "      <td>97.857</td>\n",
       "    </tr>\n",
       "  </tbody>\n",
       "</table>\n",
       "</div>"
      ],
      "text/plain": [
       "      First      DD       SD      BDD      BDS\n",
       "WH  110.714  92.571  110.714  110.714  110.714\n",
       "QD   97.857  88.786   97.857   97.857   97.857"
      ]
     },
     "metadata": {},
     "output_type": "display_data"
    },
    {
     "data": {
      "image/png": "[encoded data removed]",
      "text/plain": [
       "<Figure size 1440x720 with 1 Axes>"
      ]
     },
     "metadata": {
      "needs_background": "light"
     },
     "output_type": "display_data"
    }
   ],
   "source": [
    "x = np.arange(len(all_num.index))  # the label locations\n",
    "width = 0.35  # the width of the bars\n",
    "fig, ax = plt.subplots(figsize=(20,10))\n",
    "p1 = plt.bar(x - width/2, all_num[\"First\"], width, label='Others')\n",
    "p2 = plt.bar(x + width/2, all_num[\"DD\"], width, label='DD')\n",
    "#plt.ylim([100,150])\n",
    "ax.legend()\n",
    "ax.set_xticks(x)\n",
    "ax.set_xticklabels(all_num.index,fontsize=20)\n",
    "autolabel(p1)\n",
    "autolabel(p2)\n",
    "plt.title(\"T\",fontsize=25)\n",
    "display(all_num)"
   ]
  },
  {
   "cell_type": "markdown",
   "metadata": {},
   "source": [
    "### 해석\n",
    "- 그래도 T는 QD가 적다"
   ]
  },
  {
   "cell_type": "code",
   "execution_count": null,
   "metadata": {},
   "outputs": [],
   "source": []
  },
  {
   "cell_type": "code",
   "execution_count": null,
   "metadata": {},
   "outputs": [],
   "source": []
  },
  {
   "cell_type": "code",
   "execution_count": null,
   "metadata": {},
   "outputs": [],
   "source": []
  },
  {
   "cell_type": "code",
   "execution_count": null,
   "metadata": {},
   "outputs": [],
   "source": []
  }
 ],
 "metadata": {
  "kernelspec": {
   "display_name": "Python 3",
   "language": "python",
   "name": "python3"
  },
  "language_info": {
   "codemirror_mode": {
    "name": "ipython",
    "version": 3
   },
   "file_extension": ".py",
   "mimetype": "text/x-python",
   "name": "python",
   "nbconvert_exporter": "python",
   "pygments_lexer": "ipython3",
   "version": "3.7.6"
  }
 },
 "nbformat": 4,
 "nbformat_minor": 4
}
