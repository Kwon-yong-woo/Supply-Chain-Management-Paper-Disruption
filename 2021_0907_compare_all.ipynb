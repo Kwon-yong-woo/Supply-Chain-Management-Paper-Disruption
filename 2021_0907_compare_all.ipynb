{
 "cells": [
  {
   "cell_type": "code",
   "execution_count": 1,
   "metadata": {},
   "outputs": [],
   "source": [
    "import pandas as pd\n",
    "import numpy as np\n",
    "import sympy\n",
    "from sympy.solvers.inequalities import reduce_rational_inequalities,reduce_inequalities\n",
    "from itertools import chain\n",
    "from collections import defaultdict\n",
    "from IPython.display import display\n",
    "\n",
    "from sympy.parsing.sympy_parser import parse_expr\n",
    "from sympy.parsing.sympy_parser import standard_transformations\n",
    "from sympy.printing.mathml import print_mathml\n",
    "import math\n",
    "from IPython.display import display, Markdown, Latex\n",
    "import os\n",
    "\n",
    "import seaborn as sns\n",
    "import matplotlib.pyplot as plt\n",
    "\n",
    "def make_symbols_positive(sym):\n",
    "    return sympy.symbols(\"{}\".format(sym),positive =True)\n",
    "\n",
    "def make_symbols_function(sym):\n",
    "    return sympy.symbols(\"{}\".format(sym),cl)\n",
    "\n",
    "def subs_function(target,list_):\n",
    "    return sympy.simplify(target.subs(list_))\n",
    "\n",
    "def root_cal(value):\n",
    "    return value**(1/2)"
   ]
  },
  {
   "cell_type": "code",
   "execution_count": 2,
   "metadata": {},
   "outputs": [
    {
     "name": "stdout",
     "output_type": "stream",
     "text": [
      "\u001b[1mHello World !\u001b[0m\n"
     ]
    }
   ],
   "source": [
    "class color:\n",
    "   PURPLE = '\\033[95m'\n",
    "   CYAN = '\\033[96m'\n",
    "   DARKCYAN = '\\033[36m'\n",
    "   BLUE = '\\033[94m'\n",
    "   GREEN = '\\033[92m'\n",
    "   YELLOW = '\\033[93m'\n",
    "   RED = '\\033[91m'\n",
    "   BOLD = '\\033[1m'\n",
    "   UNDERLINE = '\\033[4m'\n",
    "   END = '\\033[0m'\n",
    "\n",
    "print(color.BOLD + 'Hello World !' + color.END)"
   ]
  },
  {
   "cell_type": "markdown",
   "metadata": {},
   "source": [
    "# w_range"
   ]
  },
  {
   "cell_type": "code",
   "execution_count": 3,
   "metadata": {},
   "outputs": [],
   "source": [
    "def sol_w_same(df_1,target_):\n",
    "    w_sol = sympy.solve([df_1[\"QD\"][target_]-df_1[\"FB\"][target_]],w)\n",
    "    return w_sol"
   ]
  },
  {
   "cell_type": "code",
   "execution_count": 4,
   "metadata": {},
   "outputs": [],
   "source": [
    "def sol_w_other(df_1,equa):\n",
    "    w_sol = sympy.solve(equa,w)\n",
    "    return w_sol"
   ]
  },
  {
   "cell_type": "code",
   "execution_count": 5,
   "metadata": {},
   "outputs": [],
   "source": [
    "def display_solve(df_1,w_sol):\n",
    "    for row,col in df_1.iterrows():\n",
    "        print(row)\n",
    "        try:\n",
    "            display(col[\"QD\"].subs([(w,w_sol)]).factor())\n",
    "        except:\n",
    "            print()\n",
    "        print()"
   ]
  },
  {
   "cell_type": "code",
   "execution_count": 6,
   "metadata": {},
   "outputs": [],
   "source": [
    "def display_solve2(df_1,w_sol):\n",
    "    for row,col in df_1.iterrows():\n",
    "        print(row)\n",
    "        try:\n",
    "            display(col[\"QD\"].subs([(w,w_sol)]).simplify())\n",
    "        except:\n",
    "            print()\n",
    "        print()"
   ]
  },
  {
   "cell_type": "code",
   "execution_count": 7,
   "metadata": {},
   "outputs": [],
   "source": [
    "def display_w_insert(df_,w_1):\n",
    "    order_ = [\"w\",\"epsilon\",\"t\",\"p\",\"q_nd\",\"q_t\",\"q\",\"profit_r\",\"profit_s\",\"profit_all\",\"h1_r_p\",\"h1_s_w\",\"h1_s_e\"]\n",
    "    if w_1 == \"WH\":\n",
    "        for ord_ in order_:\n",
    "            try:\n",
    "                value_ = df_[1][ord_].factor()\n",
    "                value_2 = df_[1][ord_].simplify()\n",
    "                print(color.RED + ord_ + color.END)\n",
    "                display(\"factor: \",value_)\n",
    "                display(\"simplify: \",value_2)\n",
    "                print(\"-\"*40)\n",
    "            except:\n",
    "                print(color.RED + ord_ + color.END)\n",
    "                print(\"-\"*40)\n",
    "    else:\n",
    "        for ord_ in order_:\n",
    "            try:\n",
    "                value_ = df_[1][ord_].subs([(w,w_1)]).factor()\n",
    "                value_2 = df_[1][ord_].subs([(w,w_1)]).simplify()\n",
    "                print(color.RED + ord_ + color.END)\n",
    "                display(\"factor: \",value_)\n",
    "                display(\"simplify: \",value_2)\n",
    "                print(\"-\"*40)\n",
    "            except:\n",
    "                print(color.RED + ord_ + color.END)\n",
    "                print(\"-\"*40)"
   ]
  },
  {
   "cell_type": "code",
   "execution_count": 8,
   "metadata": {},
   "outputs": [],
   "source": [
    "Path_ = r\"C:\\Users\\Samsung\\jupyter\\Graduation_thesis\\result\\version_total_3\""
   ]
  },
  {
   "cell_type": "code",
   "execution_count": 9,
   "metadata": {},
   "outputs": [],
   "source": [
    "file_list = os.listdir(Path_)\n",
    "file_list_xlsx = [f for f in file_list if f.endswith(\".xlsx\")]\n",
    "#file_FB = [f for f in file_list_xlsx if f.contains(\"FB\")]\n",
    "#file_WH = [f for f in file_list_xlsx if f.contains(\"WH\")]\n",
    "#file_QD = [f for f in file_list_xlsx if f.contains(\"QD\")]"
   ]
  },
  {
   "cell_type": "code",
   "execution_count": 10,
   "metadata": {
    "scrolled": true
   },
   "outputs": [
    {
     "data": {
      "text/plain": [
       "['KN_BD_FB',\n",
       " 'KN_BD_QD',\n",
       " 'KN_BD_WH',\n",
       " 'KN_BS_FB',\n",
       " 'KN_BS_QD',\n",
       " 'KN_BS_WH',\n",
       " 'KN_DD_FB',\n",
       " 'KN_DD_QD',\n",
       " 'KN_DD_WH',\n",
       " 'KN_SD_FB',\n",
       " 'KN_SD_QD',\n",
       " 'KN_SD_WH',\n",
       " 'ND_FB',\n",
       " 'ND_QD',\n",
       " 'ND_WH',\n",
       " 'UN_BD_QD',\n",
       " 'UN_BD_WH',\n",
       " 'UN_BS_QD',\n",
       " 'UN_BS_WH',\n",
       " 'UN_DD_QD',\n",
       " 'UN_DD_WH',\n",
       " 'UN_SD_QD',\n",
       " 'UN_SD_WH']"
      ]
     },
     "execution_count": 10,
     "metadata": {},
     "output_type": "execute_result"
    }
   ],
   "source": [
    "file_name = [li.replace(\".xlsx\",\"\") for li in file_list_xlsx]\n",
    "file_name"
   ]
  },
  {
   "cell_type": "code",
   "execution_count": 11,
   "metadata": {},
   "outputs": [],
   "source": [
    "for fn in file_name:\n",
    "    path_ = Path_ + \"\\\\{}.xlsx\"\n",
    "    globals() [\"{}\".format(fn)] = pd.read_excel(path_.format(fn),index_col=0,header=None)\n",
    "    try:\n",
    "        globals() [\"{}\".format(fn)] = globals() [\"{}\".format(fn)]#.rename(index={\"profit_all\":\"pro_all\"})\n",
    "    except:\n",
    "        pass"
   ]
  },
  {
   "cell_type": "code",
   "execution_count": 12,
   "metadata": {},
   "outputs": [],
   "source": [
    "p,w,c,s,alpha,beta,delta_d,delta_s,epsilon,psi = make_symbols_positive(\"p,w,c,s,alpha,beta,delta_d,delta_s,epsilon,psi\")"
   ]
  },
  {
   "cell_type": "code",
   "execution_count": 13,
   "metadata": {},
   "outputs": [],
   "source": [
    "parse_dic = {\"p\":p,\"w\":w,\"c\":c,\"s\":s\n",
    "             ,\"alpha\":alpha,\"beta\":beta\n",
    "             ,\"delta_d\":delta_d,\"delta_s\":delta_s,\"epsilon\":epsilon }"
   ]
  },
  {
   "cell_type": "code",
   "execution_count": 14,
   "metadata": {},
   "outputs": [],
   "source": [
    "for fn in file_name:\n",
    "    globals() [\"{}\".format(fn)][1] = globals() [\"{}\".format(fn)][1].map(lambda x: parse_expr(x.replace(\"^\",\"**\").replace(\"lambda\",\"lambda_\"),parse_dic))"
   ]
  },
  {
   "cell_type": "code",
   "execution_count": 15,
   "metadata": {},
   "outputs": [
    {
     "data": {
      "text/latex": [
       "$\\displaystyle \\frac{\\alpha}{\\beta}$"
      ],
      "text/plain": [
       "alpha/beta"
      ]
     },
     "execution_count": 15,
     "metadata": {},
     "output_type": "execute_result"
    }
   ],
   "source": [
    "solve_w = sympy.solve((ND_QD[1][\"profit_all\"]-ND_FB[1][\"profit_all\"]).factor(),w)\n",
    "w_c = solve_w[0]\n",
    "w_c"
   ]
  },
  {
   "cell_type": "code",
   "execution_count": 16,
   "metadata": {},
   "outputs": [
    {
     "data": {
      "text/latex": [
       "$\\displaystyle \\frac{- \\alpha + 2 \\beta c + \\sqrt{2} \\left(\\alpha - \\beta c\\right)}{\\beta}$"
      ],
      "text/plain": [
       "(-alpha + 2*beta*c + sqrt(2)*(alpha - beta*c))/beta"
      ]
     },
     "execution_count": 16,
     "metadata": {},
     "output_type": "execute_result"
    }
   ],
   "source": [
    "solve_ws = sympy.solve((ND_QD[1][\"profit_s\"]-ND_WH[1][\"profit_s\"]).factor(),w)\n",
    "w_w = solve_ws[1]\n",
    "w_w"
   ]
  },
  {
   "cell_type": "markdown",
   "metadata": {},
   "source": [
    "# DD"
   ]
  },
  {
   "cell_type": "code",
   "execution_count": 17,
   "metadata": {},
   "outputs": [
    {
     "data": {
      "text/latex": [
       "$\\displaystyle \\frac{- 2 \\alpha \\delta_{d} + \\alpha + \\beta c}{2 \\beta \\left(\\delta_{d} - 1\\right)}$"
      ],
      "text/plain": [
       "(-2*alpha*delta_d + alpha + beta*c)/(2*beta*(delta_d - 1))"
      ]
     },
     "execution_count": 17,
     "metadata": {},
     "output_type": "execute_result"
    }
   ],
   "source": [
    "tar_si = UN_DD_WH\n",
    "\n",
    "qt_ = tar_si[1][\"q_t\"].factor()#.subs([(w,w_c)]).factor()\n",
    "qd_ = tar_si[1][\"q_d\"].factor()#.subs([(w,w_c)]).factor()\n",
    "#value_s = (-1*s_*(qt_-qd_)).factor()\n",
    "\n",
    "equ_ = qt_-qd_\n",
    "\n",
    "value_s = (equ_).factor()\n",
    "dd_wh = sympy.solve(value_s,s)[0].factor()\n",
    "dd_wh"
   ]
  },
  {
   "cell_type": "code",
   "execution_count": 18,
   "metadata": {},
   "outputs": [
    {
     "data": {
      "text/latex": [
       "$\\displaystyle \\frac{- 2 \\alpha \\delta_{d} - \\sqrt{2} \\alpha + 2 \\alpha + \\sqrt{2} \\beta c}{2 \\beta \\left(\\delta_{d} - 1\\right)}$"
      ],
      "text/plain": [
       "(-2*alpha*delta_d - sqrt(2)*alpha + 2*alpha + sqrt(2)*beta*c)/(2*beta*(delta_d - 1))"
      ]
     },
     "execution_count": 18,
     "metadata": {},
     "output_type": "execute_result"
    }
   ],
   "source": [
    "tar_si = UN_DD_QD\n",
    "\n",
    "qt_ = tar_si[1][\"q_t\"].factor().subs([(w,w_w)]).factor()\n",
    "qd_ = tar_si[1][\"q_d\"].factor().subs([(w,w_w)]).factor()\n",
    "#value_s = (-1*s_*(qt_-qd_)).factor()\n",
    "\n",
    "equ_ = qt_-qd_\n",
    "\n",
    "value_s = (equ_).factor()\n",
    "dd_qdw = sympy.solve(value_s,s)[0].factor()\n",
    "dd_qdw"
   ]
  },
  {
   "cell_type": "code",
   "execution_count": 19,
   "metadata": {},
   "outputs": [
    {
     "data": {
      "text/latex": [
       "$\\displaystyle \\frac{- \\alpha \\delta_{d} + \\beta c}{\\beta \\left(\\delta_{d} - 1\\right)}$"
      ],
      "text/plain": [
       "(-alpha*delta_d + beta*c)/(beta*(delta_d - 1))"
      ]
     },
     "execution_count": 19,
     "metadata": {},
     "output_type": "execute_result"
    }
   ],
   "source": [
    "tar_si = UN_DD_QD\n",
    "\n",
    "qt_ = tar_si[1][\"q_t\"].factor().subs([(w,w_c)]).factor()\n",
    "qd_ = tar_si[1][\"q_d\"].factor().subs([(w,w_c)]).factor()\n",
    "#value_s = (-1*s_*(qt_-qd_)).factor()\n",
    "\n",
    "equ_ = qt_-qd_\n",
    "\n",
    "value_s = (equ_).factor()\n",
    "dd_qdc = sympy.solve(value_s,s)[0].factor()\n",
    "dd_qdc"
   ]
  },
  {
   "cell_type": "code",
   "execution_count": null,
   "metadata": {},
   "outputs": [],
   "source": []
  },
  {
   "cell_type": "markdown",
   "metadata": {},
   "source": [
    "# SD"
   ]
  },
  {
   "cell_type": "code",
   "execution_count": 20,
   "metadata": {},
   "outputs": [
    {
     "data": {
      "text/latex": [
       "$\\displaystyle - \\frac{- \\alpha \\delta_{s} - \\alpha + \\beta c \\delta_{s} - \\beta c}{2 \\beta}$"
      ],
      "text/plain": [
       "-(-alpha*delta_s - alpha + beta*c*delta_s - beta*c)/(2*beta)"
      ]
     },
     "execution_count": 20,
     "metadata": {},
     "output_type": "execute_result"
    }
   ],
   "source": [
    "tar_si = UN_SD_WH\n",
    "\n",
    "qt_ = tar_si[1][\"q_t\"].factor()#.subs([(w,w_c)]).factor()\n",
    "qd_ = tar_si[1][\"q_d\"].factor()#.subs([(w,w_c)]).factor()\n",
    "#value_s = (-1*s_*(qt_-qd_)).factor()\n",
    "\n",
    "equ_ = qd_-qt_\n",
    "\n",
    "value_s = (equ_).factor()\n",
    "sd_wh = sympy.solve(value_s,s)[0].factor()\n",
    "sd_wh"
   ]
  },
  {
   "cell_type": "code",
   "execution_count": 21,
   "metadata": {},
   "outputs": [
    {
     "data": {
      "text/latex": [
       "$\\displaystyle - \\frac{- \\sqrt{2} \\alpha \\delta_{s} - 2 \\alpha + \\sqrt{2} \\alpha + \\sqrt{2} \\beta c \\delta_{s} - \\sqrt{2} \\beta c}{2 \\beta}$"
      ],
      "text/plain": [
       "-(-sqrt(2)*alpha*delta_s - 2*alpha + sqrt(2)*alpha + sqrt(2)*beta*c*delta_s - sqrt(2)*beta*c)/(2*beta)"
      ]
     },
     "execution_count": 21,
     "metadata": {},
     "output_type": "execute_result"
    }
   ],
   "source": [
    "tar_si = UN_SD_QD\n",
    "\n",
    "qt_ = tar_si[1][\"q_t\"].factor().subs([(w,w_w)]).factor()\n",
    "qd_ = tar_si[1][\"q_d\"].factor().subs([(w,w_w)]).factor()\n",
    "#value_s = (-1*s_*(qt_-qd_)).factor()\n",
    "\n",
    "equ_ = qd_-qt_\n",
    "\n",
    "value_s = (equ_).factor()\n",
    "sd_qdw = sympy.solve(value_s,s)[0].factor()\n",
    "sd_qdw"
   ]
  },
  {
   "cell_type": "code",
   "execution_count": 22,
   "metadata": {},
   "outputs": [
    {
     "data": {
      "text/latex": [
       "$\\displaystyle - \\frac{- \\alpha \\delta_{s} + \\beta c \\delta_{s} - \\beta c}{\\beta}$"
      ],
      "text/plain": [
       "-(-alpha*delta_s + beta*c*delta_s - beta*c)/beta"
      ]
     },
     "execution_count": 22,
     "metadata": {},
     "output_type": "execute_result"
    }
   ],
   "source": [
    "tar_si = UN_SD_QD\n",
    "\n",
    "qt_ = tar_si[1][\"q_t\"].factor().subs([(w,w_c)]).factor()\n",
    "qd_ = tar_si[1][\"q_d\"].factor().subs([(w,w_c)]).factor()\n",
    "#value_s = (-1*s_*(qt_-qd_)).factor()\n",
    "\n",
    "equ_ = qd_-qt_\n",
    "\n",
    "value_s = (equ_).factor()\n",
    "sd_qdc = sympy.solve(value_s,s)[0].factor()\n",
    "sd_qdc"
   ]
  },
  {
   "cell_type": "code",
   "execution_count": null,
   "metadata": {},
   "outputs": [],
   "source": []
  },
  {
   "cell_type": "markdown",
   "metadata": {},
   "source": [
    "# BD"
   ]
  },
  {
   "cell_type": "code",
   "execution_count": 23,
   "metadata": {},
   "outputs": [
    {
     "data": {
      "text/latex": [
       "$\\displaystyle - \\frac{2 \\alpha \\delta_{d} - \\alpha \\delta_{s} - \\alpha + \\beta c \\delta_{s} - \\beta c}{2 \\beta \\left(\\delta_{d} - 1\\right)}$"
      ],
      "text/plain": [
       "-(2*alpha*delta_d - alpha*delta_s - alpha + beta*c*delta_s - beta*c)/(2*beta*(delta_d - 1))"
      ]
     },
     "execution_count": 23,
     "metadata": {},
     "output_type": "execute_result"
    }
   ],
   "source": [
    "tar_si = UN_BD_WH\n",
    "\n",
    "qt_ = tar_si[1][\"q_t\"].factor()#.subs([(w,w_c)]).factor()\n",
    "qd_ = tar_si[1][\"q_d\"].factor()#.subs([(w,w_c)]).factor()\n",
    "#value_s = (-1*s_*(qt_-qd_)).factor()\n",
    "\n",
    "equ_ = qt_-qd_\n",
    "\n",
    "value_s = (equ_).factor()\n",
    "bd_wh = sympy.solve(value_s,s)[0].factor()\n",
    "bd_wh"
   ]
  },
  {
   "cell_type": "code",
   "execution_count": 24,
   "metadata": {},
   "outputs": [
    {
     "data": {
      "text/latex": [
       "$\\displaystyle - \\frac{2 \\alpha \\delta_{d} - \\sqrt{2} \\alpha \\delta_{s} - 2 \\alpha + \\sqrt{2} \\alpha + \\sqrt{2} \\beta c \\delta_{s} - \\sqrt{2} \\beta c}{2 \\beta \\left(\\delta_{d} - 1\\right)}$"
      ],
      "text/plain": [
       "-(2*alpha*delta_d - sqrt(2)*alpha*delta_s - 2*alpha + sqrt(2)*alpha + sqrt(2)*beta*c*delta_s - sqrt(2)*beta*c)/(2*beta*(delta_d - 1))"
      ]
     },
     "execution_count": 24,
     "metadata": {},
     "output_type": "execute_result"
    }
   ],
   "source": [
    "tar_si = UN_BD_QD\n",
    "\n",
    "qt_ = tar_si[1][\"q_t\"].factor().subs([(w,w_w)]).factor()\n",
    "qd_ = tar_si[1][\"q_d\"].factor().subs([(w,w_w)]).factor()\n",
    "#value_s = (-1*s_*(qt_-qd_)).factor()\n",
    "\n",
    "equ_ = qt_-qd_\n",
    "\n",
    "value_s = (equ_).factor()\n",
    "bd_qdw = sympy.solve(value_s,s)[0].factor()\n",
    "bd_qdw"
   ]
  },
  {
   "cell_type": "code",
   "execution_count": 25,
   "metadata": {},
   "outputs": [
    {
     "data": {
      "text/latex": [
       "$\\displaystyle - \\frac{\\alpha \\delta_{d} - \\alpha \\delta_{s} + \\beta c \\delta_{s} - \\beta c}{\\beta \\left(\\delta_{d} - 1\\right)}$"
      ],
      "text/plain": [
       "-(alpha*delta_d - alpha*delta_s + beta*c*delta_s - beta*c)/(beta*(delta_d - 1))"
      ]
     },
     "execution_count": 25,
     "metadata": {},
     "output_type": "execute_result"
    }
   ],
   "source": [
    "tar_si = UN_BD_QD\n",
    "\n",
    "qt_ = tar_si[1][\"q_t\"].factor().subs([(w,w_c)]).factor()\n",
    "qd_ = tar_si[1][\"q_d\"].factor().subs([(w,w_c)]).factor()\n",
    "#value_s = (-1*s_*(qt_-qd_)).factor()\n",
    "\n",
    "equ_ = qt_-qd_\n",
    "\n",
    "value_s = (equ_).factor()\n",
    "bd_qdc = sympy.solve(value_s,s)[0].factor()\n",
    "bd_qdc"
   ]
  },
  {
   "cell_type": "code",
   "execution_count": null,
   "metadata": {},
   "outputs": [],
   "source": []
  },
  {
   "cell_type": "markdown",
   "metadata": {},
   "source": [
    "# BS"
   ]
  },
  {
   "cell_type": "code",
   "execution_count": 26,
   "metadata": {},
   "outputs": [
    {
     "data": {
      "text/latex": [
       "$\\displaystyle \\frac{2 \\alpha \\delta_{d} - \\alpha \\delta_{s} - \\alpha + \\beta c \\delta_{s} - \\beta c}{2 \\beta \\left(\\delta_{d} - 1\\right)}$"
      ],
      "text/plain": [
       "(2*alpha*delta_d - alpha*delta_s - alpha + beta*c*delta_s - beta*c)/(2*beta*(delta_d - 1))"
      ]
     },
     "execution_count": 26,
     "metadata": {},
     "output_type": "execute_result"
    }
   ],
   "source": [
    "tar_si = UN_BS_WH\n",
    "\n",
    "qt_ = tar_si[1][\"q_t\"].factor()#.subs([(w,w_c)]).factor()\n",
    "qd_ = tar_si[1][\"q_d\"].factor()#.subs([(w,w_c)]).factor()\n",
    "#value_s = (-1*s_*(qt_-qd_)).factor()\n",
    "\n",
    "equ_ = qd_-qt_\n",
    "\n",
    "value_s = (equ_).factor()\n",
    "bs_wh = sympy.solve(value_s,s)[0].factor()\n",
    "bs_wh"
   ]
  },
  {
   "cell_type": "code",
   "execution_count": 27,
   "metadata": {},
   "outputs": [
    {
     "data": {
      "text/latex": [
       "$\\displaystyle \\frac{2 \\alpha \\delta_{d} - \\sqrt{2} \\alpha \\delta_{s} - 2 \\alpha + \\sqrt{2} \\alpha + \\sqrt{2} \\beta c \\delta_{s} - \\sqrt{2} \\beta c}{2 \\beta \\left(\\delta_{d} - 1\\right)}$"
      ],
      "text/plain": [
       "(2*alpha*delta_d - sqrt(2)*alpha*delta_s - 2*alpha + sqrt(2)*alpha + sqrt(2)*beta*c*delta_s - sqrt(2)*beta*c)/(2*beta*(delta_d - 1))"
      ]
     },
     "execution_count": 27,
     "metadata": {},
     "output_type": "execute_result"
    }
   ],
   "source": [
    "tar_si = UN_BS_QD\n",
    "\n",
    "qt_ = tar_si[1][\"q_t\"].factor().subs([(w,w_w)]).factor()\n",
    "qd_ = tar_si[1][\"q_d\"].factor().subs([(w,w_w)]).factor()\n",
    "#value_s = (-1*s_*(qt_-qd_)).factor()\n",
    "\n",
    "equ_ = qd_-qt_\n",
    "\n",
    "value_s = (equ_).factor()\n",
    "bs_qdw = sympy.solve(value_s,s)[0].factor()\n",
    "bs_qdw"
   ]
  },
  {
   "cell_type": "code",
   "execution_count": 28,
   "metadata": {},
   "outputs": [
    {
     "data": {
      "text/latex": [
       "$\\displaystyle \\frac{\\alpha \\delta_{d} - \\alpha \\delta_{s} + \\beta c \\delta_{s} - \\beta c}{\\beta \\left(\\delta_{d} - 1\\right)}$"
      ],
      "text/plain": [
       "(alpha*delta_d - alpha*delta_s + beta*c*delta_s - beta*c)/(beta*(delta_d - 1))"
      ]
     },
     "execution_count": 28,
     "metadata": {},
     "output_type": "execute_result"
    }
   ],
   "source": [
    "tar_si = UN_BS_QD\n",
    "\n",
    "qt_ = tar_si[1][\"q_t\"].factor().subs([(w,w_c)]).factor()\n",
    "qd_ = tar_si[1][\"q_d\"].factor().subs([(w,w_c)]).factor()\n",
    "#value_s = (-1*s_*(qt_-qd_)).factor()\n",
    "\n",
    "equ_ = qd_-qt_\n",
    "\n",
    "value_s = (equ_).factor()\n",
    "bs_qdc = sympy.solve(value_s,s)[0].factor()\n",
    "bs_qdc"
   ]
  },
  {
   "cell_type": "code",
   "execution_count": 29,
   "metadata": {},
   "outputs": [
    {
     "data": {
      "text/html": [
       "<div>\n",
       "<style scoped>\n",
       "    .dataframe tbody tr th:only-of-type {\n",
       "        vertical-align: middle;\n",
       "    }\n",
       "\n",
       "    .dataframe tbody tr th {\n",
       "        vertical-align: top;\n",
       "    }\n",
       "\n",
       "    .dataframe thead th {\n",
       "        text-align: right;\n",
       "    }\n",
       "</style>\n",
       "<table border=\"1\" class=\"dataframe\">\n",
       "  <thead>\n",
       "    <tr style=\"text-align: right;\">\n",
       "      <th></th>\n",
       "      <th>DD</th>\n",
       "      <th>SD</th>\n",
       "      <th>BD</th>\n",
       "      <th>BS</th>\n",
       "    </tr>\n",
       "  </thead>\n",
       "  <tbody>\n",
       "    <tr>\n",
       "      <th>WH</th>\n",
       "      <td>(-2*alpha*delta_d + alpha + beta*c)/(2*beta*(d...</td>\n",
       "      <td>-(-alpha*delta_s - alpha + beta*c*delta_s - be...</td>\n",
       "      <td>-(2*alpha*delta_d - alpha*delta_s - alpha + be...</td>\n",
       "      <td>(2*alpha*delta_d - alpha*delta_s - alpha + bet...</td>\n",
       "    </tr>\n",
       "    <tr>\n",
       "      <th>QDW</th>\n",
       "      <td>(-2*alpha*delta_d - sqrt(2)*alpha + 2*alpha + ...</td>\n",
       "      <td>-(-sqrt(2)*alpha*delta_s - 2*alpha + sqrt(2)*a...</td>\n",
       "      <td>-(2*alpha*delta_d - sqrt(2)*alpha*delta_s - 2*...</td>\n",
       "      <td>-(2*alpha*delta_d - sqrt(2)*alpha*delta_s - 2*...</td>\n",
       "    </tr>\n",
       "    <tr>\n",
       "      <th>QDC</th>\n",
       "      <td>(-alpha*delta_d + beta*c)/(beta*(delta_d - 1))</td>\n",
       "      <td>-(-alpha*delta_s + beta*c*delta_s - beta*c)/beta</td>\n",
       "      <td>-(alpha*delta_d - alpha*delta_s + beta*c*delta...</td>\n",
       "      <td>-(alpha*delta_d - alpha*delta_s + beta*c*delta...</td>\n",
       "    </tr>\n",
       "  </tbody>\n",
       "</table>\n",
       "</div>"
      ],
      "text/plain": [
       "                                                    DD  \\\n",
       "WH   (-2*alpha*delta_d + alpha + beta*c)/(2*beta*(d...   \n",
       "QDW  (-2*alpha*delta_d - sqrt(2)*alpha + 2*alpha + ...   \n",
       "QDC     (-alpha*delta_d + beta*c)/(beta*(delta_d - 1))   \n",
       "\n",
       "                                                    SD  \\\n",
       "WH   -(-alpha*delta_s - alpha + beta*c*delta_s - be...   \n",
       "QDW  -(-sqrt(2)*alpha*delta_s - 2*alpha + sqrt(2)*a...   \n",
       "QDC   -(-alpha*delta_s + beta*c*delta_s - beta*c)/beta   \n",
       "\n",
       "                                                    BD  \\\n",
       "WH   -(2*alpha*delta_d - alpha*delta_s - alpha + be...   \n",
       "QDW  -(2*alpha*delta_d - sqrt(2)*alpha*delta_s - 2*...   \n",
       "QDC  -(alpha*delta_d - alpha*delta_s + beta*c*delta...   \n",
       "\n",
       "                                                    BS  \n",
       "WH   (2*alpha*delta_d - alpha*delta_s - alpha + bet...  \n",
       "QDW  -(2*alpha*delta_d - sqrt(2)*alpha*delta_s - 2*...  \n",
       "QDC  -(alpha*delta_d - alpha*delta_s + beta*c*delta...  "
      ]
     },
     "execution_count": 29,
     "metadata": {},
     "output_type": "execute_result"
    }
   ],
   "source": [
    "data_ = {\"DD\":[dd_wh,dd_qdw,dd_qdc],\"SD\":[sd_wh,sd_qdw,sd_qdc],\"BD\":[bd_wh,bd_qdw,bd_qdc],\"BS\":[bs_wh,bd_qdw,bd_qdc]}\n",
    "con_df = pd.DataFrame(data_).rename(index={0:\"WH\",1:\"QDW\",2:\"QDC\"})\n",
    "con_df"
   ]
  },
  {
   "cell_type": "markdown",
   "metadata": {},
   "source": [
    "# load setting"
   ]
  },
  {
   "cell_type": "code",
   "execution_count": 30,
   "metadata": {},
   "outputs": [],
   "source": [
    "time_ = \"UN\"\n",
    "diss_ = [\"DD\",\"SD\",\"BD\",\"BS\"]\n",
    "\n",
    "for dis_ in diss_:\n",
    "    tar_wh = globals() [\"{}_{}_WH\".format(time_,dis_)]\n",
    "    tar_qd = globals() [\"{}_{}_QD\".format(time_,dis_)]\n",
    "    globals() [\"{}_{}_QD{}\".format(time_,dis_,\"W\")] = pd.DataFrame(tar_qd[1].map(lambda x : x.subs([(w,w_w)]).factor()))  \n",
    "    globals() [\"{}_{}_QD{}\".format(time_,dis_,\"C\")] = pd.DataFrame(tar_qd[1].map(lambda x : x.subs([(w,w_c)]).factor()))  "
   ]
  },
  {
   "cell_type": "code",
   "execution_count": 31,
   "metadata": {},
   "outputs": [],
   "source": [
    "def s_para_display(n_d,n_s):\n",
    "\n",
    "    para_ = [(alpha,1200),(beta,7),(c,50),(delta_d,n_d),(delta_s,n_s)]\n",
    "\n",
    "    s_up_d = s_up.subs(para_).factor().simplify()\n",
    "    s_down_d = s_down.subs(para_).factor().simplify()\n",
    "    display(s_down,float(s_down_d))\n",
    "    display(s_up,float(s_up_d))\n"
   ]
  },
  {
   "cell_type": "code",
   "execution_count": 32,
   "metadata": {},
   "outputs": [],
   "source": [
    "def s_para(n_d,n_s):\n",
    "\n",
    "    para_ = [(alpha,1200),(beta,7),(c,50),(delta_d,n_d),(delta_s,n_s)]\n",
    "\n",
    "    s_up_d = s_up.subs(para_).factor().simplify()\n",
    "    s_down_d = s_down.subs(para_).factor().simplify()\n",
    "    return float(s_down_d),float(s_up_d)"
   ]
  },
  {
   "cell_type": "code",
   "execution_count": 33,
   "metadata": {},
   "outputs": [
    {
     "data": {
      "text/latex": [
       "$\\displaystyle \\frac{\\alpha - 2 \\sqrt{2} \\beta c + 3 \\beta c}{2 \\beta \\left(2 - \\sqrt{2}\\right)}$"
      ],
      "text/plain": [
       "(alpha - 2*sqrt(2)*beta*c + 3*beta*c)/(2*beta*(2 - sqrt(2)))"
      ]
     },
     "execution_count": 33,
     "metadata": {},
     "output_type": "execute_result"
    }
   ],
   "source": [
    "eq_ = (UN_BS_QDW[1][\"profit_r\"]-UN_BS_QDC[1][\"profit_r\"]).factor()\n",
    "s_up = sympy.solve(eq_,s)[0]\n",
    "s_up"
   ]
  },
  {
   "cell_type": "code",
   "execution_count": 34,
   "metadata": {},
   "outputs": [
    {
     "data": {
      "text/latex": [
       "$\\displaystyle \\frac{\\alpha + \\beta c}{2 \\beta}$"
      ],
      "text/plain": [
       "(alpha + beta*c)/(2*beta)"
      ]
     },
     "execution_count": 34,
     "metadata": {},
     "output_type": "execute_result"
    }
   ],
   "source": [
    "eq_ = (UN_BS_WH[1][\"profit_r\"]-UN_BS_QDC[1][\"profit_r\"]).factor()\n",
    "s_down = sympy.solve(eq_,s)[0]\n",
    "s_down"
   ]
  },
  {
   "cell_type": "code",
   "execution_count": null,
   "metadata": {},
   "outputs": [],
   "source": []
  },
  {
   "cell_type": "code",
   "execution_count": 35,
   "metadata": {},
   "outputs": [],
   "source": [
    "def tar_para(time_,dis_,tar_,n_d,n_s,s_,c_):\n",
    "    para_ = [(alpha,1200),(beta,7),(c,c_),(delta_d,n_d),(delta_s,n_s),(s,s_)]\n",
    "\n",
    "    tar_wh = globals() [\"{}_{}_WH\".format(time_,dis_)]\n",
    "    tar_qdc = globals() [\"{}_{}_QDC\".format(time_,dis_)]\n",
    "    tar_qdw = globals() [\"{}_{}_QDW\".format(time_,dis_)]\n",
    "\n",
    "\n",
    "    wh_df = pd.DataFrame(tar_wh[1].map(lambda x : x.subs(para_).simplify()))  \n",
    "    qdw_df = pd.DataFrame(tar_qdw[1].map(lambda x : x.subs(para_).simplify()))  \n",
    "    qdc_df = pd.DataFrame(tar_qdc[1].map(lambda x : x.subs(para_).simplify()))\n",
    "\n",
    "    return float(wh_df[1][tar_]),float(qdw_df[1][tar_]),float(qdc_df[1][tar_])"
   ]
  },
  {
   "cell_type": "code",
   "execution_count": 36,
   "metadata": {},
   "outputs": [],
   "source": [
    "def para_all():\n",
    "    iter_1 = np.arange(0,c_,gap_)\n",
    "    iter_2 = np.arange(c_,s_para(d_,s_)[0],gap_)\n",
    "    iter_3 = np.arange(s_para(d_,s_)[0],s_para(d_,s_)[1],gap_)\n",
    "    iter_4 = np.arange(s_para(d_,s_)[1],s_para(d_,s_)[1]+42,gap_)\n",
    "    all_ = []\n",
    "    for s_can in iter_1:\n",
    "        wh_can,qdw_can,qdc_can = tar_para(\"UN\",i_1,tar_,d_,s_,s_can,c_)\n",
    "        all_can = [s_can,wh_can,qdw_can,qdc_can]\n",
    "        all_.append(all_can)\n",
    "    df_iter_12 = pd.DataFrame(all_).set_index(0).rename(columns={1:\"WH\",2:\"QDW\",3:\"QDC\"})\n",
    "\n",
    "    all_ = []\n",
    "    for s_can in iter_2:\n",
    "        wh_can,qdw_can,qdc_can = tar_para(\"UN\",i_1,tar_,d_,s_,s_can,c_)\n",
    "        all_can = [s_can,wh_can,qdw_can,qdc_can]\n",
    "        all_.append(all_can)\n",
    "    df_iter_22 = pd.DataFrame(all_).set_index(0).rename(columns={1:\"WH\",2:\"QDW\",3:\"QDC\"})\n",
    "\n",
    "    all_ = []\n",
    "    for s_can in iter_3:\n",
    "        wh_can,qdw_can,qdc_can = tar_para(\"UN\",i_1,tar_,d_,s_,s_can,c_)\n",
    "        all_can = [s_can,wh_can,qdw_can,qdc_can]\n",
    "        all_.append(all_can)\n",
    "    df_iter_32 = pd.DataFrame(all_).set_index(0).rename(columns={1:\"WH\",2:\"QDW\",3:\"QDC\"})\n",
    "\n",
    "    all_ = []\n",
    "    for s_can in iter_4:\n",
    "        wh_can,qdw_can,qdc_can = tar_para(\"UN\",i_1,tar_,d_,s_,s_can,c_)\n",
    "        all_can = [s_can,wh_can,qdw_can,qdc_can]\n",
    "        all_.append(all_can)\n",
    "    df_iter_42 = pd.DataFrame(all_).set_index(0).rename(columns={1:\"WH\",2:\"QDW\",3:\"QDC\"})\n",
    "    df_iter_all2 = pd.concat([df_iter_12,df_iter_22,df_iter_32,df_iter_42])\n",
    "    return df_iter_all2"
   ]
  },
  {
   "cell_type": "code",
   "execution_count": 37,
   "metadata": {},
   "outputs": [],
   "source": [
    "def para_all_2():\n",
    "    #iter_1 = np.arange(-s_para(d_,s_)[1]-30,-s_para(d_,s_)[1],gap_)\n",
    "    #iter_2 = np.arange(-s_para(d_,s_)[1],-s_para(d_,s_)[0],gap_)\n",
    "    iter_1 = np.arange(-c_,0,gap_)\n",
    "    iter_2 = np.arange(0,s_para(d_,s_)[0],gap_)\n",
    "    all_ = []\n",
    "    for s_can in iter_1:\n",
    "        wh_can,qdw_can,qdc_can = tar_para(\"UN\",i_1,tar_,d_,s_,s_can,c_)\n",
    "        all_can = [s_can,wh_can,qdw_can,qdc_can]\n",
    "        all_.append(all_can)\n",
    "    df_iter_12 = pd.DataFrame(all_).set_index(0).rename(columns={1:\"WH\",2:\"QDW\",3:\"QDC\"})\n",
    "\n",
    "    all_ = []\n",
    "    for s_can in iter_2:\n",
    "        wh_can,qdw_can,qdc_can = tar_para(\"UN\",i_1,tar_,d_,s_,s_can,c_)\n",
    "        all_can = [s_can,wh_can,qdw_can,qdc_can]\n",
    "        all_.append(all_can)\n",
    "    df_iter_22 = pd.DataFrame(all_).set_index(0).rename(columns={1:\"WH\",2:\"QDW\",3:\"QDC\"})\n",
    "\n",
    "    df_iter_all2 = pd.concat([df_iter_12,df_iter_22])\n",
    "    return df_iter_all2"
   ]
  },
  {
   "cell_type": "code",
   "execution_count": 130,
   "metadata": {},
   "outputs": [],
   "source": [
    "def para_all_3():\n",
    "    #iter_1 = np.arange(-s_para(d_,s_)[1]-30,-s_para(d_,s_)[1],gap_)\n",
    "    #iter_2 = np.arange(-s_para(d_,s_)[1],-s_para(d_,s_)[0],gap_)\n",
    "    iter_1 = np.arange(-c_-50,0,gap_)\n",
    "    iter_2 = np.arange(0,s_para(d_,s_)[0],gap_)\n",
    "    all_ = []\n",
    "    for s_can in iter_1:\n",
    "        wh_can,qdw_can,qdc_can = tar_para(\"UN\",i_1,tar_,d_,s_,s_can,c_)\n",
    "        all_can = [s_can,wh_can,qdw_can,qdc_can]\n",
    "        all_.append(all_can)\n",
    "    df_iter_12 = pd.DataFrame(all_).set_index(0).rename(columns={1:\"WH\",2:\"QDW\",3:\"QDC\"})\n",
    "\n",
    "    all_ = []\n",
    "    for s_can in iter_2:\n",
    "        wh_can,qdw_can,qdc_can = tar_para(\"UN\",i_1,tar_,d_,s_,s_can,c_)\n",
    "        all_can = [s_can,wh_can,qdw_can,qdc_can]\n",
    "        all_.append(all_can)\n",
    "    df_iter_22 = pd.DataFrame(all_).set_index(0).rename(columns={1:\"WH\",2:\"QDW\",3:\"QDC\"})\n",
    "\n",
    "    df_iter_all2 = pd.concat([df_iter_12,df_iter_22])\n",
    "    return df_iter_all2"
   ]
  },
  {
   "cell_type": "code",
   "execution_count": null,
   "metadata": {},
   "outputs": [],
   "source": []
  },
  {
   "cell_type": "code",
   "execution_count": null,
   "metadata": {},
   "outputs": [],
   "source": []
  },
  {
   "cell_type": "code",
   "execution_count": 38,
   "metadata": {},
   "outputs": [],
   "source": [
    "down_wh = 1/2\n",
    "up_wh = (alpha+beta*c)/(2*alpha)\n",
    "\n",
    "down_qdw =  1 - ((2)**(1/2)/2)\n",
    "up_qdw = 1-(((alpha-beta*c)**(1/2))/(2*alpha)) \n",
    "\n",
    "\n",
    "up_qdc = (beta*c)/alpha\n",
    "\n"
   ]
  },
  {
   "cell_type": "code",
   "execution_count": null,
   "metadata": {},
   "outputs": [],
   "source": []
  },
  {
   "cell_type": "markdown",
   "metadata": {},
   "source": [
    "# Closed form 정리"
   ]
  },
  {
   "cell_type": "code",
   "execution_count": null,
   "metadata": {},
   "outputs": [],
   "source": []
  },
  {
   "cell_type": "code",
   "execution_count": 39,
   "metadata": {},
   "outputs": [
    {
     "data": {
      "text/html": [
       "<div>\n",
       "<style scoped>\n",
       "    .dataframe tbody tr th:only-of-type {\n",
       "        vertical-align: middle;\n",
       "    }\n",
       "\n",
       "    .dataframe tbody tr th {\n",
       "        vertical-align: top;\n",
       "    }\n",
       "\n",
       "    .dataframe thead th {\n",
       "        text-align: right;\n",
       "    }\n",
       "</style>\n",
       "<table border=\"1\" class=\"dataframe\">\n",
       "  <thead>\n",
       "    <tr style=\"text-align: right;\">\n",
       "      <th></th>\n",
       "      <th>DD</th>\n",
       "      <th>SD</th>\n",
       "      <th>BD</th>\n",
       "      <th>BS</th>\n",
       "    </tr>\n",
       "  </thead>\n",
       "  <tbody>\n",
       "    <tr>\n",
       "      <th>WH</th>\n",
       "      <td>(-2*alpha*delta_d + alpha + beta*c)/(2*beta*(d...</td>\n",
       "      <td>-(-alpha*delta_s - alpha + beta*c*delta_s - be...</td>\n",
       "      <td>-(2*alpha*delta_d - alpha*delta_s - alpha + be...</td>\n",
       "      <td>(2*alpha*delta_d - alpha*delta_s - alpha + bet...</td>\n",
       "    </tr>\n",
       "    <tr>\n",
       "      <th>QDW</th>\n",
       "      <td>(-2*alpha*delta_d - sqrt(2)*alpha + 2*alpha + ...</td>\n",
       "      <td>-(-sqrt(2)*alpha*delta_s - 2*alpha + sqrt(2)*a...</td>\n",
       "      <td>-(2*alpha*delta_d - sqrt(2)*alpha*delta_s - 2*...</td>\n",
       "      <td>-(2*alpha*delta_d - sqrt(2)*alpha*delta_s - 2*...</td>\n",
       "    </tr>\n",
       "    <tr>\n",
       "      <th>QDC</th>\n",
       "      <td>(-alpha*delta_d + beta*c)/(beta*(delta_d - 1))</td>\n",
       "      <td>-(-alpha*delta_s + beta*c*delta_s - beta*c)/beta</td>\n",
       "      <td>-(alpha*delta_d - alpha*delta_s + beta*c*delta...</td>\n",
       "      <td>-(alpha*delta_d - alpha*delta_s + beta*c*delta...</td>\n",
       "    </tr>\n",
       "  </tbody>\n",
       "</table>\n",
       "</div>"
      ],
      "text/plain": [
       "                                                    DD  \\\n",
       "WH   (-2*alpha*delta_d + alpha + beta*c)/(2*beta*(d...   \n",
       "QDW  (-2*alpha*delta_d - sqrt(2)*alpha + 2*alpha + ...   \n",
       "QDC     (-alpha*delta_d + beta*c)/(beta*(delta_d - 1))   \n",
       "\n",
       "                                                    SD  \\\n",
       "WH   -(-alpha*delta_s - alpha + beta*c*delta_s - be...   \n",
       "QDW  -(-sqrt(2)*alpha*delta_s - 2*alpha + sqrt(2)*a...   \n",
       "QDC   -(-alpha*delta_s + beta*c*delta_s - beta*c)/beta   \n",
       "\n",
       "                                                    BD  \\\n",
       "WH   -(2*alpha*delta_d - alpha*delta_s - alpha + be...   \n",
       "QDW  -(2*alpha*delta_d - sqrt(2)*alpha*delta_s - 2*...   \n",
       "QDC  -(alpha*delta_d - alpha*delta_s + beta*c*delta...   \n",
       "\n",
       "                                                    BS  \n",
       "WH   (2*alpha*delta_d - alpha*delta_s - alpha + bet...  \n",
       "QDW  -(2*alpha*delta_d - sqrt(2)*alpha*delta_s - 2*...  \n",
       "QDC  -(alpha*delta_d - alpha*delta_s + beta*c*delta...  "
      ]
     },
     "execution_count": 39,
     "metadata": {},
     "output_type": "execute_result"
    }
   ],
   "source": [
    "con_df"
   ]
  },
  {
   "cell_type": "code",
   "execution_count": null,
   "metadata": {},
   "outputs": [],
   "source": []
  },
  {
   "cell_type": "code",
   "execution_count": 42,
   "metadata": {},
   "outputs": [],
   "source": [
    "tar_ = \"DD\"\n",
    "tar_e = \"profit_r\"\n",
    "list_ = [\"WH\",\"QDW\",\"QDC\"]\n",
    "turn_point = {}\n",
    "for i in range(len(list_)):\n",
    "    eq_2 = globals () [\"UN_{}_{}\".format(tar_,list_[i])][1][tar_e]\n",
    "    s_2 = con_df[tar_][list_[i]]\n",
    "    result_ =eq_2.subs([(s,s_2)]).factor()\n",
    "    turn_point[list_[i]] = result_"
   ]
  },
  {
   "cell_type": "code",
   "execution_count": 43,
   "metadata": {},
   "outputs": [
    {
     "data": {
      "text/latex": [
       "$\\displaystyle - \\frac{\\left(- \\alpha + \\beta c\\right)^{2} \\left(- 4 \\delta_{d} + 4 \\sqrt{2} \\delta_{d} - 4 \\sqrt{2} + 5\\right)}{16 \\beta \\left(\\delta_{d} - 1\\right)}$"
      ],
      "text/plain": [
       "-(-alpha + beta*c)**2*(-4*delta_d + 4*sqrt(2)*delta_d - 4*sqrt(2) + 5)/(16*beta*(delta_d - 1))"
      ]
     },
     "execution_count": 43,
     "metadata": {},
     "output_type": "execute_result"
    }
   ],
   "source": [
    "(turn_point[\"WH\"]-turn_point[\"QDW\"]).factor()"
   ]
  },
  {
   "cell_type": "code",
   "execution_count": 51,
   "metadata": {
    "scrolled": true
   },
   "outputs": [
    {
     "name": "stdout",
     "output_type": "stream",
     "text": [
      "-3520.5305132184567\n",
      "-2624.573171948612\n",
      "-1472.628018887384\n",
      "63.29885186091474\n",
      "2213.596470908533\n",
      "5439.042899479953\n",
      "10814.786947099014\n",
      "21566.275042337107\n",
      "53820.739328051386\n"
     ]
    }
   ],
   "source": [
    "iter_ = np.arange(0.1,1,0.1)\n",
    "for i in iter_:\n",
    "    print(float((turn_point[\"WH\"]-turn_point[\"QDW\"]).factor().subs([(delta_d,i),(alpha,1200),(beta,7),(c,50)])))"
   ]
  },
  {
   "cell_type": "code",
   "execution_count": 64,
   "metadata": {},
   "outputs": [
    {
     "data": {
      "text/plain": [
       "0.3964466094067262"
      ]
     },
     "execution_count": 64,
     "metadata": {},
     "output_type": "execute_result"
    }
   ],
   "source": [
    "eq_ = (turn_point[\"WH\"]-turn_point[\"QDW\"]).factor()\n",
    "float(sympy.solve(eq_,delta_d)[0].factor())"
   ]
  },
  {
   "cell_type": "code",
   "execution_count": 119,
   "metadata": {},
   "outputs": [
    {
     "data": {
      "text/plain": [
       "[(alpha, 1200), (beta, 7), (c, 200), (delta_d, 0.7), (delta_s, 0.3), (s, 0.3)]"
      ]
     },
     "execution_count": 119,
     "metadata": {},
     "output_type": "execute_result"
    }
   ],
   "source": [
    "i_1 = \"DD\"\n",
    "tar_ = \"profit_r\"\n",
    "d_ = 0.7\n",
    "s_ = 0.3\n",
    "c_ = 200\n",
    "gap_ = 5\n",
    "para_set =  [(alpha,1200),(beta,7),(c,c_),(delta_d,d_),(delta_s,s_),(s,s_)]\n",
    "para_set"
   ]
  },
  {
   "cell_type": "code",
   "execution_count": 120,
   "metadata": {},
   "outputs": [],
   "source": [
    "test_r = para_all_2()"
   ]
  },
  {
   "cell_type": "code",
   "execution_count": 121,
   "metadata": {},
   "outputs": [
    {
     "data": {
      "text/plain": [
       "<matplotlib.axes._subplots.AxesSubplot at 0x1cedab48588>"
      ]
     },
     "execution_count": 121,
     "metadata": {},
     "output_type": "execute_result"
    },
    {
     "data": {
      "image/png": "[encoded data removed]",
      "text/plain": [
       "<Figure size 432x288 with 1 Axes>"
      ]
     },
     "metadata": {
      "needs_background": "light"
     },
     "output_type": "display_data"
    }
   ],
   "source": [
    "test_r.plot()"
   ]
  },
  {
   "cell_type": "code",
   "execution_count": 122,
   "metadata": {},
   "outputs": [
    {
     "data": {
      "text/latex": [
       "$\\displaystyle -219.047619047619$"
      ],
      "text/plain": [
       "-219.047619047619"
      ]
     },
     "execution_count": 122,
     "metadata": {},
     "output_type": "execute_result"
    }
   ],
   "source": [
    "con_df[\"DD\"][\"WH\"].subs(para_set)"
   ]
  },
  {
   "cell_type": "code",
   "execution_count": 123,
   "metadata": {},
   "outputs": [
    {
     "data": {
      "text/plain": [
       "1.0384615384615385"
      ]
     },
     "execution_count": 123,
     "metadata": {},
     "output_type": "execute_result"
    }
   ],
   "source": [
    "float(sympy.solve((con_df[\"DD\"][\"WH\"]-c).factor(),delta_d)[0].subs(para_set))"
   ]
  },
  {
   "cell_type": "code",
   "execution_count": 124,
   "metadata": {
    "scrolled": true
   },
   "outputs": [
    {
     "data": {
      "text/latex": [
       "$\\displaystyle \\frac{\\alpha + 3 \\beta c}{2 \\left(\\alpha + \\beta c\\right)}$"
      ],
      "text/plain": [
       "(alpha + 3*beta*c)/(2*(alpha + beta*c))"
      ]
     },
     "execution_count": 124,
     "metadata": {},
     "output_type": "execute_result"
    }
   ],
   "source": [
    "sympy.solve((con_df[\"DD\"][\"WH\"]-c).factor(),delta_d)[0]"
   ]
  },
  {
   "cell_type": "code",
   "execution_count": null,
   "metadata": {},
   "outputs": [],
   "source": []
  },
  {
   "cell_type": "code",
   "execution_count": 126,
   "metadata": {},
   "outputs": [
    {
     "data": {
      "text/latex": [
       "$\\displaystyle \\frac{\\left(- \\alpha + \\beta c\\right) \\left(2 \\delta_{d} - 1\\right)}{2 \\beta \\left(\\delta_{d} - 1\\right)}$"
      ],
      "text/plain": [
       "(-alpha + beta*c)*(2*delta_d - 1)/(2*beta*(delta_d - 1))"
      ]
     },
     "execution_count": 126,
     "metadata": {},
     "output_type": "execute_result"
    }
   ],
   "source": [
    "(con_df[\"DD\"][\"WH\"]+c).factor()"
   ]
  },
  {
   "cell_type": "code",
   "execution_count": null,
   "metadata": {},
   "outputs": [],
   "source": []
  },
  {
   "cell_type": "code",
   "execution_count": null,
   "metadata": {},
   "outputs": [],
   "source": []
  },
  {
   "cell_type": "code",
   "execution_count": 98,
   "metadata": {},
   "outputs": [
    {
     "data": {
      "text/latex": [
       "$\\displaystyle -80257.1428571429$"
      ],
      "text/plain": [
       "-80257.1428571429"
      ]
     },
     "execution_count": 98,
     "metadata": {},
     "output_type": "execute_result"
    }
   ],
   "source": [
    "turn_point[\"WH\"].subs(para_set)"
   ]
  },
  {
   "cell_type": "code",
   "execution_count": null,
   "metadata": {},
   "outputs": [],
   "source": []
  },
  {
   "cell_type": "code",
   "execution_count": null,
   "metadata": {},
   "outputs": [],
   "source": []
  },
  {
   "cell_type": "code",
   "execution_count": 70,
   "metadata": {},
   "outputs": [
    {
     "data": {
      "text/plain": [
       "<matplotlib.axes._subplots.AxesSubplot at 0x1ceda40be48>"
      ]
     },
     "execution_count": 70,
     "metadata": {},
     "output_type": "execute_result"
    },
    {
     "data": {
      "image/png": "[encoded data removed]",
      "text/plain": [
       "<Figure size 432x288 with 1 Axes>"
      ]
     },
     "metadata": {
      "needs_background": "light"
     },
     "output_type": "display_data"
    }
   ],
   "source": [
    "test_r.plot()"
   ]
  },
  {
   "cell_type": "code",
   "execution_count": 73,
   "metadata": {},
   "outputs": [
    {
     "data": {
      "text/plain": [
       "<matplotlib.axes._subplots.AxesSubplot at 0x1ceda576988>"
      ]
     },
     "execution_count": 73,
     "metadata": {},
     "output_type": "execute_result"
    },
    {
     "data": {
      "image/png": "[encoded data removed]",
      "text/plain": [
       "<Figure size 432x288 with 1 Axes>"
      ]
     },
     "metadata": {
      "needs_background": "light"
     },
     "output_type": "display_data"
    }
   ],
   "source": [
    "test_r.plot()"
   ]
  },
  {
   "cell_type": "code",
   "execution_count": 88,
   "metadata": {},
   "outputs": [
    {
     "data": {
      "text/latex": [
       "$\\displaystyle \\frac{\\left(- \\alpha + \\beta c\\right)^{2} \\left(2 \\delta_{d} - 1\\right)}{16 \\beta \\left(\\delta_{d} - 1\\right)}$"
      ],
      "text/plain": [
       "(-alpha + beta*c)**2*(2*delta_d - 1)/(16*beta*(delta_d - 1))"
      ]
     },
     "execution_count": 88,
     "metadata": {},
     "output_type": "execute_result"
    }
   ],
   "source": [
    "turn_point[\"WH\"]"
   ]
  },
  {
   "cell_type": "code",
   "execution_count": 182,
   "metadata": {},
   "outputs": [
    {
     "data": {
      "text/latex": [
       "$\\displaystyle \\frac{3}{4} - \\frac{\\sqrt{2}}{4}$"
      ],
      "text/plain": [
       "3/4 - sqrt(2)/4"
      ]
     },
     "execution_count": 182,
     "metadata": {},
     "output_type": "execute_result"
    }
   ],
   "source": [
    "sympy.solve((turn_point[\"WH\"]-turn_point[\"QDW\"]).factor(),delta_d)[0]"
   ]
  },
  {
   "cell_type": "code",
   "execution_count": 181,
   "metadata": {},
   "outputs": [
    {
     "data": {
      "text/plain": [
       "0.3964466094067262"
      ]
     },
     "execution_count": 181,
     "metadata": {},
     "output_type": "execute_result"
    }
   ],
   "source": [
    "float(sympy.solve((turn_point[\"WH\"]-turn_point[\"QDW\"]).factor(),delta_d)[0])"
   ]
  },
  {
   "cell_type": "code",
   "execution_count": null,
   "metadata": {},
   "outputs": [],
   "source": []
  },
  {
   "cell_type": "code",
   "execution_count": 91,
   "metadata": {},
   "outputs": [
    {
     "data": {
      "text/latex": [
       "$\\displaystyle \\frac{- 2 \\alpha \\delta_{d} + \\alpha + \\beta c}{2 \\beta \\left(\\delta_{d} - 1\\right)}$"
      ],
      "text/plain": [
       "(-2*alpha*delta_d + alpha + beta*c)/(2*beta*(delta_d - 1))"
      ]
     },
     "execution_count": 91,
     "metadata": {},
     "output_type": "execute_result"
    }
   ],
   "source": [
    "con_df[\"DD\"][\"WH\"]"
   ]
  },
  {
   "cell_type": "code",
   "execution_count": 94,
   "metadata": {
    "scrolled": true
   },
   "outputs": [
    {
     "data": {
      "text/latex": [
       "$\\displaystyle \\frac{\\alpha + 3 \\beta c}{2 \\left(\\alpha + \\beta c\\right)}$"
      ],
      "text/plain": [
       "(alpha + 3*beta*c)/(2*(alpha + beta*c))"
      ]
     },
     "execution_count": 94,
     "metadata": {},
     "output_type": "execute_result"
    }
   ],
   "source": [
    "sympy.solve((con_df[\"DD\"][\"WH\"]-c).factor(),delta_d)[0]"
   ]
  },
  {
   "cell_type": "code",
   "execution_count": 101,
   "metadata": {},
   "outputs": [
    {
     "data": {
      "text/latex": [
       "$\\displaystyle \\frac{- 5 \\alpha \\delta_{d} + 2 \\sqrt{2} \\alpha \\delta_{d} - \\sqrt{2} \\alpha + 3 \\alpha - 3 \\beta c \\delta_{d} + 2 \\sqrt{2} \\beta c \\delta_{d} - 3 \\sqrt{2} \\beta c + 5 \\beta c}{2 \\beta \\left(-2 + \\sqrt{2}\\right) \\left(\\delta_{d} - 1\\right)}$"
      ],
      "text/plain": [
       "(-5*alpha*delta_d + 2*sqrt(2)*alpha*delta_d - sqrt(2)*alpha + 3*alpha - 3*beta*c*delta_d + 2*sqrt(2)*beta*c*delta_d - 3*sqrt(2)*beta*c + 5*beta*c)/(2*beta*(-2 + sqrt(2))*(delta_d - 1))"
      ]
     },
     "execution_count": 101,
     "metadata": {},
     "output_type": "execute_result"
    }
   ],
   "source": [
    "(s_up-con_df[\"DD\"][\"WH\"]).factor()"
   ]
  },
  {
   "cell_type": "code",
   "execution_count": null,
   "metadata": {},
   "outputs": [],
   "source": []
  },
  {
   "cell_type": "markdown",
   "metadata": {},
   "source": [
    "# 여기서 부터다시"
   ]
  },
  {
   "cell_type": "code",
   "execution_count": 131,
   "metadata": {},
   "outputs": [
    {
     "data": {
      "text/plain": [
       "[(alpha, 1200), (beta, 7), (c, 200), (delta_d, 0.7), (delta_s, 0.3), (s, 0.3)]"
      ]
     },
     "execution_count": 131,
     "metadata": {},
     "output_type": "execute_result"
    }
   ],
   "source": [
    "i_1 = \"DD\"\n",
    "tar_ = \"profit_r\"\n",
    "d_ = 0.7\n",
    "s_ = 0.3\n",
    "c_ = 200\n",
    "gap_ = 5\n",
    "para_set =  [(alpha,1200),(beta,7),(c,c_),(delta_d,d_),(delta_s,s_),(s,s_)]\n",
    "para_set"
   ]
  },
  {
   "cell_type": "code",
   "execution_count": 137,
   "metadata": {},
   "outputs": [
    {
     "data": {
      "text/plain": [
       "0.3964466094067262"
      ]
     },
     "execution_count": 137,
     "metadata": {},
     "output_type": "execute_result"
    }
   ],
   "source": [
    "float(sympy.solve((turn_point[\"WH\"]-turn_point[\"QDW\"]).factor(),delta_d)[0])"
   ]
  },
  {
   "cell_type": "code",
   "execution_count": null,
   "metadata": {},
   "outputs": [],
   "source": []
  },
  {
   "cell_type": "code",
   "execution_count": null,
   "metadata": {},
   "outputs": [],
   "source": []
  },
  {
   "cell_type": "code",
   "execution_count": 132,
   "metadata": {},
   "outputs": [],
   "source": [
    "test_r = para_all_3()"
   ]
  },
  {
   "cell_type": "code",
   "execution_count": 134,
   "metadata": {},
   "outputs": [
    {
     "data": {
      "text/plain": [
       "<matplotlib.axes._subplots.AxesSubplot at 0x1cedf8ea3c8>"
      ]
     },
     "execution_count": 134,
     "metadata": {},
     "output_type": "execute_result"
    },
    {
     "data": {
      "image/png": "[encoded data removed]",
      "text/plain": [
       "<Figure size 432x288 with 1 Axes>"
      ]
     },
     "metadata": {
      "needs_background": "light"
     },
     "output_type": "display_data"
    }
   ],
   "source": [
    "test_r.plot(ylim=(-5000,100))"
   ]
  },
  {
   "cell_type": "code",
   "execution_count": null,
   "metadata": {},
   "outputs": [],
   "source": []
  },
  {
   "cell_type": "code",
   "execution_count": null,
   "metadata": {},
   "outputs": [],
   "source": []
  },
  {
   "cell_type": "code",
   "execution_count": 167,
   "metadata": {},
   "outputs": [
    {
     "data": {
      "text/plain": [
       "[(alpha, 1200), (beta, 7), (c, 200), (delta_d, 0.5), (delta_s, 0.3), (s, 0.3)]"
      ]
     },
     "execution_count": 167,
     "metadata": {},
     "output_type": "execute_result"
    }
   ],
   "source": [
    "i_1 = \"DD\"\n",
    "tar_ = \"profit_r\"\n",
    "d_ = 0.5\n",
    "s_ = 0.3\n",
    "c_ = 200\n",
    "gap_ = 5\n",
    "para_set =  [(alpha,1200),(beta,7),(c,c_),(delta_d,d_),(delta_s,s_),(s,s_)]\n",
    "para_set"
   ]
  },
  {
   "cell_type": "code",
   "execution_count": 168,
   "metadata": {},
   "outputs": [
    {
     "data": {
      "text/plain": [
       "0.3964466094067262"
      ]
     },
     "execution_count": 168,
     "metadata": {},
     "output_type": "execute_result"
    }
   ],
   "source": [
    "float(sympy.solve((turn_point[\"WH\"]-turn_point[\"QDW\"]).factor(),delta_d)[0])"
   ]
  },
  {
   "cell_type": "code",
   "execution_count": 169,
   "metadata": {},
   "outputs": [],
   "source": [
    "test_r = para_all_3()"
   ]
  },
  {
   "cell_type": "code",
   "execution_count": 170,
   "metadata": {},
   "outputs": [
    {
     "data": {
      "text/plain": [
       "<matplotlib.axes._subplots.AxesSubplot at 0x1cedf0e7448>"
      ]
     },
     "execution_count": 170,
     "metadata": {},
     "output_type": "execute_result"
    },
    {
     "data": {
      "image/png": "[encoded data removed]",
      "text/plain": [
       "<Figure size 432x288 with 1 Axes>"
      ]
     },
     "metadata": {
      "needs_background": "light"
     },
     "output_type": "display_data"
    }
   ],
   "source": [
    "test_r.plot(ylim=(-500,1000))"
   ]
  },
  {
   "cell_type": "code",
   "execution_count": null,
   "metadata": {},
   "outputs": [],
   "source": []
  },
  {
   "cell_type": "markdown",
   "metadata": {},
   "source": [
    "## vertext of QDW 가 -c 보다 클 경우"
   ]
  },
  {
   "cell_type": "code",
   "execution_count": 171,
   "metadata": {},
   "outputs": [
    {
     "data": {
      "text/latex": [
       "$\\displaystyle \\frac{\\left(- \\alpha + \\beta c\\right) \\left(2 \\delta_{d} - 2 + \\sqrt{2}\\right)}{2 \\beta \\left(\\delta_{d} - 1\\right)}$"
      ],
      "text/plain": [
       "(-alpha + beta*c)*(2*delta_d - 2 + sqrt(2))/(2*beta*(delta_d - 1))"
      ]
     },
     "execution_count": 171,
     "metadata": {},
     "output_type": "execute_result"
    }
   ],
   "source": [
    "(con_df[\"DD\"][\"QDW\"]+c).factor()"
   ]
  },
  {
   "cell_type": "code",
   "execution_count": 176,
   "metadata": {},
   "outputs": [
    {
     "data": {
      "text/latex": [
       "$\\displaystyle - \\frac{-2 + \\sqrt{2}}{2}$"
      ],
      "text/plain": [
       "-(-2 + sqrt(2))/2"
      ]
     },
     "execution_count": 176,
     "metadata": {},
     "output_type": "execute_result"
    }
   ],
   "source": [
    "sympy.solve((con_df[\"DD\"][\"QDW\"]+c).factor(),delta_d)[0].factor()"
   ]
  },
  {
   "cell_type": "code",
   "execution_count": 149,
   "metadata": {},
   "outputs": [
    {
     "data": {
      "text/plain": [
       "0.2928932188134525"
      ]
     },
     "execution_count": 149,
     "metadata": {},
     "output_type": "execute_result"
    }
   ],
   "source": [
    "float(sympy.solve((con_df[\"DD\"][\"QDW\"]+c).factor(),delta_d)[0])"
   ]
  },
  {
   "cell_type": "markdown",
   "metadata": {},
   "source": [
    "### --> delta_d < 0.29일때"
   ]
  },
  {
   "cell_type": "code",
   "execution_count": 150,
   "metadata": {},
   "outputs": [
    {
     "data": {
      "text/plain": [
       "[(alpha, 1200), (beta, 7), (c, 200), (delta_d, 0.2), (delta_s, 0.3), (s, 0.3)]"
      ]
     },
     "execution_count": 150,
     "metadata": {},
     "output_type": "execute_result"
    }
   ],
   "source": [
    "i_1 = \"DD\"\n",
    "tar_ = \"profit_r\"\n",
    "d_ = 0.2\n",
    "s_ = 0.3\n",
    "c_ = 200\n",
    "gap_ = 5\n",
    "para_set =  [(alpha,1200),(beta,7),(c,c_),(delta_d,d_),(delta_s,s_),(s,s_)]\n",
    "para_set"
   ]
  },
  {
   "cell_type": "code",
   "execution_count": 151,
   "metadata": {},
   "outputs": [
    {
     "data": {
      "text/plain": [
       "0.3964466094067262"
      ]
     },
     "execution_count": 151,
     "metadata": {},
     "output_type": "execute_result"
    }
   ],
   "source": [
    "float(sympy.solve((turn_point[\"WH\"]-turn_point[\"QDW\"]).factor(),delta_d)[0])"
   ]
  },
  {
   "cell_type": "code",
   "execution_count": 152,
   "metadata": {},
   "outputs": [],
   "source": [
    "test_r = para_all_3()"
   ]
  },
  {
   "cell_type": "code",
   "execution_count": 153,
   "metadata": {},
   "outputs": [
    {
     "data": {
      "text/plain": [
       "<matplotlib.axes._subplots.AxesSubplot at 0x1cedf63c508>"
      ]
     },
     "execution_count": 153,
     "metadata": {},
     "output_type": "execute_result"
    },
    {
     "data": {
      "image/png": "[encoded data removed]",
      "text/plain": [
       "<Figure size 432x288 with 1 Axes>"
      ]
     },
     "metadata": {
      "needs_background": "light"
     },
     "output_type": "display_data"
    }
   ],
   "source": [
    "test_r.plot(ylim=(-500,1000))"
   ]
  },
  {
   "cell_type": "code",
   "execution_count": 157,
   "metadata": {},
   "outputs": [
    {
     "data": {
      "text/plain": [
       "413.1622319615643"
      ]
     },
     "execution_count": 157,
     "metadata": {},
     "output_type": "execute_result"
    }
   ],
   "source": [
    "float(turn_point[\"QDW\"].subs(para_set))"
   ]
  },
  {
   "cell_type": "code",
   "execution_count": 159,
   "metadata": {
    "scrolled": true
   },
   "outputs": [
    {
     "data": {
      "text/plain": [
       "-196.68238504237667"
      ]
     },
     "execution_count": 159,
     "metadata": {},
     "output_type": "execute_result"
    }
   ],
   "source": [
    "float(con_df[\"DD\"][\"QDW\"].subs(para_set))"
   ]
  },
  {
   "cell_type": "markdown",
   "metadata": {},
   "source": [
    "# DD 에서 profit_r이 QDW가 좋은 경우는 있다."
   ]
  },
  {
   "cell_type": "code",
   "execution_count": null,
   "metadata": {},
   "outputs": [],
   "source": []
  },
  {
   "cell_type": "code",
   "execution_count": 160,
   "metadata": {},
   "outputs": [],
   "source": [
    "tar_ = \"p\"\n",
    "test_r = para_all_2()"
   ]
  },
  {
   "cell_type": "code",
   "execution_count": 161,
   "metadata": {},
   "outputs": [
    {
     "data": {
      "text/plain": [
       "<matplotlib.axes._subplots.AxesSubplot at 0x1cedfc02148>"
      ]
     },
     "execution_count": 161,
     "metadata": {},
     "output_type": "execute_result"
    },
    {
     "data": {
      "image/png": "[encoded data removed]",
      "text/plain": [
       "<Figure size 432x288 with 1 Axes>"
      ]
     },
     "metadata": {
      "needs_background": "light"
     },
     "output_type": "display_data"
    }
   ],
   "source": [
    "test_r.plot()"
   ]
  },
  {
   "cell_type": "code",
   "execution_count": null,
   "metadata": {},
   "outputs": [],
   "source": []
  },
  {
   "cell_type": "code",
   "execution_count": 162,
   "metadata": {},
   "outputs": [],
   "source": [
    "tar_ = \"q_t\"\n",
    "test_r = para_all_2()"
   ]
  },
  {
   "cell_type": "code",
   "execution_count": 163,
   "metadata": {},
   "outputs": [
    {
     "data": {
      "text/plain": [
       "<matplotlib.axes._subplots.AxesSubplot at 0x1cedfd39108>"
      ]
     },
     "execution_count": 163,
     "metadata": {},
     "output_type": "execute_result"
    },
    {
     "data": {
      "image/png": "[encoded data removed]",
      "text/plain": [
       "<Figure size 432x288 with 1 Axes>"
      ]
     },
     "metadata": {
      "needs_background": "light"
     },
     "output_type": "display_data"
    }
   ],
   "source": [
    "test_r.plot()"
   ]
  },
  {
   "cell_type": "code",
   "execution_count": null,
   "metadata": {},
   "outputs": [],
   "source": []
  },
  {
   "cell_type": "code",
   "execution_count": 165,
   "metadata": {},
   "outputs": [],
   "source": [
    "tar_ = \"q_d\"\n",
    "test_r = para_all_2()"
   ]
  },
  {
   "cell_type": "code",
   "execution_count": 166,
   "metadata": {},
   "outputs": [
    {
     "data": {
      "text/plain": [
       "<matplotlib.axes._subplots.AxesSubplot at 0x1cedf122108>"
      ]
     },
     "execution_count": 166,
     "metadata": {},
     "output_type": "execute_result"
    },
    {
     "data": {
      "image/png": "[encoded data removed]",
      "text/plain": [
       "<Figure size 432x288 with 1 Axes>"
      ]
     },
     "metadata": {
      "needs_background": "light"
     },
     "output_type": "display_data"
    }
   ],
   "source": [
    "test_r.plot()"
   ]
  },
  {
   "cell_type": "code",
   "execution_count": null,
   "metadata": {},
   "outputs": [],
   "source": []
  },
  {
   "cell_type": "markdown",
   "metadata": {},
   "source": [
    "## vertext_QDW 의 y value가 ver_WH의 y보다 클 조건과, 앞의 조건 사이 = 0.35"
   ]
  },
  {
   "cell_type": "code",
   "execution_count": 187,
   "metadata": {},
   "outputs": [
    {
     "data": {
      "text/plain": [
       "[(alpha, 1200),\n",
       " (beta, 7),\n",
       " (c, 200),\n",
       " (delta_d, 0.35),\n",
       " (delta_s, 0.35),\n",
       " (s, 0.35)]"
      ]
     },
     "execution_count": 187,
     "metadata": {},
     "output_type": "execute_result"
    }
   ],
   "source": [
    "i_1 = \"DD\"\n",
    "tar_ = \"profit_r\"\n",
    "d_ = 0.35\n",
    "s_ = 0.35\n",
    "c_ = 200\n",
    "gap_ = 5\n",
    "para_set =  [(alpha,1200),(beta,7),(c,c_),(delta_d,d_),(delta_s,s_),(s,s_)]\n",
    "para_set"
   ]
  },
  {
   "cell_type": "code",
   "execution_count": 188,
   "metadata": {},
   "outputs": [
    {
     "data": {
      "text/plain": [
       "0.3964466094067262"
      ]
     },
     "execution_count": 188,
     "metadata": {},
     "output_type": "execute_result"
    }
   ],
   "source": [
    "float(sympy.solve((turn_point[\"WH\"]-turn_point[\"QDW\"]).factor(),delta_d)[0])"
   ]
  },
  {
   "cell_type": "code",
   "execution_count": 189,
   "metadata": {},
   "outputs": [],
   "source": [
    "test_r = para_all_3()"
   ]
  },
  {
   "cell_type": "code",
   "execution_count": 190,
   "metadata": {},
   "outputs": [
    {
     "data": {
      "text/plain": [
       "<matplotlib.axes._subplots.AxesSubplot at 0x1cedfd8a0c8>"
      ]
     },
     "execution_count": 190,
     "metadata": {},
     "output_type": "execute_result"
    },
    {
     "data": {
      "image/png": "[encoded data removed]",
      "text/plain": [
       "<Figure size 432x288 with 1 Axes>"
      ]
     },
     "metadata": {
      "needs_background": "light"
     },
     "output_type": "display_data"
    }
   ],
   "source": [
    "test_r.plot(ylim=(-500,1000))"
   ]
  },
  {
   "cell_type": "markdown",
   "metadata": {},
   "source": [
    "### 여전히 QDW가 WH 보다 크다"
   ]
  },
  {
   "cell_type": "code",
   "execution_count": null,
   "metadata": {},
   "outputs": [],
   "source": []
  },
  {
   "cell_type": "code",
   "execution_count": null,
   "metadata": {},
   "outputs": [],
   "source": []
  },
  {
   "cell_type": "markdown",
   "metadata": {},
   "source": [
    "## vertext_QDW 의 y value가 ver_WH의 y보다 클 조건 0.4"
   ]
  },
  {
   "cell_type": "code",
   "execution_count": 201,
   "metadata": {},
   "outputs": [
    {
     "data": {
      "text/plain": [
       "[(alpha, 1200), (beta, 7), (c, 200), (delta_d, 0.6), (delta_s, 0.1), (s, 0.1)]"
      ]
     },
     "execution_count": 201,
     "metadata": {},
     "output_type": "execute_result"
    }
   ],
   "source": [
    "i_1 = \"DD\"\n",
    "tar_ = \"profit_r\"\n",
    "d_ = 0.6\n",
    "s_ = 0.1\n",
    "c_ = 200\n",
    "gap_ = 5\n",
    "para_set =  [(alpha,1200),(beta,7),(c,c_),(delta_d,d_),(delta_s,s_),(s,s_)]\n",
    "para_set"
   ]
  },
  {
   "cell_type": "code",
   "execution_count": 202,
   "metadata": {},
   "outputs": [
    {
     "data": {
      "text/plain": [
       "0.3964466094067262"
      ]
     },
     "execution_count": 202,
     "metadata": {},
     "output_type": "execute_result"
    }
   ],
   "source": [
    "float(sympy.solve((turn_point[\"WH\"]-turn_point[\"QDW\"]).factor(),delta_d)[0])"
   ]
  },
  {
   "cell_type": "code",
   "execution_count": 203,
   "metadata": {},
   "outputs": [],
   "source": [
    "test_r = para_all_3()"
   ]
  },
  {
   "cell_type": "code",
   "execution_count": 204,
   "metadata": {},
   "outputs": [
    {
     "data": {
      "text/plain": [
       "<matplotlib.axes._subplots.AxesSubplot at 0x1cedffa2c48>"
      ]
     },
     "execution_count": 204,
     "metadata": {},
     "output_type": "execute_result"
    },
    {
     "data": {
      "image/png": "[encoded data removed]",
      "text/plain": [
       "<Figure size 432x288 with 1 Axes>"
      ]
     },
     "metadata": {
      "needs_background": "light"
     },
     "output_type": "display_data"
    }
   ],
   "source": [
    "test_r.plot(ylim=(-500,1000))"
   ]
  },
  {
   "cell_type": "code",
   "execution_count": 205,
   "metadata": {},
   "outputs": [
    {
     "data": {
      "text/plain": [
       "-479.69491089557835"
      ]
     },
     "execution_count": 205,
     "metadata": {},
     "output_type": "execute_result"
    }
   ],
   "source": [
    "float(turn_point[\"QDW\"].subs(para_set))"
   ]
  },
  {
   "cell_type": "code",
   "execution_count": 206,
   "metadata": {
    "scrolled": true
   },
   "outputs": [
    {
     "data": {
      "text/plain": [
       "-221.93619865618194"
      ]
     },
     "execution_count": 206,
     "metadata": {},
     "output_type": "execute_result"
    }
   ],
   "source": [
    "float(con_df[\"DD\"][\"QDW\"].subs(para_set))"
   ]
  },
  {
   "cell_type": "code",
   "execution_count": 207,
   "metadata": {},
   "outputs": [
    {
     "data": {
      "text/plain": [
       "-207.1428571428571"
      ]
     },
     "execution_count": 207,
     "metadata": {},
     "output_type": "execute_result"
    }
   ],
   "source": [
    "float(con_df[\"DD\"][\"WH\"].subs(para_set))"
   ]
  },
  {
   "cell_type": "code",
   "execution_count": null,
   "metadata": {},
   "outputs": [],
   "source": []
  },
  {
   "cell_type": "code",
   "execution_count": null,
   "metadata": {},
   "outputs": [],
   "source": []
  },
  {
   "cell_type": "code",
   "execution_count": 211,
   "metadata": {},
   "outputs": [],
   "source": [
    "d_a = sympy.solve((con_df[\"DD\"][\"QDW\"]+c).factor(),delta_d)[0].factor()"
   ]
  },
  {
   "cell_type": "code",
   "execution_count": 215,
   "metadata": {},
   "outputs": [
    {
     "data": {
      "text/latex": [
       "$\\displaystyle - \\frac{-2 + \\sqrt{2}}{2}$"
      ],
      "text/plain": [
       "-(-2 + sqrt(2))/2"
      ]
     },
     "execution_count": 215,
     "metadata": {},
     "output_type": "execute_result"
    }
   ],
   "source": [
    "d_a"
   ]
  },
  {
   "cell_type": "code",
   "execution_count": 221,
   "metadata": {},
   "outputs": [
    {
     "data": {
      "text/plain": [
       "-86.65738825688756"
      ]
     },
     "execution_count": 221,
     "metadata": {},
     "output_type": "execute_result"
    }
   ],
   "source": [
    "float((turn_point[\"WH\"]-turn_point[\"QDW\"]).factor().subs([(delta_d,d_a+0.001)]).factor().subs(para_set))"
   ]
  },
  {
   "cell_type": "code",
   "execution_count": null,
   "metadata": {},
   "outputs": [],
   "source": []
  },
  {
   "cell_type": "code",
   "execution_count": 224,
   "metadata": {},
   "outputs": [
    {
     "data": {
      "text/latex": [
       "$\\displaystyle \\frac{3}{4} - \\frac{\\sqrt{2}}{4}$"
      ],
      "text/plain": [
       "3/4 - sqrt(2)/4"
      ]
     },
     "execution_count": 224,
     "metadata": {},
     "output_type": "execute_result"
    }
   ],
   "source": [
    "d_b = sympy.solve((turn_point[\"WH\"]-turn_point[\"QDW\"]).factor(),delta_d)[0]\n",
    "d_b"
   ]
  },
  {
   "cell_type": "code",
   "execution_count": 223,
   "metadata": {},
   "outputs": [
    {
     "data": {
      "text/plain": [
       "0.3964466094067262"
      ]
     },
     "execution_count": 223,
     "metadata": {},
     "output_type": "execute_result"
    }
   ],
   "source": [
    "float(sympy.solve((turn_point[\"WH\"]-turn_point[\"QDW\"]).factor(),delta_d)[0])"
   ]
  },
  {
   "cell_type": "code",
   "execution_count": 230,
   "metadata": {},
   "outputs": [
    {
     "data": {
      "text/plain": [
       "0.000980418054459783"
      ]
     },
     "execution_count": 230,
     "metadata": {},
     "output_type": "execute_result"
    }
   ],
   "source": [
    "float((turn_point[\"WH\"]-turn_point[\"QDW\"]).factor().subs([(delta_d,d_b+0.000001)]).factor().subs(para_set))"
   ]
  },
  {
   "cell_type": "code",
   "execution_count": null,
   "metadata": {},
   "outputs": [],
   "source": []
  },
  {
   "cell_type": "markdown",
   "metadata": {},
   "source": [
    "# profit_ all 한번"
   ]
  },
  {
   "cell_type": "code",
   "execution_count": 232,
   "metadata": {},
   "outputs": [
    {
     "data": {
      "text/plain": [
       "[(alpha, 1200), (beta, 7), (c, 200), (delta_d, 0.2), (delta_s, 0.1), (s, 0.1)]"
      ]
     },
     "execution_count": 232,
     "metadata": {},
     "output_type": "execute_result"
    }
   ],
   "source": [
    "i_1 = \"DD\"\n",
    "tar_ = \"profit_all\"\n",
    "d_ = 0.2\n",
    "s_ = 0.1\n",
    "c_ = 200\n",
    "gap_ = 5\n",
    "para_set =  [(alpha,1200),(beta,7),(c,c_),(delta_d,d_),(delta_s,s_),(s,s_)]\n",
    "para_set"
   ]
  },
  {
   "cell_type": "code",
   "execution_count": 235,
   "metadata": {},
   "outputs": [],
   "source": [
    "test_r = para_all_2()"
   ]
  },
  {
   "cell_type": "code",
   "execution_count": 242,
   "metadata": {},
   "outputs": [
    {
     "data": {
      "text/plain": [
       "<matplotlib.axes._subplots.AxesSubplot at 0x1cee1655c08>"
      ]
     },
     "execution_count": 242,
     "metadata": {},
     "output_type": "execute_result"
    },
    {
     "data": {
      "image/png": "[encoded data removed]",
      "text/plain": [
       "<Figure size 432x288 with 1 Axes>"
      ]
     },
     "metadata": {
      "needs_background": "light"
     },
     "output_type": "display_data"
    }
   ],
   "source": [
    "test_r.plot(xlim=(-200,-150),ylim=(-10,3000))"
   ]
  },
  {
   "cell_type": "code",
   "execution_count": 243,
   "metadata": {},
   "outputs": [
    {
     "data": {
      "text/plain": [
       "<matplotlib.axes._subplots.AxesSubplot at 0x1cee16deb08>"
      ]
     },
     "execution_count": 243,
     "metadata": {},
     "output_type": "execute_result"
    },
    {
     "data": {
      "image/png": "[encoded data removed]",
      "text/plain": [
       "<Figure size 432x288 with 1 Axes>"
      ]
     },
     "metadata": {
      "needs_background": "light"
     },
     "output_type": "display_data"
    }
   ],
   "source": [
    "test_r.plot(xlim=(-150,-50),ylim=(3000,8000))"
   ]
  },
  {
   "cell_type": "code",
   "execution_count": 244,
   "metadata": {},
   "outputs": [
    {
     "data": {
      "text/plain": [
       "<matplotlib.axes._subplots.AxesSubplot at 0x1cee175f488>"
      ]
     },
     "execution_count": 244,
     "metadata": {},
     "output_type": "execute_result"
    },
    {
     "data": {
      "image/png": "[encoded data removed]",
      "text/plain": [
       "<Figure size 432x288 with 1 Axes>"
      ]
     },
     "metadata": {
      "needs_background": "light"
     },
     "output_type": "display_data"
    }
   ],
   "source": [
    "test_r.plot()"
   ]
  },
  {
   "cell_type": "code",
   "execution_count": null,
   "metadata": {},
   "outputs": [],
   "source": []
  },
  {
   "cell_type": "code",
   "execution_count": null,
   "metadata": {},
   "outputs": [],
   "source": []
  },
  {
   "cell_type": "code",
   "execution_count": null,
   "metadata": {},
   "outputs": [],
   "source": []
  },
  {
   "cell_type": "code",
   "execution_count": null,
   "metadata": {},
   "outputs": [],
   "source": []
  },
  {
   "cell_type": "code",
   "execution_count": null,
   "metadata": {},
   "outputs": [],
   "source": []
  }
 ],
 "metadata": {
  "kernelspec": {
   "display_name": "Python 3",
   "language": "python",
   "name": "python3"
  },
  "language_info": {
   "codemirror_mode": {
    "name": "ipython",
    "version": 3
   },
   "file_extension": ".py",
   "mimetype": "text/x-python",
   "name": "python",
   "nbconvert_exporter": "python",
   "pygments_lexer": "ipython3",
   "version": "3.7.6"
  }
 },
 "nbformat": 4,
 "nbformat_minor": 4
}
