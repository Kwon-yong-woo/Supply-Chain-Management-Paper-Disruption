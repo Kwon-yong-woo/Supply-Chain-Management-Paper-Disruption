{
 "cells": [
  {
   "cell_type": "code",
   "execution_count": 1,
   "metadata": {},
   "outputs": [],
   "source": [
    "import pandas as pd\n",
    "import numpy as np\n",
    "import sympy\n",
    "from sympy.solvers.inequalities import reduce_rational_inequalities,reduce_inequalities\n",
    "from itertools import chain\n",
    "from collections import defaultdict\n",
    "from IPython.display import display\n",
    "\n",
    "from sympy.parsing.sympy_parser import parse_expr\n",
    "from sympy.parsing.sympy_parser import standard_transformations\n",
    "from sympy.printing.mathml import print_mathml\n",
    "import math\n",
    "from IPython.display import display, Markdown, Latex\n",
    "import os\n",
    "from tqdm.notebook import tqdm\n",
    "import seaborn as sns\n",
    "import matplotlib.pyplot as plt\n",
    "\n",
    "def make_symbols_positive(sym):\n",
    "    return sympy.symbols(\"{}\".format(sym),positive =True)\n",
    "\n",
    "def make_symbols_function(sym):\n",
    "    return sympy.symbols(\"{}\".format(sym),cl)\n",
    "\n",
    "def subs_function(target,list_):\n",
    "    return sympy.simplify(target.subs(list_))\n",
    "\n",
    "def root_cal(value):\n",
    "    return value**(1/2)"
   ]
  },
  {
   "cell_type": "code",
   "execution_count": 2,
   "metadata": {},
   "outputs": [
    {
     "name": "stdout",
     "output_type": "stream",
     "text": [
      "\u001b[1mHello World !\u001b[0m\n"
     ]
    }
   ],
   "source": [
    "class color:\n",
    "   PURPLE = '\\033[95m'\n",
    "   CYAN = '\\033[96m'\n",
    "   DARKCYAN = '\\033[36m'\n",
    "   BLUE = '\\033[94m'\n",
    "   GREEN = '\\033[92m'\n",
    "   YELLOW = '\\033[93m'\n",
    "   RED = '\\033[91m'\n",
    "   BOLD = '\\033[1m'\n",
    "   UNDERLINE = '\\033[4m'\n",
    "   END = '\\033[0m'\n",
    "\n",
    "print(color.BOLD + 'Hello World !' + color.END)"
   ]
  },
  {
   "cell_type": "markdown",
   "metadata": {},
   "source": [
    "# w_range"
   ]
  },
  {
   "cell_type": "code",
   "execution_count": 3,
   "metadata": {},
   "outputs": [],
   "source": [
    "def sol_w_same(df_1,target_):\n",
    "    w_sol = sympy.solve([df_1[\"QD\"][target_]-df_1[\"FB\"][target_]],w)\n",
    "    return w_sol"
   ]
  },
  {
   "cell_type": "code",
   "execution_count": 4,
   "metadata": {},
   "outputs": [],
   "source": [
    "def sol_w_other(df_1,equa):\n",
    "    w_sol = sympy.solve(equa,w)\n",
    "    return w_sol"
   ]
  },
  {
   "cell_type": "code",
   "execution_count": 5,
   "metadata": {},
   "outputs": [],
   "source": [
    "def display_solve(df_1,w_sol):\n",
    "    for row,col in df_1.iterrows():\n",
    "        print(row)\n",
    "        try:\n",
    "            display(col[\"QD\"].subs([(w,w_sol)]).factor())\n",
    "        except:\n",
    "            print()\n",
    "        print()"
   ]
  },
  {
   "cell_type": "code",
   "execution_count": 6,
   "metadata": {},
   "outputs": [],
   "source": [
    "def display_solve2(df_1,w_sol):\n",
    "    for row,col in df_1.iterrows():\n",
    "        print(row)\n",
    "        try:\n",
    "            display(col[\"QD\"].subs([(w,w_sol)]).simplify())\n",
    "        except:\n",
    "            print()\n",
    "        print()"
   ]
  },
  {
   "cell_type": "code",
   "execution_count": 7,
   "metadata": {},
   "outputs": [],
   "source": [
    "def display_w_insert(df_,w_1):\n",
    "    order_ = [\"w\",\"epsilon\",\"t\",\"p\",\"q_nd\",\"q_t\",\"q\",\"profit_r\",\"profit_s\",\"profit_all\",\"h1_r_p\",\"h1_s_w\",\"h1_s_e\"]\n",
    "    if w_1 == \"WH\":\n",
    "        for ord_ in order_:\n",
    "            try:\n",
    "                value_ = df_[1][ord_].factor()\n",
    "                value_2 = df_[1][ord_].simplify()\n",
    "                print(color.RED + ord_ + color.END)\n",
    "                display(\"factor: \",value_)\n",
    "                display(\"simplify: \",value_2)\n",
    "                print(\"-\"*40)\n",
    "            except:\n",
    "                print(color.RED + ord_ + color.END)\n",
    "                print(\"-\"*40)\n",
    "    else:\n",
    "        for ord_ in order_:\n",
    "            try:\n",
    "                value_ = df_[1][ord_].subs([(w,w_1)]).factor()\n",
    "                value_2 = df_[1][ord_].subs([(w,w_1)]).simplify()\n",
    "                print(color.RED + ord_ + color.END)\n",
    "                display(\"factor: \",value_)\n",
    "                display(\"simplify: \",value_2)\n",
    "                print(\"-\"*40)\n",
    "            except:\n",
    "                print(color.RED + ord_ + color.END)\n",
    "                print(\"-\"*40)"
   ]
  },
  {
   "cell_type": "code",
   "execution_count": 8,
   "metadata": {},
   "outputs": [],
   "source": [
    "Path_ = r\"C:\\Users\\Samsung\\jupyter\\Graduation_thesis\\result\\version_un_4\""
   ]
  },
  {
   "cell_type": "code",
   "execution_count": 9,
   "metadata": {},
   "outputs": [],
   "source": [
    "file_list = os.listdir(Path_)\n",
    "file_list_xlsx = [f for f in file_list if f.endswith(\".xlsx\")]\n",
    "#file_FB = [f for f in file_list_xlsx if f.contains(\"FB\")]\n",
    "#file_WH = [f for f in file_list_xlsx if f.contains(\"WH\")]\n",
    "#file_QD = [f for f in file_list_xlsx if f.contains(\"QD\")]"
   ]
  },
  {
   "cell_type": "code",
   "execution_count": 10,
   "metadata": {},
   "outputs": [
    {
     "data": {
      "text/plain": [
       "['ND_FB',\n",
       " 'ND_QD',\n",
       " 'ND_WH',\n",
       " 'UN_BD_QD',\n",
       " 'UN_BD_WH',\n",
       " 'UN_BS_QD',\n",
       " 'UN_BS_WH',\n",
       " 'UN_DD_QD',\n",
       " 'UN_DD_WH',\n",
       " 'UN_SD_QD',\n",
       " 'UN_SD_WH']"
      ]
     },
     "execution_count": 10,
     "metadata": {},
     "output_type": "execute_result"
    }
   ],
   "source": [
    "file_name = [li.replace(\".xlsx\",\"\") for li in file_list_xlsx]\n",
    "file_name"
   ]
  },
  {
   "cell_type": "code",
   "execution_count": 11,
   "metadata": {},
   "outputs": [],
   "source": [
    "for fn in file_name:\n",
    "    path_ = Path_ + \"\\\\{}.xlsx\"\n",
    "    globals() [\"{}\".format(fn)] = pd.read_excel(path_.format(fn),index_col=0,header=None)\n",
    "    try:\n",
    "        globals() [\"{}\".format(fn)] = globals() [\"{}\".format(fn)]#.rename(index={\"profit_all\":\"pro_all\"})\n",
    "    except:\n",
    "        pass"
   ]
  },
  {
   "cell_type": "code",
   "execution_count": 12,
   "metadata": {},
   "outputs": [],
   "source": [
    "p,w,c,s,alpha,beta,delta_d,delta_s,epsilon,psi = make_symbols_positive(\"p,w,c,s,alpha,beta,delta_d,delta_s,epsilon,psi\")"
   ]
  },
  {
   "cell_type": "code",
   "execution_count": 13,
   "metadata": {},
   "outputs": [],
   "source": [
    "parse_dic = {\"p\":p,\"w\":w,\"c\":c,\"s\":s\n",
    "             ,\"alpha\":alpha,\"beta\":beta\n",
    "             ,\"delta_d\":delta_d,\"delta_s\":delta_s,\"epsilon\":epsilon }"
   ]
  },
  {
   "cell_type": "code",
   "execution_count": 14,
   "metadata": {},
   "outputs": [],
   "source": [
    "for fn in file_name:\n",
    "    globals() [\"{}\".format(fn)][1] = globals() [\"{}\".format(fn)][1].map(lambda x: parse_expr(x.replace(\"^\",\"**\").replace(\"lambda\",\"lambda_\"),parse_dic))"
   ]
  },
  {
   "cell_type": "code",
   "execution_count": null,
   "metadata": {},
   "outputs": [],
   "source": []
  },
  {
   "cell_type": "markdown",
   "metadata": {},
   "source": [
    "# Un cases"
   ]
  },
  {
   "cell_type": "code",
   "execution_count": 15,
   "metadata": {},
   "outputs": [
    {
     "data": {
      "text/latex": [
       "$\\displaystyle \\frac{- \\alpha + 2 \\beta c + \\sqrt{2} \\left(\\alpha - \\beta c\\right)}{\\beta}$"
      ],
      "text/plain": [
       "(-alpha + 2*beta*c + sqrt(2)*(alpha - beta*c))/beta"
      ]
     },
     "execution_count": 15,
     "metadata": {},
     "output_type": "execute_result"
    }
   ],
   "source": [
    "solve_ws = sympy.solve((ND_QD[1][\"profit_s\"]-ND_WH[1][\"profit_s\"]).factor(),w)\n",
    "w_w = solve_ws[1]\n",
    "w_w"
   ]
  },
  {
   "cell_type": "code",
   "execution_count": 16,
   "metadata": {},
   "outputs": [
    {
     "data": {
      "text/latex": [
       "$\\displaystyle \\frac{\\alpha}{\\beta}$"
      ],
      "text/plain": [
       "alpha/beta"
      ]
     },
     "execution_count": 16,
     "metadata": {},
     "output_type": "execute_result"
    }
   ],
   "source": [
    "solve_w = sympy.solve((ND_QD[1][\"profit_all\"]-ND_FB[1][\"profit_all\"]).factor(),w)\n",
    "w_c = solve_w[0]\n",
    "w_c"
   ]
  },
  {
   "cell_type": "code",
   "execution_count": 17,
   "metadata": {},
   "outputs": [],
   "source": [
    "\n",
    "tar_wh = ND_WH.copy()\n",
    "tar_qd = ND_QD.copy()\n",
    "\n",
    "ND_QDW = pd.DataFrame(tar_qd[1].map(lambda x : x.subs([(w,w_w)]).factor())) \n",
    "ND_QDC = pd.DataFrame(tar_qd[1].map(lambda x : x.subs([(w,w_c)]).factor())) \n"
   ]
  },
  {
   "cell_type": "code",
   "execution_count": 18,
   "metadata": {},
   "outputs": [],
   "source": [
    "time_ = \"UN\"\n",
    "dis_ = \"DD\"\n",
    "\n",
    "\n",
    "tar_wh = globals() [\"{}_{}_WH\".format(time_,dis_)]\n",
    "tar_qd = globals() [\"{}_{}_QD\".format(time_,dis_)]\n",
    "\n",
    "globals() [\"{}_{}_QD{}\".format(time_,dis_,\"W\")] = pd.DataFrame(tar_qd[1].map(lambda x : x.subs([(w,w_w)]).factor()))  \n",
    "globals() [\"{}_{}_QD{}\".format(time_,dis_,\"C\")] = pd.DataFrame(tar_qd[1].map(lambda x : x.subs([(w,w_c)]).factor()))  \n",
    "time_ = \"UN\"\n",
    "diss_ = [\"DD\",\"SD\",\"BD\",\"BS\"]\n",
    "\n",
    "for dis_ in diss_:\n",
    "    tar_wh = globals() [\"{}_{}_WH\".format(time_,dis_)]\n",
    "    tar_qd = globals() [\"{}_{}_QD\".format(time_,dis_)]\n",
    "    globals() [\"{}_{}_QD{}\".format(time_,dis_,\"W\")] = pd.DataFrame(tar_qd[1].map(lambda x : x.subs([(w,w_w)]).factor()))  \n",
    "    globals() [\"{}_{}_QD{}\".format(time_,dis_,\"C\")] = pd.DataFrame(tar_qd[1].map(lambda x : x.subs([(w,w_c)]).factor()))  "
   ]
  },
  {
   "cell_type": "code",
   "execution_count": 19,
   "metadata": {},
   "outputs": [],
   "source": [
    "time_ = \"UN\"\n",
    "dis_ = \"SD\"\n",
    "\n",
    "\n",
    "tar_wh = globals() [\"{}_{}_WH\".format(time_,dis_)]\n",
    "tar_qd = globals() [\"{}_{}_QD\".format(time_,dis_)]\n",
    "\n",
    "globals() [\"{}_{}_QD{}\".format(time_,dis_,\"W\")] = pd.DataFrame(tar_qd[1].map(lambda x : x.subs([(w,w_w)]).factor()))  \n",
    "globals() [\"{}_{}_QD{}\".format(time_,dis_,\"C\")] = pd.DataFrame(tar_qd[1].map(lambda x : x.subs([(w,w_c)]).factor()))  \n",
    "time_ = \"UN\"\n",
    "diss_ = [\"DD\",\"SD\",\"BD\",\"BS\"]\n",
    "\n",
    "for dis_ in diss_:\n",
    "    tar_wh = globals() [\"{}_{}_WH\".format(time_,dis_)]\n",
    "    tar_qd = globals() [\"{}_{}_QD\".format(time_,dis_)]\n",
    "    globals() [\"{}_{}_QD{}\".format(time_,dis_,\"W\")] = pd.DataFrame(tar_qd[1].map(lambda x : x.subs([(w,w_w)]).factor()))  \n",
    "    globals() [\"{}_{}_QD{}\".format(time_,dis_,\"C\")] = pd.DataFrame(tar_qd[1].map(lambda x : x.subs([(w,w_c)]).factor()))  \n"
   ]
  },
  {
   "cell_type": "code",
   "execution_count": 20,
   "metadata": {},
   "outputs": [],
   "source": [
    "time_ = \"UN\"\n",
    "dis_ = \"BD\"\n",
    "\n",
    "\n",
    "tar_wh = globals() [\"{}_{}_WH\".format(time_,dis_)]\n",
    "tar_qd = globals() [\"{}_{}_QD\".format(time_,dis_)]\n",
    "\n",
    "globals() [\"{}_{}_QD{}\".format(time_,dis_,\"W\")] = pd.DataFrame(tar_qd[1].map(lambda x : x.subs([(w,w_w)]).factor()))  \n",
    "globals() [\"{}_{}_QD{}\".format(time_,dis_,\"C\")] = pd.DataFrame(tar_qd[1].map(lambda x : x.subs([(w,w_c)]).factor()))  \n",
    "time_ = \"UN\"\n",
    "diss_ = [\"DD\",\"SD\",\"BD\",\"BS\"]\n",
    "\n",
    "for dis_ in diss_:\n",
    "    tar_wh = globals() [\"{}_{}_WH\".format(time_,dis_)]\n",
    "    tar_qd = globals() [\"{}_{}_QD\".format(time_,dis_)]\n",
    "    globals() [\"{}_{}_QD{}\".format(time_,dis_,\"W\")] = pd.DataFrame(tar_qd[1].map(lambda x : x.subs([(w,w_w)]).factor()))  \n",
    "    globals() [\"{}_{}_QD{}\".format(time_,dis_,\"C\")] = pd.DataFrame(tar_qd[1].map(lambda x : x.subs([(w,w_c)]).factor()))  \n"
   ]
  },
  {
   "cell_type": "code",
   "execution_count": 21,
   "metadata": {},
   "outputs": [],
   "source": [
    "time_ = \"UN\"\n",
    "dis_ = \"BS\"\n",
    "\n",
    "\n",
    "tar_wh = globals() [\"{}_{}_WH\".format(time_,dis_)]\n",
    "tar_qd = globals() [\"{}_{}_QD\".format(time_,dis_)]\n",
    "\n",
    "globals() [\"{}_{}_QD{}\".format(time_,dis_,\"W\")] = pd.DataFrame(tar_qd[1].map(lambda x : x.subs([(w,w_w)]).factor()))  \n",
    "globals() [\"{}_{}_QD{}\".format(time_,dis_,\"C\")] = pd.DataFrame(tar_qd[1].map(lambda x : x.subs([(w,w_c)]).factor()))  \n",
    "time_ = \"UN\"\n",
    "diss_ = [\"DD\",\"SD\",\"BD\",\"BS\"]\n",
    "\n",
    "for dis_ in diss_:\n",
    "    tar_wh = globals() [\"{}_{}_WH\".format(time_,dis_)]\n",
    "    tar_qd = globals() [\"{}_{}_QD\".format(time_,dis_)]\n",
    "    globals() [\"{}_{}_QD{}\".format(time_,dis_,\"W\")] = pd.DataFrame(tar_qd[1].map(lambda x : x.subs([(w,w_w)]).factor()))  \n",
    "    globals() [\"{}_{}_QD{}\".format(time_,dis_,\"C\")] = pd.DataFrame(tar_qd[1].map(lambda x : x.subs([(w,w_c)]).factor()))  \n"
   ]
  },
  {
   "cell_type": "code",
   "execution_count": 22,
   "metadata": {},
   "outputs": [],
   "source": [
    "def hessian_(df_,para_):\n",
    "    try:\n",
    "        try:\n",
    "            a_ = float(df_[1][\"h1_r_p\"].subs(para_))\n",
    "            b_ = float(df_[1][\"h1_s_w\"].subs(para_))\n",
    "            if a_ and b_ <= 0:\n",
    "                return \"NONE\"\n",
    "            else:\n",
    "                return \"STOP\"\n",
    "        except:\n",
    "            a_ = float(df_[1][\"h1_r_p\"].subs(para_))\n",
    "            b_ = float(df_[1][\"h1_s_w\"].subs(para_))\n",
    "            c_ = float(df_[1][\"h1_s_e\"].subs(para_))\n",
    "            if a_ and b_ and c_ <= 0:\n",
    "                return \"NONE\"\n",
    "            else:\n",
    "                return \"STOP\"\n",
    "    except:\n",
    "        return \"NONE\""
   ]
  },
  {
   "cell_type": "code",
   "execution_count": 23,
   "metadata": {},
   "outputs": [],
   "source": [
    "def subs_lambda(y,params):\n",
    "    try:\n",
    "        out_ = y.subs(params)\n",
    "        try:\n",
    "            out_ = round(float(out_),3)\n",
    "        except:\n",
    "            pass\n",
    "    except:\n",
    "        out_ = 0\n",
    "    return out_"
   ]
  },
  {
   "cell_type": "code",
   "execution_count": 24,
   "metadata": {},
   "outputs": [],
   "source": [
    "def apply_num(df,para_list):\n",
    "    return df.apply(lambda x : x.map(lambda y: subs_lambda(y,para_list)))"
   ]
  },
  {
   "cell_type": "code",
   "execution_count": null,
   "metadata": {},
   "outputs": [],
   "source": []
  },
  {
   "cell_type": "code",
   "execution_count": 25,
   "metadata": {},
   "outputs": [],
   "source": [
    "file_name_2 = ['ND_FB',\n",
    " 'ND_QDC',\n",
    " 'ND_QDW',\n",
    " 'ND_WH',\n",
    " 'UN_BD_QDC',\n",
    " 'UN_BD_QDW',\n",
    " 'UN_BD_WH',\n",
    " 'UN_BS_QDC',\n",
    " 'UN_BS_QDW',\n",
    " 'UN_BS_WH',\n",
    " 'UN_DD_QDC',\n",
    " 'UN_DD_QDW',\n",
    " 'UN_DD_WH',\n",
    " 'UN_SD_QDC',\n",
    " 'UN_SD_QDW',\n",
    " 'UN_SD_WH']"
   ]
  },
  {
   "cell_type": "code",
   "execution_count": null,
   "metadata": {},
   "outputs": [],
   "source": []
  },
  {
   "cell_type": "code",
   "execution_count": 26,
   "metadata": {},
   "outputs": [
    {
     "data": {
      "text/html": [
       "<div>\n",
       "<style scoped>\n",
       "    .dataframe tbody tr th:only-of-type {\n",
       "        vertical-align: middle;\n",
       "    }\n",
       "\n",
       "    .dataframe tbody tr th {\n",
       "        vertical-align: top;\n",
       "    }\n",
       "\n",
       "    .dataframe thead th {\n",
       "        text-align: right;\n",
       "    }\n",
       "</style>\n",
       "<table border=\"1\" class=\"dataframe\">\n",
       "  <thead>\n",
       "    <tr style=\"text-align: right;\">\n",
       "      <th></th>\n",
       "      <th>1</th>\n",
       "    </tr>\n",
       "    <tr>\n",
       "      <th>0</th>\n",
       "      <th></th>\n",
       "    </tr>\n",
       "  </thead>\n",
       "  <tbody>\n",
       "    <tr>\n",
       "      <th>p</th>\n",
       "      <td>(alpha + beta*c)/(2*beta)</td>\n",
       "    </tr>\n",
       "    <tr>\n",
       "      <th>w</th>\n",
       "      <td>alpha/beta</td>\n",
       "    </tr>\n",
       "    <tr>\n",
       "      <th>epsilon</th>\n",
       "      <td>1/beta</td>\n",
       "    </tr>\n",
       "    <tr>\n",
       "      <th>q_nd</th>\n",
       "      <td>-(-alpha + beta*c)/2</td>\n",
       "    </tr>\n",
       "    <tr>\n",
       "      <th>qd</th>\n",
       "      <td>(-alpha + beta*c)*(delta_d - 1)/2</td>\n",
       "    </tr>\n",
       "    <tr>\n",
       "      <th>qs</th>\n",
       "      <td>(-alpha + beta*c)*(delta_s - 1)/2</td>\n",
       "    </tr>\n",
       "    <tr>\n",
       "      <th>t_nd</th>\n",
       "      <td>(alpha + beta*c)/(2*beta)</td>\n",
       "    </tr>\n",
       "    <tr>\n",
       "      <th>profit_r</th>\n",
       "      <td>(-alpha + beta*c)*(delta_d - delta_s)*(alpha +...</td>\n",
       "    </tr>\n",
       "    <tr>\n",
       "      <th>profit_s</th>\n",
       "      <td>-(-alpha + beta*c)**2*(delta_s - 1)/(4*beta)</td>\n",
       "    </tr>\n",
       "    <tr>\n",
       "      <th>profit_all</th>\n",
       "      <td>(-alpha + beta*c)*(alpha*delta_d - alpha + bet...</td>\n",
       "    </tr>\n",
       "    <tr>\n",
       "      <th>h1_r_p</th>\n",
       "      <td>0</td>\n",
       "    </tr>\n",
       "    <tr>\n",
       "      <th>h1_s_w</th>\n",
       "      <td>zoo*(-alpha + beta*c)**2</td>\n",
       "    </tr>\n",
       "    <tr>\n",
       "      <th>h1_s_e</th>\n",
       "      <td>zoo*(-alpha + beta*c)**4</td>\n",
       "    </tr>\n",
       "  </tbody>\n",
       "</table>\n",
       "</div>"
      ],
      "text/plain": [
       "                                                            1\n",
       "0                                                            \n",
       "p                                   (alpha + beta*c)/(2*beta)\n",
       "w                                                  alpha/beta\n",
       "epsilon                                                1/beta\n",
       "q_nd                                     -(-alpha + beta*c)/2\n",
       "qd                          (-alpha + beta*c)*(delta_d - 1)/2\n",
       "qs                          (-alpha + beta*c)*(delta_s - 1)/2\n",
       "t_nd                                (alpha + beta*c)/(2*beta)\n",
       "profit_r    (-alpha + beta*c)*(delta_d - delta_s)*(alpha +...\n",
       "profit_s         -(-alpha + beta*c)**2*(delta_s - 1)/(4*beta)\n",
       "profit_all  (-alpha + beta*c)*(alpha*delta_d - alpha + bet...\n",
       "h1_r_p                                                      0\n",
       "h1_s_w                               zoo*(-alpha + beta*c)**2\n",
       "h1_s_e                               zoo*(-alpha + beta*c)**4"
      ]
     },
     "execution_count": 26,
     "metadata": {},
     "output_type": "execute_result"
    }
   ],
   "source": [
    "UN_BD_QDC"
   ]
  },
  {
   "cell_type": "code",
   "execution_count": 27,
   "metadata": {},
   "outputs": [
    {
     "ename": "NameError",
     "evalue": "name 'n_d' is not defined",
     "output_type": "error",
     "traceback": [
      "\u001b[1;31m---------------------------------------------------------------------------\u001b[0m",
      "\u001b[1;31mNameError\u001b[0m                                 Traceback (most recent call last)",
      "\u001b[1;32m<ipython-input-27-cfb0d4e1ff1c>\u001b[0m in \u001b[0;36m<module>\u001b[1;34m\u001b[0m\n\u001b[1;32m----> 1\u001b[1;33m \u001b[0mpara_\u001b[0m \u001b[1;33m=\u001b[0m \u001b[1;33m[\u001b[0m\u001b[1;33m(\u001b[0m\u001b[0malpha\u001b[0m\u001b[1;33m,\u001b[0m\u001b[1;36m1200\u001b[0m\u001b[1;33m)\u001b[0m\u001b[1;33m,\u001b[0m\u001b[1;33m(\u001b[0m\u001b[0mbeta\u001b[0m\u001b[1;33m,\u001b[0m\u001b[1;36m7\u001b[0m\u001b[1;33m)\u001b[0m\u001b[1;33m,\u001b[0m\u001b[1;33m(\u001b[0m\u001b[0mc\u001b[0m\u001b[1;33m,\u001b[0m\u001b[1;36m50\u001b[0m\u001b[1;33m)\u001b[0m\u001b[1;33m,\u001b[0m\u001b[1;33m(\u001b[0m\u001b[0mdelta_d\u001b[0m\u001b[1;33m,\u001b[0m\u001b[0mn_d\u001b[0m\u001b[1;33m)\u001b[0m\u001b[1;33m,\u001b[0m\u001b[1;33m(\u001b[0m\u001b[0mdelta_s\u001b[0m\u001b[1;33m,\u001b[0m\u001b[0mn_s\u001b[0m\u001b[1;33m)\u001b[0m\u001b[1;33m,\u001b[0m\u001b[1;33m(\u001b[0m\u001b[0ms\u001b[0m\u001b[1;33m,\u001b[0m\u001b[0ms_\u001b[0m\u001b[1;33m)\u001b[0m\u001b[1;33m]\u001b[0m\u001b[1;33m\u001b[0m\u001b[1;33m\u001b[0m\u001b[0m\n\u001b[0m",
      "\u001b[1;31mNameError\u001b[0m: name 'n_d' is not defined"
     ]
    }
   ],
   "source": [
    "para_ = [(alpha,1200),(beta,7),(c,50),(delta_d,n_d),(delta_s,n_s),(s,s_)]"
   ]
  },
  {
   "cell_type": "code",
   "execution_count": 28,
   "metadata": {},
   "outputs": [],
   "source": [
    "\n",
    "def tar_para(time_,dis_,tar_,n_d,n_s,s_):\n",
    "    para_ = [(alpha,1200),(beta,7),(c,50),(delta_d,n_d),(delta_s,n_s),(s,s_)]\n",
    "\n",
    "    tar_wh = globals() [\"{}_{}_WH\".format(time_,dis_)]\n",
    "    tar_qdc = globals() [\"{}_{}_QDC\".format(time_,dis_)]\n",
    "    tar_qdw = globals() [\"{}_{}_QDW\".format(time_,dis_)]\n",
    "\n",
    "    # hessian\n",
    "    wh_hess = hessian_(tar_wh,para_)\n",
    "    qdw_hess = hessian_(tar_qdw,para_)\n",
    "    qdc_hess =hessian_(tar_qdc,para_)\n",
    "    \n",
    "    \n",
    "\n",
    "    wh_df = pd.DataFrame(tar_wh[1].map(lambda x : x.subs(para_).simplify()))  \n",
    "    qdw_df = pd.DataFrame(tar_qdw[1].map(lambda x : x.subs(para_).simplify()))  \n",
    "    qdc_df = pd.DataFrame(tar_qdc[1].map(lambda x : x.subs(para_).simplify()))\n",
    "\n",
    "    p_wh,p_qdw,p_qdc  = float(wh_df[1][\"p\"]),float(qdw_df[1][\"p\"]),float(qdc_df[1][\"p\"])\n",
    "    \n",
    "    wh_s = [s_,p_wh,wh_hess,float(wh_df[1][tar_])]\n",
    "    qdw_s = [s_,p_qdw,qdw_hess,float(qdw_df[1][tar_])]    \n",
    "    qdc_s = [s_,p_qdc,qdc_hess,float(qdc_df[1][tar_])]   \n",
    "    return pd.DataFrame([wh_s,qdw_s,qdc_s]).rename(columns={0:\"s\",1:\"price\",2:\"hessian\",3:tar_},index={0:\"WH\",1:\"QDW\",2:\"QDC\"})"
   ]
  },
  {
   "cell_type": "code",
   "execution_count": 29,
   "metadata": {
    "scrolled": false
   },
   "outputs": [
    {
     "data": {
      "text/html": [
       "<div>\n",
       "<style scoped>\n",
       "    .dataframe tbody tr th:only-of-type {\n",
       "        vertical-align: middle;\n",
       "    }\n",
       "\n",
       "    .dataframe tbody tr th {\n",
       "        vertical-align: top;\n",
       "    }\n",
       "\n",
       "    .dataframe thead th {\n",
       "        text-align: right;\n",
       "    }\n",
       "</style>\n",
       "<table border=\"1\" class=\"dataframe\">\n",
       "  <thead>\n",
       "    <tr style=\"text-align: right;\">\n",
       "      <th></th>\n",
       "      <th>s</th>\n",
       "      <th>price</th>\n",
       "      <th>hessian</th>\n",
       "      <th>profit_r</th>\n",
       "    </tr>\n",
       "  </thead>\n",
       "  <tbody>\n",
       "    <tr>\n",
       "      <th>WH</th>\n",
       "      <td>111</td>\n",
       "      <td>141.071429</td>\n",
       "      <td>NONE</td>\n",
       "      <td>6432.678571</td>\n",
       "    </tr>\n",
       "    <tr>\n",
       "      <th>QDW</th>\n",
       "      <td>111</td>\n",
       "      <td>128.497088</td>\n",
       "      <td>NONE</td>\n",
       "      <td>9059.201967</td>\n",
       "    </tr>\n",
       "    <tr>\n",
       "      <th>QDC</th>\n",
       "      <td>111</td>\n",
       "      <td>110.714286</td>\n",
       "      <td>NONE</td>\n",
       "      <td>-36.428571</td>\n",
       "    </tr>\n",
       "  </tbody>\n",
       "</table>\n",
       "</div>"
      ],
      "text/plain": [
       "       s       price hessian     profit_r\n",
       "WH   111  141.071429    NONE  6432.678571\n",
       "QDW  111  128.497088    NONE  9059.201967\n",
       "QDC  111  110.714286    NONE   -36.428571"
      ]
     },
     "execution_count": 29,
     "metadata": {},
     "output_type": "execute_result"
    }
   ],
   "source": [
    "tar_para(\"UN\",\"SD\",\"profit_r\",0.3,0.3,111)"
   ]
  },
  {
   "cell_type": "code",
   "execution_count": null,
   "metadata": {},
   "outputs": [],
   "source": [
    "tar_para(\"UN\",\"SD\",\"profit_r\",0.3,0.3,111)[\"profit_r\"].idxmax()"
   ]
  },
  {
   "cell_type": "code",
   "execution_count": null,
   "metadata": {
    "scrolled": true
   },
   "outputs": [],
   "source": [
    "## SD 니까 s > price\n",
    "all_ = []\n",
    "\n",
    "for delta_1 in np.arange(0,1.1,0.1):\n",
    "    s_ = 0\n",
    "    Para_ = [(alpha,1200),(beta,7),(c,50),(delta_d,delta_1),(delta_s,delta_1),(s,s_)]\n",
    "    tar_1 = \"profit_r\"\n",
    "    Time_ = \"UN\"\n",
    "    Type_ = \"SD\"\n",
    "\n",
    "    Price_ = float(globals () [\"{}_{}_WH\".format(Time_,Type_)][1][\"p\"].subs(Para_))\n",
    "\n",
    "    gap_ = 5\n",
    "    iter_1 = np.arange(Price_,300,gap_)\n",
    "    tq = tqdm(iter_1)\n",
    "\n",
    "\n",
    "\n",
    "    for s_i in tq:\n",
    "        df_test = tar_para(Time_,Type_,tar_1,delta_1,delta_1,s_i)\n",
    "        if set(df_test[\"hessian\"].values)=={\"NONE\"}:\n",
    "            cand_ = {\"Domi\":df_test[tar_1].idxmax(),\"s\":s_i,\"delta\":delta_1}\n",
    "            all_.append(cand_)\n",
    "        else:\n",
    "            print(\"None\")\n",
    "    #print(set(df_test[\"hessian\"].values)=={\"NONE\"})"
   ]
  },
  {
   "cell_type": "code",
   "execution_count": null,
   "metadata": {
    "scrolled": true
   },
   "outputs": [],
   "source": [
    "pd.DataFrame(all_).to_excel(r\"C:\\Users\\Samsung\\jupyter\\Graduation_thesis\\result\\graph_\\sense\\sd_pir_s_delta.xlsx\")"
   ]
  },
  {
   "cell_type": "code",
   "execution_count": null,
   "metadata": {},
   "outputs": [],
   "source": []
  },
  {
   "cell_type": "code",
   "execution_count": 121,
   "metadata": {
    "scrolled": true
   },
   "outputs": [
    {
     "data": {
      "application/vnd.jupyter.widget-view+json": {
       "model_id": "5aab2ced728448baac7169170c3415b3",
       "version_major": 2,
       "version_minor": 0
      },
      "text/plain": [
       "  0%|          | 0/32 [00:00<?, ?it/s]"
      ]
     },
     "metadata": {},
     "output_type": "display_data"
    },
    {
     "data": {
      "application/vnd.jupyter.widget-view+json": {
       "model_id": "5ada86f4721345728f49691a7f26093e",
       "version_major": 2,
       "version_minor": 0
      },
      "text/plain": [
       "  0%|          | 0/32 [00:00<?, ?it/s]"
      ]
     },
     "metadata": {},
     "output_type": "display_data"
    },
    {
     "data": {
      "application/vnd.jupyter.widget-view+json": {
       "model_id": "045c8b3f0020419dbcd7251959aae2ec",
       "version_major": 2,
       "version_minor": 0
      },
      "text/plain": [
       "  0%|          | 0/32 [00:00<?, ?it/s]"
      ]
     },
     "metadata": {},
     "output_type": "display_data"
    },
    {
     "data": {
      "application/vnd.jupyter.widget-view+json": {
       "model_id": "2044d444757b46038b03aa9a5e9a6eaa",
       "version_major": 2,
       "version_minor": 0
      },
      "text/plain": [
       "  0%|          | 0/32 [00:00<?, ?it/s]"
      ]
     },
     "metadata": {},
     "output_type": "display_data"
    },
    {
     "data": {
      "application/vnd.jupyter.widget-view+json": {
       "model_id": "e36abcb8cee74711ba13811480b91003",
       "version_major": 2,
       "version_minor": 0
      },
      "text/plain": [
       "  0%|          | 0/32 [00:00<?, ?it/s]"
      ]
     },
     "metadata": {},
     "output_type": "display_data"
    },
    {
     "data": {
      "application/vnd.jupyter.widget-view+json": {
       "model_id": "4783de4cb40945e1a69ed52f67c6e922",
       "version_major": 2,
       "version_minor": 0
      },
      "text/plain": [
       "  0%|          | 0/32 [00:00<?, ?it/s]"
      ]
     },
     "metadata": {},
     "output_type": "display_data"
    },
    {
     "data": {
      "application/vnd.jupyter.widget-view+json": {
       "model_id": "562e20fd98a445759f7e9d621feeb11b",
       "version_major": 2,
       "version_minor": 0
      },
      "text/plain": [
       "  0%|          | 0/32 [00:00<?, ?it/s]"
      ]
     },
     "metadata": {},
     "output_type": "display_data"
    },
    {
     "data": {
      "application/vnd.jupyter.widget-view+json": {
       "model_id": "935a70b4c05540fbb5f9ba776cebf5a8",
       "version_major": 2,
       "version_minor": 0
      },
      "text/plain": [
       "  0%|          | 0/32 [00:00<?, ?it/s]"
      ]
     },
     "metadata": {},
     "output_type": "display_data"
    },
    {
     "data": {
      "application/vnd.jupyter.widget-view+json": {
       "model_id": "0bf375dd5cd04a30b6a30b628b522c2e",
       "version_major": 2,
       "version_minor": 0
      },
      "text/plain": [
       "  0%|          | 0/32 [00:00<?, ?it/s]"
      ]
     },
     "metadata": {},
     "output_type": "display_data"
    },
    {
     "data": {
      "application/vnd.jupyter.widget-view+json": {
       "model_id": "3a7fa57a7d8e4be9ad142675a152c517",
       "version_major": 2,
       "version_minor": 0
      },
      "text/plain": [
       "  0%|          | 0/32 [00:00<?, ?it/s]"
      ]
     },
     "metadata": {},
     "output_type": "display_data"
    },
    {
     "data": {
      "application/vnd.jupyter.widget-view+json": {
       "model_id": "27c311e4dab54ea6867c6332d8fc155f",
       "version_major": 2,
       "version_minor": 0
      },
      "text/plain": [
       "  0%|          | 0/32 [00:00<?, ?it/s]"
      ]
     },
     "metadata": {},
     "output_type": "display_data"
    }
   ],
   "source": [
    "## SD 니까 s > price\n",
    "all_ = []\n",
    "\n",
    "for delta_1 in np.arange(0,1.1,0.1):\n",
    "    s_ = 0\n",
    "    Para_ = [(alpha,1200),(beta,7),(c,50),(delta_d,delta_1),(delta_s,delta_1),(s,s_)]\n",
    "    tar_1 = \"profit_all\"\n",
    "    Time_ = \"UN\"\n",
    "    Type_ = \"SD\"\n",
    "\n",
    "    Price_ = float(globals () [\"{}_{}_WH\".format(Time_,Type_)][1][\"p\"].subs(Para_))\n",
    "\n",
    "    gap_ = 5\n",
    "    iter_1 = np.arange(Price_,300,gap_)\n",
    "    tq = tqdm(iter_1)\n",
    "\n",
    "\n",
    "\n",
    "    for s_i in tq:\n",
    "        df_test = tar_para(Time_,Type_,tar_1,delta_1,delta_1,s_i)\n",
    "        if set(df_test[\"hessian\"].values)=={\"NONE\"}:\n",
    "            cand_ = {\"Domi\":df_test[tar_1].idxmax(),\"s\":s_i,\"delta\":delta_1}\n",
    "            all_.append(cand_)\n",
    "        else:\n",
    "            print(\"None\")\n",
    "    #print(set(df_test[\"hessian\"].values)=={\"NONE\"})"
   ]
  },
  {
   "cell_type": "code",
   "execution_count": 122,
   "metadata": {
    "scrolled": true
   },
   "outputs": [],
   "source": [
    "pd.DataFrame(all_).to_excel(r\"C:\\Users\\Samsung\\jupyter\\Graduation_thesis\\result\\graph_\\sense\\sd_piall_s_delta.xlsx\")"
   ]
  },
  {
   "cell_type": "code",
   "execution_count": null,
   "metadata": {},
   "outputs": [],
   "source": []
  },
  {
   "cell_type": "code",
   "execution_count": null,
   "metadata": {},
   "outputs": [],
   "source": []
  },
  {
   "cell_type": "code",
   "execution_count": null,
   "metadata": {},
   "outputs": [],
   "source": []
  },
  {
   "cell_type": "code",
   "execution_count": null,
   "metadata": {},
   "outputs": [],
   "source": []
  },
  {
   "cell_type": "code",
   "execution_count": 111,
   "metadata": {},
   "outputs": [
    {
     "data": {
      "text/plain": [
       "141.07142857142858"
      ]
     },
     "execution_count": 111,
     "metadata": {},
     "output_type": "execute_result"
    }
   ],
   "source": [
    "delta_1 = 0.3\n",
    "s_ = 0\n",
    "Para_ = [(alpha,1200),(beta,7),(c,50),(delta_d,delta_1),(delta_s,delta_1),(s,s_)]\n",
    "tar_1 = \"profit_s\"\n",
    "Time_ = \"UN\"\n",
    "Type_ = \"SD\"\n",
    "\n",
    "Price_ = float(globals () [\"{}_{}_WH\".format(Time_,Type_)][1][\"p\"].subs(Para_))\n",
    "Price_"
   ]
  },
  {
   "cell_type": "code",
   "execution_count": null,
   "metadata": {},
   "outputs": [],
   "source": []
  },
  {
   "cell_type": "markdown",
   "metadata": {},
   "source": [
    "# single side "
   ]
  },
  {
   "cell_type": "code",
   "execution_count": 32,
   "metadata": {},
   "outputs": [
    {
     "ename": "NameError",
     "evalue": "name 's_para' is not defined",
     "output_type": "error",
     "traceback": [
      "\u001b[1;31m---------------------------------------------------------------------------\u001b[0m",
      "\u001b[1;31mNameError\u001b[0m                                 Traceback (most recent call last)",
      "\u001b[1;32m<ipython-input-32-a8af4a952572>\u001b[0m in \u001b[0;36m<module>\u001b[1;34m\u001b[0m\n\u001b[0;32m      2\u001b[0m \u001b[1;33m\u001b[0m\u001b[0m\n\u001b[0;32m      3\u001b[0m \u001b[0miter_1\u001b[0m \u001b[1;33m=\u001b[0m \u001b[0mnp\u001b[0m\u001b[1;33m.\u001b[0m\u001b[0marange\u001b[0m\u001b[1;33m(\u001b[0m\u001b[1;36m0\u001b[0m\u001b[1;33m,\u001b[0m\u001b[1;36m50\u001b[0m\u001b[1;33m,\u001b[0m\u001b[0mgap_\u001b[0m\u001b[1;33m)\u001b[0m\u001b[1;33m\u001b[0m\u001b[1;33m\u001b[0m\u001b[0m\n\u001b[1;32m----> 4\u001b[1;33m \u001b[0miter_2\u001b[0m \u001b[1;33m=\u001b[0m \u001b[0mnp\u001b[0m\u001b[1;33m.\u001b[0m\u001b[0marange\u001b[0m\u001b[1;33m(\u001b[0m\u001b[1;36m50\u001b[0m\u001b[1;33m,\u001b[0m\u001b[0ms_para\u001b[0m\u001b[1;33m(\u001b[0m\u001b[1;36m0.3\u001b[0m\u001b[1;33m,\u001b[0m\u001b[1;36m0.6\u001b[0m\u001b[1;33m)\u001b[0m\u001b[1;33m[\u001b[0m\u001b[1;36m0\u001b[0m\u001b[1;33m]\u001b[0m\u001b[1;33m,\u001b[0m\u001b[0mgap_\u001b[0m\u001b[1;33m)\u001b[0m\u001b[1;33m\u001b[0m\u001b[1;33m\u001b[0m\u001b[0m\n\u001b[0m\u001b[0;32m      5\u001b[0m \u001b[0miter_3\u001b[0m \u001b[1;33m=\u001b[0m \u001b[0mnp\u001b[0m\u001b[1;33m.\u001b[0m\u001b[0marange\u001b[0m\u001b[1;33m(\u001b[0m\u001b[0ms_para\u001b[0m\u001b[1;33m(\u001b[0m\u001b[1;36m0.3\u001b[0m\u001b[1;33m,\u001b[0m\u001b[1;36m0.6\u001b[0m\u001b[1;33m)\u001b[0m\u001b[1;33m[\u001b[0m\u001b[1;36m0\u001b[0m\u001b[1;33m]\u001b[0m\u001b[1;33m,\u001b[0m\u001b[0ms_para\u001b[0m\u001b[1;33m(\u001b[0m\u001b[1;36m0.3\u001b[0m\u001b[1;33m,\u001b[0m\u001b[1;36m0.6\u001b[0m\u001b[1;33m)\u001b[0m\u001b[1;33m[\u001b[0m\u001b[1;36m1\u001b[0m\u001b[1;33m]\u001b[0m\u001b[1;33m,\u001b[0m\u001b[0mgap_\u001b[0m\u001b[1;33m)\u001b[0m\u001b[1;33m\u001b[0m\u001b[1;33m\u001b[0m\u001b[0m\n\u001b[0;32m      6\u001b[0m \u001b[0miter_4\u001b[0m \u001b[1;33m=\u001b[0m \u001b[0mnp\u001b[0m\u001b[1;33m.\u001b[0m\u001b[0marange\u001b[0m\u001b[1;33m(\u001b[0m\u001b[0ms_para\u001b[0m\u001b[1;33m(\u001b[0m\u001b[1;36m0.3\u001b[0m\u001b[1;33m,\u001b[0m\u001b[1;36m0.6\u001b[0m\u001b[1;33m)\u001b[0m\u001b[1;33m[\u001b[0m\u001b[1;36m1\u001b[0m\u001b[1;33m]\u001b[0m\u001b[1;33m,\u001b[0m\u001b[0ms_para\u001b[0m\u001b[1;33m(\u001b[0m\u001b[1;36m0.3\u001b[0m\u001b[1;33m,\u001b[0m\u001b[1;36m0.6\u001b[0m\u001b[1;33m)\u001b[0m\u001b[1;33m[\u001b[0m\u001b[1;36m1\u001b[0m\u001b[1;33m]\u001b[0m\u001b[1;33m+\u001b[0m\u001b[1;36m42\u001b[0m\u001b[1;33m,\u001b[0m\u001b[0mgap_\u001b[0m\u001b[1;33m)\u001b[0m\u001b[1;33m\u001b[0m\u001b[1;33m\u001b[0m\u001b[0m\n",
      "\u001b[1;31mNameError\u001b[0m: name 's_para' is not defined"
     ]
    }
   ],
   "source": [
    "gap_ = 0.5\n",
    "\n",
    "iter_1 = np.arange(0,50,gap_)\n",
    "iter_2 = np.arange(50,s_para(0.3,0.6)[0],gap_)\n",
    "iter_3 = np.arange(s_para(0.3,0.6)[0],s_para(0.3,0.6)[1],gap_)\n",
    "iter_4 = np.arange(s_para(0.3,0.6)[1],s_para(0.3,0.6)[1]+42,gap_)"
   ]
  },
  {
   "cell_type": "code",
   "execution_count": 140,
   "metadata": {},
   "outputs": [
    {
     "data": {
      "text/latex": [
       "$\\displaystyle \\frac{\\left(- \\alpha + \\beta c\\right) \\left(- 4 \\sqrt{2} \\alpha + 5 \\alpha - 4 \\sqrt{2} \\beta c \\delta_{s} + 4 \\beta c \\delta_{s} - 5 \\beta c + 4 \\sqrt{2} \\beta c - 4 \\beta \\delta_{s} s + 4 \\sqrt{2} \\beta \\delta_{s} s\\right)}{16 \\beta}$"
      ],
      "text/plain": [
       "(-alpha + beta*c)*(-4*sqrt(2)*alpha + 5*alpha - 4*sqrt(2)*beta*c*delta_s + 4*beta*c*delta_s - 5*beta*c + 4*sqrt(2)*beta*c - 4*beta*delta_s*s + 4*sqrt(2)*beta*delta_s*s)/(16*beta)"
      ]
     },
     "execution_count": 140,
     "metadata": {},
     "output_type": "execute_result"
    }
   ],
   "source": [
    "equ_ = (UN_SD_QDW[1][\"profit_r\"]-UN_SD_WH[1][\"profit_r\"]).factor()\n",
    "equ_"
   ]
  },
  {
   "cell_type": "code",
   "execution_count": 146,
   "metadata": {},
   "outputs": [
    {
     "data": {
      "text/latex": [
       "$\\displaystyle \\frac{- 5 \\alpha + 4 \\sqrt{2} \\alpha - 4 \\beta c \\delta_{s} + 4 \\sqrt{2} \\beta c \\delta_{s} - 4 \\sqrt{2} \\beta c + 5 \\beta c}{4 \\beta \\delta_{s} \\left(-1 + \\sqrt{2}\\right)}$"
      ],
      "text/plain": [
       "(-5*alpha + 4*sqrt(2)*alpha - 4*beta*c*delta_s + 4*sqrt(2)*beta*c*delta_s - 4*sqrt(2)*beta*c + 5*beta*c)/(4*beta*delta_s*(-1 + sqrt(2)))"
      ]
     },
     "execution_count": 146,
     "metadata": {},
     "output_type": "execute_result"
    }
   ],
   "source": [
    "sympy.solve(equ_,s)[0].factor()"
   ]
  },
  {
   "cell_type": "code",
   "execution_count": 136,
   "metadata": {},
   "outputs": [
    {
     "data": {
      "text/latex": [
       "$\\displaystyle \\frac{- 5 \\alpha + 4 \\sqrt{2} \\alpha - 4 \\beta c \\delta_{s} + 4 \\sqrt{2} \\beta c \\delta_{s} - 4 \\sqrt{2} \\beta c + 5 \\beta c}{4 \\beta \\delta_{s} \\left(-1 + \\sqrt{2}\\right)}$"
      ],
      "text/plain": [
       "(-5*alpha + 4*sqrt(2)*alpha - 4*beta*c*delta_s + 4*sqrt(2)*beta*c*delta_s - 4*sqrt(2)*beta*c + 5*beta*c)/(4*beta*delta_s*(-1 + sqrt(2)))"
      ]
     },
     "execution_count": 136,
     "metadata": {},
     "output_type": "execute_result"
    }
   ],
   "source": [
    "sympy.solve(UN_SD_QDW[1][\"profit_r\"]-UN_SD_WH[1][\"profit_r\"],[s,delta_s])[0][0].factor()"
   ]
  },
  {
   "cell_type": "code",
   "execution_count": 127,
   "metadata": {},
   "outputs": [
    {
     "data": {
      "text/latex": [
       "$\\displaystyle \\frac{\\left(\\alpha - \\beta c\\right) \\left(2 \\alpha \\delta_{s} + \\alpha + 2 \\beta c \\delta_{s} - \\beta c - 4 \\beta \\delta_{s} s\\right)}{16 \\beta}$"
      ],
      "text/plain": [
       "(alpha - beta*c)*(2*alpha*delta_s + alpha + 2*beta*c*delta_s - beta*c - 4*beta*delta_s*s)/(16*beta)"
      ]
     },
     "execution_count": 127,
     "metadata": {},
     "output_type": "execute_result"
    }
   ],
   "source": [
    "UN_SD_WH[1][\"profit_r\"]"
   ]
  },
  {
   "cell_type": "code",
   "execution_count": null,
   "metadata": {},
   "outputs": [],
   "source": []
  },
  {
   "cell_type": "code",
   "execution_count": null,
   "metadata": {},
   "outputs": [],
   "source": []
  },
  {
   "cell_type": "code",
   "execution_count": null,
   "metadata": {},
   "outputs": [],
   "source": []
  }
 ],
 "metadata": {
  "kernelspec": {
   "display_name": "Python 3",
   "language": "python",
   "name": "python3"
  },
  "language_info": {
   "codemirror_mode": {
    "name": "ipython",
    "version": 3
   },
   "file_extension": ".py",
   "mimetype": "text/x-python",
   "name": "python",
   "nbconvert_exporter": "python",
   "pygments_lexer": "ipython3",
   "version": "3.7.6"
  }
 },
 "nbformat": 4,
 "nbformat_minor": 4
}
