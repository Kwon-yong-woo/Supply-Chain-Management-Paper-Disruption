{
 "cells": [
  {
   "cell_type": "code",
   "execution_count": 1,
   "metadata": {},
   "outputs": [],
   "source": [
    "import pandas as pd\n",
    "import numpy as np\n",
    "import sympy\n",
    "from sympy.solvers.inequalities import reduce_rational_inequalities,reduce_inequalities\n",
    "from itertools import chain\n",
    "from collections import defaultdict\n",
    "from IPython.display import display\n",
    "\n",
    "from sympy.parsing.sympy_parser import parse_expr\n",
    "from sympy.parsing.sympy_parser import standard_transformations\n",
    "from sympy.printing.mathml import print_mathml\n",
    "import math\n",
    "from IPython.display import display, Markdown, Latex\n",
    "import os\n",
    "\n",
    "import seaborn as sns\n",
    "import matplotlib.pyplot as plt\n",
    "\n",
    "def make_symbols_positive(sym):\n",
    "    return sympy.symbols(\"{}\".format(sym),positive =True)\n",
    "\n",
    "def make_symbols_function(sym):\n",
    "    return sympy.symbols(\"{}\".format(sym),cl)\n",
    "\n",
    "def subs_function(target,list_):\n",
    "    return sympy.simplify(target.subs(list_))\n",
    "\n",
    "def root_cal(value):\n",
    "    return value**(1/2)"
   ]
  },
  {
   "cell_type": "code",
   "execution_count": 2,
   "metadata": {},
   "outputs": [
    {
     "name": "stdout",
     "output_type": "stream",
     "text": [
      "\u001b[1mHello World !\u001b[0m\n"
     ]
    }
   ],
   "source": [
    "class color:\n",
    "   PURPLE = '\\033[95m'\n",
    "   CYAN = '\\033[96m'\n",
    "   DARKCYAN = '\\033[36m'\n",
    "   BLUE = '\\033[94m'\n",
    "   GREEN = '\\033[92m'\n",
    "   YELLOW = '\\033[93m'\n",
    "   RED = '\\033[91m'\n",
    "   BOLD = '\\033[1m'\n",
    "   UNDERLINE = '\\033[4m'\n",
    "   END = '\\033[0m'\n",
    "\n",
    "print(color.BOLD + 'Hello World !' + color.END)"
   ]
  },
  {
   "cell_type": "markdown",
   "metadata": {},
   "source": [
    "# w_range"
   ]
  },
  {
   "cell_type": "code",
   "execution_count": 3,
   "metadata": {},
   "outputs": [],
   "source": [
    "def sol_w_same(df_1,target_):\n",
    "    w_sol = sympy.solve([df_1[\"QD\"][target_]-df_1[\"FB\"][target_]],w)\n",
    "    return w_sol"
   ]
  },
  {
   "cell_type": "code",
   "execution_count": 4,
   "metadata": {},
   "outputs": [],
   "source": [
    "def sol_w_other(df_1,equa):\n",
    "    w_sol = sympy.solve(equa,w)\n",
    "    return w_sol"
   ]
  },
  {
   "cell_type": "code",
   "execution_count": 5,
   "metadata": {},
   "outputs": [],
   "source": [
    "def display_solve(df_1,w_sol):\n",
    "    for row,col in df_1.iterrows():\n",
    "        print(row)\n",
    "        try:\n",
    "            display(col[\"QD\"].subs([(w,w_sol)]).factor())\n",
    "        except:\n",
    "            print()\n",
    "        print()"
   ]
  },
  {
   "cell_type": "code",
   "execution_count": 6,
   "metadata": {},
   "outputs": [],
   "source": [
    "def display_solve2(df_1,w_sol):\n",
    "    for row,col in df_1.iterrows():\n",
    "        print(row)\n",
    "        try:\n",
    "            display(col[\"QD\"].subs([(w,w_sol)]).simplify())\n",
    "        except:\n",
    "            print()\n",
    "        print()"
   ]
  },
  {
   "cell_type": "code",
   "execution_count": 7,
   "metadata": {},
   "outputs": [],
   "source": [
    "def display_w_insert(df_,w_1):\n",
    "    order_ = [\"w\",\"epsilon\",\"t\",\"p\",\"q_nd\",\"q_t\",\"q\",\"profit_r\",\"profit_s\",\"profit_all\",\"h1_r_p\",\"h1_s_w\",\"h1_s_e\"]\n",
    "    if w_1 == \"WH\":\n",
    "        for ord_ in order_:\n",
    "            try:\n",
    "                value_ = df_[1][ord_].factor()\n",
    "                value_2 = df_[1][ord_].simplify()\n",
    "                print(color.RED + ord_ + color.END)\n",
    "                display(\"factor: \",value_)\n",
    "                display(\"simplify: \",value_2)\n",
    "                print(\"-\"*40)\n",
    "            except:\n",
    "                print(color.RED + ord_ + color.END)\n",
    "                print(\"-\"*40)\n",
    "    else:\n",
    "        for ord_ in order_:\n",
    "            try:\n",
    "                value_ = df_[1][ord_].subs([(w,w_1)]).factor()\n",
    "                value_2 = df_[1][ord_].subs([(w,w_1)]).simplify()\n",
    "                print(color.RED + ord_ + color.END)\n",
    "                display(\"factor: \",value_)\n",
    "                display(\"simplify: \",value_2)\n",
    "                print(\"-\"*40)\n",
    "            except:\n",
    "                print(color.RED + ord_ + color.END)\n",
    "                print(\"-\"*40)"
   ]
  },
  {
   "cell_type": "code",
   "execution_count": 8,
   "metadata": {},
   "outputs": [],
   "source": [
    "Path_ = r\"C:\\Users\\Samsung\\jupyter\\Graduation_thesis\\result\\version_total_2\""
   ]
  },
  {
   "cell_type": "code",
   "execution_count": 9,
   "metadata": {},
   "outputs": [],
   "source": [
    "file_list = os.listdir(Path_)\n",
    "file_list_xlsx = [f for f in file_list if f.endswith(\".xlsx\")]\n",
    "#file_FB = [f for f in file_list_xlsx if f.contains(\"FB\")]\n",
    "#file_WH = [f for f in file_list_xlsx if f.contains(\"WH\")]\n",
    "#file_QD = [f for f in file_list_xlsx if f.contains(\"QD\")]"
   ]
  },
  {
   "cell_type": "code",
   "execution_count": 10,
   "metadata": {
    "scrolled": true
   },
   "outputs": [
    {
     "data": {
      "text/plain": [
       "['KN_BD_FB',\n",
       " 'KN_BD_QD',\n",
       " 'KN_BD_WH',\n",
       " 'KN_BS_FB',\n",
       " 'KN_BS_QD',\n",
       " 'KN_BS_WH',\n",
       " 'KN_DD_FB',\n",
       " 'KN_DD_QD',\n",
       " 'KN_DD_WH',\n",
       " 'KN_SD_FB',\n",
       " 'KN_SD_QD',\n",
       " 'KN_SD_WH',\n",
       " 'ND_FB',\n",
       " 'ND_QD',\n",
       " 'ND_WH',\n",
       " 'UN_BD_QD',\n",
       " 'UN_BD_WH',\n",
       " 'UN_BS_QD',\n",
       " 'UN_BS_WH',\n",
       " 'UN_DD_QD',\n",
       " 'UN_DD_WH',\n",
       " 'UN_SD_QD',\n",
       " 'UN_SD_WH']"
      ]
     },
     "execution_count": 10,
     "metadata": {},
     "output_type": "execute_result"
    }
   ],
   "source": [
    "file_name = [li.replace(\".xlsx\",\"\") for li in file_list_xlsx]\n",
    "file_name"
   ]
  },
  {
   "cell_type": "code",
   "execution_count": 11,
   "metadata": {},
   "outputs": [],
   "source": [
    "for fn in file_name:\n",
    "    path_ = Path_ + \"\\\\{}.xlsx\"\n",
    "    globals() [\"{}\".format(fn)] = pd.read_excel(path_.format(fn),index_col=0,header=None)\n",
    "    try:\n",
    "        globals() [\"{}\".format(fn)] = globals() [\"{}\".format(fn)]#.rename(index={\"profit_all\":\"pro_all\"})\n",
    "    except:\n",
    "        pass"
   ]
  },
  {
   "cell_type": "code",
   "execution_count": 12,
   "metadata": {},
   "outputs": [],
   "source": [
    "p,w,c,s,alpha,beta,delta_d,delta_s,epsilon,psi = make_symbols_positive(\"p,w,c,s,alpha,beta,delta_d,delta_s,epsilon,psi\")"
   ]
  },
  {
   "cell_type": "code",
   "execution_count": 13,
   "metadata": {},
   "outputs": [],
   "source": [
    "parse_dic = {\"p\":p,\"w\":w,\"c\":c,\"s\":s\n",
    "             ,\"alpha\":alpha,\"beta\":beta\n",
    "             ,\"delta_d\":delta_d,\"delta_s\":delta_s,\"epsilon\":epsilon }"
   ]
  },
  {
   "cell_type": "code",
   "execution_count": 14,
   "metadata": {},
   "outputs": [],
   "source": [
    "for fn in file_name:\n",
    "    globals() [\"{}\".format(fn)][1] = globals() [\"{}\".format(fn)][1].map(lambda x: parse_expr(x.replace(\"^\",\"**\").replace(\"lambda\",\"lambda_\"),parse_dic))"
   ]
  },
  {
   "cell_type": "code",
   "execution_count": 15,
   "metadata": {},
   "outputs": [
    {
     "data": {
      "text/latex": [
       "$\\displaystyle \\frac{\\alpha}{\\beta}$"
      ],
      "text/plain": [
       "alpha/beta"
      ]
     },
     "execution_count": 15,
     "metadata": {},
     "output_type": "execute_result"
    }
   ],
   "source": [
    "solve_w = sympy.solve((ND_QD[1][\"profit_all\"]-ND_FB[1][\"profit_all\"]).factor(),w)\n",
    "w_c = solve_w[0]\n",
    "w_c"
   ]
  },
  {
   "cell_type": "code",
   "execution_count": 16,
   "metadata": {},
   "outputs": [
    {
     "data": {
      "text/latex": [
       "$\\displaystyle \\frac{- \\alpha + 2 \\beta c + \\sqrt{2} \\left(\\alpha - \\beta c\\right)}{\\beta}$"
      ],
      "text/plain": [
       "(-alpha + 2*beta*c + sqrt(2)*(alpha - beta*c))/beta"
      ]
     },
     "execution_count": 16,
     "metadata": {},
     "output_type": "execute_result"
    }
   ],
   "source": [
    "solve_ws = sympy.solve((ND_QD[1][\"profit_s\"]-ND_WH[1][\"profit_s\"]).factor(),w)\n",
    "w_w = solve_ws[1]\n",
    "w_w"
   ]
  },
  {
   "cell_type": "code",
   "execution_count": null,
   "metadata": {},
   "outputs": [],
   "source": []
  },
  {
   "cell_type": "markdown",
   "metadata": {},
   "source": [
    "# 1. UN case\" "
   ]
  },
  {
   "cell_type": "code",
   "execution_count": null,
   "metadata": {},
   "outputs": [],
   "source": []
  },
  {
   "cell_type": "markdown",
   "metadata": {},
   "source": [
    "# DD"
   ]
  },
  {
   "cell_type": "code",
   "execution_count": 23,
   "metadata": {},
   "outputs": [
    {
     "data": {
      "text/latex": [
       "$\\displaystyle - \\frac{2 \\alpha \\delta_{d} - \\alpha - \\beta c + 2 \\beta \\delta_{d} s - 2 \\beta s}{4}$"
      ],
      "text/plain": [
       "-(2*alpha*delta_d - alpha - beta*c + 2*beta*delta_d*s - 2*beta*s)/4"
      ]
     },
     "execution_count": 23,
     "metadata": {},
     "output_type": "execute_result"
    }
   ],
   "source": [
    "target_df = UN_DD_WH.copy()\n",
    "\n",
    "q_dis = (target_df[1][\"q_d\"].factor()-target_df[1][\"q_t\"].factor()).factor()\n",
    "q_dis"
   ]
  },
  {
   "cell_type": "code",
   "execution_count": 26,
   "metadata": {},
   "outputs": [
    {
     "data": {
      "text/latex": [
       "$\\displaystyle - 2 \\alpha \\delta_{d} + \\alpha + \\beta c - 2 \\beta \\delta_{d} s + 2 \\beta s$"
      ],
      "text/plain": [
       "-2*alpha*delta_d + alpha + beta*c - 2*beta*delta_d*s + 2*beta*s"
      ]
     },
     "execution_count": 26,
     "metadata": {},
     "output_type": "execute_result"
    }
   ],
   "source": [
    "(q_dis.args[1])*-1"
   ]
  },
  {
   "cell_type": "code",
   "execution_count": 36,
   "metadata": {},
   "outputs": [
    {
     "data": {
      "text/latex": [
       "$\\displaystyle - \\frac{2 \\alpha \\delta_{d} - 2 \\alpha + \\sqrt{2} \\alpha - \\sqrt{2} \\beta c + 2 \\beta \\delta_{d} s - 2 \\beta s}{4}$"
      ],
      "text/plain": [
       "-(2*alpha*delta_d - 2*alpha + sqrt(2)*alpha - sqrt(2)*beta*c + 2*beta*delta_d*s - 2*beta*s)/4"
      ]
     },
     "execution_count": 36,
     "metadata": {},
     "output_type": "execute_result"
    }
   ],
   "source": [
    "target_df = UN_DD_QD.copy()\n",
    "w_dis = w_w.copy()\n",
    "\n",
    "\n",
    "q_dis = (target_df[1][\"q_d\"].subs([(w,w_dis)]).factor()-target_df[1][\"q_t\"].subs([(w,w_dis)]).factor()).factor()\n",
    "q_dis"
   ]
  },
  {
   "cell_type": "code",
   "execution_count": 35,
   "metadata": {
    "scrolled": true
   },
   "outputs": [
    {
     "data": {
      "text/latex": [
       "$\\displaystyle - \\frac{\\left(\\alpha + \\beta s\\right) \\left(\\delta_{d} - 1\\right)}{2}$"
      ],
      "text/plain": [
       "-(alpha + beta*s)*(delta_d - 1)/2"
      ]
     },
     "execution_count": 35,
     "metadata": {},
     "output_type": "execute_result"
    }
   ],
   "source": [
    "target_df[1][\"q_d\"].subs([(w,w_dis)]).factor()"
   ]
  },
  {
   "cell_type": "code",
   "execution_count": 34,
   "metadata": {},
   "outputs": [
    {
     "data": {
      "text/latex": [
       "$\\displaystyle - \\frac{\\sqrt{2} \\left(- \\alpha + \\beta c\\right)}{4}$"
      ],
      "text/plain": [
       "-sqrt(2)*(-alpha + beta*c)/4"
      ]
     },
     "execution_count": 34,
     "metadata": {},
     "output_type": "execute_result"
    }
   ],
   "source": [
    "target_df[1][\"q_t\"].subs([(w,w_dis)]).factor()"
   ]
  },
  {
   "cell_type": "code",
   "execution_count": 37,
   "metadata": {},
   "outputs": [
    {
     "data": {
      "text/latex": [
       "$\\displaystyle - 2 \\alpha \\delta_{d} - \\sqrt{2} \\alpha + 2 \\alpha + \\sqrt{2} \\beta c - 2 \\beta \\delta_{d} s + 2 \\beta s$"
      ],
      "text/plain": [
       "-2*alpha*delta_d - sqrt(2)*alpha + 2*alpha + sqrt(2)*beta*c - 2*beta*delta_d*s + 2*beta*s"
      ]
     },
     "execution_count": 37,
     "metadata": {},
     "output_type": "execute_result"
    }
   ],
   "source": [
    "(q_dis.args[1])*-1"
   ]
  },
  {
   "cell_type": "code",
   "execution_count": null,
   "metadata": {},
   "outputs": [],
   "source": []
  },
  {
   "cell_type": "code",
   "execution_count": 38,
   "metadata": {},
   "outputs": [
    {
     "data": {
      "text/latex": [
       "$\\displaystyle - \\frac{\\alpha \\delta_{d} - \\beta c + \\beta \\delta_{d} s - \\beta s}{2}$"
      ],
      "text/plain": [
       "-(alpha*delta_d - beta*c + beta*delta_d*s - beta*s)/2"
      ]
     },
     "execution_count": 38,
     "metadata": {},
     "output_type": "execute_result"
    }
   ],
   "source": [
    "target_df = UN_DD_QD.copy()\n",
    "w_dis = w_c.copy()\n",
    "\n",
    "\n",
    "q_dis = (target_df[1][\"q_d\"].subs([(w,w_dis)]).factor()-target_df[1][\"q_t\"].subs([(w,w_dis)]).factor()).factor()\n",
    "q_dis"
   ]
  },
  {
   "cell_type": "code",
   "execution_count": 39,
   "metadata": {},
   "outputs": [
    {
     "data": {
      "text/latex": [
       "$\\displaystyle - \\alpha \\delta_{d} + \\beta c - \\beta \\delta_{d} s + \\beta s$"
      ],
      "text/plain": [
       "-alpha*delta_d + beta*c - beta*delta_d*s + beta*s"
      ]
     },
     "execution_count": 39,
     "metadata": {},
     "output_type": "execute_result"
    }
   ],
   "source": [
    "(q_dis.args[1])*-1"
   ]
  },
  {
   "cell_type": "code",
   "execution_count": null,
   "metadata": {},
   "outputs": [],
   "source": []
  },
  {
   "cell_type": "markdown",
   "metadata": {},
   "source": [
    "# SD"
   ]
  },
  {
   "cell_type": "code",
   "execution_count": 40,
   "metadata": {},
   "outputs": [
    {
     "data": {
      "text/latex": [
       "$\\displaystyle - \\frac{- \\alpha \\delta_{s} - \\alpha + \\beta c \\delta_{s} - \\beta c + 2 \\beta s}{4}$"
      ],
      "text/plain": [
       "-(-alpha*delta_s - alpha + beta*c*delta_s - beta*c + 2*beta*s)/4"
      ]
     },
     "execution_count": 40,
     "metadata": {},
     "output_type": "execute_result"
    }
   ],
   "source": [
    "target_df = UN_SD_WH.copy()\n",
    "\n",
    "q_dis = (target_df[1][\"q_d\"].factor()-target_df[1][\"q_t\"].factor()).factor()\n",
    "q_dis"
   ]
  },
  {
   "cell_type": "code",
   "execution_count": 41,
   "metadata": {},
   "outputs": [
    {
     "data": {
      "text/latex": [
       "$\\displaystyle \\alpha \\delta_{s} + \\alpha - \\beta c \\delta_{s} + \\beta c - 2 \\beta s$"
      ],
      "text/plain": [
       "alpha*delta_s + alpha - beta*c*delta_s + beta*c - 2*beta*s"
      ]
     },
     "execution_count": 41,
     "metadata": {},
     "output_type": "execute_result"
    }
   ],
   "source": [
    "(q_dis.args[1])*-1"
   ]
  },
  {
   "cell_type": "code",
   "execution_count": null,
   "metadata": {},
   "outputs": [],
   "source": []
  },
  {
   "cell_type": "code",
   "execution_count": 42,
   "metadata": {},
   "outputs": [
    {
     "data": {
      "text/latex": [
       "$\\displaystyle - \\frac{- \\sqrt{2} \\alpha \\delta_{s} - 2 \\alpha + \\sqrt{2} \\alpha + \\sqrt{2} \\beta c \\delta_{s} - \\sqrt{2} \\beta c + 2 \\beta s}{4}$"
      ],
      "text/plain": [
       "-(-sqrt(2)*alpha*delta_s - 2*alpha + sqrt(2)*alpha + sqrt(2)*beta*c*delta_s - sqrt(2)*beta*c + 2*beta*s)/4"
      ]
     },
     "execution_count": 42,
     "metadata": {},
     "output_type": "execute_result"
    }
   ],
   "source": [
    "target_df = UN_SD_QD.copy()\n",
    "w_dis = w_w.copy()\n",
    "\n",
    "\n",
    "q_dis = (target_df[1][\"q_d\"].subs([(w,w_dis)]).factor()-target_df[1][\"q_t\"].subs([(w,w_dis)]).factor()).factor()\n",
    "q_dis"
   ]
  },
  {
   "cell_type": "code",
   "execution_count": 43,
   "metadata": {},
   "outputs": [
    {
     "data": {
      "text/latex": [
       "$\\displaystyle \\sqrt{2} \\alpha \\delta_{s} - \\sqrt{2} \\alpha + 2 \\alpha - \\sqrt{2} \\beta c \\delta_{s} + \\sqrt{2} \\beta c - 2 \\beta s$"
      ],
      "text/plain": [
       "sqrt(2)*alpha*delta_s - sqrt(2)*alpha + 2*alpha - sqrt(2)*beta*c*delta_s + sqrt(2)*beta*c - 2*beta*s"
      ]
     },
     "execution_count": 43,
     "metadata": {},
     "output_type": "execute_result"
    }
   ],
   "source": [
    "(q_dis.args[1])*-1"
   ]
  },
  {
   "cell_type": "code",
   "execution_count": null,
   "metadata": {},
   "outputs": [],
   "source": []
  },
  {
   "cell_type": "code",
   "execution_count": 44,
   "metadata": {},
   "outputs": [
    {
     "data": {
      "text/latex": [
       "$\\displaystyle - \\frac{- \\alpha \\delta_{s} + \\beta c \\delta_{s} - \\beta c + \\beta s}{2}$"
      ],
      "text/plain": [
       "-(-alpha*delta_s + beta*c*delta_s - beta*c + beta*s)/2"
      ]
     },
     "execution_count": 44,
     "metadata": {},
     "output_type": "execute_result"
    }
   ],
   "source": [
    "target_df = UN_SD_QD.copy()\n",
    "w_dis = w_c.copy()\n",
    "\n",
    "\n",
    "q_dis = (target_df[1][\"q_d\"].subs([(w,w_dis)]).factor()-target_df[1][\"q_t\"].subs([(w,w_dis)]).factor()).factor()\n",
    "q_dis"
   ]
  },
  {
   "cell_type": "code",
   "execution_count": 45,
   "metadata": {},
   "outputs": [
    {
     "data": {
      "text/latex": [
       "$\\displaystyle \\alpha \\delta_{s} - \\beta c \\delta_{s} + \\beta c - \\beta s$"
      ],
      "text/plain": [
       "alpha*delta_s - beta*c*delta_s + beta*c - beta*s"
      ]
     },
     "execution_count": 45,
     "metadata": {},
     "output_type": "execute_result"
    }
   ],
   "source": [
    "(q_dis.args[1])*-1"
   ]
  },
  {
   "cell_type": "code",
   "execution_count": null,
   "metadata": {},
   "outputs": [],
   "source": []
  },
  {
   "cell_type": "markdown",
   "metadata": {},
   "source": [
    "# BD"
   ]
  },
  {
   "cell_type": "code",
   "execution_count": 46,
   "metadata": {},
   "outputs": [
    {
     "data": {
      "text/latex": [
       "$\\displaystyle - \\frac{2 \\alpha \\delta_{d} - \\alpha \\delta_{s} - \\alpha + \\beta c \\delta_{s} - \\beta c + 2 \\beta \\delta_{d} s - 2 \\beta s}{4}$"
      ],
      "text/plain": [
       "-(2*alpha*delta_d - alpha*delta_s - alpha + beta*c*delta_s - beta*c + 2*beta*delta_d*s - 2*beta*s)/4"
      ]
     },
     "execution_count": 46,
     "metadata": {},
     "output_type": "execute_result"
    }
   ],
   "source": [
    "target_df = UN_BD_WH.copy()\n",
    "\n",
    "q_dis = (target_df[1][\"q_d\"].factor()-target_df[1][\"q_t\"].factor()).factor()\n",
    "q_dis"
   ]
  },
  {
   "cell_type": "code",
   "execution_count": 47,
   "metadata": {},
   "outputs": [
    {
     "data": {
      "text/latex": [
       "$\\displaystyle - 2 \\alpha \\delta_{d} + \\alpha \\delta_{s} + \\alpha - \\beta c \\delta_{s} + \\beta c - 2 \\beta \\delta_{d} s + 2 \\beta s$"
      ],
      "text/plain": [
       "-2*alpha*delta_d + alpha*delta_s + alpha - beta*c*delta_s + beta*c - 2*beta*delta_d*s + 2*beta*s"
      ]
     },
     "execution_count": 47,
     "metadata": {},
     "output_type": "execute_result"
    }
   ],
   "source": [
    "(q_dis.args[1])*-1"
   ]
  },
  {
   "cell_type": "code",
   "execution_count": 50,
   "metadata": {},
   "outputs": [
    {
     "data": {
      "text/latex": [
       "$\\displaystyle - \\frac{2 \\alpha \\delta_{d} - \\sqrt{2} \\alpha \\delta_{s} - 2 \\alpha + \\sqrt{2} \\alpha + \\sqrt{2} \\beta c \\delta_{s} - \\sqrt{2} \\beta c + 2 \\beta \\delta_{d} s - 2 \\beta s}{4}$"
      ],
      "text/plain": [
       "-(2*alpha*delta_d - sqrt(2)*alpha*delta_s - 2*alpha + sqrt(2)*alpha + sqrt(2)*beta*c*delta_s - sqrt(2)*beta*c + 2*beta*delta_d*s - 2*beta*s)/4"
      ]
     },
     "execution_count": 50,
     "metadata": {},
     "output_type": "execute_result"
    }
   ],
   "source": [
    "target_df = UN_BD_QD.copy()\n",
    "w_dis = w_w.copy()\n",
    "\n",
    "\n",
    "q_dis = (target_df[1][\"q_d\"].subs([(w,w_dis)]).factor()-target_df[1][\"q_t\"].subs([(w,w_dis)]).factor()).factor()\n",
    "q_dis"
   ]
  },
  {
   "cell_type": "code",
   "execution_count": 51,
   "metadata": {},
   "outputs": [
    {
     "data": {
      "text/latex": [
       "$\\displaystyle - 2 \\alpha \\delta_{d} + \\sqrt{2} \\alpha \\delta_{s} - \\sqrt{2} \\alpha + 2 \\alpha - \\sqrt{2} \\beta c \\delta_{s} + \\sqrt{2} \\beta c - 2 \\beta \\delta_{d} s + 2 \\beta s$"
      ],
      "text/plain": [
       "-2*alpha*delta_d + sqrt(2)*alpha*delta_s - sqrt(2)*alpha + 2*alpha - sqrt(2)*beta*c*delta_s + sqrt(2)*beta*c - 2*beta*delta_d*s + 2*beta*s"
      ]
     },
     "execution_count": 51,
     "metadata": {},
     "output_type": "execute_result"
    }
   ],
   "source": [
    "(q_dis.args[1])*-1"
   ]
  },
  {
   "cell_type": "code",
   "execution_count": null,
   "metadata": {},
   "outputs": [],
   "source": []
  },
  {
   "cell_type": "code",
   "execution_count": 52,
   "metadata": {},
   "outputs": [
    {
     "data": {
      "text/latex": [
       "$\\displaystyle - \\frac{\\alpha \\delta_{d} - \\alpha \\delta_{s} + \\beta c \\delta_{s} - \\beta c + \\beta \\delta_{d} s - \\beta s}{2}$"
      ],
      "text/plain": [
       "-(alpha*delta_d - alpha*delta_s + beta*c*delta_s - beta*c + beta*delta_d*s - beta*s)/2"
      ]
     },
     "execution_count": 52,
     "metadata": {},
     "output_type": "execute_result"
    }
   ],
   "source": [
    "target_df = UN_BD_QD.copy()\n",
    "w_dis = w_c.copy()\n",
    "\n",
    "\n",
    "q_dis = (target_df[1][\"q_d\"].subs([(w,w_dis)]).factor()-target_df[1][\"q_t\"].subs([(w,w_dis)]).factor()).factor()\n",
    "q_dis"
   ]
  },
  {
   "cell_type": "code",
   "execution_count": 53,
   "metadata": {},
   "outputs": [
    {
     "data": {
      "text/latex": [
       "$\\displaystyle - \\alpha \\delta_{d} + \\alpha \\delta_{s} - \\beta c \\delta_{s} + \\beta c - \\beta \\delta_{d} s + \\beta s$"
      ],
      "text/plain": [
       "-alpha*delta_d + alpha*delta_s - beta*c*delta_s + beta*c - beta*delta_d*s + beta*s"
      ]
     },
     "execution_count": 53,
     "metadata": {},
     "output_type": "execute_result"
    }
   ],
   "source": [
    "(q_dis.args[1])*-1"
   ]
  },
  {
   "cell_type": "code",
   "execution_count": null,
   "metadata": {},
   "outputs": [],
   "source": []
  },
  {
   "cell_type": "code",
   "execution_count": null,
   "metadata": {},
   "outputs": [],
   "source": []
  },
  {
   "cell_type": "markdown",
   "metadata": {},
   "source": [
    "# BS"
   ]
  },
  {
   "cell_type": "code",
   "execution_count": 54,
   "metadata": {},
   "outputs": [
    {
     "data": {
      "text/latex": [
       "$\\displaystyle \\frac{- 2 \\alpha \\delta_{d} + \\alpha \\delta_{s} + \\alpha - \\beta c \\delta_{s} + \\beta c + 2 \\beta \\delta_{d} s - 2 \\beta s}{4}$"
      ],
      "text/plain": [
       "(-2*alpha*delta_d + alpha*delta_s + alpha - beta*c*delta_s + beta*c + 2*beta*delta_d*s - 2*beta*s)/4"
      ]
     },
     "execution_count": 54,
     "metadata": {},
     "output_type": "execute_result"
    }
   ],
   "source": [
    "target_df = UN_BS_WH.copy()\n",
    "\n",
    "q_dis = (target_df[1][\"q_d\"].factor()-target_df[1][\"q_t\"].factor()).factor()\n",
    "q_dis"
   ]
  },
  {
   "cell_type": "code",
   "execution_count": 56,
   "metadata": {},
   "outputs": [
    {
     "data": {
      "text/latex": [
       "$\\displaystyle \\frac{- 2 \\alpha \\delta_{d} + \\sqrt{2} \\alpha \\delta_{s} - \\sqrt{2} \\alpha + 2 \\alpha - \\sqrt{2} \\beta c \\delta_{s} + \\sqrt{2} \\beta c + 2 \\beta \\delta_{d} s - 2 \\beta s}{4}$"
      ],
      "text/plain": [
       "(-2*alpha*delta_d + sqrt(2)*alpha*delta_s - sqrt(2)*alpha + 2*alpha - sqrt(2)*beta*c*delta_s + sqrt(2)*beta*c + 2*beta*delta_d*s - 2*beta*s)/4"
      ]
     },
     "execution_count": 56,
     "metadata": {},
     "output_type": "execute_result"
    }
   ],
   "source": [
    "target_df = UN_BS_QD.copy()\n",
    "w_dis = w_w.copy()\n",
    "\n",
    "\n",
    "q_dis = (target_df[1][\"q_d\"].subs([(w,w_dis)]).factor()-target_df[1][\"q_t\"].subs([(w,w_dis)]).factor()).factor()\n",
    "q_dis"
   ]
  },
  {
   "cell_type": "code",
   "execution_count": 57,
   "metadata": {},
   "outputs": [
    {
     "data": {
      "text/latex": [
       "$\\displaystyle \\frac{- \\alpha \\delta_{d} + \\alpha \\delta_{s} - \\beta c \\delta_{s} + \\beta c + \\beta \\delta_{d} s - \\beta s}{2}$"
      ],
      "text/plain": [
       "(-alpha*delta_d + alpha*delta_s - beta*c*delta_s + beta*c + beta*delta_d*s - beta*s)/2"
      ]
     },
     "execution_count": 57,
     "metadata": {},
     "output_type": "execute_result"
    }
   ],
   "source": [
    "target_df = UN_BS_QD.copy()\n",
    "w_dis = w_c.copy()\n",
    "\n",
    "\n",
    "q_dis = (target_df[1][\"q_d\"].subs([(w,w_dis)]).factor()-target_df[1][\"q_t\"].subs([(w,w_dis)]).factor()).factor()\n",
    "q_dis"
   ]
  },
  {
   "cell_type": "code",
   "execution_count": null,
   "metadata": {},
   "outputs": [],
   "source": []
  },
  {
   "cell_type": "code",
   "execution_count": null,
   "metadata": {},
   "outputs": [],
   "source": []
  },
  {
   "cell_type": "code",
   "execution_count": null,
   "metadata": {},
   "outputs": [],
   "source": []
  }
 ],
 "metadata": {
  "kernelspec": {
   "display_name": "Python 3",
   "language": "python",
   "name": "python3"
  },
  "language_info": {
   "codemirror_mode": {
    "name": "ipython",
    "version": 3
   },
   "file_extension": ".py",
   "mimetype": "text/x-python",
   "name": "python",
   "nbconvert_exporter": "python",
   "pygments_lexer": "ipython3",
   "version": "3.7.6"
  }
 },
 "nbformat": 4,
 "nbformat_minor": 4
}
