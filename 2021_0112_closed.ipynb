{
 "cells": [
  {
   "cell_type": "code",
   "execution_count": 1,
   "metadata": {},
   "outputs": [],
   "source": [
    "import pandas as pd\n",
    "import numpy as np\n",
    "import sympy\n",
    "from sympy.solvers.inequalities import reduce_rational_inequalities,reduce_inequalities\n",
    "from itertools import chain\n",
    "from collections import defaultdict\n",
    "from IPython.display import display\n",
    "\n",
    "from sympy.parsing.sympy_parser import parse_expr\n",
    "from sympy.parsing.sympy_parser import standard_transformations\n",
    "from sympy.printing.mathml import print_mathml\n",
    "\n",
    "from IPython.display import display, Markdown, Latex\n",
    "import os\n",
    "\n",
    "import seaborn as sns\n",
    "import matplotlib.pyplot as plt"
   ]
  },
  {
   "cell_type": "code",
   "execution_count": 2,
   "metadata": {},
   "outputs": [],
   "source": [
    "def make_symbols_positive(sym):\n",
    "    return sympy.symbols(\"{}\".format(sym),positive =True)\n",
    "\n",
    "def make_symbols_function(sym):\n",
    "    return sympy.symbols(\"{}\".format(sym),cl)\n",
    "\n",
    "def subs_function(target,list_):\n",
    "    return sympy.simplify(target.subs(list_))"
   ]
  },
  {
   "cell_type": "markdown",
   "metadata": {},
   "source": [
    "# Data_loading"
   ]
  },
  {
   "cell_type": "code",
   "execution_count": 3,
   "metadata": {},
   "outputs": [],
   "source": [
    "file_list = os.listdir(r\"C:\\Users\\Samsung\\Desktop\\Writing\\Graduation\\Solve\\version_1\")\n",
    "file_list_xlsx = [f for f in file_list if f.endswith(\".xlsx\")]\n",
    "#file_FB = [f for f in file_list_xlsx if f.contains(\"FB\")]\n",
    "#file_WH = [f for f in file_list_xlsx if f.contains(\"WH\")]\n",
    "#file_QD = [f for f in file_list_xlsx if f.contains(\"QD\")]"
   ]
  },
  {
   "cell_type": "code",
   "execution_count": 4,
   "metadata": {},
   "outputs": [
    {
     "data": {
      "text/plain": [
       "['BDD_FB',\n",
       " 'BDD_QD',\n",
       " 'BDD_WH',\n",
       " 'BDS_FB',\n",
       " 'BDS_QD',\n",
       " 'BDS_WH',\n",
       " 'DD_FB',\n",
       " 'DD_QD',\n",
       " 'DD_WH',\n",
       " 'ND_FB',\n",
       " 'ND_QD',\n",
       " 'ND_WH',\n",
       " 'SD_FB',\n",
       " 'SD_QD',\n",
       " 'SD_WH']"
      ]
     },
     "execution_count": 4,
     "metadata": {},
     "output_type": "execute_result"
    }
   ],
   "source": [
    "file_name = [li.replace(\".xlsx\",\"\") for li in file_list_xlsx]\n",
    "file_name"
   ]
  },
  {
   "cell_type": "code",
   "execution_count": 5,
   "metadata": {},
   "outputs": [],
   "source": [
    "for fn in file_name:\n",
    "    path_ = r\"C:\\Users\\Samsung\\Desktop\\Writing\\Graduation\\Solve\\version_1\\{}.xlsx\"\n",
    "    globals() [\"{}\".format(fn)] = pd.read_excel(path_.format(fn),index_col=0,header=None)\n",
    "    try:\n",
    "        globals() [\"{}\".format(fn)] = globals() [\"{}\".format(fn)].rename(index={\"profit_all\":\"pro_all\"})\n",
    "    except:\n",
    "        pass"
   ]
  },
  {
   "cell_type": "code",
   "execution_count": 6,
   "metadata": {},
   "outputs": [],
   "source": [
    "alpha, beta, p, c, w, theta, Delta, delta_s, delta_d, lambda_ = make_symbols_positive(\"alpha, beta, p, c, w, theta , Delta, delta_s, delta_d, lambda\")"
   ]
  },
  {
   "cell_type": "code",
   "execution_count": 7,
   "metadata": {},
   "outputs": [],
   "source": [
    "parse_dic = {\"alpha\":alpha, \"beta\":beta, \"p\":p, \"c\":c,\"w\":w, \"theta\":theta,\"Delta\": Delta, \"delta_s\":delta_s, \"delta_d\":delta_d,\"lambda_\": lambda_ }"
   ]
  },
  {
   "cell_type": "code",
   "execution_count": 8,
   "metadata": {},
   "outputs": [],
   "source": [
    "for fn in file_name:\n",
    "    globals() [\"{}\".format(fn)][1] = globals() [\"{}\".format(fn)][1].map(lambda x: parse_expr(x.replace(\"^\",\"**\").replace(\"lambda\",\"lambda_\"),parse_dic))"
   ]
  },
  {
   "cell_type": "markdown",
   "metadata": {},
   "source": [
    "# Data combined by Case_"
   ]
  },
  {
   "cell_type": "code",
   "execution_count": 9,
   "metadata": {},
   "outputs": [],
   "source": [
    "case_  = [\"ND\",\"DD\",\"SD\",\"BDD\",\"BDS\"]"
   ]
  },
  {
   "cell_type": "code",
   "execution_count": 10,
   "metadata": {},
   "outputs": [],
   "source": [
    "for ca in case_:\n",
    "    FB_ = globals ()[\"{}_FB\".format(ca)].rename(columns={1:\"FB\"})\n",
    "    WH_ = globals ()[\"{}_WH\".format(ca)].rename(columns={1:\"WH\"})\n",
    "    QD_ = globals ()[\"{}_QD\".format(ca)].rename(columns={1:\"QD\"})\n",
    "    globals ()[\"{}_all\".format(ca)] = pd.concat([FB_,WH_,QD_],join=\"outer\",axis=1)"
   ]
  },
  {
   "cell_type": "code",
   "execution_count": 11,
   "metadata": {},
   "outputs": [
    {
     "data": {
      "text/html": [
       "<div>\n",
       "<style scoped>\n",
       "    .dataframe tbody tr th:only-of-type {\n",
       "        vertical-align: middle;\n",
       "    }\n",
       "\n",
       "    .dataframe tbody tr th {\n",
       "        vertical-align: top;\n",
       "    }\n",
       "\n",
       "    .dataframe thead th {\n",
       "        text-align: right;\n",
       "    }\n",
       "</style>\n",
       "<table border=\"1\" class=\"dataframe\">\n",
       "  <thead>\n",
       "    <tr style=\"text-align: right;\">\n",
       "      <th></th>\n",
       "      <th>FB</th>\n",
       "      <th>WH</th>\n",
       "      <th>QD</th>\n",
       "    </tr>\n",
       "  </thead>\n",
       "  <tbody>\n",
       "    <tr>\n",
       "      <th>p</th>\n",
       "      <td>(alpha + beta*c)/(2*beta)</td>\n",
       "      <td>(3*alpha*delta_d + beta*c - beta*delta_d*lambd...</td>\n",
       "      <td>(3*alpha*delta_d + 2*beta*c - beta*delta_d*lam...</td>\n",
       "    </tr>\n",
       "    <tr>\n",
       "      <th>q</th>\n",
       "      <td>alpha/2 - beta*c/2</td>\n",
       "      <td>(alpha*delta_d - beta*c + beta*delta_d*lambda ...</td>\n",
       "      <td>(alpha*delta_d - 2*beta*c + beta*delta_d*lambd...</td>\n",
       "    </tr>\n",
       "    <tr>\n",
       "      <th>D</th>\n",
       "      <td>delta_d*(alpha/2 - beta*c/2)</td>\n",
       "      <td>alpha*delta_d/4 - beta*c/4 + beta*delta_d*lamb...</td>\n",
       "      <td>alpha*delta_d/4 - beta*c/2 + beta*delta_d*lamb...</td>\n",
       "    </tr>\n",
       "    <tr>\n",
       "      <th>pro_all</th>\n",
       "      <td>delta_d*(alpha - beta*c)**2/(4*beta)</td>\n",
       "      <td>3*(-alpha*delta_d + beta*c - beta*delta_d*lamb...</td>\n",
       "      <td>(alpha*delta_d + beta*delta_d*lambda - beta*la...</td>\n",
       "    </tr>\n",
       "    <tr>\n",
       "      <th>h1</th>\n",
       "      <td>-2*beta*delta_d</td>\n",
       "      <td>NaN</td>\n",
       "      <td>NaN</td>\n",
       "    </tr>\n",
       "  </tbody>\n",
       "</table>\n",
       "</div>"
      ],
      "text/plain": [
       "                                           FB  \\\n",
       "p                   (alpha + beta*c)/(2*beta)   \n",
       "q                          alpha/2 - beta*c/2   \n",
       "D                delta_d*(alpha/2 - beta*c/2)   \n",
       "pro_all  delta_d*(alpha - beta*c)**2/(4*beta)   \n",
       "h1                            -2*beta*delta_d   \n",
       "\n",
       "                                                        WH  \\\n",
       "p        (3*alpha*delta_d + beta*c - beta*delta_d*lambd...   \n",
       "q        (alpha*delta_d - beta*c + beta*delta_d*lambda ...   \n",
       "D        alpha*delta_d/4 - beta*c/4 + beta*delta_d*lamb...   \n",
       "pro_all  3*(-alpha*delta_d + beta*c - beta*delta_d*lamb...   \n",
       "h1                                                     NaN   \n",
       "\n",
       "                                                        QD  \n",
       "p        (3*alpha*delta_d + 2*beta*c - beta*delta_d*lam...  \n",
       "q        (alpha*delta_d - 2*beta*c + beta*delta_d*lambd...  \n",
       "D        alpha*delta_d/4 - beta*c/2 + beta*delta_d*lamb...  \n",
       "pro_all  (alpha*delta_d + beta*delta_d*lambda - beta*la...  \n",
       "h1                                                     NaN  "
      ]
     },
     "execution_count": 11,
     "metadata": {},
     "output_type": "execute_result"
    }
   ],
   "source": [
    "DD_all.head()"
   ]
  },
  {
   "cell_type": "code",
   "execution_count": 12,
   "metadata": {
    "scrolled": false
   },
   "outputs": [
    {
     "data": {
      "text/html": [
       "<div>\n",
       "<style scoped>\n",
       "    .dataframe tbody tr th:only-of-type {\n",
       "        vertical-align: middle;\n",
       "    }\n",
       "\n",
       "    .dataframe tbody tr th {\n",
       "        vertical-align: top;\n",
       "    }\n",
       "\n",
       "    .dataframe thead th {\n",
       "        text-align: right;\n",
       "    }\n",
       "</style>\n",
       "<table border=\"1\" class=\"dataframe\">\n",
       "  <thead>\n",
       "    <tr style=\"text-align: right;\">\n",
       "      <th></th>\n",
       "      <th>FB</th>\n",
       "      <th>WH</th>\n",
       "      <th>QD</th>\n",
       "    </tr>\n",
       "  </thead>\n",
       "  <tbody>\n",
       "    <tr>\n",
       "      <th>p</th>\n",
       "      <td>(alpha + beta*c)/(2*beta)</td>\n",
       "      <td>(3*alpha + beta*c)/(4*beta)</td>\n",
       "      <td>(3*alpha + 2*beta*c - beta*w)/(4*beta)</td>\n",
       "    </tr>\n",
       "    <tr>\n",
       "      <th>q</th>\n",
       "      <td>alpha/2 - beta*c/2</td>\n",
       "      <td>alpha/4 - beta*c/4</td>\n",
       "      <td>alpha/4 - beta*c/2 + beta*w/4</td>\n",
       "    </tr>\n",
       "    <tr>\n",
       "      <th>D</th>\n",
       "      <td>alpha/2 - beta*c/2</td>\n",
       "      <td>alpha/4 - beta*c/4</td>\n",
       "      <td>alpha/4 - beta*c/2 + beta*w/4</td>\n",
       "    </tr>\n",
       "    <tr>\n",
       "      <th>pro_all</th>\n",
       "      <td>(alpha - beta*c)**2/(4*beta)</td>\n",
       "      <td>3*(alpha - beta*c)**2/(16*beta)</td>\n",
       "      <td>(3*alpha**2 - 8*alpha*beta*c + 2*alpha*beta*w ...</td>\n",
       "    </tr>\n",
       "    <tr>\n",
       "      <th>h1</th>\n",
       "      <td>-2*beta</td>\n",
       "      <td>NaN</td>\n",
       "      <td>NaN</td>\n",
       "    </tr>\n",
       "    <tr>\n",
       "      <th>w</th>\n",
       "      <td>NaN</td>\n",
       "      <td>(alpha + beta*c)/(2*beta)</td>\n",
       "      <td>w</td>\n",
       "    </tr>\n",
       "    <tr>\n",
       "      <th>p_w</th>\n",
       "      <td>NaN</td>\n",
       "      <td>(alpha + beta*w)/(2*beta)</td>\n",
       "      <td>NaN</td>\n",
       "    </tr>\n",
       "    <tr>\n",
       "      <th>S</th>\n",
       "      <td>NaN</td>\n",
       "      <td>alpha/4 - beta*c/4</td>\n",
       "      <td>alpha/4 - beta*c/2 + beta*w/4</td>\n",
       "    </tr>\n",
       "    <tr>\n",
       "      <th>T</th>\n",
       "      <td>NaN</td>\n",
       "      <td>(alpha + beta*c)/(2*beta)</td>\n",
       "      <td>(alpha + 2*beta*c + beta*w)/(4*beta)</td>\n",
       "    </tr>\n",
       "    <tr>\n",
       "      <th>pro_r</th>\n",
       "      <td>NaN</td>\n",
       "      <td>(alpha - beta*c)**2/(16*beta)</td>\n",
       "      <td>(alpha - beta*w)*(alpha/4 - beta*c/2 + beta*w/...</td>\n",
       "    </tr>\n",
       "    <tr>\n",
       "      <th>pro_s</th>\n",
       "      <td>NaN</td>\n",
       "      <td>(alpha - beta*c)**2/(8*beta)</td>\n",
       "      <td>(alpha/4 - beta*c/2 + beta*w/4)*(alpha - 2*bet...</td>\n",
       "    </tr>\n",
       "    <tr>\n",
       "      <th>h1_r_p</th>\n",
       "      <td>NaN</td>\n",
       "      <td>-2*beta</td>\n",
       "      <td>2*beta*(beta*theta - 1)</td>\n",
       "    </tr>\n",
       "    <tr>\n",
       "      <th>h1_s_w</th>\n",
       "      <td>NaN</td>\n",
       "      <td>-beta</td>\n",
       "      <td>beta*(beta*theta - 2)/(2*(beta*theta - 1)**2)</td>\n",
       "    </tr>\n",
       "    <tr>\n",
       "      <th>theta</th>\n",
       "      <td>NaN</td>\n",
       "      <td>NaN</td>\n",
       "      <td>(-alpha - 2*beta*c + 3*beta*w)/(beta*(alpha - ...</td>\n",
       "    </tr>\n",
       "    <tr>\n",
       "      <th>p_w_theta</th>\n",
       "      <td>NaN</td>\n",
       "      <td>NaN</td>\n",
       "      <td>(-2*alpha*beta*theta + alpha + beta*w)/(-2*bet...</td>\n",
       "    </tr>\n",
       "    <tr>\n",
       "      <th>h1_s_th</th>\n",
       "      <td>NaN</td>\n",
       "      <td>NaN</td>\n",
       "      <td>-beta*(alpha - beta*w)*(alpha*beta*theta + 2*a...</td>\n",
       "    </tr>\n",
       "    <tr>\n",
       "      <th>h2_s</th>\n",
       "      <td>NaN</td>\n",
       "      <td>NaN</td>\n",
       "      <td>-beta**4*(alpha*theta - beta*c*theta + c - w)*...</td>\n",
       "    </tr>\n",
       "  </tbody>\n",
       "</table>\n",
       "</div>"
      ],
      "text/plain": [
       "                                     FB                               WH  \\\n",
       "p             (alpha + beta*c)/(2*beta)      (3*alpha + beta*c)/(4*beta)   \n",
       "q                    alpha/2 - beta*c/2               alpha/4 - beta*c/4   \n",
       "D                    alpha/2 - beta*c/2               alpha/4 - beta*c/4   \n",
       "pro_all    (alpha - beta*c)**2/(4*beta)  3*(alpha - beta*c)**2/(16*beta)   \n",
       "h1                              -2*beta                              NaN   \n",
       "w                                   NaN        (alpha + beta*c)/(2*beta)   \n",
       "p_w                                 NaN        (alpha + beta*w)/(2*beta)   \n",
       "S                                   NaN               alpha/4 - beta*c/4   \n",
       "T                                   NaN        (alpha + beta*c)/(2*beta)   \n",
       "pro_r                               NaN    (alpha - beta*c)**2/(16*beta)   \n",
       "pro_s                               NaN     (alpha - beta*c)**2/(8*beta)   \n",
       "h1_r_p                              NaN                          -2*beta   \n",
       "h1_s_w                              NaN                            -beta   \n",
       "theta                               NaN                              NaN   \n",
       "p_w_theta                           NaN                              NaN   \n",
       "h1_s_th                             NaN                              NaN   \n",
       "h2_s                                NaN                              NaN   \n",
       "\n",
       "                                                          QD  \n",
       "p                     (3*alpha + 2*beta*c - beta*w)/(4*beta)  \n",
       "q                              alpha/4 - beta*c/2 + beta*w/4  \n",
       "D                              alpha/4 - beta*c/2 + beta*w/4  \n",
       "pro_all    (3*alpha**2 - 8*alpha*beta*c + 2*alpha*beta*w ...  \n",
       "h1                                                       NaN  \n",
       "w                                                          w  \n",
       "p_w                                                      NaN  \n",
       "S                              alpha/4 - beta*c/2 + beta*w/4  \n",
       "T                       (alpha + 2*beta*c + beta*w)/(4*beta)  \n",
       "pro_r      (alpha - beta*w)*(alpha/4 - beta*c/2 + beta*w/...  \n",
       "pro_s      (alpha/4 - beta*c/2 + beta*w/4)*(alpha - 2*bet...  \n",
       "h1_r_p                               2*beta*(beta*theta - 1)  \n",
       "h1_s_w         beta*(beta*theta - 2)/(2*(beta*theta - 1)**2)  \n",
       "theta      (-alpha - 2*beta*c + 3*beta*w)/(beta*(alpha - ...  \n",
       "p_w_theta  (-2*alpha*beta*theta + alpha + beta*w)/(-2*bet...  \n",
       "h1_s_th    -beta*(alpha - beta*w)*(alpha*beta*theta + 2*a...  \n",
       "h2_s       -beta**4*(alpha*theta - beta*c*theta + c - w)*...  "
      ]
     },
     "execution_count": 12,
     "metadata": {},
     "output_type": "execute_result"
    }
   ],
   "source": [
    "ND_all"
   ]
  },
  {
   "cell_type": "markdown",
   "metadata": {},
   "source": [
    "# ND"
   ]
  },
  {
   "cell_type": "code",
   "execution_count": 22,
   "metadata": {
    "scrolled": true
   },
   "outputs": [
    {
     "name": "stdout",
     "output_type": "stream",
     "text": [
      "p\n"
     ]
    },
    {
     "data": {
      "text/latex": [
       "$\\displaystyle \\frac{\\alpha + \\beta c}{2 \\beta}$"
      ],
      "text/plain": [
       "(alpha + beta*c)/(2*beta)"
      ]
     },
     "metadata": {},
     "output_type": "display_data"
    },
    {
     "name": "stdout",
     "output_type": "stream",
     "text": [
      "\n",
      "q\n"
     ]
    },
    {
     "data": {
      "text/latex": [
       "$\\displaystyle - \\frac{- \\alpha + \\beta c}{2}$"
      ],
      "text/plain": [
       "-(-alpha + beta*c)/2"
      ]
     },
     "metadata": {},
     "output_type": "display_data"
    },
    {
     "name": "stdout",
     "output_type": "stream",
     "text": [
      "\n",
      "D\n"
     ]
    },
    {
     "data": {
      "text/latex": [
       "$\\displaystyle - \\frac{- \\alpha + \\beta c}{2}$"
      ],
      "text/plain": [
       "-(-alpha + beta*c)/2"
      ]
     },
     "metadata": {},
     "output_type": "display_data"
    },
    {
     "name": "stdout",
     "output_type": "stream",
     "text": [
      "\n",
      "pro_all\n"
     ]
    },
    {
     "data": {
      "text/latex": [
       "$\\displaystyle \\frac{\\left(- \\alpha + \\beta c\\right)^{2}}{4 \\beta}$"
      ],
      "text/plain": [
       "(-alpha + beta*c)**2/(4*beta)"
      ]
     },
     "metadata": {},
     "output_type": "display_data"
    },
    {
     "name": "stdout",
     "output_type": "stream",
     "text": [
      "\n",
      "h1\n"
     ]
    },
    {
     "data": {
      "text/latex": [
       "$\\displaystyle - 2 \\beta$"
      ],
      "text/plain": [
       "-2*beta"
      ]
     },
     "metadata": {},
     "output_type": "display_data"
    },
    {
     "name": "stdout",
     "output_type": "stream",
     "text": [
      "\n",
      "w\n"
     ]
    },
    {
     "data": {
      "text/plain": [
       "nan"
      ]
     },
     "metadata": {},
     "output_type": "display_data"
    },
    {
     "name": "stdout",
     "output_type": "stream",
     "text": [
      "\n",
      "p_w\n"
     ]
    },
    {
     "data": {
      "text/plain": [
       "nan"
      ]
     },
     "metadata": {},
     "output_type": "display_data"
    },
    {
     "name": "stdout",
     "output_type": "stream",
     "text": [
      "\n",
      "S\n"
     ]
    },
    {
     "data": {
      "text/plain": [
       "nan"
      ]
     },
     "metadata": {},
     "output_type": "display_data"
    },
    {
     "name": "stdout",
     "output_type": "stream",
     "text": [
      "\n",
      "T\n"
     ]
    },
    {
     "data": {
      "text/plain": [
       "nan"
      ]
     },
     "metadata": {},
     "output_type": "display_data"
    },
    {
     "name": "stdout",
     "output_type": "stream",
     "text": [
      "\n",
      "pro_r\n"
     ]
    },
    {
     "data": {
      "text/plain": [
       "nan"
      ]
     },
     "metadata": {},
     "output_type": "display_data"
    },
    {
     "name": "stdout",
     "output_type": "stream",
     "text": [
      "\n",
      "pro_s\n"
     ]
    },
    {
     "data": {
      "text/plain": [
       "nan"
      ]
     },
     "metadata": {},
     "output_type": "display_data"
    },
    {
     "name": "stdout",
     "output_type": "stream",
     "text": [
      "\n",
      "h1_r_p\n"
     ]
    },
    {
     "data": {
      "text/plain": [
       "nan"
      ]
     },
     "metadata": {},
     "output_type": "display_data"
    },
    {
     "name": "stdout",
     "output_type": "stream",
     "text": [
      "\n",
      "h1_s_w\n"
     ]
    },
    {
     "data": {
      "text/plain": [
       "nan"
      ]
     },
     "metadata": {},
     "output_type": "display_data"
    },
    {
     "name": "stdout",
     "output_type": "stream",
     "text": [
      "\n",
      "theta\n"
     ]
    },
    {
     "data": {
      "text/plain": [
       "nan"
      ]
     },
     "metadata": {},
     "output_type": "display_data"
    },
    {
     "name": "stdout",
     "output_type": "stream",
     "text": [
      "\n",
      "p_w_theta\n"
     ]
    },
    {
     "data": {
      "text/plain": [
       "nan"
      ]
     },
     "metadata": {},
     "output_type": "display_data"
    },
    {
     "name": "stdout",
     "output_type": "stream",
     "text": [
      "\n",
      "h1_s_th\n"
     ]
    },
    {
     "data": {
      "text/plain": [
       "nan"
      ]
     },
     "metadata": {},
     "output_type": "display_data"
    },
    {
     "name": "stdout",
     "output_type": "stream",
     "text": [
      "\n",
      "h2_s\n"
     ]
    },
    {
     "data": {
      "text/plain": [
       "nan"
      ]
     },
     "metadata": {},
     "output_type": "display_data"
    },
    {
     "name": "stdout",
     "output_type": "stream",
     "text": [
      "\n"
     ]
    }
   ],
   "source": [
    "for key,value in ND_all[\"FB\"].items():\n",
    "    print(key)\n",
    "    try:\n",
    "        display(value.factor())\n",
    "    except:\n",
    "        display(value)\n",
    "    print()"
   ]
  },
  {
   "cell_type": "code",
   "execution_count": 23,
   "metadata": {
    "scrolled": true
   },
   "outputs": [
    {
     "name": "stdout",
     "output_type": "stream",
     "text": [
      "p\n"
     ]
    },
    {
     "data": {
      "text/latex": [
       "$\\displaystyle \\frac{3 \\alpha + \\beta c}{4 \\beta}$"
      ],
      "text/plain": [
       "(3*alpha + beta*c)/(4*beta)"
      ]
     },
     "metadata": {},
     "output_type": "display_data"
    },
    {
     "name": "stdout",
     "output_type": "stream",
     "text": [
      "\n",
      "q\n"
     ]
    },
    {
     "data": {
      "text/latex": [
       "$\\displaystyle - \\frac{- \\alpha + \\beta c}{4}$"
      ],
      "text/plain": [
       "-(-alpha + beta*c)/4"
      ]
     },
     "metadata": {},
     "output_type": "display_data"
    },
    {
     "name": "stdout",
     "output_type": "stream",
     "text": [
      "\n",
      "D\n"
     ]
    },
    {
     "data": {
      "text/latex": [
       "$\\displaystyle - \\frac{- \\alpha + \\beta c}{4}$"
      ],
      "text/plain": [
       "-(-alpha + beta*c)/4"
      ]
     },
     "metadata": {},
     "output_type": "display_data"
    },
    {
     "name": "stdout",
     "output_type": "stream",
     "text": [
      "\n",
      "pro_all\n"
     ]
    },
    {
     "data": {
      "text/latex": [
       "$\\displaystyle \\frac{3 \\left(- \\alpha + \\beta c\\right)^{2}}{16 \\beta}$"
      ],
      "text/plain": [
       "3*(-alpha + beta*c)**2/(16*beta)"
      ]
     },
     "metadata": {},
     "output_type": "display_data"
    },
    {
     "name": "stdout",
     "output_type": "stream",
     "text": [
      "\n",
      "h1\n"
     ]
    },
    {
     "data": {
      "text/plain": [
       "nan"
      ]
     },
     "metadata": {},
     "output_type": "display_data"
    },
    {
     "name": "stdout",
     "output_type": "stream",
     "text": [
      "\n",
      "w\n"
     ]
    },
    {
     "data": {
      "text/latex": [
       "$\\displaystyle \\frac{\\alpha + \\beta c}{2 \\beta}$"
      ],
      "text/plain": [
       "(alpha + beta*c)/(2*beta)"
      ]
     },
     "metadata": {},
     "output_type": "display_data"
    },
    {
     "name": "stdout",
     "output_type": "stream",
     "text": [
      "\n",
      "p_w\n"
     ]
    },
    {
     "data": {
      "text/latex": [
       "$\\displaystyle \\frac{\\alpha + \\beta w}{2 \\beta}$"
      ],
      "text/plain": [
       "(alpha + beta*w)/(2*beta)"
      ]
     },
     "metadata": {},
     "output_type": "display_data"
    },
    {
     "name": "stdout",
     "output_type": "stream",
     "text": [
      "\n",
      "S\n"
     ]
    },
    {
     "data": {
      "text/latex": [
       "$\\displaystyle - \\frac{- \\alpha + \\beta c}{4}$"
      ],
      "text/plain": [
       "-(-alpha + beta*c)/4"
      ]
     },
     "metadata": {},
     "output_type": "display_data"
    },
    {
     "name": "stdout",
     "output_type": "stream",
     "text": [
      "\n",
      "T\n"
     ]
    },
    {
     "data": {
      "text/latex": [
       "$\\displaystyle \\frac{\\alpha + \\beta c}{2 \\beta}$"
      ],
      "text/plain": [
       "(alpha + beta*c)/(2*beta)"
      ]
     },
     "metadata": {},
     "output_type": "display_data"
    },
    {
     "name": "stdout",
     "output_type": "stream",
     "text": [
      "\n",
      "pro_r\n"
     ]
    },
    {
     "data": {
      "text/latex": [
       "$\\displaystyle \\frac{\\left(- \\alpha + \\beta c\\right)^{2}}{16 \\beta}$"
      ],
      "text/plain": [
       "(-alpha + beta*c)**2/(16*beta)"
      ]
     },
     "metadata": {},
     "output_type": "display_data"
    },
    {
     "name": "stdout",
     "output_type": "stream",
     "text": [
      "\n",
      "pro_s\n"
     ]
    },
    {
     "data": {
      "text/latex": [
       "$\\displaystyle \\frac{\\left(- \\alpha + \\beta c\\right)^{2}}{8 \\beta}$"
      ],
      "text/plain": [
       "(-alpha + beta*c)**2/(8*beta)"
      ]
     },
     "metadata": {},
     "output_type": "display_data"
    },
    {
     "name": "stdout",
     "output_type": "stream",
     "text": [
      "\n",
      "h1_r_p\n"
     ]
    },
    {
     "data": {
      "text/latex": [
       "$\\displaystyle - 2 \\beta$"
      ],
      "text/plain": [
       "-2*beta"
      ]
     },
     "metadata": {},
     "output_type": "display_data"
    },
    {
     "name": "stdout",
     "output_type": "stream",
     "text": [
      "\n",
      "h1_s_w\n"
     ]
    },
    {
     "data": {
      "text/latex": [
       "$\\displaystyle - \\beta$"
      ],
      "text/plain": [
       "-beta"
      ]
     },
     "metadata": {},
     "output_type": "display_data"
    },
    {
     "name": "stdout",
     "output_type": "stream",
     "text": [
      "\n",
      "theta\n"
     ]
    },
    {
     "data": {
      "text/plain": [
       "nan"
      ]
     },
     "metadata": {},
     "output_type": "display_data"
    },
    {
     "name": "stdout",
     "output_type": "stream",
     "text": [
      "\n",
      "p_w_theta\n"
     ]
    },
    {
     "data": {
      "text/plain": [
       "nan"
      ]
     },
     "metadata": {},
     "output_type": "display_data"
    },
    {
     "name": "stdout",
     "output_type": "stream",
     "text": [
      "\n",
      "h1_s_th\n"
     ]
    },
    {
     "data": {
      "text/plain": [
       "nan"
      ]
     },
     "metadata": {},
     "output_type": "display_data"
    },
    {
     "name": "stdout",
     "output_type": "stream",
     "text": [
      "\n",
      "h2_s\n"
     ]
    },
    {
     "data": {
      "text/plain": [
       "nan"
      ]
     },
     "metadata": {},
     "output_type": "display_data"
    },
    {
     "name": "stdout",
     "output_type": "stream",
     "text": [
      "\n"
     ]
    }
   ],
   "source": [
    "for key,value in ND_all[\"WH\"].items():\n",
    "    print(key)\n",
    "    try:\n",
    "        display(value.factor())\n",
    "    except:\n",
    "        display(value)\n",
    "    print()"
   ]
  },
  {
   "cell_type": "code",
   "execution_count": 25,
   "metadata": {
    "scrolled": true
   },
   "outputs": [
    {
     "name": "stdout",
     "output_type": "stream",
     "text": [
      "p\n"
     ]
    },
    {
     "data": {
      "text/latex": [
       "$\\displaystyle - \\frac{- 3 \\alpha - 2 \\beta c + \\beta w}{4 \\beta}$"
      ],
      "text/plain": [
       "-(-3*alpha - 2*beta*c + beta*w)/(4*beta)"
      ]
     },
     "metadata": {},
     "output_type": "display_data"
    },
    {
     "name": "stdout",
     "output_type": "stream",
     "text": [
      "\n",
      "q\n"
     ]
    },
    {
     "data": {
      "text/latex": [
       "$\\displaystyle \\frac{\\alpha - 2 \\beta c + \\beta w}{4}$"
      ],
      "text/plain": [
       "(alpha - 2*beta*c + beta*w)/4"
      ]
     },
     "metadata": {},
     "output_type": "display_data"
    },
    {
     "name": "stdout",
     "output_type": "stream",
     "text": [
      "\n",
      "D\n"
     ]
    },
    {
     "data": {
      "text/latex": [
       "$\\displaystyle \\frac{\\alpha - 2 \\beta c + \\beta w}{4}$"
      ],
      "text/plain": [
       "(alpha - 2*beta*c + beta*w)/4"
      ]
     },
     "metadata": {},
     "output_type": "display_data"
    },
    {
     "name": "stdout",
     "output_type": "stream",
     "text": [
      "\n",
      "pro_all\n"
     ]
    },
    {
     "data": {
      "text/latex": [
       "$\\displaystyle - \\frac{\\left(- 3 \\alpha + 2 \\beta c + \\beta w\\right) \\left(\\alpha - 2 \\beta c + \\beta w\\right)}{16 \\beta}$"
      ],
      "text/plain": [
       "-(-3*alpha + 2*beta*c + beta*w)*(alpha - 2*beta*c + beta*w)/(16*beta)"
      ]
     },
     "metadata": {},
     "output_type": "display_data"
    },
    {
     "name": "stdout",
     "output_type": "stream",
     "text": [
      "\n",
      "h1\n"
     ]
    },
    {
     "data": {
      "text/plain": [
       "nan"
      ]
     },
     "metadata": {},
     "output_type": "display_data"
    },
    {
     "name": "stdout",
     "output_type": "stream",
     "text": [
      "\n",
      "w\n"
     ]
    },
    {
     "data": {
      "text/latex": [
       "$\\displaystyle w$"
      ],
      "text/plain": [
       "w"
      ]
     },
     "metadata": {},
     "output_type": "display_data"
    },
    {
     "name": "stdout",
     "output_type": "stream",
     "text": [
      "\n",
      "p_w\n"
     ]
    },
    {
     "data": {
      "text/plain": [
       "nan"
      ]
     },
     "metadata": {},
     "output_type": "display_data"
    },
    {
     "name": "stdout",
     "output_type": "stream",
     "text": [
      "\n",
      "S\n"
     ]
    },
    {
     "data": {
      "text/latex": [
       "$\\displaystyle \\frac{\\alpha - 2 \\beta c + \\beta w}{4}$"
      ],
      "text/plain": [
       "(alpha - 2*beta*c + beta*w)/4"
      ]
     },
     "metadata": {},
     "output_type": "display_data"
    },
    {
     "name": "stdout",
     "output_type": "stream",
     "text": [
      "\n",
      "T\n"
     ]
    },
    {
     "data": {
      "text/latex": [
       "$\\displaystyle \\frac{\\alpha + 2 \\beta c + \\beta w}{4 \\beta}$"
      ],
      "text/plain": [
       "(alpha + 2*beta*c + beta*w)/(4*beta)"
      ]
     },
     "metadata": {},
     "output_type": "display_data"
    },
    {
     "name": "stdout",
     "output_type": "stream",
     "text": [
      "\n",
      "pro_r\n"
     ]
    },
    {
     "data": {
      "text/latex": [
       "$\\displaystyle - \\frac{\\left(- \\alpha + \\beta w\\right) \\left(\\alpha - 2 \\beta c + \\beta w\\right)}{8 \\beta}$"
      ],
      "text/plain": [
       "-(-alpha + beta*w)*(alpha - 2*beta*c + beta*w)/(8*beta)"
      ]
     },
     "metadata": {},
     "output_type": "display_data"
    },
    {
     "name": "stdout",
     "output_type": "stream",
     "text": [
      "\n",
      "pro_s\n"
     ]
    },
    {
     "data": {
      "text/latex": [
       "$\\displaystyle \\frac{\\left(\\alpha - 2 \\beta c + \\beta w\\right)^{2}}{16 \\beta}$"
      ],
      "text/plain": [
       "(alpha - 2*beta*c + beta*w)**2/(16*beta)"
      ]
     },
     "metadata": {},
     "output_type": "display_data"
    },
    {
     "name": "stdout",
     "output_type": "stream",
     "text": [
      "\n",
      "h1_r_p\n"
     ]
    },
    {
     "data": {
      "text/latex": [
       "$\\displaystyle 2 \\beta \\left(\\beta \\theta - 1\\right)$"
      ],
      "text/plain": [
       "2*beta*(beta*theta - 1)"
      ]
     },
     "metadata": {},
     "output_type": "display_data"
    },
    {
     "name": "stdout",
     "output_type": "stream",
     "text": [
      "\n",
      "h1_s_w\n"
     ]
    },
    {
     "data": {
      "text/latex": [
       "$\\displaystyle \\frac{\\beta \\left(\\beta \\theta - 2\\right)}{2 \\left(\\beta \\theta - 1\\right)^{2}}$"
      ],
      "text/plain": [
       "beta*(beta*theta - 2)/(2*(beta*theta - 1)**2)"
      ]
     },
     "metadata": {},
     "output_type": "display_data"
    },
    {
     "name": "stdout",
     "output_type": "stream",
     "text": [
      "\n",
      "theta\n"
     ]
    },
    {
     "data": {
      "text/latex": [
       "$\\displaystyle \\frac{- \\alpha - 2 \\beta c + 3 \\beta w}{\\beta \\left(\\alpha - 2 \\beta c + \\beta w\\right)}$"
      ],
      "text/plain": [
       "(-alpha - 2*beta*c + 3*beta*w)/(beta*(alpha - 2*beta*c + beta*w))"
      ]
     },
     "metadata": {},
     "output_type": "display_data"
    },
    {
     "name": "stdout",
     "output_type": "stream",
     "text": [
      "\n",
      "p_w_theta\n"
     ]
    },
    {
     "data": {
      "text/latex": [
       "$\\displaystyle - \\frac{- 2 \\alpha \\beta \\theta + \\alpha + \\beta w}{2 \\beta \\left(\\beta \\theta - 1\\right)}$"
      ],
      "text/plain": [
       "-(-2*alpha*beta*theta + alpha + beta*w)/(2*beta*(beta*theta - 1))"
      ]
     },
     "metadata": {},
     "output_type": "display_data"
    },
    {
     "name": "stdout",
     "output_type": "stream",
     "text": [
      "\n",
      "h1_s_th\n"
     ]
    },
    {
     "data": {
      "text/latex": [
       "$\\displaystyle \\frac{\\beta \\left(- \\alpha + \\beta w\\right) \\left(\\alpha \\beta \\theta + 2 \\alpha - 2 \\beta^{2} c \\theta + \\beta^{2} \\theta w + 2 \\beta c - 4 \\beta w\\right)}{2 \\left(\\beta \\theta - 1\\right)^{4}}$"
      ],
      "text/plain": [
       "beta*(-alpha + beta*w)*(alpha*beta*theta + 2*alpha - 2*beta**2*c*theta + beta**2*theta*w + 2*beta*c - 4*beta*w)/(2*(beta*theta - 1)**4)"
      ]
     },
     "metadata": {},
     "output_type": "display_data"
    },
    {
     "name": "stdout",
     "output_type": "stream",
     "text": [
      "\n",
      "h2_s\n"
     ]
    },
    {
     "data": {
      "text/latex": [
       "$\\displaystyle - \\frac{\\beta^{4} \\left(- \\alpha \\theta + \\beta c \\theta - c + w\\right)^{2}}{4 \\left(\\beta \\theta - 1\\right)^{6}}$"
      ],
      "text/plain": [
       "-beta**4*(-alpha*theta + beta*c*theta - c + w)**2/(4*(beta*theta - 1)**6)"
      ]
     },
     "metadata": {},
     "output_type": "display_data"
    },
    {
     "name": "stdout",
     "output_type": "stream",
     "text": [
      "\n"
     ]
    }
   ],
   "source": [
    "for key,value in ND_all[\"QD\"].items():\n",
    "    print(key)\n",
    "    try:\n",
    "        display(value.factor())\n",
    "    except:\n",
    "        display(value)\n",
    "    print()"
   ]
  },
  {
   "cell_type": "code",
   "execution_count": null,
   "metadata": {},
   "outputs": [],
   "source": []
  },
  {
   "cell_type": "markdown",
   "metadata": {},
   "source": [
    "# DD"
   ]
  },
  {
   "cell_type": "code",
   "execution_count": 26,
   "metadata": {
    "scrolled": true
   },
   "outputs": [
    {
     "name": "stdout",
     "output_type": "stream",
     "text": [
      "p\n"
     ]
    },
    {
     "data": {
      "text/latex": [
       "$\\displaystyle \\frac{\\alpha + \\beta c}{2 \\beta}$"
      ],
      "text/plain": [
       "(alpha + beta*c)/(2*beta)"
      ]
     },
     "metadata": {},
     "output_type": "display_data"
    },
    {
     "name": "stdout",
     "output_type": "stream",
     "text": [
      "\n",
      "q\n"
     ]
    },
    {
     "data": {
      "text/latex": [
       "$\\displaystyle - \\frac{- \\alpha + \\beta c}{2}$"
      ],
      "text/plain": [
       "-(-alpha + beta*c)/2"
      ]
     },
     "metadata": {},
     "output_type": "display_data"
    },
    {
     "name": "stdout",
     "output_type": "stream",
     "text": [
      "\n",
      "D\n"
     ]
    },
    {
     "data": {
      "text/latex": [
       "$\\displaystyle - \\frac{\\delta_{d} \\left(- \\alpha + \\beta c\\right)}{2}$"
      ],
      "text/plain": [
       "-delta_d*(-alpha + beta*c)/2"
      ]
     },
     "metadata": {},
     "output_type": "display_data"
    },
    {
     "name": "stdout",
     "output_type": "stream",
     "text": [
      "\n",
      "pro_all\n"
     ]
    },
    {
     "data": {
      "text/latex": [
       "$\\displaystyle \\frac{\\delta_{d} \\left(- \\alpha + \\beta c\\right)^{2}}{4 \\beta}$"
      ],
      "text/plain": [
       "delta_d*(-alpha + beta*c)**2/(4*beta)"
      ]
     },
     "metadata": {},
     "output_type": "display_data"
    },
    {
     "name": "stdout",
     "output_type": "stream",
     "text": [
      "\n",
      "h1\n"
     ]
    },
    {
     "data": {
      "text/latex": [
       "$\\displaystyle - 2 \\beta \\delta_{d}$"
      ],
      "text/plain": [
       "-2*beta*delta_d"
      ]
     },
     "metadata": {},
     "output_type": "display_data"
    },
    {
     "name": "stdout",
     "output_type": "stream",
     "text": [
      "\n",
      "w\n"
     ]
    },
    {
     "data": {
      "text/plain": [
       "nan"
      ]
     },
     "metadata": {},
     "output_type": "display_data"
    },
    {
     "name": "stdout",
     "output_type": "stream",
     "text": [
      "\n",
      "p_w\n"
     ]
    },
    {
     "data": {
      "text/plain": [
       "nan"
      ]
     },
     "metadata": {},
     "output_type": "display_data"
    },
    {
     "name": "stdout",
     "output_type": "stream",
     "text": [
      "\n",
      "S\n"
     ]
    },
    {
     "data": {
      "text/plain": [
       "nan"
      ]
     },
     "metadata": {},
     "output_type": "display_data"
    },
    {
     "name": "stdout",
     "output_type": "stream",
     "text": [
      "\n",
      "T\n"
     ]
    },
    {
     "data": {
      "text/plain": [
       "nan"
      ]
     },
     "metadata": {},
     "output_type": "display_data"
    },
    {
     "name": "stdout",
     "output_type": "stream",
     "text": [
      "\n",
      "pro_r\n"
     ]
    },
    {
     "data": {
      "text/plain": [
       "nan"
      ]
     },
     "metadata": {},
     "output_type": "display_data"
    },
    {
     "name": "stdout",
     "output_type": "stream",
     "text": [
      "\n",
      "pro_s\n"
     ]
    },
    {
     "data": {
      "text/plain": [
       "nan"
      ]
     },
     "metadata": {},
     "output_type": "display_data"
    },
    {
     "name": "stdout",
     "output_type": "stream",
     "text": [
      "\n",
      "h1_r_p\n"
     ]
    },
    {
     "data": {
      "text/plain": [
       "nan"
      ]
     },
     "metadata": {},
     "output_type": "display_data"
    },
    {
     "name": "stdout",
     "output_type": "stream",
     "text": [
      "\n",
      "h1_s_w\n"
     ]
    },
    {
     "data": {
      "text/plain": [
       "nan"
      ]
     },
     "metadata": {},
     "output_type": "display_data"
    },
    {
     "name": "stdout",
     "output_type": "stream",
     "text": [
      "\n",
      "theta\n"
     ]
    },
    {
     "data": {
      "text/plain": [
       "nan"
      ]
     },
     "metadata": {},
     "output_type": "display_data"
    },
    {
     "name": "stdout",
     "output_type": "stream",
     "text": [
      "\n",
      "p_w_theta\n"
     ]
    },
    {
     "data": {
      "text/plain": [
       "nan"
      ]
     },
     "metadata": {},
     "output_type": "display_data"
    },
    {
     "name": "stdout",
     "output_type": "stream",
     "text": [
      "\n",
      "h1_s_th\n"
     ]
    },
    {
     "data": {
      "text/plain": [
       "nan"
      ]
     },
     "metadata": {},
     "output_type": "display_data"
    },
    {
     "name": "stdout",
     "output_type": "stream",
     "text": [
      "\n",
      "h2_s\n"
     ]
    },
    {
     "data": {
      "text/plain": [
       "nan"
      ]
     },
     "metadata": {},
     "output_type": "display_data"
    },
    {
     "name": "stdout",
     "output_type": "stream",
     "text": [
      "\n"
     ]
    }
   ],
   "source": [
    "for key,value in DD_all[\"FB\"].items():\n",
    "    print(key)\n",
    "    try:\n",
    "        display(value.factor())\n",
    "    except:\n",
    "        display(value)\n",
    "    print()"
   ]
  },
  {
   "cell_type": "code",
   "execution_count": 27,
   "metadata": {
    "scrolled": true
   },
   "outputs": [
    {
     "name": "stdout",
     "output_type": "stream",
     "text": [
      "p\n"
     ]
    },
    {
     "data": {
      "text/latex": [
       "$\\displaystyle \\frac{3 \\alpha \\delta_{d} + \\beta c - \\beta \\delta_{d} \\lambda + \\beta \\lambda}{4 \\beta \\delta_{d}}$"
      ],
      "text/plain": [
       "(3*alpha*delta_d + beta*c - beta*delta_d*lambda + beta*lambda)/(4*beta*delta_d)"
      ]
     },
     "metadata": {},
     "output_type": "display_data"
    },
    {
     "name": "stdout",
     "output_type": "stream",
     "text": [
      "\n",
      "q\n"
     ]
    },
    {
     "data": {
      "text/latex": [
       "$\\displaystyle - \\frac{- \\alpha \\delta_{d} + \\beta c - \\beta \\delta_{d} \\lambda + \\beta \\lambda}{4 \\delta_{d}}$"
      ],
      "text/plain": [
       "-(-alpha*delta_d + beta*c - beta*delta_d*lambda + beta*lambda)/(4*delta_d)"
      ]
     },
     "metadata": {},
     "output_type": "display_data"
    },
    {
     "name": "stdout",
     "output_type": "stream",
     "text": [
      "\n",
      "D\n"
     ]
    },
    {
     "data": {
      "text/latex": [
       "$\\displaystyle - \\frac{- \\alpha \\delta_{d} + \\beta c - \\beta \\delta_{d} \\lambda + \\beta \\lambda}{4}$"
      ],
      "text/plain": [
       "-(-alpha*delta_d + beta*c - beta*delta_d*lambda + beta*lambda)/4"
      ]
     },
     "metadata": {},
     "output_type": "display_data"
    },
    {
     "name": "stdout",
     "output_type": "stream",
     "text": [
      "\n",
      "pro_all\n"
     ]
    },
    {
     "data": {
      "text/latex": [
       "$\\displaystyle \\frac{3 \\left(- \\alpha \\delta_{d} + \\beta c - \\beta \\delta_{d} \\lambda + \\beta \\lambda\\right)^{2}}{16 \\beta \\delta_{d}}$"
      ],
      "text/plain": [
       "3*(-alpha*delta_d + beta*c - beta*delta_d*lambda + beta*lambda)**2/(16*beta*delta_d)"
      ]
     },
     "metadata": {},
     "output_type": "display_data"
    },
    {
     "name": "stdout",
     "output_type": "stream",
     "text": [
      "\n",
      "h1\n"
     ]
    },
    {
     "data": {
      "text/plain": [
       "nan"
      ]
     },
     "metadata": {},
     "output_type": "display_data"
    },
    {
     "name": "stdout",
     "output_type": "stream",
     "text": [
      "\n",
      "w\n"
     ]
    },
    {
     "data": {
      "text/latex": [
       "$\\displaystyle \\frac{\\alpha \\delta_{d} + \\beta c + \\beta \\delta_{d} \\lambda - \\beta \\lambda}{2 \\beta}$"
      ],
      "text/plain": [
       "(alpha*delta_d + beta*c + beta*delta_d*lambda - beta*lambda)/(2*beta)"
      ]
     },
     "metadata": {},
     "output_type": "display_data"
    },
    {
     "name": "stdout",
     "output_type": "stream",
     "text": [
      "\n",
      "p_w\n"
     ]
    },
    {
     "data": {
      "text/latex": [
       "$\\displaystyle \\frac{\\alpha \\delta_{d} - \\beta \\delta_{d} \\lambda + \\beta \\lambda + \\beta w}{2 \\beta \\delta_{d}}$"
      ],
      "text/plain": [
       "(alpha*delta_d - beta*delta_d*lambda + beta*lambda + beta*w)/(2*beta*delta_d)"
      ]
     },
     "metadata": {},
     "output_type": "display_data"
    },
    {
     "name": "stdout",
     "output_type": "stream",
     "text": [
      "\n",
      "S\n"
     ]
    },
    {
     "data": {
      "text/latex": [
       "$\\displaystyle - \\frac{- \\alpha \\delta_{d} + \\beta c - \\beta \\delta_{d} \\lambda + \\beta \\lambda}{4 \\delta_{d}}$"
      ],
      "text/plain": [
       "-(-alpha*delta_d + beta*c - beta*delta_d*lambda + beta*lambda)/(4*delta_d)"
      ]
     },
     "metadata": {},
     "output_type": "display_data"
    },
    {
     "name": "stdout",
     "output_type": "stream",
     "text": [
      "\n",
      "T\n"
     ]
    },
    {
     "data": {
      "text/latex": [
       "$\\displaystyle \\frac{\\alpha \\delta_{d} + \\beta c + \\beta \\delta_{d} \\lambda - \\beta \\lambda}{2 \\beta}$"
      ],
      "text/plain": [
       "(alpha*delta_d + beta*c + beta*delta_d*lambda - beta*lambda)/(2*beta)"
      ]
     },
     "metadata": {},
     "output_type": "display_data"
    },
    {
     "name": "stdout",
     "output_type": "stream",
     "text": [
      "\n",
      "pro_r\n"
     ]
    },
    {
     "data": {
      "text/latex": [
       "$\\displaystyle \\frac{\\left(- \\alpha \\delta_{d} + \\beta c - \\beta \\delta_{d} \\lambda + \\beta \\lambda\\right)^{2}}{16 \\beta \\delta_{d}}$"
      ],
      "text/plain": [
       "(-alpha*delta_d + beta*c - beta*delta_d*lambda + beta*lambda)**2/(16*beta*delta_d)"
      ]
     },
     "metadata": {},
     "output_type": "display_data"
    },
    {
     "name": "stdout",
     "output_type": "stream",
     "text": [
      "\n",
      "pro_s\n"
     ]
    },
    {
     "data": {
      "text/latex": [
       "$\\displaystyle \\frac{\\left(- \\alpha \\delta_{d} + \\beta c - \\beta \\delta_{d} \\lambda + \\beta \\lambda\\right)^{2}}{8 \\beta \\delta_{d}}$"
      ],
      "text/plain": [
       "(-alpha*delta_d + beta*c - beta*delta_d*lambda + beta*lambda)**2/(8*beta*delta_d)"
      ]
     },
     "metadata": {},
     "output_type": "display_data"
    },
    {
     "name": "stdout",
     "output_type": "stream",
     "text": [
      "\n",
      "h1_r_p\n"
     ]
    },
    {
     "data": {
      "text/latex": [
       "$\\displaystyle - 2 \\beta \\delta_{d}$"
      ],
      "text/plain": [
       "-2*beta*delta_d"
      ]
     },
     "metadata": {},
     "output_type": "display_data"
    },
    {
     "name": "stdout",
     "output_type": "stream",
     "text": [
      "\n",
      "h1_s_w\n"
     ]
    },
    {
     "data": {
      "text/latex": [
       "$\\displaystyle - \\frac{\\beta}{\\delta_{d}}$"
      ],
      "text/plain": [
       "-beta/delta_d"
      ]
     },
     "metadata": {},
     "output_type": "display_data"
    },
    {
     "name": "stdout",
     "output_type": "stream",
     "text": [
      "\n",
      "theta\n"
     ]
    },
    {
     "data": {
      "text/plain": [
       "nan"
      ]
     },
     "metadata": {},
     "output_type": "display_data"
    },
    {
     "name": "stdout",
     "output_type": "stream",
     "text": [
      "\n",
      "p_w_theta\n"
     ]
    },
    {
     "data": {
      "text/plain": [
       "nan"
      ]
     },
     "metadata": {},
     "output_type": "display_data"
    },
    {
     "name": "stdout",
     "output_type": "stream",
     "text": [
      "\n",
      "h1_s_th\n"
     ]
    },
    {
     "data": {
      "text/plain": [
       "nan"
      ]
     },
     "metadata": {},
     "output_type": "display_data"
    },
    {
     "name": "stdout",
     "output_type": "stream",
     "text": [
      "\n",
      "h2_s\n"
     ]
    },
    {
     "data": {
      "text/plain": [
       "nan"
      ]
     },
     "metadata": {},
     "output_type": "display_data"
    },
    {
     "name": "stdout",
     "output_type": "stream",
     "text": [
      "\n"
     ]
    }
   ],
   "source": [
    "for key,value in DD_all[\"WH\"].items():\n",
    "    print(key)\n",
    "    try:\n",
    "        display(value.factor())\n",
    "    except:\n",
    "        display(value)\n",
    "    print()"
   ]
  },
  {
   "cell_type": "code",
   "execution_count": 28,
   "metadata": {
    "scrolled": true
   },
   "outputs": [
    {
     "name": "stdout",
     "output_type": "stream",
     "text": [
      "p\n"
     ]
    },
    {
     "data": {
      "text/latex": [
       "$\\displaystyle - \\frac{- 3 \\alpha \\delta_{d} - 2 \\beta c + \\beta \\delta_{d} \\lambda - \\beta \\lambda + \\beta w}{4 \\beta \\delta_{d}}$"
      ],
      "text/plain": [
       "-(-3*alpha*delta_d - 2*beta*c + beta*delta_d*lambda - beta*lambda + beta*w)/(4*beta*delta_d)"
      ]
     },
     "metadata": {},
     "output_type": "display_data"
    },
    {
     "name": "stdout",
     "output_type": "stream",
     "text": [
      "\n",
      "q\n"
     ]
    },
    {
     "data": {
      "text/latex": [
       "$\\displaystyle \\frac{\\alpha \\delta_{d} - 2 \\beta c + \\beta \\delta_{d} \\lambda - \\beta \\lambda + \\beta w}{4 \\delta_{d}}$"
      ],
      "text/plain": [
       "(alpha*delta_d - 2*beta*c + beta*delta_d*lambda - beta*lambda + beta*w)/(4*delta_d)"
      ]
     },
     "metadata": {},
     "output_type": "display_data"
    },
    {
     "name": "stdout",
     "output_type": "stream",
     "text": [
      "\n",
      "D\n"
     ]
    },
    {
     "data": {
      "text/latex": [
       "$\\displaystyle \\frac{\\alpha \\delta_{d} - 2 \\beta c + \\beta \\delta_{d} \\lambda - \\beta \\lambda + \\beta w}{4}$"
      ],
      "text/plain": [
       "(alpha*delta_d - 2*beta*c + beta*delta_d*lambda - beta*lambda + beta*w)/4"
      ]
     },
     "metadata": {},
     "output_type": "display_data"
    },
    {
     "name": "stdout",
     "output_type": "stream",
     "text": [
      "\n",
      "pro_all\n"
     ]
    },
    {
     "data": {
      "text/latex": [
       "$\\displaystyle - \\frac{\\left(- 3 \\alpha \\delta_{d} + 2 \\beta c - 3 \\beta \\delta_{d} \\lambda + 3 \\beta \\lambda + \\beta w\\right) \\left(\\alpha \\delta_{d} - 2 \\beta c + \\beta \\delta_{d} \\lambda - \\beta \\lambda + \\beta w\\right)}{16 \\beta \\delta_{d}}$"
      ],
      "text/plain": [
       "-(-3*alpha*delta_d + 2*beta*c - 3*beta*delta_d*lambda + 3*beta*lambda + beta*w)*(alpha*delta_d - 2*beta*c + beta*delta_d*lambda - beta*lambda + beta*w)/(16*beta*delta_d)"
      ]
     },
     "metadata": {},
     "output_type": "display_data"
    },
    {
     "name": "stdout",
     "output_type": "stream",
     "text": [
      "\n",
      "h1\n"
     ]
    },
    {
     "data": {
      "text/plain": [
       "nan"
      ]
     },
     "metadata": {},
     "output_type": "display_data"
    },
    {
     "name": "stdout",
     "output_type": "stream",
     "text": [
      "\n",
      "w\n"
     ]
    },
    {
     "data": {
      "text/latex": [
       "$\\displaystyle w$"
      ],
      "text/plain": [
       "w"
      ]
     },
     "metadata": {},
     "output_type": "display_data"
    },
    {
     "name": "stdout",
     "output_type": "stream",
     "text": [
      "\n",
      "p_w\n"
     ]
    },
    {
     "data": {
      "text/plain": [
       "nan"
      ]
     },
     "metadata": {},
     "output_type": "display_data"
    },
    {
     "name": "stdout",
     "output_type": "stream",
     "text": [
      "\n",
      "S\n"
     ]
    },
    {
     "data": {
      "text/latex": [
       "$\\displaystyle \\frac{\\alpha \\delta_{d} - 2 \\beta c + \\beta \\delta_{d} \\lambda - \\beta \\lambda + \\beta w}{4 \\delta_{d}}$"
      ],
      "text/plain": [
       "(alpha*delta_d - 2*beta*c + beta*delta_d*lambda - beta*lambda + beta*w)/(4*delta_d)"
      ]
     },
     "metadata": {},
     "output_type": "display_data"
    },
    {
     "name": "stdout",
     "output_type": "stream",
     "text": [
      "\n",
      "T\n"
     ]
    },
    {
     "data": {
      "text/latex": [
       "$\\displaystyle \\frac{\\alpha \\delta_{d} + 2 \\beta c + \\beta \\delta_{d} \\lambda - \\beta \\lambda + \\beta w}{4 \\beta}$"
      ],
      "text/plain": [
       "(alpha*delta_d + 2*beta*c + beta*delta_d*lambda - beta*lambda + beta*w)/(4*beta)"
      ]
     },
     "metadata": {},
     "output_type": "display_data"
    },
    {
     "name": "stdout",
     "output_type": "stream",
     "text": [
      "\n",
      "pro_r\n"
     ]
    },
    {
     "data": {
      "text/latex": [
       "$\\displaystyle - \\frac{\\left(- \\alpha \\delta_{d} - \\beta \\delta_{d} \\lambda + \\beta \\lambda + \\beta w\\right) \\left(\\alpha \\delta_{d} - 2 \\beta c + \\beta \\delta_{d} \\lambda - \\beta \\lambda + \\beta w\\right)}{8 \\beta \\delta_{d}}$"
      ],
      "text/plain": [
       "-(-alpha*delta_d - beta*delta_d*lambda + beta*lambda + beta*w)*(alpha*delta_d - 2*beta*c + beta*delta_d*lambda - beta*lambda + beta*w)/(8*beta*delta_d)"
      ]
     },
     "metadata": {},
     "output_type": "display_data"
    },
    {
     "name": "stdout",
     "output_type": "stream",
     "text": [
      "\n",
      "pro_s\n"
     ]
    },
    {
     "data": {
      "text/latex": [
       "$\\displaystyle \\frac{\\left(\\alpha \\delta_{d} - 2 \\beta c + \\beta \\delta_{d} \\lambda - \\beta \\lambda + \\beta w\\right)^{2}}{16 \\beta \\delta_{d}}$"
      ],
      "text/plain": [
       "(alpha*delta_d - 2*beta*c + beta*delta_d*lambda - beta*lambda + beta*w)**2/(16*beta*delta_d)"
      ]
     },
     "metadata": {},
     "output_type": "display_data"
    },
    {
     "name": "stdout",
     "output_type": "stream",
     "text": [
      "\n",
      "h1_r_p\n"
     ]
    },
    {
     "data": {
      "text/latex": [
       "$\\displaystyle 2 \\beta \\left(\\beta \\theta - \\delta_{d}\\right)$"
      ],
      "text/plain": [
       "2*beta*(beta*theta - delta_d)"
      ]
     },
     "metadata": {},
     "output_type": "display_data"
    },
    {
     "name": "stdout",
     "output_type": "stream",
     "text": [
      "\n",
      "h1_s_w\n"
     ]
    },
    {
     "data": {
      "text/latex": [
       "$\\displaystyle \\frac{\\beta \\left(\\beta \\theta - 2 \\delta_{d}\\right)}{2 \\left(\\beta \\theta - \\delta_{d}\\right)^{2}}$"
      ],
      "text/plain": [
       "beta*(beta*theta - 2*delta_d)/(2*(beta*theta - delta_d)**2)"
      ]
     },
     "metadata": {},
     "output_type": "display_data"
    },
    {
     "name": "stdout",
     "output_type": "stream",
     "text": [
      "\n",
      "theta\n"
     ]
    },
    {
     "data": {
      "text/latex": [
       "$\\displaystyle \\frac{\\delta_{d} \\left(- \\alpha \\delta_{d} - 2 \\beta c - \\beta \\delta_{d} \\lambda + \\beta \\lambda + 3 \\beta w\\right)}{\\beta \\left(\\alpha \\delta_{d} - 2 \\beta c + \\beta \\delta_{d} \\lambda - \\beta \\lambda + \\beta w\\right)}$"
      ],
      "text/plain": [
       "delta_d*(-alpha*delta_d - 2*beta*c - beta*delta_d*lambda + beta*lambda + 3*beta*w)/(beta*(alpha*delta_d - 2*beta*c + beta*delta_d*lambda - beta*lambda + beta*w))"
      ]
     },
     "metadata": {},
     "output_type": "display_data"
    },
    {
     "name": "stdout",
     "output_type": "stream",
     "text": [
      "\n",
      "p_w_theta\n"
     ]
    },
    {
     "data": {
      "text/latex": [
       "$\\displaystyle - \\frac{- 2 \\alpha \\beta \\theta + \\alpha \\delta_{d} - \\beta \\delta_{d} \\lambda + \\beta \\lambda + \\beta w}{2 \\beta \\left(\\beta \\theta - \\delta_{d}\\right)}$"
      ],
      "text/plain": [
       "-(-2*alpha*beta*theta + alpha*delta_d - beta*delta_d*lambda + beta*lambda + beta*w)/(2*beta*(beta*theta - delta_d))"
      ]
     },
     "metadata": {},
     "output_type": "display_data"
    },
    {
     "name": "stdout",
     "output_type": "stream",
     "text": [
      "\n",
      "h1_s_th\n"
     ]
    },
    {
     "data": {
      "text/latex": [
       "$\\displaystyle \\frac{\\beta \\left(- \\alpha \\delta_{d} - \\beta \\delta_{d} \\lambda + \\beta \\lambda + \\beta w\\right) \\left(\\alpha \\beta \\delta_{d} \\theta + 2 \\alpha \\delta_{d}^{2} - 2 \\beta^{2} c \\theta + \\beta^{2} \\delta_{d} \\lambda \\theta - \\beta^{2} \\lambda \\theta + \\beta^{2} \\theta w + 2 \\beta c \\delta_{d} + 2 \\beta \\delta_{d}^{2} \\lambda - 2 \\beta \\delta_{d} \\lambda - 4 \\beta \\delta_{d} w\\right)}{2 \\left(\\beta \\theta - \\delta_{d}\\right)^{4}}$"
      ],
      "text/plain": [
       "beta*(-alpha*delta_d - beta*delta_d*lambda + beta*lambda + beta*w)*(alpha*beta*delta_d*theta + 2*alpha*delta_d**2 - 2*beta**2*c*theta + beta**2*delta_d*lambda*theta - beta**2*lambda*theta + beta**2*theta*w + 2*beta*c*delta_d + 2*beta*delta_d**2*lambda - 2*beta*delta_d*lambda - 4*beta*delta_d*w)/(2*(beta*theta - delta_d)**4)"
      ]
     },
     "metadata": {},
     "output_type": "display_data"
    },
    {
     "name": "stdout",
     "output_type": "stream",
     "text": [
      "\n",
      "h2_s\n"
     ]
    },
    {
     "data": {
      "text/latex": [
       "$\\displaystyle - \\frac{\\beta^{4} \\left(- \\alpha \\delta_{d} \\theta + \\beta c \\theta - \\beta \\delta_{d} \\lambda \\theta + \\beta \\lambda \\theta - c \\delta_{d} + \\delta_{d} w\\right)^{2}}{4 \\left(\\beta \\theta - \\delta_{d}\\right)^{6}}$"
      ],
      "text/plain": [
       "-beta**4*(-alpha*delta_d*theta + beta*c*theta - beta*delta_d*lambda*theta + beta*lambda*theta - c*delta_d + delta_d*w)**2/(4*(beta*theta - delta_d)**6)"
      ]
     },
     "metadata": {},
     "output_type": "display_data"
    },
    {
     "name": "stdout",
     "output_type": "stream",
     "text": [
      "\n"
     ]
    }
   ],
   "source": [
    "for key,value in DD_all[\"QD\"].items():\n",
    "    print(key)\n",
    "    try:\n",
    "        display(value.factor())\n",
    "    except:\n",
    "        display(value)\n",
    "    print()"
   ]
  },
  {
   "cell_type": "code",
   "execution_count": null,
   "metadata": {},
   "outputs": [],
   "source": []
  },
  {
   "cell_type": "markdown",
   "metadata": {},
   "source": [
    "# SD"
   ]
  },
  {
   "cell_type": "code",
   "execution_count": 29,
   "metadata": {
    "scrolled": true
   },
   "outputs": [
    {
     "name": "stdout",
     "output_type": "stream",
     "text": [
      "p\n"
     ]
    },
    {
     "data": {
      "text/latex": [
       "$\\displaystyle \\frac{\\alpha + \\beta c}{2 \\beta}$"
      ],
      "text/plain": [
       "(alpha + beta*c)/(2*beta)"
      ]
     },
     "metadata": {},
     "output_type": "display_data"
    },
    {
     "name": "stdout",
     "output_type": "stream",
     "text": [
      "\n",
      "q\n"
     ]
    },
    {
     "data": {
      "text/latex": [
       "$\\displaystyle - \\frac{- \\alpha + \\beta c}{2}$"
      ],
      "text/plain": [
       "-(-alpha + beta*c)/2"
      ]
     },
     "metadata": {},
     "output_type": "display_data"
    },
    {
     "name": "stdout",
     "output_type": "stream",
     "text": [
      "\n",
      "D\n"
     ]
    },
    {
     "data": {
      "text/latex": [
       "$\\displaystyle - \\frac{\\delta_{s} \\left(- \\alpha + \\beta c\\right)}{2}$"
      ],
      "text/plain": [
       "-delta_s*(-alpha + beta*c)/2"
      ]
     },
     "metadata": {},
     "output_type": "display_data"
    },
    {
     "name": "stdout",
     "output_type": "stream",
     "text": [
      "\n",
      "pro_all\n"
     ]
    },
    {
     "data": {
      "text/latex": [
       "$\\displaystyle \\frac{\\delta_{s} \\left(- \\alpha + \\beta c\\right)^{2}}{4 \\beta}$"
      ],
      "text/plain": [
       "delta_s*(-alpha + beta*c)**2/(4*beta)"
      ]
     },
     "metadata": {},
     "output_type": "display_data"
    },
    {
     "name": "stdout",
     "output_type": "stream",
     "text": [
      "\n",
      "h1\n"
     ]
    },
    {
     "data": {
      "text/latex": [
       "$\\displaystyle - 2 \\beta \\delta_{s}$"
      ],
      "text/plain": [
       "-2*beta*delta_s"
      ]
     },
     "metadata": {},
     "output_type": "display_data"
    },
    {
     "name": "stdout",
     "output_type": "stream",
     "text": [
      "\n",
      "w\n"
     ]
    },
    {
     "data": {
      "text/plain": [
       "nan"
      ]
     },
     "metadata": {},
     "output_type": "display_data"
    },
    {
     "name": "stdout",
     "output_type": "stream",
     "text": [
      "\n",
      "p_w\n"
     ]
    },
    {
     "data": {
      "text/plain": [
       "nan"
      ]
     },
     "metadata": {},
     "output_type": "display_data"
    },
    {
     "name": "stdout",
     "output_type": "stream",
     "text": [
      "\n",
      "S\n"
     ]
    },
    {
     "data": {
      "text/plain": [
       "nan"
      ]
     },
     "metadata": {},
     "output_type": "display_data"
    },
    {
     "name": "stdout",
     "output_type": "stream",
     "text": [
      "\n",
      "T\n"
     ]
    },
    {
     "data": {
      "text/plain": [
       "nan"
      ]
     },
     "metadata": {},
     "output_type": "display_data"
    },
    {
     "name": "stdout",
     "output_type": "stream",
     "text": [
      "\n",
      "pro_r\n"
     ]
    },
    {
     "data": {
      "text/plain": [
       "nan"
      ]
     },
     "metadata": {},
     "output_type": "display_data"
    },
    {
     "name": "stdout",
     "output_type": "stream",
     "text": [
      "\n",
      "pro_s\n"
     ]
    },
    {
     "data": {
      "text/plain": [
       "nan"
      ]
     },
     "metadata": {},
     "output_type": "display_data"
    },
    {
     "name": "stdout",
     "output_type": "stream",
     "text": [
      "\n",
      "h1_r_p\n"
     ]
    },
    {
     "data": {
      "text/plain": [
       "nan"
      ]
     },
     "metadata": {},
     "output_type": "display_data"
    },
    {
     "name": "stdout",
     "output_type": "stream",
     "text": [
      "\n",
      "h1_s_w\n"
     ]
    },
    {
     "data": {
      "text/plain": [
       "nan"
      ]
     },
     "metadata": {},
     "output_type": "display_data"
    },
    {
     "name": "stdout",
     "output_type": "stream",
     "text": [
      "\n",
      "theta\n"
     ]
    },
    {
     "data": {
      "text/plain": [
       "nan"
      ]
     },
     "metadata": {},
     "output_type": "display_data"
    },
    {
     "name": "stdout",
     "output_type": "stream",
     "text": [
      "\n",
      "p_w_theta\n"
     ]
    },
    {
     "data": {
      "text/plain": [
       "nan"
      ]
     },
     "metadata": {},
     "output_type": "display_data"
    },
    {
     "name": "stdout",
     "output_type": "stream",
     "text": [
      "\n",
      "h1_s_th\n"
     ]
    },
    {
     "data": {
      "text/plain": [
       "nan"
      ]
     },
     "metadata": {},
     "output_type": "display_data"
    },
    {
     "name": "stdout",
     "output_type": "stream",
     "text": [
      "\n",
      "h2_s\n"
     ]
    },
    {
     "data": {
      "text/plain": [
       "nan"
      ]
     },
     "metadata": {},
     "output_type": "display_data"
    },
    {
     "name": "stdout",
     "output_type": "stream",
     "text": [
      "\n"
     ]
    }
   ],
   "source": [
    "for key,value in SD_all[\"FB\"].items():\n",
    "    print(key)\n",
    "    try:\n",
    "        display(value.factor())\n",
    "    except:\n",
    "        display(value)\n",
    "    print()"
   ]
  },
  {
   "cell_type": "code",
   "execution_count": 30,
   "metadata": {
    "scrolled": true
   },
   "outputs": [
    {
     "name": "stdout",
     "output_type": "stream",
     "text": [
      "p\n"
     ]
    },
    {
     "data": {
      "text/latex": [
       "$\\displaystyle \\frac{3 \\alpha + \\beta c}{4 \\beta}$"
      ],
      "text/plain": [
       "(3*alpha + beta*c)/(4*beta)"
      ]
     },
     "metadata": {},
     "output_type": "display_data"
    },
    {
     "name": "stdout",
     "output_type": "stream",
     "text": [
      "\n",
      "q\n"
     ]
    },
    {
     "data": {
      "text/latex": [
       "$\\displaystyle - \\frac{- \\alpha + \\beta c}{4}$"
      ],
      "text/plain": [
       "-(-alpha + beta*c)/4"
      ]
     },
     "metadata": {},
     "output_type": "display_data"
    },
    {
     "name": "stdout",
     "output_type": "stream",
     "text": [
      "\n",
      "D\n"
     ]
    },
    {
     "data": {
      "text/latex": [
       "$\\displaystyle - \\frac{\\delta_{s} \\left(- \\alpha + \\beta c\\right)}{4}$"
      ],
      "text/plain": [
       "-delta_s*(-alpha + beta*c)/4"
      ]
     },
     "metadata": {},
     "output_type": "display_data"
    },
    {
     "name": "stdout",
     "output_type": "stream",
     "text": [
      "\n",
      "pro_all\n"
     ]
    },
    {
     "data": {
      "text/latex": [
       "$\\displaystyle \\frac{3 \\delta_{s} \\left(- \\alpha + \\beta c\\right)^{2}}{16 \\beta}$"
      ],
      "text/plain": [
       "3*delta_s*(-alpha + beta*c)**2/(16*beta)"
      ]
     },
     "metadata": {},
     "output_type": "display_data"
    },
    {
     "name": "stdout",
     "output_type": "stream",
     "text": [
      "\n",
      "h1\n"
     ]
    },
    {
     "data": {
      "text/plain": [
       "nan"
      ]
     },
     "metadata": {},
     "output_type": "display_data"
    },
    {
     "name": "stdout",
     "output_type": "stream",
     "text": [
      "\n",
      "w\n"
     ]
    },
    {
     "data": {
      "text/latex": [
       "$\\displaystyle \\frac{\\alpha + \\beta c}{2 \\beta}$"
      ],
      "text/plain": [
       "(alpha + beta*c)/(2*beta)"
      ]
     },
     "metadata": {},
     "output_type": "display_data"
    },
    {
     "name": "stdout",
     "output_type": "stream",
     "text": [
      "\n",
      "p_w\n"
     ]
    },
    {
     "data": {
      "text/latex": [
       "$\\displaystyle \\frac{\\alpha + \\beta w}{2 \\beta}$"
      ],
      "text/plain": [
       "(alpha + beta*w)/(2*beta)"
      ]
     },
     "metadata": {},
     "output_type": "display_data"
    },
    {
     "name": "stdout",
     "output_type": "stream",
     "text": [
      "\n",
      "S\n"
     ]
    },
    {
     "data": {
      "text/latex": [
       "$\\displaystyle - \\frac{\\delta_{s} \\left(- \\alpha + \\beta c\\right)}{4}$"
      ],
      "text/plain": [
       "-delta_s*(-alpha + beta*c)/4"
      ]
     },
     "metadata": {},
     "output_type": "display_data"
    },
    {
     "name": "stdout",
     "output_type": "stream",
     "text": [
      "\n",
      "T\n"
     ]
    },
    {
     "data": {
      "text/latex": [
       "$\\displaystyle \\frac{\\alpha + \\beta c}{2 \\beta}$"
      ],
      "text/plain": [
       "(alpha + beta*c)/(2*beta)"
      ]
     },
     "metadata": {},
     "output_type": "display_data"
    },
    {
     "name": "stdout",
     "output_type": "stream",
     "text": [
      "\n",
      "pro_r\n"
     ]
    },
    {
     "data": {
      "text/latex": [
       "$\\displaystyle \\frac{\\delta_{s} \\left(- \\alpha + \\beta c\\right)^{2}}{16 \\beta}$"
      ],
      "text/plain": [
       "delta_s*(-alpha + beta*c)**2/(16*beta)"
      ]
     },
     "metadata": {},
     "output_type": "display_data"
    },
    {
     "name": "stdout",
     "output_type": "stream",
     "text": [
      "\n",
      "pro_s\n"
     ]
    },
    {
     "data": {
      "text/latex": [
       "$\\displaystyle \\frac{\\delta_{s} \\left(- \\alpha + \\beta c\\right)^{2}}{8 \\beta}$"
      ],
      "text/plain": [
       "delta_s*(-alpha + beta*c)**2/(8*beta)"
      ]
     },
     "metadata": {},
     "output_type": "display_data"
    },
    {
     "name": "stdout",
     "output_type": "stream",
     "text": [
      "\n",
      "h1_r_p\n"
     ]
    },
    {
     "data": {
      "text/latex": [
       "$\\displaystyle - 2 \\beta \\delta_{s}$"
      ],
      "text/plain": [
       "-2*beta*delta_s"
      ]
     },
     "metadata": {},
     "output_type": "display_data"
    },
    {
     "name": "stdout",
     "output_type": "stream",
     "text": [
      "\n",
      "h1_s_w\n"
     ]
    },
    {
     "data": {
      "text/latex": [
       "$\\displaystyle - \\beta \\delta_{s}$"
      ],
      "text/plain": [
       "-beta*delta_s"
      ]
     },
     "metadata": {},
     "output_type": "display_data"
    },
    {
     "name": "stdout",
     "output_type": "stream",
     "text": [
      "\n",
      "theta\n"
     ]
    },
    {
     "data": {
      "text/plain": [
       "nan"
      ]
     },
     "metadata": {},
     "output_type": "display_data"
    },
    {
     "name": "stdout",
     "output_type": "stream",
     "text": [
      "\n",
      "p_w_theta\n"
     ]
    },
    {
     "data": {
      "text/plain": [
       "nan"
      ]
     },
     "metadata": {},
     "output_type": "display_data"
    },
    {
     "name": "stdout",
     "output_type": "stream",
     "text": [
      "\n",
      "h1_s_th\n"
     ]
    },
    {
     "data": {
      "text/plain": [
       "nan"
      ]
     },
     "metadata": {},
     "output_type": "display_data"
    },
    {
     "name": "stdout",
     "output_type": "stream",
     "text": [
      "\n",
      "h2_s\n"
     ]
    },
    {
     "data": {
      "text/plain": [
       "nan"
      ]
     },
     "metadata": {},
     "output_type": "display_data"
    },
    {
     "name": "stdout",
     "output_type": "stream",
     "text": [
      "\n"
     ]
    }
   ],
   "source": [
    "for key,value in SD_all[\"WH\"].items():\n",
    "    print(key)\n",
    "    try:\n",
    "        display(value.factor())\n",
    "    except:\n",
    "        display(value)\n",
    "    print()"
   ]
  },
  {
   "cell_type": "code",
   "execution_count": 31,
   "metadata": {
    "scrolled": true
   },
   "outputs": [
    {
     "name": "stdout",
     "output_type": "stream",
     "text": [
      "p\n"
     ]
    },
    {
     "data": {
      "text/latex": [
       "$\\displaystyle - \\frac{- 3 \\alpha - 2 \\beta c + \\beta w}{4 \\beta}$"
      ],
      "text/plain": [
       "-(-3*alpha - 2*beta*c + beta*w)/(4*beta)"
      ]
     },
     "metadata": {},
     "output_type": "display_data"
    },
    {
     "name": "stdout",
     "output_type": "stream",
     "text": [
      "\n",
      "q\n"
     ]
    },
    {
     "data": {
      "text/latex": [
       "$\\displaystyle \\frac{\\alpha - 2 \\beta c + \\beta w}{4}$"
      ],
      "text/plain": [
       "(alpha - 2*beta*c + beta*w)/4"
      ]
     },
     "metadata": {},
     "output_type": "display_data"
    },
    {
     "name": "stdout",
     "output_type": "stream",
     "text": [
      "\n",
      "D\n"
     ]
    },
    {
     "data": {
      "text/latex": [
       "$\\displaystyle \\frac{\\delta_{s} \\left(\\alpha - 2 \\beta c + \\beta w\\right)}{4}$"
      ],
      "text/plain": [
       "delta_s*(alpha - 2*beta*c + beta*w)/4"
      ]
     },
     "metadata": {},
     "output_type": "display_data"
    },
    {
     "name": "stdout",
     "output_type": "stream",
     "text": [
      "\n",
      "pro_all\n"
     ]
    },
    {
     "data": {
      "text/latex": [
       "$\\displaystyle - \\frac{\\delta_{s} \\left(- 3 \\alpha + 2 \\beta c + \\beta w\\right) \\left(\\alpha - 2 \\beta c + \\beta w\\right)}{16 \\beta}$"
      ],
      "text/plain": [
       "-delta_s*(-3*alpha + 2*beta*c + beta*w)*(alpha - 2*beta*c + beta*w)/(16*beta)"
      ]
     },
     "metadata": {},
     "output_type": "display_data"
    },
    {
     "name": "stdout",
     "output_type": "stream",
     "text": [
      "\n",
      "h1\n"
     ]
    },
    {
     "data": {
      "text/plain": [
       "nan"
      ]
     },
     "metadata": {},
     "output_type": "display_data"
    },
    {
     "name": "stdout",
     "output_type": "stream",
     "text": [
      "\n",
      "w\n"
     ]
    },
    {
     "data": {
      "text/latex": [
       "$\\displaystyle w$"
      ],
      "text/plain": [
       "w"
      ]
     },
     "metadata": {},
     "output_type": "display_data"
    },
    {
     "name": "stdout",
     "output_type": "stream",
     "text": [
      "\n",
      "p_w\n"
     ]
    },
    {
     "data": {
      "text/plain": [
       "nan"
      ]
     },
     "metadata": {},
     "output_type": "display_data"
    },
    {
     "name": "stdout",
     "output_type": "stream",
     "text": [
      "\n",
      "S\n"
     ]
    },
    {
     "data": {
      "text/latex": [
       "$\\displaystyle \\frac{\\delta_{s} \\left(\\alpha - 2 \\beta c + \\beta w\\right)}{4}$"
      ],
      "text/plain": [
       "delta_s*(alpha - 2*beta*c + beta*w)/4"
      ]
     },
     "metadata": {},
     "output_type": "display_data"
    },
    {
     "name": "stdout",
     "output_type": "stream",
     "text": [
      "\n",
      "T\n"
     ]
    },
    {
     "data": {
      "text/latex": [
       "$\\displaystyle \\frac{\\alpha + 2 \\beta c + \\beta w}{4 \\beta}$"
      ],
      "text/plain": [
       "(alpha + 2*beta*c + beta*w)/(4*beta)"
      ]
     },
     "metadata": {},
     "output_type": "display_data"
    },
    {
     "name": "stdout",
     "output_type": "stream",
     "text": [
      "\n",
      "pro_r\n"
     ]
    },
    {
     "data": {
      "text/latex": [
       "$\\displaystyle - \\frac{\\delta_{s} \\left(- \\alpha + \\beta w\\right) \\left(\\alpha - 2 \\beta c + \\beta w\\right)}{8 \\beta}$"
      ],
      "text/plain": [
       "-delta_s*(-alpha + beta*w)*(alpha - 2*beta*c + beta*w)/(8*beta)"
      ]
     },
     "metadata": {},
     "output_type": "display_data"
    },
    {
     "name": "stdout",
     "output_type": "stream",
     "text": [
      "\n",
      "pro_s\n"
     ]
    },
    {
     "data": {
      "text/latex": [
       "$\\displaystyle \\frac{\\delta_{s} \\left(\\alpha - 2 \\beta c + \\beta w\\right)^{2}}{16 \\beta}$"
      ],
      "text/plain": [
       "delta_s*(alpha - 2*beta*c + beta*w)**2/(16*beta)"
      ]
     },
     "metadata": {},
     "output_type": "display_data"
    },
    {
     "name": "stdout",
     "output_type": "stream",
     "text": [
      "\n",
      "h1_r_p\n"
     ]
    },
    {
     "data": {
      "text/latex": [
       "$\\displaystyle 2 \\beta \\delta_{s} \\left(\\beta \\delta_{s} \\theta - 1\\right)$"
      ],
      "text/plain": [
       "2*beta*delta_s*(beta*delta_s*theta - 1)"
      ]
     },
     "metadata": {},
     "output_type": "display_data"
    },
    {
     "name": "stdout",
     "output_type": "stream",
     "text": [
      "\n",
      "h1_s_w\n"
     ]
    },
    {
     "data": {
      "text/latex": [
       "$\\displaystyle \\frac{\\beta \\delta_{s} \\left(\\beta \\delta_{s} \\theta - 2\\right)}{2 \\left(\\beta \\delta_{s} \\theta - 1\\right)^{2}}$"
      ],
      "text/plain": [
       "beta*delta_s*(beta*delta_s*theta - 2)/(2*(beta*delta_s*theta - 1)**2)"
      ]
     },
     "metadata": {},
     "output_type": "display_data"
    },
    {
     "name": "stdout",
     "output_type": "stream",
     "text": [
      "\n",
      "theta\n"
     ]
    },
    {
     "data": {
      "text/latex": [
       "$\\displaystyle \\frac{- \\alpha - 2 \\beta c + 3 \\beta w}{\\beta \\delta_{s} \\left(\\alpha - 2 \\beta c + \\beta w\\right)}$"
      ],
      "text/plain": [
       "(-alpha - 2*beta*c + 3*beta*w)/(beta*delta_s*(alpha - 2*beta*c + beta*w))"
      ]
     },
     "metadata": {},
     "output_type": "display_data"
    },
    {
     "name": "stdout",
     "output_type": "stream",
     "text": [
      "\n",
      "p_w_theta\n"
     ]
    },
    {
     "data": {
      "text/latex": [
       "$\\displaystyle - \\frac{- 2 \\alpha \\beta \\delta_{s} \\theta + \\alpha + \\beta w}{2 \\beta \\left(\\beta \\delta_{s} \\theta - 1\\right)}$"
      ],
      "text/plain": [
       "-(-2*alpha*beta*delta_s*theta + alpha + beta*w)/(2*beta*(beta*delta_s*theta - 1))"
      ]
     },
     "metadata": {},
     "output_type": "display_data"
    },
    {
     "name": "stdout",
     "output_type": "stream",
     "text": [
      "\n",
      "h1_s_th\n"
     ]
    },
    {
     "data": {
      "text/latex": [
       "$\\displaystyle \\frac{\\beta \\delta_{s}^{3} \\left(- \\alpha + \\beta w\\right) \\left(\\alpha \\beta \\delta_{s} \\theta + 2 \\alpha - 2 \\beta^{2} c \\delta_{s} \\theta + \\beta^{2} \\delta_{s} \\theta w + 2 \\beta c - 4 \\beta w\\right)}{2 \\left(\\beta \\delta_{s} \\theta - 1\\right)^{4}}$"
      ],
      "text/plain": [
       "beta*delta_s**3*(-alpha + beta*w)*(alpha*beta*delta_s*theta + 2*alpha - 2*beta**2*c*delta_s*theta + beta**2*delta_s*theta*w + 2*beta*c - 4*beta*w)/(2*(beta*delta_s*theta - 1)**4)"
      ]
     },
     "metadata": {},
     "output_type": "display_data"
    },
    {
     "name": "stdout",
     "output_type": "stream",
     "text": [
      "\n",
      "h2_s\n"
     ]
    },
    {
     "data": {
      "text/latex": [
       "$\\displaystyle - \\frac{\\beta^{4} \\delta_{s}^{4} \\left(- \\alpha \\delta_{s} \\theta + \\beta c \\delta_{s} \\theta - c + w\\right)^{2}}{4 \\left(\\beta \\delta_{s} \\theta - 1\\right)^{6}}$"
      ],
      "text/plain": [
       "-beta**4*delta_s**4*(-alpha*delta_s*theta + beta*c*delta_s*theta - c + w)**2/(4*(beta*delta_s*theta - 1)**6)"
      ]
     },
     "metadata": {},
     "output_type": "display_data"
    },
    {
     "name": "stdout",
     "output_type": "stream",
     "text": [
      "\n"
     ]
    }
   ],
   "source": [
    "for key,value in SD_all[\"QD\"].items():\n",
    "    print(key)\n",
    "    try:\n",
    "        display(value.factor())\n",
    "    except:\n",
    "        display(value)\n",
    "    print()"
   ]
  },
  {
   "cell_type": "code",
   "execution_count": null,
   "metadata": {},
   "outputs": [],
   "source": []
  },
  {
   "cell_type": "markdown",
   "metadata": {},
   "source": [
    "# BDD"
   ]
  },
  {
   "cell_type": "code",
   "execution_count": 13,
   "metadata": {
    "scrolled": true
   },
   "outputs": [
    {
     "name": "stdout",
     "output_type": "stream",
     "text": [
      "p\n"
     ]
    },
    {
     "data": {
      "text/latex": [
       "$\\displaystyle \\frac{\\alpha + \\beta c}{2 \\beta}$"
      ],
      "text/plain": [
       "(alpha + beta*c)/(2*beta)"
      ]
     },
     "metadata": {},
     "output_type": "display_data"
    },
    {
     "name": "stdout",
     "output_type": "stream",
     "text": [
      "\n",
      "q\n"
     ]
    },
    {
     "data": {
      "text/latex": [
       "$\\displaystyle - \\frac{- \\alpha + \\beta c}{2}$"
      ],
      "text/plain": [
       "-(-alpha + beta*c)/2"
      ]
     },
     "metadata": {},
     "output_type": "display_data"
    },
    {
     "name": "stdout",
     "output_type": "stream",
     "text": [
      "\n",
      "D\n"
     ]
    },
    {
     "data": {
      "text/latex": [
       "$\\displaystyle - \\frac{\\delta_{d} \\left(- \\alpha + \\beta c\\right)}{2}$"
      ],
      "text/plain": [
       "-delta_d*(-alpha + beta*c)/2"
      ]
     },
     "metadata": {},
     "output_type": "display_data"
    },
    {
     "name": "stdout",
     "output_type": "stream",
     "text": [
      "\n",
      "pro_all\n"
     ]
    },
    {
     "data": {
      "text/latex": [
       "$\\displaystyle \\frac{\\delta_{d} \\left(- \\alpha + \\beta c\\right)^{2}}{4 \\beta}$"
      ],
      "text/plain": [
       "delta_d*(-alpha + beta*c)**2/(4*beta)"
      ]
     },
     "metadata": {},
     "output_type": "display_data"
    },
    {
     "name": "stdout",
     "output_type": "stream",
     "text": [
      "\n",
      "h1\n"
     ]
    },
    {
     "data": {
      "text/latex": [
       "$\\displaystyle - 2 \\beta \\delta_{d}$"
      ],
      "text/plain": [
       "-2*beta*delta_d"
      ]
     },
     "metadata": {},
     "output_type": "display_data"
    },
    {
     "name": "stdout",
     "output_type": "stream",
     "text": [
      "\n",
      "w\n"
     ]
    },
    {
     "data": {
      "text/plain": [
       "nan"
      ]
     },
     "metadata": {},
     "output_type": "display_data"
    },
    {
     "name": "stdout",
     "output_type": "stream",
     "text": [
      "\n",
      "p_w\n"
     ]
    },
    {
     "data": {
      "text/plain": [
       "nan"
      ]
     },
     "metadata": {},
     "output_type": "display_data"
    },
    {
     "name": "stdout",
     "output_type": "stream",
     "text": [
      "\n",
      "S\n"
     ]
    },
    {
     "data": {
      "text/plain": [
       "nan"
      ]
     },
     "metadata": {},
     "output_type": "display_data"
    },
    {
     "name": "stdout",
     "output_type": "stream",
     "text": [
      "\n",
      "T\n"
     ]
    },
    {
     "data": {
      "text/plain": [
       "nan"
      ]
     },
     "metadata": {},
     "output_type": "display_data"
    },
    {
     "name": "stdout",
     "output_type": "stream",
     "text": [
      "\n",
      "pro_r\n"
     ]
    },
    {
     "data": {
      "text/plain": [
       "nan"
      ]
     },
     "metadata": {},
     "output_type": "display_data"
    },
    {
     "name": "stdout",
     "output_type": "stream",
     "text": [
      "\n",
      "pro_s\n"
     ]
    },
    {
     "data": {
      "text/plain": [
       "nan"
      ]
     },
     "metadata": {},
     "output_type": "display_data"
    },
    {
     "name": "stdout",
     "output_type": "stream",
     "text": [
      "\n",
      "h1_r_p\n"
     ]
    },
    {
     "data": {
      "text/plain": [
       "nan"
      ]
     },
     "metadata": {},
     "output_type": "display_data"
    },
    {
     "name": "stdout",
     "output_type": "stream",
     "text": [
      "\n",
      "h1_s_w\n"
     ]
    },
    {
     "data": {
      "text/plain": [
       "nan"
      ]
     },
     "metadata": {},
     "output_type": "display_data"
    },
    {
     "name": "stdout",
     "output_type": "stream",
     "text": [
      "\n",
      "theta\n"
     ]
    },
    {
     "data": {
      "text/plain": [
       "nan"
      ]
     },
     "metadata": {},
     "output_type": "display_data"
    },
    {
     "name": "stdout",
     "output_type": "stream",
     "text": [
      "\n",
      "p_w_theta\n"
     ]
    },
    {
     "data": {
      "text/plain": [
       "nan"
      ]
     },
     "metadata": {},
     "output_type": "display_data"
    },
    {
     "name": "stdout",
     "output_type": "stream",
     "text": [
      "\n",
      "h1_s_th\n"
     ]
    },
    {
     "data": {
      "text/plain": [
       "nan"
      ]
     },
     "metadata": {},
     "output_type": "display_data"
    },
    {
     "name": "stdout",
     "output_type": "stream",
     "text": [
      "\n",
      "h2_s\n"
     ]
    },
    {
     "data": {
      "text/plain": [
       "nan"
      ]
     },
     "metadata": {},
     "output_type": "display_data"
    },
    {
     "name": "stdout",
     "output_type": "stream",
     "text": [
      "\n"
     ]
    }
   ],
   "source": [
    "for key,value in BDD_all[\"FB\"].items():\n",
    "    print(key)\n",
    "    try:\n",
    "        display(value.factor())\n",
    "    except:\n",
    "        display(value)\n",
    "    print()"
   ]
  },
  {
   "cell_type": "code",
   "execution_count": 14,
   "metadata": {
    "scrolled": true
   },
   "outputs": [
    {
     "name": "stdout",
     "output_type": "stream",
     "text": [
      "p\n"
     ]
    },
    {
     "data": {
      "text/latex": [
       "$\\displaystyle \\frac{3 \\alpha \\delta_{d} + \\beta c \\delta_{s} - \\beta \\delta_{d} \\lambda + \\beta \\delta_{s} \\lambda}{4 \\beta \\delta_{d}}$"
      ],
      "text/plain": [
       "(3*alpha*delta_d + beta*c*delta_s - beta*delta_d*lambda + beta*delta_s*lambda)/(4*beta*delta_d)"
      ]
     },
     "metadata": {},
     "output_type": "display_data"
    },
    {
     "name": "stdout",
     "output_type": "stream",
     "text": [
      "\n",
      "q\n"
     ]
    },
    {
     "data": {
      "text/latex": [
       "$\\displaystyle - \\frac{- \\alpha \\delta_{d} + \\beta c \\delta_{s} - \\beta \\delta_{d} \\lambda + \\beta \\delta_{s} \\lambda}{4 \\delta_{d}}$"
      ],
      "text/plain": [
       "-(-alpha*delta_d + beta*c*delta_s - beta*delta_d*lambda + beta*delta_s*lambda)/(4*delta_d)"
      ]
     },
     "metadata": {},
     "output_type": "display_data"
    },
    {
     "name": "stdout",
     "output_type": "stream",
     "text": [
      "\n",
      "D\n"
     ]
    },
    {
     "data": {
      "text/latex": [
       "$\\displaystyle - \\frac{- \\alpha \\delta_{d} + \\beta c \\delta_{s} - \\beta \\delta_{d} \\lambda + \\beta \\delta_{s} \\lambda}{4}$"
      ],
      "text/plain": [
       "-(-alpha*delta_d + beta*c*delta_s - beta*delta_d*lambda + beta*delta_s*lambda)/4"
      ]
     },
     "metadata": {},
     "output_type": "display_data"
    },
    {
     "name": "stdout",
     "output_type": "stream",
     "text": [
      "\n",
      "pro_all\n"
     ]
    },
    {
     "data": {
      "text/latex": [
       "$\\displaystyle \\frac{3 \\left(- \\alpha \\delta_{d} + \\beta c \\delta_{s} - \\beta \\delta_{d} \\lambda + \\beta \\delta_{s} \\lambda\\right)^{2}}{16 \\beta \\delta_{d}}$"
      ],
      "text/plain": [
       "3*(-alpha*delta_d + beta*c*delta_s - beta*delta_d*lambda + beta*delta_s*lambda)**2/(16*beta*delta_d)"
      ]
     },
     "metadata": {},
     "output_type": "display_data"
    },
    {
     "name": "stdout",
     "output_type": "stream",
     "text": [
      "\n",
      "h1\n"
     ]
    },
    {
     "data": {
      "text/plain": [
       "nan"
      ]
     },
     "metadata": {},
     "output_type": "display_data"
    },
    {
     "name": "stdout",
     "output_type": "stream",
     "text": [
      "\n",
      "w\n"
     ]
    },
    {
     "data": {
      "text/latex": [
       "$\\displaystyle \\frac{\\alpha \\delta_{d} + \\beta c \\delta_{s} + \\beta \\delta_{d} \\lambda - \\beta \\delta_{s} \\lambda}{2 \\beta \\delta_{s}}$"
      ],
      "text/plain": [
       "(alpha*delta_d + beta*c*delta_s + beta*delta_d*lambda - beta*delta_s*lambda)/(2*beta*delta_s)"
      ]
     },
     "metadata": {},
     "output_type": "display_data"
    },
    {
     "name": "stdout",
     "output_type": "stream",
     "text": [
      "\n",
      "p_w\n"
     ]
    },
    {
     "data": {
      "text/latex": [
       "$\\displaystyle \\frac{\\alpha \\delta_{d} - \\beta \\delta_{d} \\lambda + \\beta \\delta_{s} \\lambda + \\beta \\delta_{s} w}{2 \\beta \\delta_{d}}$"
      ],
      "text/plain": [
       "(alpha*delta_d - beta*delta_d*lambda + beta*delta_s*lambda + beta*delta_s*w)/(2*beta*delta_d)"
      ]
     },
     "metadata": {},
     "output_type": "display_data"
    },
    {
     "name": "stdout",
     "output_type": "stream",
     "text": [
      "\n",
      "S\n"
     ]
    },
    {
     "data": {
      "text/latex": [
       "$\\displaystyle - \\frac{\\delta_{s} \\left(- \\alpha \\delta_{d} + \\beta c \\delta_{s} - \\beta \\delta_{d} \\lambda + \\beta \\delta_{s} \\lambda\\right)}{4 \\delta_{d}}$"
      ],
      "text/plain": [
       "-delta_s*(-alpha*delta_d + beta*c*delta_s - beta*delta_d*lambda + beta*delta_s*lambda)/(4*delta_d)"
      ]
     },
     "metadata": {},
     "output_type": "display_data"
    },
    {
     "name": "stdout",
     "output_type": "stream",
     "text": [
      "\n",
      "T\n"
     ]
    },
    {
     "data": {
      "text/latex": [
       "$\\displaystyle \\frac{\\alpha \\delta_{d} + \\beta c \\delta_{s} + \\beta \\delta_{d} \\lambda - \\beta \\delta_{s} \\lambda}{2 \\beta \\delta_{s}}$"
      ],
      "text/plain": [
       "(alpha*delta_d + beta*c*delta_s + beta*delta_d*lambda - beta*delta_s*lambda)/(2*beta*delta_s)"
      ]
     },
     "metadata": {},
     "output_type": "display_data"
    },
    {
     "name": "stdout",
     "output_type": "stream",
     "text": [
      "\n",
      "pro_r\n"
     ]
    },
    {
     "data": {
      "text/latex": [
       "$\\displaystyle \\frac{\\left(- \\alpha \\delta_{d} + \\beta c \\delta_{s} - \\beta \\delta_{d} \\lambda + \\beta \\delta_{s} \\lambda\\right)^{2}}{16 \\beta \\delta_{d}}$"
      ],
      "text/plain": [
       "(-alpha*delta_d + beta*c*delta_s - beta*delta_d*lambda + beta*delta_s*lambda)**2/(16*beta*delta_d)"
      ]
     },
     "metadata": {},
     "output_type": "display_data"
    },
    {
     "name": "stdout",
     "output_type": "stream",
     "text": [
      "\n",
      "pro_s\n"
     ]
    },
    {
     "data": {
      "text/latex": [
       "$\\displaystyle \\frac{\\left(- \\alpha \\delta_{d} + \\beta c \\delta_{s} - \\beta \\delta_{d} \\lambda + \\beta \\delta_{s} \\lambda\\right)^{2}}{8 \\beta \\delta_{d}}$"
      ],
      "text/plain": [
       "(-alpha*delta_d + beta*c*delta_s - beta*delta_d*lambda + beta*delta_s*lambda)**2/(8*beta*delta_d)"
      ]
     },
     "metadata": {},
     "output_type": "display_data"
    },
    {
     "name": "stdout",
     "output_type": "stream",
     "text": [
      "\n",
      "h1_r_p\n"
     ]
    },
    {
     "data": {
      "text/latex": [
       "$\\displaystyle - 2 \\beta \\delta_{d}$"
      ],
      "text/plain": [
       "-2*beta*delta_d"
      ]
     },
     "metadata": {},
     "output_type": "display_data"
    },
    {
     "name": "stdout",
     "output_type": "stream",
     "text": [
      "\n",
      "h1_s_w\n"
     ]
    },
    {
     "data": {
      "text/latex": [
       "$\\displaystyle - \\frac{\\beta \\delta_{s}^{2}}{\\delta_{d}}$"
      ],
      "text/plain": [
       "-beta*delta_s**2/delta_d"
      ]
     },
     "metadata": {},
     "output_type": "display_data"
    },
    {
     "name": "stdout",
     "output_type": "stream",
     "text": [
      "\n",
      "theta\n"
     ]
    },
    {
     "data": {
      "text/plain": [
       "nan"
      ]
     },
     "metadata": {},
     "output_type": "display_data"
    },
    {
     "name": "stdout",
     "output_type": "stream",
     "text": [
      "\n",
      "p_w_theta\n"
     ]
    },
    {
     "data": {
      "text/plain": [
       "nan"
      ]
     },
     "metadata": {},
     "output_type": "display_data"
    },
    {
     "name": "stdout",
     "output_type": "stream",
     "text": [
      "\n",
      "h1_s_th\n"
     ]
    },
    {
     "data": {
      "text/plain": [
       "nan"
      ]
     },
     "metadata": {},
     "output_type": "display_data"
    },
    {
     "name": "stdout",
     "output_type": "stream",
     "text": [
      "\n",
      "h2_s\n"
     ]
    },
    {
     "data": {
      "text/plain": [
       "nan"
      ]
     },
     "metadata": {},
     "output_type": "display_data"
    },
    {
     "name": "stdout",
     "output_type": "stream",
     "text": [
      "\n"
     ]
    }
   ],
   "source": [
    "for key,value in BDD_all[\"WH\"].items():\n",
    "    print(key)\n",
    "    try:\n",
    "        display(value.factor())\n",
    "    except:\n",
    "        display(value)\n",
    "    print()"
   ]
  },
  {
   "cell_type": "code",
   "execution_count": 15,
   "metadata": {
    "scrolled": true
   },
   "outputs": [
    {
     "name": "stdout",
     "output_type": "stream",
     "text": [
      "p\n"
     ]
    },
    {
     "data": {
      "text/latex": [
       "$\\displaystyle - \\frac{- 3 \\alpha \\delta_{d} - 2 \\beta c \\delta_{s} + \\beta \\delta_{d} \\lambda - \\beta \\delta_{s} \\lambda + \\beta \\delta_{s} w}{4 \\beta \\delta_{d}}$"
      ],
      "text/plain": [
       "-(-3*alpha*delta_d - 2*beta*c*delta_s + beta*delta_d*lambda - beta*delta_s*lambda + beta*delta_s*w)/(4*beta*delta_d)"
      ]
     },
     "metadata": {},
     "output_type": "display_data"
    },
    {
     "name": "stdout",
     "output_type": "stream",
     "text": [
      "\n",
      "q\n"
     ]
    },
    {
     "data": {
      "text/latex": [
       "$\\displaystyle \\frac{\\alpha \\delta_{d} - 2 \\beta c \\delta_{s} + \\beta \\delta_{d} \\lambda - \\beta \\delta_{s} \\lambda + \\beta \\delta_{s} w}{4 \\delta_{d}}$"
      ],
      "text/plain": [
       "(alpha*delta_d - 2*beta*c*delta_s + beta*delta_d*lambda - beta*delta_s*lambda + beta*delta_s*w)/(4*delta_d)"
      ]
     },
     "metadata": {},
     "output_type": "display_data"
    },
    {
     "name": "stdout",
     "output_type": "stream",
     "text": [
      "\n",
      "D\n"
     ]
    },
    {
     "data": {
      "text/latex": [
       "$\\displaystyle \\frac{\\alpha \\delta_{d} - 2 \\beta c \\delta_{s} + \\beta \\delta_{d} \\lambda - \\beta \\delta_{s} \\lambda + \\beta \\delta_{s} w}{4}$"
      ],
      "text/plain": [
       "(alpha*delta_d - 2*beta*c*delta_s + beta*delta_d*lambda - beta*delta_s*lambda + beta*delta_s*w)/4"
      ]
     },
     "metadata": {},
     "output_type": "display_data"
    },
    {
     "name": "stdout",
     "output_type": "stream",
     "text": [
      "\n",
      "pro_all\n"
     ]
    },
    {
     "data": {
      "text/latex": [
       "$\\displaystyle - \\frac{\\left(- 3 \\alpha \\delta_{d} + 2 \\beta c \\delta_{s} - 3 \\beta \\delta_{d} \\lambda + 3 \\beta \\delta_{s} \\lambda + \\beta \\delta_{s} w\\right) \\left(\\alpha \\delta_{d} - 2 \\beta c \\delta_{s} + \\beta \\delta_{d} \\lambda - \\beta \\delta_{s} \\lambda + \\beta \\delta_{s} w\\right)}{16 \\beta \\delta_{d}}$"
      ],
      "text/plain": [
       "-(-3*alpha*delta_d + 2*beta*c*delta_s - 3*beta*delta_d*lambda + 3*beta*delta_s*lambda + beta*delta_s*w)*(alpha*delta_d - 2*beta*c*delta_s + beta*delta_d*lambda - beta*delta_s*lambda + beta*delta_s*w)/(16*beta*delta_d)"
      ]
     },
     "metadata": {},
     "output_type": "display_data"
    },
    {
     "name": "stdout",
     "output_type": "stream",
     "text": [
      "\n",
      "h1\n"
     ]
    },
    {
     "data": {
      "text/plain": [
       "nan"
      ]
     },
     "metadata": {},
     "output_type": "display_data"
    },
    {
     "name": "stdout",
     "output_type": "stream",
     "text": [
      "\n",
      "w\n"
     ]
    },
    {
     "data": {
      "text/latex": [
       "$\\displaystyle w$"
      ],
      "text/plain": [
       "w"
      ]
     },
     "metadata": {},
     "output_type": "display_data"
    },
    {
     "name": "stdout",
     "output_type": "stream",
     "text": [
      "\n",
      "p_w\n"
     ]
    },
    {
     "data": {
      "text/plain": [
       "nan"
      ]
     },
     "metadata": {},
     "output_type": "display_data"
    },
    {
     "name": "stdout",
     "output_type": "stream",
     "text": [
      "\n",
      "S\n"
     ]
    },
    {
     "data": {
      "text/latex": [
       "$\\displaystyle \\frac{\\delta_{s} \\left(\\alpha \\delta_{d} - 2 \\beta c \\delta_{s} + \\beta \\delta_{d} \\lambda - \\beta \\delta_{s} \\lambda + \\beta \\delta_{s} w\\right)}{4 \\delta_{d}}$"
      ],
      "text/plain": [
       "delta_s*(alpha*delta_d - 2*beta*c*delta_s + beta*delta_d*lambda - beta*delta_s*lambda + beta*delta_s*w)/(4*delta_d)"
      ]
     },
     "metadata": {},
     "output_type": "display_data"
    },
    {
     "name": "stdout",
     "output_type": "stream",
     "text": [
      "\n",
      "T\n"
     ]
    },
    {
     "data": {
      "text/latex": [
       "$\\displaystyle \\frac{\\alpha \\delta_{d} + 2 \\beta c \\delta_{s} + \\beta \\delta_{d} \\lambda - \\beta \\delta_{s} \\lambda + \\beta \\delta_{s} w}{4 \\beta \\delta_{s}}$"
      ],
      "text/plain": [
       "(alpha*delta_d + 2*beta*c*delta_s + beta*delta_d*lambda - beta*delta_s*lambda + beta*delta_s*w)/(4*beta*delta_s)"
      ]
     },
     "metadata": {},
     "output_type": "display_data"
    },
    {
     "name": "stdout",
     "output_type": "stream",
     "text": [
      "\n",
      "pro_r\n"
     ]
    },
    {
     "data": {
      "text/latex": [
       "$\\displaystyle - \\frac{\\left(- \\alpha \\delta_{d} - \\beta \\delta_{d} \\lambda + \\beta \\delta_{s} \\lambda + \\beta \\delta_{s} w\\right) \\left(\\alpha \\delta_{d} - 2 \\beta c \\delta_{s} + \\beta \\delta_{d} \\lambda - \\beta \\delta_{s} \\lambda + \\beta \\delta_{s} w\\right)}{8 \\beta \\delta_{d}}$"
      ],
      "text/plain": [
       "-(-alpha*delta_d - beta*delta_d*lambda + beta*delta_s*lambda + beta*delta_s*w)*(alpha*delta_d - 2*beta*c*delta_s + beta*delta_d*lambda - beta*delta_s*lambda + beta*delta_s*w)/(8*beta*delta_d)"
      ]
     },
     "metadata": {},
     "output_type": "display_data"
    },
    {
     "name": "stdout",
     "output_type": "stream",
     "text": [
      "\n",
      "pro_s\n"
     ]
    },
    {
     "data": {
      "text/latex": [
       "$\\displaystyle \\frac{\\left(\\alpha \\delta_{d} - 2 \\beta c \\delta_{s} + \\beta \\delta_{d} \\lambda - \\beta \\delta_{s} \\lambda + \\beta \\delta_{s} w\\right)^{2}}{16 \\beta \\delta_{d}}$"
      ],
      "text/plain": [
       "(alpha*delta_d - 2*beta*c*delta_s + beta*delta_d*lambda - beta*delta_s*lambda + beta*delta_s*w)**2/(16*beta*delta_d)"
      ]
     },
     "metadata": {},
     "output_type": "display_data"
    },
    {
     "name": "stdout",
     "output_type": "stream",
     "text": [
      "\n",
      "h1_r_p\n"
     ]
    },
    {
     "data": {
      "text/latex": [
       "$\\displaystyle 2 \\beta \\left(\\beta \\delta_{s}^{2} \\theta - \\delta_{d}\\right)$"
      ],
      "text/plain": [
       "2*beta*(beta*delta_s**2*theta - delta_d)"
      ]
     },
     "metadata": {},
     "output_type": "display_data"
    },
    {
     "name": "stdout",
     "output_type": "stream",
     "text": [
      "\n",
      "h1_s_w\n"
     ]
    },
    {
     "data": {
      "text/latex": [
       "$\\displaystyle \\frac{\\beta \\delta_{s}^{2} \\left(\\beta \\delta_{s}^{2} \\theta - 2 \\delta_{d}\\right)}{2 \\left(\\beta \\delta_{s}^{2} \\theta - \\delta_{d}\\right)^{2}}$"
      ],
      "text/plain": [
       "beta*delta_s**2*(beta*delta_s**2*theta - 2*delta_d)/(2*(beta*delta_s**2*theta - delta_d)**2)"
      ]
     },
     "metadata": {},
     "output_type": "display_data"
    },
    {
     "name": "stdout",
     "output_type": "stream",
     "text": [
      "\n",
      "theta\n"
     ]
    },
    {
     "data": {
      "text/latex": [
       "$\\displaystyle \\frac{\\delta_{d} \\left(- \\alpha \\delta_{d} - 2 \\beta c \\delta_{s} - \\beta \\delta_{d} \\lambda + \\beta \\delta_{s} \\lambda + 3 \\beta \\delta_{s} w\\right)}{\\beta \\delta_{s}^{2} \\left(\\alpha \\delta_{d} - 2 \\beta c \\delta_{s} + \\beta \\delta_{d} \\lambda - \\beta \\delta_{s} \\lambda + \\beta \\delta_{s} w\\right)}$"
      ],
      "text/plain": [
       "delta_d*(-alpha*delta_d - 2*beta*c*delta_s - beta*delta_d*lambda + beta*delta_s*lambda + 3*beta*delta_s*w)/(beta*delta_s**2*(alpha*delta_d - 2*beta*c*delta_s + beta*delta_d*lambda - beta*delta_s*lambda + beta*delta_s*w))"
      ]
     },
     "metadata": {},
     "output_type": "display_data"
    },
    {
     "name": "stdout",
     "output_type": "stream",
     "text": [
      "\n",
      "p_w_theta\n"
     ]
    },
    {
     "data": {
      "text/latex": [
       "$\\displaystyle - \\frac{- 2 \\alpha \\beta \\delta_{s}^{2} \\theta + \\alpha \\delta_{d} - \\beta \\delta_{d} \\lambda + \\beta \\delta_{s} \\lambda + \\beta \\delta_{s} w}{2 \\beta \\left(\\beta \\delta_{s}^{2} \\theta - \\delta_{d}\\right)}$"
      ],
      "text/plain": [
       "-(-2*alpha*beta*delta_s**2*theta + alpha*delta_d - beta*delta_d*lambda + beta*delta_s*lambda + beta*delta_s*w)/(2*beta*(beta*delta_s**2*theta - delta_d))"
      ]
     },
     "metadata": {},
     "output_type": "display_data"
    },
    {
     "name": "stdout",
     "output_type": "stream",
     "text": [
      "\n",
      "h1_s_th\n"
     ]
    },
    {
     "data": {
      "text/latex": [
       "$\\displaystyle \\frac{\\beta \\delta_{s}^{4} \\left(- \\alpha \\delta_{d} - \\beta \\delta_{d} \\lambda + \\beta \\delta_{s} \\lambda + \\beta \\delta_{s} w\\right) \\left(\\alpha \\beta \\delta_{d} \\delta_{s}^{2} \\theta + 2 \\alpha \\delta_{d}^{2} - 2 \\beta^{2} c \\delta_{s}^{3} \\theta + \\beta^{2} \\delta_{d} \\delta_{s}^{2} \\lambda \\theta - \\beta^{2} \\delta_{s}^{3} \\lambda \\theta + \\beta^{2} \\delta_{s}^{3} \\theta w + 2 \\beta c \\delta_{d} \\delta_{s} + 2 \\beta \\delta_{d}^{2} \\lambda - 2 \\beta \\delta_{d} \\delta_{s} \\lambda - 4 \\beta \\delta_{d} \\delta_{s} w\\right)}{2 \\left(\\beta \\delta_{s}^{2} \\theta - \\delta_{d}\\right)^{4}}$"
      ],
      "text/plain": [
       "beta*delta_s**4*(-alpha*delta_d - beta*delta_d*lambda + beta*delta_s*lambda + beta*delta_s*w)*(alpha*beta*delta_d*delta_s**2*theta + 2*alpha*delta_d**2 - 2*beta**2*c*delta_s**3*theta + beta**2*delta_d*delta_s**2*lambda*theta - beta**2*delta_s**3*lambda*theta + beta**2*delta_s**3*theta*w + 2*beta*c*delta_d*delta_s + 2*beta*delta_d**2*lambda - 2*beta*delta_d*delta_s*lambda - 4*beta*delta_d*delta_s*w)/(2*(beta*delta_s**2*theta - delta_d)**4)"
      ]
     },
     "metadata": {},
     "output_type": "display_data"
    },
    {
     "name": "stdout",
     "output_type": "stream",
     "text": [
      "\n",
      "h2_s\n"
     ]
    },
    {
     "data": {
      "text/latex": [
       "$\\displaystyle - \\frac{\\beta^{4} \\delta_{s}^{8} \\left(- \\alpha \\delta_{d} \\delta_{s} \\theta + \\beta c \\delta_{s}^{2} \\theta - \\beta \\delta_{d} \\delta_{s} \\lambda \\theta + \\beta \\delta_{s}^{2} \\lambda \\theta - c \\delta_{d} + \\delta_{d} w\\right)^{2}}{4 \\left(\\beta \\delta_{s}^{2} \\theta - \\delta_{d}\\right)^{6}}$"
      ],
      "text/plain": [
       "-beta**4*delta_s**8*(-alpha*delta_d*delta_s*theta + beta*c*delta_s**2*theta - beta*delta_d*delta_s*lambda*theta + beta*delta_s**2*lambda*theta - c*delta_d + delta_d*w)**2/(4*(beta*delta_s**2*theta - delta_d)**6)"
      ]
     },
     "metadata": {},
     "output_type": "display_data"
    },
    {
     "name": "stdout",
     "output_type": "stream",
     "text": [
      "\n"
     ]
    }
   ],
   "source": [
    "for key,value in BDD_all[\"QD\"].items():\n",
    "    print(key)\n",
    "    try:\n",
    "        display(value.factor())\n",
    "    except:\n",
    "        display(value)\n",
    "    print()"
   ]
  },
  {
   "cell_type": "code",
   "execution_count": null,
   "metadata": {},
   "outputs": [],
   "source": []
  },
  {
   "cell_type": "markdown",
   "metadata": {},
   "source": [
    "# BDS"
   ]
  },
  {
   "cell_type": "code",
   "execution_count": 16,
   "metadata": {
    "scrolled": true
   },
   "outputs": [
    {
     "name": "stdout",
     "output_type": "stream",
     "text": [
      "p\n"
     ]
    },
    {
     "data": {
      "text/latex": [
       "$\\displaystyle \\frac{\\alpha + \\beta c}{2 \\beta}$"
      ],
      "text/plain": [
       "(alpha + beta*c)/(2*beta)"
      ]
     },
     "metadata": {},
     "output_type": "display_data"
    },
    {
     "name": "stdout",
     "output_type": "stream",
     "text": [
      "\n",
      "q\n"
     ]
    },
    {
     "data": {
      "text/latex": [
       "$\\displaystyle - \\frac{- \\alpha + \\beta c}{2}$"
      ],
      "text/plain": [
       "-(-alpha + beta*c)/2"
      ]
     },
     "metadata": {},
     "output_type": "display_data"
    },
    {
     "name": "stdout",
     "output_type": "stream",
     "text": [
      "\n",
      "D\n"
     ]
    },
    {
     "data": {
      "text/latex": [
       "$\\displaystyle - \\frac{\\delta_{s} \\left(- \\alpha + \\beta c\\right)}{2}$"
      ],
      "text/plain": [
       "-delta_s*(-alpha + beta*c)/2"
      ]
     },
     "metadata": {},
     "output_type": "display_data"
    },
    {
     "name": "stdout",
     "output_type": "stream",
     "text": [
      "\n",
      "pro_all\n"
     ]
    },
    {
     "data": {
      "text/latex": [
       "$\\displaystyle \\frac{\\delta_{s} \\left(- \\alpha + \\beta c\\right)^{2}}{4 \\beta}$"
      ],
      "text/plain": [
       "delta_s*(-alpha + beta*c)**2/(4*beta)"
      ]
     },
     "metadata": {},
     "output_type": "display_data"
    },
    {
     "name": "stdout",
     "output_type": "stream",
     "text": [
      "\n",
      "h1\n"
     ]
    },
    {
     "data": {
      "text/latex": [
       "$\\displaystyle - 2 \\beta \\delta_{s}$"
      ],
      "text/plain": [
       "-2*beta*delta_s"
      ]
     },
     "metadata": {},
     "output_type": "display_data"
    },
    {
     "name": "stdout",
     "output_type": "stream",
     "text": [
      "\n",
      "w\n"
     ]
    },
    {
     "data": {
      "text/plain": [
       "nan"
      ]
     },
     "metadata": {},
     "output_type": "display_data"
    },
    {
     "name": "stdout",
     "output_type": "stream",
     "text": [
      "\n",
      "p_w\n"
     ]
    },
    {
     "data": {
      "text/plain": [
       "nan"
      ]
     },
     "metadata": {},
     "output_type": "display_data"
    },
    {
     "name": "stdout",
     "output_type": "stream",
     "text": [
      "\n",
      "S\n"
     ]
    },
    {
     "data": {
      "text/plain": [
       "nan"
      ]
     },
     "metadata": {},
     "output_type": "display_data"
    },
    {
     "name": "stdout",
     "output_type": "stream",
     "text": [
      "\n",
      "T\n"
     ]
    },
    {
     "data": {
      "text/plain": [
       "nan"
      ]
     },
     "metadata": {},
     "output_type": "display_data"
    },
    {
     "name": "stdout",
     "output_type": "stream",
     "text": [
      "\n",
      "pro_r\n"
     ]
    },
    {
     "data": {
      "text/plain": [
       "nan"
      ]
     },
     "metadata": {},
     "output_type": "display_data"
    },
    {
     "name": "stdout",
     "output_type": "stream",
     "text": [
      "\n",
      "pro_s\n"
     ]
    },
    {
     "data": {
      "text/plain": [
       "nan"
      ]
     },
     "metadata": {},
     "output_type": "display_data"
    },
    {
     "name": "stdout",
     "output_type": "stream",
     "text": [
      "\n",
      "h1_r_p\n"
     ]
    },
    {
     "data": {
      "text/plain": [
       "nan"
      ]
     },
     "metadata": {},
     "output_type": "display_data"
    },
    {
     "name": "stdout",
     "output_type": "stream",
     "text": [
      "\n",
      "h1_s_w\n"
     ]
    },
    {
     "data": {
      "text/plain": [
       "nan"
      ]
     },
     "metadata": {},
     "output_type": "display_data"
    },
    {
     "name": "stdout",
     "output_type": "stream",
     "text": [
      "\n",
      "theta\n"
     ]
    },
    {
     "data": {
      "text/plain": [
       "nan"
      ]
     },
     "metadata": {},
     "output_type": "display_data"
    },
    {
     "name": "stdout",
     "output_type": "stream",
     "text": [
      "\n",
      "p_w_theta\n"
     ]
    },
    {
     "data": {
      "text/plain": [
       "nan"
      ]
     },
     "metadata": {},
     "output_type": "display_data"
    },
    {
     "name": "stdout",
     "output_type": "stream",
     "text": [
      "\n",
      "h1_s_th\n"
     ]
    },
    {
     "data": {
      "text/plain": [
       "nan"
      ]
     },
     "metadata": {},
     "output_type": "display_data"
    },
    {
     "name": "stdout",
     "output_type": "stream",
     "text": [
      "\n",
      "h2_s\n"
     ]
    },
    {
     "data": {
      "text/plain": [
       "nan"
      ]
     },
     "metadata": {},
     "output_type": "display_data"
    },
    {
     "name": "stdout",
     "output_type": "stream",
     "text": [
      "\n"
     ]
    }
   ],
   "source": [
    "for key,value in BDS_all[\"FB\"].items():\n",
    "    print(key)\n",
    "    try:\n",
    "        display(value.factor())\n",
    "    except:\n",
    "        display(value)\n",
    "    print()"
   ]
  },
  {
   "cell_type": "code",
   "execution_count": 17,
   "metadata": {
    "scrolled": true
   },
   "outputs": [
    {
     "name": "stdout",
     "output_type": "stream",
     "text": [
      "p\n"
     ]
    },
    {
     "data": {
      "text/latex": [
       "$\\displaystyle \\frac{3 \\alpha + \\beta c}{4 \\beta}$"
      ],
      "text/plain": [
       "(3*alpha + beta*c)/(4*beta)"
      ]
     },
     "metadata": {},
     "output_type": "display_data"
    },
    {
     "name": "stdout",
     "output_type": "stream",
     "text": [
      "\n",
      "q\n"
     ]
    },
    {
     "data": {
      "text/latex": [
       "$\\displaystyle - \\frac{- \\alpha + \\beta c}{4}$"
      ],
      "text/plain": [
       "-(-alpha + beta*c)/4"
      ]
     },
     "metadata": {},
     "output_type": "display_data"
    },
    {
     "name": "stdout",
     "output_type": "stream",
     "text": [
      "\n",
      "D\n"
     ]
    },
    {
     "data": {
      "text/latex": [
       "$\\displaystyle - \\frac{\\delta_{s} \\left(- \\alpha + \\beta c\\right)}{4}$"
      ],
      "text/plain": [
       "-delta_s*(-alpha + beta*c)/4"
      ]
     },
     "metadata": {},
     "output_type": "display_data"
    },
    {
     "name": "stdout",
     "output_type": "stream",
     "text": [
      "\n",
      "pro_all\n"
     ]
    },
    {
     "data": {
      "text/latex": [
       "$\\displaystyle \\frac{3 \\delta_{s} \\left(- \\alpha + \\beta c\\right)^{2}}{16 \\beta}$"
      ],
      "text/plain": [
       "3*delta_s*(-alpha + beta*c)**2/(16*beta)"
      ]
     },
     "metadata": {},
     "output_type": "display_data"
    },
    {
     "name": "stdout",
     "output_type": "stream",
     "text": [
      "\n",
      "h1\n"
     ]
    },
    {
     "data": {
      "text/plain": [
       "nan"
      ]
     },
     "metadata": {},
     "output_type": "display_data"
    },
    {
     "name": "stdout",
     "output_type": "stream",
     "text": [
      "\n",
      "w\n"
     ]
    },
    {
     "data": {
      "text/latex": [
       "$\\displaystyle \\frac{\\alpha + \\beta c}{2 \\beta}$"
      ],
      "text/plain": [
       "(alpha + beta*c)/(2*beta)"
      ]
     },
     "metadata": {},
     "output_type": "display_data"
    },
    {
     "name": "stdout",
     "output_type": "stream",
     "text": [
      "\n",
      "p_w\n"
     ]
    },
    {
     "data": {
      "text/latex": [
       "$\\displaystyle \\frac{\\alpha + \\beta w}{2 \\beta}$"
      ],
      "text/plain": [
       "(alpha + beta*w)/(2*beta)"
      ]
     },
     "metadata": {},
     "output_type": "display_data"
    },
    {
     "name": "stdout",
     "output_type": "stream",
     "text": [
      "\n",
      "S\n"
     ]
    },
    {
     "data": {
      "text/latex": [
       "$\\displaystyle - \\frac{\\delta_{s} \\left(- \\alpha + \\beta c\\right)}{4}$"
      ],
      "text/plain": [
       "-delta_s*(-alpha + beta*c)/4"
      ]
     },
     "metadata": {},
     "output_type": "display_data"
    },
    {
     "name": "stdout",
     "output_type": "stream",
     "text": [
      "\n",
      "T\n"
     ]
    },
    {
     "data": {
      "text/latex": [
       "$\\displaystyle \\frac{\\alpha + \\beta c}{2 \\beta}$"
      ],
      "text/plain": [
       "(alpha + beta*c)/(2*beta)"
      ]
     },
     "metadata": {},
     "output_type": "display_data"
    },
    {
     "name": "stdout",
     "output_type": "stream",
     "text": [
      "\n",
      "pro_r\n"
     ]
    },
    {
     "data": {
      "text/latex": [
       "$\\displaystyle \\frac{\\delta_{s} \\left(- \\alpha + \\beta c\\right)^{2}}{16 \\beta}$"
      ],
      "text/plain": [
       "delta_s*(-alpha + beta*c)**2/(16*beta)"
      ]
     },
     "metadata": {},
     "output_type": "display_data"
    },
    {
     "name": "stdout",
     "output_type": "stream",
     "text": [
      "\n",
      "pro_s\n"
     ]
    },
    {
     "data": {
      "text/latex": [
       "$\\displaystyle \\frac{\\delta_{s} \\left(- \\alpha + \\beta c\\right)^{2}}{8 \\beta}$"
      ],
      "text/plain": [
       "delta_s*(-alpha + beta*c)**2/(8*beta)"
      ]
     },
     "metadata": {},
     "output_type": "display_data"
    },
    {
     "name": "stdout",
     "output_type": "stream",
     "text": [
      "\n",
      "h1_r_p\n"
     ]
    },
    {
     "data": {
      "text/latex": [
       "$\\displaystyle - 2 \\beta \\delta_{s}$"
      ],
      "text/plain": [
       "-2*beta*delta_s"
      ]
     },
     "metadata": {},
     "output_type": "display_data"
    },
    {
     "name": "stdout",
     "output_type": "stream",
     "text": [
      "\n",
      "h1_s_w\n"
     ]
    },
    {
     "data": {
      "text/latex": [
       "$\\displaystyle - \\beta \\delta_{s}$"
      ],
      "text/plain": [
       "-beta*delta_s"
      ]
     },
     "metadata": {},
     "output_type": "display_data"
    },
    {
     "name": "stdout",
     "output_type": "stream",
     "text": [
      "\n",
      "theta\n"
     ]
    },
    {
     "data": {
      "text/plain": [
       "nan"
      ]
     },
     "metadata": {},
     "output_type": "display_data"
    },
    {
     "name": "stdout",
     "output_type": "stream",
     "text": [
      "\n",
      "p_w_theta\n"
     ]
    },
    {
     "data": {
      "text/plain": [
       "nan"
      ]
     },
     "metadata": {},
     "output_type": "display_data"
    },
    {
     "name": "stdout",
     "output_type": "stream",
     "text": [
      "\n",
      "h1_s_th\n"
     ]
    },
    {
     "data": {
      "text/plain": [
       "nan"
      ]
     },
     "metadata": {},
     "output_type": "display_data"
    },
    {
     "name": "stdout",
     "output_type": "stream",
     "text": [
      "\n",
      "h2_s\n"
     ]
    },
    {
     "data": {
      "text/plain": [
       "nan"
      ]
     },
     "metadata": {},
     "output_type": "display_data"
    },
    {
     "name": "stdout",
     "output_type": "stream",
     "text": [
      "\n"
     ]
    }
   ],
   "source": [
    "for key,value in BDS_all[\"WH\"].items():\n",
    "    print(key)\n",
    "    try:\n",
    "        display(value.factor())\n",
    "    except:\n",
    "        display(value)\n",
    "    print()"
   ]
  },
  {
   "cell_type": "code",
   "execution_count": 18,
   "metadata": {
    "scrolled": true
   },
   "outputs": [
    {
     "name": "stdout",
     "output_type": "stream",
     "text": [
      "p\n"
     ]
    },
    {
     "data": {
      "text/latex": [
       "$\\displaystyle - \\frac{- 3 \\alpha - 2 \\beta c + \\beta w}{4 \\beta}$"
      ],
      "text/plain": [
       "-(-3*alpha - 2*beta*c + beta*w)/(4*beta)"
      ]
     },
     "metadata": {},
     "output_type": "display_data"
    },
    {
     "name": "stdout",
     "output_type": "stream",
     "text": [
      "\n",
      "q\n"
     ]
    },
    {
     "data": {
      "text/latex": [
       "$\\displaystyle \\frac{\\alpha - 2 \\beta c + \\beta w}{4}$"
      ],
      "text/plain": [
       "(alpha - 2*beta*c + beta*w)/4"
      ]
     },
     "metadata": {},
     "output_type": "display_data"
    },
    {
     "name": "stdout",
     "output_type": "stream",
     "text": [
      "\n",
      "D\n"
     ]
    },
    {
     "data": {
      "text/latex": [
       "$\\displaystyle \\frac{\\delta_{s} \\left(\\alpha - 2 \\beta c + \\beta w\\right)}{4}$"
      ],
      "text/plain": [
       "delta_s*(alpha - 2*beta*c + beta*w)/4"
      ]
     },
     "metadata": {},
     "output_type": "display_data"
    },
    {
     "name": "stdout",
     "output_type": "stream",
     "text": [
      "\n",
      "pro_all\n"
     ]
    },
    {
     "data": {
      "text/latex": [
       "$\\displaystyle - \\frac{\\delta_{s} \\left(- 3 \\alpha + 2 \\beta c + \\beta w\\right) \\left(\\alpha - 2 \\beta c + \\beta w\\right)}{16 \\beta}$"
      ],
      "text/plain": [
       "-delta_s*(-3*alpha + 2*beta*c + beta*w)*(alpha - 2*beta*c + beta*w)/(16*beta)"
      ]
     },
     "metadata": {},
     "output_type": "display_data"
    },
    {
     "name": "stdout",
     "output_type": "stream",
     "text": [
      "\n",
      "h1\n"
     ]
    },
    {
     "data": {
      "text/plain": [
       "nan"
      ]
     },
     "metadata": {},
     "output_type": "display_data"
    },
    {
     "name": "stdout",
     "output_type": "stream",
     "text": [
      "\n",
      "w\n"
     ]
    },
    {
     "data": {
      "text/latex": [
       "$\\displaystyle w$"
      ],
      "text/plain": [
       "w"
      ]
     },
     "metadata": {},
     "output_type": "display_data"
    },
    {
     "name": "stdout",
     "output_type": "stream",
     "text": [
      "\n",
      "p_w\n"
     ]
    },
    {
     "data": {
      "text/plain": [
       "nan"
      ]
     },
     "metadata": {},
     "output_type": "display_data"
    },
    {
     "name": "stdout",
     "output_type": "stream",
     "text": [
      "\n",
      "S\n"
     ]
    },
    {
     "data": {
      "text/latex": [
       "$\\displaystyle \\frac{\\delta_{s} \\left(\\alpha - 2 \\beta c + \\beta w\\right)}{4}$"
      ],
      "text/plain": [
       "delta_s*(alpha - 2*beta*c + beta*w)/4"
      ]
     },
     "metadata": {},
     "output_type": "display_data"
    },
    {
     "name": "stdout",
     "output_type": "stream",
     "text": [
      "\n",
      "T\n"
     ]
    },
    {
     "data": {
      "text/latex": [
       "$\\displaystyle \\frac{\\alpha + 2 \\beta c + \\beta w}{4 \\beta}$"
      ],
      "text/plain": [
       "(alpha + 2*beta*c + beta*w)/(4*beta)"
      ]
     },
     "metadata": {},
     "output_type": "display_data"
    },
    {
     "name": "stdout",
     "output_type": "stream",
     "text": [
      "\n",
      "pro_r\n"
     ]
    },
    {
     "data": {
      "text/latex": [
       "$\\displaystyle - \\frac{\\delta_{s} \\left(- \\alpha + \\beta w\\right) \\left(\\alpha - 2 \\beta c + \\beta w\\right)}{8 \\beta}$"
      ],
      "text/plain": [
       "-delta_s*(-alpha + beta*w)*(alpha - 2*beta*c + beta*w)/(8*beta)"
      ]
     },
     "metadata": {},
     "output_type": "display_data"
    },
    {
     "name": "stdout",
     "output_type": "stream",
     "text": [
      "\n",
      "pro_s\n"
     ]
    },
    {
     "data": {
      "text/latex": [
       "$\\displaystyle \\frac{\\delta_{s} \\left(\\alpha - 2 \\beta c + \\beta w\\right)^{2}}{16 \\beta}$"
      ],
      "text/plain": [
       "delta_s*(alpha - 2*beta*c + beta*w)**2/(16*beta)"
      ]
     },
     "metadata": {},
     "output_type": "display_data"
    },
    {
     "name": "stdout",
     "output_type": "stream",
     "text": [
      "\n",
      "h1_r_p\n"
     ]
    },
    {
     "data": {
      "text/latex": [
       "$\\displaystyle 2 \\beta \\delta_{s} \\left(\\beta \\delta_{s} \\theta - 1\\right)$"
      ],
      "text/plain": [
       "2*beta*delta_s*(beta*delta_s*theta - 1)"
      ]
     },
     "metadata": {},
     "output_type": "display_data"
    },
    {
     "name": "stdout",
     "output_type": "stream",
     "text": [
      "\n",
      "h1_s_w\n"
     ]
    },
    {
     "data": {
      "text/latex": [
       "$\\displaystyle \\frac{\\beta \\delta_{s} \\left(\\beta \\delta_{s} \\theta - 2\\right)}{2 \\left(\\beta \\delta_{s} \\theta - 1\\right)^{2}}$"
      ],
      "text/plain": [
       "beta*delta_s*(beta*delta_s*theta - 2)/(2*(beta*delta_s*theta - 1)**2)"
      ]
     },
     "metadata": {},
     "output_type": "display_data"
    },
    {
     "name": "stdout",
     "output_type": "stream",
     "text": [
      "\n",
      "theta\n"
     ]
    },
    {
     "data": {
      "text/latex": [
       "$\\displaystyle \\frac{- \\alpha - 2 \\beta c + 3 \\beta w}{\\beta \\delta_{s} \\left(\\alpha - 2 \\beta c + \\beta w\\right)}$"
      ],
      "text/plain": [
       "(-alpha - 2*beta*c + 3*beta*w)/(beta*delta_s*(alpha - 2*beta*c + beta*w))"
      ]
     },
     "metadata": {},
     "output_type": "display_data"
    },
    {
     "name": "stdout",
     "output_type": "stream",
     "text": [
      "\n",
      "p_w_theta\n"
     ]
    },
    {
     "data": {
      "text/latex": [
       "$\\displaystyle - \\frac{- 2 \\alpha \\beta \\delta_{s} \\theta + \\alpha + \\beta w}{2 \\beta \\left(\\beta \\delta_{s} \\theta - 1\\right)}$"
      ],
      "text/plain": [
       "-(-2*alpha*beta*delta_s*theta + alpha + beta*w)/(2*beta*(beta*delta_s*theta - 1))"
      ]
     },
     "metadata": {},
     "output_type": "display_data"
    },
    {
     "name": "stdout",
     "output_type": "stream",
     "text": [
      "\n",
      "h1_s_th\n"
     ]
    },
    {
     "data": {
      "text/latex": [
       "$\\displaystyle \\frac{\\beta \\delta_{s}^{3} \\left(- \\alpha + \\beta w\\right) \\left(\\alpha \\beta \\delta_{s} \\theta + 2 \\alpha - 2 \\beta^{2} c \\delta_{s} \\theta + \\beta^{2} \\delta_{s} \\theta w + 2 \\beta c - 4 \\beta w\\right)}{2 \\left(\\beta \\delta_{s} \\theta - 1\\right)^{4}}$"
      ],
      "text/plain": [
       "beta*delta_s**3*(-alpha + beta*w)*(alpha*beta*delta_s*theta + 2*alpha - 2*beta**2*c*delta_s*theta + beta**2*delta_s*theta*w + 2*beta*c - 4*beta*w)/(2*(beta*delta_s*theta - 1)**4)"
      ]
     },
     "metadata": {},
     "output_type": "display_data"
    },
    {
     "name": "stdout",
     "output_type": "stream",
     "text": [
      "\n",
      "h2_s\n"
     ]
    },
    {
     "data": {
      "text/latex": [
       "$\\displaystyle - \\frac{\\beta^{4} \\delta_{s}^{4} \\left(- \\alpha \\delta_{s} \\theta + \\beta c \\delta_{s} \\theta - c + w\\right)^{2}}{4 \\left(\\beta \\delta_{s} \\theta - 1\\right)^{6}}$"
      ],
      "text/plain": [
       "-beta**4*delta_s**4*(-alpha*delta_s*theta + beta*c*delta_s*theta - c + w)**2/(4*(beta*delta_s*theta - 1)**6)"
      ]
     },
     "metadata": {},
     "output_type": "display_data"
    },
    {
     "name": "stdout",
     "output_type": "stream",
     "text": [
      "\n"
     ]
    }
   ],
   "source": [
    "for key,value in BDS_all[\"QD\"].items():\n",
    "    print(key)\n",
    "    try:\n",
    "        display(value.factor())\n",
    "    except:\n",
    "        display(value)\n",
    "    print()"
   ]
  },
  {
   "cell_type": "code",
   "execution_count": null,
   "metadata": {},
   "outputs": [],
   "source": []
  },
  {
   "cell_type": "code",
   "execution_count": null,
   "metadata": {},
   "outputs": [],
   "source": []
  },
  {
   "cell_type": "code",
   "execution_count": null,
   "metadata": {},
   "outputs": [],
   "source": []
  },
  {
   "cell_type": "code",
   "execution_count": null,
   "metadata": {},
   "outputs": [],
   "source": []
  },
  {
   "cell_type": "markdown",
   "metadata": {},
   "source": [
    "# data Concat"
   ]
  },
  {
   "cell_type": "code",
   "execution_count": 12,
   "metadata": {},
   "outputs": [],
   "source": [
    "# concat 함수\n",
    "def concat_all(target,case_):\n",
    "    all_ = pd.DataFrame()\n",
    "    for ca in case_:\n",
    "        try:\n",
    "            profit_all = pd.DataFrame(globals ()[\"{}_all\".format(ca)].loc[target]).rename(columns={target:ca})\n",
    "            all_ = pd.concat([all_,profit_all],axis=1)\n",
    "        except:\n",
    "            pass\n",
    "    return all_"
   ]
  },
  {
   "cell_type": "code",
   "execution_count": 14,
   "metadata": {},
   "outputs": [
    {
     "data": {
      "text/html": [
       "<div>\n",
       "<style scoped>\n",
       "    .dataframe tbody tr th:only-of-type {\n",
       "        vertical-align: middle;\n",
       "    }\n",
       "\n",
       "    .dataframe tbody tr th {\n",
       "        vertical-align: top;\n",
       "    }\n",
       "\n",
       "    .dataframe thead th {\n",
       "        text-align: right;\n",
       "    }\n",
       "</style>\n",
       "<table border=\"1\" class=\"dataframe\">\n",
       "  <thead>\n",
       "    <tr style=\"text-align: right;\">\n",
       "      <th></th>\n",
       "      <th>ND</th>\n",
       "      <th>DD</th>\n",
       "      <th>SD</th>\n",
       "      <th>BDD</th>\n",
       "      <th>BDS</th>\n",
       "    </tr>\n",
       "  </thead>\n",
       "  <tbody>\n",
       "    <tr>\n",
       "      <th>FB</th>\n",
       "      <td>(alpha - beta*c)**2/(4*beta)</td>\n",
       "      <td>delta_d*(alpha - beta*c)**2/(4*beta)</td>\n",
       "      <td>delta_s*(alpha - beta*c)**2/(4*beta)</td>\n",
       "      <td>delta_d*(alpha - beta*c)**2/(4*beta)</td>\n",
       "      <td>delta_s*(alpha - beta*c)**2/(4*beta)</td>\n",
       "    </tr>\n",
       "    <tr>\n",
       "      <th>WH</th>\n",
       "      <td>3*(alpha - beta*c)**2/(16*beta)</td>\n",
       "      <td>3*(-alpha*delta_d + beta*c - beta*delta_d*lamb...</td>\n",
       "      <td>3*delta_s*(alpha - beta*c)**2/(16*beta)</td>\n",
       "      <td>3*(alpha*delta_d - beta*c*delta_s + beta*delta...</td>\n",
       "      <td>3*delta_s*(alpha - beta*c)**2/(16*beta)</td>\n",
       "    </tr>\n",
       "    <tr>\n",
       "      <th>QD</th>\n",
       "      <td>(3*alpha**2 - 8*alpha*beta*c + 2*alpha*beta*w ...</td>\n",
       "      <td>(alpha*delta_d + beta*delta_d*lambda - beta*la...</td>\n",
       "      <td>delta_s*(3*alpha**2 - 8*alpha*beta*c + 2*alpha...</td>\n",
       "      <td>(alpha*delta_d + beta*delta_d*lambda - beta*de...</td>\n",
       "      <td>delta_s*(3*alpha**2 - 8*alpha*beta*c + 2*alpha...</td>\n",
       "    </tr>\n",
       "  </tbody>\n",
       "</table>\n",
       "</div>"
      ],
      "text/plain": [
       "                                                   ND  \\\n",
       "FB                       (alpha - beta*c)**2/(4*beta)   \n",
       "WH                    3*(alpha - beta*c)**2/(16*beta)   \n",
       "QD  (3*alpha**2 - 8*alpha*beta*c + 2*alpha*beta*w ...   \n",
       "\n",
       "                                                   DD  \\\n",
       "FB               delta_d*(alpha - beta*c)**2/(4*beta)   \n",
       "WH  3*(-alpha*delta_d + beta*c - beta*delta_d*lamb...   \n",
       "QD  (alpha*delta_d + beta*delta_d*lambda - beta*la...   \n",
       "\n",
       "                                                   SD  \\\n",
       "FB               delta_s*(alpha - beta*c)**2/(4*beta)   \n",
       "WH            3*delta_s*(alpha - beta*c)**2/(16*beta)   \n",
       "QD  delta_s*(3*alpha**2 - 8*alpha*beta*c + 2*alpha...   \n",
       "\n",
       "                                                  BDD  \\\n",
       "FB               delta_d*(alpha - beta*c)**2/(4*beta)   \n",
       "WH  3*(alpha*delta_d - beta*c*delta_s + beta*delta...   \n",
       "QD  (alpha*delta_d + beta*delta_d*lambda - beta*de...   \n",
       "\n",
       "                                                  BDS  \n",
       "FB               delta_s*(alpha - beta*c)**2/(4*beta)  \n",
       "WH            3*delta_s*(alpha - beta*c)**2/(16*beta)  \n",
       "QD  delta_s*(3*alpha**2 - 8*alpha*beta*c + 2*alpha...  "
      ]
     },
     "execution_count": 14,
     "metadata": {},
     "output_type": "execute_result"
    }
   ],
   "source": [
    "concat_all(\"pro_all\",case_)"
   ]
  },
  {
   "cell_type": "code",
   "execution_count": 23,
   "metadata": {},
   "outputs": [
    {
     "data": {
      "text/html": [
       "<div>\n",
       "<style scoped>\n",
       "    .dataframe tbody tr th:only-of-type {\n",
       "        vertical-align: middle;\n",
       "    }\n",
       "\n",
       "    .dataframe tbody tr th {\n",
       "        vertical-align: top;\n",
       "    }\n",
       "\n",
       "    .dataframe thead th {\n",
       "        text-align: right;\n",
       "    }\n",
       "</style>\n",
       "<table border=\"1\" class=\"dataframe\">\n",
       "  <thead>\n",
       "    <tr style=\"text-align: right;\">\n",
       "      <th></th>\n",
       "      <th>FB</th>\n",
       "      <th>WH</th>\n",
       "      <th>QD</th>\n",
       "    </tr>\n",
       "  </thead>\n",
       "  <tbody>\n",
       "    <tr>\n",
       "      <th>p</th>\n",
       "      <td>(alpha + beta*c)/(2*beta)</td>\n",
       "      <td>(3*alpha*delta_d + beta*c*delta_s - beta*delta...</td>\n",
       "      <td>(3*alpha*delta_d + 2*beta*c*delta_s - beta*del...</td>\n",
       "    </tr>\n",
       "    <tr>\n",
       "      <th>q</th>\n",
       "      <td>alpha/2 - beta*c/2</td>\n",
       "      <td>(alpha*delta_d - beta*c*delta_s + beta*delta_d...</td>\n",
       "      <td>(alpha*delta_d - 2*beta*c*delta_s + beta*delta...</td>\n",
       "    </tr>\n",
       "    <tr>\n",
       "      <th>D</th>\n",
       "      <td>delta_d*(alpha/2 - beta*c/2)</td>\n",
       "      <td>alpha*delta_d/4 - beta*c*delta_s/4 + beta*delt...</td>\n",
       "      <td>alpha*delta_d/4 - beta*c*delta_s/2 + beta*delt...</td>\n",
       "    </tr>\n",
       "    <tr>\n",
       "      <th>pro_all</th>\n",
       "      <td>delta_d*(alpha - beta*c)**2/(4*beta)</td>\n",
       "      <td>3*(alpha*delta_d - beta*c*delta_s + beta*delta...</td>\n",
       "      <td>(alpha*delta_d + beta*delta_d*lambda - beta*de...</td>\n",
       "    </tr>\n",
       "    <tr>\n",
       "      <th>h1</th>\n",
       "      <td>-2*beta*delta_d</td>\n",
       "      <td>NaN</td>\n",
       "      <td>NaN</td>\n",
       "    </tr>\n",
       "    <tr>\n",
       "      <th>w</th>\n",
       "      <td>NaN</td>\n",
       "      <td>(alpha*delta_d + beta*c*delta_s + beta*delta_d...</td>\n",
       "      <td>w</td>\n",
       "    </tr>\n",
       "    <tr>\n",
       "      <th>p_w</th>\n",
       "      <td>NaN</td>\n",
       "      <td>(alpha*delta_d + beta*delta_s*w - lambda*(beta...</td>\n",
       "      <td>NaN</td>\n",
       "    </tr>\n",
       "    <tr>\n",
       "      <th>S</th>\n",
       "      <td>NaN</td>\n",
       "      <td>delta_s*(alpha*delta_d - beta*c*delta_s + beta...</td>\n",
       "      <td>delta_s*(alpha*delta_d - 2*beta*c*delta_s + be...</td>\n",
       "    </tr>\n",
       "    <tr>\n",
       "      <th>T</th>\n",
       "      <td>NaN</td>\n",
       "      <td>(alpha*delta_d + beta*c*delta_s + beta*delta_d...</td>\n",
       "      <td>(alpha*delta_d + 2*beta*c*delta_s + beta*delta...</td>\n",
       "    </tr>\n",
       "    <tr>\n",
       "      <th>pro_r</th>\n",
       "      <td>NaN</td>\n",
       "      <td>(alpha*delta_d - beta*c*delta_s + beta*delta_d...</td>\n",
       "      <td>(alpha*delta_d + beta*delta_d*lambda - beta*de...</td>\n",
       "    </tr>\n",
       "    <tr>\n",
       "      <th>pro_s</th>\n",
       "      <td>NaN</td>\n",
       "      <td>(alpha*delta_d - beta*c*delta_s + beta*delta_d...</td>\n",
       "      <td>(alpha*delta_d - 2*beta*c*delta_s + beta*delta...</td>\n",
       "    </tr>\n",
       "    <tr>\n",
       "      <th>h1_r_p</th>\n",
       "      <td>NaN</td>\n",
       "      <td>-2*beta*delta_d</td>\n",
       "      <td>2*beta**2*delta_s**2*theta - 2*beta*delta_d</td>\n",
       "    </tr>\n",
       "    <tr>\n",
       "      <th>h1_s_w</th>\n",
       "      <td>NaN</td>\n",
       "      <td>-beta*delta_s**2/delta_d</td>\n",
       "      <td>(beta**2*delta_s**4*theta - 2*beta*delta_d*del...</td>\n",
       "    </tr>\n",
       "    <tr>\n",
       "      <th>theta</th>\n",
       "      <td>NaN</td>\n",
       "      <td>NaN</td>\n",
       "      <td>-delta_d*(alpha*delta_d + 2*beta*c*delta_s + b...</td>\n",
       "    </tr>\n",
       "    <tr>\n",
       "      <th>p_w_theta</th>\n",
       "      <td>NaN</td>\n",
       "      <td>NaN</td>\n",
       "      <td>(-alpha*beta*delta_s**2*theta + alpha*delta_d ...</td>\n",
       "    </tr>\n",
       "    <tr>\n",
       "      <th>h1_s_th</th>\n",
       "      <td>NaN</td>\n",
       "      <td>NaN</td>\n",
       "      <td>-beta*delta_s**4*(alpha*delta_d + beta*delta_d...</td>\n",
       "    </tr>\n",
       "    <tr>\n",
       "      <th>h2_s</th>\n",
       "      <td>NaN</td>\n",
       "      <td>NaN</td>\n",
       "      <td>-beta**4*delta_s**8*(alpha*delta_d*delta_s*the...</td>\n",
       "    </tr>\n",
       "  </tbody>\n",
       "</table>\n",
       "</div>"
      ],
      "text/plain": [
       "                                             FB  \\\n",
       "p                     (alpha + beta*c)/(2*beta)   \n",
       "q                            alpha/2 - beta*c/2   \n",
       "D                  delta_d*(alpha/2 - beta*c/2)   \n",
       "pro_all    delta_d*(alpha - beta*c)**2/(4*beta)   \n",
       "h1                              -2*beta*delta_d   \n",
       "w                                           NaN   \n",
       "p_w                                         NaN   \n",
       "S                                           NaN   \n",
       "T                                           NaN   \n",
       "pro_r                                       NaN   \n",
       "pro_s                                       NaN   \n",
       "h1_r_p                                      NaN   \n",
       "h1_s_w                                      NaN   \n",
       "theta                                       NaN   \n",
       "p_w_theta                                   NaN   \n",
       "h1_s_th                                     NaN   \n",
       "h2_s                                        NaN   \n",
       "\n",
       "                                                          WH  \\\n",
       "p          (3*alpha*delta_d + beta*c*delta_s - beta*delta...   \n",
       "q          (alpha*delta_d - beta*c*delta_s + beta*delta_d...   \n",
       "D          alpha*delta_d/4 - beta*c*delta_s/4 + beta*delt...   \n",
       "pro_all    3*(alpha*delta_d - beta*c*delta_s + beta*delta...   \n",
       "h1                                                       NaN   \n",
       "w          (alpha*delta_d + beta*c*delta_s + beta*delta_d...   \n",
       "p_w        (alpha*delta_d + beta*delta_s*w - lambda*(beta...   \n",
       "S          delta_s*(alpha*delta_d - beta*c*delta_s + beta...   \n",
       "T          (alpha*delta_d + beta*c*delta_s + beta*delta_d...   \n",
       "pro_r      (alpha*delta_d - beta*c*delta_s + beta*delta_d...   \n",
       "pro_s      (alpha*delta_d - beta*c*delta_s + beta*delta_d...   \n",
       "h1_r_p                                       -2*beta*delta_d   \n",
       "h1_s_w                              -beta*delta_s**2/delta_d   \n",
       "theta                                                    NaN   \n",
       "p_w_theta                                                NaN   \n",
       "h1_s_th                                                  NaN   \n",
       "h2_s                                                     NaN   \n",
       "\n",
       "                                                          QD  \n",
       "p          (3*alpha*delta_d + 2*beta*c*delta_s - beta*del...  \n",
       "q          (alpha*delta_d - 2*beta*c*delta_s + beta*delta...  \n",
       "D          alpha*delta_d/4 - beta*c*delta_s/2 + beta*delt...  \n",
       "pro_all    (alpha*delta_d + beta*delta_d*lambda - beta*de...  \n",
       "h1                                                       NaN  \n",
       "w                                                          w  \n",
       "p_w                                                      NaN  \n",
       "S          delta_s*(alpha*delta_d - 2*beta*c*delta_s + be...  \n",
       "T          (alpha*delta_d + 2*beta*c*delta_s + beta*delta...  \n",
       "pro_r      (alpha*delta_d + beta*delta_d*lambda - beta*de...  \n",
       "pro_s      (alpha*delta_d - 2*beta*c*delta_s + beta*delta...  \n",
       "h1_r_p           2*beta**2*delta_s**2*theta - 2*beta*delta_d  \n",
       "h1_s_w     (beta**2*delta_s**4*theta - 2*beta*delta_d*del...  \n",
       "theta      -delta_d*(alpha*delta_d + 2*beta*c*delta_s + b...  \n",
       "p_w_theta  (-alpha*beta*delta_s**2*theta + alpha*delta_d ...  \n",
       "h1_s_th    -beta*delta_s**4*(alpha*delta_d + beta*delta_d...  \n",
       "h2_s       -beta**4*delta_s**8*(alpha*delta_d*delta_s*the...  "
      ]
     },
     "execution_count": 23,
     "metadata": {},
     "output_type": "execute_result"
    }
   ],
   "source": [
    "BDD_all"
   ]
  },
  {
   "cell_type": "code",
   "execution_count": 19,
   "metadata": {},
   "outputs": [
    {
     "data": {
      "text/latex": [
       "$\\displaystyle - 2 \\beta \\delta_{d}$"
      ],
      "text/plain": [
       "-2*beta*delta_d"
      ]
     },
     "execution_count": 19,
     "metadata": {},
     "output_type": "execute_result"
    }
   ],
   "source": [
    "DD_all[\"WH\"][\"h1_r_p\"]"
   ]
  },
  {
   "cell_type": "code",
   "execution_count": 22,
   "metadata": {},
   "outputs": [
    {
     "data": {
      "text/latex": [
       "$\\displaystyle - \\frac{\\beta}{\\delta_{d}}$"
      ],
      "text/plain": [
       "-beta/delta_d"
      ]
     },
     "execution_count": 22,
     "metadata": {},
     "output_type": "execute_result"
    }
   ],
   "source": [
    "DD_all[\"WH\"][\"h1_s_w\"]"
   ]
  },
  {
   "cell_type": "code",
   "execution_count": null,
   "metadata": {},
   "outputs": [],
   "source": []
  },
  {
   "cell_type": "code",
   "execution_count": null,
   "metadata": {},
   "outputs": [],
   "source": []
  },
  {
   "cell_type": "code",
   "execution_count": null,
   "metadata": {},
   "outputs": [],
   "source": []
  },
  {
   "cell_type": "code",
   "execution_count": 17,
   "metadata": {},
   "outputs": [
    {
     "data": {
      "text/latex": [
       "$\\displaystyle - \\frac{3 \\left(c + \\lambda\\right) \\left(\\delta_{s} - 1\\right) \\left(- 2 \\alpha \\delta_{d} + \\beta c \\delta_{s} + \\beta c - 2 \\beta \\delta_{d} \\lambda + \\beta \\delta_{s} \\lambda + \\beta \\lambda\\right)}{16 \\delta_{d}}$"
      ],
      "text/plain": [
       "-3*(c + lambda)*(delta_s - 1)*(-2*alpha*delta_d + beta*c*delta_s + beta*c - 2*beta*delta_d*lambda + beta*delta_s*lambda + beta*lambda)/(16*delta_d)"
      ]
     },
     "execution_count": 17,
     "metadata": {},
     "output_type": "execute_result"
    }
   ],
   "source": [
    "(DD_all[\"WH\"][\"pro_all\"] - BDD_all[\"WH\"][\"pro_all\"]).factor()"
   ]
  },
  {
   "cell_type": "code",
   "execution_count": null,
   "metadata": {},
   "outputs": [],
   "source": []
  },
  {
   "cell_type": "code",
   "execution_count": null,
   "metadata": {},
   "outputs": [],
   "source": []
  },
  {
   "cell_type": "code",
   "execution_count": null,
   "metadata": {},
   "outputs": [],
   "source": []
  }
 ],
 "metadata": {
  "kernelspec": {
   "display_name": "Python 3",
   "language": "python",
   "name": "python3"
  },
  "language_info": {
   "codemirror_mode": {
    "name": "ipython",
    "version": 3
   },
   "file_extension": ".py",
   "mimetype": "text/x-python",
   "name": "python",
   "nbconvert_exporter": "python",
   "pygments_lexer": "ipython3",
   "version": "3.7.6"
  }
 },
 "nbformat": 4,
 "nbformat_minor": 4
}
